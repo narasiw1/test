{
 "cells": [
  {
   "cell_type": "code",
   "execution_count": 1,
   "metadata": {
    "collapsed": false
   },
   "outputs": [],
   "source": [
    "from __future__ import print_function\n",
    "from __future__ import division\n",
    "from builtins import str\n",
    "from builtins import range\n",
    "from os.path import join as opj\n",
    "\n",
    "from nipype.interfaces.dcm2nii import Dcm2niix # to convert Dicom to Niftii\n",
    "\n",
    "\n",
    "import os                                    # system functions\n",
    "import sys\n",
    "import nipype.interfaces.io as nio           # Data i/o\n",
    "import nipype.interfaces.fsl as fsl          # fsl\n",
    "import nipype.interfaces.utility as util     # utility\n",
    "import nipype.pipeline.engine as pe          # pypeline engine\n",
    "import nipype.algorithms.modelgen as model   # model generation\n",
    "import nipype.algorithms.rapidart as ra      # artifact detection"
   ]
  },
  {
   "cell_type": "code",
   "execution_count": 2,
   "metadata": {
    "collapsed": true
   },
   "outputs": [],
   "source": [
    "# define important package paths here\n",
    "\n",
    "sys.path.append(\"/home/applications/dcm2niix/build/bin\")\n",
    "sys.path.append(\"/home/applications/fsl/5.0.10/bin\")\n",
    "sys.path.append(\"/home/applications/fsl/5.0.10/etc\")"
   ]
  },
  {
   "cell_type": "code",
   "execution_count": 3,
   "metadata": {
    "collapsed": false
   },
   "outputs": [
    {
     "data": {
      "text/plain": [
       "['LSF_EAUTH_AUX_PASS',\n",
       " 'LSB_TRAPSIGS',\n",
       " 'BSUB_BLOCK_EXEC_HOST',\n",
       " 'SHELL',\n",
       " 'LSB_DJOB_HB_INTERVAL',\n",
       " 'LSB_UNIXGROUP_INT',\n",
       " 'HISTSIZE',\n",
       " 'LS_EXEC_T',\n",
       " 'MANPATH',\n",
       " 'LSB_ERRORFILE',\n",
       " 'LSB_EEXEC_REAL_GID',\n",
       " 'JPY_PARENT_PID',\n",
       " 'FSLOUTPUTTYPE',\n",
       " 'CUDA_PATH',\n",
       " 'PYTHONPATH',\n",
       " 'LSF_INVOKE_CMD',\n",
       " 'LSB_JOBINDEX',\n",
       " 'LS_JOBPID',\n",
       " 'LSB_JOBID',\n",
       " 'FSLGECUDAQ',\n",
       " 'HOSTNAME',\n",
       " 'LSB_OUTPUTFILE',\n",
       " 'LSB_JOBRES_PID',\n",
       " 'MNI_DIR',\n",
       " 'MAIL',\n",
       " 'LS_COLORS',\n",
       " 'CONDA_PATH_BACKUP',\n",
       " 'LSFUSER',\n",
       " 'LSF_EAUTH_SERVER',\n",
       " 'module',\n",
       " 'LESSOPEN',\n",
       " 'LSF_BINDIR',\n",
       " 'CPATH',\n",
       " 'USER',\n",
       " 'LSF_ENVDIR',\n",
       " 'HOME',\n",
       " 'LSB_DJOB_NUMPROC',\n",
       " 'PS1',\n",
       " 'LSF_VERSION',\n",
       " 'FSLTCLSH',\n",
       " 'SHLVL',\n",
       " 'LSB_MCPU_HOSTS',\n",
       " 'FREESURFER_HOME',\n",
       " 'LSB_JOBFILENAME',\n",
       " 'MODULESHOME',\n",
       " 'GIT_PAGER',\n",
       " 'QTLIB',\n",
       " 'TMPDIR',\n",
       " 'MODULEPATH',\n",
       " 'SSH_CONNECTION',\n",
       " 'EGO_LIBDIR',\n",
       " 'LSB_JOBEXIT_STAT',\n",
       " 'SUBJECTS_DIR',\n",
       " '_LMFILES_',\n",
       " 'PAGER',\n",
       " 'MODULE_VERSION',\n",
       " 'G_BROKEN_FILENAMES',\n",
       " 'QTDIR',\n",
       " 'LD_LIBRARY_PATH',\n",
       " 'LANG',\n",
       " 'LSF_SERVERDIR',\n",
       " 'LSB_EXEC_CLUSTER',\n",
       " 'QTINC',\n",
       " 'CONDA_PREFIX',\n",
       " 'CONDA_PS1_BACKUP',\n",
       " '_',\n",
       " 'CONDA_DEFAULT_ENV',\n",
       " 'LSB_JOBRES_CALLBACK',\n",
       " 'LSB_CHKFILENAME',\n",
       " 'LSB_SUB_HOST',\n",
       " 'LS_SUBCWD',\n",
       " 'LSB_ECHKPNT_RSH_CMD',\n",
       " 'CUDA_HOME',\n",
       " 'LSF_LOGDIR',\n",
       " 'LSF_EAUTH_CLIENT',\n",
       " 'LSB_JOB_EXECUSER',\n",
       " 'XLSF_UIDDIR',\n",
       " 'EGO_SERVERDIR',\n",
       " 'LSF_EGO_ENVDIR',\n",
       " 'LSB_HOSTS',\n",
       " 'SSH_TTY',\n",
       " 'LSB_EXIT_PRE_ABORT',\n",
       " 'CVS_RSH',\n",
       " 'FUNCTIONALS_DIR',\n",
       " 'LSB_EEXEC_REAL_UID',\n",
       " 'FSLDIR',\n",
       " 'ahdir',\n",
       " 'EGO_CONFDIR',\n",
       " 'HOSTTYPE',\n",
       " 'SSH_CLIENT',\n",
       " 'LOGNAME',\n",
       " 'LSF_LIM_API_NTRIES',\n",
       " 'PATH',\n",
       " 'LSB_QUEUE',\n",
       " 'CUDA_LIBDIR',\n",
       " 'TERM',\n",
       " 'LSB_DJOB_HOSTFILE',\n",
       " 'LSF_LIBDIR',\n",
       " 'LSB_ACCT_FILE',\n",
       " 'FSLWISH',\n",
       " 'SBD_KRB5CCNAME_VAL',\n",
       " 'MODULE_VERSION_STACK',\n",
       " 'FSFAST_HOME',\n",
       " 'LSB_BATCH_JID',\n",
       " 'LSB_DJOB_RU_INTERVAL',\n",
       " 'LSB_JOBNAME',\n",
       " 'LOADEDMODULES',\n",
       " 'CLICOLOR',\n",
       " 'HISTCONTROL',\n",
       " 'PWD',\n",
       " 'AFNI_FLOATSCAN',\n",
       " 'MPLBACKEND',\n",
       " 'CUDA_BINDIR']"
      ]
     },
     "execution_count": 3,
     "metadata": {},
     "output_type": "execute_result"
    }
   ],
   "source": [
    "os.environ.keys()\n"
   ]
  },
  {
   "cell_type": "markdown",
   "metadata": {
    "collapsed": false
   },
   "source": [
    "\n",
    "subject_list = ['sub-01']#, 's2', 's3', 's4', 's5'\n",
    "\n",
    "for subs in subject_list:\n",
    "    os.mkdir('/scratch/sanjay/GRT/fmri_data/nifti')\n",
    "    os.mkdir('/scratch/sanjay/GRT/fmri_data/nifti/{}'.format(subs))\n",
    "    os.mkdir('/scratch/sanjay/GRT/fmri_data/nifti/{}/anat'.format(subs))\n",
    "    os.mkdir('/scratch/sanjay/GRT/fmri_data/nifti/{}/func'.format(subs))\n",
    "\n",
    "\n"
   ]
  },
  {
   "cell_type": "markdown",
   "metadata": {
    "collapsed": false
   },
   "source": [
    "sys.path.append(\"/home/applications/dcm2niix/build/bin\")\n",
    "\n",
    "\n",
    "convertnode = pe.Node(Dcm2niix(), name ='convert_dicoms')\n",
    "\n",
    "convertnode.inputs.source_dir = '/scratch/sanjay/GRT/fmri_data/sessions/session-01/'\n",
    "convertnode.inputs.output_dir = '/scratch/sanjay/GRT/fmri_data/nifti/sub-01/'\n",
    "#convertnode.inputs.merge_images = True\n",
    "\n",
    "convertnode.run()"
   ]
  },
  {
   "cell_type": "markdown",
   "metadata": {},
   "source": [
    "# Data Inputs\n",
    "\n",
    "### This is a super important section. It is where we specify the input structure for nipype. \n",
    "\n",
    "* going off http://nipype.readthedocs.io/en/latest/users/grabbing_and_sinking.html http://nipype.readthedocs.io/en/latest/users/examples/fmri_fsl.html\n",
    "* not using the complete data set right now\n",
    "* only using 1 run from the pilot\n",
    "* not sure which T1 to use, we have like 2 for each session"
   ]
  },
  {
   "cell_type": "code",
   "execution_count": 4,
   "metadata": {
    "collapsed": true
   },
   "outputs": [],
   "source": []
  },
  {
   "cell_type": "code",
   "execution_count": 4,
   "metadata": {
    "collapsed": true
   },
   "outputs": [],
   "source": [
    "data_dir = '/scratch/sanjay/GRT/fmri_data/nifti/'\n",
    "output_dir = '/scratch/sanjay/GRT/fmri_data/testing/output/'\n",
    "working_dir = '/scratch/sanjay/GRT/fmri_data/testing/output/working'\n",
    "\n",
    "# list of subject identifiers\n",
    "subject_list = ['sub-02']#, 's2', 's3', 's4', 's5'\n",
    "\n",
    "task_list = ['train_', 'test_']\n",
    "run_list = ['1','2','3','4','5','6']"
   ]
  },
  {
   "cell_type": "code",
   "execution_count": 5,
   "metadata": {
    "collapsed": true
   },
   "outputs": [],
   "source": [
    "#info = dict(func=[['subject_id', ['run01' ]]], struct=[['subject_id', 't1']])\n",
    "\n",
    "infosource = pe.Node(interface=util.IdentityInterface(fields=['subject_id','task_id','run_id']),name=\"infosource\")\n",
    "infosource.iterables = [('subject_id', subject_list),('task_id',task_list ),('run_id',run_list)]"
   ]
  },
  {
   "cell_type": "markdown",
   "metadata": {
    "collapsed": false
   },
   "source": [
    "## This needs to be part of dicom convert\n",
    "for i in range(1,7,1):\n",
    "\n",
    "    os.rename('/scratch/sanjay/GRT/fmri_data/nifti/sub-02/func/train_{}.nii.gz' .format(i), '/scratch/sanjay/GRT/fmri_data/nifti/sub-02/func/sub-02_train_{}.nii.gz' .format(i)) \n",
    "    os.rename('/scratch/sanjay/GRT/fmri_data/nifti/sub-02/func/test_{}.nii.gz' .format(i), '/scratch/sanjay/GRT/fmri_data/nifti/sub-02/func/sub-02_test_{}.nii.gz' .format(i) )"
   ]
  },
  {
   "cell_type": "markdown",
   "metadata": {},
   "source": [
    "### Getting Data\n",
    "* read this about Data grabbing http://nipype.readthedocs.io/en/latest/users/grabbing_and_sinking.html\n",
    "* and this http://nipype.readthedocs.io/en/latest/interfaces/generated/nipype.interfaces.io.html"
   ]
  },
  {
   "cell_type": "code",
   "execution_count": 6,
   "metadata": {
    "collapsed": false
   },
   "outputs": [],
   "source": [
    "# find data \n",
    "\n",
    "#datafind = pe.Node(interface=nio.DataFinder(root_paths = data_dir))"
   ]
  },
  {
   "cell_type": "markdown",
   "metadata": {
    "collapsed": false
   },
   "source": [
    "datasource = pe.Node(interface=nio.DataGrabber(infields=['subject_id','task_id'], outfields=['func']),\n",
    "                     name='Grab_data')\n",
    "datasource.inputs.base_directory = data_dir\n",
    "datasource.inputs.template = '*.nii.gz'\n",
    "datasource.inputs.template_args = {'func':[['subject_id','task_id']]}\n",
    "datasource.inputs.field_template = dict(func='%s/func/*%s*.nii.gz')\n",
    "datasource.inputs.sort_filelist = True\n",
    "\n",
    "#### we need to connect infosource to datasource \n",
    "\n",
    "\n",
    "#results = datasource.run()"
   ]
  },
  {
   "cell_type": "code",
   "execution_count": 7,
   "metadata": {
    "collapsed": false
   },
   "outputs": [],
   "source": [
    "# Something super important is that the nifti files MUST be uncompressed for this step: nii NOT nii.gz\n",
    "\n",
    "func_file = opj('{subject_id}', 'func',\n",
    "                '{subject_id}_{task_id}{run_id}.nii') # we might have to make 3rd iterable for the runs\n",
    "\n",
    "templates = {'func': func_file}\n",
    "datasource = pe.Node(nio.SelectFiles(templates),name='Get_files')\n",
    "datasource.inputs.base_directory = data_dir\n",
    "#datasource.inputs.task_id = ['train_','test_']\n",
    "#sf.inputs.subject_id = subject_list\n",
    "#sf.run()\n",
    "\n",
    "\n",
    "\n"
   ]
  },
  {
   "cell_type": "code",
   "execution_count": 8,
   "metadata": {
    "collapsed": true
   },
   "outputs": [],
   "source": []
  },
  {
   "cell_type": "code",
   "execution_count": 8,
   "metadata": {
    "collapsed": true
   },
   "outputs": [],
   "source": [
    "fsl.FSLCommand.set_default_output_type('NIFTI_GZ')"
   ]
  },
  {
   "cell_type": "code",
   "execution_count": 9,
   "metadata": {
    "collapsed": true
   },
   "outputs": [],
   "source": [
    "preproc = pe.Workflow(name='preproc') # this creates a pre-processing workflow of sorts. pe is pipleline engine"
   ]
  },
  {
   "cell_type": "code",
   "execution_count": 10,
   "metadata": {
    "collapsed": false
   },
   "outputs": [],
   "source": []
  },
  {
   "cell_type": "code",
   "execution_count": 10,
   "metadata": {
    "collapsed": true
   },
   "outputs": [],
   "source": []
  },
  {
   "cell_type": "code",
   "execution_count": 10,
   "metadata": {
    "collapsed": true
   },
   "outputs": [],
   "source": [
    "# this line takes the inputs and feeds it into the img2float conversion node\n"
   ]
  },
  {
   "cell_type": "code",
   "execution_count": 11,
   "metadata": {
    "collapsed": false
   },
   "outputs": [],
   "source": [
    "#extract_ref = pe.Node(interface=fsl.ExtractROI(t_size=1),name='extract_reference_volume') # this is supposed to extract middle volume of first run\n"
   ]
  },
  {
   "cell_type": "code",
   "execution_count": 12,
   "metadata": {
    "collapsed": true
   },
   "outputs": [],
   "source": [
    "# Define a function to pick the first file from a list of files\n"
   ]
  },
  {
   "cell_type": "markdown",
   "metadata": {
    "collapsed": true
   },
   "source": [
    "## Use FSL McFLIRT to do motion correction/slicetiming \n",
    "\n",
    "* see http://nipype.readthedocs.io/en/latest/interfaces/generated/interfaces.fsl/preprocess.html#mcflirt"
   ]
  },
  {
   "cell_type": "code",
   "execution_count": 13,
   "metadata": {
    "collapsed": false
   },
   "outputs": [],
   "source": [
    "motion_correct = pe.MapNode(interface=fsl.MCFLIRT(save_mats=True,\n",
    "                                                  save_plots=True, interpolation = 'sinc'),\n",
    "                            name='Realign_with_MCFLIRT',\n",
    "                            iterfield=['in_file'])\n",
    "\n"
   ]
  },
  {
   "cell_type": "code",
   "execution_count": 14,
   "metadata": {
    "collapsed": false
   },
   "outputs": [],
   "source": [
    "plot_motion = pe.MapNode(interface=fsl.PlotMotionParams(in_source='fsl'),\n",
    "                         name='Check_motion_plots',\n",
    "                         iterfield=['in_file'])\n",
    "plot_motion.iterables = ('plot_type', ['rotations', 'translations'])\n"
   ]
  },
  {
   "cell_type": "code",
   "execution_count": 15,
   "metadata": {
    "collapsed": false
   },
   "outputs": [],
   "source": []
  },
  {
   "cell_type": "code",
   "execution_count": 15,
   "metadata": {
    "collapsed": false
   },
   "outputs": [],
   "source": [
    "datasink = pe.Node(nio.DataSink(), name='store_outputs')\n",
    "datasink.inputs.base_directory = output_dir\n",
    "\n",
    "\n",
    "preproc.connect(infosource,'subject_id',datasource, 'subject_id')\n",
    "preproc.connect(infosource,'task_id',datasource, 'task_id')\n",
    "preproc.connect(infosource,'run_id',datasource, 'run_id')\n",
    "\n",
    "preproc.connect(datasource, 'func', motion_correct, 'in_file')\n",
    "#preproc.connect(datasource,'func', extract_ref,'in_file')\n",
    "#preproc.connect(extract_ref, 'roi_file', motion_correct, 'ref_vol') # connect the extracted middle volume to the MCFLIRT node\n",
    "#preproc.connect(infosource, datasink, [('subject_id', 'container')]) # this connection might cause problems\n",
    "preproc.connect(motion_correct, 'par_file', plot_motion, 'in_file')\n",
    "preproc.connect(motion_correct, 'par_file', datasink,'motion.par')\n",
    "preproc.connect(plot_motion, 'out_file', datasink, 'plots')"
   ]
  },
  {
   "cell_type": "code",
   "execution_count": 16,
   "metadata": {
    "collapsed": false
   },
   "outputs": [
    {
     "name": "stdout",
     "output_type": "stream",
     "text": [
      "170522-15:47:28,435 workflow INFO:\n",
      "\t Converting dotfile: /scratch/sanjay/GRT/fmri_data/testing/workflow_graph.dot to png format\n"
     ]
    },
    {
     "data": {
      "image/png": "[encoded data removed]",
      "text/plain": [
       "<IPython.core.display.Image object>"
      ]
     },
     "execution_count": 16,
     "metadata": {},
     "output_type": "execute_result"
    }
   ],
   "source": [
    "\n",
    "preproc.write_graph(\"workflow_graph.dot\", graph2use = 'colored')\n",
    "from IPython.display import Image\n",
    "Image(filename=\"workflow_graph.dot.png\")"
   ]
  },
  {
   "cell_type": "code",
   "execution_count": 17,
   "metadata": {
    "collapsed": false
   },
   "outputs": [
    {
     "name": "stdout",
     "output_type": "stream",
     "text": [
      "170522-15:47:28,472 workflow INFO:\n",
      "\t ['check', 'execution', 'logging']\n",
      "170522-15:47:28,681 workflow INFO:\n",
      "\t Running serially.\n",
      "170522-15:47:28,683 workflow INFO:\n",
      "\t Executing node Get_files.b04 in dir: /scratch/afni/tmpP7sEtL/preproc/_run_id_5_subject_id_sub-02_task_id_train_/Get_files\n",
      "170522-15:47:28,717 workflow INFO:\n",
      "\t Runtime memory and threads stats unavailable\n",
      "170522-15:47:28,720 workflow INFO:\n",
      "\t Executing node Get_files.b00 in dir: /scratch/afni/tmpWCDmlQ/preproc/_run_id_1_subject_id_sub-02_task_id_train_/Get_files\n",
      "170522-15:47:28,760 workflow INFO:\n",
      "\t Runtime memory and threads stats unavailable\n",
      "170522-15:47:28,769 workflow INFO:\n",
      "\t Executing node Realign_with_MCFLIRT.b00 in dir: /scratch/afni/tmpjEZtro/preproc/_run_id_1_subject_id_sub-02_task_id_train_/Realign_with_MCFLIRT\n",
      "170522-15:47:28,795 workflow INFO:\n",
      "\t Executing node _Realign_with_MCFLIRT0 in dir: /scratch/afni/tmpjEZtro/preproc/_run_id_1_subject_id_sub-02_task_id_train_/Realign_with_MCFLIRT/mapflow/_Realign_with_MCFLIRT0\n",
      "170522-15:47:28,818 workflow INFO:\n",
      "\t Running: mcflirt -in /scratch/sanjay/GRT/fmri_data/nifti/sub-02/func/sub-02_train_1.nii -sinc_final -out /scratch/afni/tmpjEZtro/preproc/_run_id_1_subject_id_sub-02_task_id_train_/Realign_with_MCFLIRT/mapflow/_Realign_with_MCFLIRT0/sub-02_train_1_mcf.nii.gz -mats -plots\n",
      "170522-15:55:13,439 workflow INFO:\n",
      "\t Executing node Check_motion_plots.aI.a1.b00 in dir: /scratch/afni/tmpSW_ExJ/preproc/_run_id_1_subject_id_sub-02_task_id_train_/_plot_type_translations/Check_motion_plots\n",
      "170522-15:55:13,464 workflow INFO:\n",
      "\t Executing node _Check_motion_plots0 in dir: /scratch/afni/tmpSW_ExJ/preproc/_run_id_1_subject_id_sub-02_task_id_train_/_plot_type_translations/Check_motion_plots/mapflow/_Check_motion_plots0\n",
      "170522-15:55:13,483 workflow INFO:\n",
      "\t Running: fsl_tsplot -i /scratch/afni/tmpjEZtro/preproc/_run_id_1_subject_id_sub-02_task_id_train_/Realign_with_MCFLIRT/mapflow/_Realign_with_MCFLIRT0/sub-02_train_1_mcf.nii.gz.par -o /scratch/afni/tmpjEZtro/preproc/_run_id_1_subject_id_sub-02_task_id_train_/Realign_with_MCFLIRT/mapflow/_Realign_with_MCFLIRT0/sub-02_train_1_mcf.nii.gz_trans.png -t 'MCFLIRT estimated translations (mm)' --start=4 --finish=6 -a x,y,z\n",
      "170522-15:55:14,600 workflow INFO:\n",
      "\t Executing node Get_files.b06 in dir: /scratch/afni/tmppG5ulh/preproc/_run_id_1_subject_id_sub-02_task_id_test_/Get_files\n",
      "170522-15:55:14,631 workflow INFO:\n",
      "\t Runtime memory and threads stats unavailable\n",
      "170522-15:55:14,640 workflow INFO:\n",
      "\t Executing node Check_motion_plots.aI.a0.b00 in dir: /scratch/afni/tmp_tKcDV/preproc/_run_id_1_subject_id_sub-02_task_id_train_/_plot_type_rotations/Check_motion_plots\n",
      "170522-15:55:14,662 workflow INFO:\n",
      "\t Executing node _Check_motion_plots0 in dir: /scratch/afni/tmp_tKcDV/preproc/_run_id_1_subject_id_sub-02_task_id_train_/_plot_type_rotations/Check_motion_plots/mapflow/_Check_motion_plots0\n",
      "170522-15:55:14,679 workflow INFO:\n",
      "\t Running: fsl_tsplot -i /scratch/afni/tmpjEZtro/preproc/_run_id_1_subject_id_sub-02_task_id_train_/Realign_with_MCFLIRT/mapflow/_Realign_with_MCFLIRT0/sub-02_train_1_mcf.nii.gz.par -o /scratch/afni/tmpjEZtro/preproc/_run_id_1_subject_id_sub-02_task_id_train_/Realign_with_MCFLIRT/mapflow/_Realign_with_MCFLIRT0/sub-02_train_1_mcf.nii.gz_rot.png -t 'MCFLIRT estimated rotations (radians)' --start=1 --finish=3 -a x,y,z\n",
      "170522-15:55:15,761 workflow INFO:\n",
      "\t Executing node Realign_with_MCFLIRT.b04 in dir: /scratch/afni/tmpFxv_QI/preproc/_run_id_5_subject_id_sub-02_task_id_train_/Realign_with_MCFLIRT\n",
      "170522-15:55:15,788 workflow INFO:\n",
      "\t Executing node _Realign_with_MCFLIRT0 in dir: /scratch/afni/tmpFxv_QI/preproc/_run_id_5_subject_id_sub-02_task_id_train_/Realign_with_MCFLIRT/mapflow/_Realign_with_MCFLIRT0\n",
      "170522-15:55:15,808 workflow INFO:\n",
      "\t Running: mcflirt -in /scratch/sanjay/GRT/fmri_data/nifti/sub-02/func/sub-02_train_5.nii -sinc_final -out /scratch/afni/tmpFxv_QI/preproc/_run_id_5_subject_id_sub-02_task_id_train_/Realign_with_MCFLIRT/mapflow/_Realign_with_MCFLIRT0/sub-02_train_5_mcf.nii.gz -mats -plots\n",
      "170522-16:03:02,879 workflow INFO:\n",
      "\t Executing node Check_motion_plots.aI.a0.b04 in dir: /scratch/afni/tmposYWed/preproc/_run_id_5_subject_id_sub-02_task_id_train_/_plot_type_rotations/Check_motion_plots\n",
      "170522-16:03:02,890 workflow INFO:\n",
      "\t Executing node _Check_motion_plots0 in dir: /scratch/afni/tmposYWed/preproc/_run_id_5_subject_id_sub-02_task_id_train_/_plot_type_rotations/Check_motion_plots/mapflow/_Check_motion_plots0\n",
      "170522-16:03:02,897 workflow INFO:\n",
      "\t Running: fsl_tsplot -i /scratch/afni/tmpFxv_QI/preproc/_run_id_5_subject_id_sub-02_task_id_train_/Realign_with_MCFLIRT/mapflow/_Realign_with_MCFLIRT0/sub-02_train_5_mcf.nii.gz.par -o /scratch/afni/tmpFxv_QI/preproc/_run_id_5_subject_id_sub-02_task_id_train_/Realign_with_MCFLIRT/mapflow/_Realign_with_MCFLIRT0/sub-02_train_5_mcf.nii.gz_rot.png -t 'MCFLIRT estimated rotations (radians)' --start=1 --finish=3 -a x,y,z\n",
      "170522-16:03:03,961 workflow INFO:\n",
      "\t Executing node Get_files.b02 in dir: /scratch/afni/tmpzocLNz/preproc/_run_id_3_subject_id_sub-02_task_id_train_/Get_files\n",
      "170522-16:03:03,981 workflow INFO:\n",
      "\t Runtime memory and threads stats unavailable\n",
      "170522-16:03:03,990 workflow INFO:\n",
      "\t Executing node Realign_with_MCFLIRT.b02 in dir: /scratch/afni/tmphB9D_K/preproc/_run_id_3_subject_id_sub-02_task_id_train_/Realign_with_MCFLIRT\n",
      "170522-16:03:04,2 workflow INFO:\n",
      "\t Executing node _Realign_with_MCFLIRT0 in dir: /scratch/afni/tmphB9D_K/preproc/_run_id_3_subject_id_sub-02_task_id_train_/Realign_with_MCFLIRT/mapflow/_Realign_with_MCFLIRT0\n",
      "170522-16:03:04,11 workflow INFO:\n",
      "\t Running: mcflirt -in /scratch/sanjay/GRT/fmri_data/nifti/sub-02/func/sub-02_train_3.nii -sinc_final -out /scratch/afni/tmphB9D_K/preproc/_run_id_3_subject_id_sub-02_task_id_train_/Realign_with_MCFLIRT/mapflow/_Realign_with_MCFLIRT0/sub-02_train_3_mcf.nii.gz -mats -plots\n",
      "170522-16:10:56,211 workflow INFO:\n",
      "\t Executing node store_outputs.b02 in dir: /scratch/afni/tmpix1HGm/preproc/_run_id_3_subject_id_sub-02_task_id_train_/store_outputs\n",
      "170522-16:10:56,240 workflow INFO:\n",
      "\t Runtime memory and threads stats unavailable\n",
      "170522-16:10:56,249 workflow INFO:\n",
      "\t Executing node Check_motion_plots.aI.a1.b02 in dir: /scratch/afni/tmpsSMhNy/preproc/_run_id_3_subject_id_sub-02_task_id_train_/_plot_type_translations/Check_motion_plots\n",
      "170522-16:10:56,261 workflow INFO:\n",
      "\t Executing node _Check_motion_plots0 in dir: /scratch/afni/tmpsSMhNy/preproc/_run_id_3_subject_id_sub-02_task_id_train_/_plot_type_translations/Check_motion_plots/mapflow/_Check_motion_plots0\n",
      "170522-16:10:56,270 workflow INFO:\n",
      "\t Running: fsl_tsplot -i /scratch/afni/tmphB9D_K/preproc/_run_id_3_subject_id_sub-02_task_id_train_/Realign_with_MCFLIRT/mapflow/_Realign_with_MCFLIRT0/sub-02_train_3_mcf.nii.gz.par -o /scratch/afni/tmphB9D_K/preproc/_run_id_3_subject_id_sub-02_task_id_train_/Realign_with_MCFLIRT/mapflow/_Realign_with_MCFLIRT0/sub-02_train_3_mcf.nii.gz_trans.png -t 'MCFLIRT estimated translations (mm)' --start=4 --finish=6 -a x,y,z\n",
      "170522-16:10:57,339 workflow INFO:\n",
      "\t Executing node Get_files.b11 in dir: /scratch/afni/tmpDoIvIE/preproc/_run_id_6_subject_id_sub-02_task_id_test_/Get_files\n",
      "170522-16:10:57,359 workflow INFO:\n",
      "\t Runtime memory and threads stats unavailable\n",
      "170522-16:10:57,367 workflow INFO:\n",
      "\t Executing node Check_motion_plots.aI.a1.b04 in dir: /scratch/afni/tmp79HXVi/preproc/_run_id_5_subject_id_sub-02_task_id_train_/_plot_type_translations/Check_motion_plots\n",
      "170522-16:10:57,379 workflow INFO:\n",
      "\t Executing node _Check_motion_plots0 in dir: /scratch/afni/tmp79HXVi/preproc/_run_id_5_subject_id_sub-02_task_id_train_/_plot_type_translations/Check_motion_plots/mapflow/_Check_motion_plots0\n",
      "170522-16:10:57,388 workflow INFO:\n",
      "\t Running: fsl_tsplot -i /scratch/afni/tmpFxv_QI/preproc/_run_id_5_subject_id_sub-02_task_id_train_/Realign_with_MCFLIRT/mapflow/_Realign_with_MCFLIRT0/sub-02_train_5_mcf.nii.gz.par -o /scratch/afni/tmpFxv_QI/preproc/_run_id_5_subject_id_sub-02_task_id_train_/Realign_with_MCFLIRT/mapflow/_Realign_with_MCFLIRT0/sub-02_train_5_mcf.nii.gz_trans.png -t 'MCFLIRT estimated translations (mm)' --start=4 --finish=6 -a x,y,z\n",
      "170522-16:10:58,453 workflow INFO:\n",
      "\t Executing node Get_files.b10 in dir: /scratch/afni/tmpSP0Ol3/preproc/_run_id_5_subject_id_sub-02_task_id_test_/Get_files\n",
      "170522-16:10:58,475 workflow INFO:\n",
      "\t Runtime memory and threads stats unavailable\n",
      "170522-16:10:58,484 workflow INFO:\n",
      "\t Executing node Realign_with_MCFLIRT.b06 in dir: /scratch/afni/tmpSgGa3m/preproc/_run_id_1_subject_id_sub-02_task_id_test_/Realign_with_MCFLIRT\n",
      "170522-16:10:58,496 workflow INFO:\n",
      "\t Executing node _Realign_with_MCFLIRT0 in dir: /scratch/afni/tmpSgGa3m/preproc/_run_id_1_subject_id_sub-02_task_id_test_/Realign_with_MCFLIRT/mapflow/_Realign_with_MCFLIRT0\n",
      "170522-16:10:58,505 workflow INFO:\n",
      "\t Running: mcflirt -in /scratch/sanjay/GRT/fmri_data/nifti/sub-02/func/sub-02_test_1.nii -sinc_final -out /scratch/afni/tmpSgGa3m/preproc/_run_id_1_subject_id_sub-02_task_id_test_/Realign_with_MCFLIRT/mapflow/_Realign_with_MCFLIRT0/sub-02_test_1_mcf.nii.gz -mats -plots\n",
      "170522-16:25:05,36 workflow INFO:\n",
      "\t Executing node Check_motion_plots.aI.a0.b06 in dir: /scratch/afni/tmpm4bq3f/preproc/_run_id_1_subject_id_sub-02_task_id_test_/_plot_type_rotations/Check_motion_plots\n",
      "170522-16:25:05,82 workflow INFO:\n",
      "\t Executing node _Check_motion_plots0 in dir: /scratch/afni/tmpm4bq3f/preproc/_run_id_1_subject_id_sub-02_task_id_test_/_plot_type_rotations/Check_motion_plots/mapflow/_Check_motion_plots0\n",
      "170522-16:25:05,91 workflow INFO:\n",
      "\t Running: fsl_tsplot -i /scratch/afni/tmpSgGa3m/preproc/_run_id_1_subject_id_sub-02_task_id_test_/Realign_with_MCFLIRT/mapflow/_Realign_with_MCFLIRT0/sub-02_test_1_mcf.nii.gz.par -o /scratch/afni/tmpSgGa3m/preproc/_run_id_1_subject_id_sub-02_task_id_test_/Realign_with_MCFLIRT/mapflow/_Realign_with_MCFLIRT0/sub-02_test_1_mcf.nii.gz_rot.png -t 'MCFLIRT estimated rotations (radians)' --start=1 --finish=3 -a x,y,z\n",
      "170522-16:25:06,165 workflow INFO:\n",
      "\t Executing node store_outputs.b04 in dir: /scratch/afni/tmpCfkfBv/preproc/_run_id_5_subject_id_sub-02_task_id_train_/store_outputs\n",
      "170522-16:25:06,193 workflow INFO:\n",
      "\t Runtime memory and threads stats unavailable\n",
      "170522-16:25:06,195 workflow INFO:\n",
      "\t Executing node Get_files.b05 in dir: /scratch/afni/tmpBDnvGl/preproc/_run_id_6_subject_id_sub-02_task_id_train_/Get_files\n",
      "170522-16:25:06,217 workflow INFO:\n",
      "\t Runtime memory and threads stats unavailable\n",
      "170522-16:25:06,225 workflow INFO:\n",
      "\t Executing node Realign_with_MCFLIRT.b05 in dir: /scratch/afni/tmpeWUg8V/preproc/_run_id_6_subject_id_sub-02_task_id_train_/Realign_with_MCFLIRT\n",
      "170522-16:25:06,240 workflow INFO:\n",
      "\t Executing node _Realign_with_MCFLIRT0 in dir: /scratch/afni/tmpeWUg8V/preproc/_run_id_6_subject_id_sub-02_task_id_train_/Realign_with_MCFLIRT/mapflow/_Realign_with_MCFLIRT0\n",
      "170522-16:25:06,250 workflow INFO:\n",
      "\t Running: mcflirt -in /scratch/sanjay/GRT/fmri_data/nifti/sub-02/func/sub-02_train_6.nii -sinc_final -out /scratch/afni/tmpeWUg8V/preproc/_run_id_6_subject_id_sub-02_task_id_train_/Realign_with_MCFLIRT/mapflow/_Realign_with_MCFLIRT0/sub-02_train_6_mcf.nii.gz -mats -plots\n",
      "170522-16:32:59,46 workflow INFO:\n",
      "\t Executing node Check_motion_plots.aI.a0.b05 in dir: /scratch/afni/tmp5Fq5a4/preproc/_run_id_6_subject_id_sub-02_task_id_train_/_plot_type_rotations/Check_motion_plots\n",
      "170522-16:32:59,58 workflow INFO:\n",
      "\t Executing node _Check_motion_plots0 in dir: /scratch/afni/tmp5Fq5a4/preproc/_run_id_6_subject_id_sub-02_task_id_train_/_plot_type_rotations/Check_motion_plots/mapflow/_Check_motion_plots0\n",
      "170522-16:32:59,67 workflow INFO:\n",
      "\t Running: fsl_tsplot -i /scratch/afni/tmpeWUg8V/preproc/_run_id_6_subject_id_sub-02_task_id_train_/Realign_with_MCFLIRT/mapflow/_Realign_with_MCFLIRT0/sub-02_train_6_mcf.nii.gz.par -o /scratch/afni/tmpeWUg8V/preproc/_run_id_6_subject_id_sub-02_task_id_train_/Realign_with_MCFLIRT/mapflow/_Realign_with_MCFLIRT0/sub-02_train_6_mcf.nii.gz_rot.png -t 'MCFLIRT estimated rotations (radians)' --start=1 --finish=3 -a x,y,z\n",
      "170522-16:33:00,138 workflow INFO:\n",
      "\t Executing node Check_motion_plots.aI.a1.b05 in dir: /scratch/afni/tmpYktoPX/preproc/_run_id_6_subject_id_sub-02_task_id_train_/_plot_type_translations/Check_motion_plots\n",
      "170522-16:33:00,153 workflow INFO:\n",
      "\t Executing node _Check_motion_plots0 in dir: /scratch/afni/tmpYktoPX/preproc/_run_id_6_subject_id_sub-02_task_id_train_/_plot_type_translations/Check_motion_plots/mapflow/_Check_motion_plots0\n",
      "170522-16:33:00,161 workflow INFO:\n",
      "\t Running: fsl_tsplot -i /scratch/afni/tmpeWUg8V/preproc/_run_id_6_subject_id_sub-02_task_id_train_/Realign_with_MCFLIRT/mapflow/_Realign_with_MCFLIRT0/sub-02_train_6_mcf.nii.gz.par -o /scratch/afni/tmpeWUg8V/preproc/_run_id_6_subject_id_sub-02_task_id_train_/Realign_with_MCFLIRT/mapflow/_Realign_with_MCFLIRT0/sub-02_train_6_mcf.nii.gz_trans.png -t 'MCFLIRT estimated translations (mm)' --start=4 --finish=6 -a x,y,z\n",
      "170522-16:33:01,228 workflow INFO:\n",
      "\t Executing node Realign_with_MCFLIRT.b11 in dir: /scratch/afni/tmp4mtOXI/preproc/_run_id_6_subject_id_sub-02_task_id_test_/Realign_with_MCFLIRT\n",
      "170522-16:33:01,242 workflow INFO:\n",
      "\t Executing node _Realign_with_MCFLIRT0 in dir: /scratch/afni/tmp4mtOXI/preproc/_run_id_6_subject_id_sub-02_task_id_test_/Realign_with_MCFLIRT/mapflow/_Realign_with_MCFLIRT0\n",
      "170522-16:33:01,251 workflow INFO:\n",
      "\t Running: mcflirt -in /scratch/sanjay/GRT/fmri_data/nifti/sub-02/func/sub-02_test_6.nii -sinc_final -out /scratch/afni/tmp4mtOXI/preproc/_run_id_6_subject_id_sub-02_task_id_test_/Realign_with_MCFLIRT/mapflow/_Realign_with_MCFLIRT0/sub-02_test_6_mcf.nii.gz -mats -plots\n",
      "170522-16:47:07,832 workflow INFO:\n",
      "\t Executing node Check_motion_plots.aI.a0.b11 in dir: /scratch/afni/tmpsi0QlQ/preproc/_run_id_6_subject_id_sub-02_task_id_test_/_plot_type_rotations/Check_motion_plots\n",
      "170522-16:47:07,848 workflow INFO:\n",
      "\t Executing node _Check_motion_plots0 in dir: /scratch/afni/tmpsi0QlQ/preproc/_run_id_6_subject_id_sub-02_task_id_test_/_plot_type_rotations/Check_motion_plots/mapflow/_Check_motion_plots0\n",
      "170522-16:47:07,858 workflow INFO:\n",
      "\t Running: fsl_tsplot -i /scratch/afni/tmp4mtOXI/preproc/_run_id_6_subject_id_sub-02_task_id_test_/Realign_with_MCFLIRT/mapflow/_Realign_with_MCFLIRT0/sub-02_test_6_mcf.nii.gz.par -o /scratch/afni/tmp4mtOXI/preproc/_run_id_6_subject_id_sub-02_task_id_test_/Realign_with_MCFLIRT/mapflow/_Realign_with_MCFLIRT0/sub-02_test_6_mcf.nii.gz_rot.png -t 'MCFLIRT estimated rotations (radians)' --start=1 --finish=3 -a x,y,z\n",
      "170522-16:47:08,930 workflow INFO:\n",
      "\t Executing node Check_motion_plots.aI.a1.b11 in dir: /scratch/afni/tmpegSSCc/preproc/_run_id_6_subject_id_sub-02_task_id_test_/_plot_type_translations/Check_motion_plots\n",
      "170522-16:47:08,944 workflow INFO:\n",
      "\t Executing node _Check_motion_plots0 in dir: /scratch/afni/tmpegSSCc/preproc/_run_id_6_subject_id_sub-02_task_id_test_/_plot_type_translations/Check_motion_plots/mapflow/_Check_motion_plots0\n",
      "170522-16:47:08,953 workflow INFO:\n",
      "\t Running: fsl_tsplot -i /scratch/afni/tmp4mtOXI/preproc/_run_id_6_subject_id_sub-02_task_id_test_/Realign_with_MCFLIRT/mapflow/_Realign_with_MCFLIRT0/sub-02_test_6_mcf.nii.gz.par -o /scratch/afni/tmp4mtOXI/preproc/_run_id_6_subject_id_sub-02_task_id_test_/Realign_with_MCFLIRT/mapflow/_Realign_with_MCFLIRT0/sub-02_test_6_mcf.nii.gz_trans.png -t 'MCFLIRT estimated translations (mm)' --start=4 --finish=6 -a x,y,z\n",
      "170522-16:47:10,25 workflow INFO:\n",
      "\t Executing node store_outputs.b06 in dir: /scratch/afni/tmpW0nuBO/preproc/_run_id_1_subject_id_sub-02_task_id_test_/store_outputs\n",
      "170522-16:47:10,54 workflow INFO:\n",
      "\t Runtime memory and threads stats unavailable\n",
      "170522-16:47:10,56 workflow INFO:\n",
      "\t Executing node Get_files.b09 in dir: /scratch/afni/tmpDmiJc_/preproc/_run_id_4_subject_id_sub-02_task_id_test_/Get_files\n",
      "170522-16:47:10,76 workflow INFO:\n",
      "\t Runtime memory and threads stats unavailable\n",
      "170522-16:47:10,84 workflow INFO:\n",
      "\t Executing node Realign_with_MCFLIRT.b09 in dir: /scratch/afni/tmpaVDwyu/preproc/_run_id_4_subject_id_sub-02_task_id_test_/Realign_with_MCFLIRT\n",
      "170522-16:47:10,97 workflow INFO:\n",
      "\t Executing node _Realign_with_MCFLIRT0 in dir: /scratch/afni/tmpaVDwyu/preproc/_run_id_4_subject_id_sub-02_task_id_test_/Realign_with_MCFLIRT/mapflow/_Realign_with_MCFLIRT0\n",
      "170522-16:47:10,107 workflow INFO:\n",
      "\t Running: mcflirt -in /scratch/sanjay/GRT/fmri_data/nifti/sub-02/func/sub-02_test_4.nii -sinc_final -out /scratch/afni/tmpaVDwyu/preproc/_run_id_4_subject_id_sub-02_task_id_test_/Realign_with_MCFLIRT/mapflow/_Realign_with_MCFLIRT0/sub-02_test_4_mcf.nii.gz -mats -plots\n",
      "170522-17:00:49,521 workflow INFO:\n",
      "\t Executing node Get_files.b01 in dir: /scratch/afni/tmpZLf0oe/preproc/_run_id_2_subject_id_sub-02_task_id_train_/Get_files\n",
      "170522-17:00:49,543 workflow INFO:\n",
      "\t Runtime memory and threads stats unavailable\n",
      "170522-17:00:49,551 workflow INFO:\n",
      "\t Executing node Realign_with_MCFLIRT.b01 in dir: /scratch/afni/tmp1wVVrb/preproc/_run_id_2_subject_id_sub-02_task_id_train_/Realign_with_MCFLIRT\n",
      "170522-17:00:49,564 workflow INFO:\n",
      "\t Executing node _Realign_with_MCFLIRT0 in dir: /scratch/afni/tmp1wVVrb/preproc/_run_id_2_subject_id_sub-02_task_id_train_/Realign_with_MCFLIRT/mapflow/_Realign_with_MCFLIRT0\n",
      "170522-17:00:49,573 workflow INFO:\n",
      "\t Running: mcflirt -in /scratch/sanjay/GRT/fmri_data/nifti/sub-02/func/sub-02_train_2.nii -sinc_final -out /scratch/afni/tmp1wVVrb/preproc/_run_id_2_subject_id_sub-02_task_id_train_/Realign_with_MCFLIRT/mapflow/_Realign_with_MCFLIRT0/sub-02_train_2_mcf.nii.gz -mats -plots\n",
      "170522-17:08:41,336 workflow INFO:\n",
      "\t Executing node Check_motion_plots.aI.a0.b01 in dir: /scratch/afni/tmpVC6t0v/preproc/_run_id_2_subject_id_sub-02_task_id_train_/_plot_type_rotations/Check_motion_plots\n",
      "170522-17:08:41,349 workflow INFO:\n",
      "\t Executing node _Check_motion_plots0 in dir: /scratch/afni/tmpVC6t0v/preproc/_run_id_2_subject_id_sub-02_task_id_train_/_plot_type_rotations/Check_motion_plots/mapflow/_Check_motion_plots0\n",
      "170522-17:08:41,358 workflow INFO:\n",
      "\t Running: fsl_tsplot -i /scratch/afni/tmp1wVVrb/preproc/_run_id_2_subject_id_sub-02_task_id_train_/Realign_with_MCFLIRT/mapflow/_Realign_with_MCFLIRT0/sub-02_train_2_mcf.nii.gz.par -o /scratch/afni/tmp1wVVrb/preproc/_run_id_2_subject_id_sub-02_task_id_train_/Realign_with_MCFLIRT/mapflow/_Realign_with_MCFLIRT0/sub-02_train_2_mcf.nii.gz_rot.png -t 'MCFLIRT estimated rotations (radians)' --start=1 --finish=3 -a x,y,z\n",
      "170522-17:08:42,424 workflow INFO:\n",
      "\t Executing node store_outputs.b01 in dir: /scratch/afni/tmpFf54ix/preproc/_run_id_2_subject_id_sub-02_task_id_train_/store_outputs\n",
      "170522-17:08:42,454 workflow INFO:\n",
      "\t Runtime memory and threads stats unavailable\n",
      "170522-17:08:42,462 workflow INFO:\n",
      "\t Executing node Check_motion_plots.aI.a1.b01 in dir: /scratch/afni/tmp4HLWkU/preproc/_run_id_2_subject_id_sub-02_task_id_train_/_plot_type_translations/Check_motion_plots\n",
      "170522-17:08:42,474 workflow INFO:\n",
      "\t Executing node _Check_motion_plots0 in dir: /scratch/afni/tmp4HLWkU/preproc/_run_id_2_subject_id_sub-02_task_id_train_/_plot_type_translations/Check_motion_plots/mapflow/_Check_motion_plots0\n",
      "170522-17:08:42,482 workflow INFO:\n",
      "\t Running: fsl_tsplot -i /scratch/afni/tmp1wVVrb/preproc/_run_id_2_subject_id_sub-02_task_id_train_/Realign_with_MCFLIRT/mapflow/_Realign_with_MCFLIRT0/sub-02_train_2_mcf.nii.gz.par -o /scratch/afni/tmp1wVVrb/preproc/_run_id_2_subject_id_sub-02_task_id_train_/Realign_with_MCFLIRT/mapflow/_Realign_with_MCFLIRT0/sub-02_train_2_mcf.nii.gz_trans.png -t 'MCFLIRT estimated translations (mm)' --start=4 --finish=6 -a x,y,z\n",
      "170522-17:08:43,552 workflow INFO:\n",
      "\t Executing node Check_motion_plots.aI.a0.b02 in dir: /scratch/afni/tmpL0W3ns/preproc/_run_id_3_subject_id_sub-02_task_id_train_/_plot_type_rotations/Check_motion_plots\n",
      "170522-17:08:43,563 workflow INFO:\n",
      "\t Executing node _Check_motion_plots0 in dir: /scratch/afni/tmpL0W3ns/preproc/_run_id_3_subject_id_sub-02_task_id_train_/_plot_type_rotations/Check_motion_plots/mapflow/_Check_motion_plots0\n",
      "170522-17:08:43,571 workflow INFO:\n",
      "\t Running: fsl_tsplot -i /scratch/afni/tmphB9D_K/preproc/_run_id_3_subject_id_sub-02_task_id_train_/Realign_with_MCFLIRT/mapflow/_Realign_with_MCFLIRT0/sub-02_train_3_mcf.nii.gz.par -o /scratch/afni/tmphB9D_K/preproc/_run_id_3_subject_id_sub-02_task_id_train_/Realign_with_MCFLIRT/mapflow/_Realign_with_MCFLIRT0/sub-02_train_3_mcf.nii.gz_rot.png -t 'MCFLIRT estimated rotations (radians)' --start=1 --finish=3 -a x,y,z\n",
      "170522-17:08:44,637 workflow INFO:\n",
      "\t Executing node store_outputs.b11 in dir: /scratch/afni/tmppJZMD7/preproc/_run_id_6_subject_id_sub-02_task_id_test_/store_outputs\n",
      "170522-17:08:44,659 workflow INFO:\n",
      "\t Runtime memory and threads stats unavailable\n",
      "170522-17:08:44,667 workflow INFO:\n",
      "\t Executing node Check_motion_plots.aI.a0.b09 in dir: /scratch/afni/tmpdjhhLP/preproc/_run_id_4_subject_id_sub-02_task_id_test_/_plot_type_rotations/Check_motion_plots\n",
      "170522-17:08:44,679 workflow INFO:\n",
      "\t Executing node _Check_motion_plots0 in dir: /scratch/afni/tmpdjhhLP/preproc/_run_id_4_subject_id_sub-02_task_id_test_/_plot_type_rotations/Check_motion_plots/mapflow/_Check_motion_plots0\n",
      "170522-17:08:44,687 workflow INFO:\n",
      "\t Running: fsl_tsplot -i /scratch/afni/tmpaVDwyu/preproc/_run_id_4_subject_id_sub-02_task_id_test_/Realign_with_MCFLIRT/mapflow/_Realign_with_MCFLIRT0/sub-02_test_4_mcf.nii.gz.par -o /scratch/afni/tmpaVDwyu/preproc/_run_id_4_subject_id_sub-02_task_id_test_/Realign_with_MCFLIRT/mapflow/_Realign_with_MCFLIRT0/sub-02_test_4_mcf.nii.gz_rot.png -t 'MCFLIRT estimated rotations (radians)' --start=1 --finish=3 -a x,y,z\n",
      "170522-17:08:45,758 workflow INFO:\n",
      "\t Executing node store_outputs.b05 in dir: /scratch/afni/tmp8zIviW/preproc/_run_id_6_subject_id_sub-02_task_id_train_/store_outputs\n",
      "170522-17:08:45,780 workflow INFO:\n",
      "\t Runtime memory and threads stats unavailable\n",
      "170522-17:08:45,788 workflow INFO:\n",
      "\t Executing node Check_motion_plots.aI.a1.b06 in dir: /scratch/afni/tmpgi5XdE/preproc/_run_id_1_subject_id_sub-02_task_id_test_/_plot_type_translations/Check_motion_plots\n",
      "170522-17:08:45,800 workflow INFO:\n",
      "\t Executing node _Check_motion_plots0 in dir: /scratch/afni/tmpgi5XdE/preproc/_run_id_1_subject_id_sub-02_task_id_test_/_plot_type_translations/Check_motion_plots/mapflow/_Check_motion_plots0\n",
      "170522-17:08:45,808 workflow INFO:\n",
      "\t Running: fsl_tsplot -i /scratch/afni/tmpSgGa3m/preproc/_run_id_1_subject_id_sub-02_task_id_test_/Realign_with_MCFLIRT/mapflow/_Realign_with_MCFLIRT0/sub-02_test_1_mcf.nii.gz.par -o /scratch/afni/tmpSgGa3m/preproc/_run_id_1_subject_id_sub-02_task_id_test_/Realign_with_MCFLIRT/mapflow/_Realign_with_MCFLIRT0/sub-02_test_1_mcf.nii.gz_trans.png -t 'MCFLIRT estimated translations (mm)' --start=4 --finish=6 -a x,y,z\n",
      "170522-17:08:46,877 workflow INFO:\n",
      "\t Executing node Check_motion_plots.aI.a1.b09 in dir: /scratch/afni/tmpxzvRhv/preproc/_run_id_4_subject_id_sub-02_task_id_test_/_plot_type_translations/Check_motion_plots\n",
      "170522-17:08:46,889 workflow INFO:\n",
      "\t Executing node _Check_motion_plots0 in dir: /scratch/afni/tmpxzvRhv/preproc/_run_id_4_subject_id_sub-02_task_id_test_/_plot_type_translations/Check_motion_plots/mapflow/_Check_motion_plots0\n",
      "170522-17:08:46,897 workflow INFO:\n",
      "\t Running: fsl_tsplot -i /scratch/afni/tmpaVDwyu/preproc/_run_id_4_subject_id_sub-02_task_id_test_/Realign_with_MCFLIRT/mapflow/_Realign_with_MCFLIRT0/sub-02_test_4_mcf.nii.gz.par -o /scratch/afni/tmpaVDwyu/preproc/_run_id_4_subject_id_sub-02_task_id_test_/Realign_with_MCFLIRT/mapflow/_Realign_with_MCFLIRT0/sub-02_test_4_mcf.nii.gz_trans.png -t 'MCFLIRT estimated translations (mm)' --start=4 --finish=6 -a x,y,z\n",
      "170522-17:08:47,965 workflow INFO:\n",
      "\t Executing node store_outputs.b09 in dir: /scratch/afni/tmpikoWwj/preproc/_run_id_4_subject_id_sub-02_task_id_test_/store_outputs\n",
      "170522-17:08:47,988 workflow INFO:\n",
      "\t Runtime memory and threads stats unavailable\n",
      "170522-17:08:47,990 workflow INFO:\n",
      "\t Executing node Get_files.b03 in dir: /scratch/afni/tmp5SGeUQ/preproc/_run_id_4_subject_id_sub-02_task_id_train_/Get_files\n",
      "170522-17:08:48,9 workflow INFO:\n",
      "\t Runtime memory and threads stats unavailable\n",
      "170522-17:08:48,17 workflow INFO:\n",
      "\t Executing node Realign_with_MCFLIRT.b03 in dir: /scratch/afni/tmpcT1qem/preproc/_run_id_4_subject_id_sub-02_task_id_train_/Realign_with_MCFLIRT\n",
      "170522-17:08:48,30 workflow INFO:\n",
      "\t Executing node _Realign_with_MCFLIRT0 in dir: /scratch/afni/tmpcT1qem/preproc/_run_id_4_subject_id_sub-02_task_id_train_/Realign_with_MCFLIRT/mapflow/_Realign_with_MCFLIRT0\n",
      "170522-17:08:48,39 workflow INFO:\n",
      "\t Running: mcflirt -in /scratch/sanjay/GRT/fmri_data/nifti/sub-02/func/sub-02_train_4.nii -sinc_final -out /scratch/afni/tmpcT1qem/preproc/_run_id_4_subject_id_sub-02_task_id_train_/Realign_with_MCFLIRT/mapflow/_Realign_with_MCFLIRT0/sub-02_train_4_mcf.nii.gz -mats -plots\n",
      "170522-17:17:00,765 workflow INFO:\n",
      "\t Executing node store_outputs.b03 in dir: /scratch/afni/tmp45gZlh/preproc/_run_id_4_subject_id_sub-02_task_id_train_/store_outputs\n",
      "170522-17:17:00,794 workflow INFO:\n",
      "\t Runtime memory and threads stats unavailable\n",
      "170522-17:17:00,802 workflow INFO:\n",
      "\t Executing node Check_motion_plots.aI.a0.b03 in dir: /scratch/afni/tmpLkNQaM/preproc/_run_id_4_subject_id_sub-02_task_id_train_/_plot_type_rotations/Check_motion_plots\n",
      "170522-17:17:00,814 workflow INFO:\n",
      "\t Executing node _Check_motion_plots0 in dir: /scratch/afni/tmpLkNQaM/preproc/_run_id_4_subject_id_sub-02_task_id_train_/_plot_type_rotations/Check_motion_plots/mapflow/_Check_motion_plots0\n",
      "170522-17:17:00,823 workflow INFO:\n",
      "\t Running: fsl_tsplot -i /scratch/afni/tmpcT1qem/preproc/_run_id_4_subject_id_sub-02_task_id_train_/Realign_with_MCFLIRT/mapflow/_Realign_with_MCFLIRT0/sub-02_train_4_mcf.nii.gz.par -o /scratch/afni/tmpcT1qem/preproc/_run_id_4_subject_id_sub-02_task_id_train_/Realign_with_MCFLIRT/mapflow/_Realign_with_MCFLIRT0/sub-02_train_4_mcf.nii.gz_rot.png -t 'MCFLIRT estimated rotations (radians)' --start=1 --finish=3 -a x,y,z\n",
      "170522-17:17:01,913 workflow INFO:\n",
      "\t Executing node Check_motion_plots.aI.a1.b03 in dir: /scratch/afni/tmp5Hpq88/preproc/_run_id_4_subject_id_sub-02_task_id_train_/_plot_type_translations/Check_motion_plots\n",
      "170522-17:17:01,928 workflow INFO:\n",
      "\t Executing node _Check_motion_plots0 in dir: /scratch/afni/tmp5Hpq88/preproc/_run_id_4_subject_id_sub-02_task_id_train_/_plot_type_translations/Check_motion_plots/mapflow/_Check_motion_plots0\n",
      "170522-17:17:01,940 workflow INFO:\n",
      "\t Running: fsl_tsplot -i /scratch/afni/tmpcT1qem/preproc/_run_id_4_subject_id_sub-02_task_id_train_/Realign_with_MCFLIRT/mapflow/_Realign_with_MCFLIRT0/sub-02_train_4_mcf.nii.gz.par -o /scratch/afni/tmpcT1qem/preproc/_run_id_4_subject_id_sub-02_task_id_train_/Realign_with_MCFLIRT/mapflow/_Realign_with_MCFLIRT0/sub-02_train_4_mcf.nii.gz_trans.png -t 'MCFLIRT estimated translations (mm)' --start=4 --finish=6 -a x,y,z\n",
      "170522-17:17:03,11 workflow INFO:\n",
      "\t Executing node Realign_with_MCFLIRT.b10 in dir: /scratch/afni/tmpRhaW_Y/preproc/_run_id_5_subject_id_sub-02_task_id_test_/Realign_with_MCFLIRT\n",
      "170522-17:17:03,26 workflow INFO:\n",
      "\t Executing node _Realign_with_MCFLIRT0 in dir: /scratch/afni/tmpRhaW_Y/preproc/_run_id_5_subject_id_sub-02_task_id_test_/Realign_with_MCFLIRT/mapflow/_Realign_with_MCFLIRT0\n",
      "170522-17:17:03,37 workflow INFO:\n",
      "\t Running: mcflirt -in /scratch/sanjay/GRT/fmri_data/nifti/sub-02/func/sub-02_test_5.nii -sinc_final -out /scratch/afni/tmpRhaW_Y/preproc/_run_id_5_subject_id_sub-02_task_id_test_/Realign_with_MCFLIRT/mapflow/_Realign_with_MCFLIRT0/sub-02_test_5_mcf.nii.gz -mats -plots\n",
      "170522-17:31:11,557 workflow INFO:\n",
      "\t Executing node store_outputs.b10 in dir: /scratch/afni/tmpEq67Eo/preproc/_run_id_5_subject_id_sub-02_task_id_test_/store_outputs\n",
      "170522-17:31:11,583 workflow INFO:\n",
      "\t Runtime memory and threads stats unavailable\n",
      "170522-17:31:11,591 workflow INFO:\n",
      "\t Executing node Check_motion_plots.aI.a0.b10 in dir: /scratch/afni/tmpq8lWDu/preproc/_run_id_5_subject_id_sub-02_task_id_test_/_plot_type_rotations/Check_motion_plots\n",
      "170522-17:31:11,606 workflow INFO:\n",
      "\t Executing node _Check_motion_plots0 in dir: /scratch/afni/tmpq8lWDu/preproc/_run_id_5_subject_id_sub-02_task_id_test_/_plot_type_rotations/Check_motion_plots/mapflow/_Check_motion_plots0\n",
      "170522-17:31:11,615 workflow INFO:\n",
      "\t Running: fsl_tsplot -i /scratch/afni/tmpRhaW_Y/preproc/_run_id_5_subject_id_sub-02_task_id_test_/Realign_with_MCFLIRT/mapflow/_Realign_with_MCFLIRT0/sub-02_test_5_mcf.nii.gz.par -o /scratch/afni/tmpRhaW_Y/preproc/_run_id_5_subject_id_sub-02_task_id_test_/Realign_with_MCFLIRT/mapflow/_Realign_with_MCFLIRT0/sub-02_test_5_mcf.nii.gz_rot.png -t 'MCFLIRT estimated rotations (radians)' --start=1 --finish=3 -a x,y,z\n",
      "170522-17:31:12,682 workflow INFO:\n",
      "\t Executing node Check_motion_plots.aI.a1.b10 in dir: /scratch/afni/tmpY9QH6a/preproc/_run_id_5_subject_id_sub-02_task_id_test_/_plot_type_translations/Check_motion_plots\n",
      "170522-17:31:12,697 workflow INFO:\n",
      "\t Executing node _Check_motion_plots0 in dir: /scratch/afni/tmpY9QH6a/preproc/_run_id_5_subject_id_sub-02_task_id_test_/_plot_type_translations/Check_motion_plots/mapflow/_Check_motion_plots0\n",
      "170522-17:31:12,707 workflow INFO:\n",
      "\t Running: fsl_tsplot -i /scratch/afni/tmpRhaW_Y/preproc/_run_id_5_subject_id_sub-02_task_id_test_/Realign_with_MCFLIRT/mapflow/_Realign_with_MCFLIRT0/sub-02_test_5_mcf.nii.gz.par -o /scratch/afni/tmpRhaW_Y/preproc/_run_id_5_subject_id_sub-02_task_id_test_/Realign_with_MCFLIRT/mapflow/_Realign_with_MCFLIRT0/sub-02_test_5_mcf.nii.gz_trans.png -t 'MCFLIRT estimated translations (mm)' --start=4 --finish=6 -a x,y,z\n",
      "170522-17:31:13,773 workflow INFO:\n",
      "\t Executing node store_outputs.b00 in dir: /scratch/afni/tmpH5ZeTx/preproc/_run_id_1_subject_id_sub-02_task_id_train_/store_outputs\n",
      "170522-17:31:13,801 workflow INFO:\n",
      "\t Runtime memory and threads stats unavailable\n",
      "170522-17:31:13,803 workflow INFO:\n",
      "\t Executing node Get_files.b08 in dir: /scratch/afni/tmp1Wg2WP/preproc/_run_id_3_subject_id_sub-02_task_id_test_/Get_files\n",
      "170522-17:31:13,824 workflow INFO:\n",
      "\t Runtime memory and threads stats unavailable\n",
      "170522-17:31:13,832 workflow INFO:\n",
      "\t Executing node Realign_with_MCFLIRT.b08 in dir: /scratch/afni/tmpr72L5N/preproc/_run_id_3_subject_id_sub-02_task_id_test_/Realign_with_MCFLIRT\n",
      "170522-17:31:13,846 workflow INFO:\n",
      "\t Executing node _Realign_with_MCFLIRT0 in dir: /scratch/afni/tmpr72L5N/preproc/_run_id_3_subject_id_sub-02_task_id_test_/Realign_with_MCFLIRT/mapflow/_Realign_with_MCFLIRT0\n",
      "170522-17:31:13,855 workflow INFO:\n",
      "\t Running: mcflirt -in /scratch/sanjay/GRT/fmri_data/nifti/sub-02/func/sub-02_test_3.nii -sinc_final -out /scratch/afni/tmpr72L5N/preproc/_run_id_3_subject_id_sub-02_task_id_test_/Realign_with_MCFLIRT/mapflow/_Realign_with_MCFLIRT0/sub-02_test_3_mcf.nii.gz -mats -plots\n",
      "170522-17:45:39,267 workflow INFO:\n",
      "\t Executing node store_outputs.b08 in dir: /scratch/afni/tmp386cqJ/preproc/_run_id_3_subject_id_sub-02_task_id_test_/store_outputs\n",
      "170522-17:45:39,294 workflow INFO:\n",
      "\t Runtime memory and threads stats unavailable\n",
      "170522-17:45:39,303 workflow INFO:\n",
      "\t Executing node Check_motion_plots.aI.a0.b08 in dir: /scratch/afni/tmp3Zsfbo/preproc/_run_id_3_subject_id_sub-02_task_id_test_/_plot_type_rotations/Check_motion_plots\n",
      "170522-17:45:39,317 workflow INFO:\n",
      "\t Executing node _Check_motion_plots0 in dir: /scratch/afni/tmp3Zsfbo/preproc/_run_id_3_subject_id_sub-02_task_id_test_/_plot_type_rotations/Check_motion_plots/mapflow/_Check_motion_plots0\n",
      "170522-17:45:39,326 workflow INFO:\n",
      "\t Running: fsl_tsplot -i /scratch/afni/tmpr72L5N/preproc/_run_id_3_subject_id_sub-02_task_id_test_/Realign_with_MCFLIRT/mapflow/_Realign_with_MCFLIRT0/sub-02_test_3_mcf.nii.gz.par -o /scratch/afni/tmpr72L5N/preproc/_run_id_3_subject_id_sub-02_task_id_test_/Realign_with_MCFLIRT/mapflow/_Realign_with_MCFLIRT0/sub-02_test_3_mcf.nii.gz_rot.png -t 'MCFLIRT estimated rotations (radians)' --start=1 --finish=3 -a x,y,z\n",
      "170522-17:45:40,397 workflow INFO:\n",
      "\t Executing node Check_motion_plots.aI.a1.b08 in dir: /scratch/afni/tmpkiJV4W/preproc/_run_id_3_subject_id_sub-02_task_id_test_/_plot_type_translations/Check_motion_plots\n",
      "170522-17:45:40,412 workflow INFO:\n",
      "\t Executing node _Check_motion_plots0 in dir: /scratch/afni/tmpkiJV4W/preproc/_run_id_3_subject_id_sub-02_task_id_test_/_plot_type_translations/Check_motion_plots/mapflow/_Check_motion_plots0\n",
      "170522-17:45:40,422 workflow INFO:\n",
      "\t Running: fsl_tsplot -i /scratch/afni/tmpr72L5N/preproc/_run_id_3_subject_id_sub-02_task_id_test_/Realign_with_MCFLIRT/mapflow/_Realign_with_MCFLIRT0/sub-02_test_3_mcf.nii.gz.par -o /scratch/afni/tmpr72L5N/preproc/_run_id_3_subject_id_sub-02_task_id_test_/Realign_with_MCFLIRT/mapflow/_Realign_with_MCFLIRT0/sub-02_test_3_mcf.nii.gz_trans.png -t 'MCFLIRT estimated translations (mm)' --start=4 --finish=6 -a x,y,z\n",
      "170522-17:45:41,486 workflow INFO:\n",
      "\t Executing node Get_files.b07 in dir: /scratch/afni/tmpRax9eX/preproc/_run_id_2_subject_id_sub-02_task_id_test_/Get_files\n",
      "170522-17:45:41,508 workflow INFO:\n",
      "\t Runtime memory and threads stats unavailable\n",
      "170522-17:45:41,517 workflow INFO:\n",
      "\t Executing node Realign_with_MCFLIRT.b07 in dir: /scratch/afni/tmpBra5H8/preproc/_run_id_2_subject_id_sub-02_task_id_test_/Realign_with_MCFLIRT\n",
      "170522-17:45:41,531 workflow INFO:\n",
      "\t Executing node _Realign_with_MCFLIRT0 in dir: /scratch/afni/tmpBra5H8/preproc/_run_id_2_subject_id_sub-02_task_id_test_/Realign_with_MCFLIRT/mapflow/_Realign_with_MCFLIRT0\n",
      "170522-17:45:41,541 workflow INFO:\n",
      "\t Running: mcflirt -in /scratch/sanjay/GRT/fmri_data/nifti/sub-02/func/sub-02_test_2.nii -sinc_final -out /scratch/afni/tmpBra5H8/preproc/_run_id_2_subject_id_sub-02_task_id_test_/Realign_with_MCFLIRT/mapflow/_Realign_with_MCFLIRT0/sub-02_test_2_mcf.nii.gz -mats -plots\n",
      "170522-18:00:00,349 workflow INFO:\n",
      "\t Executing node store_outputs.b07 in dir: /scratch/afni/tmpJiqSJS/preproc/_run_id_2_subject_id_sub-02_task_id_test_/store_outputs\n",
      "170522-18:00:00,375 workflow INFO:\n",
      "\t Runtime memory and threads stats unavailable\n",
      "170522-18:00:00,383 workflow INFO:\n",
      "\t Executing node Check_motion_plots.aI.a0.b07 in dir: /scratch/afni/tmpma5nou/preproc/_run_id_2_subject_id_sub-02_task_id_test_/_plot_type_rotations/Check_motion_plots\n",
      "170522-18:00:00,397 workflow INFO:\n",
      "\t Executing node _Check_motion_plots0 in dir: /scratch/afni/tmpma5nou/preproc/_run_id_2_subject_id_sub-02_task_id_test_/_plot_type_rotations/Check_motion_plots/mapflow/_Check_motion_plots0\n",
      "170522-18:00:00,405 workflow INFO:\n",
      "\t Running: fsl_tsplot -i /scratch/afni/tmpBra5H8/preproc/_run_id_2_subject_id_sub-02_task_id_test_/Realign_with_MCFLIRT/mapflow/_Realign_with_MCFLIRT0/sub-02_test_2_mcf.nii.gz.par -o /scratch/afni/tmpBra5H8/preproc/_run_id_2_subject_id_sub-02_task_id_test_/Realign_with_MCFLIRT/mapflow/_Realign_with_MCFLIRT0/sub-02_test_2_mcf.nii.gz_rot.png -t 'MCFLIRT estimated rotations (radians)' --start=1 --finish=3 -a x,y,z\n",
      "170522-18:00:01,475 workflow INFO:\n",
      "\t Executing node Check_motion_plots.aI.a1.b07 in dir: /scratch/afni/tmpjMOqqq/preproc/_run_id_2_subject_id_sub-02_task_id_test_/_plot_type_translations/Check_motion_plots\n",
      "170522-18:00:01,489 workflow INFO:\n",
      "\t Executing node _Check_motion_plots0 in dir: /scratch/afni/tmpjMOqqq/preproc/_run_id_2_subject_id_sub-02_task_id_test_/_plot_type_translations/Check_motion_plots/mapflow/_Check_motion_plots0\n",
      "170522-18:00:01,497 workflow INFO:\n",
      "\t Running: fsl_tsplot -i /scratch/afni/tmpBra5H8/preproc/_run_id_2_subject_id_sub-02_task_id_test_/Realign_with_MCFLIRT/mapflow/_Realign_with_MCFLIRT0/sub-02_test_2_mcf.nii.gz.par -o /scratch/afni/tmpBra5H8/preproc/_run_id_2_subject_id_sub-02_task_id_test_/Realign_with_MCFLIRT/mapflow/_Realign_with_MCFLIRT0/sub-02_test_2_mcf.nii.gz_trans.png -t 'MCFLIRT estimated translations (mm)' --start=4 --finish=6 -a x,y,z\n"
     ]
    },
    {
     "data": {
      "text/plain": [
       "<networkx.classes.digraph.DiGraph at 0x2b06cae6d910>"
      ]
     },
     "execution_count": 17,
     "metadata": {},
     "output_type": "execute_result"
    }
   ],
   "source": [
    "preproc.run()"
   ]
  },
  {
   "cell_type": "markdown",
   "metadata": {
    "collapsed": true
   },
   "source": [
    "test_pipeline = pe.Workflow(name=\"till_motion_correct\")\n",
    "test_pipeline.base_dir = working_dir\n",
    "test_pipeline.config = {\"execution\": {\"crashdump_dir\": working_dir }}\n",
    "\n",
    "test_pipeline.connect([(infosource, datasource, [('subject_id', 'subject_id')]),\n",
    "                    (infosource, test_pipeline, [(('subject_id', subjectinfo), 'modelfit.modelspec.subject_info')]),\n",
    "                    (datasource, test_pipeline, [('struct', 'preproc.inputspec.struct'),\n",
    "                                              ('func', 'preproc.inputspec.func'),\n",
    "                                              ]),\n",
    "                    ])"
   ]
  }
 ],
 "metadata": {
  "anaconda-cloud": {},
  "kernelspec": {
   "display_name": "Python [Root]",
   "language": "python",
   "name": "Python [Root]"
  },
  "language_info": {
   "codemirror_mode": {
    "name": "ipython",
    "version": 2
   },
   "file_extension": ".py",
   "mimetype": "text/x-python",
   "name": "python",
   "nbconvert_exporter": "python",
   "pygments_lexer": "ipython2",
   "version": "2.7.12"
  }
 },
 "nbformat": 4,
 "nbformat_minor": 0
}
