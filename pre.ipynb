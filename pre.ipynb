{
 "metadata": {
  "anaconda-cloud": {},
  "kernelspec": {
   "display_name": "Python [Root]",
   "language": "python",
   "name": "Python [Root]"
  },
  "language_info": {
   "codemirror_mode": {
    "name": "ipython",
    "version": 2
   },
   "file_extension": ".py",
   "mimetype": "text/x-python",
   "name": "python",
   "nbconvert_exporter": "python",
   "pygments_lexer": "ipython2",
   "version": "2.7.12"
  },
  "name": ""
 },
 "nbformat": 3,
 "nbformat_minor": 0,
 "worksheets": [
  {
   "cells": [
    {
     "cell_type": "code",
     "collapsed": true,
     "input": [
      "import ipyparallel\n",
      "from tempfile import TemporaryFile\n",
      "data = TemporaryFile()    "
     ],
     "language": "python",
     "metadata": {},
     "outputs": [],
     "prompt_number": 1
    },
    {
     "cell_type": "code",
     "collapsed": true,
     "input": [
      "#clients = ipyparallel.Client('/home/snara025/.ipython/profile_myprofile/security/ipcontroller-client.json')#, url_file='/home/snara025/.ipython/profile_myprofile/security/ipcontroller-client.json', sshserver='192.168.233.126',\n",
      "#clients.ids\n",
      "\n",
      "#lview = clients.load_balanced_view() \n",
      "#dview = clients[:]"
     ],
     "language": "python",
     "metadata": {},
     "outputs": [],
     "prompt_number": 2
    },
    {
     "cell_type": "code",
     "collapsed": false,
     "input": [
      "#%%px --local\n",
      "\n",
      "from __future__ import print_function\n",
      "from __future__ import division\n",
      "from builtins import str\n",
      "from builtins import range\n",
      "from os.path import join as opj\n",
      "\n",
      "from nipype.interfaces.dcm2nii import Dcm2niix # to convert Dicom to Niftii\n",
      "\n",
      "\n",
      "import os                                    # system functions\n",
      "import sys\n",
      "import nipype.interfaces.io as nio           # Data i/o\n",
      "import nipype.interfaces.fsl as fsl          # fsl\n",
      "import nipype.interfaces.afni as afni\n",
      "import nipype.interfaces.utility as util     # utility\n",
      "import nipype.pipeline.engine as pe          # pypeline engine\n",
      "import nipype.algorithms.modelgen as model   # model generation\n",
      "import nipype.algorithms.rapidart as ra      # artifact detection"
     ],
     "language": "python",
     "metadata": {},
     "outputs": [],
     "prompt_number": 3
    },
    {
     "cell_type": "code",
     "collapsed": false,
     "input": [
      "#%%px --local\n",
      "# define important package paths here\n",
      "#os.system('module load fsl/5.0.10')\n",
      "#os.system('module load afni')\n",
      "sys.path.append(\"/home/applications/dcm2niix/build/bin\")\n",
      "sys.path.append(\"/home/applications/fsl/5.0.10/bin\")\n",
      "sys.path.append(\"/home/applications/fsl/5.0.10/etc\")\n",
      "sys.path.append('/home/applications/afni/abin')"
     ],
     "language": "python",
     "metadata": {},
     "outputs": [],
     "prompt_number": 4
    },
    {
     "cell_type": "code",
     "collapsed": false,
     "input": [
      "os.environ.keys()\n"
     ],
     "language": "python",
     "metadata": {
      "scrolled": true
     },
     "outputs": [
      {
       "output_type": "pyout",
       "prompt_number": 5,
       "text": [
        "['LSF_EAUTH_AUX_PASS',\n",
        " 'LSB_TRAPSIGS',\n",
        " 'BSUB_BLOCK_EXEC_HOST',\n",
        " 'SHELL',\n",
        " 'LSB_DJOB_HB_INTERVAL',\n",
        " 'LSB_UNIXGROUP_INT',\n",
        " 'HISTSIZE',\n",
        " 'LS_EXEC_T',\n",
        " 'MANPATH',\n",
        " 'LSB_ERRORFILE',\n",
        " 'LSB_EEXEC_REAL_GID',\n",
        " 'JPY_PARENT_PID',\n",
        " 'FSLOUTPUTTYPE',\n",
        " 'CUDA_PATH',\n",
        " 'PYTHONPATH',\n",
        " 'LSF_INVOKE_CMD',\n",
        " 'LSB_JOBINDEX',\n",
        " 'LS_JOBPID',\n",
        " 'LSB_JOBID',\n",
        " 'FSLGECUDAQ',\n",
        " 'HOSTNAME',\n",
        " 'LSB_OUTPUTFILE',\n",
        " 'LSB_JOBRES_PID',\n",
        " 'MNI_DIR',\n",
        " 'MAIL',\n",
        " 'LS_COLORS',\n",
        " 'CONDA_PATH_BACKUP',\n",
        " 'LSFUSER',\n",
        " 'LSF_EAUTH_SERVER',\n",
        " 'module',\n",
        " 'LESSOPEN',\n",
        " 'LSF_BINDIR',\n",
        " 'CPATH',\n",
        " 'USER',\n",
        " 'LSF_ENVDIR',\n",
        " 'HOME',\n",
        " 'LSB_DJOB_NUMPROC',\n",
        " 'PS1',\n",
        " 'LSF_VERSION',\n",
        " 'FSLTCLSH',\n",
        " 'SHLVL',\n",
        " 'LSB_MCPU_HOSTS',\n",
        " 'FREESURFER_HOME',\n",
        " 'LSB_JOBFILENAME',\n",
        " 'MODULESHOME',\n",
        " 'GIT_PAGER',\n",
        " 'QTLIB',\n",
        " 'TMPDIR',\n",
        " 'MODULEPATH',\n",
        " 'SSH_CONNECTION',\n",
        " 'EGO_LIBDIR',\n",
        " 'LSB_JOBEXIT_STAT',\n",
        " 'SUBJECTS_DIR',\n",
        " '_LMFILES_',\n",
        " 'PAGER',\n",
        " 'MODULE_VERSION',\n",
        " 'G_BROKEN_FILENAMES',\n",
        " 'QTDIR',\n",
        " 'LD_LIBRARY_PATH',\n",
        " 'LANG',\n",
        " 'LSF_SERVERDIR',\n",
        " 'LSB_EXEC_CLUSTER',\n",
        " 'QTINC',\n",
        " 'CONDA_PREFIX',\n",
        " 'CONDA_ENV_PATH',\n",
        " 'CONDA_PS1_BACKUP',\n",
        " '_',\n",
        " 'CONDA_DEFAULT_ENV',\n",
        " 'LSB_JOBRES_CALLBACK',\n",
        " 'LSB_CHKFILENAME',\n",
        " 'LSB_SUB_HOST',\n",
        " 'LS_SUBCWD',\n",
        " 'LSB_ECHKPNT_RSH_CMD',\n",
        " 'CUDA_HOME',\n",
        " 'LSF_LOGDIR',\n",
        " 'LSF_EAUTH_CLIENT',\n",
        " 'LSB_JOB_EXECUSER',\n",
        " 'XLSF_UIDDIR',\n",
        " 'EGO_SERVERDIR',\n",
        " 'LSF_EGO_ENVDIR',\n",
        " 'LSB_HOSTS',\n",
        " 'SSH_TTY',\n",
        " 'LSB_EXIT_PRE_ABORT',\n",
        " 'CVS_RSH',\n",
        " 'FUNCTIONALS_DIR',\n",
        " 'LSB_EEXEC_REAL_UID',\n",
        " 'FSLDIR',\n",
        " 'ahdir',\n",
        " 'EGO_CONFDIR',\n",
        " 'HOSTTYPE',\n",
        " 'SSH_CLIENT',\n",
        " 'LOGNAME',\n",
        " 'LSF_LIM_API_NTRIES',\n",
        " 'PATH',\n",
        " 'LSB_QUEUE',\n",
        " 'CUDA_LIBDIR',\n",
        " 'TERM',\n",
        " 'LSB_DJOB_HOSTFILE',\n",
        " 'LSF_LIBDIR',\n",
        " 'LSB_ACCT_FILE',\n",
        " 'FSLWISH',\n",
        " 'SBD_KRB5CCNAME_VAL',\n",
        " 'MATHEMATICA_HOME',\n",
        " 'MODULE_VERSION_STACK',\n",
        " 'FSFAST_HOME',\n",
        " 'LSB_BATCH_JID',\n",
        " 'LSB_DJOB_RU_INTERVAL',\n",
        " 'LSB_JOBNAME',\n",
        " 'CDLMD_LICENSE_FILE',\n",
        " 'LOADEDMODULES',\n",
        " 'CLICOLOR',\n",
        " 'HISTCONTROL',\n",
        " 'PWD',\n",
        " 'AFNI_FLOATSCAN',\n",
        " 'MPLBACKEND',\n",
        " 'CUDA_BINDIR']"
       ]
      }
     ],
     "prompt_number": 5
    },
    {
     "cell_type": "markdown",
     "metadata": {},
     "source": [
      "## Make directories\n",
      "* use the following code to create directories based on whatever format you want (e.g. BIDS)"
     ]
    },
    {
     "cell_type": "markdown",
     "metadata": {
      "collapsed": false
     },
     "source": [
      "\n",
      "subject_list = ['sub-01','sub-02', 'sub-03', 'sub-04']\n",
      "\n",
      "for subs in subject_list:\n",
      "    os.mkdir('/scratch/sanjay/GRT/fmri_data/nifti')\n",
      "    os.mkdir('/scratch/sanjay/GRT/fmri_data/nifti/{}'.format(subs))\n",
      "    os.mkdir('/scratch/sanjay/GRT/fmri_data/nifti/{}/anat'.format(subs))\n",
      "    os.mkdir('/scratch/sanjay/GRT/fmri_data/nifti/{}/func'.format(subs))\n",
      "\n",
      "\n"
     ]
    },
    {
     "cell_type": "markdown",
     "metadata": {},
     "source": [
      "# Dicom Convert\n",
      "\n",
      "* Needs to be done only once"
     ]
    },
    {
     "cell_type": "markdown",
     "metadata": {
      "collapsed": true
     },
     "source": [
      "sys.path.append(\"/home/applications/dcm2niix/build/bin\")\n",
      "\n",
      "\n",
      "\n",
      "for a in range(1,5,1): # in reality this should be from 1 to 4 but I'm skipping 1 cuz it's already done\n",
      "    convertnode = pe.Node(Dcm2niix(), name ='convert_dicoms', iter_field=['source_dir'])\n",
      "    convertnode.inputs.source_dir = '/scratch/sanjay/GRT/fmri_data/sessions/session-0{}/' .format(a)\n",
      "\n",
      "    convertnode.inputs.output_dir = '/scratch/sanjay/GRT/fmri_data/nifti/session-0{}/' .format(a)\n",
      "    #convertnode.inputs.merge_images = True\n",
      "\n",
      "    convertnode.run()"
     ]
    },
    {
     "cell_type": "markdown",
     "metadata": {},
     "source": [
      "# Data Inputs\n",
      "\n",
      "### This is a super important section. It is where we specify the input structure for nipype. \n",
      "\n",
      "* going off http://nipype.readthedocs.io/en/latest/users/grabbing_and_sinking.html http://nipype.readthedocs.io/en/latest/users/examples/fmri_fsl.html\n",
      "\n",
      "* not sure which T1 to use, we have like 2 for each session\n",
      "* The purpose of MapNode is to map the node when the node takes only one input. Some regular nodes take more than 1 input. "
     ]
    },
    {
     "cell_type": "code",
     "collapsed": true,
     "input": [
      "data_dir = '/scratch/sanjay/GRT/fmri_data/nifti/'  # '/Users/Narasiwodeyar'\n",
      "output_dir = '/scratch/sanjay/GRT/fmri_data/testing/output/'\n",
      "working_dir = '/scratch/sanjay/GRT/fmri_data/testing/output/working'\n",
      "\n",
      "# list of subject identifiers\n",
      "subject_list = ['sub-02', 'sub-01']\n",
      "\n",
      "task_list = ['train_', 'test_']\n",
      "run_list = ['1','2','3','4','5','6','7','8','9','10','11','12']"
     ],
     "language": "python",
     "metadata": {},
     "outputs": [],
     "prompt_number": 6
    },
    {
     "cell_type": "code",
     "collapsed": true,
     "input": [
      "#info = dict(func=[['subject_id', ['run01' ]]], struct=[['subject_id', 't1']])\n",
      "\n",
      "infosource = pe.Node(interface=util.IdentityInterface(fields=['subject_id','task_id','run_id']),name=\"infosource\")\n",
      "infosource.iterables = [('subject_id', subject_list),('task_id',task_list ),('run_id',run_list)]"
     ],
     "language": "python",
     "metadata": {},
     "outputs": [],
     "prompt_number": 7
    },
    {
     "cell_type": "markdown",
     "metadata": {
      "collapsed": true
     },
     "source": [
      "## Rename Files\n",
      "\n",
      "* This works perfectly. What we need is to merge the two sessions from each subject into 1, and reorganize into bids format.\n",
      "\n",
      "* Note that the following code needs to be changed based on how you want your data. \n",
      "* I am gonna call the runs in second session as test_7,train_7, test_8, train_8 etc."
     ]
    },
    {
     "cell_type": "markdown",
     "metadata": {
      "collapsed": false
     },
     "source": [
      "for i in range(1,7,1):\n",
      "\n",
      "    os.system('mv /scratch/sanjay/GRT/fmri_data/nifti/session-03/*VISUAL_Train_{}.nii  /scratch/sanjay/GRT/fmri_data/nifti/sub-01/func/sub-01_train_{}.nii' .format(i,i)) \n",
      "    os.system('mv /scratch/sanjay/GRT/fmri_data/nifti/session-03/*VISUAL_{}.nii /scratch/sanjay/GRT/fmri_data/nifti/sub-01/func/sub-01_test_{}.nii' .format(i,i) )\n",
      "    \n",
      "    os.system('mv /scratch/sanjay/GRT/fmri_data/nifti/session-02/*VISUAL_Train_{}.nii  /scratch/sanjay/GRT/fmri_data/nifti/sub-02/func/sub-02_train_{}.nii'.format(i,(i+6))) \n",
      "    os.system('mv /scratch/sanjay/GRT/fmri_data/nifti/session-02/*VISUAL_{}.nii /scratch/sanjay/GRT/fmri_data/nifti/sub-02/func/sub-02_test_{}.nii' .format(i,(i+6)))\n",
      "    \n",
      "    os.system('mv /scratch/sanjay/GRT/fmri_data/nifti/session-04/*VISUAL_Train_{}.nii  /scratch/sanjay/GRT/fmri_data/nifti/sub-01/func/sub-01_train_{}.nii' .format(i,(i+6))) \n",
      "    os.system('mv /scratch/sanjay/GRT/fmri_data/nifti/session-04/*VISUAL_{}.nii  /scratch/sanjay/GRT/fmri_data/nifti/sub-01/func/sub-01_test_{}.nii' .format(i,(i+6)) )\n",
      "    "
     ]
    },
    {
     "cell_type": "markdown",
     "metadata": {},
     "source": [
      "### Getting Data\n",
      "* read this about Data grabbing http://nipype.readthedocs.io/en/latest/users/grabbing_and_sinking.html\n",
      "* and this http://nipype.readthedocs.io/en/latest/interfaces/generated/nipype.interfaces.io.html"
     ]
    },
    {
     "cell_type": "code",
     "collapsed": false,
     "input": [
      "# Something super important is that the nifti files MUST be uncompressed for this step: nii NOT nii.gz\n",
      "\n",
      "func_file = opj('{subject_id}', 'func',\n",
      "                '{subject_id}_{task_id}{run_id}.nii')\n",
      "\n",
      "anat_file = opj('{subject_id}','anat', '{subject_id}_T1.nii')# we might have to make 3rd iterable for the runs\n",
      "\n",
      "templates = {'func': func_file, 'anat': anat_file}\n",
      "datasource = pe.Node(nio.SelectFiles(templates),name='Get_files')\n",
      "datasource.inputs.base_directory = data_dir\n",
      "\n",
      "\n"
     ],
     "language": "python",
     "metadata": {},
     "outputs": [],
     "prompt_number": 8
    },
    {
     "cell_type": "code",
     "collapsed": true,
     "input": [
      "fsl.FSLCommand.set_default_output_type('NIFTI')"
     ],
     "language": "python",
     "metadata": {},
     "outputs": [],
     "prompt_number": 9
    },
    {
     "cell_type": "heading",
     "level": 2,
     "metadata": {},
     "source": [
      "Create a workflow"
     ]
    },
    {
     "cell_type": "code",
     "collapsed": true,
     "input": [
      "preproc = pe.Workflow(name='preproc') # this creates a pre-processing workflow of sorts. pe is pipleline engine"
     ],
     "language": "python",
     "metadata": {},
     "outputs": [],
     "prompt_number": 10
    },
    {
     "cell_type": "code",
     "collapsed": true,
     "input": [
      "## do slicetiming "
     ],
     "language": "python",
     "metadata": {},
     "outputs": [],
     "prompt_number": 11
    },
    {
     "cell_type": "code",
     "collapsed": true,
     "input": [
      "slice_timer = pe.MapNode(interface=fsl.SliceTimer(interleaved = True), name= 'Slice_time_correction', iterfield=['in_file'])"
     ],
     "language": "python",
     "metadata": {},
     "outputs": [],
     "prompt_number": 12
    },
    {
     "cell_type": "markdown",
     "metadata": {
      "collapsed": true
     },
     "source": [
      "## Use FSL McFLIRT to do motion correction\n",
      "\n",
      "* see http://nipype.readthedocs.io/en/latest/interfaces/generated/interfaces.fsl/preprocess.html#mcflirt"
     ]
    },
    {
     "cell_type": "code",
     "collapsed": false,
     "input": [
      "motion_correct = pe.MapNode(interface=fsl.MCFLIRT(save_mats=True,\n",
      "                                                  save_plots=True, interpolation = 'sinc', output_type='NIFTI', dof =6),\n",
      "                            name='Realign_with_MCFLIRT',\n",
      "                            iterfield=['in_file'])\n",
      "\n"
     ],
     "language": "python",
     "metadata": {},
     "outputs": [],
     "prompt_number": 13
    },
    {
     "cell_type": "code",
     "collapsed": false,
     "input": [
      "# plot and save motion corrected plots\n",
      "\n",
      "plot_motion = pe.MapNode(interface=fsl.PlotMotionParams(in_source='fsl'),\n",
      "                         name='Check_motion_plots',\n",
      "                         iterfield=['in_file'])\n",
      "plot_motion.iterables = ('plot_type', ['rotations', 'translations'])\n"
     ],
     "language": "python",
     "metadata": {},
     "outputs": [],
     "prompt_number": 14
    },
    {
     "cell_type": "heading",
     "level": 3,
     "metadata": {},
     "source": [
      "co-registration to structural needs T1 to be in same space"
     ]
    },
    {
     "cell_type": "code",
     "collapsed": false,
     "input": [
      "\n",
      "\n",
      "resample = pe.Node(interface = afni.Resample(outputtype= 'NIFTI', voxel_size=(2.4,2.4,2.4)), name= 'Resample_T1')"
     ],
     "language": "python",
     "metadata": {},
     "outputs": [],
     "prompt_number": 15
    },
    {
     "cell_type": "heading",
     "level": 3,
     "metadata": {},
     "source": [
      "register  functional run to  resampled T1"
     ]
    },
    {
     "cell_type": "code",
     "collapsed": false,
     "input": [
      "reg = pe.MapNode(interface =fsl.FLIRT(output_type = 'NIFTI'), name= 'Register_functionals', iterfield = ['in_file'])"
     ],
     "language": "python",
     "metadata": {},
     "outputs": [],
     "prompt_number": 16
    },
    {
     "cell_type": "heading",
     "level": 3,
     "metadata": {
      "collapsed": false
     },
     "source": [
      "Strip skull"
     ]
    },
    {
     "cell_type": "code",
     "collapsed": true,
     "input": [
      "strip = pe.MapNode(interface = fsl.BET(output_type='NIFTI', functional=True), name='Strip_skull', iterfield=['in_file'])"
     ],
     "language": "python",
     "metadata": {},
     "outputs": [],
     "prompt_number": 17
    },
    {
     "cell_type": "heading",
     "level": 2,
     "metadata": {},
     "source": [
      "Data storing node"
     ]
    },
    {
     "cell_type": "code",
     "collapsed": true,
     "input": [
      "datasink = pe.Node(nio.DataSink(), name='store_outputs')\n",
      "datasink.inputs.base_directory = output_dir\n"
     ],
     "language": "python",
     "metadata": {},
     "outputs": [],
     "prompt_number": 18
    },
    {
     "cell_type": "markdown",
     "metadata": {},
     "source": [
      "## workflow connections \n",
      "\n",
      "* Define all workflow connections here"
     ]
    },
    {
     "cell_type": "code",
     "collapsed": false,
     "input": [
      "\n",
      "preproc.connect(datasource, 'func', slice_timer, 'in_file')\n",
      "preproc.connect(slice_timer, 'slice_time_corrected_file', motion_correct, 'in_file')\n",
      "preproc.connect(resample, 'out_file', reg, 'reference') # input resampled T1 as reference for co-registration\n",
      "preproc.connect(motion_correct, 'out_file', reg, 'in_file') # input functional files to registrations step\n",
      "preproc.connect(reg, 'out_file', datasink, 'registered') # store registered files\n",
      "preproc.connect(infosource,'subject_id',datasource, 'subject_id')\n",
      "preproc.connect(infosource,'task_id',datasource, 'task_id')\n",
      "preproc.connect(infosource,'run_id',datasource, 'run_id')\n",
      "preproc.connect(datasource,'anat', resample, 'in_file')\n",
      "preproc.connect(resample, 'out_file', datasink, 'resampled_T1')\n",
      "\n",
      "#preproc.connect(datasource,'func', extract_ref,'in_file')\n",
      "#preproc.connect(extract_ref, 'roi_file', motion_correct, 'ref_vol') # connect the extracted middle volume to the MCFLIRT node\n",
      "#preproc.connect(infosource, datasink, [('subject_id', 'container')]) # this connection might cause problems\n",
      "preproc.connect(motion_correct, 'out_file', datasink, 'motion.corrected_files')\n",
      "preproc.connect(motion_correct, 'par_file', plot_motion, 'in_file')\n",
      "preproc.connect(motion_correct, 'par_file', datasink,'motion.par')\n",
      "preproc.connect(plot_motion, 'out_file', datasink, 'plots')\n",
      "\n",
      "preproc.connect(reg, 'out_file', strip,'in_file')\n",
      "preproc.connect(strip,'out_file', datasink, 'final')"
     ],
     "language": "python",
     "metadata": {},
     "outputs": [],
     "prompt_number": 19
    },
    {
     "cell_type": "markdown",
     "metadata": {
      "collapsed": true
     },
     "source": [
      "### Visualing workflow\n",
      "* Use the following cell to generate a visual workflow"
     ]
    },
    {
     "cell_type": "markdown",
     "metadata": {
      "collapsed": false
     },
     "source": [
      "\n",
      "preproc.write_graph(\"workflow_graph.dot\", graph2use = 'colored')\n",
      "from IPython.display import Image\n",
      "Image(filename=\"workflow_graph.dot.png\")"
     ]
    },
    {
     "cell_type": "code",
     "collapsed": false,
     "input": [
      "preproc.run()#(plugin='IPython', plugin_args={ 'url_file': '/home/snara025/.ipython/profile_myprofile/security/ipcontroller-client.json'})"
     ],
     "language": "python",
     "metadata": {},
     "outputs": [
      {
       "output_type": "stream",
       "stream": "stdout",
       "text": [
        "170606-12:40:14,92 workflow INFO:\n",
        "\t Workflow preproc settings: ['check', 'execution', 'logging']\n"
       ]
      },
      {
       "output_type": "stream",
       "stream": "stdout",
       "text": [
        "170606-12:40:14,984 workflow INFO:\n",
        "\t Running serially.\n"
       ]
      },
      {
       "output_type": "stream",
       "stream": "stdout",
       "text": [
        "170606-12:40:14,987 workflow INFO:\n",
        "\t Executing node Get_files.b16 in dir: /scratch/afni/tmp3n1Frt/preproc/_run_id_5_subject_id_sub-02_task_id_test_/Get_files\n"
       ]
      },
      {
       "output_type": "stream",
       "stream": "stdout",
       "text": [
        "170606-12:40:15,53 workflow INFO:\n",
        "\t Executing node Slice_time_correction.b16 in dir: /scratch/afni/tmpndxAuN/preproc/_run_id_5_subject_id_sub-02_task_id_test_/Slice_time_correction\n"
       ]
      },
      {
       "output_type": "stream",
       "stream": "stdout",
       "text": [
        "170606-12:40:15,65 workflow INFO:\n",
        "\t Executing node _Slice_time_correction0 in dir: /scratch/afni/tmpndxAuN/preproc/_run_id_5_subject_id_sub-02_task_id_test_/Slice_time_correction/mapflow/_Slice_time_correction0\n"
       ]
      },
      {
       "output_type": "stream",
       "stream": "stdout",
       "text": [
        "170606-12:40:15,89 workflow INFO:\n",
        "\t Running: slicetimer --in=/scratch/sanjay/GRT/fmri_data/nifti/sub-02/func/sub-02_test_5.nii --odd --out=/scratch/afni/tmpndxAuN/preproc/_run_id_5_subject_id_sub-02_task_id_test_/Slice_time_correction/mapflow/_Slice_time_correction0/sub-02_test_5_st.nii\n"
       ]
      },
      {
       "output_type": "stream",
       "stream": "stdout",
       "text": [
        "170606-12:41:05,50 workflow INFO:\n",
        "\t Executing node Realign_with_MCFLIRT.b16 in dir: /scratch/afni/tmpGXbR_o/preproc/_run_id_5_subject_id_sub-02_task_id_test_/Realign_with_MCFLIRT\n"
       ]
      },
      {
       "output_type": "stream",
       "stream": "stdout",
       "text": [
        "170606-12:41:05,69 workflow INFO:\n",
        "\t Executing node _Realign_with_MCFLIRT0 in dir: /scratch/afni/tmpGXbR_o/preproc/_run_id_5_subject_id_sub-02_task_id_test_/Realign_with_MCFLIRT/mapflow/_Realign_with_MCFLIRT0\n"
       ]
      },
      {
       "output_type": "stream",
       "stream": "stdout",
       "text": [
        "170606-12:41:05,80 workflow INFO:\n",
        "\t Running: mcflirt -in /scratch/afni/tmpndxAuN/preproc/_run_id_5_subject_id_sub-02_task_id_test_/Slice_time_correction/mapflow/_Slice_time_correction0/sub-02_test_5_st.nii -dof 6 -sinc_final -out /scratch/afni/tmpGXbR_o/preproc/_run_id_5_subject_id_sub-02_task_id_test_/Realign_with_MCFLIRT/mapflow/_Realign_with_MCFLIRT0/sub-02_test_5_st_mcf.nii -mats -plots\n"
       ]
      },
      {
       "output_type": "stream",
       "stream": "stdout",
       "text": [
        "170606-12:54:39,107 workflow INFO:\n",
        "\t Executing node Check_motion_plots.aI.a0.b16 in dir: /scratch/afni/tmplmBD_p/preproc/_run_id_5_subject_id_sub-02_task_id_test_/_plot_type_rotations/Check_motion_plots\n"
       ]
      },
      {
       "output_type": "stream",
       "stream": "stdout",
       "text": [
        "170606-12:54:39,123 workflow INFO:\n",
        "\t Executing node _Check_motion_plots0 in dir: /scratch/afni/tmplmBD_p/preproc/_run_id_5_subject_id_sub-02_task_id_test_/_plot_type_rotations/Check_motion_plots/mapflow/_Check_motion_plots0\n"
       ]
      },
      {
       "output_type": "stream",
       "stream": "stdout",
       "text": [
        "170606-12:54:39,134 workflow INFO:\n",
        "\t Running: fsl_tsplot -i /scratch/afni/tmpGXbR_o/preproc/_run_id_5_subject_id_sub-02_task_id_test_/Realign_with_MCFLIRT/mapflow/_Realign_with_MCFLIRT0/sub-02_test_5_st_mcf.nii.par -o /scratch/afni/tmpGXbR_o/preproc/_run_id_5_subject_id_sub-02_task_id_test_/Realign_with_MCFLIRT/mapflow/_Realign_with_MCFLIRT0/sub-02_test_5_st_mcf.nii_rot.png -t 'MCFLIRT estimated rotations (radians)' --start=1 --finish=3 -a x,y,z\n"
       ]
      },
      {
       "output_type": "stream",
       "stream": "stdout",
       "text": [
        "170606-12:54:40,317 workflow INFO:\n",
        "\t Executing node Resample_T1.b16 in dir: /scratch/afni/tmpW9reF3/preproc/_run_id_5_subject_id_sub-02_task_id_test_/Resample_T1\n"
       ]
      },
      {
       "output_type": "stream",
       "stream": "stdout",
       "text": [
        "170606-12:54:40,331 workflow INFO:\n",
        "\t Running: 3dresample -prefix sub-02_T1_resample.nii -dxyz 2.400000 2.400000 2.400000 -inset /scratch/afni/tmpW9reF3/preproc/_run_id_5_subject_id_sub-02_task_id_test_/Resample_T1/sub-02_T1.nii\n"
       ]
      },
      {
       "output_type": "stream",
       "stream": "stdout",
       "text": [
        "170606-12:54:42,150 workflow INFO:\n",
        "\t Executing node Register_functionals.b16 in dir: /scratch/afni/tmpseGqU9/preproc/_run_id_5_subject_id_sub-02_task_id_test_/Register_functionals\n"
       ]
      },
      {
       "output_type": "stream",
       "stream": "stdout",
       "text": [
        "170606-12:54:42,166 workflow INFO:\n",
        "\t Executing node _Register_functionals0 in dir: /scratch/afni/tmpseGqU9/preproc/_run_id_5_subject_id_sub-02_task_id_test_/Register_functionals/mapflow/_Register_functionals0\n"
       ]
      },
      {
       "output_type": "stream",
       "stream": "stdout",
       "text": [
        "170606-12:54:42,179 workflow INFO:\n",
        "\t Running: flirt -in /scratch/afni/tmpGXbR_o/preproc/_run_id_5_subject_id_sub-02_task_id_test_/Realign_with_MCFLIRT/mapflow/_Realign_with_MCFLIRT0/sub-02_test_5_st_mcf.nii -ref /scratch/afni/tmpW9reF3/preproc/_run_id_5_subject_id_sub-02_task_id_test_/Resample_T1/sub-02_T1_resample.nii -out sub-02_test_5_st_mcf_flirt.nii -omat sub-02_test_5_st_mcf_flirt.mat\n"
       ]
      },
      {
       "output_type": "stream",
       "stream": "stdout",
       "text": [
        "170606-12:54:52,1 workflow INFO:\n",
        "\t Executing node Strip_skull.b16 in dir: /scratch/afni/tmpaMarlv/preproc/_run_id_5_subject_id_sub-02_task_id_test_/Strip_skull\n"
       ]
      },
      {
       "output_type": "stream",
       "stream": "stdout",
       "text": [
        "170606-12:54:52,15 workflow INFO:\n",
        "\t Executing node _Strip_skull0 in dir: /scratch/afni/tmpaMarlv/preproc/_run_id_5_subject_id_sub-02_task_id_test_/Strip_skull/mapflow/_Strip_skull0\n"
       ]
      },
      {
       "output_type": "stream",
       "stream": "stdout",
       "text": [
        "170606-12:54:52,26 workflow INFO:\n",
        "\t Running: bet /scratch/afni/tmpseGqU9/preproc/_run_id_5_subject_id_sub-02_task_id_test_/Register_functionals/mapflow/_Register_functionals0/sub-02_test_5_st_mcf_flirt.nii /scratch/afni/tmpaMarlv/preproc/_run_id_5_subject_id_sub-02_task_id_test_/Strip_skull/mapflow/_Strip_skull0/sub-02_test_5_st_mcf_flirt_brain.nii -F\n"
       ]
      },
      {
       "output_type": "stream",
       "stream": "stdout",
       "text": [
        "170606-12:54:57,261 workflow INFO:\n",
        "\t Executing node store_outputs.a0.b16 in dir: /scratch/afni/tmpB3kqPM/preproc/_run_id_5_subject_id_sub-02_task_id_test_/_plot_type_rotations/store_outputs\n"
       ]
      },
      {
       "output_type": "stream",
       "stream": "stdout",
       "text": [
        "170606-12:54:57,302 workflow INFO:\n",
        "\t Executing node Get_files.b15 in dir: /scratch/afni/tmpoI_C9R/preproc/_run_id_4_subject_id_sub-02_task_id_test_/Get_files\n"
       ]
      },
      {
       "output_type": "stream",
       "stream": "stdout",
       "text": [
        "170606-12:54:57,332 workflow INFO:\n",
        "\t Executing node Slice_time_correction.b15 in dir: /scratch/afni/tmpIRY4R4/preproc/_run_id_4_subject_id_sub-02_task_id_test_/Slice_time_correction\n"
       ]
      },
      {
       "output_type": "stream",
       "stream": "stdout",
       "text": [
        "170606-12:54:57,344 workflow INFO:\n",
        "\t Executing node _Slice_time_correction0 in dir: /scratch/afni/tmpIRY4R4/preproc/_run_id_4_subject_id_sub-02_task_id_test_/Slice_time_correction/mapflow/_Slice_time_correction0\n"
       ]
      },
      {
       "output_type": "stream",
       "stream": "stdout",
       "text": [
        "170606-12:54:57,354 workflow INFO:\n",
        "\t Running: slicetimer --in=/scratch/sanjay/GRT/fmri_data/nifti/sub-02/func/sub-02_test_4.nii --odd --out=/scratch/afni/tmpIRY4R4/preproc/_run_id_4_subject_id_sub-02_task_id_test_/Slice_time_correction/mapflow/_Slice_time_correction0/sub-02_test_4_st.nii\n"
       ]
      },
      {
       "output_type": "stream",
       "stream": "stdout",
       "text": [
        "170606-12:55:47,656 workflow INFO:\n",
        "\t Executing node Get_files.b30 in dir: /scratch/afni/tmpp6LOab/preproc/_run_id_7_subject_id_sub-01_task_id_train_/Get_files\n"
       ]
      },
      {
       "output_type": "stream",
       "stream": "stdout",
       "text": [
        "170606-12:55:47,697 workflow INFO:\n",
        "\t Executing node Realign_with_MCFLIRT.b15 in dir: /scratch/afni/tmpJRm3sD/preproc/_run_id_4_subject_id_sub-02_task_id_test_/Realign_with_MCFLIRT\n"
       ]
      },
      {
       "output_type": "stream",
       "stream": "stdout",
       "text": [
        "170606-12:55:47,711 workflow INFO:\n",
        "\t Executing node _Realign_with_MCFLIRT0 in dir: /scratch/afni/tmpJRm3sD/preproc/_run_id_4_subject_id_sub-02_task_id_test_/Realign_with_MCFLIRT/mapflow/_Realign_with_MCFLIRT0\n"
       ]
      },
      {
       "output_type": "stream",
       "stream": "stdout",
       "text": [
        "170606-12:55:47,722 workflow INFO:\n",
        "\t Running: mcflirt -in /scratch/afni/tmpIRY4R4/preproc/_run_id_4_subject_id_sub-02_task_id_test_/Slice_time_correction/mapflow/_Slice_time_correction0/sub-02_test_4_st.nii -dof 6 -sinc_final -out /scratch/afni/tmpJRm3sD/preproc/_run_id_4_subject_id_sub-02_task_id_test_/Realign_with_MCFLIRT/mapflow/_Realign_with_MCFLIRT0/sub-02_test_4_st_mcf.nii -mats -plots\n"
       ]
      },
      {
       "output_type": "stream",
       "stream": "stdout",
       "text": [
        "170606-13:09:24,545 workflow INFO:\n",
        "\t Executing node Check_motion_plots.aI.a1.b15 in dir: /scratch/afni/tmpOPt4Cg/preproc/_run_id_4_subject_id_sub-02_task_id_test_/_plot_type_translations/Check_motion_plots\n"
       ]
      },
      {
       "output_type": "stream",
       "stream": "stdout",
       "text": [
        "170606-13:09:24,560 workflow INFO:\n",
        "\t Executing node _Check_motion_plots0 in dir: /scratch/afni/tmpOPt4Cg/preproc/_run_id_4_subject_id_sub-02_task_id_test_/_plot_type_translations/Check_motion_plots/mapflow/_Check_motion_plots0\n"
       ]
      },
      {
       "output_type": "stream",
       "stream": "stdout",
       "text": [
        "170606-13:09:24,571 workflow INFO:\n",
        "\t Running: fsl_tsplot -i /scratch/afni/tmpJRm3sD/preproc/_run_id_4_subject_id_sub-02_task_id_test_/Realign_with_MCFLIRT/mapflow/_Realign_with_MCFLIRT0/sub-02_test_4_st_mcf.nii.par -o /scratch/afni/tmpJRm3sD/preproc/_run_id_4_subject_id_sub-02_task_id_test_/Realign_with_MCFLIRT/mapflow/_Realign_with_MCFLIRT0/sub-02_test_4_st_mcf.nii_trans.png -t 'MCFLIRT estimated translations (mm)' --start=4 --finish=6 -a x,y,z\n"
       ]
      },
      {
       "output_type": "stream",
       "stream": "stdout",
       "text": [
        "170606-13:09:29,559 workflow INFO:\n",
        "\t Executing node Check_motion_plots.aI.a0.b15 in dir: /scratch/afni/tmptcb0pD/preproc/_run_id_4_subject_id_sub-02_task_id_test_/_plot_type_rotations/Check_motion_plots\n"
       ]
      },
      {
       "output_type": "stream",
       "stream": "stdout",
       "text": [
        "170606-13:09:29,572 workflow INFO:\n",
        "\t Executing node _Check_motion_plots0 in dir: /scratch/afni/tmptcb0pD/preproc/_run_id_4_subject_id_sub-02_task_id_test_/_plot_type_rotations/Check_motion_plots/mapflow/_Check_motion_plots0\n"
       ]
      },
      {
       "output_type": "stream",
       "stream": "stdout",
       "text": [
        "170606-13:09:29,581 workflow INFO:\n",
        "\t Running: fsl_tsplot -i /scratch/afni/tmpJRm3sD/preproc/_run_id_4_subject_id_sub-02_task_id_test_/Realign_with_MCFLIRT/mapflow/_Realign_with_MCFLIRT0/sub-02_test_4_st_mcf.nii.par -o /scratch/afni/tmpJRm3sD/preproc/_run_id_4_subject_id_sub-02_task_id_test_/Realign_with_MCFLIRT/mapflow/_Realign_with_MCFLIRT0/sub-02_test_4_st_mcf.nii_rot.png -t 'MCFLIRT estimated rotations (radians)' --start=1 --finish=3 -a x,y,z\n"
       ]
      },
      {
       "output_type": "stream",
       "stream": "stdout",
       "text": [
        "170606-13:09:30,651 workflow INFO:\n",
        "\t Executing node Resample_T1.b15 in dir: /scratch/afni/tmpwKZZyb/preproc/_run_id_4_subject_id_sub-02_task_id_test_/Resample_T1\n"
       ]
      },
      {
       "output_type": "stream",
       "stream": "stdout",
       "text": [
        "170606-13:09:30,664 workflow INFO:\n",
        "\t Running: 3dresample -prefix sub-02_T1_resample.nii -dxyz 2.400000 2.400000 2.400000 -inset /scratch/afni/tmpwKZZyb/preproc/_run_id_4_subject_id_sub-02_task_id_test_/Resample_T1/sub-02_T1.nii\n"
       ]
      },
      {
       "output_type": "stream",
       "stream": "stdout",
       "text": [
        "170606-13:09:40,711 workflow INFO:\n",
        "\t Executing node Register_functionals.b15 in dir: /scratch/afni/tmpzk9Ik0/preproc/_run_id_4_subject_id_sub-02_task_id_test_/Register_functionals\n"
       ]
      },
      {
       "output_type": "stream",
       "stream": "stdout",
       "text": [
        "170606-13:09:40,729 workflow INFO:\n",
        "\t Executing node _Register_functionals0 in dir: /scratch/afni/tmpzk9Ik0/preproc/_run_id_4_subject_id_sub-02_task_id_test_/Register_functionals/mapflow/_Register_functionals0\n"
       ]
      },
      {
       "output_type": "stream",
       "stream": "stdout",
       "text": [
        "170606-13:09:40,743 workflow INFO:\n",
        "\t Running: flirt -in /scratch/afni/tmpJRm3sD/preproc/_run_id_4_subject_id_sub-02_task_id_test_/Realign_with_MCFLIRT/mapflow/_Realign_with_MCFLIRT0/sub-02_test_4_st_mcf.nii -ref /scratch/afni/tmpwKZZyb/preproc/_run_id_4_subject_id_sub-02_task_id_test_/Resample_T1/sub-02_T1_resample.nii -out sub-02_test_4_st_mcf_flirt.nii -omat sub-02_test_4_st_mcf_flirt.mat\n"
       ]
      },
      {
       "output_type": "stream",
       "stream": "stdout",
       "text": [
        "170606-13:09:50,534 workflow INFO:\n",
        "\t Executing node Strip_skull.b15 in dir: /scratch/afni/tmpmAgRiQ/preproc/_run_id_4_subject_id_sub-02_task_id_test_/Strip_skull\n"
       ]
      },
      {
       "output_type": "stream",
       "stream": "stdout",
       "text": [
        "170606-13:09:50,551 workflow INFO:\n",
        "\t Executing node _Strip_skull0 in dir: /scratch/afni/tmpmAgRiQ/preproc/_run_id_4_subject_id_sub-02_task_id_test_/Strip_skull/mapflow/_Strip_skull0\n"
       ]
      },
      {
       "output_type": "stream",
       "stream": "stdout",
       "text": [
        "170606-13:09:50,563 workflow INFO:\n",
        "\t Running: bet /scratch/afni/tmpzk9Ik0/preproc/_run_id_4_subject_id_sub-02_task_id_test_/Register_functionals/mapflow/_Register_functionals0/sub-02_test_4_st_mcf_flirt.nii /scratch/afni/tmpmAgRiQ/preproc/_run_id_4_subject_id_sub-02_task_id_test_/Strip_skull/mapflow/_Strip_skull0/sub-02_test_4_st_mcf_flirt_brain.nii -F\n"
       ]
      },
      {
       "output_type": "stream",
       "stream": "stdout",
       "text": [
        "170606-13:10:05,519 workflow INFO:\n",
        "\t Executing node store_outputs.a1.b15 in dir: /scratch/afni/tmpnUexXC/preproc/_run_id_4_subject_id_sub-02_task_id_test_/_plot_type_translations/store_outputs\n"
       ]
      },
      {
       "output_type": "stream",
       "stream": "stdout",
       "text": [
        "170606-13:10:05,582 workflow INFO:\n",
        "\t Executing node store_outputs.a0.b15 in dir: /scratch/afni/tmpjmaOoY/preproc/_run_id_4_subject_id_sub-02_task_id_test_/_plot_type_rotations/store_outputs\n"
       ]
      },
      {
       "output_type": "stream",
       "stream": "stdout",
       "text": [
        "170606-13:10:05,614 workflow INFO:\n",
        "\t Executing node Get_files.b02 in dir: /scratch/afni/tmp_S1YSX/preproc/_run_id_3_subject_id_sub-02_task_id_train_/Get_files\n"
       ]
      },
      {
       "output_type": "stream",
       "stream": "stdout",
       "text": [
        "170606-13:10:05,641 workflow INFO:\n",
        "\t Executing node Get_files.b14 in dir: /scratch/afni/tmpJF2AfR/preproc/_run_id_3_subject_id_sub-02_task_id_test_/Get_files\n"
       ]
      },
      {
       "output_type": "stream",
       "stream": "stdout",
       "text": [
        "170606-13:10:05,671 workflow INFO:\n",
        "\t Executing node Slice_time_correction.b14 in dir: /scratch/afni/tmpJKitgI/preproc/_run_id_3_subject_id_sub-02_task_id_test_/Slice_time_correction\n"
       ]
      },
      {
       "output_type": "stream",
       "stream": "stdout",
       "text": [
        "170606-13:10:05,684 workflow INFO:\n",
        "\t Executing node _Slice_time_correction0 in dir: /scratch/afni/tmpJKitgI/preproc/_run_id_3_subject_id_sub-02_task_id_test_/Slice_time_correction/mapflow/_Slice_time_correction0\n"
       ]
      },
      {
       "output_type": "stream",
       "stream": "stdout",
       "text": [
        "170606-13:10:05,694 workflow INFO:\n",
        "\t Running: slicetimer --in=/scratch/sanjay/GRT/fmri_data/nifti/sub-02/func/sub-02_test_3.nii --odd --out=/scratch/afni/tmpJKitgI/preproc/_run_id_3_subject_id_sub-02_task_id_test_/Slice_time_correction/mapflow/_Slice_time_correction0/sub-02_test_3_st.nii\n"
       ]
      },
      {
       "output_type": "stream",
       "stream": "stdout",
       "text": [
        "170606-13:10:55,485 workflow INFO:\n",
        "\t Executing node Realign_with_MCFLIRT.b14 in dir: /scratch/afni/tmpAA5hbR/preproc/_run_id_3_subject_id_sub-02_task_id_test_/Realign_with_MCFLIRT\n"
       ]
      },
      {
       "output_type": "stream",
       "stream": "stdout",
       "text": [
        "170606-13:10:55,500 workflow INFO:\n",
        "\t Executing node _Realign_with_MCFLIRT0 in dir: /scratch/afni/tmpAA5hbR/preproc/_run_id_3_subject_id_sub-02_task_id_test_/Realign_with_MCFLIRT/mapflow/_Realign_with_MCFLIRT0\n"
       ]
      },
      {
       "output_type": "stream",
       "stream": "stdout",
       "text": [
        "170606-13:10:55,511 workflow INFO:\n",
        "\t Running: mcflirt -in /scratch/afni/tmpJKitgI/preproc/_run_id_3_subject_id_sub-02_task_id_test_/Slice_time_correction/mapflow/_Slice_time_correction0/sub-02_test_3_st.nii -dof 6 -sinc_final -out /scratch/afni/tmpAA5hbR/preproc/_run_id_3_subject_id_sub-02_task_id_test_/Realign_with_MCFLIRT/mapflow/_Realign_with_MCFLIRT0/sub-02_test_3_st_mcf.nii -mats -plots\n"
       ]
      },
      {
       "output_type": "stream",
       "stream": "stdout",
       "text": [
        "170606-13:24:09,471 workflow INFO:\n",
        "\t Executing node Check_motion_plots.aI.a1.b14 in dir: /scratch/afni/tmpfxANQQ/preproc/_run_id_3_subject_id_sub-02_task_id_test_/_plot_type_translations/Check_motion_plots\n"
       ]
      },
      {
       "output_type": "stream",
       "stream": "stdout",
       "text": [
        "170606-13:24:09,486 workflow INFO:\n",
        "\t Executing node _Check_motion_plots0 in dir: /scratch/afni/tmpfxANQQ/preproc/_run_id_3_subject_id_sub-02_task_id_test_/_plot_type_translations/Check_motion_plots/mapflow/_Check_motion_plots0\n"
       ]
      },
      {
       "output_type": "stream",
       "stream": "stdout",
       "text": [
        "170606-13:24:09,496 workflow INFO:\n",
        "\t Running: fsl_tsplot -i /scratch/afni/tmpAA5hbR/preproc/_run_id_3_subject_id_sub-02_task_id_test_/Realign_with_MCFLIRT/mapflow/_Realign_with_MCFLIRT0/sub-02_test_3_st_mcf.nii.par -o /scratch/afni/tmpAA5hbR/preproc/_run_id_3_subject_id_sub-02_task_id_test_/Realign_with_MCFLIRT/mapflow/_Realign_with_MCFLIRT0/sub-02_test_3_st_mcf.nii_trans.png -t 'MCFLIRT estimated translations (mm)' --start=4 --finish=6 -a x,y,z\n"
       ]
      },
      {
       "output_type": "stream",
       "stream": "stdout",
       "text": [
        "170606-13:24:10,571 workflow INFO:\n",
        "\t Executing node Resample_T1.b14 in dir: /scratch/afni/tmpX7ewya/preproc/_run_id_3_subject_id_sub-02_task_id_test_/Resample_T1\n"
       ]
      },
      {
       "output_type": "stream",
       "stream": "stdout",
       "text": [
        "170606-13:24:10,584 workflow INFO:\n",
        "\t Running: 3dresample -prefix sub-02_T1_resample.nii -dxyz 2.400000 2.400000 2.400000 -inset /scratch/afni/tmpX7ewya/preproc/_run_id_3_subject_id_sub-02_task_id_test_/Resample_T1/sub-02_T1.nii\n"
       ]
      },
      {
       "output_type": "stream",
       "stream": "stdout",
       "text": [
        "170606-13:24:13,198 workflow INFO:\n",
        "\t Executing node Register_functionals.b14 in dir: /scratch/afni/tmpHKMxT7/preproc/_run_id_3_subject_id_sub-02_task_id_test_/Register_functionals\n"
       ]
      },
      {
       "output_type": "stream",
       "stream": "stdout",
       "text": [
        "170606-13:24:13,215 workflow INFO:\n",
        "\t Executing node _Register_functionals0 in dir: /scratch/afni/tmpHKMxT7/preproc/_run_id_3_subject_id_sub-02_task_id_test_/Register_functionals/mapflow/_Register_functionals0\n"
       ]
      },
      {
       "output_type": "stream",
       "stream": "stdout",
       "text": [
        "170606-13:24:13,228 workflow INFO:\n",
        "\t Running: flirt -in /scratch/afni/tmpAA5hbR/preproc/_run_id_3_subject_id_sub-02_task_id_test_/Realign_with_MCFLIRT/mapflow/_Realign_with_MCFLIRT0/sub-02_test_3_st_mcf.nii -ref /scratch/afni/tmpX7ewya/preproc/_run_id_3_subject_id_sub-02_task_id_test_/Resample_T1/sub-02_T1_resample.nii -out sub-02_test_3_st_mcf_flirt.nii -omat sub-02_test_3_st_mcf_flirt.mat\n"
       ]
      },
      {
       "output_type": "stream",
       "stream": "stdout",
       "text": [
        "170606-13:24:34,814 workflow INFO:\n",
        "\t Executing node Strip_skull.b14 in dir: /scratch/afni/tmpDZB6Vh/preproc/_run_id_3_subject_id_sub-02_task_id_test_/Strip_skull\n"
       ]
      },
      {
       "output_type": "stream",
       "stream": "stdout",
       "text": [
        "170606-13:24:34,830 workflow INFO:\n",
        "\t Executing node _Strip_skull0 in dir: /scratch/afni/tmpDZB6Vh/preproc/_run_id_3_subject_id_sub-02_task_id_test_/Strip_skull/mapflow/_Strip_skull0\n"
       ]
      },
      {
       "output_type": "stream",
       "stream": "stdout",
       "text": [
        "170606-13:24:34,840 workflow INFO:\n",
        "\t Running: bet /scratch/afni/tmpHKMxT7/preproc/_run_id_3_subject_id_sub-02_task_id_test_/Register_functionals/mapflow/_Register_functionals0/sub-02_test_3_st_mcf_flirt.nii /scratch/afni/tmpDZB6Vh/preproc/_run_id_3_subject_id_sub-02_task_id_test_/Strip_skull/mapflow/_Strip_skull0/sub-02_test_3_st_mcf_flirt_brain.nii -F\n"
       ]
      },
      {
       "output_type": "stream",
       "stream": "stdout",
       "text": [
        "170606-13:25:24,640 workflow INFO:\n",
        "\t Executing node store_outputs.a1.b14 in dir: /scratch/afni/tmpOG7GSp/preproc/_run_id_3_subject_id_sub-02_task_id_test_/_plot_type_translations/store_outputs\n"
       ]
      },
      {
       "output_type": "stream",
       "stream": "stdout",
       "text": [
        "170606-13:25:24,683 workflow INFO:\n",
        "\t Executing node Get_files.b37 in dir: /scratch/afni/tmp64k40Z/preproc/_run_id_2_subject_id_sub-01_task_id_test_/Get_files\n"
       ]
      },
      {
       "output_type": "stream",
       "stream": "stdout",
       "text": [
        "170606-13:25:24,712 workflow INFO:\n",
        "\t Executing node Slice_time_correction.b37 in dir: /scratch/afni/tmpKBVDDS/preproc/_run_id_2_subject_id_sub-01_task_id_test_/Slice_time_correction\n"
       ]
      },
      {
       "output_type": "stream",
       "stream": "stdout",
       "text": [
        "170606-13:25:24,724 workflow INFO:\n",
        "\t Executing node _Slice_time_correction0 in dir: /scratch/afni/tmpKBVDDS/preproc/_run_id_2_subject_id_sub-01_task_id_test_/Slice_time_correction/mapflow/_Slice_time_correction0\n"
       ]
      },
      {
       "output_type": "stream",
       "stream": "stdout",
       "text": [
        "170606-13:25:24,734 workflow INFO:\n",
        "\t Running: slicetimer --in=/scratch/sanjay/GRT/fmri_data/nifti/sub-01/func/sub-01_test_2.nii --odd --out=/scratch/afni/tmpKBVDDS/preproc/_run_id_2_subject_id_sub-01_task_id_test_/Slice_time_correction/mapflow/_Slice_time_correction0/sub-01_test_2_st.nii\n"
       ]
      },
      {
       "output_type": "stream",
       "stream": "stdout",
       "text": [
        "170606-13:26:17,110 workflow INFO:\n",
        "\t Executing node Get_files.b47 in dir: /scratch/afni/tmptQh5jS/preproc/_run_id_12_subject_id_sub-01_task_id_test_/Get_files\n"
       ]
      },
      {
       "output_type": "stream",
       "stream": "stdout",
       "text": [
        "170606-13:26:17,182 workflow INFO:\n",
        "\t Executing node Slice_time_correction.b47 in dir: /scratch/afni/tmpr6yTNc/preproc/_run_id_12_subject_id_sub-01_task_id_test_/Slice_time_correction\n"
       ]
      },
      {
       "output_type": "stream",
       "stream": "stdout",
       "text": [
        "170606-13:26:17,212 workflow INFO:\n",
        "\t Executing node _Slice_time_correction0 in dir: /scratch/afni/tmpr6yTNc/preproc/_run_id_12_subject_id_sub-01_task_id_test_/Slice_time_correction/mapflow/_Slice_time_correction0\n"
       ]
      },
      {
       "output_type": "stream",
       "stream": "stdout",
       "text": [
        "170606-13:26:17,236 workflow INFO:\n",
        "\t Running: slicetimer --in=/scratch/sanjay/GRT/fmri_data/nifti/sub-01/func/sub-01_test_12.nii --odd --out=/scratch/afni/tmpr6yTNc/preproc/_run_id_12_subject_id_sub-01_task_id_test_/Slice_time_correction/mapflow/_Slice_time_correction0/sub-01_test_12_st.nii\n"
       ]
      },
      {
       "output_type": "stream",
       "stream": "stdout",
       "text": [
        "170606-13:27:06,520 workflow INFO:\n",
        "\t Executing node Realign_with_MCFLIRT.b47 in dir: /scratch/afni/tmp323pR9/preproc/_run_id_12_subject_id_sub-01_task_id_test_/Realign_with_MCFLIRT\n"
       ]
      },
      {
       "output_type": "stream",
       "stream": "stdout",
       "text": [
        "170606-13:27:06,536 workflow INFO:\n",
        "\t Executing node _Realign_with_MCFLIRT0 in dir: /scratch/afni/tmp323pR9/preproc/_run_id_12_subject_id_sub-01_task_id_test_/Realign_with_MCFLIRT/mapflow/_Realign_with_MCFLIRT0\n"
       ]
      },
      {
       "output_type": "stream",
       "stream": "stdout",
       "text": [
        "170606-13:27:06,549 workflow INFO:\n",
        "\t Running: mcflirt -in /scratch/afni/tmpr6yTNc/preproc/_run_id_12_subject_id_sub-01_task_id_test_/Slice_time_correction/mapflow/_Slice_time_correction0/sub-01_test_12_st.nii -dof 6 -sinc_final -out /scratch/afni/tmp323pR9/preproc/_run_id_12_subject_id_sub-01_task_id_test_/Realign_with_MCFLIRT/mapflow/_Realign_with_MCFLIRT0/sub-01_test_12_st_mcf.nii -mats -plots\n"
       ]
      },
      {
       "output_type": "stream",
       "stream": "stdout",
       "text": [
        "170606-13:40:34,198 workflow INFO:\n",
        "\t Executing node Check_motion_plots.aI.a1.b47 in dir: /scratch/afni/tmpWLO6SL/preproc/_run_id_12_subject_id_sub-01_task_id_test_/_plot_type_translations/Check_motion_plots\n"
       ]
      },
      {
       "output_type": "stream",
       "stream": "stdout",
       "text": [
        "170606-13:40:34,227 workflow INFO:\n",
        "\t Executing node _Check_motion_plots0 in dir: /scratch/afni/tmpWLO6SL/preproc/_run_id_12_subject_id_sub-01_task_id_test_/_plot_type_translations/Check_motion_plots/mapflow/_Check_motion_plots0\n"
       ]
      },
      {
       "output_type": "stream",
       "stream": "stdout",
       "text": [
        "170606-13:40:34,250 workflow INFO:\n",
        "\t Running: fsl_tsplot -i /scratch/afni/tmp323pR9/preproc/_run_id_12_subject_id_sub-01_task_id_test_/Realign_with_MCFLIRT/mapflow/_Realign_with_MCFLIRT0/sub-01_test_12_st_mcf.nii.par -o /scratch/afni/tmp323pR9/preproc/_run_id_12_subject_id_sub-01_task_id_test_/Realign_with_MCFLIRT/mapflow/_Realign_with_MCFLIRT0/sub-01_test_12_st_mcf.nii_trans.png -t 'MCFLIRT estimated translations (mm)' --start=4 --finish=6 -a x,y,z\n"
       ]
      },
      {
       "output_type": "stream",
       "stream": "stdout",
       "text": [
        "170606-13:40:35,388 workflow INFO:\n",
        "\t Executing node Get_files.b00 in dir: /scratch/afni/tmpN_RrxS/preproc/_run_id_1_subject_id_sub-02_task_id_train_/Get_files\n"
       ]
      },
      {
       "output_type": "stream",
       "stream": "stdout",
       "text": [
        "170606-13:40:35,462 workflow INFO:\n",
        "\t Executing node Slice_time_correction.b00 in dir: /scratch/afni/tmpnJIjlM/preproc/_run_id_1_subject_id_sub-02_task_id_train_/Slice_time_correction\n"
       ]
      },
      {
       "output_type": "stream",
       "stream": "stdout",
       "text": [
        "170606-13:40:35,490 workflow INFO:\n",
        "\t Executing node _Slice_time_correction0 in dir: /scratch/afni/tmpnJIjlM/preproc/_run_id_1_subject_id_sub-02_task_id_train_/Slice_time_correction/mapflow/_Slice_time_correction0\n"
       ]
      },
      {
       "output_type": "stream",
       "stream": "stdout",
       "text": [
        "170606-13:40:35,512 workflow INFO:\n",
        "\t Running: slicetimer --in=/scratch/sanjay/GRT/fmri_data/nifti/sub-02/func/sub-02_train_1.nii --odd --out=/scratch/afni/tmpnJIjlM/preproc/_run_id_1_subject_id_sub-02_task_id_train_/Slice_time_correction/mapflow/_Slice_time_correction0/sub-02_train_1_st.nii\n"
       ]
      },
      {
       "output_type": "stream",
       "stream": "stdout",
       "text": [
        "170606-13:41:03,308 workflow INFO:\n",
        "\t Executing node Slice_time_correction.b02 in dir: /scratch/afni/tmpmINRKY/preproc/_run_id_3_subject_id_sub-02_task_id_train_/Slice_time_correction\n"
       ]
      },
      {
       "output_type": "stream",
       "stream": "stdout",
       "text": [
        "170606-13:41:03,339 workflow INFO:\n",
        "\t Executing node _Slice_time_correction0 in dir: /scratch/afni/tmpmINRKY/preproc/_run_id_3_subject_id_sub-02_task_id_train_/Slice_time_correction/mapflow/_Slice_time_correction0\n"
       ]
      },
      {
       "output_type": "stream",
       "stream": "stdout",
       "text": [
        "170606-13:41:03,362 workflow INFO:\n",
        "\t Running: slicetimer --in=/scratch/sanjay/GRT/fmri_data/nifti/sub-02/func/sub-02_train_3.nii --odd --out=/scratch/afni/tmpmINRKY/preproc/_run_id_3_subject_id_sub-02_task_id_train_/Slice_time_correction/mapflow/_Slice_time_correction0/sub-02_train_3_st.nii\n"
       ]
      },
      {
       "output_type": "stream",
       "stream": "stdout",
       "text": [
        "170606-13:41:30,596 workflow INFO:\n",
        "\t Executing node Check_motion_plots.aI.a0.b47 in dir: /scratch/afni/tmpbnNUBd/preproc/_run_id_12_subject_id_sub-01_task_id_test_/_plot_type_rotations/Check_motion_plots\n"
       ]
      },
      {
       "output_type": "stream",
       "stream": "stdout",
       "text": [
        "170606-13:41:30,610 workflow INFO:\n",
        "\t Executing node _Check_motion_plots0 in dir: /scratch/afni/tmpbnNUBd/preproc/_run_id_12_subject_id_sub-01_task_id_test_/_plot_type_rotations/Check_motion_plots/mapflow/_Check_motion_plots0\n"
       ]
      },
      {
       "output_type": "stream",
       "stream": "stdout",
       "text": [
        "170606-13:41:30,621 workflow INFO:\n",
        "\t Running: fsl_tsplot -i /scratch/afni/tmp323pR9/preproc/_run_id_12_subject_id_sub-01_task_id_test_/Realign_with_MCFLIRT/mapflow/_Realign_with_MCFLIRT0/sub-01_test_12_st_mcf.nii.par -o /scratch/afni/tmp323pR9/preproc/_run_id_12_subject_id_sub-01_task_id_test_/Realign_with_MCFLIRT/mapflow/_Realign_with_MCFLIRT0/sub-01_test_12_st_mcf.nii_rot.png -t 'MCFLIRT estimated rotations (radians)' --start=1 --finish=3 -a x,y,z\n"
       ]
      },
      {
       "output_type": "stream",
       "stream": "stdout",
       "text": [
        "170606-13:41:31,700 workflow INFO:\n",
        "\t Executing node Resample_T1.b47 in dir: /scratch/afni/tmpjqhOwc/preproc/_run_id_12_subject_id_sub-01_task_id_test_/Resample_T1\n"
       ]
      },
      {
       "output_type": "stream",
       "stream": "stdout",
       "text": [
        "170606-13:41:31,716 workflow INFO:\n",
        "\t Running: 3dresample -prefix sub-01_T1_resample.nii -dxyz 2.400000 2.400000 2.400000 -inset /scratch/afni/tmpjqhOwc/preproc/_run_id_12_subject_id_sub-01_task_id_test_/Resample_T1/sub-01_T1.nii\n"
       ]
      },
      {
       "output_type": "stream",
       "stream": "stdout",
       "text": [
        "170606-13:41:32,977 workflow INFO:\n",
        "\t Executing node Register_functionals.b47 in dir: /scratch/afni/tmp13sE_2/preproc/_run_id_12_subject_id_sub-01_task_id_test_/Register_functionals\n"
       ]
      },
      {
       "output_type": "stream",
       "stream": "stdout",
       "text": [
        "170606-13:41:32,996 workflow INFO:\n",
        "\t Executing node _Register_functionals0 in dir: /scratch/afni/tmp13sE_2/preproc/_run_id_12_subject_id_sub-01_task_id_test_/Register_functionals/mapflow/_Register_functionals0\n"
       ]
      },
      {
       "output_type": "stream",
       "stream": "stdout",
       "text": [
        "170606-13:41:33,10 workflow INFO:\n",
        "\t Running: flirt -in /scratch/afni/tmp323pR9/preproc/_run_id_12_subject_id_sub-01_task_id_test_/Realign_with_MCFLIRT/mapflow/_Realign_with_MCFLIRT0/sub-01_test_12_st_mcf.nii -ref /scratch/afni/tmpjqhOwc/preproc/_run_id_12_subject_id_sub-01_task_id_test_/Resample_T1/sub-01_T1_resample.nii -out sub-01_test_12_st_mcf_flirt.nii -omat sub-01_test_12_st_mcf_flirt.mat\n"
       ]
      },
      {
       "output_type": "stream",
       "stream": "stdout",
       "text": [
        "170606-13:41:42,869 workflow INFO:\n",
        "\t Executing node Strip_skull.b47 in dir: /scratch/afni/tmpnCsNCF/preproc/_run_id_12_subject_id_sub-01_task_id_test_/Strip_skull\n"
       ]
      },
      {
       "output_type": "stream",
       "stream": "stdout",
       "text": [
        "170606-13:41:42,901 workflow INFO:\n",
        "\t Executing node _Strip_skull0 in dir: /scratch/afni/tmpnCsNCF/preproc/_run_id_12_subject_id_sub-01_task_id_test_/Strip_skull/mapflow/_Strip_skull0\n"
       ]
      },
      {
       "output_type": "stream",
       "stream": "stdout",
       "text": [
        "170606-13:41:42,927 workflow INFO:\n",
        "\t Running: bet /scratch/afni/tmp13sE_2/preproc/_run_id_12_subject_id_sub-01_task_id_test_/Register_functionals/mapflow/_Register_functionals0/sub-01_test_12_st_mcf_flirt.nii /scratch/afni/tmpnCsNCF/preproc/_run_id_12_subject_id_sub-01_task_id_test_/Strip_skull/mapflow/_Strip_skull0/sub-01_test_12_st_mcf_flirt_brain.nii -F\n"
       ]
      },
      {
       "output_type": "stream",
       "stream": "stdout",
       "text": [
        "170606-13:41:48,222 workflow INFO:\n",
        "\t Executing node store_outputs.a0.b47 in dir: /scratch/afni/tmpBKQ1Me/preproc/_run_id_12_subject_id_sub-01_task_id_test_/_plot_type_rotations/store_outputs\n"
       ]
      },
      {
       "output_type": "stream",
       "stream": "stdout",
       "text": [
        "170606-13:41:48,383 workflow INFO:\n",
        "\t Executing node store_outputs.a1.b47 in dir: /scratch/afni/tmpaAr52o/preproc/_run_id_12_subject_id_sub-01_task_id_test_/_plot_type_translations/store_outputs\n"
       ]
      },
      {
       "output_type": "stream",
       "stream": "stdout",
       "text": [
        "170606-13:41:48,472 workflow INFO:\n",
        "\t Executing node Realign_with_MCFLIRT.b02 in dir: /scratch/afni/tmpVXgnJ6/preproc/_run_id_3_subject_id_sub-02_task_id_train_/Realign_with_MCFLIRT\n"
       ]
      },
      {
       "output_type": "stream",
       "stream": "stdout",
       "text": [
        "170606-13:41:48,505 workflow INFO:\n",
        "\t Executing node _Realign_with_MCFLIRT0 in dir: /scratch/afni/tmpVXgnJ6/preproc/_run_id_3_subject_id_sub-02_task_id_train_/Realign_with_MCFLIRT/mapflow/_Realign_with_MCFLIRT0\n"
       ]
      },
      {
       "output_type": "stream",
       "stream": "stdout",
       "text": [
        "170606-13:41:48,531 workflow INFO:\n",
        "\t Running: mcflirt -in /scratch/afni/tmpmINRKY/preproc/_run_id_3_subject_id_sub-02_task_id_train_/Slice_time_correction/mapflow/_Slice_time_correction0/sub-02_train_3_st.nii -dof 6 -sinc_final -out /scratch/afni/tmpVXgnJ6/preproc/_run_id_3_subject_id_sub-02_task_id_train_/Realign_with_MCFLIRT/mapflow/_Realign_with_MCFLIRT0/sub-02_train_3_st_mcf.nii -mats -plots\n"
       ]
      },
      {
       "output_type": "stream",
       "stream": "stdout",
       "text": [
        "170606-13:49:04,475 workflow INFO:\n",
        "\t Executing node Check_motion_plots.aI.a1.b02 in dir: /scratch/afni/tmp3CdopZ/preproc/_run_id_3_subject_id_sub-02_task_id_train_/_plot_type_translations/Check_motion_plots\n"
       ]
      },
      {
       "output_type": "stream",
       "stream": "stdout",
       "text": [
        "170606-13:49:04,505 workflow INFO:\n",
        "\t Executing node _Check_motion_plots0 in dir: /scratch/afni/tmp3CdopZ/preproc/_run_id_3_subject_id_sub-02_task_id_train_/_plot_type_translations/Check_motion_plots/mapflow/_Check_motion_plots0\n"
       ]
      },
      {
       "output_type": "stream",
       "stream": "stdout",
       "text": [
        "170606-13:49:04,528 workflow INFO:\n",
        "\t Running: fsl_tsplot -i /scratch/afni/tmpVXgnJ6/preproc/_run_id_3_subject_id_sub-02_task_id_train_/Realign_with_MCFLIRT/mapflow/_Realign_with_MCFLIRT0/sub-02_train_3_st_mcf.nii.par -o /scratch/afni/tmpVXgnJ6/preproc/_run_id_3_subject_id_sub-02_task_id_train_/Realign_with_MCFLIRT/mapflow/_Realign_with_MCFLIRT0/sub-02_train_3_st_mcf.nii_trans.png -t 'MCFLIRT estimated translations (mm)' --start=4 --finish=6 -a x,y,z\n"
       ]
      },
      {
       "output_type": "stream",
       "stream": "stdout",
       "text": [
        "170606-13:49:05,647 workflow INFO:\n",
        "\t Executing node Get_files.b12 in dir: /scratch/afni/tmp2cNnFf/preproc/_run_id_1_subject_id_sub-02_task_id_test_/Get_files\n"
       ]
      },
      {
       "output_type": "stream",
       "stream": "stdout",
       "text": [
        "170606-13:49:05,718 workflow INFO:\n",
        "\t Executing node Slice_time_correction.b12 in dir: /scratch/afni/tmp6ZwDqg/preproc/_run_id_1_subject_id_sub-02_task_id_test_/Slice_time_correction\n"
       ]
      },
      {
       "output_type": "stream",
       "stream": "stdout",
       "text": [
        "170606-13:49:05,746 workflow INFO:\n",
        "\t Executing node _Slice_time_correction0 in dir: /scratch/afni/tmp6ZwDqg/preproc/_run_id_1_subject_id_sub-02_task_id_test_/Slice_time_correction/mapflow/_Slice_time_correction0\n"
       ]
      },
      {
       "output_type": "stream",
       "stream": "stdout",
       "text": [
        "170606-13:49:05,768 workflow INFO:\n",
        "\t Running: slicetimer --in=/scratch/sanjay/GRT/fmri_data/nifti/sub-02/func/sub-02_test_1.nii --odd --out=/scratch/afni/tmp6ZwDqg/preproc/_run_id_1_subject_id_sub-02_task_id_test_/Slice_time_correction/mapflow/_Slice_time_correction0/sub-02_test_1_st.nii\n"
       ]
      },
      {
       "output_type": "stream",
       "stream": "stdout",
       "text": [
        "170606-13:49:55,45 workflow INFO:\n",
        "\t Executing node Check_motion_plots.aI.a0.b02 in dir: /scratch/afni/tmp6Bjkfi/preproc/_run_id_3_subject_id_sub-02_task_id_train_/_plot_type_rotations/Check_motion_plots\n"
       ]
      },
      {
       "output_type": "stream",
       "stream": "stdout",
       "text": [
        "170606-13:49:55,60 workflow INFO:\n",
        "\t Executing node _Check_motion_plots0 in dir: /scratch/afni/tmp6Bjkfi/preproc/_run_id_3_subject_id_sub-02_task_id_train_/_plot_type_rotations/Check_motion_plots/mapflow/_Check_motion_plots0\n"
       ]
      },
      {
       "output_type": "stream",
       "stream": "stdout",
       "text": [
        "170606-13:49:55,71 workflow INFO:\n",
        "\t Running: fsl_tsplot -i /scratch/afni/tmpVXgnJ6/preproc/_run_id_3_subject_id_sub-02_task_id_train_/Realign_with_MCFLIRT/mapflow/_Realign_with_MCFLIRT0/sub-02_train_3_st_mcf.nii.par -o /scratch/afni/tmpVXgnJ6/preproc/_run_id_3_subject_id_sub-02_task_id_train_/Realign_with_MCFLIRT/mapflow/_Realign_with_MCFLIRT0/sub-02_train_3_st_mcf.nii_rot.png -t 'MCFLIRT estimated rotations (radians)' --start=1 --finish=3 -a x,y,z\n"
       ]
      },
      {
       "output_type": "stream",
       "stream": "stdout",
       "text": [
        "170606-13:49:56,145 workflow INFO:\n",
        "\t Executing node Get_files.b46 in dir: /scratch/afni/tmpm0XSna/preproc/_run_id_11_subject_id_sub-01_task_id_test_/Get_files\n"
       ]
      },
      {
       "output_type": "stream",
       "stream": "stdout",
       "text": [
        "170606-13:49:56,178 workflow INFO:\n",
        "\t Executing node Slice_time_correction.b46 in dir: /scratch/afni/tmpNAyb2l/preproc/_run_id_11_subject_id_sub-01_task_id_test_/Slice_time_correction\n"
       ]
      },
      {
       "output_type": "stream",
       "stream": "stdout",
       "text": [
        "170606-13:49:56,192 workflow INFO:\n",
        "\t Executing node _Slice_time_correction0 in dir: /scratch/afni/tmpNAyb2l/preproc/_run_id_11_subject_id_sub-01_task_id_test_/Slice_time_correction/mapflow/_Slice_time_correction0\n"
       ]
      },
      {
       "output_type": "stream",
       "stream": "stdout",
       "text": [
        "170606-13:49:56,202 workflow INFO:\n",
        "\t Running: slicetimer --in=/scratch/sanjay/GRT/fmri_data/nifti/sub-01/func/sub-01_test_11.nii --odd --out=/scratch/afni/tmpNAyb2l/preproc/_run_id_11_subject_id_sub-01_task_id_test_/Slice_time_correction/mapflow/_Slice_time_correction0/sub-01_test_11_st.nii\n"
       ]
      },
      {
       "output_type": "stream",
       "stream": "stdout",
       "text": [
        "170606-13:50:44,968 workflow INFO:\n",
        "\t Executing node Realign_with_MCFLIRT.b12 in dir: /scratch/afni/tmpjEBuAA/preproc/_run_id_1_subject_id_sub-02_task_id_test_/Realign_with_MCFLIRT\n"
       ]
      },
      {
       "output_type": "stream",
       "stream": "stdout",
       "text": [
        "170606-13:50:44,984 workflow INFO:\n",
        "\t Executing node _Realign_with_MCFLIRT0 in dir: /scratch/afni/tmpjEBuAA/preproc/_run_id_1_subject_id_sub-02_task_id_test_/Realign_with_MCFLIRT/mapflow/_Realign_with_MCFLIRT0\n"
       ]
      },
      {
       "output_type": "stream",
       "stream": "stdout",
       "text": [
        "170606-13:50:44,996 workflow INFO:\n",
        "\t Running: mcflirt -in /scratch/afni/tmp6ZwDqg/preproc/_run_id_1_subject_id_sub-02_task_id_test_/Slice_time_correction/mapflow/_Slice_time_correction0/sub-02_test_1_st.nii -dof 6 -sinc_final -out /scratch/afni/tmpjEBuAA/preproc/_run_id_1_subject_id_sub-02_task_id_test_/Realign_with_MCFLIRT/mapflow/_Realign_with_MCFLIRT0/sub-02_test_1_st_mcf.nii -mats -plots\n"
       ]
      },
      {
       "output_type": "stream",
       "stream": "stdout",
       "text": [
        "170606-14:03:37,730 workflow INFO:\n",
        "\t Executing node Check_motion_plots.aI.a1.b12 in dir: /scratch/afni/tmpmhaVjC/preproc/_run_id_1_subject_id_sub-02_task_id_test_/_plot_type_translations/Check_motion_plots\n"
       ]
      },
      {
       "output_type": "stream",
       "stream": "stdout",
       "text": [
        "170606-14:03:37,743 workflow INFO:\n",
        "\t Executing node _Check_motion_plots0 in dir: /scratch/afni/tmpmhaVjC/preproc/_run_id_1_subject_id_sub-02_task_id_test_/_plot_type_translations/Check_motion_plots/mapflow/_Check_motion_plots0\n"
       ]
      },
      {
       "output_type": "stream",
       "stream": "stdout",
       "text": [
        "170606-14:03:37,753 workflow INFO:\n",
        "\t Running: fsl_tsplot -i /scratch/afni/tmpjEBuAA/preproc/_run_id_1_subject_id_sub-02_task_id_test_/Realign_with_MCFLIRT/mapflow/_Realign_with_MCFLIRT0/sub-02_test_1_st_mcf.nii.par -o /scratch/afni/tmpjEBuAA/preproc/_run_id_1_subject_id_sub-02_task_id_test_/Realign_with_MCFLIRT/mapflow/_Realign_with_MCFLIRT0/sub-02_test_1_st_mcf.nii_trans.png -t 'MCFLIRT estimated translations (mm)' --start=4 --finish=6 -a x,y,z\n"
       ]
      },
      {
       "output_type": "stream",
       "stream": "stdout",
       "text": [
        "170606-14:03:38,825 workflow INFO:\n",
        "\t Executing node Realign_with_MCFLIRT.b46 in dir: /scratch/afni/tmpqjoVGg/preproc/_run_id_11_subject_id_sub-01_task_id_test_/Realign_with_MCFLIRT\n"
       ]
      },
      {
       "output_type": "stream",
       "stream": "stdout",
       "text": [
        "170606-14:03:38,841 workflow INFO:\n",
        "\t Executing node _Realign_with_MCFLIRT0 in dir: /scratch/afni/tmpqjoVGg/preproc/_run_id_11_subject_id_sub-01_task_id_test_/Realign_with_MCFLIRT/mapflow/_Realign_with_MCFLIRT0\n"
       ]
      },
      {
       "output_type": "stream",
       "stream": "stdout",
       "text": [
        "170606-14:03:38,852 workflow INFO:\n",
        "\t Running: mcflirt -in /scratch/afni/tmpNAyb2l/preproc/_run_id_11_subject_id_sub-01_task_id_test_/Slice_time_correction/mapflow/_Slice_time_correction0/sub-01_test_11_st.nii -dof 6 -sinc_final -out /scratch/afni/tmpqjoVGg/preproc/_run_id_11_subject_id_sub-01_task_id_test_/Realign_with_MCFLIRT/mapflow/_Realign_with_MCFLIRT0/sub-01_test_11_st_mcf.nii -mats -plots\n"
       ]
      },
      {
       "output_type": "stream",
       "stream": "stdout",
       "text": [
        "170606-14:17:17,441 workflow INFO:\n",
        "\t Executing node Check_motion_plots.aI.a1.b46 in dir: /scratch/afni/tmpu7j3MP/preproc/_run_id_11_subject_id_sub-01_task_id_test_/_plot_type_translations/Check_motion_plots\n"
       ]
      },
      {
       "output_type": "stream",
       "stream": "stdout",
       "text": [
        "170606-14:17:17,456 workflow INFO:\n",
        "\t Executing node _Check_motion_plots0 in dir: /scratch/afni/tmpu7j3MP/preproc/_run_id_11_subject_id_sub-01_task_id_test_/_plot_type_translations/Check_motion_plots/mapflow/_Check_motion_plots0\n"
       ]
      },
      {
       "output_type": "stream",
       "stream": "stdout",
       "text": [
        "170606-14:17:17,468 workflow INFO:\n",
        "\t Running: fsl_tsplot -i /scratch/afni/tmpqjoVGg/preproc/_run_id_11_subject_id_sub-01_task_id_test_/Realign_with_MCFLIRT/mapflow/_Realign_with_MCFLIRT0/sub-01_test_11_st_mcf.nii.par -o /scratch/afni/tmpqjoVGg/preproc/_run_id_11_subject_id_sub-01_task_id_test_/Realign_with_MCFLIRT/mapflow/_Realign_with_MCFLIRT0/sub-01_test_11_st_mcf.nii_trans.png -t 'MCFLIRT estimated translations (mm)' --start=4 --finish=6 -a x,y,z\n"
       ]
      },
      {
       "output_type": "stream",
       "stream": "stdout",
       "text": [
        "170606-14:17:18,599 workflow INFO:\n",
        "\t Executing node Realign_with_MCFLIRT.b00 in dir: /scratch/afni/tmpG3IJmW/preproc/_run_id_1_subject_id_sub-02_task_id_train_/Realign_with_MCFLIRT\n"
       ]
      },
      {
       "output_type": "stream",
       "stream": "stdout",
       "text": [
        "170606-14:17:18,616 workflow INFO:\n",
        "\t Executing node _Realign_with_MCFLIRT0 in dir: /scratch/afni/tmpG3IJmW/preproc/_run_id_1_subject_id_sub-02_task_id_train_/Realign_with_MCFLIRT/mapflow/_Realign_with_MCFLIRT0\n"
       ]
      },
      {
       "output_type": "stream",
       "stream": "stdout",
       "text": [
        "170606-14:17:18,629 workflow INFO:\n",
        "\t Running: mcflirt -in /scratch/afni/tmpnJIjlM/preproc/_run_id_1_subject_id_sub-02_task_id_train_/Slice_time_correction/mapflow/_Slice_time_correction0/sub-02_train_1_st.nii -dof 6 -sinc_final -out /scratch/afni/tmpG3IJmW/preproc/_run_id_1_subject_id_sub-02_task_id_train_/Realign_with_MCFLIRT/mapflow/_Realign_with_MCFLIRT0/sub-02_train_1_st_mcf.nii -mats -plots\n"
       ]
      },
      {
       "output_type": "stream",
       "stream": "stdout",
       "text": [
        "170606-14:24:51,396 workflow INFO:\n",
        "\t Executing node Check_motion_plots.aI.a1.b00 in dir: /scratch/afni/tmp46Otd6/preproc/_run_id_1_subject_id_sub-02_task_id_train_/_plot_type_translations/Check_motion_plots\n"
       ]
      },
      {
       "output_type": "stream",
       "stream": "stdout",
       "text": [
        "170606-14:24:51,409 workflow INFO:\n",
        "\t Executing node _Check_motion_plots0 in dir: /scratch/afni/tmp46Otd6/preproc/_run_id_1_subject_id_sub-02_task_id_train_/_plot_type_translations/Check_motion_plots/mapflow/_Check_motion_plots0\n"
       ]
      },
      {
       "output_type": "stream",
       "stream": "stdout",
       "text": [
        "170606-14:24:51,418 workflow INFO:\n",
        "\t Running: fsl_tsplot -i /scratch/afni/tmpG3IJmW/preproc/_run_id_1_subject_id_sub-02_task_id_train_/Realign_with_MCFLIRT/mapflow/_Realign_with_MCFLIRT0/sub-02_train_1_st_mcf.nii.par -o /scratch/afni/tmpG3IJmW/preproc/_run_id_1_subject_id_sub-02_task_id_train_/Realign_with_MCFLIRT/mapflow/_Realign_with_MCFLIRT0/sub-02_train_1_st_mcf.nii_trans.png -t 'MCFLIRT estimated translations (mm)' --start=4 --finish=6 -a x,y,z\n"
       ]
      },
      {
       "output_type": "stream",
       "stream": "stdout",
       "text": [
        "170606-14:24:52,618 workflow INFO:\n",
        "\t Executing node Resample_T1.b30 in dir: /scratch/afni/tmprcvRGo/preproc/_run_id_7_subject_id_sub-01_task_id_train_/Resample_T1\n"
       ]
      },
      {
       "output_type": "stream",
       "stream": "stdout",
       "text": [
        "170606-14:24:52,631 workflow INFO:\n",
        "\t Running: 3dresample -prefix sub-01_T1_resample.nii -dxyz 2.400000 2.400000 2.400000 -inset /scratch/afni/tmprcvRGo/preproc/_run_id_7_subject_id_sub-01_task_id_train_/Resample_T1/sub-01_T1.nii\n"
       ]
      },
      {
       "output_type": "stream",
       "stream": "stdout",
       "text": [
        "170606-14:24:53,860 workflow INFO:\n",
        "\t Executing node Get_files.b01 in dir: /scratch/afni/tmpnSIjar/preproc/_run_id_2_subject_id_sub-02_task_id_train_/Get_files\n"
       ]
      },
      {
       "output_type": "stream",
       "stream": "stdout",
       "text": [
        "170606-14:24:53,894 workflow INFO:\n",
        "\t Executing node Slice_time_correction.b01 in dir: /scratch/afni/tmpJpQDjH/preproc/_run_id_2_subject_id_sub-02_task_id_train_/Slice_time_correction\n"
       ]
      },
      {
       "output_type": "stream",
       "stream": "stdout",
       "text": [
        "170606-14:24:53,907 workflow INFO:\n",
        "\t Executing node _Slice_time_correction0 in dir: /scratch/afni/tmpJpQDjH/preproc/_run_id_2_subject_id_sub-02_task_id_train_/Slice_time_correction/mapflow/_Slice_time_correction0\n"
       ]
      },
      {
       "output_type": "stream",
       "stream": "stdout",
       "text": [
        "170606-14:24:53,916 workflow INFO:\n",
        "\t Running: slicetimer --in=/scratch/sanjay/GRT/fmri_data/nifti/sub-02/func/sub-02_train_2.nii --odd --out=/scratch/afni/tmpJpQDjH/preproc/_run_id_2_subject_id_sub-02_task_id_train_/Slice_time_correction/mapflow/_Slice_time_correction0/sub-02_train_2_st.nii\n"
       ]
      },
      {
       "output_type": "stream",
       "stream": "stdout",
       "text": [
        "170606-14:25:22,697 workflow INFO:\n",
        "\t Executing node Resample_T1.b46 in dir: /scratch/afni/tmp81AjLy/preproc/_run_id_11_subject_id_sub-01_task_id_test_/Resample_T1\n"
       ]
      },
      {
       "output_type": "stream",
       "stream": "stdout",
       "text": [
        "170606-14:25:22,712 workflow INFO:\n",
        "\t Running: 3dresample -prefix sub-01_T1_resample.nii -dxyz 2.400000 2.400000 2.400000 -inset /scratch/afni/tmp81AjLy/preproc/_run_id_11_subject_id_sub-01_task_id_test_/Resample_T1/sub-01_T1.nii\n"
       ]
      },
      {
       "output_type": "stream",
       "stream": "stdout",
       "text": [
        "170606-14:25:23,802 workflow INFO:\n",
        "\t Executing node Register_functionals.b46 in dir: /scratch/afni/tmpQYK6OH/preproc/_run_id_11_subject_id_sub-01_task_id_test_/Register_functionals\n"
       ]
      },
      {
       "output_type": "stream",
       "stream": "stdout",
       "text": [
        "170606-14:25:23,821 workflow INFO:\n",
        "\t Executing node _Register_functionals0 in dir: /scratch/afni/tmpQYK6OH/preproc/_run_id_11_subject_id_sub-01_task_id_test_/Register_functionals/mapflow/_Register_functionals0\n"
       ]
      },
      {
       "output_type": "stream",
       "stream": "stdout",
       "text": [
        "170606-14:25:23,835 workflow INFO:\n",
        "\t Running: flirt -in /scratch/afni/tmpqjoVGg/preproc/_run_id_11_subject_id_sub-01_task_id_test_/Realign_with_MCFLIRT/mapflow/_Realign_with_MCFLIRT0/sub-01_test_11_st_mcf.nii -ref /scratch/afni/tmp81AjLy/preproc/_run_id_11_subject_id_sub-01_task_id_test_/Resample_T1/sub-01_T1_resample.nii -out sub-01_test_11_st_mcf_flirt.nii -omat sub-01_test_11_st_mcf_flirt.mat\n"
       ]
      },
      {
       "output_type": "stream",
       "stream": "stdout",
       "text": [
        "170606-14:25:33,643 workflow INFO:\n",
        "\t Executing node Strip_skull.b46 in dir: /scratch/afni/tmpHMRShW/preproc/_run_id_11_subject_id_sub-01_task_id_test_/Strip_skull\n"
       ]
      },
      {
       "output_type": "stream",
       "stream": "stdout",
       "text": [
        "170606-14:25:33,658 workflow INFO:\n",
        "\t Executing node _Strip_skull0 in dir: /scratch/afni/tmpHMRShW/preproc/_run_id_11_subject_id_sub-01_task_id_test_/Strip_skull/mapflow/_Strip_skull0\n"
       ]
      },
      {
       "output_type": "stream",
       "stream": "stdout",
       "text": [
        "170606-14:25:33,669 workflow INFO:\n",
        "\t Running: bet /scratch/afni/tmpQYK6OH/preproc/_run_id_11_subject_id_sub-01_task_id_test_/Register_functionals/mapflow/_Register_functionals0/sub-01_test_11_st_mcf_flirt.nii /scratch/afni/tmpHMRShW/preproc/_run_id_11_subject_id_sub-01_task_id_test_/Strip_skull/mapflow/_Strip_skull0/sub-01_test_11_st_mcf_flirt_brain.nii -F\n"
       ]
      },
      {
       "output_type": "stream",
       "stream": "stdout",
       "text": [
        "170606-14:25:38,355 workflow INFO:\n",
        "\t Executing node store_outputs.a1.b46 in dir: /scratch/afni/tmpng5LrU/preproc/_run_id_11_subject_id_sub-01_task_id_test_/_plot_type_translations/store_outputs\n"
       ]
      },
      {
       "output_type": "stream",
       "stream": "stdout",
       "text": [
        "170606-14:25:38,409 workflow INFO:\n",
        "\t Executing node Realign_with_MCFLIRT.b01 in dir: /scratch/afni/tmpm5HCdj/preproc/_run_id_2_subject_id_sub-02_task_id_train_/Realign_with_MCFLIRT\n"
       ]
      },
      {
       "output_type": "stream",
       "stream": "stdout",
       "text": [
        "170606-14:25:38,424 workflow INFO:\n",
        "\t Executing node _Realign_with_MCFLIRT0 in dir: /scratch/afni/tmpm5HCdj/preproc/_run_id_2_subject_id_sub-02_task_id_train_/Realign_with_MCFLIRT/mapflow/_Realign_with_MCFLIRT0\n"
       ]
      },
      {
       "output_type": "stream",
       "stream": "stdout",
       "text": [
        "170606-14:25:38,436 workflow INFO:\n",
        "\t Running: mcflirt -in /scratch/afni/tmpJpQDjH/preproc/_run_id_2_subject_id_sub-02_task_id_train_/Slice_time_correction/mapflow/_Slice_time_correction0/sub-02_train_2_st.nii -dof 6 -sinc_final -out /scratch/afni/tmpm5HCdj/preproc/_run_id_2_subject_id_sub-02_task_id_train_/Realign_with_MCFLIRT/mapflow/_Realign_with_MCFLIRT0/sub-02_train_2_st_mcf.nii -mats -plots\n"
       ]
      },
      {
       "output_type": "stream",
       "stream": "stdout",
       "text": [
        "170606-14:33:26,99 workflow INFO:\n",
        "\t Executing node Check_motion_plots.aI.a1.b01 in dir: /scratch/afni/tmpnIm7YX/preproc/_run_id_2_subject_id_sub-02_task_id_train_/_plot_type_translations/Check_motion_plots\n"
       ]
      },
      {
       "output_type": "stream",
       "stream": "stdout",
       "text": [
        "170606-14:33:26,113 workflow INFO:\n",
        "\t Executing node _Check_motion_plots0 in dir: /scratch/afni/tmpnIm7YX/preproc/_run_id_2_subject_id_sub-02_task_id_train_/_plot_type_translations/Check_motion_plots/mapflow/_Check_motion_plots0\n"
       ]
      },
      {
       "output_type": "stream",
       "stream": "stdout",
       "text": [
        "170606-14:33:26,123 workflow INFO:\n",
        "\t Running: fsl_tsplot -i /scratch/afni/tmpm5HCdj/preproc/_run_id_2_subject_id_sub-02_task_id_train_/Realign_with_MCFLIRT/mapflow/_Realign_with_MCFLIRT0/sub-02_train_2_st_mcf.nii.par -o /scratch/afni/tmpm5HCdj/preproc/_run_id_2_subject_id_sub-02_task_id_train_/Realign_with_MCFLIRT/mapflow/_Realign_with_MCFLIRT0/sub-02_train_2_st_mcf.nii_trans.png -t 'MCFLIRT estimated translations (mm)' --start=4 --finish=6 -a x,y,z\n"
       ]
      },
      {
       "output_type": "stream",
       "stream": "stdout",
       "text": [
        "170606-14:33:27,198 workflow INFO:\n",
        "\t Executing node Check_motion_plots.aI.a0.b01 in dir: /scratch/afni/tmp5eWgBO/preproc/_run_id_2_subject_id_sub-02_task_id_train_/_plot_type_rotations/Check_motion_plots\n"
       ]
      },
      {
       "output_type": "stream",
       "stream": "stdout",
       "text": [
        "170606-14:33:27,213 workflow INFO:\n",
        "\t Executing node _Check_motion_plots0 in dir: /scratch/afni/tmp5eWgBO/preproc/_run_id_2_subject_id_sub-02_task_id_train_/_plot_type_rotations/Check_motion_plots/mapflow/_Check_motion_plots0\n"
       ]
      },
      {
       "output_type": "stream",
       "stream": "stdout",
       "text": [
        "170606-14:33:27,224 workflow INFO:\n",
        "\t Running: fsl_tsplot -i /scratch/afni/tmpm5HCdj/preproc/_run_id_2_subject_id_sub-02_task_id_train_/Realign_with_MCFLIRT/mapflow/_Realign_with_MCFLIRT0/sub-02_train_2_st_mcf.nii.par -o /scratch/afni/tmpm5HCdj/preproc/_run_id_2_subject_id_sub-02_task_id_train_/Realign_with_MCFLIRT/mapflow/_Realign_with_MCFLIRT0/sub-02_train_2_st_mcf.nii_rot.png -t 'MCFLIRT estimated rotations (radians)' --start=1 --finish=3 -a x,y,z\n"
       ]
      },
      {
       "output_type": "stream",
       "stream": "stdout",
       "text": [
        "170606-14:33:28,296 workflow INFO:\n",
        "\t Executing node Resample_T1.b02 in dir: /scratch/afni/tmpz1QWCP/preproc/_run_id_3_subject_id_sub-02_task_id_train_/Resample_T1\n"
       ]
      },
      {
       "output_type": "stream",
       "stream": "stdout",
       "text": [
        "170606-14:33:28,308 workflow INFO:\n",
        "\t Running: 3dresample -prefix sub-02_T1_resample.nii -dxyz 2.400000 2.400000 2.400000 -inset /scratch/afni/tmpz1QWCP/preproc/_run_id_3_subject_id_sub-02_task_id_train_/Resample_T1/sub-02_T1.nii\n"
       ]
      },
      {
       "output_type": "stream",
       "stream": "stdout",
       "text": [
        "170606-14:33:29,391 workflow INFO:\n",
        "\t Executing node Register_functionals.b02 in dir: /scratch/afni/tmpzQlVFX/preproc/_run_id_3_subject_id_sub-02_task_id_train_/Register_functionals\n"
       ]
      },
      {
       "output_type": "stream",
       "stream": "stdout",
       "text": [
        "170606-14:33:29,410 workflow INFO:\n",
        "\t Executing node _Register_functionals0 in dir: /scratch/afni/tmpzQlVFX/preproc/_run_id_3_subject_id_sub-02_task_id_train_/Register_functionals/mapflow/_Register_functionals0\n"
       ]
      },
      {
       "output_type": "stream",
       "stream": "stdout",
       "text": [
        "170606-14:33:29,424 workflow INFO:\n",
        "\t Running: flirt -in /scratch/afni/tmpVXgnJ6/preproc/_run_id_3_subject_id_sub-02_task_id_train_/Realign_with_MCFLIRT/mapflow/_Realign_with_MCFLIRT0/sub-02_train_3_st_mcf.nii -ref /scratch/afni/tmpz1QWCP/preproc/_run_id_3_subject_id_sub-02_task_id_train_/Resample_T1/sub-02_T1_resample.nii -out sub-02_train_3_st_mcf_flirt.nii -omat sub-02_train_3_st_mcf_flirt.mat\n"
       ]
      },
      {
       "output_type": "stream",
       "stream": "stdout",
       "text": [
        "170606-14:33:39,229 workflow INFO:\n",
        "\t Executing node Strip_skull.b02 in dir: /scratch/afni/tmpASyidJ/preproc/_run_id_3_subject_id_sub-02_task_id_train_/Strip_skull\n"
       ]
      },
      {
       "output_type": "stream",
       "stream": "stdout",
       "text": [
        "170606-14:33:39,244 workflow INFO:\n",
        "\t Executing node _Strip_skull0 in dir: /scratch/afni/tmpASyidJ/preproc/_run_id_3_subject_id_sub-02_task_id_train_/Strip_skull/mapflow/_Strip_skull0\n"
       ]
      },
      {
       "output_type": "stream",
       "stream": "stdout",
       "text": [
        "170606-14:33:39,256 workflow INFO:\n",
        "\t Running: bet /scratch/afni/tmpzQlVFX/preproc/_run_id_3_subject_id_sub-02_task_id_train_/Register_functionals/mapflow/_Register_functionals0/sub-02_train_3_st_mcf_flirt.nii /scratch/afni/tmpASyidJ/preproc/_run_id_3_subject_id_sub-02_task_id_train_/Strip_skull/mapflow/_Strip_skull0/sub-02_train_3_st_mcf_flirt_brain.nii -F\n"
       ]
      },
      {
       "output_type": "stream",
       "stream": "stdout",
       "text": [
        "170606-14:33:43,973 workflow INFO:\n",
        "\t Executing node store_outputs.a1.b02 in dir: /scratch/afni/tmpORa9HD/preproc/_run_id_3_subject_id_sub-02_task_id_train_/_plot_type_translations/store_outputs\n"
       ]
      },
      {
       "output_type": "stream",
       "stream": "stdout",
       "text": [
        "170606-14:33:44,58 workflow INFO:\n",
        "\t Executing node store_outputs.a0.b02 in dir: /scratch/afni/tmpsnIA4N/preproc/_run_id_3_subject_id_sub-02_task_id_train_/_plot_type_rotations/store_outputs\n"
       ]
      },
      {
       "output_type": "stream",
       "stream": "stdout",
       "text": [
        "170606-14:33:44,91 workflow INFO:\n",
        "\t Executing node Get_files.b21 in dir: /scratch/afni/tmpnESfza/preproc/_run_id_10_subject_id_sub-02_task_id_test_/Get_files\n"
       ]
      },
      {
       "output_type": "stream",
       "stream": "stdout",
       "text": [
        "170606-14:33:44,122 workflow INFO:\n",
        "\t Executing node Slice_time_correction.b21 in dir: /scratch/afni/tmp7jNt3T/preproc/_run_id_10_subject_id_sub-02_task_id_test_/Slice_time_correction\n"
       ]
      },
      {
       "output_type": "stream",
       "stream": "stdout",
       "text": [
        "170606-14:33:44,136 workflow INFO:\n",
        "\t Executing node _Slice_time_correction0 in dir: /scratch/afni/tmp7jNt3T/preproc/_run_id_10_subject_id_sub-02_task_id_test_/Slice_time_correction/mapflow/_Slice_time_correction0\n"
       ]
      },
      {
       "output_type": "stream",
       "stream": "stdout",
       "text": [
        "170606-14:33:44,146 workflow INFO:\n",
        "\t Running: slicetimer --in=/scratch/sanjay/GRT/fmri_data/nifti/sub-02/func/sub-02_test_10.nii --odd --out=/scratch/afni/tmp7jNt3T/preproc/_run_id_10_subject_id_sub-02_task_id_test_/Slice_time_correction/mapflow/_Slice_time_correction0/sub-02_test_10_st.nii\n"
       ]
      },
      {
       "output_type": "stream",
       "stream": "stdout",
       "text": [
        "170606-14:34:35,460 workflow INFO:\n",
        "\t Executing node Get_files.b18 in dir: /scratch/afni/tmpbP895M/preproc/_run_id_7_subject_id_sub-02_task_id_test_/Get_files\n"
       ]
      },
      {
       "output_type": "stream",
       "stream": "stdout",
       "text": [
        "170606-14:34:35,493 workflow INFO:\n",
        "\t Executing node Slice_time_correction.b18 in dir: /scratch/afni/tmpVbizy1/preproc/_run_id_7_subject_id_sub-02_task_id_test_/Slice_time_correction\n"
       ]
      },
      {
       "output_type": "stream",
       "stream": "stdout",
       "text": [
        "170606-14:34:35,508 workflow INFO:\n",
        "\t Executing node _Slice_time_correction0 in dir: /scratch/afni/tmpVbizy1/preproc/_run_id_7_subject_id_sub-02_task_id_test_/Slice_time_correction/mapflow/_Slice_time_correction0\n"
       ]
      },
      {
       "output_type": "stream",
       "stream": "stdout",
       "text": [
        "170606-14:34:35,519 workflow INFO:\n",
        "\t Running: slicetimer --in=/scratch/sanjay/GRT/fmri_data/nifti/sub-02/func/sub-02_test_7.nii --odd --out=/scratch/afni/tmpVbizy1/preproc/_run_id_7_subject_id_sub-02_task_id_test_/Slice_time_correction/mapflow/_Slice_time_correction0/sub-02_test_7_st.nii\n"
       ]
      },
      {
       "output_type": "stream",
       "stream": "stdout",
       "text": [
        "170606-14:35:25,294 workflow INFO:\n",
        "\t Executing node Realign_with_MCFLIRT.b18 in dir: /scratch/afni/tmpeuPAwK/preproc/_run_id_7_subject_id_sub-02_task_id_test_/Realign_with_MCFLIRT\n"
       ]
      },
      {
       "output_type": "stream",
       "stream": "stdout",
       "text": [
        "170606-14:35:25,312 workflow INFO:\n",
        "\t Executing node _Realign_with_MCFLIRT0 in dir: /scratch/afni/tmpeuPAwK/preproc/_run_id_7_subject_id_sub-02_task_id_test_/Realign_with_MCFLIRT/mapflow/_Realign_with_MCFLIRT0\n"
       ]
      },
      {
       "output_type": "stream",
       "stream": "stdout",
       "text": [
        "170606-14:35:25,325 workflow INFO:\n",
        "\t Running: mcflirt -in /scratch/afni/tmpVbizy1/preproc/_run_id_7_subject_id_sub-02_task_id_test_/Slice_time_correction/mapflow/_Slice_time_correction0/sub-02_test_7_st.nii -dof 6 -sinc_final -out /scratch/afni/tmpeuPAwK/preproc/_run_id_7_subject_id_sub-02_task_id_test_/Realign_with_MCFLIRT/mapflow/_Realign_with_MCFLIRT0/sub-02_test_7_st_mcf.nii -mats -plots\n"
       ]
      },
      {
       "output_type": "stream",
       "stream": "stdout",
       "text": [
        "170606-14:48:53,430 workflow INFO:\n",
        "\t Executing node Check_motion_plots.aI.a1.b18 in dir: /scratch/afni/tmp2P5pdN/preproc/_run_id_7_subject_id_sub-02_task_id_test_/_plot_type_translations/Check_motion_plots\n"
       ]
      },
      {
       "output_type": "stream",
       "stream": "stdout",
       "text": [
        "170606-14:48:53,445 workflow INFO:\n",
        "\t Executing node _Check_motion_plots0 in dir: /scratch/afni/tmp2P5pdN/preproc/_run_id_7_subject_id_sub-02_task_id_test_/_plot_type_translations/Check_motion_plots/mapflow/_Check_motion_plots0\n"
       ]
      },
      {
       "output_type": "stream",
       "stream": "stdout",
       "text": [
        "170606-14:48:53,457 workflow INFO:\n",
        "\t Running: fsl_tsplot -i /scratch/afni/tmpeuPAwK/preproc/_run_id_7_subject_id_sub-02_task_id_test_/Realign_with_MCFLIRT/mapflow/_Realign_with_MCFLIRT0/sub-02_test_7_st_mcf.nii.par -o /scratch/afni/tmpeuPAwK/preproc/_run_id_7_subject_id_sub-02_task_id_test_/Realign_with_MCFLIRT/mapflow/_Realign_with_MCFLIRT0/sub-02_test_7_st_mcf.nii_trans.png -t 'MCFLIRT estimated translations (mm)' --start=4 --finish=6 -a x,y,z\n"
       ]
      },
      {
       "output_type": "stream",
       "stream": "stdout",
       "text": [
        "170606-14:48:54,545 workflow INFO:\n",
        "\t Executing node Check_motion_plots.aI.a0.b18 in dir: /scratch/afni/tmpIHLZ9b/preproc/_run_id_7_subject_id_sub-02_task_id_test_/_plot_type_rotations/Check_motion_plots\n"
       ]
      },
      {
       "output_type": "stream",
       "stream": "stdout",
       "text": [
        "170606-14:48:54,565 workflow INFO:\n",
        "\t Executing node _Check_motion_plots0 in dir: /scratch/afni/tmpIHLZ9b/preproc/_run_id_7_subject_id_sub-02_task_id_test_/_plot_type_rotations/Check_motion_plots/mapflow/_Check_motion_plots0\n"
       ]
      },
      {
       "output_type": "stream",
       "stream": "stdout",
       "text": [
        "170606-14:48:54,578 workflow INFO:\n",
        "\t Running: fsl_tsplot -i /scratch/afni/tmpeuPAwK/preproc/_run_id_7_subject_id_sub-02_task_id_test_/Realign_with_MCFLIRT/mapflow/_Realign_with_MCFLIRT0/sub-02_test_7_st_mcf.nii.par -o /scratch/afni/tmpeuPAwK/preproc/_run_id_7_subject_id_sub-02_task_id_test_/Realign_with_MCFLIRT/mapflow/_Realign_with_MCFLIRT0/sub-02_test_7_st_mcf.nii_rot.png -t 'MCFLIRT estimated rotations (radians)' --start=1 --finish=3 -a x,y,z\n"
       ]
      },
      {
       "output_type": "stream",
       "stream": "stdout",
       "text": [
        "170606-14:48:55,657 workflow INFO:\n",
        "\t Executing node Get_files.b34 in dir: /scratch/afni/tmpTtNSsd/preproc/_run_id_11_subject_id_sub-01_task_id_train_/Get_files\n"
       ]
      },
      {
       "output_type": "stream",
       "stream": "stdout",
       "text": [
        "170606-14:48:55,694 workflow INFO:\n",
        "\t Executing node Slice_time_correction.b34 in dir: /scratch/afni/tmp1Zh88b/preproc/_run_id_11_subject_id_sub-01_task_id_train_/Slice_time_correction\n"
       ]
      },
      {
       "output_type": "stream",
       "stream": "stdout",
       "text": [
        "170606-14:48:55,710 workflow INFO:\n",
        "\t Executing node _Slice_time_correction0 in dir: /scratch/afni/tmp1Zh88b/preproc/_run_id_11_subject_id_sub-01_task_id_train_/Slice_time_correction/mapflow/_Slice_time_correction0\n"
       ]
      },
      {
       "output_type": "stream",
       "stream": "stdout",
       "text": [
        "170606-14:48:55,722 workflow INFO:\n",
        "\t Running: slicetimer --in=/scratch/sanjay/GRT/fmri_data/nifti/sub-01/func/sub-01_train_11.nii --odd --out=/scratch/afni/tmp1Zh88b/preproc/_run_id_11_subject_id_sub-01_task_id_train_/Slice_time_correction/mapflow/_Slice_time_correction0/sub-01_train_11_st.nii\n"
       ]
      },
      {
       "output_type": "stream",
       "stream": "stdout",
       "text": [
        "170606-14:49:30,649 workflow INFO:\n",
        "\t Executing node Resample_T1.b18 in dir: /scratch/afni/tmpbV2Dwe/preproc/_run_id_7_subject_id_sub-02_task_id_test_/Resample_T1\n"
       ]
      },
      {
       "output_type": "stream",
       "stream": "stdout",
       "text": [
        "170606-14:49:30,669 workflow INFO:\n",
        "\t Running: 3dresample -prefix sub-02_T1_resample.nii -dxyz 2.400000 2.400000 2.400000 -inset /scratch/afni/tmpbV2Dwe/preproc/_run_id_7_subject_id_sub-02_task_id_test_/Resample_T1/sub-02_T1.nii\n"
       ]
      },
      {
       "output_type": "stream",
       "stream": "stdout",
       "text": [
        "170606-14:49:31,769 workflow INFO:\n",
        "\t Executing node Register_functionals.b18 in dir: /scratch/afni/tmpSIIg1A/preproc/_run_id_7_subject_id_sub-02_task_id_test_/Register_functionals\n"
       ]
      },
      {
       "output_type": "stream",
       "stream": "stdout",
       "text": [
        "170606-14:49:31,795 workflow INFO:\n",
        "\t Executing node _Register_functionals0 in dir: /scratch/afni/tmpSIIg1A/preproc/_run_id_7_subject_id_sub-02_task_id_test_/Register_functionals/mapflow/_Register_functionals0\n"
       ]
      },
      {
       "output_type": "stream",
       "stream": "stdout",
       "text": [
        "170606-14:49:31,818 workflow INFO:\n",
        "\t Running: flirt -in /scratch/afni/tmpeuPAwK/preproc/_run_id_7_subject_id_sub-02_task_id_test_/Realign_with_MCFLIRT/mapflow/_Realign_with_MCFLIRT0/sub-02_test_7_st_mcf.nii -ref /scratch/afni/tmpbV2Dwe/preproc/_run_id_7_subject_id_sub-02_task_id_test_/Resample_T1/sub-02_T1_resample.nii -out sub-02_test_7_st_mcf_flirt.nii -omat sub-02_test_7_st_mcf_flirt.mat\n"
       ]
      },
      {
       "output_type": "stream",
       "stream": "stdout",
       "text": [
        "170606-14:49:47,796 workflow INFO:\n",
        "\t Executing node Strip_skull.b18 in dir: /scratch/afni/tmpK2kJnK/preproc/_run_id_7_subject_id_sub-02_task_id_test_/Strip_skull\n"
       ]
      },
      {
       "output_type": "stream",
       "stream": "stdout",
       "text": [
        "170606-14:49:47,816 workflow INFO:\n",
        "\t Executing node _Strip_skull0 in dir: /scratch/afni/tmpK2kJnK/preproc/_run_id_7_subject_id_sub-02_task_id_test_/Strip_skull/mapflow/_Strip_skull0\n"
       ]
      },
      {
       "output_type": "stream",
       "stream": "stdout",
       "text": [
        "170606-14:49:47,831 workflow INFO:\n",
        "\t Running: bet /scratch/afni/tmpSIIg1A/preproc/_run_id_7_subject_id_sub-02_task_id_test_/Register_functionals/mapflow/_Register_functionals0/sub-02_test_7_st_mcf_flirt.nii /scratch/afni/tmpK2kJnK/preproc/_run_id_7_subject_id_sub-02_task_id_test_/Strip_skull/mapflow/_Strip_skull0/sub-02_test_7_st_mcf_flirt_brain.nii -F\n"
       ]
      },
      {
       "output_type": "stream",
       "stream": "stdout",
       "text": [
        "170606-14:49:55,106 workflow INFO:\n",
        "\t Executing node store_outputs.a0.b18 in dir: /scratch/afni/tmpeJAJuT/preproc/_run_id_7_subject_id_sub-02_task_id_test_/_plot_type_rotations/store_outputs\n"
       ]
      },
      {
       "output_type": "stream",
       "stream": "stdout",
       "text": [
        "170606-14:49:55,189 workflow INFO:\n",
        "\t Executing node store_outputs.a1.b18 in dir: /scratch/afni/tmpubWuxu/preproc/_run_id_7_subject_id_sub-02_task_id_test_/_plot_type_translations/store_outputs\n"
       ]
      },
      {
       "output_type": "stream",
       "stream": "stdout",
       "text": [
        "170606-14:49:55,235 workflow INFO:\n",
        "\t Executing node Get_files.b20 in dir: /scratch/afni/tmptOJbQi/preproc/_run_id_9_subject_id_sub-02_task_id_test_/Get_files\n"
       ]
      },
      {
       "output_type": "stream",
       "stream": "stdout",
       "text": [
        "170606-14:49:55,272 workflow INFO:\n",
        "\t Executing node Resample_T1.b20 in dir: /scratch/afni/tmpFuDuH2/preproc/_run_id_9_subject_id_sub-02_task_id_test_/Resample_T1\n"
       ]
      },
      {
       "output_type": "stream",
       "stream": "stdout",
       "text": [
        "170606-14:49:55,294 workflow INFO:\n",
        "\t Running: 3dresample -prefix sub-02_T1_resample.nii -dxyz 2.400000 2.400000 2.400000 -inset /scratch/afni/tmpFuDuH2/preproc/_run_id_9_subject_id_sub-02_task_id_test_/Resample_T1/sub-02_T1.nii\n"
       ]
      },
      {
       "output_type": "stream",
       "stream": "stdout",
       "text": [
        "170606-14:49:56,392 workflow INFO:\n",
        "\t Executing node Check_motion_plots.aI.a0.b12 in dir: /scratch/afni/tmpGOlRBx/preproc/_run_id_1_subject_id_sub-02_task_id_test_/_plot_type_rotations/Check_motion_plots\n"
       ]
      },
      {
       "output_type": "stream",
       "stream": "stdout",
       "text": [
        "170606-14:49:56,416 workflow INFO:\n",
        "\t Executing node _Check_motion_plots0 in dir: /scratch/afni/tmpGOlRBx/preproc/_run_id_1_subject_id_sub-02_task_id_test_/_plot_type_rotations/Check_motion_plots/mapflow/_Check_motion_plots0\n"
       ]
      },
      {
       "output_type": "stream",
       "stream": "stdout",
       "text": [
        "170606-14:49:56,432 workflow INFO:\n",
        "\t Running: fsl_tsplot -i /scratch/afni/tmpjEBuAA/preproc/_run_id_1_subject_id_sub-02_task_id_test_/Realign_with_MCFLIRT/mapflow/_Realign_with_MCFLIRT0/sub-02_test_1_st_mcf.nii.par -o /scratch/afni/tmpjEBuAA/preproc/_run_id_1_subject_id_sub-02_task_id_test_/Realign_with_MCFLIRT/mapflow/_Realign_with_MCFLIRT0/sub-02_test_1_st_mcf.nii_rot.png -t 'MCFLIRT estimated rotations (radians)' --start=1 --finish=3 -a x,y,z\n"
       ]
      },
      {
       "output_type": "stream",
       "stream": "stdout",
       "text": [
        "170606-14:49:57,530 workflow INFO:\n",
        "\t Executing node Resample_T1.b34 in dir: /scratch/afni/tmpalQ9iO/preproc/_run_id_11_subject_id_sub-01_task_id_train_/Resample_T1\n"
       ]
      },
      {
       "output_type": "stream",
       "stream": "stdout",
       "text": [
        "170606-14:49:57,551 workflow INFO:\n",
        "\t Running: 3dresample -prefix sub-01_T1_resample.nii -dxyz 2.400000 2.400000 2.400000 -inset /scratch/afni/tmpalQ9iO/preproc/_run_id_11_subject_id_sub-01_task_id_train_/Resample_T1/sub-01_T1.nii\n"
       ]
      },
      {
       "output_type": "stream",
       "stream": "stdout",
       "text": [
        "170606-14:49:58,630 workflow INFO:\n",
        "\t Executing node Get_files.b17 in dir: /scratch/afni/tmpjcnzuB/preproc/_run_id_6_subject_id_sub-02_task_id_test_/Get_files\n"
       ]
      },
      {
       "output_type": "stream",
       "stream": "stdout",
       "text": [
        "170606-14:49:58,675 workflow INFO:\n",
        "\t Executing node Slice_time_correction.b17 in dir: /scratch/afni/tmprmzr16/preproc/_run_id_6_subject_id_sub-02_task_id_test_/Slice_time_correction\n"
       ]
      },
      {
       "output_type": "stream",
       "stream": "stdout",
       "text": [
        "170606-14:49:58,695 workflow INFO:\n",
        "\t Executing node _Slice_time_correction0 in dir: /scratch/afni/tmprmzr16/preproc/_run_id_6_subject_id_sub-02_task_id_test_/Slice_time_correction/mapflow/_Slice_time_correction0\n"
       ]
      },
      {
       "output_type": "stream",
       "stream": "stdout",
       "text": [
        "170606-14:49:58,709 workflow INFO:\n",
        "\t Running: slicetimer --in=/scratch/sanjay/GRT/fmri_data/nifti/sub-02/func/sub-02_test_6.nii --odd --out=/scratch/afni/tmprmzr16/preproc/_run_id_6_subject_id_sub-02_task_id_test_/Slice_time_correction/mapflow/_Slice_time_correction0/sub-02_test_6_st.nii\n"
       ]
      },
      {
       "output_type": "stream",
       "stream": "stdout",
       "text": [
        "170606-14:51:04,409 workflow INFO:\n",
        "\t Executing node Realign_with_MCFLIRT.b17 in dir: /scratch/afni/tmpLCOAoO/preproc/_run_id_6_subject_id_sub-02_task_id_test_/Realign_with_MCFLIRT\n"
       ]
      },
      {
       "output_type": "stream",
       "stream": "stdout",
       "text": [
        "170606-14:51:04,436 workflow INFO:\n",
        "\t Executing node _Realign_with_MCFLIRT0 in dir: /scratch/afni/tmpLCOAoO/preproc/_run_id_6_subject_id_sub-02_task_id_test_/Realign_with_MCFLIRT/mapflow/_Realign_with_MCFLIRT0\n"
       ]
      },
      {
       "output_type": "stream",
       "stream": "stdout",
       "text": [
        "170606-14:51:04,458 workflow INFO:\n",
        "\t Running: mcflirt -in /scratch/afni/tmprmzr16/preproc/_run_id_6_subject_id_sub-02_task_id_test_/Slice_time_correction/mapflow/_Slice_time_correction0/sub-02_test_6_st.nii -dof 6 -sinc_final -out /scratch/afni/tmpLCOAoO/preproc/_run_id_6_subject_id_sub-02_task_id_test_/Realign_with_MCFLIRT/mapflow/_Realign_with_MCFLIRT0/sub-02_test_6_st_mcf.nii -mats -plots\n"
       ]
      },
      {
       "output_type": "stream",
       "stream": "stdout",
       "text": [
        "170606-15:06:31,710 workflow INFO:\n",
        "\t Executing node Check_motion_plots.aI.a1.b17 in dir: /scratch/afni/tmpLAVQaj/preproc/_run_id_6_subject_id_sub-02_task_id_test_/_plot_type_translations/Check_motion_plots\n"
       ]
      },
      {
       "output_type": "stream",
       "stream": "stdout",
       "text": [
        "170606-15:06:31,728 workflow INFO:\n",
        "\t Executing node _Check_motion_plots0 in dir: /scratch/afni/tmpLAVQaj/preproc/_run_id_6_subject_id_sub-02_task_id_test_/_plot_type_translations/Check_motion_plots/mapflow/_Check_motion_plots0\n"
       ]
      },
      {
       "output_type": "stream",
       "stream": "stdout",
       "text": [
        "170606-15:06:31,744 workflow INFO:\n",
        "\t Running: fsl_tsplot -i /scratch/afni/tmpLCOAoO/preproc/_run_id_6_subject_id_sub-02_task_id_test_/Realign_with_MCFLIRT/mapflow/_Realign_with_MCFLIRT0/sub-02_test_6_st_mcf.nii.par -o /scratch/afni/tmpLCOAoO/preproc/_run_id_6_subject_id_sub-02_task_id_test_/Realign_with_MCFLIRT/mapflow/_Realign_with_MCFLIRT0/sub-02_test_6_st_mcf.nii_trans.png -t 'MCFLIRT estimated translations (mm)' --start=4 --finish=6 -a x,y,z\n"
       ]
      },
      {
       "output_type": "stream",
       "stream": "stdout",
       "text": [
        "170606-15:06:32,875 workflow INFO:\n",
        "\t Executing node Check_motion_plots.aI.a0.b46 in dir: /scratch/afni/tmpvLAiDR/preproc/_run_id_11_subject_id_sub-01_task_id_test_/_plot_type_rotations/Check_motion_plots\n"
       ]
      },
      {
       "output_type": "stream",
       "stream": "stdout",
       "text": [
        "170606-15:06:32,896 workflow INFO:\n",
        "\t Executing node _Check_motion_plots0 in dir: /scratch/afni/tmpvLAiDR/preproc/_run_id_11_subject_id_sub-01_task_id_test_/_plot_type_rotations/Check_motion_plots/mapflow/_Check_motion_plots0\n"
       ]
      },
      {
       "output_type": "stream",
       "stream": "stdout",
       "text": [
        "170606-15:06:32,912 workflow INFO:\n",
        "\t Running: fsl_tsplot -i /scratch/afni/tmpqjoVGg/preproc/_run_id_11_subject_id_sub-01_task_id_test_/Realign_with_MCFLIRT/mapflow/_Realign_with_MCFLIRT0/sub-01_test_11_st_mcf.nii.par -o /scratch/afni/tmpqjoVGg/preproc/_run_id_11_subject_id_sub-01_task_id_test_/Realign_with_MCFLIRT/mapflow/_Realign_with_MCFLIRT0/sub-01_test_11_st_mcf.nii_rot.png -t 'MCFLIRT estimated rotations (radians)' --start=1 --finish=3 -a x,y,z\n"
       ]
      },
      {
       "output_type": "stream",
       "stream": "stdout",
       "text": [
        "170606-15:06:34,71 workflow INFO:\n",
        "\t Executing node store_outputs.a0.b46 in dir: /scratch/afni/tmpKTj0kB/preproc/_run_id_11_subject_id_sub-01_task_id_test_/_plot_type_rotations/store_outputs\n"
       ]
      },
      {
       "output_type": "stream",
       "stream": "stdout",
       "text": [
        "170606-15:06:34,127 workflow INFO:\n",
        "\t Executing node Check_motion_plots.aI.a0.b17 in dir: /scratch/afni/tmp9omB5d/preproc/_run_id_6_subject_id_sub-02_task_id_test_/_plot_type_rotations/Check_motion_plots\n"
       ]
      },
      {
       "output_type": "stream",
       "stream": "stdout",
       "text": [
        "170606-15:06:34,152 workflow INFO:\n",
        "\t Executing node _Check_motion_plots0 in dir: /scratch/afni/tmp9omB5d/preproc/_run_id_6_subject_id_sub-02_task_id_test_/_plot_type_rotations/Check_motion_plots/mapflow/_Check_motion_plots0\n"
       ]
      },
      {
       "output_type": "stream",
       "stream": "stdout",
       "text": [
        "170606-15:06:34,170 workflow INFO:\n",
        "\t Running: fsl_tsplot -i /scratch/afni/tmpLCOAoO/preproc/_run_id_6_subject_id_sub-02_task_id_test_/Realign_with_MCFLIRT/mapflow/_Realign_with_MCFLIRT0/sub-02_test_6_st_mcf.nii.par -o /scratch/afni/tmpLCOAoO/preproc/_run_id_6_subject_id_sub-02_task_id_test_/Realign_with_MCFLIRT/mapflow/_Realign_with_MCFLIRT0/sub-02_test_6_st_mcf.nii_rot.png -t 'MCFLIRT estimated rotations (radians)' --start=1 --finish=3 -a x,y,z\n"
       ]
      },
      {
       "output_type": "stream",
       "stream": "stdout",
       "text": [
        "170606-15:06:35,266 workflow INFO:\n",
        "\t Executing node Resample_T1.b17 in dir: /scratch/afni/tmpvXZNyr/preproc/_run_id_6_subject_id_sub-02_task_id_test_/Resample_T1\n"
       ]
      },
      {
       "output_type": "stream",
       "stream": "stdout",
       "text": [
        "170606-15:06:35,283 workflow INFO:\n",
        "\t Running: 3dresample -prefix sub-02_T1_resample.nii -dxyz 2.400000 2.400000 2.400000 -inset /scratch/afni/tmpvXZNyr/preproc/_run_id_6_subject_id_sub-02_task_id_test_/Resample_T1/sub-02_T1.nii\n"
       ]
      },
      {
       "output_type": "stream",
       "stream": "stdout",
       "text": [
        "170606-15:06:36,573 workflow INFO:\n",
        "\t Executing node Register_functionals.b17 in dir: /scratch/afni/tmpEJVzSU/preproc/_run_id_6_subject_id_sub-02_task_id_test_/Register_functionals\n"
       ]
      },
      {
       "output_type": "stream",
       "stream": "stdout",
       "text": [
        "170606-15:06:36,596 workflow INFO:\n",
        "\t Executing node _Register_functionals0 in dir: /scratch/afni/tmpEJVzSU/preproc/_run_id_6_subject_id_sub-02_task_id_test_/Register_functionals/mapflow/_Register_functionals0\n"
       ]
      },
      {
       "output_type": "stream",
       "stream": "stdout",
       "text": [
        "170606-15:06:36,616 workflow INFO:\n",
        "\t Running: flirt -in /scratch/afni/tmpLCOAoO/preproc/_run_id_6_subject_id_sub-02_task_id_test_/Realign_with_MCFLIRT/mapflow/_Realign_with_MCFLIRT0/sub-02_test_6_st_mcf.nii -ref /scratch/afni/tmpvXZNyr/preproc/_run_id_6_subject_id_sub-02_task_id_test_/Resample_T1/sub-02_T1_resample.nii -out sub-02_test_6_st_mcf_flirt.nii -omat sub-02_test_6_st_mcf_flirt.mat\n"
       ]
      },
      {
       "output_type": "stream",
       "stream": "stdout",
       "text": [
        "170606-15:06:50,26 workflow INFO:\n",
        "\t Executing node Strip_skull.b17 in dir: /scratch/afni/tmpTXOZiA/preproc/_run_id_6_subject_id_sub-02_task_id_test_/Strip_skull\n"
       ]
      },
      {
       "output_type": "stream",
       "stream": "stdout",
       "text": [
        "170606-15:06:50,47 workflow INFO:\n",
        "\t Executing node _Strip_skull0 in dir: /scratch/afni/tmpTXOZiA/preproc/_run_id_6_subject_id_sub-02_task_id_test_/Strip_skull/mapflow/_Strip_skull0\n"
       ]
      },
      {
       "output_type": "stream",
       "stream": "stdout",
       "text": [
        "170606-15:06:50,65 workflow INFO:\n",
        "\t Running: bet /scratch/afni/tmpEJVzSU/preproc/_run_id_6_subject_id_sub-02_task_id_test_/Register_functionals/mapflow/_Register_functionals0/sub-02_test_6_st_mcf_flirt.nii /scratch/afni/tmpTXOZiA/preproc/_run_id_6_subject_id_sub-02_task_id_test_/Strip_skull/mapflow/_Strip_skull0/sub-02_test_6_st_mcf_flirt_brain.nii -F\n"
       ]
      },
      {
       "output_type": "stream",
       "stream": "stdout",
       "text": [
        "170606-15:06:57,861 workflow INFO:\n",
        "\t Executing node store_outputs.a0.b17 in dir: /scratch/afni/tmpu9xbrK/preproc/_run_id_6_subject_id_sub-02_task_id_test_/_plot_type_rotations/store_outputs\n"
       ]
      },
      {
       "output_type": "stream",
       "stream": "stdout",
       "text": [
        "170606-15:06:57,962 workflow INFO:\n",
        "\t Executing node store_outputs.a1.b17 in dir: /scratch/afni/tmpwkp6yA/preproc/_run_id_6_subject_id_sub-02_task_id_test_/_plot_type_translations/store_outputs\n"
       ]
      },
      {
       "output_type": "stream",
       "stream": "stdout",
       "text": [
        "170606-15:06:58,7 workflow INFO:\n",
        "\t Executing node Get_files.b19 in dir: /scratch/afni/tmpnAminm/preproc/_run_id_8_subject_id_sub-02_task_id_test_/Get_files\n"
       ]
      },
      {
       "output_type": "stream",
       "stream": "stdout",
       "text": [
        "170606-15:06:58,50 workflow INFO:\n",
        "\t Executing node Slice_time_correction.b19 in dir: /scratch/afni/tmpwljU3n/preproc/_run_id_8_subject_id_sub-02_task_id_test_/Slice_time_correction\n"
       ]
      },
      {
       "output_type": "stream",
       "stream": "stdout",
       "text": [
        "170606-15:06:58,71 workflow INFO:\n",
        "\t Executing node _Slice_time_correction0 in dir: /scratch/afni/tmpwljU3n/preproc/_run_id_8_subject_id_sub-02_task_id_test_/Slice_time_correction/mapflow/_Slice_time_correction0\n"
       ]
      },
      {
       "output_type": "stream",
       "stream": "stdout",
       "text": [
        "170606-15:06:58,88 workflow INFO:\n",
        "\t Running: slicetimer --in=/scratch/sanjay/GRT/fmri_data/nifti/sub-02/func/sub-02_test_8.nii --odd --out=/scratch/afni/tmpwljU3n/preproc/_run_id_8_subject_id_sub-02_task_id_test_/Slice_time_correction/mapflow/_Slice_time_correction0/sub-02_test_8_st.nii\n"
       ]
      },
      {
       "output_type": "stream",
       "stream": "stdout",
       "text": [
        "170606-15:08:02,782 workflow INFO:\n",
        "\t Executing node Realign_with_MCFLIRT.b19 in dir: /scratch/afni/tmpVrnyiP/preproc/_run_id_8_subject_id_sub-02_task_id_test_/Realign_with_MCFLIRT\n"
       ]
      },
      {
       "output_type": "stream",
       "stream": "stdout",
       "text": [
        "170606-15:08:02,803 workflow INFO:\n",
        "\t Executing node _Realign_with_MCFLIRT0 in dir: /scratch/afni/tmpVrnyiP/preproc/_run_id_8_subject_id_sub-02_task_id_test_/Realign_with_MCFLIRT/mapflow/_Realign_with_MCFLIRT0\n"
       ]
      },
      {
       "output_type": "stream",
       "stream": "stdout",
       "text": [
        "170606-15:08:02,819 workflow INFO:\n",
        "\t Running: mcflirt -in /scratch/afni/tmpwljU3n/preproc/_run_id_8_subject_id_sub-02_task_id_test_/Slice_time_correction/mapflow/_Slice_time_correction0/sub-02_test_8_st.nii -dof 6 -sinc_final -out /scratch/afni/tmpVrnyiP/preproc/_run_id_8_subject_id_sub-02_task_id_test_/Realign_with_MCFLIRT/mapflow/_Realign_with_MCFLIRT0/sub-02_test_8_st_mcf.nii -mats -plots\n"
       ]
      },
      {
       "output_type": "stream",
       "stream": "stdout",
       "text": [
        "170606-15:22:51,403 workflow INFO:\n",
        "\t Executing node Check_motion_plots.aI.a1.b19 in dir: /scratch/afni/tmp8TjCw6/preproc/_run_id_8_subject_id_sub-02_task_id_test_/_plot_type_translations/Check_motion_plots\n"
       ]
      },
      {
       "output_type": "stream",
       "stream": "stdout",
       "text": [
        "170606-15:22:51,422 workflow INFO:\n",
        "\t Executing node _Check_motion_plots0 in dir: /scratch/afni/tmp8TjCw6/preproc/_run_id_8_subject_id_sub-02_task_id_test_/_plot_type_translations/Check_motion_plots/mapflow/_Check_motion_plots0\n"
       ]
      },
      {
       "output_type": "stream",
       "stream": "stdout",
       "text": [
        "170606-15:22:51,438 workflow INFO:\n",
        "\t Running: fsl_tsplot -i /scratch/afni/tmpVrnyiP/preproc/_run_id_8_subject_id_sub-02_task_id_test_/Realign_with_MCFLIRT/mapflow/_Realign_with_MCFLIRT0/sub-02_test_8_st_mcf.nii.par -o /scratch/afni/tmpVrnyiP/preproc/_run_id_8_subject_id_sub-02_task_id_test_/Realign_with_MCFLIRT/mapflow/_Realign_with_MCFLIRT0/sub-02_test_8_st_mcf.nii_trans.png -t 'MCFLIRT estimated translations (mm)' --start=4 --finish=6 -a x,y,z\n"
       ]
      },
      {
       "output_type": "stream",
       "stream": "stdout",
       "text": [
        "170606-15:22:52,539 workflow INFO:\n",
        "\t Executing node Check_motion_plots.aI.a0.b19 in dir: /scratch/afni/tmpMIaVLc/preproc/_run_id_8_subject_id_sub-02_task_id_test_/_plot_type_rotations/Check_motion_plots\n"
       ]
      },
      {
       "output_type": "stream",
       "stream": "stdout",
       "text": [
        "170606-15:22:52,562 workflow INFO:\n",
        "\t Executing node _Check_motion_plots0 in dir: /scratch/afni/tmpMIaVLc/preproc/_run_id_8_subject_id_sub-02_task_id_test_/_plot_type_rotations/Check_motion_plots/mapflow/_Check_motion_plots0\n"
       ]
      },
      {
       "output_type": "stream",
       "stream": "stdout",
       "text": [
        "170606-15:22:52,582 workflow INFO:\n",
        "\t Running: fsl_tsplot -i /scratch/afni/tmpVrnyiP/preproc/_run_id_8_subject_id_sub-02_task_id_test_/Realign_with_MCFLIRT/mapflow/_Realign_with_MCFLIRT0/sub-02_test_8_st_mcf.nii.par -o /scratch/afni/tmpVrnyiP/preproc/_run_id_8_subject_id_sub-02_task_id_test_/Realign_with_MCFLIRT/mapflow/_Realign_with_MCFLIRT0/sub-02_test_8_st_mcf.nii_rot.png -t 'MCFLIRT estimated rotations (radians)' --start=1 --finish=3 -a x,y,z\n"
       ]
      },
      {
       "output_type": "stream",
       "stream": "stdout",
       "text": [
        "170606-15:22:53,688 workflow INFO:\n",
        "\t Executing node Resample_T1.b19 in dir: /scratch/afni/tmpMbq1Qx/preproc/_run_id_8_subject_id_sub-02_task_id_test_/Resample_T1\n"
       ]
      },
      {
       "output_type": "stream",
       "stream": "stdout",
       "text": [
        "170606-15:22:53,711 workflow INFO:\n",
        "\t Running: 3dresample -prefix sub-02_T1_resample.nii -dxyz 2.400000 2.400000 2.400000 -inset /scratch/afni/tmpMbq1Qx/preproc/_run_id_8_subject_id_sub-02_task_id_test_/Resample_T1/sub-02_T1.nii\n"
       ]
      },
      {
       "output_type": "stream",
       "stream": "stdout",
       "text": [
        "170606-15:22:54,811 workflow INFO:\n",
        "\t Executing node Register_functionals.b19 in dir: /scratch/afni/tmpsBg2fi/preproc/_run_id_8_subject_id_sub-02_task_id_test_/Register_functionals\n"
       ]
      },
      {
       "output_type": "stream",
       "stream": "stdout",
       "text": [
        "170606-15:22:54,835 workflow INFO:\n",
        "\t Executing node _Register_functionals0 in dir: /scratch/afni/tmpsBg2fi/preproc/_run_id_8_subject_id_sub-02_task_id_test_/Register_functionals/mapflow/_Register_functionals0\n"
       ]
      },
      {
       "output_type": "stream",
       "stream": "stdout",
       "text": [
        "170606-15:22:54,855 workflow INFO:\n",
        "\t Running: flirt -in /scratch/afni/tmpVrnyiP/preproc/_run_id_8_subject_id_sub-02_task_id_test_/Realign_with_MCFLIRT/mapflow/_Realign_with_MCFLIRT0/sub-02_test_8_st_mcf.nii -ref /scratch/afni/tmpMbq1Qx/preproc/_run_id_8_subject_id_sub-02_task_id_test_/Resample_T1/sub-02_T1_resample.nii -out sub-02_test_8_st_mcf_flirt.nii -omat sub-02_test_8_st_mcf_flirt.mat\n"
       ]
      },
      {
       "output_type": "stream",
       "stream": "stdout",
       "text": [
        "170606-15:23:10,832 workflow INFO:\n",
        "\t Executing node Strip_skull.b19 in dir: /scratch/afni/tmpFJQj3N/preproc/_run_id_8_subject_id_sub-02_task_id_test_/Strip_skull\n"
       ]
      },
      {
       "output_type": "stream",
       "stream": "stdout",
       "text": [
        "170606-15:23:10,856 workflow INFO:\n",
        "\t Executing node _Strip_skull0 in dir: /scratch/afni/tmpFJQj3N/preproc/_run_id_8_subject_id_sub-02_task_id_test_/Strip_skull/mapflow/_Strip_skull0\n"
       ]
      },
      {
       "output_type": "stream",
       "stream": "stdout",
       "text": [
        "170606-15:23:10,876 workflow INFO:\n",
        "\t Running: bet /scratch/afni/tmpsBg2fi/preproc/_run_id_8_subject_id_sub-02_task_id_test_/Register_functionals/mapflow/_Register_functionals0/sub-02_test_8_st_mcf_flirt.nii /scratch/afni/tmpFJQj3N/preproc/_run_id_8_subject_id_sub-02_task_id_test_/Strip_skull/mapflow/_Strip_skull0/sub-02_test_8_st_mcf_flirt_brain.nii -F\n"
       ]
      },
      {
       "output_type": "stream",
       "stream": "stdout",
       "text": [
        "170606-15:23:18,679 workflow INFO:\n",
        "\t Executing node store_outputs.a1.b19 in dir: /scratch/afni/tmpc5mzIb/preproc/_run_id_8_subject_id_sub-02_task_id_test_/_plot_type_translations/store_outputs\n"
       ]
      },
      {
       "output_type": "stream",
       "stream": "stdout",
       "text": [
        "170606-15:23:18,778 workflow INFO:\n",
        "\t Executing node store_outputs.a0.b19 in dir: /scratch/afni/tmpLcdq7H/preproc/_run_id_8_subject_id_sub-02_task_id_test_/_plot_type_rotations/store_outputs\n"
       ]
      },
      {
       "output_type": "stream",
       "stream": "stdout",
       "text": [
        "170606-15:23:18,859 workflow INFO:\n",
        "\t Executing node Resample_T1.b12 in dir: /scratch/afni/tmpk8okKP/preproc/_run_id_1_subject_id_sub-02_task_id_test_/Resample_T1\n"
       ]
      },
      {
       "output_type": "stream",
       "stream": "stdout",
       "text": [
        "170606-15:23:18,881 workflow INFO:\n",
        "\t Running: 3dresample -prefix sub-02_T1_resample.nii -dxyz 2.400000 2.400000 2.400000 -inset /scratch/afni/tmpk8okKP/preproc/_run_id_1_subject_id_sub-02_task_id_test_/Resample_T1/sub-02_T1.nii\n"
       ]
      },
      {
       "output_type": "stream",
       "stream": "stdout",
       "text": [
        "170606-15:23:19,979 workflow INFO:\n",
        "\t Executing node Register_functionals.b12 in dir: /scratch/afni/tmpzuf0Wg/preproc/_run_id_1_subject_id_sub-02_task_id_test_/Register_functionals\n"
       ]
      },
      {
       "output_type": "stream",
       "stream": "stdout",
       "text": [
        "170606-15:23:20,3 workflow INFO:\n",
        "\t Executing node _Register_functionals0 in dir: /scratch/afni/tmpzuf0Wg/preproc/_run_id_1_subject_id_sub-02_task_id_test_/Register_functionals/mapflow/_Register_functionals0\n"
       ]
      },
      {
       "output_type": "stream",
       "stream": "stdout",
       "text": [
        "170606-15:23:20,24 workflow INFO:\n",
        "\t Running: flirt -in /scratch/afni/tmpjEBuAA/preproc/_run_id_1_subject_id_sub-02_task_id_test_/Realign_with_MCFLIRT/mapflow/_Realign_with_MCFLIRT0/sub-02_test_1_st_mcf.nii -ref /scratch/afni/tmpk8okKP/preproc/_run_id_1_subject_id_sub-02_task_id_test_/Resample_T1/sub-02_T1_resample.nii -out sub-02_test_1_st_mcf_flirt.nii -omat sub-02_test_1_st_mcf_flirt.mat\n"
       ]
      },
      {
       "output_type": "stream",
       "stream": "stdout",
       "text": [
        "170606-15:23:34,460 workflow INFO:\n",
        "\t Executing node Strip_skull.b12 in dir: /scratch/afni/tmpvckHHv/preproc/_run_id_1_subject_id_sub-02_task_id_test_/Strip_skull\n"
       ]
      },
      {
       "output_type": "stream",
       "stream": "stdout",
       "text": [
        "170606-15:23:34,482 workflow INFO:\n",
        "\t Executing node _Strip_skull0 in dir: /scratch/afni/tmpvckHHv/preproc/_run_id_1_subject_id_sub-02_task_id_test_/Strip_skull/mapflow/_Strip_skull0\n"
       ]
      },
      {
       "output_type": "stream",
       "stream": "stdout",
       "text": [
        "170606-15:23:34,501 workflow INFO:\n",
        "\t Running: bet /scratch/afni/tmpzuf0Wg/preproc/_run_id_1_subject_id_sub-02_task_id_test_/Register_functionals/mapflow/_Register_functionals0/sub-02_test_1_st_mcf_flirt.nii /scratch/afni/tmpvckHHv/preproc/_run_id_1_subject_id_sub-02_task_id_test_/Strip_skull/mapflow/_Strip_skull0/sub-02_test_1_st_mcf_flirt_brain.nii -F\n"
       ]
      },
      {
       "output_type": "stream",
       "stream": "stdout",
       "text": [
        "170606-15:23:42,307 workflow INFO:\n",
        "\t Executing node store_outputs.a0.b12 in dir: /scratch/afni/tmpV_0YO3/preproc/_run_id_1_subject_id_sub-02_task_id_test_/_plot_type_rotations/store_outputs\n"
       ]
      },
      {
       "output_type": "stream",
       "stream": "stdout",
       "text": [
        "170606-15:23:42,415 workflow INFO:\n",
        "\t Executing node store_outputs.a1.b12 in dir: /scratch/afni/tmp99M_oC/preproc/_run_id_1_subject_id_sub-02_task_id_test_/_plot_type_translations/store_outputs\n"
       ]
      },
      {
       "output_type": "stream",
       "stream": "stdout",
       "text": [
        "170606-15:23:42,487 workflow INFO:\n",
        "\t Executing node Check_motion_plots.aI.a1.b16 in dir: /scratch/afni/tmpj8Nkl8/preproc/_run_id_5_subject_id_sub-02_task_id_test_/_plot_type_translations/Check_motion_plots\n"
       ]
      },
      {
       "output_type": "stream",
       "stream": "stdout",
       "text": [
        "170606-15:23:42,506 workflow INFO:\n",
        "\t Executing node _Check_motion_plots0 in dir: /scratch/afni/tmpj8Nkl8/preproc/_run_id_5_subject_id_sub-02_task_id_test_/_plot_type_translations/Check_motion_plots/mapflow/_Check_motion_plots0\n"
       ]
      },
      {
       "output_type": "stream",
       "stream": "stdout",
       "text": [
        "170606-15:23:42,522 workflow INFO:\n",
        "\t Running: fsl_tsplot -i /scratch/afni/tmpGXbR_o/preproc/_run_id_5_subject_id_sub-02_task_id_test_/Realign_with_MCFLIRT/mapflow/_Realign_with_MCFLIRT0/sub-02_test_5_st_mcf.nii.par -o /scratch/afni/tmpGXbR_o/preproc/_run_id_5_subject_id_sub-02_task_id_test_/Realign_with_MCFLIRT/mapflow/_Realign_with_MCFLIRT0/sub-02_test_5_st_mcf.nii_trans.png -t 'MCFLIRT estimated translations (mm)' --start=4 --finish=6 -a x,y,z\n"
       ]
      },
      {
       "output_type": "stream",
       "stream": "stdout",
       "text": [
        "170606-15:23:43,690 workflow INFO:\n",
        "\t Executing node store_outputs.a1.b16 in dir: /scratch/afni/tmpXdIy8R/preproc/_run_id_5_subject_id_sub-02_task_id_test_/_plot_type_translations/store_outputs\n"
       ]
      },
      {
       "output_type": "stream",
       "stream": "stdout",
       "text": [
        "170606-15:23:43,745 workflow INFO:\n",
        "\t Executing node Realign_with_MCFLIRT.b37 in dir: /scratch/afni/tmpqv_uqd/preproc/_run_id_2_subject_id_sub-01_task_id_test_/Realign_with_MCFLIRT\n"
       ]
      },
      {
       "output_type": "stream",
       "stream": "stdout",
       "text": [
        "170606-15:23:43,764 workflow INFO:\n",
        "\t Executing node _Realign_with_MCFLIRT0 in dir: /scratch/afni/tmpqv_uqd/preproc/_run_id_2_subject_id_sub-01_task_id_test_/Realign_with_MCFLIRT/mapflow/_Realign_with_MCFLIRT0\n"
       ]
      },
      {
       "output_type": "stream",
       "stream": "stdout",
       "text": [
        "170606-15:23:43,777 workflow INFO:\n",
        "\t Running: mcflirt -in /scratch/afni/tmpKBVDDS/preproc/_run_id_2_subject_id_sub-01_task_id_test_/Slice_time_correction/mapflow/_Slice_time_correction0/sub-01_test_2_st.nii -dof 6 -sinc_final -out /scratch/afni/tmpqv_uqd/preproc/_run_id_2_subject_id_sub-01_task_id_test_/Realign_with_MCFLIRT/mapflow/_Realign_with_MCFLIRT0/sub-01_test_2_st_mcf.nii -mats -plots\n"
       ]
      },
      {
       "output_type": "stream",
       "stream": "stdout",
       "text": [
        "170606-15:38:26,112 workflow INFO:\n",
        "\t Executing node Get_files.b08 in dir: /scratch/afni/tmp_6qAZe/preproc/_run_id_9_subject_id_sub-02_task_id_train_/Get_files\n"
       ]
      },
      {
       "output_type": "stream",
       "stream": "stdout",
       "text": [
        "170606-15:38:26,151 workflow INFO:\n",
        "\t Executing node Slice_time_correction.b08 in dir: /scratch/afni/tmpMO1ywG/preproc/_run_id_9_subject_id_sub-02_task_id_train_/Slice_time_correction\n"
       ]
      },
      {
       "output_type": "stream",
       "stream": "stdout",
       "text": [
        "170606-15:38:26,169 workflow INFO:\n",
        "\t Executing node _Slice_time_correction0 in dir: /scratch/afni/tmpMO1ywG/preproc/_run_id_9_subject_id_sub-02_task_id_train_/Slice_time_correction/mapflow/_Slice_time_correction0\n"
       ]
      },
      {
       "output_type": "stream",
       "stream": "stdout",
       "text": [
        "170606-15:38:26,183 workflow INFO:\n",
        "\t Running: slicetimer --in=/scratch/sanjay/GRT/fmri_data/nifti/sub-02/func/sub-02_train_9.nii --odd --out=/scratch/afni/tmpMO1ywG/preproc/_run_id_9_subject_id_sub-02_task_id_train_/Slice_time_correction/mapflow/_Slice_time_correction0/sub-02_train_9_st.nii\n"
       ]
      },
      {
       "output_type": "stream",
       "stream": "stdout",
       "text": [
        "170606-15:39:00,606 workflow INFO:\n",
        "\t Executing node Get_files.b42 in dir: /scratch/afni/tmpLPwPE7/preproc/_run_id_7_subject_id_sub-01_task_id_test_/Get_files\n"
       ]
      },
      {
       "output_type": "stream",
       "stream": "stdout",
       "text": [
        "170606-15:39:00,731 workflow INFO:\n",
        "\t Executing node Slice_time_correction.b42 in dir: /scratch/afni/tmpegfH4T/preproc/_run_id_7_subject_id_sub-01_task_id_test_/Slice_time_correction\n"
       ]
      },
      {
       "output_type": "stream",
       "stream": "stdout",
       "text": [
        "170606-15:39:00,749 workflow INFO:\n",
        "\t Executing node _Slice_time_correction0 in dir: /scratch/afni/tmpegfH4T/preproc/_run_id_7_subject_id_sub-01_task_id_test_/Slice_time_correction/mapflow/_Slice_time_correction0\n"
       ]
      },
      {
       "output_type": "stream",
       "stream": "stdout",
       "text": [
        "170606-15:39:00,763 workflow INFO:\n",
        "\t Running: slicetimer --in=/scratch/sanjay/GRT/fmri_data/nifti/sub-01/func/sub-01_test_7.nii --odd --out=/scratch/afni/tmpegfH4T/preproc/_run_id_7_subject_id_sub-01_task_id_test_/Slice_time_correction/mapflow/_Slice_time_correction0/sub-01_test_7_st.nii\n"
       ]
      },
      {
       "output_type": "stream",
       "stream": "stdout",
       "text": [
        "170606-15:40:02,381 workflow INFO:\n",
        "\t Executing node Realign_with_MCFLIRT.b08 in dir: /scratch/afni/tmpzwyIVp/preproc/_run_id_9_subject_id_sub-02_task_id_train_/Realign_with_MCFLIRT\n"
       ]
      },
      {
       "output_type": "stream",
       "stream": "stdout",
       "text": [
        "170606-15:40:02,402 workflow INFO:\n",
        "\t Executing node _Realign_with_MCFLIRT0 in dir: /scratch/afni/tmpzwyIVp/preproc/_run_id_9_subject_id_sub-02_task_id_train_/Realign_with_MCFLIRT/mapflow/_Realign_with_MCFLIRT0\n"
       ]
      },
      {
       "output_type": "stream",
       "stream": "stdout",
       "text": [
        "170606-15:40:02,419 workflow INFO:\n",
        "\t Running: mcflirt -in /scratch/afni/tmpMO1ywG/preproc/_run_id_9_subject_id_sub-02_task_id_train_/Slice_time_correction/mapflow/_Slice_time_correction0/sub-02_train_9_st.nii -dof 6 -sinc_final -out /scratch/afni/tmpzwyIVp/preproc/_run_id_9_subject_id_sub-02_task_id_train_/Realign_with_MCFLIRT/mapflow/_Realign_with_MCFLIRT0/sub-02_train_9_st_mcf.nii -mats -plots\n"
       ]
      },
      {
       "output_type": "stream",
       "stream": "stdout",
       "text": [
        "170606-15:48:23,647 workflow INFO:\n",
        "\t Executing node Check_motion_plots.aI.a1.b08 in dir: /scratch/afni/tmpMY5QSR/preproc/_run_id_9_subject_id_sub-02_task_id_train_/_plot_type_translations/Check_motion_plots\n"
       ]
      },
      {
       "output_type": "stream",
       "stream": "stdout",
       "text": [
        "170606-15:48:23,666 workflow INFO:\n",
        "\t Executing node _Check_motion_plots0 in dir: /scratch/afni/tmpMY5QSR/preproc/_run_id_9_subject_id_sub-02_task_id_train_/_plot_type_translations/Check_motion_plots/mapflow/_Check_motion_plots0\n"
       ]
      },
      {
       "output_type": "stream",
       "stream": "stdout",
       "text": [
        "170606-15:48:23,681 workflow INFO:\n",
        "\t Running: fsl_tsplot -i /scratch/afni/tmpzwyIVp/preproc/_run_id_9_subject_id_sub-02_task_id_train_/Realign_with_MCFLIRT/mapflow/_Realign_with_MCFLIRT0/sub-02_train_9_st_mcf.nii.par -o /scratch/afni/tmpzwyIVp/preproc/_run_id_9_subject_id_sub-02_task_id_train_/Realign_with_MCFLIRT/mapflow/_Realign_with_MCFLIRT0/sub-02_train_9_st_mcf.nii_trans.png -t 'MCFLIRT estimated translations (mm)' --start=4 --finish=6 -a x,y,z\n"
       ]
      },
      {
       "output_type": "stream",
       "stream": "stdout",
       "text": [
        "170606-15:48:24,780 workflow INFO:\n",
        "\t Executing node Realign_with_MCFLIRT.b42 in dir: /scratch/afni/tmpHAY4cR/preproc/_run_id_7_subject_id_sub-01_task_id_test_/Realign_with_MCFLIRT\n"
       ]
      },
      {
       "output_type": "stream",
       "stream": "stdout",
       "text": [
        "170606-15:48:24,804 workflow INFO:\n",
        "\t Executing node _Realign_with_MCFLIRT0 in dir: /scratch/afni/tmpHAY4cR/preproc/_run_id_7_subject_id_sub-01_task_id_test_/Realign_with_MCFLIRT/mapflow/_Realign_with_MCFLIRT0\n"
       ]
      },
      {
       "output_type": "stream",
       "stream": "stdout",
       "text": [
        "170606-15:48:24,821 workflow INFO:\n",
        "\t Running: mcflirt -in /scratch/afni/tmpegfH4T/preproc/_run_id_7_subject_id_sub-01_task_id_test_/Slice_time_correction/mapflow/_Slice_time_correction0/sub-01_test_7_st.nii -dof 6 -sinc_final -out /scratch/afni/tmpHAY4cR/preproc/_run_id_7_subject_id_sub-01_task_id_test_/Realign_with_MCFLIRT/mapflow/_Realign_with_MCFLIRT0/sub-01_test_7_st_mcf.nii -mats -plots\n"
       ]
      },
      {
       "output_type": "stream",
       "stream": "stdout",
       "text": [
        "170606-16:03:41,719 workflow INFO:\n",
        "\t Executing node Check_motion_plots.aI.a1.b42 in dir: /scratch/afni/tmpoBST5t/preproc/_run_id_7_subject_id_sub-01_task_id_test_/_plot_type_translations/Check_motion_plots\n"
       ]
      },
      {
       "output_type": "stream",
       "stream": "stdout",
       "text": [
        "170606-16:03:41,754 workflow INFO:\n",
        "\t Executing node _Check_motion_plots0 in dir: /scratch/afni/tmpoBST5t/preproc/_run_id_7_subject_id_sub-01_task_id_test_/_plot_type_translations/Check_motion_plots/mapflow/_Check_motion_plots0\n"
       ]
      },
      {
       "output_type": "stream",
       "stream": "stdout",
       "text": [
        "170606-16:03:41,770 workflow INFO:\n",
        "\t Running: fsl_tsplot -i /scratch/afni/tmpHAY4cR/preproc/_run_id_7_subject_id_sub-01_task_id_test_/Realign_with_MCFLIRT/mapflow/_Realign_with_MCFLIRT0/sub-01_test_7_st_mcf.nii.par -o /scratch/afni/tmpHAY4cR/preproc/_run_id_7_subject_id_sub-01_task_id_test_/Realign_with_MCFLIRT/mapflow/_Realign_with_MCFLIRT0/sub-01_test_7_st_mcf.nii_trans.png -t 'MCFLIRT estimated translations (mm)' --start=4 --finish=6 -a x,y,z\n"
       ]
      },
      {
       "output_type": "stream",
       "stream": "stdout",
       "text": [
        "170606-16:03:42,951 workflow INFO:\n",
        "\t Executing node Check_motion_plots.aI.a0.b08 in dir: /scratch/afni/tmpLWagjb/preproc/_run_id_9_subject_id_sub-02_task_id_train_/_plot_type_rotations/Check_motion_plots\n"
       ]
      },
      {
       "output_type": "stream",
       "stream": "stdout",
       "text": [
        "170606-16:03:42,975 workflow INFO:\n",
        "\t Executing node _Check_motion_plots0 in dir: /scratch/afni/tmpLWagjb/preproc/_run_id_9_subject_id_sub-02_task_id_train_/_plot_type_rotations/Check_motion_plots/mapflow/_Check_motion_plots0\n"
       ]
      },
      {
       "output_type": "stream",
       "stream": "stdout",
       "text": [
        "170606-16:03:42,994 workflow INFO:\n",
        "\t Running: fsl_tsplot -i /scratch/afni/tmpzwyIVp/preproc/_run_id_9_subject_id_sub-02_task_id_train_/Realign_with_MCFLIRT/mapflow/_Realign_with_MCFLIRT0/sub-02_train_9_st_mcf.nii.par -o /scratch/afni/tmpzwyIVp/preproc/_run_id_9_subject_id_sub-02_task_id_train_/Realign_with_MCFLIRT/mapflow/_Realign_with_MCFLIRT0/sub-02_train_9_st_mcf.nii_rot.png -t 'MCFLIRT estimated rotations (radians)' --start=1 --finish=3 -a x,y,z\n"
       ]
      },
      {
       "output_type": "stream",
       "stream": "stdout",
       "text": [
        "170606-16:03:44,101 workflow INFO:\n",
        "\t Executing node Check_motion_plots.aI.a0.b42 in dir: /scratch/afni/tmp4TpKiD/preproc/_run_id_7_subject_id_sub-01_task_id_test_/_plot_type_rotations/Check_motion_plots\n"
       ]
      },
      {
       "output_type": "stream",
       "stream": "stdout",
       "text": [
        "170606-16:03:44,122 workflow INFO:\n",
        "\t Executing node _Check_motion_plots0 in dir: /scratch/afni/tmp4TpKiD/preproc/_run_id_7_subject_id_sub-01_task_id_test_/_plot_type_rotations/Check_motion_plots/mapflow/_Check_motion_plots0\n"
       ]
      },
      {
       "output_type": "stream",
       "stream": "stdout",
       "text": [
        "170606-16:03:44,139 workflow INFO:\n",
        "\t Running: fsl_tsplot -i /scratch/afni/tmpHAY4cR/preproc/_run_id_7_subject_id_sub-01_task_id_test_/Realign_with_MCFLIRT/mapflow/_Realign_with_MCFLIRT0/sub-01_test_7_st_mcf.nii.par -o /scratch/afni/tmpHAY4cR/preproc/_run_id_7_subject_id_sub-01_task_id_test_/Realign_with_MCFLIRT/mapflow/_Realign_with_MCFLIRT0/sub-01_test_7_st_mcf.nii_rot.png -t 'MCFLIRT estimated rotations (radians)' --start=1 --finish=3 -a x,y,z\n"
       ]
      },
      {
       "output_type": "stream",
       "stream": "stdout",
       "text": [
        "170606-16:03:45,259 workflow INFO:\n",
        "\t Executing node Resample_T1.b08 in dir: /scratch/afni/tmpf4cIwQ/preproc/_run_id_9_subject_id_sub-02_task_id_train_/Resample_T1\n"
       ]
      },
      {
       "output_type": "stream",
       "stream": "stdout",
       "text": [
        "170606-16:03:45,285 workflow INFO:\n",
        "\t Running: 3dresample -prefix sub-02_T1_resample.nii -dxyz 2.400000 2.400000 2.400000 -inset /scratch/afni/tmpf4cIwQ/preproc/_run_id_9_subject_id_sub-02_task_id_train_/Resample_T1/sub-02_T1.nii\n"
       ]
      },
      {
       "output_type": "stream",
       "stream": "stdout",
       "text": [
        "170606-16:03:46,575 workflow INFO:\n",
        "\t Executing node Register_functionals.b08 in dir: /scratch/afni/tmpb4jsVQ/preproc/_run_id_9_subject_id_sub-02_task_id_train_/Register_functionals\n"
       ]
      },
      {
       "output_type": "stream",
       "stream": "stdout",
       "text": [
        "170606-16:03:46,603 workflow INFO:\n",
        "\t Executing node _Register_functionals0 in dir: /scratch/afni/tmpb4jsVQ/preproc/_run_id_9_subject_id_sub-02_task_id_train_/Register_functionals/mapflow/_Register_functionals0\n"
       ]
      },
      {
       "output_type": "stream",
       "stream": "stdout",
       "text": [
        "170606-16:03:46,622 workflow INFO:\n",
        "\t Running: flirt -in /scratch/afni/tmpzwyIVp/preproc/_run_id_9_subject_id_sub-02_task_id_train_/Realign_with_MCFLIRT/mapflow/_Realign_with_MCFLIRT0/sub-02_train_9_st_mcf.nii -ref /scratch/afni/tmpf4cIwQ/preproc/_run_id_9_subject_id_sub-02_task_id_train_/Resample_T1/sub-02_T1_resample.nii -out sub-02_train_9_st_mcf_flirt.nii -omat sub-02_train_9_st_mcf_flirt.mat\n"
       ]
      },
      {
       "output_type": "stream",
       "stream": "stdout",
       "text": [
        "170606-16:04:04,200 workflow INFO:\n",
        "\t Executing node Strip_skull.b08 in dir: /scratch/afni/tmpIckSto/preproc/_run_id_9_subject_id_sub-02_task_id_train_/Strip_skull\n"
       ]
      },
      {
       "output_type": "stream",
       "stream": "stdout",
       "text": [
        "170606-16:04:04,227 workflow INFO:\n",
        "\t Executing node _Strip_skull0 in dir: /scratch/afni/tmpIckSto/preproc/_run_id_9_subject_id_sub-02_task_id_train_/Strip_skull/mapflow/_Strip_skull0\n"
       ]
      },
      {
       "output_type": "stream",
       "stream": "stdout",
       "text": [
        "170606-16:04:04,252 workflow INFO:\n",
        "\t Running: bet /scratch/afni/tmpb4jsVQ/preproc/_run_id_9_subject_id_sub-02_task_id_train_/Register_functionals/mapflow/_Register_functionals0/sub-02_train_9_st_mcf_flirt.nii /scratch/afni/tmpIckSto/preproc/_run_id_9_subject_id_sub-02_task_id_train_/Strip_skull/mapflow/_Strip_skull0/sub-02_train_9_st_mcf_flirt_brain.nii -F\n"
       ]
      },
      {
       "output_type": "stream",
       "stream": "stdout",
       "text": [
        "170606-16:04:13,123 workflow INFO:\n",
        "\t Executing node store_outputs.a0.b08 in dir: /scratch/afni/tmpHU42pF/preproc/_run_id_9_subject_id_sub-02_task_id_train_/_plot_type_rotations/store_outputs\n"
       ]
      },
      {
       "output_type": "stream",
       "stream": "stdout",
       "text": [
        "170606-16:04:13,275 workflow INFO:\n",
        "\t Executing node store_outputs.a1.b08 in dir: /scratch/afni/tmpCXkiyc/preproc/_run_id_9_subject_id_sub-02_task_id_train_/_plot_type_translations/store_outputs\n"
       ]
      },
      {
       "output_type": "stream",
       "stream": "stdout",
       "text": [
        "170606-16:04:13,353 workflow INFO:\n",
        "\t Executing node Resample_T1.b42 in dir: /scratch/afni/tmpIVslse/preproc/_run_id_7_subject_id_sub-01_task_id_test_/Resample_T1\n"
       ]
      },
      {
       "output_type": "stream",
       "stream": "stdout",
       "text": [
        "170606-16:04:13,374 workflow INFO:\n",
        "\t Running: 3dresample -prefix sub-01_T1_resample.nii -dxyz 2.400000 2.400000 2.400000 -inset /scratch/afni/tmpIVslse/preproc/_run_id_7_subject_id_sub-01_task_id_test_/Resample_T1/sub-01_T1.nii\n"
       ]
      },
      {
       "output_type": "stream",
       "stream": "stdout",
       "text": [
        "170606-16:04:14,499 workflow INFO:\n",
        "\t Executing node Register_functionals.b42 in dir: /scratch/afni/tmpHtipYO/preproc/_run_id_7_subject_id_sub-01_task_id_test_/Register_functionals\n"
       ]
      },
      {
       "output_type": "stream",
       "stream": "stdout",
       "text": [
        "170606-16:04:14,526 workflow INFO:\n",
        "\t Executing node _Register_functionals0 in dir: /scratch/afni/tmpHtipYO/preproc/_run_id_7_subject_id_sub-01_task_id_test_/Register_functionals/mapflow/_Register_functionals0\n"
       ]
      },
      {
       "output_type": "stream",
       "stream": "stdout",
       "text": [
        "170606-16:04:14,551 workflow INFO:\n",
        "\t Running: flirt -in /scratch/afni/tmpHAY4cR/preproc/_run_id_7_subject_id_sub-01_task_id_test_/Realign_with_MCFLIRT/mapflow/_Realign_with_MCFLIRT0/sub-01_test_7_st_mcf.nii -ref /scratch/afni/tmpIVslse/preproc/_run_id_7_subject_id_sub-01_task_id_test_/Resample_T1/sub-01_T1_resample.nii -out sub-01_test_7_st_mcf_flirt.nii -omat sub-01_test_7_st_mcf_flirt.mat\n"
       ]
      },
      {
       "output_type": "stream",
       "stream": "stdout",
       "text": [
        "170606-16:04:33,123 workflow INFO:\n",
        "\t Executing node Strip_skull.b42 in dir: /scratch/afni/tmp6r1MSV/preproc/_run_id_7_subject_id_sub-01_task_id_test_/Strip_skull\n"
       ]
      },
      {
       "output_type": "stream",
       "stream": "stdout",
       "text": [
        "170606-16:04:33,145 workflow INFO:\n",
        "\t Executing node _Strip_skull0 in dir: /scratch/afni/tmp6r1MSV/preproc/_run_id_7_subject_id_sub-01_task_id_test_/Strip_skull/mapflow/_Strip_skull0\n"
       ]
      },
      {
       "output_type": "stream",
       "stream": "stdout",
       "text": [
        "170606-16:04:33,163 workflow INFO:\n",
        "\t Running: bet /scratch/afni/tmpHtipYO/preproc/_run_id_7_subject_id_sub-01_task_id_test_/Register_functionals/mapflow/_Register_functionals0/sub-01_test_7_st_mcf_flirt.nii /scratch/afni/tmp6r1MSV/preproc/_run_id_7_subject_id_sub-01_task_id_test_/Strip_skull/mapflow/_Strip_skull0/sub-01_test_7_st_mcf_flirt_brain.nii -F\n"
       ]
      },
      {
       "output_type": "stream",
       "stream": "stdout",
       "text": [
        "170606-16:04:41,478 workflow INFO:\n",
        "\t Executing node store_outputs.a1.b42 in dir: /scratch/afni/tmpoEAhYF/preproc/_run_id_7_subject_id_sub-01_task_id_test_/_plot_type_translations/store_outputs\n"
       ]
      },
      {
       "output_type": "stream",
       "stream": "stdout",
       "text": [
        "170606-16:04:41,533 workflow INFO:\n",
        "\t Executing node Get_files.b07 in dir: /scratch/afni/tmp8C6wLk/preproc/_run_id_8_subject_id_sub-02_task_id_train_/Get_files\n"
       ]
      },
      {
       "output_type": "stream",
       "stream": "stdout",
       "text": [
        "170606-16:04:41,580 workflow INFO:\n",
        "\t Executing node Slice_time_correction.b07 in dir: /scratch/afni/tmpVElqYS/preproc/_run_id_8_subject_id_sub-02_task_id_train_/Slice_time_correction\n"
       ]
      },
      {
       "output_type": "stream",
       "stream": "stdout",
       "text": [
        "170606-16:04:41,604 workflow INFO:\n",
        "\t Executing node _Slice_time_correction0 in dir: /scratch/afni/tmpVElqYS/preproc/_run_id_8_subject_id_sub-02_task_id_train_/Slice_time_correction/mapflow/_Slice_time_correction0\n"
       ]
      },
      {
       "output_type": "stream",
       "stream": "stdout",
       "text": [
        "170606-16:04:41,621 workflow INFO:\n",
        "\t Running: slicetimer --in=/scratch/sanjay/GRT/fmri_data/nifti/sub-02/func/sub-02_train_8.nii --odd --out=/scratch/afni/tmpVElqYS/preproc/_run_id_8_subject_id_sub-02_task_id_train_/Slice_time_correction/mapflow/_Slice_time_correction0/sub-02_train_8_st.nii\n"
       ]
      },
      {
       "output_type": "stream",
       "stream": "stdout",
       "text": [
        "170606-16:05:18,135 workflow INFO:\n",
        "\t Executing node Get_files.b41 in dir: /scratch/afni/tmp04FvYQ/preproc/_run_id_6_subject_id_sub-01_task_id_test_/Get_files\n"
       ]
      },
      {
       "output_type": "stream",
       "stream": "stdout",
       "text": [
        "170606-16:05:18,184 workflow INFO:\n",
        "\t Executing node Slice_time_correction.b41 in dir: /scratch/afni/tmpGkOXv3/preproc/_run_id_6_subject_id_sub-01_task_id_test_/Slice_time_correction\n"
       ]
      },
      {
       "output_type": "stream",
       "stream": "stdout",
       "text": [
        "170606-16:05:18,209 workflow INFO:\n",
        "\t Executing node _Slice_time_correction0 in dir: /scratch/afni/tmpGkOXv3/preproc/_run_id_6_subject_id_sub-01_task_id_test_/Slice_time_correction/mapflow/_Slice_time_correction0\n"
       ]
      },
      {
       "output_type": "stream",
       "stream": "stdout",
       "text": [
        "170606-16:05:18,229 workflow INFO:\n",
        "\t Running: slicetimer --in=/scratch/sanjay/GRT/fmri_data/nifti/sub-01/func/sub-01_test_6.nii --odd --out=/scratch/afni/tmpGkOXv3/preproc/_run_id_6_subject_id_sub-01_task_id_test_/Slice_time_correction/mapflow/_Slice_time_correction0/sub-01_test_6_st.nii\n"
       ]
      },
      {
       "output_type": "stream",
       "stream": "stdout",
       "text": [
        "170606-16:06:25,480 workflow INFO:\n",
        "\t Executing node Realign_with_MCFLIRT.b07 in dir: /scratch/afni/tmp6Jy4Yu/preproc/_run_id_8_subject_id_sub-02_task_id_train_/Realign_with_MCFLIRT\n"
       ]
      },
      {
       "output_type": "stream",
       "stream": "stdout",
       "text": [
        "170606-16:06:25,502 workflow INFO:\n",
        "\t Executing node _Realign_with_MCFLIRT0 in dir: /scratch/afni/tmp6Jy4Yu/preproc/_run_id_8_subject_id_sub-02_task_id_train_/Realign_with_MCFLIRT/mapflow/_Realign_with_MCFLIRT0\n"
       ]
      },
      {
       "output_type": "stream",
       "stream": "stdout",
       "text": [
        "170606-16:06:25,519 workflow INFO:\n",
        "\t Running: mcflirt -in /scratch/afni/tmpVElqYS/preproc/_run_id_8_subject_id_sub-02_task_id_train_/Slice_time_correction/mapflow/_Slice_time_correction0/sub-02_train_8_st.nii -dof 6 -sinc_final -out /scratch/afni/tmp6Jy4Yu/preproc/_run_id_8_subject_id_sub-02_task_id_train_/Realign_with_MCFLIRT/mapflow/_Realign_with_MCFLIRT0/sub-02_train_8_st_mcf.nii -mats -plots\n"
       ]
      },
      {
       "output_type": "stream",
       "stream": "stdout",
       "text": [
        "170606-16:14:50,833 workflow INFO:\n",
        "\t Executing node Check_motion_plots.aI.a1.b07 in dir: /scratch/afni/tmpTocfUR/preproc/_run_id_8_subject_id_sub-02_task_id_train_/_plot_type_translations/Check_motion_plots\n"
       ]
      },
      {
       "output_type": "stream",
       "stream": "stdout",
       "text": [
        "170606-16:14:50,857 workflow INFO:\n",
        "\t Executing node _Check_motion_plots0 in dir: /scratch/afni/tmpTocfUR/preproc/_run_id_8_subject_id_sub-02_task_id_train_/_plot_type_translations/Check_motion_plots/mapflow/_Check_motion_plots0\n"
       ]
      },
      {
       "output_type": "stream",
       "stream": "stdout",
       "text": [
        "170606-16:14:50,874 workflow INFO:\n",
        "\t Running: fsl_tsplot -i /scratch/afni/tmp6Jy4Yu/preproc/_run_id_8_subject_id_sub-02_task_id_train_/Realign_with_MCFLIRT/mapflow/_Realign_with_MCFLIRT0/sub-02_train_8_st_mcf.nii.par -o /scratch/afni/tmp6Jy4Yu/preproc/_run_id_8_subject_id_sub-02_task_id_train_/Realign_with_MCFLIRT/mapflow/_Realign_with_MCFLIRT0/sub-02_train_8_st_mcf.nii_trans.png -t 'MCFLIRT estimated translations (mm)' --start=4 --finish=6 -a x,y,z\n"
       ]
      },
      {
       "output_type": "stream",
       "stream": "stdout",
       "text": [
        "170606-16:14:51,988 workflow INFO:\n",
        "\t Executing node Realign_with_MCFLIRT.b41 in dir: /scratch/afni/tmp6DbJ6o/preproc/_run_id_6_subject_id_sub-01_task_id_test_/Realign_with_MCFLIRT\n"
       ]
      },
      {
       "output_type": "stream",
       "stream": "stdout",
       "text": [
        "170606-16:14:52,14 workflow INFO:\n",
        "\t Executing node _Realign_with_MCFLIRT0 in dir: /scratch/afni/tmp6DbJ6o/preproc/_run_id_6_subject_id_sub-01_task_id_test_/Realign_with_MCFLIRT/mapflow/_Realign_with_MCFLIRT0\n"
       ]
      },
      {
       "output_type": "stream",
       "stream": "stdout",
       "text": [
        "170606-16:14:52,35 workflow INFO:\n",
        "\t Running: mcflirt -in /scratch/afni/tmpGkOXv3/preproc/_run_id_6_subject_id_sub-01_task_id_test_/Slice_time_correction/mapflow/_Slice_time_correction0/sub-01_test_6_st.nii -dof 6 -sinc_final -out /scratch/afni/tmp6DbJ6o/preproc/_run_id_6_subject_id_sub-01_task_id_test_/Realign_with_MCFLIRT/mapflow/_Realign_with_MCFLIRT0/sub-01_test_6_st_mcf.nii -mats -plots\n"
       ]
      },
      {
       "output_type": "stream",
       "stream": "stdout",
       "text": [
        "170606-16:29:21,813 workflow INFO:\n",
        "\t Executing node Get_files.b33 in dir: /scratch/afni/tmpzgNha3/preproc/_run_id_10_subject_id_sub-01_task_id_train_/Get_files\n"
       ]
      },
      {
       "output_type": "stream",
       "stream": "stdout",
       "text": [
        "170606-16:29:21,863 workflow INFO:\n",
        "\t Executing node Slice_time_correction.b33 in dir: /scratch/afni/tmpR4Fm52/preproc/_run_id_10_subject_id_sub-01_task_id_train_/Slice_time_correction\n"
       ]
      },
      {
       "output_type": "stream",
       "stream": "stdout",
       "text": [
        "170606-16:29:21,882 workflow INFO:\n",
        "\t Executing node _Slice_time_correction0 in dir: /scratch/afni/tmpR4Fm52/preproc/_run_id_10_subject_id_sub-01_task_id_train_/Slice_time_correction/mapflow/_Slice_time_correction0\n"
       ]
      },
      {
       "output_type": "stream",
       "stream": "stdout",
       "text": [
        "170606-16:29:21,898 workflow INFO:\n",
        "\t Running: slicetimer --in=/scratch/sanjay/GRT/fmri_data/nifti/sub-01/func/sub-01_train_10.nii --odd --out=/scratch/afni/tmpR4Fm52/preproc/_run_id_10_subject_id_sub-01_task_id_train_/Slice_time_correction/mapflow/_Slice_time_correction0/sub-01_train_10_st.nii\n"
       ]
      },
      {
       "output_type": "stream",
       "stream": "stdout",
       "text": [
        "170606-16:29:57,874 workflow INFO:\n",
        "\t Executing node Check_motion_plots.aI.a0.b07 in dir: /scratch/afni/tmpQRpNYj/preproc/_run_id_8_subject_id_sub-02_task_id_train_/_plot_type_rotations/Check_motion_plots\n"
       ]
      },
      {
       "output_type": "stream",
       "stream": "stdout",
       "text": [
        "170606-16:29:57,893 workflow INFO:\n",
        "\t Executing node _Check_motion_plots0 in dir: /scratch/afni/tmpQRpNYj/preproc/_run_id_8_subject_id_sub-02_task_id_train_/_plot_type_rotations/Check_motion_plots/mapflow/_Check_motion_plots0\n"
       ]
      },
      {
       "output_type": "stream",
       "stream": "stdout",
       "text": [
        "170606-16:29:57,908 workflow INFO:\n",
        "\t Running: fsl_tsplot -i /scratch/afni/tmp6Jy4Yu/preproc/_run_id_8_subject_id_sub-02_task_id_train_/Realign_with_MCFLIRT/mapflow/_Realign_with_MCFLIRT0/sub-02_train_8_st_mcf.nii.par -o /scratch/afni/tmp6Jy4Yu/preproc/_run_id_8_subject_id_sub-02_task_id_train_/Realign_with_MCFLIRT/mapflow/_Realign_with_MCFLIRT0/sub-02_train_8_st_mcf.nii_rot.png -t 'MCFLIRT estimated rotations (radians)' --start=1 --finish=3 -a x,y,z\n"
       ]
      },
      {
       "output_type": "stream",
       "stream": "stdout",
       "text": [
        "170606-16:29:59,24 workflow INFO:\n",
        "\t Executing node Get_files.b31 in dir: /scratch/afni/tmp4ideeA/preproc/_run_id_8_subject_id_sub-01_task_id_train_/Get_files\n"
       ]
      },
      {
       "output_type": "stream",
       "stream": "stdout",
       "text": [
        "170606-16:29:59,68 workflow INFO:\n",
        "\t Executing node Resample_T1.b31 in dir: /scratch/afni/tmp1iKHGw/preproc/_run_id_8_subject_id_sub-01_task_id_train_/Resample_T1\n"
       ]
      },
      {
       "output_type": "stream",
       "stream": "stdout",
       "text": [
        "170606-16:29:59,86 workflow INFO:\n",
        "\t Running: 3dresample -prefix sub-01_T1_resample.nii -dxyz 2.400000 2.400000 2.400000 -inset /scratch/afni/tmp1iKHGw/preproc/_run_id_8_subject_id_sub-01_task_id_train_/Resample_T1/sub-01_T1.nii\n"
       ]
      },
      {
       "output_type": "stream",
       "stream": "stdout",
       "text": [
        "170606-16:30:00,405 workflow INFO:\n",
        "\t Executing node Slice_time_correction.b31 in dir: /scratch/afni/tmpwO1v1j/preproc/_run_id_8_subject_id_sub-01_task_id_train_/Slice_time_correction\n"
       ]
      },
      {
       "output_type": "stream",
       "stream": "stdout",
       "text": [
        "170606-16:30:00,428 workflow INFO:\n",
        "\t Executing node _Slice_time_correction0 in dir: /scratch/afni/tmpwO1v1j/preproc/_run_id_8_subject_id_sub-01_task_id_train_/Slice_time_correction/mapflow/_Slice_time_correction0\n"
       ]
      },
      {
       "output_type": "stream",
       "stream": "stdout",
       "text": [
        "170606-16:30:00,443 workflow INFO:\n",
        "\t Running: slicetimer --in=/scratch/sanjay/GRT/fmri_data/nifti/sub-01/func/sub-01_train_8.nii --odd --out=/scratch/afni/tmpwO1v1j/preproc/_run_id_8_subject_id_sub-01_task_id_train_/Slice_time_correction/mapflow/_Slice_time_correction0/sub-01_train_8_st.nii\n"
       ]
      },
      {
       "output_type": "stream",
       "stream": "stdout",
       "text": [
        "170606-16:30:36,926 workflow INFO:\n",
        "\t Executing node Check_motion_plots.aI.a0.b41 in dir: /scratch/afni/tmprla_yx/preproc/_run_id_6_subject_id_sub-01_task_id_test_/_plot_type_rotations/Check_motion_plots\n"
       ]
      },
      {
       "output_type": "stream",
       "stream": "stdout",
       "text": [
        "170606-16:30:36,951 workflow INFO:\n",
        "\t Executing node _Check_motion_plots0 in dir: /scratch/afni/tmprla_yx/preproc/_run_id_6_subject_id_sub-01_task_id_test_/_plot_type_rotations/Check_motion_plots/mapflow/_Check_motion_plots0\n"
       ]
      },
      {
       "output_type": "stream",
       "stream": "stdout",
       "text": [
        "170606-16:30:36,969 workflow INFO:\n",
        "\t Running: fsl_tsplot -i /scratch/afni/tmp6DbJ6o/preproc/_run_id_6_subject_id_sub-01_task_id_test_/Realign_with_MCFLIRT/mapflow/_Realign_with_MCFLIRT0/sub-01_test_6_st_mcf.nii.par -o /scratch/afni/tmp6DbJ6o/preproc/_run_id_6_subject_id_sub-01_task_id_test_/Realign_with_MCFLIRT/mapflow/_Realign_with_MCFLIRT0/sub-01_test_6_st_mcf.nii_rot.png -t 'MCFLIRT estimated rotations (radians)' --start=1 --finish=3 -a x,y,z\n"
       ]
      },
      {
       "output_type": "stream",
       "stream": "stdout",
       "text": [
        "170606-16:30:38,81 workflow INFO:\n",
        "\t Executing node Resample_T1.b07 in dir: /scratch/afni/tmptLkiml/preproc/_run_id_8_subject_id_sub-02_task_id_train_/Resample_T1\n"
       ]
      },
      {
       "output_type": "stream",
       "stream": "stdout",
       "text": [
        "170606-16:30:38,103 workflow INFO:\n",
        "\t Running: 3dresample -prefix sub-02_T1_resample.nii -dxyz 2.400000 2.400000 2.400000 -inset /scratch/afni/tmptLkiml/preproc/_run_id_8_subject_id_sub-02_task_id_train_/Resample_T1/sub-02_T1.nii\n"
       ]
      },
      {
       "output_type": "stream",
       "stream": "stdout",
       "text": [
        "170606-16:30:39,201 workflow INFO:\n",
        "\t Executing node Register_functionals.b07 in dir: /scratch/afni/tmpypkQTy/preproc/_run_id_8_subject_id_sub-02_task_id_train_/Register_functionals\n"
       ]
      },
      {
       "output_type": "stream",
       "stream": "stdout",
       "text": [
        "170606-16:30:39,230 workflow INFO:\n",
        "\t Executing node _Register_functionals0 in dir: /scratch/afni/tmpypkQTy/preproc/_run_id_8_subject_id_sub-02_task_id_train_/Register_functionals/mapflow/_Register_functionals0\n"
       ]
      },
      {
       "output_type": "stream",
       "stream": "stdout",
       "text": [
        "170606-16:30:39,251 workflow INFO:\n",
        "\t Running: flirt -in /scratch/afni/tmp6Jy4Yu/preproc/_run_id_8_subject_id_sub-02_task_id_train_/Realign_with_MCFLIRT/mapflow/_Realign_with_MCFLIRT0/sub-02_train_8_st_mcf.nii -ref /scratch/afni/tmptLkiml/preproc/_run_id_8_subject_id_sub-02_task_id_train_/Resample_T1/sub-02_T1_resample.nii -out sub-02_train_8_st_mcf_flirt.nii -omat sub-02_train_8_st_mcf_flirt.mat\n"
       ]
      },
      {
       "output_type": "stream",
       "stream": "stdout",
       "text": [
        "170606-16:30:53,699 workflow INFO:\n",
        "\t Executing node Strip_skull.b07 in dir: /scratch/afni/tmpFCiyQ6/preproc/_run_id_8_subject_id_sub-02_task_id_train_/Strip_skull\n"
       ]
      },
      {
       "output_type": "stream",
       "stream": "stdout",
       "text": [
        "170606-16:30:53,722 workflow INFO:\n",
        "\t Executing node _Strip_skull0 in dir: /scratch/afni/tmpFCiyQ6/preproc/_run_id_8_subject_id_sub-02_task_id_train_/Strip_skull/mapflow/_Strip_skull0\n"
       ]
      },
      {
       "output_type": "stream",
       "stream": "stdout",
       "text": [
        "170606-16:30:53,737 workflow INFO:\n",
        "\t Running: bet /scratch/afni/tmpypkQTy/preproc/_run_id_8_subject_id_sub-02_task_id_train_/Register_functionals/mapflow/_Register_functionals0/sub-02_train_8_st_mcf_flirt.nii /scratch/afni/tmpFCiyQ6/preproc/_run_id_8_subject_id_sub-02_task_id_train_/Strip_skull/mapflow/_Strip_skull0/sub-02_train_8_st_mcf_flirt_brain.nii -F\n"
       ]
      },
      {
       "output_type": "stream",
       "stream": "stdout",
       "text": [
        "170606-16:31:00,498 workflow INFO:\n",
        "\t Executing node store_outputs.a1.b07 in dir: /scratch/afni/tmpwcbhpq/preproc/_run_id_8_subject_id_sub-02_task_id_train_/_plot_type_translations/store_outputs\n"
       ]
      },
      {
       "output_type": "stream",
       "stream": "stdout",
       "text": [
        "170606-16:31:00,595 workflow INFO:\n",
        "\t Executing node store_outputs.a0.b07 in dir: /scratch/afni/tmpGqM6Ll/preproc/_run_id_8_subject_id_sub-02_task_id_train_/_plot_type_rotations/store_outputs\n"
       ]
      },
      {
       "output_type": "stream",
       "stream": "stdout",
       "text": [
        "170606-16:31:00,674 workflow INFO:\n",
        "\t Executing node Resample_T1.b41 in dir: /scratch/afni/tmpkSRvU7/preproc/_run_id_6_subject_id_sub-01_task_id_test_/Resample_T1\n"
       ]
      },
      {
       "output_type": "stream",
       "stream": "stdout",
       "text": [
        "170606-16:31:00,694 workflow INFO:\n",
        "\t Running: 3dresample -prefix sub-01_T1_resample.nii -dxyz 2.400000 2.400000 2.400000 -inset /scratch/afni/tmpkSRvU7/preproc/_run_id_6_subject_id_sub-01_task_id_test_/Resample_T1/sub-01_T1.nii\n"
       ]
      },
      {
       "output_type": "stream",
       "stream": "stdout",
       "text": [
        "170606-16:31:01,787 workflow INFO:\n",
        "\t Executing node Register_functionals.b41 in dir: /scratch/afni/tmpp3Whzh/preproc/_run_id_6_subject_id_sub-01_task_id_test_/Register_functionals\n"
       ]
      },
      {
       "output_type": "stream",
       "stream": "stdout",
       "text": [
        "170606-16:31:01,815 workflow INFO:\n",
        "\t Executing node _Register_functionals0 in dir: /scratch/afni/tmpp3Whzh/preproc/_run_id_6_subject_id_sub-01_task_id_test_/Register_functionals/mapflow/_Register_functionals0\n"
       ]
      },
      {
       "output_type": "stream",
       "stream": "stdout",
       "text": [
        "170606-16:31:01,835 workflow INFO:\n",
        "\t Running: flirt -in /scratch/afni/tmp6DbJ6o/preproc/_run_id_6_subject_id_sub-01_task_id_test_/Realign_with_MCFLIRT/mapflow/_Realign_with_MCFLIRT0/sub-01_test_6_st_mcf.nii -ref /scratch/afni/tmpkSRvU7/preproc/_run_id_6_subject_id_sub-01_task_id_test_/Resample_T1/sub-01_T1_resample.nii -out sub-01_test_6_st_mcf_flirt.nii -omat sub-01_test_6_st_mcf_flirt.mat\n"
       ]
      },
      {
       "output_type": "stream",
       "stream": "stdout",
       "text": [
        "170606-16:31:16,773 workflow INFO:\n",
        "\t Executing node Get_files.b11 in dir: /scratch/afni/tmpxHlTQC/preproc/_run_id_12_subject_id_sub-02_task_id_train_/Get_files\n"
       ]
      },
      {
       "output_type": "stream",
       "stream": "stdout",
       "text": [
        "170606-16:31:16,818 workflow INFO:\n",
        "\t Executing node Slice_time_correction.b11 in dir: /scratch/afni/tmpoT7Bb3/preproc/_run_id_12_subject_id_sub-02_task_id_train_/Slice_time_correction\n"
       ]
      },
      {
       "output_type": "stream",
       "stream": "stdout",
       "text": [
        "170606-16:31:16,842 workflow INFO:\n",
        "\t Executing node _Slice_time_correction0 in dir: /scratch/afni/tmpoT7Bb3/preproc/_run_id_12_subject_id_sub-02_task_id_train_/Slice_time_correction/mapflow/_Slice_time_correction0\n"
       ]
      },
      {
       "output_type": "stream",
       "stream": "stdout",
       "text": [
        "170606-16:31:16,860 workflow INFO:\n",
        "\t Running: slicetimer --in=/scratch/sanjay/GRT/fmri_data/nifti/sub-02/func/sub-02_train_12.nii --odd --out=/scratch/afni/tmpoT7Bb3/preproc/_run_id_12_subject_id_sub-02_task_id_train_/Slice_time_correction/mapflow/_Slice_time_correction0/sub-02_train_12_st.nii\n"
       ]
      },
      {
       "output_type": "stream",
       "stream": "stdout",
       "text": [
        "170606-16:31:52,825 workflow INFO:\n",
        "\t Executing node Get_files.b06 in dir: /scratch/afni/tmpJxq2AJ/preproc/_run_id_7_subject_id_sub-02_task_id_train_/Get_files\n"
       ]
      },
      {
       "output_type": "stream",
       "stream": "stdout",
       "text": [
        "170606-16:31:52,869 workflow INFO:\n",
        "\t Executing node Slice_time_correction.b06 in dir: /scratch/afni/tmpTUwAe5/preproc/_run_id_7_subject_id_sub-02_task_id_train_/Slice_time_correction\n"
       ]
      },
      {
       "output_type": "stream",
       "stream": "stdout",
       "text": [
        "170606-16:31:52,892 workflow INFO:\n",
        "\t Executing node _Slice_time_correction0 in dir: /scratch/afni/tmpTUwAe5/preproc/_run_id_7_subject_id_sub-02_task_id_train_/Slice_time_correction/mapflow/_Slice_time_correction0\n"
       ]
      },
      {
       "output_type": "stream",
       "stream": "stdout",
       "text": [
        "170606-16:31:52,908 workflow INFO:\n",
        "\t Running: slicetimer --in=/scratch/sanjay/GRT/fmri_data/nifti/sub-02/func/sub-02_train_7.nii --odd --out=/scratch/afni/tmpTUwAe5/preproc/_run_id_7_subject_id_sub-02_task_id_train_/Slice_time_correction/mapflow/_Slice_time_correction0/sub-02_train_7_st.nii\n"
       ]
      },
      {
       "output_type": "stream",
       "stream": "stdout",
       "text": [
        "170606-16:32:27,331 workflow INFO:\n",
        "\t Executing node Get_files.b40 in dir: /scratch/afni/tmpaGVmHJ/preproc/_run_id_5_subject_id_sub-01_task_id_test_/Get_files\n"
       ]
      },
      {
       "output_type": "stream",
       "stream": "stdout",
       "text": [
        "170606-16:32:27,373 workflow INFO:\n",
        "\t Executing node Slice_time_correction.b40 in dir: /scratch/afni/tmpXH3CNx/preproc/_run_id_5_subject_id_sub-01_task_id_test_/Slice_time_correction\n"
       ]
      },
      {
       "output_type": "stream",
       "stream": "stdout",
       "text": [
        "170606-16:32:27,394 workflow INFO:\n",
        "\t Executing node _Slice_time_correction0 in dir: /scratch/afni/tmpXH3CNx/preproc/_run_id_5_subject_id_sub-01_task_id_test_/Slice_time_correction/mapflow/_Slice_time_correction0\n"
       ]
      },
      {
       "output_type": "stream",
       "stream": "stdout",
       "text": [
        "170606-16:32:27,410 workflow INFO:\n",
        "\t Running: slicetimer --in=/scratch/sanjay/GRT/fmri_data/nifti/sub-01/func/sub-01_test_5.nii --odd --out=/scratch/afni/tmpXH3CNx/preproc/_run_id_5_subject_id_sub-01_task_id_test_/Slice_time_correction/mapflow/_Slice_time_correction0/sub-01_test_5_st.nii\n"
       ]
      },
      {
       "output_type": "stream",
       "stream": "stdout",
       "text": [
        "170606-16:33:31,574 workflow INFO:\n",
        "\t Executing node Realign_with_MCFLIRT.b40 in dir: /scratch/afni/tmpPyg9i0/preproc/_run_id_5_subject_id_sub-01_task_id_test_/Realign_with_MCFLIRT\n"
       ]
      },
      {
       "output_type": "stream",
       "stream": "stdout",
       "text": [
        "170606-16:33:31,596 workflow INFO:\n",
        "\t Executing node _Realign_with_MCFLIRT0 in dir: /scratch/afni/tmpPyg9i0/preproc/_run_id_5_subject_id_sub-01_task_id_test_/Realign_with_MCFLIRT/mapflow/_Realign_with_MCFLIRT0\n"
       ]
      },
      {
       "output_type": "stream",
       "stream": "stdout",
       "text": [
        "170606-16:33:31,613 workflow INFO:\n",
        "\t Running: mcflirt -in /scratch/afni/tmpXH3CNx/preproc/_run_id_5_subject_id_sub-01_task_id_test_/Slice_time_correction/mapflow/_Slice_time_correction0/sub-01_test_5_st.nii -dof 6 -sinc_final -out /scratch/afni/tmpPyg9i0/preproc/_run_id_5_subject_id_sub-01_task_id_test_/Realign_with_MCFLIRT/mapflow/_Realign_with_MCFLIRT0/sub-01_test_5_st_mcf.nii -mats -plots\n"
       ]
      },
      {
       "output_type": "stream",
       "stream": "stdout",
       "text": [
        "170606-16:48:49,22 workflow INFO:\n",
        "\t Executing node Check_motion_plots.aI.a0.b40 in dir: /scratch/afni/tmpJoiyAb/preproc/_run_id_5_subject_id_sub-01_task_id_test_/_plot_type_rotations/Check_motion_plots\n"
       ]
      },
      {
       "output_type": "stream",
       "stream": "stdout",
       "text": [
        "170606-16:48:49,44 workflow INFO:\n",
        "\t Executing node _Check_motion_plots0 in dir: /scratch/afni/tmpJoiyAb/preproc/_run_id_5_subject_id_sub-01_task_id_test_/_plot_type_rotations/Check_motion_plots/mapflow/_Check_motion_plots0\n"
       ]
      },
      {
       "output_type": "stream",
       "stream": "stdout",
       "text": [
        "170606-16:48:49,60 workflow INFO:\n",
        "\t Running: fsl_tsplot -i /scratch/afni/tmpPyg9i0/preproc/_run_id_5_subject_id_sub-01_task_id_test_/Realign_with_MCFLIRT/mapflow/_Realign_with_MCFLIRT0/sub-01_test_5_st_mcf.nii.par -o /scratch/afni/tmpPyg9i0/preproc/_run_id_5_subject_id_sub-01_task_id_test_/Realign_with_MCFLIRT/mapflow/_Realign_with_MCFLIRT0/sub-01_test_5_st_mcf.nii_rot.png -t 'MCFLIRT estimated rotations (radians)' --start=1 --finish=3 -a x,y,z\n"
       ]
      },
      {
       "output_type": "stream",
       "stream": "stdout",
       "text": [
        "170606-16:48:50,361 workflow INFO:\n",
        "\t Executing node Check_motion_plots.aI.a1.b40 in dir: /scratch/afni/tmp80eWup/preproc/_run_id_5_subject_id_sub-01_task_id_test_/_plot_type_translations/Check_motion_plots\n"
       ]
      },
      {
       "output_type": "stream",
       "stream": "stdout",
       "text": [
        "170606-16:48:50,383 workflow INFO:\n",
        "\t Executing node _Check_motion_plots0 in dir: /scratch/afni/tmp80eWup/preproc/_run_id_5_subject_id_sub-01_task_id_test_/_plot_type_translations/Check_motion_plots/mapflow/_Check_motion_plots0\n"
       ]
      },
      {
       "output_type": "stream",
       "stream": "stdout",
       "text": [
        "170606-16:48:50,400 workflow INFO:\n",
        "\t Running: fsl_tsplot -i /scratch/afni/tmpPyg9i0/preproc/_run_id_5_subject_id_sub-01_task_id_test_/Realign_with_MCFLIRT/mapflow/_Realign_with_MCFLIRT0/sub-01_test_5_st_mcf.nii.par -o /scratch/afni/tmpPyg9i0/preproc/_run_id_5_subject_id_sub-01_task_id_test_/Realign_with_MCFLIRT/mapflow/_Realign_with_MCFLIRT0/sub-01_test_5_st_mcf.nii_trans.png -t 'MCFLIRT estimated translations (mm)' --start=4 --finish=6 -a x,y,z\n"
       ]
      },
      {
       "output_type": "stream",
       "stream": "stdout",
       "text": [
        "170606-16:48:51,496 workflow INFO:\n",
        "\t Executing node Resample_T1.b40 in dir: /scratch/afni/tmpZ73jHf/preproc/_run_id_5_subject_id_sub-01_task_id_test_/Resample_T1\n"
       ]
      },
      {
       "output_type": "stream",
       "stream": "stdout",
       "text": [
        "170606-16:48:51,516 workflow INFO:\n",
        "\t Running: 3dresample -prefix sub-01_T1_resample.nii -dxyz 2.400000 2.400000 2.400000 -inset /scratch/afni/tmpZ73jHf/preproc/_run_id_5_subject_id_sub-01_task_id_test_/Resample_T1/sub-01_T1.nii\n"
       ]
      },
      {
       "output_type": "stream",
       "stream": "stdout",
       "text": [
        "170606-16:48:52,619 workflow INFO:\n",
        "\t Executing node Get_files.b39 in dir: /scratch/afni/tmpK0vBPR/preproc/_run_id_4_subject_id_sub-01_task_id_test_/Get_files\n"
       ]
      },
      {
       "output_type": "stream",
       "stream": "stdout",
       "text": [
        "170606-16:48:52,658 workflow INFO:\n",
        "\t Executing node Slice_time_correction.b39 in dir: /scratch/afni/tmpOHKZYs/preproc/_run_id_4_subject_id_sub-01_task_id_test_/Slice_time_correction\n"
       ]
      },
      {
       "output_type": "stream",
       "stream": "stdout",
       "text": [
        "170606-16:48:52,678 workflow INFO:\n",
        "\t Executing node _Slice_time_correction0 in dir: /scratch/afni/tmpOHKZYs/preproc/_run_id_4_subject_id_sub-01_task_id_test_/Slice_time_correction/mapflow/_Slice_time_correction0\n"
       ]
      },
      {
       "output_type": "stream",
       "stream": "stdout",
       "text": [
        "170606-16:48:52,695 workflow INFO:\n",
        "\t Running: slicetimer --in=/scratch/sanjay/GRT/fmri_data/nifti/sub-01/func/sub-01_test_4.nii --odd --out=/scratch/afni/tmpOHKZYs/preproc/_run_id_4_subject_id_sub-01_task_id_test_/Slice_time_correction/mapflow/_Slice_time_correction0/sub-01_test_4_st.nii\n"
       ]
      },
      {
       "output_type": "stream",
       "stream": "stdout",
       "text": [
        "170606-16:49:59,943 workflow INFO:\n",
        "\t Executing node Realign_with_MCFLIRT.b39 in dir: /scratch/afni/tmpdyXPVf/preproc/_run_id_4_subject_id_sub-01_task_id_test_/Realign_with_MCFLIRT\n"
       ]
      },
      {
       "output_type": "stream",
       "stream": "stdout",
       "text": [
        "170606-16:49:59,964 workflow INFO:\n",
        "\t Executing node _Realign_with_MCFLIRT0 in dir: /scratch/afni/tmpdyXPVf/preproc/_run_id_4_subject_id_sub-01_task_id_test_/Realign_with_MCFLIRT/mapflow/_Realign_with_MCFLIRT0\n"
       ]
      },
      {
       "output_type": "stream",
       "stream": "stdout",
       "text": [
        "170606-16:49:59,981 workflow INFO:\n",
        "\t Running: mcflirt -in /scratch/afni/tmpOHKZYs/preproc/_run_id_4_subject_id_sub-01_task_id_test_/Slice_time_correction/mapflow/_Slice_time_correction0/sub-01_test_4_st.nii -dof 6 -sinc_final -out /scratch/afni/tmpdyXPVf/preproc/_run_id_4_subject_id_sub-01_task_id_test_/Realign_with_MCFLIRT/mapflow/_Realign_with_MCFLIRT0/sub-01_test_4_st_mcf.nii -mats -plots\n"
       ]
      },
      {
       "output_type": "stream",
       "stream": "stdout",
       "text": [
        "170606-17:04:42,516 workflow INFO:\n",
        "\t Executing node Check_motion_plots.aI.a1.b39 in dir: /scratch/afni/tmpC89thY/preproc/_run_id_4_subject_id_sub-01_task_id_test_/_plot_type_translations/Check_motion_plots\n"
       ]
      },
      {
       "output_type": "stream",
       "stream": "stdout",
       "text": [
        "170606-17:04:42,539 workflow INFO:\n",
        "\t Executing node _Check_motion_plots0 in dir: /scratch/afni/tmpC89thY/preproc/_run_id_4_subject_id_sub-01_task_id_test_/_plot_type_translations/Check_motion_plots/mapflow/_Check_motion_plots0\n"
       ]
      },
      {
       "output_type": "stream",
       "stream": "stdout",
       "text": [
        "170606-17:04:42,557 workflow INFO:\n",
        "\t Running: fsl_tsplot -i /scratch/afni/tmpdyXPVf/preproc/_run_id_4_subject_id_sub-01_task_id_test_/Realign_with_MCFLIRT/mapflow/_Realign_with_MCFLIRT0/sub-01_test_4_st_mcf.nii.par -o /scratch/afni/tmpdyXPVf/preproc/_run_id_4_subject_id_sub-01_task_id_test_/Realign_with_MCFLIRT/mapflow/_Realign_with_MCFLIRT0/sub-01_test_4_st_mcf.nii_trans.png -t 'MCFLIRT estimated translations (mm)' --start=4 --finish=6 -a x,y,z\n"
       ]
      },
      {
       "output_type": "stream",
       "stream": "stdout",
       "text": [
        "170606-17:04:43,669 workflow INFO:\n",
        "\t Executing node Realign_with_MCFLIRT.b06 in dir: /scratch/afni/tmp2Fzhna/preproc/_run_id_7_subject_id_sub-02_task_id_train_/Realign_with_MCFLIRT\n"
       ]
      },
      {
       "output_type": "stream",
       "stream": "stdout",
       "text": [
        "170606-17:04:43,693 workflow INFO:\n",
        "\t Executing node _Realign_with_MCFLIRT0 in dir: /scratch/afni/tmp2Fzhna/preproc/_run_id_7_subject_id_sub-02_task_id_train_/Realign_with_MCFLIRT/mapflow/_Realign_with_MCFLIRT0\n"
       ]
      },
      {
       "output_type": "stream",
       "stream": "stdout",
       "text": [
        "170606-17:04:43,711 workflow INFO:\n",
        "\t Running: mcflirt -in /scratch/afni/tmpTUwAe5/preproc/_run_id_7_subject_id_sub-02_task_id_train_/Slice_time_correction/mapflow/_Slice_time_correction0/sub-02_train_7_st.nii -dof 6 -sinc_final -out /scratch/afni/tmp2Fzhna/preproc/_run_id_7_subject_id_sub-02_task_id_train_/Realign_with_MCFLIRT/mapflow/_Realign_with_MCFLIRT0/sub-02_train_7_st_mcf.nii -mats -plots\n"
       ]
      },
      {
       "output_type": "stream",
       "stream": "stdout",
       "text": [
        "170606-17:12:48,979 workflow INFO:\n",
        "\t Executing node Check_motion_plots.aI.a1.b06 in dir: /scratch/afni/tmpJMkfcX/preproc/_run_id_7_subject_id_sub-02_task_id_train_/_plot_type_translations/Check_motion_plots\n"
       ]
      },
      {
       "output_type": "stream",
       "stream": "stdout",
       "text": [
        "170606-17:12:49,1 workflow INFO:\n",
        "\t Executing node _Check_motion_plots0 in dir: /scratch/afni/tmpJMkfcX/preproc/_run_id_7_subject_id_sub-02_task_id_train_/_plot_type_translations/Check_motion_plots/mapflow/_Check_motion_plots0\n"
       ]
      },
      {
       "output_type": "stream",
       "stream": "stdout",
       "text": [
        "170606-17:12:49,17 workflow INFO:\n",
        "\t Running: fsl_tsplot -i /scratch/afni/tmp2Fzhna/preproc/_run_id_7_subject_id_sub-02_task_id_train_/Realign_with_MCFLIRT/mapflow/_Realign_with_MCFLIRT0/sub-02_train_7_st_mcf.nii.par -o /scratch/afni/tmp2Fzhna/preproc/_run_id_7_subject_id_sub-02_task_id_train_/Realign_with_MCFLIRT/mapflow/_Realign_with_MCFLIRT0/sub-02_train_7_st_mcf.nii_trans.png -t 'MCFLIRT estimated translations (mm)' --start=4 --finish=6 -a x,y,z\n"
       ]
      },
      {
       "output_type": "stream",
       "stream": "stdout",
       "text": [
        "170606-17:12:50,131 workflow INFO:\n",
        "\t Executing node Realign_with_MCFLIRT.b33 in dir: /scratch/afni/tmp0AwzUm/preproc/_run_id_10_subject_id_sub-01_task_id_train_/Realign_with_MCFLIRT\n"
       ]
      },
      {
       "output_type": "stream",
       "stream": "stdout",
       "text": [
        "170606-17:12:50,154 workflow INFO:\n",
        "\t Executing node _Realign_with_MCFLIRT0 in dir: /scratch/afni/tmp0AwzUm/preproc/_run_id_10_subject_id_sub-01_task_id_train_/Realign_with_MCFLIRT/mapflow/_Realign_with_MCFLIRT0\n"
       ]
      },
      {
       "output_type": "stream",
       "stream": "stdout",
       "text": [
        "170606-17:12:50,172 workflow INFO:\n",
        "\t Running: mcflirt -in /scratch/afni/tmpR4Fm52/preproc/_run_id_10_subject_id_sub-01_task_id_train_/Slice_time_correction/mapflow/_Slice_time_correction0/sub-01_train_10_st.nii -dof 6 -sinc_final -out /scratch/afni/tmp0AwzUm/preproc/_run_id_10_subject_id_sub-01_task_id_train_/Realign_with_MCFLIRT/mapflow/_Realign_with_MCFLIRT0/sub-01_train_10_st_mcf.nii -mats -plots\n"
       ]
      },
      {
       "output_type": "stream",
       "stream": "stdout",
       "text": [
        "170606-17:20:58,375 workflow INFO:\n",
        "\t Executing node Check_motion_plots.aI.a1.b33 in dir: /scratch/afni/tmp2mqGWR/preproc/_run_id_10_subject_id_sub-01_task_id_train_/_plot_type_translations/Check_motion_plots\n"
       ]
      },
      {
       "output_type": "stream",
       "stream": "stdout",
       "text": [
        "170606-17:20:58,396 workflow INFO:\n",
        "\t Executing node _Check_motion_plots0 in dir: /scratch/afni/tmp2mqGWR/preproc/_run_id_10_subject_id_sub-01_task_id_train_/_plot_type_translations/Check_motion_plots/mapflow/_Check_motion_plots0\n"
       ]
      },
      {
       "output_type": "stream",
       "stream": "stdout",
       "text": [
        "170606-17:20:58,412 workflow INFO:\n",
        "\t Running: fsl_tsplot -i /scratch/afni/tmp0AwzUm/preproc/_run_id_10_subject_id_sub-01_task_id_train_/Realign_with_MCFLIRT/mapflow/_Realign_with_MCFLIRT0/sub-01_train_10_st_mcf.nii.par -o /scratch/afni/tmp0AwzUm/preproc/_run_id_10_subject_id_sub-01_task_id_train_/Realign_with_MCFLIRT/mapflow/_Realign_with_MCFLIRT0/sub-01_train_10_st_mcf.nii_trans.png -t 'MCFLIRT estimated translations (mm)' --start=4 --finish=6 -a x,y,z\n"
       ]
      },
      {
       "output_type": "stream",
       "stream": "stdout",
       "text": [
        "170606-17:20:59,523 workflow INFO:\n",
        "\t Executing node Resample_T1.b01 in dir: /scratch/afni/tmp85pBv3/preproc/_run_id_2_subject_id_sub-02_task_id_train_/Resample_T1\n"
       ]
      },
      {
       "output_type": "stream",
       "stream": "stdout",
       "text": [
        "170606-17:20:59,540 workflow INFO:\n",
        "\t Running: 3dresample -prefix sub-02_T1_resample.nii -dxyz 2.400000 2.400000 2.400000 -inset /scratch/afni/tmp85pBv3/preproc/_run_id_2_subject_id_sub-02_task_id_train_/Resample_T1/sub-02_T1.nii\n"
       ]
      },
      {
       "output_type": "stream",
       "stream": "stdout",
       "text": [
        "170606-17:21:00,811 workflow INFO:\n",
        "\t Executing node Register_functionals.b01 in dir: /scratch/afni/tmpPOnMYB/preproc/_run_id_2_subject_id_sub-02_task_id_train_/Register_functionals\n"
       ]
      },
      {
       "output_type": "stream",
       "stream": "stdout",
       "text": [
        "170606-17:21:00,835 workflow INFO:\n",
        "\t Executing node _Register_functionals0 in dir: /scratch/afni/tmpPOnMYB/preproc/_run_id_2_subject_id_sub-02_task_id_train_/Register_functionals/mapflow/_Register_functionals0\n"
       ]
      },
      {
       "output_type": "stream",
       "stream": "stdout",
       "text": [
        "170606-17:21:00,854 workflow INFO:\n",
        "\t Running: flirt -in /scratch/afni/tmpm5HCdj/preproc/_run_id_2_subject_id_sub-02_task_id_train_/Realign_with_MCFLIRT/mapflow/_Realign_with_MCFLIRT0/sub-02_train_2_st_mcf.nii -ref /scratch/afni/tmp85pBv3/preproc/_run_id_2_subject_id_sub-02_task_id_train_/Resample_T1/sub-02_T1_resample.nii -out sub-02_train_2_st_mcf_flirt.nii -omat sub-02_train_2_st_mcf_flirt.mat\n"
       ]
      },
      {
       "output_type": "stream",
       "stream": "stdout",
       "text": [
        "170606-17:21:13,750 workflow INFO:\n",
        "\t Executing node Strip_skull.b01 in dir: /scratch/afni/tmp0avjWd/preproc/_run_id_2_subject_id_sub-02_task_id_train_/Strip_skull\n"
       ]
      },
      {
       "output_type": "stream",
       "stream": "stdout",
       "text": [
        "170606-17:21:13,775 workflow INFO:\n",
        "\t Executing node _Strip_skull0 in dir: /scratch/afni/tmp0avjWd/preproc/_run_id_2_subject_id_sub-02_task_id_train_/Strip_skull/mapflow/_Strip_skull0\n"
       ]
      },
      {
       "output_type": "stream",
       "stream": "stdout",
       "text": [
        "170606-17:21:13,794 workflow INFO:\n",
        "\t Running: bet /scratch/afni/tmpPOnMYB/preproc/_run_id_2_subject_id_sub-02_task_id_train_/Register_functionals/mapflow/_Register_functionals0/sub-02_train_2_st_mcf_flirt.nii /scratch/afni/tmp0avjWd/preproc/_run_id_2_subject_id_sub-02_task_id_train_/Strip_skull/mapflow/_Strip_skull0/sub-02_train_2_st_mcf_flirt_brain.nii -F\n"
       ]
      },
      {
       "output_type": "stream",
       "stream": "stdout",
       "text": [
        "170606-17:21:21,95 workflow INFO:\n",
        "\t Executing node store_outputs.a0.b01 in dir: /scratch/afni/tmpWiebKC/preproc/_run_id_2_subject_id_sub-02_task_id_train_/_plot_type_rotations/store_outputs\n"
       ]
      },
      {
       "output_type": "stream",
       "stream": "stdout",
       "text": [
        "170606-17:21:21,221 workflow INFO:\n",
        "\t Executing node store_outputs.a1.b01 in dir: /scratch/afni/tmpQC0XJk/preproc/_run_id_2_subject_id_sub-02_task_id_train_/_plot_type_translations/store_outputs\n"
       ]
      },
      {
       "output_type": "stream",
       "stream": "stdout",
       "text": [
        "170606-17:21:21,260 workflow INFO:\n",
        "\t Executing node Get_files.b29 in dir: /scratch/afni/tmptavcvU/preproc/_run_id_6_subject_id_sub-01_task_id_train_/Get_files\n"
       ]
      },
      {
       "output_type": "stream",
       "stream": "stdout",
       "text": [
        "170606-17:21:21,301 workflow INFO:\n",
        "\t Executing node Slice_time_correction.b29 in dir: /scratch/afni/tmpLPOrkI/preproc/_run_id_6_subject_id_sub-01_task_id_train_/Slice_time_correction\n"
       ]
      },
      {
       "output_type": "stream",
       "stream": "stdout",
       "text": [
        "170606-17:21:21,321 workflow INFO:\n",
        "\t Executing node _Slice_time_correction0 in dir: /scratch/afni/tmpLPOrkI/preproc/_run_id_6_subject_id_sub-01_task_id_train_/Slice_time_correction/mapflow/_Slice_time_correction0\n"
       ]
      },
      {
       "output_type": "stream",
       "stream": "stdout",
       "text": [
        "170606-17:21:21,335 workflow INFO:\n",
        "\t Running: slicetimer --in=/scratch/sanjay/GRT/fmri_data/nifti/sub-01/func/sub-01_train_6.nii --odd --out=/scratch/afni/tmpLPOrkI/preproc/_run_id_6_subject_id_sub-01_task_id_train_/Slice_time_correction/mapflow/_Slice_time_correction0/sub-01_train_6_st.nii\n"
       ]
      },
      {
       "output_type": "stream",
       "stream": "stdout",
       "text": [
        "170606-17:21:56,773 workflow INFO:\n",
        "\t Executing node Realign_with_MCFLIRT.b29 in dir: /scratch/afni/tmpxOM9fL/preproc/_run_id_6_subject_id_sub-01_task_id_train_/Realign_with_MCFLIRT\n"
       ]
      },
      {
       "output_type": "stream",
       "stream": "stdout",
       "text": [
        "170606-17:21:56,795 workflow INFO:\n",
        "\t Executing node _Realign_with_MCFLIRT0 in dir: /scratch/afni/tmpxOM9fL/preproc/_run_id_6_subject_id_sub-01_task_id_train_/Realign_with_MCFLIRT/mapflow/_Realign_with_MCFLIRT0\n"
       ]
      },
      {
       "output_type": "stream",
       "stream": "stdout",
       "text": [
        "170606-17:21:56,812 workflow INFO:\n",
        "\t Running: mcflirt -in /scratch/afni/tmpLPOrkI/preproc/_run_id_6_subject_id_sub-01_task_id_train_/Slice_time_correction/mapflow/_Slice_time_correction0/sub-01_train_6_st.nii -dof 6 -sinc_final -out /scratch/afni/tmpxOM9fL/preproc/_run_id_6_subject_id_sub-01_task_id_train_/Realign_with_MCFLIRT/mapflow/_Realign_with_MCFLIRT0/sub-01_train_6_st_mcf.nii -mats -plots\n"
       ]
      },
      {
       "output_type": "stream",
       "stream": "stdout",
       "text": [
        "170606-17:30:19,876 workflow INFO:\n",
        "\t Executing node Check_motion_plots.aI.a1.b29 in dir: /scratch/afni/tmpVwMmuX/preproc/_run_id_6_subject_id_sub-01_task_id_train_/_plot_type_translations/Check_motion_plots\n"
       ]
      },
      {
       "output_type": "stream",
       "stream": "stdout",
       "text": [
        "170606-17:30:19,898 workflow INFO:\n",
        "\t Executing node _Check_motion_plots0 in dir: /scratch/afni/tmpVwMmuX/preproc/_run_id_6_subject_id_sub-01_task_id_train_/_plot_type_translations/Check_motion_plots/mapflow/_Check_motion_plots0\n"
       ]
      },
      {
       "output_type": "stream",
       "stream": "stdout",
       "text": [
        "170606-17:30:19,915 workflow INFO:\n",
        "\t Running: fsl_tsplot -i /scratch/afni/tmpxOM9fL/preproc/_run_id_6_subject_id_sub-01_task_id_train_/Realign_with_MCFLIRT/mapflow/_Realign_with_MCFLIRT0/sub-01_train_6_st_mcf.nii.par -o /scratch/afni/tmpxOM9fL/preproc/_run_id_6_subject_id_sub-01_task_id_train_/Realign_with_MCFLIRT/mapflow/_Realign_with_MCFLIRT0/sub-01_train_6_st_mcf.nii_trans.png -t 'MCFLIRT estimated translations (mm)' --start=4 --finish=6 -a x,y,z\n"
       ]
      },
      {
       "output_type": "stream",
       "stream": "stdout",
       "text": [
        "170606-17:30:21,105 workflow INFO:\n",
        "\t Executing node store_outputs.a0.b42 in dir: /scratch/afni/tmpYRiKyP/preproc/_run_id_7_subject_id_sub-01_task_id_test_/_plot_type_rotations/store_outputs\n"
       ]
      },
      {
       "output_type": "stream",
       "stream": "stdout",
       "text": [
        "170606-17:30:21,159 workflow INFO:\n",
        "\t Executing node Check_motion_plots.aI.a0.b29 in dir: /scratch/afni/tmpChQuMS/preproc/_run_id_6_subject_id_sub-01_task_id_train_/_plot_type_rotations/Check_motion_plots\n"
       ]
      },
      {
       "output_type": "stream",
       "stream": "stdout",
       "text": [
        "170606-17:30:21,177 workflow INFO:\n",
        "\t Executing node _Check_motion_plots0 in dir: /scratch/afni/tmpChQuMS/preproc/_run_id_6_subject_id_sub-01_task_id_train_/_plot_type_rotations/Check_motion_plots/mapflow/_Check_motion_plots0\n"
       ]
      },
      {
       "output_type": "stream",
       "stream": "stdout",
       "text": [
        "170606-17:30:21,193 workflow INFO:\n",
        "\t Running: fsl_tsplot -i /scratch/afni/tmpxOM9fL/preproc/_run_id_6_subject_id_sub-01_task_id_train_/Realign_with_MCFLIRT/mapflow/_Realign_with_MCFLIRT0/sub-01_train_6_st_mcf.nii.par -o /scratch/afni/tmpxOM9fL/preproc/_run_id_6_subject_id_sub-01_task_id_train_/Realign_with_MCFLIRT/mapflow/_Realign_with_MCFLIRT0/sub-01_train_6_st_mcf.nii_rot.png -t 'MCFLIRT estimated rotations (radians)' --start=1 --finish=3 -a x,y,z\n"
       ]
      },
      {
       "output_type": "stream",
       "stream": "stdout",
       "text": [
        "170606-17:30:22,297 workflow INFO:\n",
        "\t Executing node Resample_T1.b29 in dir: /scratch/afni/tmpAND07R/preproc/_run_id_6_subject_id_sub-01_task_id_train_/Resample_T1\n"
       ]
      },
      {
       "output_type": "stream",
       "stream": "stdout",
       "text": [
        "170606-17:30:22,318 workflow INFO:\n",
        "\t Running: 3dresample -prefix sub-01_T1_resample.nii -dxyz 2.400000 2.400000 2.400000 -inset /scratch/afni/tmpAND07R/preproc/_run_id_6_subject_id_sub-01_task_id_train_/Resample_T1/sub-01_T1.nii\n"
       ]
      },
      {
       "output_type": "stream",
       "stream": "stdout",
       "text": [
        "170606-17:30:23,422 workflow INFO:\n",
        "\t Executing node Register_functionals.b29 in dir: /scratch/afni/tmp2Ondjv/preproc/_run_id_6_subject_id_sub-01_task_id_train_/Register_functionals\n"
       ]
      },
      {
       "output_type": "stream",
       "stream": "stdout",
       "text": [
        "170606-17:30:23,446 workflow INFO:\n",
        "\t Executing node _Register_functionals0 in dir: /scratch/afni/tmp2Ondjv/preproc/_run_id_6_subject_id_sub-01_task_id_train_/Register_functionals/mapflow/_Register_functionals0\n"
       ]
      },
      {
       "output_type": "stream",
       "stream": "stdout",
       "text": [
        "170606-17:30:23,466 workflow INFO:\n",
        "\t Running: flirt -in /scratch/afni/tmpxOM9fL/preproc/_run_id_6_subject_id_sub-01_task_id_train_/Realign_with_MCFLIRT/mapflow/_Realign_with_MCFLIRT0/sub-01_train_6_st_mcf.nii -ref /scratch/afni/tmpAND07R/preproc/_run_id_6_subject_id_sub-01_task_id_train_/Resample_T1/sub-01_T1_resample.nii -out sub-01_train_6_st_mcf_flirt.nii -omat sub-01_train_6_st_mcf_flirt.mat\n"
       ]
      },
      {
       "output_type": "stream",
       "stream": "stdout",
       "text": [
        "170606-17:30:38,430 workflow INFO:\n",
        "\t Executing node Strip_skull.b29 in dir: /scratch/afni/tmp_3y5S5/preproc/_run_id_6_subject_id_sub-01_task_id_train_/Strip_skull\n"
       ]
      },
      {
       "output_type": "stream",
       "stream": "stdout",
       "text": [
        "170606-17:30:38,454 workflow INFO:\n",
        "\t Executing node _Strip_skull0 in dir: /scratch/afni/tmp_3y5S5/preproc/_run_id_6_subject_id_sub-01_task_id_train_/Strip_skull/mapflow/_Strip_skull0\n"
       ]
      },
      {
       "output_type": "stream",
       "stream": "stdout",
       "text": [
        "170606-17:30:38,471 workflow INFO:\n",
        "\t Running: bet /scratch/afni/tmp2Ondjv/preproc/_run_id_6_subject_id_sub-01_task_id_train_/Register_functionals/mapflow/_Register_functionals0/sub-01_train_6_st_mcf_flirt.nii /scratch/afni/tmp_3y5S5/preproc/_run_id_6_subject_id_sub-01_task_id_train_/Strip_skull/mapflow/_Strip_skull0/sub-01_train_6_st_mcf_flirt_brain.nii -F\n"
       ]
      },
      {
       "output_type": "stream",
       "stream": "stdout",
       "text": [
        "170606-17:30:47,300 workflow INFO:\n",
        "\t Executing node store_outputs.a0.b29 in dir: /scratch/afni/tmpLVsOP4/preproc/_run_id_6_subject_id_sub-01_task_id_train_/_plot_type_rotations/store_outputs\n"
       ]
      },
      {
       "output_type": "stream",
       "stream": "stdout",
       "text": [
        "170606-17:30:47,398 workflow INFO:\n",
        "\t Executing node store_outputs.a1.b29 in dir: /scratch/afni/tmp1g2Ar4/preproc/_run_id_6_subject_id_sub-01_task_id_train_/_plot_type_translations/store_outputs\n"
       ]
      },
      {
       "output_type": "stream",
       "stream": "stdout",
       "text": [
        "170606-17:30:47,488 workflow INFO:\n",
        "\t Executing node Check_motion_plots.aI.a0.b00 in dir: /scratch/afni/tmpEitvTF/preproc/_run_id_1_subject_id_sub-02_task_id_train_/_plot_type_rotations/Check_motion_plots\n"
       ]
      },
      {
       "output_type": "stream",
       "stream": "stdout",
       "text": [
        "170606-17:30:47,513 workflow INFO:\n",
        "\t Executing node _Check_motion_plots0 in dir: /scratch/afni/tmpEitvTF/preproc/_run_id_1_subject_id_sub-02_task_id_train_/_plot_type_rotations/Check_motion_plots/mapflow/_Check_motion_plots0\n"
       ]
      },
      {
       "output_type": "stream",
       "stream": "stdout",
       "text": [
        "170606-17:30:47,532 workflow INFO:\n",
        "\t Running: fsl_tsplot -i /scratch/afni/tmpG3IJmW/preproc/_run_id_1_subject_id_sub-02_task_id_train_/Realign_with_MCFLIRT/mapflow/_Realign_with_MCFLIRT0/sub-02_train_1_st_mcf.nii.par -o /scratch/afni/tmpG3IJmW/preproc/_run_id_1_subject_id_sub-02_task_id_train_/Realign_with_MCFLIRT/mapflow/_Realign_with_MCFLIRT0/sub-02_train_1_st_mcf.nii_rot.png -t 'MCFLIRT estimated rotations (radians)' --start=1 --finish=3 -a x,y,z\n"
       ]
      },
      {
       "output_type": "stream",
       "stream": "stdout",
       "text": [
        "170606-17:30:48,654 workflow INFO:\n",
        "\t Executing node Realign_with_MCFLIRT.b34 in dir: /scratch/afni/tmp8C68Yw/preproc/_run_id_11_subject_id_sub-01_task_id_train_/Realign_with_MCFLIRT\n"
       ]
      },
      {
       "output_type": "stream",
       "stream": "stdout",
       "text": [
        "170606-17:30:48,679 workflow INFO:\n",
        "\t Executing node _Realign_with_MCFLIRT0 in dir: /scratch/afni/tmp8C68Yw/preproc/_run_id_11_subject_id_sub-01_task_id_train_/Realign_with_MCFLIRT/mapflow/_Realign_with_MCFLIRT0\n"
       ]
      },
      {
       "output_type": "stream",
       "stream": "stdout",
       "text": [
        "170606-17:30:48,699 workflow INFO:\n",
        "\t Running: mcflirt -in /scratch/afni/tmp1Zh88b/preproc/_run_id_11_subject_id_sub-01_task_id_train_/Slice_time_correction/mapflow/_Slice_time_correction0/sub-01_train_11_st.nii -dof 6 -sinc_final -out /scratch/afni/tmp8C68Yw/preproc/_run_id_11_subject_id_sub-01_task_id_train_/Realign_with_MCFLIRT/mapflow/_Realign_with_MCFLIRT0/sub-01_train_11_st_mcf.nii -mats -plots\n"
       ]
      },
      {
       "output_type": "stream",
       "stream": "stdout",
       "text": [
        "170606-17:39:12,317 workflow INFO:\n",
        "\t Executing node Check_motion_plots.aI.a0.b34 in dir: /scratch/afni/tmpXSvKgr/preproc/_run_id_11_subject_id_sub-01_task_id_train_/_plot_type_rotations/Check_motion_plots\n"
       ]
      },
      {
       "output_type": "stream",
       "stream": "stdout",
       "text": [
        "170606-17:39:12,337 workflow INFO:\n",
        "\t Executing node _Check_motion_plots0 in dir: /scratch/afni/tmpXSvKgr/preproc/_run_id_11_subject_id_sub-01_task_id_train_/_plot_type_rotations/Check_motion_plots/mapflow/_Check_motion_plots0\n"
       ]
      },
      {
       "output_type": "stream",
       "stream": "stdout",
       "text": [
        "170606-17:39:12,352 workflow INFO:\n",
        "\t Running: fsl_tsplot -i /scratch/afni/tmp8C68Yw/preproc/_run_id_11_subject_id_sub-01_task_id_train_/Realign_with_MCFLIRT/mapflow/_Realign_with_MCFLIRT0/sub-01_train_11_st_mcf.nii.par -o /scratch/afni/tmp8C68Yw/preproc/_run_id_11_subject_id_sub-01_task_id_train_/Realign_with_MCFLIRT/mapflow/_Realign_with_MCFLIRT0/sub-01_train_11_st_mcf.nii_rot.png -t 'MCFLIRT estimated rotations (radians)' --start=1 --finish=3 -a x,y,z\n"
       ]
      },
      {
       "output_type": "stream",
       "stream": "stdout",
       "text": [
        "170606-17:39:13,440 workflow INFO:\n",
        "\t Executing node Get_files.b36 in dir: /scratch/afni/tmpT07Kho/preproc/_run_id_1_subject_id_sub-01_task_id_test_/Get_files\n"
       ]
      },
      {
       "output_type": "stream",
       "stream": "stdout",
       "text": [
        "170606-17:39:13,482 workflow INFO:\n",
        "\t Executing node Resample_T1.b36 in dir: /scratch/afni/tmpc5IjVj/preproc/_run_id_1_subject_id_sub-01_task_id_test_/Resample_T1\n"
       ]
      },
      {
       "output_type": "stream",
       "stream": "stdout",
       "text": [
        "170606-17:39:13,500 workflow INFO:\n",
        "\t Running: 3dresample -prefix sub-01_T1_resample.nii -dxyz 2.400000 2.400000 2.400000 -inset /scratch/afni/tmpc5IjVj/preproc/_run_id_1_subject_id_sub-01_task_id_test_/Resample_T1/sub-01_T1.nii\n"
       ]
      },
      {
       "output_type": "stream",
       "stream": "stdout",
       "text": [
        "170606-17:39:14,586 workflow INFO:\n",
        "\t Executing node Slice_time_correction.b36 in dir: /scratch/afni/tmp2PGlub/preproc/_run_id_1_subject_id_sub-01_task_id_test_/Slice_time_correction\n"
       ]
      },
      {
       "output_type": "stream",
       "stream": "stdout",
       "text": [
        "170606-17:39:14,605 workflow INFO:\n",
        "\t Executing node _Slice_time_correction0 in dir: /scratch/afni/tmp2PGlub/preproc/_run_id_1_subject_id_sub-01_task_id_test_/Slice_time_correction/mapflow/_Slice_time_correction0\n"
       ]
      },
      {
       "output_type": "stream",
       "stream": "stdout",
       "text": [
        "170606-17:39:14,620 workflow INFO:\n",
        "\t Running: slicetimer --in=/scratch/sanjay/GRT/fmri_data/nifti/sub-01/func/sub-01_test_1.nii --odd --out=/scratch/afni/tmp2PGlub/preproc/_run_id_1_subject_id_sub-01_task_id_test_/Slice_time_correction/mapflow/_Slice_time_correction0/sub-01_test_1_st.nii\n"
       ]
      },
      {
       "output_type": "stream",
       "stream": "stdout",
       "text": [
        "170606-17:40:18,277 workflow INFO:\n",
        "\t Executing node Get_files.b28 in dir: /scratch/afni/tmpJEjxvH/preproc/_run_id_5_subject_id_sub-01_task_id_train_/Get_files\n"
       ]
      },
      {
       "output_type": "stream",
       "stream": "stdout",
       "text": [
        "170606-17:40:18,319 workflow INFO:\n",
        "\t Executing node Slice_time_correction.b28 in dir: /scratch/afni/tmplvqFgz/preproc/_run_id_5_subject_id_sub-01_task_id_train_/Slice_time_correction\n"
       ]
      },
      {
       "output_type": "stream",
       "stream": "stdout",
       "text": [
        "170606-17:40:18,339 workflow INFO:\n",
        "\t Executing node _Slice_time_correction0 in dir: /scratch/afni/tmplvqFgz/preproc/_run_id_5_subject_id_sub-01_task_id_train_/Slice_time_correction/mapflow/_Slice_time_correction0\n"
       ]
      },
      {
       "output_type": "stream",
       "stream": "stdout",
       "text": [
        "170606-17:40:18,356 workflow INFO:\n",
        "\t Running: slicetimer --in=/scratch/sanjay/GRT/fmri_data/nifti/sub-01/func/sub-01_train_5.nii --odd --out=/scratch/afni/tmplvqFgz/preproc/_run_id_5_subject_id_sub-01_task_id_train_/Slice_time_correction/mapflow/_Slice_time_correction0/sub-01_train_5_st.nii\n"
       ]
      },
      {
       "output_type": "stream",
       "stream": "stdout",
       "text": [
        "170606-17:40:53,809 workflow INFO:\n",
        "\t Executing node Check_motion_plots.aI.a0.b06 in dir: /scratch/afni/tmpTuaL4D/preproc/_run_id_7_subject_id_sub-02_task_id_train_/_plot_type_rotations/Check_motion_plots\n"
       ]
      },
      {
       "output_type": "stream",
       "stream": "stdout",
       "text": [
        "170606-17:40:53,831 workflow INFO:\n",
        "\t Executing node _Check_motion_plots0 in dir: /scratch/afni/tmpTuaL4D/preproc/_run_id_7_subject_id_sub-02_task_id_train_/_plot_type_rotations/Check_motion_plots/mapflow/_Check_motion_plots0\n"
       ]
      },
      {
       "output_type": "stream",
       "stream": "stdout",
       "text": [
        "170606-17:40:53,847 workflow INFO:\n",
        "\t Running: fsl_tsplot -i /scratch/afni/tmp2Fzhna/preproc/_run_id_7_subject_id_sub-02_task_id_train_/Realign_with_MCFLIRT/mapflow/_Realign_with_MCFLIRT0/sub-02_train_7_st_mcf.nii.par -o /scratch/afni/tmp2Fzhna/preproc/_run_id_7_subject_id_sub-02_task_id_train_/Realign_with_MCFLIRT/mapflow/_Realign_with_MCFLIRT0/sub-02_train_7_st_mcf.nii_rot.png -t 'MCFLIRT estimated rotations (radians)' --start=1 --finish=3 -a x,y,z\n"
       ]
      },
      {
       "output_type": "stream",
       "stream": "stdout",
       "text": [
        "170606-17:40:54,939 workflow INFO:\n",
        "\t Executing node Realign_with_MCFLIRT.b28 in dir: /scratch/afni/tmptgJpd6/preproc/_run_id_5_subject_id_sub-01_task_id_train_/Realign_with_MCFLIRT\n"
       ]
      },
      {
       "output_type": "stream",
       "stream": "stdout",
       "text": [
        "170606-17:40:54,961 workflow INFO:\n",
        "\t Executing node _Realign_with_MCFLIRT0 in dir: /scratch/afni/tmptgJpd6/preproc/_run_id_5_subject_id_sub-01_task_id_train_/Realign_with_MCFLIRT/mapflow/_Realign_with_MCFLIRT0\n"
       ]
      },
      {
       "output_type": "stream",
       "stream": "stdout",
       "text": [
        "170606-17:40:54,980 workflow INFO:\n",
        "\t Running: mcflirt -in /scratch/afni/tmplvqFgz/preproc/_run_id_5_subject_id_sub-01_task_id_train_/Slice_time_correction/mapflow/_Slice_time_correction0/sub-01_train_5_st.nii -dof 6 -sinc_final -out /scratch/afni/tmptgJpd6/preproc/_run_id_5_subject_id_sub-01_task_id_train_/Realign_with_MCFLIRT/mapflow/_Realign_with_MCFLIRT0/sub-01_train_5_st_mcf.nii -mats -plots\n"
       ]
      },
      {
       "output_type": "stream",
       "stream": "stdout",
       "text": [
        "170606-17:49:17,42 workflow INFO:\n",
        "\t Executing node Check_motion_plots.aI.a1.b28 in dir: /scratch/afni/tmpV_d4M1/preproc/_run_id_5_subject_id_sub-01_task_id_train_/_plot_type_translations/Check_motion_plots\n"
       ]
      },
      {
       "output_type": "stream",
       "stream": "stdout",
       "text": [
        "170606-17:49:17,61 workflow INFO:\n",
        "\t Executing node _Check_motion_plots0 in dir: /scratch/afni/tmpV_d4M1/preproc/_run_id_5_subject_id_sub-01_task_id_train_/_plot_type_translations/Check_motion_plots/mapflow/_Check_motion_plots0\n"
       ]
      },
      {
       "output_type": "stream",
       "stream": "stdout",
       "text": [
        "170606-17:49:17,76 workflow INFO:\n",
        "\t Running: fsl_tsplot -i /scratch/afni/tmptgJpd6/preproc/_run_id_5_subject_id_sub-01_task_id_train_/Realign_with_MCFLIRT/mapflow/_Realign_with_MCFLIRT0/sub-01_train_5_st_mcf.nii.par -o /scratch/afni/tmptgJpd6/preproc/_run_id_5_subject_id_sub-01_task_id_train_/Realign_with_MCFLIRT/mapflow/_Realign_with_MCFLIRT0/sub-01_train_5_st_mcf.nii_trans.png -t 'MCFLIRT estimated translations (mm)' --start=4 --finish=6 -a x,y,z\n"
       ]
      },
      {
       "output_type": "stream",
       "stream": "stdout",
       "text": [
        "170606-17:49:18,193 workflow INFO:\n",
        "\t Executing node Resample_T1.b37 in dir: /scratch/afni/tmp7TpEWP/preproc/_run_id_2_subject_id_sub-01_task_id_test_/Resample_T1\n"
       ]
      },
      {
       "output_type": "stream",
       "stream": "stdout",
       "text": [
        "170606-17:49:18,219 workflow INFO:\n",
        "\t Running: 3dresample -prefix sub-01_T1_resample.nii -dxyz 2.400000 2.400000 2.400000 -inset /scratch/afni/tmp7TpEWP/preproc/_run_id_2_subject_id_sub-01_task_id_test_/Resample_T1/sub-01_T1.nii\n"
       ]
      },
      {
       "output_type": "stream",
       "stream": "stdout",
       "text": [
        "170606-17:49:19,337 workflow INFO:\n",
        "\t Executing node Register_functionals.b37 in dir: /scratch/afni/tmpC0hAvb/preproc/_run_id_2_subject_id_sub-01_task_id_test_/Register_functionals\n"
       ]
      },
      {
       "output_type": "stream",
       "stream": "stdout",
       "text": [
        "170606-17:49:19,360 workflow INFO:\n",
        "\t Executing node _Register_functionals0 in dir: /scratch/afni/tmpC0hAvb/preproc/_run_id_2_subject_id_sub-01_task_id_test_/Register_functionals/mapflow/_Register_functionals0\n"
       ]
      },
      {
       "output_type": "stream",
       "stream": "stdout",
       "text": [
        "170606-17:49:19,379 workflow INFO:\n",
        "\t Running: flirt -in /scratch/afni/tmpqv_uqd/preproc/_run_id_2_subject_id_sub-01_task_id_test_/Realign_with_MCFLIRT/mapflow/_Realign_with_MCFLIRT0/sub-01_test_2_st_mcf.nii -ref /scratch/afni/tmp7TpEWP/preproc/_run_id_2_subject_id_sub-01_task_id_test_/Resample_T1/sub-01_T1_resample.nii -out sub-01_test_2_st_mcf_flirt.nii -omat sub-01_test_2_st_mcf_flirt.mat\n"
       ]
      },
      {
       "output_type": "stream",
       "stream": "stdout",
       "text": [
        "170606-17:49:34,319 workflow INFO:\n",
        "\t Executing node Check_motion_plots.aI.a0.b28 in dir: /scratch/afni/tmpjMq_vi/preproc/_run_id_5_subject_id_sub-01_task_id_train_/_plot_type_rotations/Check_motion_plots\n"
       ]
      },
      {
       "output_type": "stream",
       "stream": "stdout",
       "text": [
        "170606-17:49:34,338 workflow INFO:\n",
        "\t Executing node _Check_motion_plots0 in dir: /scratch/afni/tmpjMq_vi/preproc/_run_id_5_subject_id_sub-01_task_id_train_/_plot_type_rotations/Check_motion_plots/mapflow/_Check_motion_plots0\n"
       ]
      },
      {
       "output_type": "stream",
       "stream": "stdout",
       "text": [
        "170606-17:49:34,353 workflow INFO:\n",
        "\t Running: fsl_tsplot -i /scratch/afni/tmptgJpd6/preproc/_run_id_5_subject_id_sub-01_task_id_train_/Realign_with_MCFLIRT/mapflow/_Realign_with_MCFLIRT0/sub-01_train_5_st_mcf.nii.par -o /scratch/afni/tmptgJpd6/preproc/_run_id_5_subject_id_sub-01_task_id_train_/Realign_with_MCFLIRT/mapflow/_Realign_with_MCFLIRT0/sub-01_train_5_st_mcf.nii_rot.png -t 'MCFLIRT estimated rotations (radians)' --start=1 --finish=3 -a x,y,z\n"
       ]
      },
      {
       "output_type": "stream",
       "stream": "stdout",
       "text": [
        "170606-17:49:35,449 workflow INFO:\n",
        "\t Executing node Resample_T1.b28 in dir: /scratch/afni/tmpD7OZnT/preproc/_run_id_5_subject_id_sub-01_task_id_train_/Resample_T1\n"
       ]
      },
      {
       "output_type": "stream",
       "stream": "stdout",
       "text": [
        "170606-17:49:35,470 workflow INFO:\n",
        "\t Running: 3dresample -prefix sub-01_T1_resample.nii -dxyz 2.400000 2.400000 2.400000 -inset /scratch/afni/tmpD7OZnT/preproc/_run_id_5_subject_id_sub-01_task_id_train_/Resample_T1/sub-01_T1.nii\n"
       ]
      },
      {
       "output_type": "stream",
       "stream": "stdout",
       "text": [
        "170606-17:49:36,568 workflow INFO:\n",
        "\t Executing node Register_functionals.b28 in dir: /scratch/afni/tmpHxVTYJ/preproc/_run_id_5_subject_id_sub-01_task_id_train_/Register_functionals\n"
       ]
      },
      {
       "output_type": "stream",
       "stream": "stdout",
       "text": [
        "170606-17:49:36,593 workflow INFO:\n",
        "\t Executing node _Register_functionals0 in dir: /scratch/afni/tmpHxVTYJ/preproc/_run_id_5_subject_id_sub-01_task_id_train_/Register_functionals/mapflow/_Register_functionals0\n"
       ]
      },
      {
       "output_type": "stream",
       "stream": "stdout",
       "text": [
        "170606-17:49:36,612 workflow INFO:\n",
        "\t Running: flirt -in /scratch/afni/tmptgJpd6/preproc/_run_id_5_subject_id_sub-01_task_id_train_/Realign_with_MCFLIRT/mapflow/_Realign_with_MCFLIRT0/sub-01_train_5_st_mcf.nii -ref /scratch/afni/tmpD7OZnT/preproc/_run_id_5_subject_id_sub-01_task_id_train_/Resample_T1/sub-01_T1_resample.nii -out sub-01_train_5_st_mcf_flirt.nii -omat sub-01_train_5_st_mcf_flirt.mat\n"
       ]
      },
      {
       "output_type": "stream",
       "stream": "stdout",
       "text": [
        "170606-17:49:51,50 workflow INFO:\n",
        "\t Executing node Strip_skull.b28 in dir: /scratch/afni/tmpOkWDd3/preproc/_run_id_5_subject_id_sub-01_task_id_train_/Strip_skull\n"
       ]
      },
      {
       "output_type": "stream",
       "stream": "stdout",
       "text": [
        "170606-17:49:51,71 workflow INFO:\n",
        "\t Executing node _Strip_skull0 in dir: /scratch/afni/tmpOkWDd3/preproc/_run_id_5_subject_id_sub-01_task_id_train_/Strip_skull/mapflow/_Strip_skull0\n"
       ]
      },
      {
       "output_type": "stream",
       "stream": "stdout",
       "text": [
        "170606-17:49:51,87 workflow INFO:\n",
        "\t Running: bet /scratch/afni/tmpHxVTYJ/preproc/_run_id_5_subject_id_sub-01_task_id_train_/Register_functionals/mapflow/_Register_functionals0/sub-01_train_5_st_mcf_flirt.nii /scratch/afni/tmpOkWDd3/preproc/_run_id_5_subject_id_sub-01_task_id_train_/Strip_skull/mapflow/_Strip_skull0/sub-01_train_5_st_mcf_flirt_brain.nii -F\n"
       ]
      },
      {
       "output_type": "stream",
       "stream": "stdout",
       "text": [
        "170606-17:49:57,861 workflow INFO:\n",
        "\t Executing node store_outputs.a1.b28 in dir: /scratch/afni/tmpEf2ENX/preproc/_run_id_5_subject_id_sub-01_task_id_train_/_plot_type_translations/store_outputs\n"
       ]
      },
      {
       "output_type": "stream",
       "stream": "stdout",
       "text": [
        "170606-17:49:57,947 workflow INFO:\n",
        "\t Executing node store_outputs.a0.b28 in dir: /scratch/afni/tmpnoR4wz/preproc/_run_id_5_subject_id_sub-01_task_id_train_/_plot_type_rotations/store_outputs\n"
       ]
      },
      {
       "output_type": "stream",
       "stream": "stdout",
       "text": [
        "170606-17:49:58,19 workflow INFO:\n",
        "\t Executing node Check_motion_plots.aI.a0.b33 in dir: /scratch/afni/tmpGoYEZp/preproc/_run_id_10_subject_id_sub-01_task_id_train_/_plot_type_rotations/Check_motion_plots\n"
       ]
      },
      {
       "output_type": "stream",
       "stream": "stdout",
       "text": [
        "170606-17:49:58,38 workflow INFO:\n",
        "\t Executing node _Check_motion_plots0 in dir: /scratch/afni/tmpGoYEZp/preproc/_run_id_10_subject_id_sub-01_task_id_train_/_plot_type_rotations/Check_motion_plots/mapflow/_Check_motion_plots0\n"
       ]
      },
      {
       "output_type": "stream",
       "stream": "stdout",
       "text": [
        "170606-17:49:58,53 workflow INFO:\n",
        "\t Running: fsl_tsplot -i /scratch/afni/tmp0AwzUm/preproc/_run_id_10_subject_id_sub-01_task_id_train_/Realign_with_MCFLIRT/mapflow/_Realign_with_MCFLIRT0/sub-01_train_10_st_mcf.nii.par -o /scratch/afni/tmp0AwzUm/preproc/_run_id_10_subject_id_sub-01_task_id_train_/Realign_with_MCFLIRT/mapflow/_Realign_with_MCFLIRT0/sub-01_train_10_st_mcf.nii_rot.png -t 'MCFLIRT estimated rotations (radians)' --start=1 --finish=3 -a x,y,z\n"
       ]
      },
      {
       "output_type": "stream",
       "stream": "stdout",
       "text": [
        "170606-17:49:59,158 workflow INFO:\n",
        "\t Executing node Check_motion_plots.aI.a1.b41 in dir: /scratch/afni/tmpiLCMTB/preproc/_run_id_6_subject_id_sub-01_task_id_test_/_plot_type_translations/Check_motion_plots\n"
       ]
      },
      {
       "output_type": "stream",
       "stream": "stdout",
       "text": [
        "170606-17:49:59,180 workflow INFO:\n",
        "\t Executing node _Check_motion_plots0 in dir: /scratch/afni/tmpiLCMTB/preproc/_run_id_6_subject_id_sub-01_task_id_test_/_plot_type_translations/Check_motion_plots/mapflow/_Check_motion_plots0\n"
       ]
      },
      {
       "output_type": "stream",
       "stream": "stdout",
       "text": [
        "170606-17:49:59,197 workflow INFO:\n",
        "\t Running: fsl_tsplot -i /scratch/afni/tmp6DbJ6o/preproc/_run_id_6_subject_id_sub-01_task_id_test_/Realign_with_MCFLIRT/mapflow/_Realign_with_MCFLIRT0/sub-01_test_6_st_mcf.nii.par -o /scratch/afni/tmp6DbJ6o/preproc/_run_id_6_subject_id_sub-01_task_id_test_/Realign_with_MCFLIRT/mapflow/_Realign_with_MCFLIRT0/sub-01_test_6_st_mcf.nii_trans.png -t 'MCFLIRT estimated translations (mm)' --start=4 --finish=6 -a x,y,z\n"
       ]
      },
      {
       "output_type": "stream",
       "stream": "stdout",
       "text": [
        "170606-17:50:00,313 workflow INFO:\n",
        "\t Executing node Resample_T1.b00 in dir: /scratch/afni/tmpem6_Lv/preproc/_run_id_1_subject_id_sub-02_task_id_train_/Resample_T1\n"
       ]
      },
      {
       "output_type": "stream",
       "stream": "stdout",
       "text": [
        "170606-17:50:00,331 workflow INFO:\n",
        "\t Running: 3dresample -prefix sub-02_T1_resample.nii -dxyz 2.400000 2.400000 2.400000 -inset /scratch/afni/tmpem6_Lv/preproc/_run_id_1_subject_id_sub-02_task_id_train_/Resample_T1/sub-02_T1.nii\n"
       ]
      },
      {
       "output_type": "stream",
       "stream": "stdout",
       "text": [
        "170606-17:50:01,424 workflow INFO:\n",
        "\t Executing node Register_functionals.b00 in dir: /scratch/afni/tmp2XWNxV/preproc/_run_id_1_subject_id_sub-02_task_id_train_/Register_functionals\n"
       ]
      },
      {
       "output_type": "stream",
       "stream": "stdout",
       "text": [
        "170606-17:50:01,446 workflow INFO:\n",
        "\t Executing node _Register_functionals0 in dir: /scratch/afni/tmp2XWNxV/preproc/_run_id_1_subject_id_sub-02_task_id_train_/Register_functionals/mapflow/_Register_functionals0\n"
       ]
      },
      {
       "output_type": "stream",
       "stream": "stdout",
       "text": [
        "170606-17:50:01,465 workflow INFO:\n",
        "\t Running: flirt -in /scratch/afni/tmpG3IJmW/preproc/_run_id_1_subject_id_sub-02_task_id_train_/Realign_with_MCFLIRT/mapflow/_Realign_with_MCFLIRT0/sub-02_train_1_st_mcf.nii -ref /scratch/afni/tmpem6_Lv/preproc/_run_id_1_subject_id_sub-02_task_id_train_/Resample_T1/sub-02_T1_resample.nii -out sub-02_train_1_st_mcf_flirt.nii -omat sub-02_train_1_st_mcf_flirt.mat\n"
       ]
      },
      {
       "output_type": "stream",
       "stream": "stdout",
       "text": [
        "170606-17:50:14,876 workflow INFO:\n",
        "\t Executing node Strip_skull.b00 in dir: /scratch/afni/tmpU_Hnk_/preproc/_run_id_1_subject_id_sub-02_task_id_train_/Strip_skull\n"
       ]
      },
      {
       "output_type": "stream",
       "stream": "stdout",
       "text": [
        "170606-17:50:14,912 workflow INFO:\n",
        "\t Executing node _Strip_skull0 in dir: /scratch/afni/tmpU_Hnk_/preproc/_run_id_1_subject_id_sub-02_task_id_train_/Strip_skull/mapflow/_Strip_skull0\n"
       ]
      },
      {
       "output_type": "stream",
       "stream": "stdout",
       "text": [
        "170606-17:50:14,939 workflow INFO:\n",
        "\t Running: bet /scratch/afni/tmp2XWNxV/preproc/_run_id_1_subject_id_sub-02_task_id_train_/Register_functionals/mapflow/_Register_functionals0/sub-02_train_1_st_mcf_flirt.nii /scratch/afni/tmpU_Hnk_/preproc/_run_id_1_subject_id_sub-02_task_id_train_/Strip_skull/mapflow/_Strip_skull0/sub-02_train_1_st_mcf_flirt_brain.nii -F\n"
       ]
      },
      {
       "output_type": "stream",
       "stream": "stdout",
       "text": [
        "170606-17:50:22,235 workflow INFO:\n",
        "\t Executing node store_outputs.a0.b00 in dir: /scratch/afni/tmpxprkKC/preproc/_run_id_1_subject_id_sub-02_task_id_train_/_plot_type_rotations/store_outputs\n"
       ]
      },
      {
       "output_type": "stream",
       "stream": "stdout",
       "text": [
        "170606-17:50:22,382 workflow INFO:\n",
        "\t Executing node store_outputs.a1.b00 in dir: /scratch/afni/tmpvREqYv/preproc/_run_id_1_subject_id_sub-02_task_id_train_/_plot_type_translations/store_outputs\n"
       ]
      },
      {
       "output_type": "stream",
       "stream": "stdout",
       "text": [
        "170606-17:50:22,477 workflow INFO:\n",
        "\t Executing node Register_functionals.b40 in dir: /scratch/afni/tmpm4E7kO/preproc/_run_id_5_subject_id_sub-01_task_id_test_/Register_functionals\n"
       ]
      },
      {
       "output_type": "stream",
       "stream": "stdout",
       "text": [
        "170606-17:50:22,509 workflow INFO:\n",
        "\t Executing node _Register_functionals0 in dir: /scratch/afni/tmpm4E7kO/preproc/_run_id_5_subject_id_sub-01_task_id_test_/Register_functionals/mapflow/_Register_functionals0\n"
       ]
      },
      {
       "output_type": "stream",
       "stream": "stdout",
       "text": [
        "170606-17:50:22,542 workflow INFO:\n",
        "\t Running: flirt -in /scratch/afni/tmpPyg9i0/preproc/_run_id_5_subject_id_sub-01_task_id_test_/Realign_with_MCFLIRT/mapflow/_Realign_with_MCFLIRT0/sub-01_test_5_st_mcf.nii -ref /scratch/afni/tmpZ73jHf/preproc/_run_id_5_subject_id_sub-01_task_id_test_/Resample_T1/sub-01_T1_resample.nii -out sub-01_test_5_st_mcf_flirt.nii -omat sub-01_test_5_st_mcf_flirt.mat\n"
       ]
      },
      {
       "output_type": "stream",
       "stream": "stdout",
       "text": [
        "170606-17:50:38,528 workflow INFO:\n",
        "\t Executing node Strip_skull.b40 in dir: /scratch/afni/tmpHekrA5/preproc/_run_id_5_subject_id_sub-01_task_id_test_/Strip_skull\n"
       ]
      },
      {
       "output_type": "stream",
       "stream": "stdout",
       "text": [
        "170606-17:50:38,562 workflow INFO:\n",
        "\t Executing node _Strip_skull0 in dir: /scratch/afni/tmpHekrA5/preproc/_run_id_5_subject_id_sub-01_task_id_test_/Strip_skull/mapflow/_Strip_skull0\n"
       ]
      },
      {
       "output_type": "stream",
       "stream": "stdout",
       "text": [
        "170606-17:50:38,584 workflow INFO:\n",
        "\t Running: bet /scratch/afni/tmpm4E7kO/preproc/_run_id_5_subject_id_sub-01_task_id_test_/Register_functionals/mapflow/_Register_functionals0/sub-01_test_5_st_mcf_flirt.nii /scratch/afni/tmpHekrA5/preproc/_run_id_5_subject_id_sub-01_task_id_test_/Strip_skull/mapflow/_Strip_skull0/sub-01_test_5_st_mcf_flirt_brain.nii -F\n"
       ]
      },
      {
       "output_type": "stream",
       "stream": "stdout",
       "text": [
        "170606-17:50:45,899 workflow INFO:\n",
        "\t Executing node store_outputs.a1.b40 in dir: /scratch/afni/tmpckyHf9/preproc/_run_id_5_subject_id_sub-01_task_id_test_/_plot_type_translations/store_outputs\n"
       ]
      },
      {
       "output_type": "stream",
       "stream": "stdout",
       "text": [
        "170606-17:50:46,18 workflow INFO:\n",
        "\t Executing node store_outputs.a0.b40 in dir: /scratch/afni/tmpseqKOX/preproc/_run_id_5_subject_id_sub-01_task_id_test_/_plot_type_rotations/store_outputs\n"
       ]
      },
      {
       "output_type": "stream",
       "stream": "stdout",
       "text": [
        "170606-17:50:46,87 workflow INFO:\n",
        "\t Executing node Check_motion_plots.aI.a0.b39 in dir: /scratch/afni/tmpwZkgdR/preproc/_run_id_4_subject_id_sub-01_task_id_test_/_plot_type_rotations/Check_motion_plots\n"
       ]
      },
      {
       "output_type": "stream",
       "stream": "stdout",
       "text": [
        "170606-17:50:46,114 workflow INFO:\n",
        "\t Executing node _Check_motion_plots0 in dir: /scratch/afni/tmpwZkgdR/preproc/_run_id_4_subject_id_sub-01_task_id_test_/_plot_type_rotations/Check_motion_plots/mapflow/_Check_motion_plots0\n"
       ]
      },
      {
       "output_type": "stream",
       "stream": "stdout",
       "text": [
        "170606-17:50:46,135 workflow INFO:\n",
        "\t Running: fsl_tsplot -i /scratch/afni/tmpdyXPVf/preproc/_run_id_4_subject_id_sub-01_task_id_test_/Realign_with_MCFLIRT/mapflow/_Realign_with_MCFLIRT0/sub-01_test_4_st_mcf.nii.par -o /scratch/afni/tmpdyXPVf/preproc/_run_id_4_subject_id_sub-01_task_id_test_/Realign_with_MCFLIRT/mapflow/_Realign_with_MCFLIRT0/sub-01_test_4_st_mcf.nii_rot.png -t 'MCFLIRT estimated rotations (radians)' --start=1 --finish=3 -a x,y,z\n"
       ]
      },
      {
       "output_type": "stream",
       "stream": "stdout",
       "text": [
        "170606-17:50:47,228 workflow INFO:\n",
        "\t Executing node Get_files.b27 in dir: /scratch/afni/tmphTwhEr/preproc/_run_id_4_subject_id_sub-01_task_id_train_/Get_files\n"
       ]
      },
      {
       "output_type": "stream",
       "stream": "stdout",
       "text": [
        "170606-17:50:47,280 workflow INFO:\n",
        "\t Executing node Slice_time_correction.b27 in dir: /scratch/afni/tmpLuVgTd/preproc/_run_id_4_subject_id_sub-01_task_id_train_/Slice_time_correction\n"
       ]
      },
      {
       "output_type": "stream",
       "stream": "stdout",
       "text": [
        "170606-17:50:47,307 workflow INFO:\n",
        "\t Executing node _Slice_time_correction0 in dir: /scratch/afni/tmpLuVgTd/preproc/_run_id_4_subject_id_sub-01_task_id_train_/Slice_time_correction/mapflow/_Slice_time_correction0\n"
       ]
      },
      {
       "output_type": "stream",
       "stream": "stdout",
       "text": [
        "170606-17:50:47,323 workflow INFO:\n",
        "\t Running: slicetimer --in=/scratch/sanjay/GRT/fmri_data/nifti/sub-01/func/sub-01_train_4.nii --odd --out=/scratch/afni/tmpLuVgTd/preproc/_run_id_4_subject_id_sub-01_task_id_train_/Slice_time_correction/mapflow/_Slice_time_correction0/sub-01_train_4_st.nii\n"
       ]
      },
      {
       "output_type": "stream",
       "stream": "stdout",
       "text": [
        "170606-17:51:22,782 workflow INFO:\n",
        "\t Executing node Resample_T1.b06 in dir: /scratch/afni/tmpPFGmBv/preproc/_run_id_7_subject_id_sub-02_task_id_train_/Resample_T1\n"
       ]
      },
      {
       "output_type": "stream",
       "stream": "stdout",
       "text": [
        "170606-17:51:22,804 workflow INFO:\n",
        "\t Running: 3dresample -prefix sub-02_T1_resample.nii -dxyz 2.400000 2.400000 2.400000 -inset /scratch/afni/tmpPFGmBv/preproc/_run_id_7_subject_id_sub-02_task_id_train_/Resample_T1/sub-02_T1.nii\n"
       ]
      },
      {
       "output_type": "stream",
       "stream": "stdout",
       "text": [
        "170606-17:51:23,907 workflow INFO:\n",
        "\t Executing node Register_functionals.b06 in dir: /scratch/afni/tmpHotmQu/preproc/_run_id_7_subject_id_sub-02_task_id_train_/Register_functionals\n"
       ]
      },
      {
       "output_type": "stream",
       "stream": "stdout",
       "text": [
        "170606-17:51:23,932 workflow INFO:\n",
        "\t Executing node _Register_functionals0 in dir: /scratch/afni/tmpHotmQu/preproc/_run_id_7_subject_id_sub-02_task_id_train_/Register_functionals/mapflow/_Register_functionals0\n"
       ]
      },
      {
       "output_type": "stream",
       "stream": "stdout",
       "text": [
        "170606-17:51:23,951 workflow INFO:\n",
        "\t Running: flirt -in /scratch/afni/tmp2Fzhna/preproc/_run_id_7_subject_id_sub-02_task_id_train_/Realign_with_MCFLIRT/mapflow/_Realign_with_MCFLIRT0/sub-02_train_7_st_mcf.nii -ref /scratch/afni/tmpPFGmBv/preproc/_run_id_7_subject_id_sub-02_task_id_train_/Resample_T1/sub-02_T1_resample.nii -out sub-02_train_7_st_mcf_flirt.nii -omat sub-02_train_7_st_mcf_flirt.mat\n"
       ]
      },
      {
       "output_type": "stream",
       "stream": "stdout",
       "text": [
        "170606-17:51:38,389 workflow INFO:\n",
        "\t Executing node Strip_skull.b06 in dir: /scratch/afni/tmpDIMkKc/preproc/_run_id_7_subject_id_sub-02_task_id_train_/Strip_skull\n"
       ]
      },
      {
       "output_type": "stream",
       "stream": "stdout",
       "text": [
        "170606-17:51:38,411 workflow INFO:\n",
        "\t Executing node _Strip_skull0 in dir: /scratch/afni/tmpDIMkKc/preproc/_run_id_7_subject_id_sub-02_task_id_train_/Strip_skull/mapflow/_Strip_skull0\n"
       ]
      },
      {
       "output_type": "stream",
       "stream": "stdout",
       "text": [
        "170606-17:51:38,428 workflow INFO:\n",
        "\t Running: bet /scratch/afni/tmpHotmQu/preproc/_run_id_7_subject_id_sub-02_task_id_train_/Register_functionals/mapflow/_Register_functionals0/sub-02_train_7_st_mcf_flirt.nii /scratch/afni/tmpDIMkKc/preproc/_run_id_7_subject_id_sub-02_task_id_train_/Strip_skull/mapflow/_Strip_skull0/sub-02_train_7_st_mcf_flirt_brain.nii -F\n"
       ]
      },
      {
       "output_type": "stream",
       "stream": "stdout",
       "text": [
        "170606-17:51:45,225 workflow INFO:\n",
        "\t Executing node store_outputs.a1.b06 in dir: /scratch/afni/tmp6oZsTa/preproc/_run_id_7_subject_id_sub-02_task_id_train_/_plot_type_translations/store_outputs\n"
       ]
      },
      {
       "output_type": "stream",
       "stream": "stdout",
       "text": [
        "170606-17:51:45,314 workflow INFO:\n",
        "\t Executing node store_outputs.a0.b06 in dir: /scratch/afni/tmpEcDaPm/preproc/_run_id_7_subject_id_sub-02_task_id_train_/_plot_type_rotations/store_outputs\n"
       ]
      },
      {
       "output_type": "stream",
       "stream": "stdout",
       "text": [
        "170606-17:51:45,368 workflow INFO:\n",
        "\t Executing node Resample_T1.b33 in dir: /scratch/afni/tmpLQRwAX/preproc/_run_id_10_subject_id_sub-01_task_id_train_/Resample_T1\n"
       ]
      },
      {
       "output_type": "stream",
       "stream": "stdout",
       "text": [
        "170606-17:51:45,388 workflow INFO:\n",
        "\t Running: 3dresample -prefix sub-01_T1_resample.nii -dxyz 2.400000 2.400000 2.400000 -inset /scratch/afni/tmpLQRwAX/preproc/_run_id_10_subject_id_sub-01_task_id_train_/Resample_T1/sub-01_T1.nii\n"
       ]
      },
      {
       "output_type": "stream",
       "stream": "stdout",
       "text": [
        "170606-17:51:46,496 workflow INFO:\n",
        "\t Executing node Register_functionals.b33 in dir: /scratch/afni/tmptB6PG1/preproc/_run_id_10_subject_id_sub-01_task_id_train_/Register_functionals\n"
       ]
      },
      {
       "output_type": "stream",
       "stream": "stdout",
       "text": [
        "170606-17:51:46,523 workflow INFO:\n",
        "\t Executing node _Register_functionals0 in dir: /scratch/afni/tmptB6PG1/preproc/_run_id_10_subject_id_sub-01_task_id_train_/Register_functionals/mapflow/_Register_functionals0\n"
       ]
      },
      {
       "output_type": "stream",
       "stream": "stdout",
       "text": [
        "170606-17:51:46,542 workflow INFO:\n",
        "\t Running: flirt -in /scratch/afni/tmp0AwzUm/preproc/_run_id_10_subject_id_sub-01_task_id_train_/Realign_with_MCFLIRT/mapflow/_Realign_with_MCFLIRT0/sub-01_train_10_st_mcf.nii -ref /scratch/afni/tmpLQRwAX/preproc/_run_id_10_subject_id_sub-01_task_id_train_/Resample_T1/sub-01_T1_resample.nii -out sub-01_train_10_st_mcf_flirt.nii -omat sub-01_train_10_st_mcf_flirt.mat\n"
       ]
      },
      {
       "output_type": "stream",
       "stream": "stdout",
       "text": [
        "170606-17:51:59,960 workflow INFO:\n",
        "\t Executing node Strip_skull.b33 in dir: /scratch/afni/tmpJw9Vsm/preproc/_run_id_10_subject_id_sub-01_task_id_train_/Strip_skull\n"
       ]
      },
      {
       "output_type": "stream",
       "stream": "stdout",
       "text": [
        "170606-17:51:59,986 workflow INFO:\n",
        "\t Executing node _Strip_skull0 in dir: /scratch/afni/tmpJw9Vsm/preproc/_run_id_10_subject_id_sub-01_task_id_train_/Strip_skull/mapflow/_Strip_skull0\n"
       ]
      },
      {
       "output_type": "stream",
       "stream": "stdout",
       "text": [
        "170606-17:52:00,6 workflow INFO:\n",
        "\t Running: bet /scratch/afni/tmptB6PG1/preproc/_run_id_10_subject_id_sub-01_task_id_train_/Register_functionals/mapflow/_Register_functionals0/sub-01_train_10_st_mcf_flirt.nii /scratch/afni/tmpJw9Vsm/preproc/_run_id_10_subject_id_sub-01_task_id_train_/Strip_skull/mapflow/_Strip_skull0/sub-01_train_10_st_mcf_flirt_brain.nii -F\n"
       ]
      },
      {
       "output_type": "stream",
       "stream": "stdout",
       "text": [
        "170606-17:52:06,773 workflow INFO:\n",
        "\t Executing node store_outputs.a0.b33 in dir: /scratch/afni/tmpXXP0f5/preproc/_run_id_10_subject_id_sub-01_task_id_train_/_plot_type_rotations/store_outputs\n"
       ]
      },
      {
       "output_type": "stream",
       "stream": "stdout",
       "text": [
        "170606-17:52:06,872 workflow INFO:\n",
        "\t Executing node store_outputs.a1.b33 in dir: /scratch/afni/tmpcvgksf/preproc/_run_id_10_subject_id_sub-01_task_id_train_/_plot_type_translations/store_outputs\n"
       ]
      },
      {
       "output_type": "stream",
       "stream": "stdout",
       "text": [
        "170606-17:52:06,923 workflow INFO:\n",
        "\t Executing node Realign_with_MCFLIRT.b27 in dir: /scratch/afni/tmpnbWM55/preproc/_run_id_4_subject_id_sub-01_task_id_train_/Realign_with_MCFLIRT\n"
       ]
      },
      {
       "output_type": "stream",
       "stream": "stdout",
       "text": [
        "170606-17:52:06,943 workflow INFO:\n",
        "\t Executing node _Realign_with_MCFLIRT0 in dir: /scratch/afni/tmpnbWM55/preproc/_run_id_4_subject_id_sub-01_task_id_train_/Realign_with_MCFLIRT/mapflow/_Realign_with_MCFLIRT0\n"
       ]
      },
      {
       "output_type": "stream",
       "stream": "stdout",
       "text": [
        "170606-17:52:06,961 workflow INFO:\n",
        "\t Running: mcflirt -in /scratch/afni/tmpLuVgTd/preproc/_run_id_4_subject_id_sub-01_task_id_train_/Slice_time_correction/mapflow/_Slice_time_correction0/sub-01_train_4_st.nii -dof 6 -sinc_final -out /scratch/afni/tmpnbWM55/preproc/_run_id_4_subject_id_sub-01_task_id_train_/Realign_with_MCFLIRT/mapflow/_Realign_with_MCFLIRT0/sub-01_train_4_st_mcf.nii -mats -plots\n"
       ]
      },
      {
       "output_type": "stream",
       "stream": "stdout",
       "text": [
        "170606-18:00:37,881 workflow INFO:\n",
        "\t Executing node Check_motion_plots.aI.a1.b27 in dir: /scratch/afni/tmp_1a3x9/preproc/_run_id_4_subject_id_sub-01_task_id_train_/_plot_type_translations/Check_motion_plots\n"
       ]
      },
      {
       "output_type": "stream",
       "stream": "stdout",
       "text": [
        "170606-18:00:37,906 workflow INFO:\n",
        "\t Executing node _Check_motion_plots0 in dir: /scratch/afni/tmp_1a3x9/preproc/_run_id_4_subject_id_sub-01_task_id_train_/_plot_type_translations/Check_motion_plots/mapflow/_Check_motion_plots0\n"
       ]
      },
      {
       "output_type": "stream",
       "stream": "stdout",
       "text": [
        "170606-18:00:37,921 workflow INFO:\n",
        "\t Running: fsl_tsplot -i /scratch/afni/tmpnbWM55/preproc/_run_id_4_subject_id_sub-01_task_id_train_/Realign_with_MCFLIRT/mapflow/_Realign_with_MCFLIRT0/sub-01_train_4_st_mcf.nii.par -o /scratch/afni/tmpnbWM55/preproc/_run_id_4_subject_id_sub-01_task_id_train_/Realign_with_MCFLIRT/mapflow/_Realign_with_MCFLIRT0/sub-01_train_4_st_mcf.nii_trans.png -t 'MCFLIRT estimated translations (mm)' --start=4 --finish=6 -a x,y,z\n"
       ]
      },
      {
       "output_type": "stream",
       "stream": "stdout",
       "text": [
        "170606-18:00:39,38 workflow INFO:\n",
        "\t Executing node Strip_skull.b37 in dir: /scratch/afni/tmp_pbtQe/preproc/_run_id_2_subject_id_sub-01_task_id_test_/Strip_skull\n"
       ]
      },
      {
       "output_type": "stream",
       "stream": "stdout",
       "text": [
        "170606-18:00:39,65 workflow INFO:\n",
        "\t Executing node _Strip_skull0 in dir: /scratch/afni/tmp_pbtQe/preproc/_run_id_2_subject_id_sub-01_task_id_test_/Strip_skull/mapflow/_Strip_skull0\n"
       ]
      },
      {
       "output_type": "stream",
       "stream": "stdout",
       "text": [
        "170606-18:00:39,81 workflow INFO:\n",
        "\t Running: bet /scratch/afni/tmpC0hAvb/preproc/_run_id_2_subject_id_sub-01_task_id_test_/Register_functionals/mapflow/_Register_functionals0/sub-01_test_2_st_mcf_flirt.nii /scratch/afni/tmp_pbtQe/preproc/_run_id_2_subject_id_sub-01_task_id_test_/Strip_skull/mapflow/_Strip_skull0/sub-01_test_2_st_mcf_flirt_brain.nii -F\n"
       ]
      },
      {
       "output_type": "stream",
       "stream": "stdout",
       "text": [
        "170606-18:00:45,812 workflow INFO:\n",
        "\t Executing node Get_files.b24 in dir: /scratch/afni/tmpxvK2xb/preproc/_run_id_1_subject_id_sub-01_task_id_train_/Get_files\n"
       ]
      },
      {
       "output_type": "stream",
       "stream": "stdout",
       "text": [
        "170606-18:00:45,885 workflow INFO:\n",
        "\t Executing node Slice_time_correction.b24 in dir: /scratch/afni/tmpsv6LwT/preproc/_run_id_1_subject_id_sub-01_task_id_train_/Slice_time_correction\n"
       ]
      },
      {
       "output_type": "stream",
       "stream": "stdout",
       "text": [
        "170606-18:00:45,905 workflow INFO:\n",
        "\t Executing node _Slice_time_correction0 in dir: /scratch/afni/tmpsv6LwT/preproc/_run_id_1_subject_id_sub-01_task_id_train_/Slice_time_correction/mapflow/_Slice_time_correction0\n"
       ]
      },
      {
       "output_type": "stream",
       "stream": "stdout",
       "text": [
        "170606-18:00:45,921 workflow INFO:\n",
        "\t Running: slicetimer --in=/scratch/sanjay/GRT/fmri_data/nifti/sub-01/func/sub-01_train_1.nii --odd --out=/scratch/afni/tmpsv6LwT/preproc/_run_id_1_subject_id_sub-01_task_id_train_/Slice_time_correction/mapflow/_Slice_time_correction0/sub-01_train_1_st.nii\n"
       ]
      },
      {
       "output_type": "stream",
       "stream": "stdout",
       "text": [
        "170606-18:01:22,398 workflow INFO:\n",
        "\t Executing node Realign_with_MCFLIRT.b24 in dir: /scratch/afni/tmpmGsLQt/preproc/_run_id_1_subject_id_sub-01_task_id_train_/Realign_with_MCFLIRT\n"
       ]
      },
      {
       "output_type": "stream",
       "stream": "stdout",
       "text": [
        "170606-18:01:22,422 workflow INFO:\n",
        "\t Executing node _Realign_with_MCFLIRT0 in dir: /scratch/afni/tmpmGsLQt/preproc/_run_id_1_subject_id_sub-01_task_id_train_/Realign_with_MCFLIRT/mapflow/_Realign_with_MCFLIRT0\n"
       ]
      },
      {
       "output_type": "stream",
       "stream": "stdout",
       "text": [
        "170606-18:01:22,440 workflow INFO:\n",
        "\t Running: mcflirt -in /scratch/afni/tmpsv6LwT/preproc/_run_id_1_subject_id_sub-01_task_id_train_/Slice_time_correction/mapflow/_Slice_time_correction0/sub-01_train_1_st.nii -dof 6 -sinc_final -out /scratch/afni/tmpmGsLQt/preproc/_run_id_1_subject_id_sub-01_task_id_train_/Realign_with_MCFLIRT/mapflow/_Realign_with_MCFLIRT0/sub-01_train_1_st_mcf.nii -mats -plots\n"
       ]
      },
      {
       "output_type": "stream",
       "stream": "stdout",
       "text": [
        "170606-18:09:46,549 workflow INFO:\n",
        "\t Executing node Check_motion_plots.aI.a0.b24 in dir: /scratch/afni/tmpnlpEMV/preproc/_run_id_1_subject_id_sub-01_task_id_train_/_plot_type_rotations/Check_motion_plots\n"
       ]
      },
      {
       "output_type": "stream",
       "stream": "stdout",
       "text": [
        "170606-18:09:46,571 workflow INFO:\n",
        "\t Executing node _Check_motion_plots0 in dir: /scratch/afni/tmpnlpEMV/preproc/_run_id_1_subject_id_sub-01_task_id_train_/_plot_type_rotations/Check_motion_plots/mapflow/_Check_motion_plots0\n"
       ]
      },
      {
       "output_type": "stream",
       "stream": "stdout",
       "text": [
        "170606-18:09:46,588 workflow INFO:\n",
        "\t Running: fsl_tsplot -i /scratch/afni/tmpmGsLQt/preproc/_run_id_1_subject_id_sub-01_task_id_train_/Realign_with_MCFLIRT/mapflow/_Realign_with_MCFLIRT0/sub-01_train_1_st_mcf.nii.par -o /scratch/afni/tmpmGsLQt/preproc/_run_id_1_subject_id_sub-01_task_id_train_/Realign_with_MCFLIRT/mapflow/_Realign_with_MCFLIRT0/sub-01_train_1_st_mcf.nii_rot.png -t 'MCFLIRT estimated rotations (radians)' --start=1 --finish=3 -a x,y,z\n"
       ]
      },
      {
       "output_type": "stream",
       "stream": "stdout",
       "text": [
        "170606-18:09:47,705 workflow INFO:\n",
        "\t Executing node Resample_T1.b39 in dir: /scratch/afni/tmpe3NVww/preproc/_run_id_4_subject_id_sub-01_task_id_test_/Resample_T1\n"
       ]
      },
      {
       "output_type": "stream",
       "stream": "stdout",
       "text": [
        "170606-18:09:47,725 workflow INFO:\n",
        "\t Running: 3dresample -prefix sub-01_T1_resample.nii -dxyz 2.400000 2.400000 2.400000 -inset /scratch/afni/tmpe3NVww/preproc/_run_id_4_subject_id_sub-01_task_id_test_/Resample_T1/sub-01_T1.nii\n"
       ]
      },
      {
       "output_type": "stream",
       "stream": "stdout",
       "text": [
        "170606-18:09:49,55 workflow INFO:\n",
        "\t Executing node Register_functionals.b39 in dir: /scratch/afni/tmp7hbMyp/preproc/_run_id_4_subject_id_sub-01_task_id_test_/Register_functionals\n"
       ]
      },
      {
       "output_type": "stream",
       "stream": "stdout",
       "text": [
        "170606-18:09:49,85 workflow INFO:\n",
        "\t Executing node _Register_functionals0 in dir: /scratch/afni/tmp7hbMyp/preproc/_run_id_4_subject_id_sub-01_task_id_test_/Register_functionals/mapflow/_Register_functionals0\n"
       ]
      },
      {
       "output_type": "stream",
       "stream": "stdout",
       "text": [
        "170606-18:09:49,109 workflow INFO:\n",
        "\t Running: flirt -in /scratch/afni/tmpdyXPVf/preproc/_run_id_4_subject_id_sub-01_task_id_test_/Realign_with_MCFLIRT/mapflow/_Realign_with_MCFLIRT0/sub-01_test_4_st_mcf.nii -ref /scratch/afni/tmpe3NVww/preproc/_run_id_4_subject_id_sub-01_task_id_test_/Resample_T1/sub-01_T1_resample.nii -out sub-01_test_4_st_mcf_flirt.nii -omat sub-01_test_4_st_mcf_flirt.mat\n"
       ]
      },
      {
       "output_type": "stream",
       "stream": "stdout",
       "text": [
        "170606-18:10:05,94 workflow INFO:\n",
        "\t Executing node Strip_skull.b39 in dir: /scratch/afni/tmpUlMYRy/preproc/_run_id_4_subject_id_sub-01_task_id_test_/Strip_skull\n"
       ]
      },
      {
       "output_type": "stream",
       "stream": "stdout",
       "text": [
        "170606-18:10:05,118 workflow INFO:\n",
        "\t Executing node _Strip_skull0 in dir: /scratch/afni/tmpUlMYRy/preproc/_run_id_4_subject_id_sub-01_task_id_test_/Strip_skull/mapflow/_Strip_skull0\n"
       ]
      },
      {
       "output_type": "stream",
       "stream": "stdout",
       "text": [
        "170606-18:10:05,136 workflow INFO:\n",
        "\t Running: bet /scratch/afni/tmp7hbMyp/preproc/_run_id_4_subject_id_sub-01_task_id_test_/Register_functionals/mapflow/_Register_functionals0/sub-01_test_4_st_mcf_flirt.nii /scratch/afni/tmpUlMYRy/preproc/_run_id_4_subject_id_sub-01_task_id_test_/Strip_skull/mapflow/_Strip_skull0/sub-01_test_4_st_mcf_flirt_brain.nii -F\n"
       ]
      },
      {
       "output_type": "stream",
       "stream": "stdout",
       "text": [
        "170606-18:10:13,456 workflow INFO:\n",
        "\t Executing node store_outputs.a1.b39 in dir: /scratch/afni/tmpECpGol/preproc/_run_id_4_subject_id_sub-01_task_id_test_/_plot_type_translations/store_outputs\n"
       ]
      },
      {
       "output_type": "stream",
       "stream": "stdout",
       "text": [
        "170606-18:10:13,579 workflow INFO:\n",
        "\t Executing node store_outputs.a0.b39 in dir: /scratch/afni/tmp2Aq2cg/preproc/_run_id_4_subject_id_sub-01_task_id_test_/_plot_type_rotations/store_outputs\n"
       ]
      },
      {
       "output_type": "stream",
       "stream": "stdout",
       "text": [
        "170606-18:10:13,630 workflow INFO:\n",
        "\t Executing node Resample_T1.b24 in dir: /scratch/afni/tmp2JseCM/preproc/_run_id_1_subject_id_sub-01_task_id_train_/Resample_T1\n"
       ]
      },
      {
       "output_type": "stream",
       "stream": "stdout",
       "text": [
        "170606-18:10:13,650 workflow INFO:\n",
        "\t Running: 3dresample -prefix sub-01_T1_resample.nii -dxyz 2.400000 2.400000 2.400000 -inset /scratch/afni/tmp2JseCM/preproc/_run_id_1_subject_id_sub-01_task_id_train_/Resample_T1/sub-01_T1.nii\n"
       ]
      },
      {
       "output_type": "stream",
       "stream": "stdout",
       "text": [
        "170606-18:10:14,757 workflow INFO:\n",
        "\t Executing node Register_functionals.b24 in dir: /scratch/afni/tmpcNrBYm/preproc/_run_id_1_subject_id_sub-01_task_id_train_/Register_functionals\n"
       ]
      },
      {
       "output_type": "stream",
       "stream": "stdout",
       "text": [
        "170606-18:10:14,782 workflow INFO:\n",
        "\t Executing node _Register_functionals0 in dir: /scratch/afni/tmpcNrBYm/preproc/_run_id_1_subject_id_sub-01_task_id_train_/Register_functionals/mapflow/_Register_functionals0\n"
       ]
      },
      {
       "output_type": "stream",
       "stream": "stdout",
       "text": [
        "170606-18:10:14,804 workflow INFO:\n",
        "\t Running: flirt -in /scratch/afni/tmpmGsLQt/preproc/_run_id_1_subject_id_sub-01_task_id_train_/Realign_with_MCFLIRT/mapflow/_Realign_with_MCFLIRT0/sub-01_train_1_st_mcf.nii -ref /scratch/afni/tmp2JseCM/preproc/_run_id_1_subject_id_sub-01_task_id_train_/Resample_T1/sub-01_T1_resample.nii -out sub-01_train_1_st_mcf_flirt.nii -omat sub-01_train_1_st_mcf_flirt.mat\n"
       ]
      },
      {
       "output_type": "stream",
       "stream": "stdout",
       "text": [
        "170606-18:10:30,258 workflow INFO:\n",
        "\t Executing node Strip_skull.b24 in dir: /scratch/afni/tmpbn3qFM/preproc/_run_id_1_subject_id_sub-01_task_id_train_/Strip_skull\n"
       ]
      },
      {
       "output_type": "stream",
       "stream": "stdout",
       "text": [
        "170606-18:10:30,282 workflow INFO:\n",
        "\t Executing node _Strip_skull0 in dir: /scratch/afni/tmpbn3qFM/preproc/_run_id_1_subject_id_sub-01_task_id_train_/Strip_skull/mapflow/_Strip_skull0\n"
       ]
      },
      {
       "output_type": "stream",
       "stream": "stdout",
       "text": [
        "170606-18:10:30,299 workflow INFO:\n",
        "\t Running: bet /scratch/afni/tmpcNrBYm/preproc/_run_id_1_subject_id_sub-01_task_id_train_/Register_functionals/mapflow/_Register_functionals0/sub-01_train_1_st_mcf_flirt.nii /scratch/afni/tmpbn3qFM/preproc/_run_id_1_subject_id_sub-01_task_id_train_/Strip_skull/mapflow/_Strip_skull0/sub-01_train_1_st_mcf_flirt_brain.nii -F\n"
       ]
      },
      {
       "output_type": "stream",
       "stream": "stdout",
       "text": [
        "170606-18:10:37,75 workflow INFO:\n",
        "\t Executing node store_outputs.a0.b24 in dir: /scratch/afni/tmpM7mIs5/preproc/_run_id_1_subject_id_sub-01_task_id_train_/_plot_type_rotations/store_outputs\n"
       ]
      },
      {
       "output_type": "stream",
       "stream": "stdout",
       "text": [
        "170606-18:10:37,169 workflow INFO:\n",
        "\t Executing node Register_functionals.b34 in dir: /scratch/afni/tmpZGrYAq/preproc/_run_id_11_subject_id_sub-01_task_id_train_/Register_functionals\n"
       ]
      },
      {
       "output_type": "stream",
       "stream": "stdout",
       "text": [
        "170606-18:10:37,192 workflow INFO:\n",
        "\t Executing node _Register_functionals0 in dir: /scratch/afni/tmpZGrYAq/preproc/_run_id_11_subject_id_sub-01_task_id_train_/Register_functionals/mapflow/_Register_functionals0\n"
       ]
      },
      {
       "output_type": "stream",
       "stream": "stdout",
       "text": [
        "170606-18:10:37,214 workflow INFO:\n",
        "\t Running: flirt -in /scratch/afni/tmp8C68Yw/preproc/_run_id_11_subject_id_sub-01_task_id_train_/Realign_with_MCFLIRT/mapflow/_Realign_with_MCFLIRT0/sub-01_train_11_st_mcf.nii -ref /scratch/afni/tmpalQ9iO/preproc/_run_id_11_subject_id_sub-01_task_id_train_/Resample_T1/sub-01_T1_resample.nii -out sub-01_train_11_st_mcf_flirt.nii -omat sub-01_train_11_st_mcf_flirt.mat\n"
       ]
      },
      {
       "output_type": "stream",
       "stream": "stdout",
       "text": [
        "170606-18:10:51,141 workflow INFO:\n",
        "\t Executing node Strip_skull.b34 in dir: /scratch/afni/tmpfQdVxZ/preproc/_run_id_11_subject_id_sub-01_task_id_train_/Strip_skull\n"
       ]
      },
      {
       "output_type": "stream",
       "stream": "stdout",
       "text": [
        "170606-18:10:51,166 workflow INFO:\n",
        "\t Executing node _Strip_skull0 in dir: /scratch/afni/tmpfQdVxZ/preproc/_run_id_11_subject_id_sub-01_task_id_train_/Strip_skull/mapflow/_Strip_skull0\n"
       ]
      },
      {
       "output_type": "stream",
       "stream": "stdout",
       "text": [
        "170606-18:10:51,185 workflow INFO:\n",
        "\t Running: bet /scratch/afni/tmpZGrYAq/preproc/_run_id_11_subject_id_sub-01_task_id_train_/Register_functionals/mapflow/_Register_functionals0/sub-01_train_11_st_mcf_flirt.nii /scratch/afni/tmpfQdVxZ/preproc/_run_id_11_subject_id_sub-01_task_id_train_/Strip_skull/mapflow/_Strip_skull0/sub-01_train_11_st_mcf_flirt_brain.nii -F\n"
       ]
      },
      {
       "output_type": "stream",
       "stream": "stdout",
       "text": [
        "170606-18:10:57,986 workflow INFO:\n",
        "\t Executing node store_outputs.a0.b34 in dir: /scratch/afni/tmpWfFI65/preproc/_run_id_11_subject_id_sub-01_task_id_train_/_plot_type_rotations/store_outputs\n"
       ]
      },
      {
       "output_type": "stream",
       "stream": "stdout",
       "text": [
        "170606-18:10:58,35 workflow INFO:\n",
        "\t Executing node Get_files.b23 in dir: /scratch/afni/tmpwOdDnP/preproc/_run_id_12_subject_id_sub-02_task_id_test_/Get_files\n"
       ]
      },
      {
       "output_type": "stream",
       "stream": "stdout",
       "text": [
        "170606-18:10:58,76 workflow INFO:\n",
        "\t Executing node Slice_time_correction.b23 in dir: /scratch/afni/tmpM4xksk/preproc/_run_id_12_subject_id_sub-02_task_id_test_/Slice_time_correction\n"
       ]
      },
      {
       "output_type": "stream",
       "stream": "stdout",
       "text": [
        "170606-18:10:58,98 workflow INFO:\n",
        "\t Executing node _Slice_time_correction0 in dir: /scratch/afni/tmpM4xksk/preproc/_run_id_12_subject_id_sub-02_task_id_test_/Slice_time_correction/mapflow/_Slice_time_correction0\n"
       ]
      },
      {
       "output_type": "stream",
       "stream": "stdout",
       "text": [
        "170606-18:10:58,114 workflow INFO:\n",
        "\t Running: slicetimer --in=/scratch/sanjay/GRT/fmri_data/nifti/sub-02/func/sub-02_test_12.nii --odd --out=/scratch/afni/tmpM4xksk/preproc/_run_id_12_subject_id_sub-02_task_id_test_/Slice_time_correction/mapflow/_Slice_time_correction0/sub-02_test_12_st.nii\n"
       ]
      },
      {
       "output_type": "stream",
       "stream": "stdout",
       "text": [
        "170606-18:12:01,304 workflow INFO:\n",
        "\t Executing node Realign_with_MCFLIRT.b21 in dir: /scratch/afni/tmpYMDwvd/preproc/_run_id_10_subject_id_sub-02_task_id_test_/Realign_with_MCFLIRT\n"
       ]
      },
      {
       "output_type": "stream",
       "stream": "stdout",
       "text": [
        "170606-18:12:01,326 workflow INFO:\n",
        "\t Executing node _Realign_with_MCFLIRT0 in dir: /scratch/afni/tmpYMDwvd/preproc/_run_id_10_subject_id_sub-02_task_id_test_/Realign_with_MCFLIRT/mapflow/_Realign_with_MCFLIRT0\n"
       ]
      },
      {
       "output_type": "stream",
       "stream": "stdout",
       "text": [
        "170606-18:12:01,343 workflow INFO:\n",
        "\t Running: mcflirt -in /scratch/afni/tmp7jNt3T/preproc/_run_id_10_subject_id_sub-02_task_id_test_/Slice_time_correction/mapflow/_Slice_time_correction0/sub-02_test_10_st.nii -dof 6 -sinc_final -out /scratch/afni/tmpYMDwvd/preproc/_run_id_10_subject_id_sub-02_task_id_test_/Realign_with_MCFLIRT/mapflow/_Realign_with_MCFLIRT0/sub-02_test_10_st_mcf.nii -mats -plots\n"
       ]
      },
      {
       "output_type": "stream",
       "stream": "stdout",
       "text": [
        "170606-18:27:11,651 workflow INFO:\n",
        "\t Executing node Check_motion_plots.aI.a0.b21 in dir: /scratch/afni/tmpcr6Svv/preproc/_run_id_10_subject_id_sub-02_task_id_test_/_plot_type_rotations/Check_motion_plots\n"
       ]
      },
      {
       "output_type": "stream",
       "stream": "stdout",
       "text": [
        "170606-18:27:11,673 workflow INFO:\n",
        "\t Executing node _Check_motion_plots0 in dir: /scratch/afni/tmpcr6Svv/preproc/_run_id_10_subject_id_sub-02_task_id_test_/_plot_type_rotations/Check_motion_plots/mapflow/_Check_motion_plots0\n"
       ]
      },
      {
       "output_type": "stream",
       "stream": "stdout",
       "text": [
        "170606-18:27:11,690 workflow INFO:\n",
        "\t Running: fsl_tsplot -i /scratch/afni/tmpYMDwvd/preproc/_run_id_10_subject_id_sub-02_task_id_test_/Realign_with_MCFLIRT/mapflow/_Realign_with_MCFLIRT0/sub-02_test_10_st_mcf.nii.par -o /scratch/afni/tmpYMDwvd/preproc/_run_id_10_subject_id_sub-02_task_id_test_/Realign_with_MCFLIRT/mapflow/_Realign_with_MCFLIRT0/sub-02_test_10_st_mcf.nii_rot.png -t 'MCFLIRT estimated rotations (radians)' --start=1 --finish=3 -a x,y,z\n"
       ]
      },
      {
       "output_type": "stream",
       "stream": "stdout",
       "text": [
        "170606-18:27:12,795 workflow INFO:\n",
        "\t Executing node Check_motion_plots.aI.a1.b21 in dir: /scratch/afni/tmpKgjaY6/preproc/_run_id_10_subject_id_sub-02_task_id_test_/_plot_type_translations/Check_motion_plots\n"
       ]
      },
      {
       "output_type": "stream",
       "stream": "stdout",
       "text": [
        "170606-18:27:12,818 workflow INFO:\n",
        "\t Executing node _Check_motion_plots0 in dir: /scratch/afni/tmpKgjaY6/preproc/_run_id_10_subject_id_sub-02_task_id_test_/_plot_type_translations/Check_motion_plots/mapflow/_Check_motion_plots0\n"
       ]
      },
      {
       "output_type": "stream",
       "stream": "stdout",
       "text": [
        "170606-18:27:12,834 workflow INFO:\n",
        "\t Running: fsl_tsplot -i /scratch/afni/tmpYMDwvd/preproc/_run_id_10_subject_id_sub-02_task_id_test_/Realign_with_MCFLIRT/mapflow/_Realign_with_MCFLIRT0/sub-02_test_10_st_mcf.nii.par -o /scratch/afni/tmpYMDwvd/preproc/_run_id_10_subject_id_sub-02_task_id_test_/Realign_with_MCFLIRT/mapflow/_Realign_with_MCFLIRT0/sub-02_test_10_st_mcf.nii_trans.png -t 'MCFLIRT estimated translations (mm)' --start=4 --finish=6 -a x,y,z\n"
       ]
      },
      {
       "output_type": "stream",
       "stream": "stdout",
       "text": [
        "170606-18:27:13,933 workflow INFO:\n",
        "\t Executing node Realign_with_MCFLIRT.b23 in dir: /scratch/afni/tmp1XQ8r4/preproc/_run_id_12_subject_id_sub-02_task_id_test_/Realign_with_MCFLIRT\n"
       ]
      },
      {
       "output_type": "stream",
       "stream": "stdout",
       "text": [
        "170606-18:27:13,955 workflow INFO:\n",
        "\t Executing node _Realign_with_MCFLIRT0 in dir: /scratch/afni/tmp1XQ8r4/preproc/_run_id_12_subject_id_sub-02_task_id_test_/Realign_with_MCFLIRT/mapflow/_Realign_with_MCFLIRT0\n"
       ]
      },
      {
       "output_type": "stream",
       "stream": "stdout",
       "text": [
        "170606-18:27:13,974 workflow INFO:\n",
        "\t Running: mcflirt -in /scratch/afni/tmpM4xksk/preproc/_run_id_12_subject_id_sub-02_task_id_test_/Slice_time_correction/mapflow/_Slice_time_correction0/sub-02_test_12_st.nii -dof 6 -sinc_final -out /scratch/afni/tmp1XQ8r4/preproc/_run_id_12_subject_id_sub-02_task_id_test_/Realign_with_MCFLIRT/mapflow/_Realign_with_MCFLIRT0/sub-02_test_12_st_mcf.nii -mats -plots\n"
       ]
      },
      {
       "output_type": "stream",
       "stream": "stdout",
       "text": [
        "170606-18:41:47,308 workflow INFO:\n",
        "\t Executing node Check_motion_plots.aI.a1.b23 in dir: /scratch/afni/tmpc4FpNj/preproc/_run_id_12_subject_id_sub-02_task_id_test_/_plot_type_translations/Check_motion_plots\n"
       ]
      },
      {
       "output_type": "stream",
       "stream": "stdout",
       "text": [
        "170606-18:41:47,332 workflow INFO:\n",
        "\t Executing node _Check_motion_plots0 in dir: /scratch/afni/tmpc4FpNj/preproc/_run_id_12_subject_id_sub-02_task_id_test_/_plot_type_translations/Check_motion_plots/mapflow/_Check_motion_plots0\n"
       ]
      },
      {
       "output_type": "stream",
       "stream": "stdout",
       "text": [
        "170606-18:41:47,348 workflow INFO:\n",
        "\t Running: fsl_tsplot -i /scratch/afni/tmp1XQ8r4/preproc/_run_id_12_subject_id_sub-02_task_id_test_/Realign_with_MCFLIRT/mapflow/_Realign_with_MCFLIRT0/sub-02_test_12_st_mcf.nii.par -o /scratch/afni/tmp1XQ8r4/preproc/_run_id_12_subject_id_sub-02_task_id_test_/Realign_with_MCFLIRT/mapflow/_Realign_with_MCFLIRT0/sub-02_test_12_st_mcf.nii_trans.png -t 'MCFLIRT estimated translations (mm)' --start=4 --finish=6 -a x,y,z\n"
       ]
      },
      {
       "output_type": "stream",
       "stream": "stdout",
       "text": [
        "170606-18:41:48,477 workflow INFO:\n",
        "\t Executing node Check_motion_plots.aI.a0.b23 in dir: /scratch/afni/tmp3Uq1xt/preproc/_run_id_12_subject_id_sub-02_task_id_test_/_plot_type_rotations/Check_motion_plots\n"
       ]
      },
      {
       "output_type": "stream",
       "stream": "stdout",
       "text": [
        "170606-18:41:48,503 workflow INFO:\n",
        "\t Executing node _Check_motion_plots0 in dir: /scratch/afni/tmp3Uq1xt/preproc/_run_id_12_subject_id_sub-02_task_id_test_/_plot_type_rotations/Check_motion_plots/mapflow/_Check_motion_plots0\n"
       ]
      },
      {
       "output_type": "stream",
       "stream": "stdout",
       "text": [
        "170606-18:41:48,519 workflow INFO:\n",
        "\t Running: fsl_tsplot -i /scratch/afni/tmp1XQ8r4/preproc/_run_id_12_subject_id_sub-02_task_id_test_/Realign_with_MCFLIRT/mapflow/_Realign_with_MCFLIRT0/sub-02_test_12_st_mcf.nii.par -o /scratch/afni/tmp1XQ8r4/preproc/_run_id_12_subject_id_sub-02_task_id_test_/Realign_with_MCFLIRT/mapflow/_Realign_with_MCFLIRT0/sub-02_test_12_st_mcf.nii_rot.png -t 'MCFLIRT estimated rotations (radians)' --start=1 --finish=3 -a x,y,z\n"
       ]
      },
      {
       "output_type": "stream",
       "stream": "stdout",
       "text": [
        "170606-18:41:49,622 workflow INFO:\n",
        "\t Executing node Resample_T1.b23 in dir: /scratch/afni/tmp75F5Re/preproc/_run_id_12_subject_id_sub-02_task_id_test_/Resample_T1\n"
       ]
      },
      {
       "output_type": "stream",
       "stream": "stdout",
       "text": [
        "170606-18:41:49,643 workflow INFO:\n",
        "\t Running: 3dresample -prefix sub-02_T1_resample.nii -dxyz 2.400000 2.400000 2.400000 -inset /scratch/afni/tmp75F5Re/preproc/_run_id_12_subject_id_sub-02_task_id_test_/Resample_T1/sub-02_T1.nii\n"
       ]
      },
      {
       "output_type": "stream",
       "stream": "stdout",
       "text": [
        "170606-18:41:50,741 workflow INFO:\n",
        "\t Executing node Register_functionals.b23 in dir: /scratch/afni/tmp1TMkWc/preproc/_run_id_12_subject_id_sub-02_task_id_test_/Register_functionals\n"
       ]
      },
      {
       "output_type": "stream",
       "stream": "stdout",
       "text": [
        "170606-18:41:50,771 workflow INFO:\n",
        "\t Executing node _Register_functionals0 in dir: /scratch/afni/tmp1TMkWc/preproc/_run_id_12_subject_id_sub-02_task_id_test_/Register_functionals/mapflow/_Register_functionals0\n"
       ]
      },
      {
       "output_type": "stream",
       "stream": "stdout",
       "text": [
        "170606-18:41:50,792 workflow INFO:\n",
        "\t Running: flirt -in /scratch/afni/tmp1XQ8r4/preproc/_run_id_12_subject_id_sub-02_task_id_test_/Realign_with_MCFLIRT/mapflow/_Realign_with_MCFLIRT0/sub-02_test_12_st_mcf.nii -ref /scratch/afni/tmp75F5Re/preproc/_run_id_12_subject_id_sub-02_task_id_test_/Resample_T1/sub-02_T1_resample.nii -out sub-02_test_12_st_mcf_flirt.nii -omat sub-02_test_12_st_mcf_flirt.mat\n"
       ]
      },
      {
       "output_type": "stream",
       "stream": "stdout",
       "text": [
        "170606-18:42:06,783 workflow INFO:\n",
        "\t Executing node Strip_skull.b23 in dir: /scratch/afni/tmpgtd4cv/preproc/_run_id_12_subject_id_sub-02_task_id_test_/Strip_skull\n"
       ]
      },
      {
       "output_type": "stream",
       "stream": "stdout",
       "text": [
        "170606-18:42:06,805 workflow INFO:\n",
        "\t Executing node _Strip_skull0 in dir: /scratch/afni/tmpgtd4cv/preproc/_run_id_12_subject_id_sub-02_task_id_test_/Strip_skull/mapflow/_Strip_skull0\n"
       ]
      },
      {
       "output_type": "stream",
       "stream": "stdout",
       "text": [
        "170606-18:42:06,821 workflow INFO:\n",
        "\t Running: bet /scratch/afni/tmp1TMkWc/preproc/_run_id_12_subject_id_sub-02_task_id_test_/Register_functionals/mapflow/_Register_functionals0/sub-02_test_12_st_mcf_flirt.nii /scratch/afni/tmpgtd4cv/preproc/_run_id_12_subject_id_sub-02_task_id_test_/Strip_skull/mapflow/_Strip_skull0/sub-02_test_12_st_mcf_flirt_brain.nii -F\n"
       ]
      },
      {
       "output_type": "stream",
       "stream": "stdout",
       "text": [
        "170606-18:42:13,601 workflow INFO:\n",
        "\t Executing node store_outputs.a1.b23 in dir: /scratch/afni/tmpAngGs8/preproc/_run_id_12_subject_id_sub-02_task_id_test_/_plot_type_translations/store_outputs\n"
       ]
      },
      {
       "output_type": "stream",
       "stream": "stdout",
       "text": [
        "170606-18:42:13,685 workflow INFO:\n",
        "\t Executing node store_outputs.a0.b23 in dir: /scratch/afni/tmpo_Ny3H/preproc/_run_id_12_subject_id_sub-02_task_id_test_/_plot_type_rotations/store_outputs\n"
       ]
      },
      {
       "output_type": "stream",
       "stream": "stdout",
       "text": [
        "170606-18:42:13,730 workflow INFO:\n",
        "\t Executing node Get_files.b22 in dir: /scratch/afni/tmpoCR22h/preproc/_run_id_11_subject_id_sub-02_task_id_test_/Get_files\n"
       ]
      },
      {
       "output_type": "stream",
       "stream": "stdout",
       "text": [
        "170606-18:42:13,770 workflow INFO:\n",
        "\t Executing node Resample_T1.b22 in dir: /scratch/afni/tmpTOgQYz/preproc/_run_id_11_subject_id_sub-02_task_id_test_/Resample_T1\n"
       ]
      },
      {
       "output_type": "stream",
       "stream": "stdout",
       "text": [
        "170606-18:42:13,788 workflow INFO:\n",
        "\t Running: 3dresample -prefix sub-02_T1_resample.nii -dxyz 2.400000 2.400000 2.400000 -inset /scratch/afni/tmpTOgQYz/preproc/_run_id_11_subject_id_sub-02_task_id_test_/Resample_T1/sub-02_T1.nii\n"
       ]
      },
      {
       "output_type": "stream",
       "stream": "stdout",
       "text": [
        "170606-18:42:15,396 workflow INFO:\n",
        "\t Executing node Slice_time_correction.b22 in dir: /scratch/afni/tmphkn31J/preproc/_run_id_11_subject_id_sub-02_task_id_test_/Slice_time_correction\n"
       ]
      },
      {
       "output_type": "stream",
       "stream": "stdout",
       "text": [
        "170606-18:42:15,417 workflow INFO:\n",
        "\t Executing node _Slice_time_correction0 in dir: /scratch/afni/tmphkn31J/preproc/_run_id_11_subject_id_sub-02_task_id_test_/Slice_time_correction/mapflow/_Slice_time_correction0\n"
       ]
      },
      {
       "output_type": "stream",
       "stream": "stdout",
       "text": [
        "170606-18:42:15,431 workflow INFO:\n",
        "\t Running: slicetimer --in=/scratch/sanjay/GRT/fmri_data/nifti/sub-02/func/sub-02_test_11.nii --odd --out=/scratch/afni/tmphkn31J/preproc/_run_id_11_subject_id_sub-02_task_id_test_/Slice_time_correction/mapflow/_Slice_time_correction0/sub-02_test_11_st.nii\n"
       ]
      },
      {
       "output_type": "stream",
       "stream": "stdout",
       "text": [
        "170606-18:43:22,676 workflow INFO:\n",
        "\t Executing node Get_files.b05 in dir: /scratch/afni/tmpyFzbg0/preproc/_run_id_6_subject_id_sub-02_task_id_train_/Get_files\n"
       ]
      },
      {
       "output_type": "stream",
       "stream": "stdout",
       "text": [
        "170606-18:43:22,720 workflow INFO:\n",
        "\t Executing node Resample_T1.b05 in dir: /scratch/afni/tmp8Sl5x1/preproc/_run_id_6_subject_id_sub-02_task_id_train_/Resample_T1\n"
       ]
      },
      {
       "output_type": "stream",
       "stream": "stdout",
       "text": [
        "170606-18:43:22,740 workflow INFO:\n",
        "\t Running: 3dresample -prefix sub-02_T1_resample.nii -dxyz 2.400000 2.400000 2.400000 -inset /scratch/afni/tmp8Sl5x1/preproc/_run_id_6_subject_id_sub-02_task_id_train_/Resample_T1/sub-02_T1.nii\n"
       ]
      },
      {
       "output_type": "stream",
       "stream": "stdout",
       "text": [
        "170606-18:43:23,828 workflow INFO:\n",
        "\t Executing node Slice_time_correction.b05 in dir: /scratch/afni/tmpTA7JwS/preproc/_run_id_6_subject_id_sub-02_task_id_train_/Slice_time_correction\n"
       ]
      },
      {
       "output_type": "stream",
       "stream": "stdout",
       "text": [
        "170606-18:43:23,847 workflow INFO:\n",
        "\t Executing node _Slice_time_correction0 in dir: /scratch/afni/tmpTA7JwS/preproc/_run_id_6_subject_id_sub-02_task_id_train_/Slice_time_correction/mapflow/_Slice_time_correction0\n"
       ]
      },
      {
       "output_type": "stream",
       "stream": "stdout",
       "text": [
        "170606-18:43:23,861 workflow INFO:\n",
        "\t Running: slicetimer --in=/scratch/sanjay/GRT/fmri_data/nifti/sub-02/func/sub-02_train_6.nii --odd --out=/scratch/afni/tmpTA7JwS/preproc/_run_id_6_subject_id_sub-02_task_id_train_/Slice_time_correction/mapflow/_Slice_time_correction0/sub-02_train_6_st.nii\n"
       ]
      },
      {
       "output_type": "stream",
       "stream": "stdout",
       "text": [
        "170606-18:43:57,267 workflow INFO:\n",
        "\t Executing node Realign_with_MCFLIRT.b22 in dir: /scratch/afni/tmpKO6m9q/preproc/_run_id_11_subject_id_sub-02_task_id_test_/Realign_with_MCFLIRT\n"
       ]
      },
      {
       "output_type": "stream",
       "stream": "stdout",
       "text": [
        "170606-18:43:57,291 workflow INFO:\n",
        "\t Executing node _Realign_with_MCFLIRT0 in dir: /scratch/afni/tmpKO6m9q/preproc/_run_id_11_subject_id_sub-02_task_id_test_/Realign_with_MCFLIRT/mapflow/_Realign_with_MCFLIRT0\n"
       ]
      },
      {
       "output_type": "stream",
       "stream": "stdout",
       "text": [
        "170606-18:43:57,310 workflow INFO:\n",
        "\t Running: mcflirt -in /scratch/afni/tmphkn31J/preproc/_run_id_11_subject_id_sub-02_task_id_test_/Slice_time_correction/mapflow/_Slice_time_correction0/sub-02_test_11_st.nii -dof 6 -sinc_final -out /scratch/afni/tmpKO6m9q/preproc/_run_id_11_subject_id_sub-02_task_id_test_/Realign_with_MCFLIRT/mapflow/_Realign_with_MCFLIRT0/sub-02_test_11_st_mcf.nii -mats -plots\n"
       ]
      },
      {
       "output_type": "stream",
       "stream": "stdout",
       "text": [
        "170606-18:58:26,202 workflow INFO:\n",
        "\t Executing node Check_motion_plots.aI.a1.b22 in dir: /scratch/afni/tmpci9Y3v/preproc/_run_id_11_subject_id_sub-02_task_id_test_/_plot_type_translations/Check_motion_plots\n"
       ]
      },
      {
       "output_type": "stream",
       "stream": "stdout",
       "text": [
        "170606-18:58:26,224 workflow INFO:\n",
        "\t Executing node _Check_motion_plots0 in dir: /scratch/afni/tmpci9Y3v/preproc/_run_id_11_subject_id_sub-02_task_id_test_/_plot_type_translations/Check_motion_plots/mapflow/_Check_motion_plots0\n"
       ]
      },
      {
       "output_type": "stream",
       "stream": "stdout",
       "text": [
        "170606-18:58:26,240 workflow INFO:\n",
        "\t Running: fsl_tsplot -i /scratch/afni/tmpKO6m9q/preproc/_run_id_11_subject_id_sub-02_task_id_test_/Realign_with_MCFLIRT/mapflow/_Realign_with_MCFLIRT0/sub-02_test_11_st_mcf.nii.par -o /scratch/afni/tmpKO6m9q/preproc/_run_id_11_subject_id_sub-02_task_id_test_/Realign_with_MCFLIRT/mapflow/_Realign_with_MCFLIRT0/sub-02_test_11_st_mcf.nii_trans.png -t 'MCFLIRT estimated translations (mm)' --start=4 --finish=6 -a x,y,z\n"
       ]
      },
      {
       "output_type": "stream",
       "stream": "stdout",
       "text": [
        "170606-18:58:27,352 workflow INFO:\n",
        "\t Executing node Get_files.b32 in dir: /scratch/afni/tmpPzQc44/preproc/_run_id_9_subject_id_sub-01_task_id_train_/Get_files\n"
       ]
      },
      {
       "output_type": "stream",
       "stream": "stdout",
       "text": [
        "170606-18:58:27,395 workflow INFO:\n",
        "\t Executing node Slice_time_correction.b32 in dir: /scratch/afni/tmphyJmUD/preproc/_run_id_9_subject_id_sub-01_task_id_train_/Slice_time_correction\n"
       ]
      },
      {
       "output_type": "stream",
       "stream": "stdout",
       "text": [
        "170606-18:58:27,415 workflow INFO:\n",
        "\t Executing node _Slice_time_correction0 in dir: /scratch/afni/tmphyJmUD/preproc/_run_id_9_subject_id_sub-01_task_id_train_/Slice_time_correction/mapflow/_Slice_time_correction0\n"
       ]
      },
      {
       "output_type": "stream",
       "stream": "stdout",
       "text": [
        "170606-18:58:27,430 workflow INFO:\n",
        "\t Running: slicetimer --in=/scratch/sanjay/GRT/fmri_data/nifti/sub-01/func/sub-01_train_9.nii --odd --out=/scratch/afni/tmphyJmUD/preproc/_run_id_9_subject_id_sub-01_task_id_train_/Slice_time_correction/mapflow/_Slice_time_correction0/sub-01_train_9_st.nii\n"
       ]
      },
      {
       "output_type": "stream",
       "stream": "stdout",
       "text": [
        "170606-18:59:01,340 workflow INFO:\n",
        "\t Executing node Realign_with_MCFLIRT.b32 in dir: /scratch/afni/tmpNNjhjS/preproc/_run_id_9_subject_id_sub-01_task_id_train_/Realign_with_MCFLIRT\n"
       ]
      },
      {
       "output_type": "stream",
       "stream": "stdout",
       "text": [
        "170606-18:59:01,364 workflow INFO:\n",
        "\t Executing node _Realign_with_MCFLIRT0 in dir: /scratch/afni/tmpNNjhjS/preproc/_run_id_9_subject_id_sub-01_task_id_train_/Realign_with_MCFLIRT/mapflow/_Realign_with_MCFLIRT0\n"
       ]
      },
      {
       "output_type": "stream",
       "stream": "stdout",
       "text": [
        "170606-18:59:01,381 workflow INFO:\n",
        "\t Running: mcflirt -in /scratch/afni/tmphyJmUD/preproc/_run_id_9_subject_id_sub-01_task_id_train_/Slice_time_correction/mapflow/_Slice_time_correction0/sub-01_train_9_st.nii -dof 6 -sinc_final -out /scratch/afni/tmpNNjhjS/preproc/_run_id_9_subject_id_sub-01_task_id_train_/Realign_with_MCFLIRT/mapflow/_Realign_with_MCFLIRT0/sub-01_train_9_st_mcf.nii -mats -plots\n"
       ]
      },
      {
       "output_type": "stream",
       "stream": "stdout",
       "text": [
        "170606-19:07:02,951 workflow INFO:\n",
        "\t Executing node Check_motion_plots.aI.a1.b32 in dir: /scratch/afni/tmpBbJDLQ/preproc/_run_id_9_subject_id_sub-01_task_id_train_/_plot_type_translations/Check_motion_plots\n"
       ]
      },
      {
       "output_type": "stream",
       "stream": "stdout",
       "text": [
        "170606-19:07:02,971 workflow INFO:\n",
        "\t Executing node _Check_motion_plots0 in dir: /scratch/afni/tmpBbJDLQ/preproc/_run_id_9_subject_id_sub-01_task_id_train_/_plot_type_translations/Check_motion_plots/mapflow/_Check_motion_plots0\n"
       ]
      },
      {
       "output_type": "stream",
       "stream": "stdout",
       "text": [
        "170606-19:07:02,987 workflow INFO:\n",
        "\t Running: fsl_tsplot -i /scratch/afni/tmpNNjhjS/preproc/_run_id_9_subject_id_sub-01_task_id_train_/Realign_with_MCFLIRT/mapflow/_Realign_with_MCFLIRT0/sub-01_train_9_st_mcf.nii.par -o /scratch/afni/tmpNNjhjS/preproc/_run_id_9_subject_id_sub-01_task_id_train_/Realign_with_MCFLIRT/mapflow/_Realign_with_MCFLIRT0/sub-01_train_9_st_mcf.nii_trans.png -t 'MCFLIRT estimated translations (mm)' --start=4 --finish=6 -a x,y,z\n"
       ]
      },
      {
       "output_type": "stream",
       "stream": "stdout",
       "text": [
        "170606-19:07:04,89 workflow INFO:\n",
        "\t Executing node Check_motion_plots.aI.a0.b32 in dir: /scratch/afni/tmpXychDt/preproc/_run_id_9_subject_id_sub-01_task_id_train_/_plot_type_rotations/Check_motion_plots\n"
       ]
      },
      {
       "output_type": "stream",
       "stream": "stdout",
       "text": [
        "170606-19:07:04,110 workflow INFO:\n",
        "\t Executing node _Check_motion_plots0 in dir: /scratch/afni/tmpXychDt/preproc/_run_id_9_subject_id_sub-01_task_id_train_/_plot_type_rotations/Check_motion_plots/mapflow/_Check_motion_plots0\n"
       ]
      },
      {
       "output_type": "stream",
       "stream": "stdout",
       "text": [
        "170606-19:07:04,126 workflow INFO:\n",
        "\t Running: fsl_tsplot -i /scratch/afni/tmpNNjhjS/preproc/_run_id_9_subject_id_sub-01_task_id_train_/Realign_with_MCFLIRT/mapflow/_Realign_with_MCFLIRT0/sub-01_train_9_st_mcf.nii.par -o /scratch/afni/tmpNNjhjS/preproc/_run_id_9_subject_id_sub-01_task_id_train_/Realign_with_MCFLIRT/mapflow/_Realign_with_MCFLIRT0/sub-01_train_9_st_mcf.nii_rot.png -t 'MCFLIRT estimated rotations (radians)' --start=1 --finish=3 -a x,y,z\n"
       ]
      },
      {
       "output_type": "stream",
       "stream": "stdout",
       "text": [
        "170606-19:07:05,244 workflow INFO:\n",
        "\t Executing node Register_functionals.b22 in dir: /scratch/afni/tmp2t2oIZ/preproc/_run_id_11_subject_id_sub-02_task_id_test_/Register_functionals\n"
       ]
      },
      {
       "output_type": "stream",
       "stream": "stdout",
       "text": [
        "170606-19:07:05,268 workflow INFO:\n",
        "\t Executing node _Register_functionals0 in dir: /scratch/afni/tmp2t2oIZ/preproc/_run_id_11_subject_id_sub-02_task_id_test_/Register_functionals/mapflow/_Register_functionals0\n"
       ]
      },
      {
       "output_type": "stream",
       "stream": "stdout",
       "text": [
        "170606-19:07:05,286 workflow INFO:\n",
        "\t Running: flirt -in /scratch/afni/tmpKO6m9q/preproc/_run_id_11_subject_id_sub-02_task_id_test_/Realign_with_MCFLIRT/mapflow/_Realign_with_MCFLIRT0/sub-02_test_11_st_mcf.nii -ref /scratch/afni/tmpTOgQYz/preproc/_run_id_11_subject_id_sub-02_task_id_test_/Resample_T1/sub-02_T1_resample.nii -out sub-02_test_11_st_mcf_flirt.nii -omat sub-02_test_11_st_mcf_flirt.mat\n"
       ]
      },
      {
       "output_type": "stream",
       "stream": "stdout",
       "text": [
        "170606-19:07:20,288 workflow INFO:\n",
        "\t Executing node Strip_skull.b22 in dir: /scratch/afni/tmpMedMCc/preproc/_run_id_11_subject_id_sub-02_task_id_test_/Strip_skull\n"
       ]
      },
      {
       "output_type": "stream",
       "stream": "stdout",
       "text": [
        "170606-19:07:20,309 workflow INFO:\n",
        "\t Executing node _Strip_skull0 in dir: /scratch/afni/tmpMedMCc/preproc/_run_id_11_subject_id_sub-02_task_id_test_/Strip_skull/mapflow/_Strip_skull0\n"
       ]
      },
      {
       "output_type": "stream",
       "stream": "stdout",
       "text": [
        "170606-19:07:20,326 workflow INFO:\n",
        "\t Running: bet /scratch/afni/tmp2t2oIZ/preproc/_run_id_11_subject_id_sub-02_task_id_test_/Register_functionals/mapflow/_Register_functionals0/sub-02_test_11_st_mcf_flirt.nii /scratch/afni/tmpMedMCc/preproc/_run_id_11_subject_id_sub-02_task_id_test_/Strip_skull/mapflow/_Strip_skull0/sub-02_test_11_st_mcf_flirt_brain.nii -F\n"
       ]
      },
      {
       "output_type": "stream",
       "stream": "stdout",
       "text": [
        "170606-19:07:27,608 workflow INFO:\n",
        "\t Executing node store_outputs.a1.b22 in dir: /scratch/afni/tmpGhy1z2/preproc/_run_id_11_subject_id_sub-02_task_id_test_/_plot_type_translations/store_outputs\n"
       ]
      },
      {
       "output_type": "stream",
       "stream": "stdout",
       "text": [
        "170606-19:07:27,678 workflow INFO:\n",
        "\t Executing node Check_motion_plots.aI.a0.b37 in dir: /scratch/afni/tmpsQhWjs/preproc/_run_id_2_subject_id_sub-01_task_id_test_/_plot_type_rotations/Check_motion_plots\n"
       ]
      },
      {
       "output_type": "stream",
       "stream": "stdout",
       "text": [
        "170606-19:07:27,697 workflow INFO:\n",
        "\t Executing node _Check_motion_plots0 in dir: /scratch/afni/tmpsQhWjs/preproc/_run_id_2_subject_id_sub-01_task_id_test_/_plot_type_rotations/Check_motion_plots/mapflow/_Check_motion_plots0\n"
       ]
      },
      {
       "output_type": "stream",
       "stream": "stdout",
       "text": [
        "170606-19:07:27,712 workflow INFO:\n",
        "\t Running: fsl_tsplot -i /scratch/afni/tmpqv_uqd/preproc/_run_id_2_subject_id_sub-01_task_id_test_/Realign_with_MCFLIRT/mapflow/_Realign_with_MCFLIRT0/sub-01_test_2_st_mcf.nii.par -o /scratch/afni/tmpqv_uqd/preproc/_run_id_2_subject_id_sub-01_task_id_test_/Realign_with_MCFLIRT/mapflow/_Realign_with_MCFLIRT0/sub-01_test_2_st_mcf.nii_rot.png -t 'MCFLIRT estimated rotations (radians)' --start=1 --finish=3 -a x,y,z\n"
       ]
      },
      {
       "output_type": "stream",
       "stream": "stdout",
       "text": [
        "170606-19:07:28,853 workflow INFO:\n",
        "\t Executing node store_outputs.a0.b37 in dir: /scratch/afni/tmpzninpU/preproc/_run_id_2_subject_id_sub-01_task_id_test_/_plot_type_rotations/store_outputs\n"
       ]
      },
      {
       "output_type": "stream",
       "stream": "stdout",
       "text": [
        "170606-19:07:28,912 workflow INFO:\n",
        "\t Executing node Check_motion_plots.aI.a0.b22 in dir: /scratch/afni/tmpwSilPb/preproc/_run_id_11_subject_id_sub-02_task_id_test_/_plot_type_rotations/Check_motion_plots\n"
       ]
      },
      {
       "output_type": "stream",
       "stream": "stdout",
       "text": [
        "170606-19:07:28,932 workflow INFO:\n",
        "\t Executing node _Check_motion_plots0 in dir: /scratch/afni/tmpwSilPb/preproc/_run_id_11_subject_id_sub-02_task_id_test_/_plot_type_rotations/Check_motion_plots/mapflow/_Check_motion_plots0\n"
       ]
      },
      {
       "output_type": "stream",
       "stream": "stdout",
       "text": [
        "170606-19:07:28,947 workflow INFO:\n",
        "\t Running: fsl_tsplot -i /scratch/afni/tmpKO6m9q/preproc/_run_id_11_subject_id_sub-02_task_id_test_/Realign_with_MCFLIRT/mapflow/_Realign_with_MCFLIRT0/sub-02_test_11_st_mcf.nii.par -o /scratch/afni/tmpKO6m9q/preproc/_run_id_11_subject_id_sub-02_task_id_test_/Realign_with_MCFLIRT/mapflow/_Realign_with_MCFLIRT0/sub-02_test_11_st_mcf.nii_rot.png -t 'MCFLIRT estimated rotations (radians)' --start=1 --finish=3 -a x,y,z\n"
       ]
      },
      {
       "output_type": "stream",
       "stream": "stdout",
       "text": [
        "170606-19:07:30,71 workflow INFO:\n",
        "\t Executing node store_outputs.a0.b22 in dir: /scratch/afni/tmp21PM9o/preproc/_run_id_11_subject_id_sub-02_task_id_test_/_plot_type_rotations/store_outputs\n"
       ]
      },
      {
       "output_type": "stream",
       "stream": "stdout",
       "text": [
        "170606-19:07:30,136 workflow INFO:\n",
        "\t Executing node Slice_time_correction.b30 in dir: /scratch/afni/tmpEx9uKi/preproc/_run_id_7_subject_id_sub-01_task_id_train_/Slice_time_correction\n"
       ]
      },
      {
       "output_type": "stream",
       "stream": "stdout",
       "text": [
        "170606-19:07:30,155 workflow INFO:\n",
        "\t Executing node _Slice_time_correction0 in dir: /scratch/afni/tmpEx9uKi/preproc/_run_id_7_subject_id_sub-01_task_id_train_/Slice_time_correction/mapflow/_Slice_time_correction0\n"
       ]
      },
      {
       "output_type": "stream",
       "stream": "stdout",
       "text": [
        "170606-19:07:30,172 workflow INFO:\n",
        "\t Running: slicetimer --in=/scratch/sanjay/GRT/fmri_data/nifti/sub-01/func/sub-01_train_7.nii --odd --out=/scratch/afni/tmpEx9uKi/preproc/_run_id_7_subject_id_sub-01_task_id_train_/Slice_time_correction/mapflow/_Slice_time_correction0/sub-01_train_7_st.nii\n"
       ]
      },
      {
       "output_type": "stream",
       "stream": "stdout",
       "text": [
        "170606-19:08:04,91 workflow INFO:\n",
        "\t Executing node Realign_with_MCFLIRT.b30 in dir: /scratch/afni/tmp4ig5Hb/preproc/_run_id_7_subject_id_sub-01_task_id_train_/Realign_with_MCFLIRT\n"
       ]
      },
      {
       "output_type": "stream",
       "stream": "stdout",
       "text": [
        "170606-19:08:04,115 workflow INFO:\n",
        "\t Executing node _Realign_with_MCFLIRT0 in dir: /scratch/afni/tmp4ig5Hb/preproc/_run_id_7_subject_id_sub-01_task_id_train_/Realign_with_MCFLIRT/mapflow/_Realign_with_MCFLIRT0\n"
       ]
      },
      {
       "output_type": "stream",
       "stream": "stdout",
       "text": [
        "170606-19:08:04,136 workflow INFO:\n",
        "\t Running: mcflirt -in /scratch/afni/tmpEx9uKi/preproc/_run_id_7_subject_id_sub-01_task_id_train_/Slice_time_correction/mapflow/_Slice_time_correction0/sub-01_train_7_st.nii -dof 6 -sinc_final -out /scratch/afni/tmp4ig5Hb/preproc/_run_id_7_subject_id_sub-01_task_id_train_/Realign_with_MCFLIRT/mapflow/_Realign_with_MCFLIRT0/sub-01_train_7_st_mcf.nii -mats -plots\n"
       ]
      },
      {
       "output_type": "stream",
       "stream": "stdout",
       "text": [
        "170606-19:16:04,902 workflow INFO:\n",
        "\t Executing node Register_functionals.b30 in dir: /scratch/afni/tmpsHfJum/preproc/_run_id_7_subject_id_sub-01_task_id_train_/Register_functionals\n"
       ]
      },
      {
       "output_type": "stream",
       "stream": "stdout",
       "text": [
        "170606-19:16:04,928 workflow INFO:\n",
        "\t Executing node _Register_functionals0 in dir: /scratch/afni/tmpsHfJum/preproc/_run_id_7_subject_id_sub-01_task_id_train_/Register_functionals/mapflow/_Register_functionals0\n"
       ]
      },
      {
       "output_type": "stream",
       "stream": "stdout",
       "text": [
        "170606-19:16:04,947 workflow INFO:\n",
        "\t Running: flirt -in /scratch/afni/tmp4ig5Hb/preproc/_run_id_7_subject_id_sub-01_task_id_train_/Realign_with_MCFLIRT/mapflow/_Realign_with_MCFLIRT0/sub-01_train_7_st_mcf.nii -ref /scratch/afni/tmprcvRGo/preproc/_run_id_7_subject_id_sub-01_task_id_train_/Resample_T1/sub-01_T1_resample.nii -out sub-01_train_7_st_mcf_flirt.nii -omat sub-01_train_7_st_mcf_flirt.mat\n"
       ]
      },
      {
       "output_type": "stream",
       "stream": "stdout",
       "text": [
        "170606-19:16:18,866 workflow INFO:\n",
        "\t Executing node Check_motion_plots.aI.a1.b30 in dir: /scratch/afni/tmpwXmzsS/preproc/_run_id_7_subject_id_sub-01_task_id_train_/_plot_type_translations/Check_motion_plots\n"
       ]
      },
      {
       "output_type": "stream",
       "stream": "stdout",
       "text": [
        "170606-19:16:18,888 workflow INFO:\n",
        "\t Executing node _Check_motion_plots0 in dir: /scratch/afni/tmpwXmzsS/preproc/_run_id_7_subject_id_sub-01_task_id_train_/_plot_type_translations/Check_motion_plots/mapflow/_Check_motion_plots0\n"
       ]
      },
      {
       "output_type": "stream",
       "stream": "stdout",
       "text": [
        "170606-19:16:18,905 workflow INFO:\n",
        "\t Running: fsl_tsplot -i /scratch/afni/tmp4ig5Hb/preproc/_run_id_7_subject_id_sub-01_task_id_train_/Realign_with_MCFLIRT/mapflow/_Realign_with_MCFLIRT0/sub-01_train_7_st_mcf.nii.par -o /scratch/afni/tmp4ig5Hb/preproc/_run_id_7_subject_id_sub-01_task_id_train_/Realign_with_MCFLIRT/mapflow/_Realign_with_MCFLIRT0/sub-01_train_7_st_mcf.nii_trans.png -t 'MCFLIRT estimated translations (mm)' --start=4 --finish=6 -a x,y,z\n"
       ]
      },
      {
       "output_type": "stream",
       "stream": "stdout",
       "text": [
        "170606-19:16:20,5 workflow INFO:\n",
        "\t Executing node Check_motion_plots.aI.a0.b30 in dir: /scratch/afni/tmp4SfVTx/preproc/_run_id_7_subject_id_sub-01_task_id_train_/_plot_type_rotations/Check_motion_plots\n"
       ]
      },
      {
       "output_type": "stream",
       "stream": "stdout",
       "text": [
        "170606-19:16:20,25 workflow INFO:\n",
        "\t Executing node _Check_motion_plots0 in dir: /scratch/afni/tmp4SfVTx/preproc/_run_id_7_subject_id_sub-01_task_id_train_/_plot_type_rotations/Check_motion_plots/mapflow/_Check_motion_plots0\n"
       ]
      },
      {
       "output_type": "stream",
       "stream": "stdout",
       "text": [
        "170606-19:16:20,42 workflow INFO:\n",
        "\t Running: fsl_tsplot -i /scratch/afni/tmp4ig5Hb/preproc/_run_id_7_subject_id_sub-01_task_id_train_/Realign_with_MCFLIRT/mapflow/_Realign_with_MCFLIRT0/sub-01_train_7_st_mcf.nii.par -o /scratch/afni/tmp4ig5Hb/preproc/_run_id_7_subject_id_sub-01_task_id_train_/Realign_with_MCFLIRT/mapflow/_Realign_with_MCFLIRT0/sub-01_train_7_st_mcf.nii_rot.png -t 'MCFLIRT estimated rotations (radians)' --start=1 --finish=3 -a x,y,z\n"
       ]
      },
      {
       "output_type": "stream",
       "stream": "stdout",
       "text": [
        "170606-19:16:21,135 workflow INFO:\n",
        "\t Executing node Get_files.b45 in dir: /scratch/afni/tmpr0pSZb/preproc/_run_id_10_subject_id_sub-01_task_id_test_/Get_files\n"
       ]
      },
      {
       "output_type": "stream",
       "stream": "stdout",
       "text": [
        "170606-19:16:21,180 workflow INFO:\n",
        "\t Executing node Slice_time_correction.b45 in dir: /scratch/afni/tmpWLoH_M/preproc/_run_id_10_subject_id_sub-01_task_id_test_/Slice_time_correction\n"
       ]
      },
      {
       "output_type": "stream",
       "stream": "stdout",
       "text": [
        "170606-19:16:21,200 workflow INFO:\n",
        "\t Executing node _Slice_time_correction0 in dir: /scratch/afni/tmpWLoH_M/preproc/_run_id_10_subject_id_sub-01_task_id_test_/Slice_time_correction/mapflow/_Slice_time_correction0\n"
       ]
      },
      {
       "output_type": "stream",
       "stream": "stdout",
       "text": [
        "170606-19:16:21,218 workflow INFO:\n",
        "\t Running: slicetimer --in=/scratch/sanjay/GRT/fmri_data/nifti/sub-01/func/sub-01_test_10.nii --odd --out=/scratch/afni/tmpWLoH_M/preproc/_run_id_10_subject_id_sub-01_task_id_test_/Slice_time_correction/mapflow/_Slice_time_correction0/sub-01_test_10_st.nii\n"
       ]
      },
      {
       "output_type": "stream",
       "stream": "stdout",
       "text": [
        "170606-19:17:25,400 workflow INFO:\n",
        "\t Executing node Check_motion_plots.aI.a0.b27 in dir: /scratch/afni/tmp1sRG01/preproc/_run_id_4_subject_id_sub-01_task_id_train_/_plot_type_rotations/Check_motion_plots\n"
       ]
      },
      {
       "output_type": "stream",
       "stream": "stdout",
       "text": [
        "170606-19:17:25,421 workflow INFO:\n",
        "\t Executing node _Check_motion_plots0 in dir: /scratch/afni/tmp1sRG01/preproc/_run_id_4_subject_id_sub-01_task_id_train_/_plot_type_rotations/Check_motion_plots/mapflow/_Check_motion_plots0\n"
       ]
      },
      {
       "output_type": "stream",
       "stream": "stdout",
       "text": [
        "170606-19:17:25,438 workflow INFO:\n",
        "\t Running: fsl_tsplot -i /scratch/afni/tmpnbWM55/preproc/_run_id_4_subject_id_sub-01_task_id_train_/Realign_with_MCFLIRT/mapflow/_Realign_with_MCFLIRT0/sub-01_train_4_st_mcf.nii.par -o /scratch/afni/tmpnbWM55/preproc/_run_id_4_subject_id_sub-01_task_id_train_/Realign_with_MCFLIRT/mapflow/_Realign_with_MCFLIRT0/sub-01_train_4_st_mcf.nii_rot.png -t 'MCFLIRT estimated rotations (radians)' --start=1 --finish=3 -a x,y,z\n"
       ]
      },
      {
       "output_type": "stream",
       "stream": "stdout",
       "text": [
        "170606-19:17:26,569 workflow INFO:\n",
        "\t Executing node Check_motion_plots.aI.a0.b14 in dir: /scratch/afni/tmpMlsyWi/preproc/_run_id_3_subject_id_sub-02_task_id_test_/_plot_type_rotations/Check_motion_plots\n"
       ]
      },
      {
       "output_type": "stream",
       "stream": "stdout",
       "text": [
        "170606-19:17:26,590 workflow INFO:\n",
        "\t Executing node _Check_motion_plots0 in dir: /scratch/afni/tmpMlsyWi/preproc/_run_id_3_subject_id_sub-02_task_id_test_/_plot_type_rotations/Check_motion_plots/mapflow/_Check_motion_plots0\n"
       ]
      },
      {
       "output_type": "stream",
       "stream": "stdout",
       "text": [
        "170606-19:17:26,607 workflow INFO:\n",
        "\t Running: fsl_tsplot -i /scratch/afni/tmpAA5hbR/preproc/_run_id_3_subject_id_sub-02_task_id_test_/Realign_with_MCFLIRT/mapflow/_Realign_with_MCFLIRT0/sub-02_test_3_st_mcf.nii.par -o /scratch/afni/tmpAA5hbR/preproc/_run_id_3_subject_id_sub-02_task_id_test_/Realign_with_MCFLIRT/mapflow/_Realign_with_MCFLIRT0/sub-02_test_3_st_mcf.nii_rot.png -t 'MCFLIRT estimated rotations (radians)' --start=1 --finish=3 -a x,y,z\n"
       ]
      },
      {
       "output_type": "stream",
       "stream": "stdout",
       "text": [
        "170606-19:17:27,794 workflow INFO:\n",
        "\t Executing node store_outputs.a0.b14 in dir: /scratch/afni/tmpy3rp7I/preproc/_run_id_3_subject_id_sub-02_task_id_test_/_plot_type_rotations/store_outputs\n"
       ]
      },
      {
       "output_type": "stream",
       "stream": "stdout",
       "text": [
        "170606-19:17:27,892 workflow INFO:\n",
        "\t Executing node Strip_skull.b41 in dir: /scratch/afni/tmpYyobGb/preproc/_run_id_6_subject_id_sub-01_task_id_test_/Strip_skull\n"
       ]
      },
      {
       "output_type": "stream",
       "stream": "stdout",
       "text": [
        "170606-19:17:27,912 workflow INFO:\n",
        "\t Executing node _Strip_skull0 in dir: /scratch/afni/tmpYyobGb/preproc/_run_id_6_subject_id_sub-01_task_id_test_/Strip_skull/mapflow/_Strip_skull0\n"
       ]
      },
      {
       "output_type": "stream",
       "stream": "stdout",
       "text": [
        "170606-19:17:27,929 workflow INFO:\n",
        "\t Running: bet /scratch/afni/tmpp3Whzh/preproc/_run_id_6_subject_id_sub-01_task_id_test_/Register_functionals/mapflow/_Register_functionals0/sub-01_test_6_st_mcf_flirt.nii /scratch/afni/tmpYyobGb/preproc/_run_id_6_subject_id_sub-01_task_id_test_/Strip_skull/mapflow/_Strip_skull0/sub-01_test_6_st_mcf_flirt_brain.nii -F\n"
       ]
      },
      {
       "output_type": "stream",
       "stream": "stdout",
       "text": [
        "170606-19:17:35,242 workflow INFO:\n",
        "\t Executing node store_outputs.a1.b41 in dir: /scratch/afni/tmp8cNJYf/preproc/_run_id_6_subject_id_sub-01_task_id_test_/_plot_type_translations/store_outputs\n"
       ]
      },
      {
       "output_type": "stream",
       "stream": "stdout",
       "text": [
        "170606-19:17:35,369 workflow INFO:\n",
        "\t Executing node store_outputs.a0.b41 in dir: /scratch/afni/tmpi12ycW/preproc/_run_id_6_subject_id_sub-01_task_id_test_/_plot_type_rotations/store_outputs\n"
       ]
      },
      {
       "output_type": "stream",
       "stream": "stdout",
       "text": [
        "170606-19:17:35,423 workflow INFO:\n",
        "\t Executing node Realign_with_MCFLIRT.b45 in dir: /scratch/afni/tmpg7KKlb/preproc/_run_id_10_subject_id_sub-01_task_id_test_/Realign_with_MCFLIRT\n"
       ]
      },
      {
       "output_type": "stream",
       "stream": "stdout",
       "text": [
        "170606-19:17:35,446 workflow INFO:\n",
        "\t Executing node _Realign_with_MCFLIRT0 in dir: /scratch/afni/tmpg7KKlb/preproc/_run_id_10_subject_id_sub-01_task_id_test_/Realign_with_MCFLIRT/mapflow/_Realign_with_MCFLIRT0\n"
       ]
      },
      {
       "output_type": "stream",
       "stream": "stdout",
       "text": [
        "170606-19:17:35,465 workflow INFO:\n",
        "\t Running: mcflirt -in /scratch/afni/tmpWLoH_M/preproc/_run_id_10_subject_id_sub-01_task_id_test_/Slice_time_correction/mapflow/_Slice_time_correction0/sub-01_test_10_st.nii -dof 6 -sinc_final -out /scratch/afni/tmpg7KKlb/preproc/_run_id_10_subject_id_sub-01_task_id_test_/Realign_with_MCFLIRT/mapflow/_Realign_with_MCFLIRT0/sub-01_test_10_st_mcf.nii -mats -plots\n"
       ]
      },
      {
       "output_type": "stream",
       "stream": "stdout",
       "text": [
        "170606-19:32:19,656 workflow INFO:\n",
        "\t Executing node Check_motion_plots.aI.a1.b45 in dir: /scratch/afni/tmpgtu4CL/preproc/_run_id_10_subject_id_sub-01_task_id_test_/_plot_type_translations/Check_motion_plots\n"
       ]
      },
      {
       "output_type": "stream",
       "stream": "stdout",
       "text": [
        "170606-19:32:19,677 workflow INFO:\n",
        "\t Executing node _Check_motion_plots0 in dir: /scratch/afni/tmpgtu4CL/preproc/_run_id_10_subject_id_sub-01_task_id_test_/_plot_type_translations/Check_motion_plots/mapflow/_Check_motion_plots0\n"
       ]
      },
      {
       "output_type": "stream",
       "stream": "stdout",
       "text": [
        "170606-19:32:19,692 workflow INFO:\n",
        "\t Running: fsl_tsplot -i /scratch/afni/tmpg7KKlb/preproc/_run_id_10_subject_id_sub-01_task_id_test_/Realign_with_MCFLIRT/mapflow/_Realign_with_MCFLIRT0/sub-01_test_10_st_mcf.nii.par -o /scratch/afni/tmpg7KKlb/preproc/_run_id_10_subject_id_sub-01_task_id_test_/Realign_with_MCFLIRT/mapflow/_Realign_with_MCFLIRT0/sub-01_test_10_st_mcf.nii_trans.png -t 'MCFLIRT estimated translations (mm)' --start=4 --finish=6 -a x,y,z\n"
       ]
      },
      {
       "output_type": "stream",
       "stream": "stdout",
       "text": [
        "170606-19:32:20,799 workflow INFO:\n",
        "\t Executing node Resample_T1.b27 in dir: /scratch/afni/tmp3Fxna3/preproc/_run_id_4_subject_id_sub-01_task_id_train_/Resample_T1\n"
       ]
      },
      {
       "output_type": "stream",
       "stream": "stdout",
       "text": [
        "170606-19:32:20,819 workflow INFO:\n",
        "\t Running: 3dresample -prefix sub-01_T1_resample.nii -dxyz 2.400000 2.400000 2.400000 -inset /scratch/afni/tmp3Fxna3/preproc/_run_id_4_subject_id_sub-01_task_id_train_/Resample_T1/sub-01_T1.nii\n"
       ]
      },
      {
       "output_type": "stream",
       "stream": "stdout",
       "text": [
        "170606-19:32:22,123 workflow INFO:\n",
        "\t Executing node Register_functionals.b27 in dir: /scratch/afni/tmpo8UUMS/preproc/_run_id_4_subject_id_sub-01_task_id_train_/Register_functionals\n"
       ]
      },
      {
       "output_type": "stream",
       "stream": "stdout",
       "text": [
        "170606-19:32:22,150 workflow INFO:\n",
        "\t Executing node _Register_functionals0 in dir: /scratch/afni/tmpo8UUMS/preproc/_run_id_4_subject_id_sub-01_task_id_train_/Register_functionals/mapflow/_Register_functionals0\n"
       ]
      },
      {
       "output_type": "stream",
       "stream": "stdout",
       "text": [
        "170606-19:32:22,170 workflow INFO:\n",
        "\t Running: flirt -in /scratch/afni/tmpnbWM55/preproc/_run_id_4_subject_id_sub-01_task_id_train_/Realign_with_MCFLIRT/mapflow/_Realign_with_MCFLIRT0/sub-01_train_4_st_mcf.nii -ref /scratch/afni/tmp3Fxna3/preproc/_run_id_4_subject_id_sub-01_task_id_train_/Resample_T1/sub-01_T1_resample.nii -out sub-01_train_4_st_mcf_flirt.nii -omat sub-01_train_4_st_mcf_flirt.mat\n"
       ]
      },
      {
       "output_type": "stream",
       "stream": "stdout",
       "text": [
        "170606-19:32:36,603 workflow INFO:\n",
        "\t Executing node Strip_skull.b27 in dir: /scratch/afni/tmpsBWwqe/preproc/_run_id_4_subject_id_sub-01_task_id_train_/Strip_skull\n"
       ]
      },
      {
       "output_type": "stream",
       "stream": "stdout",
       "text": [
        "170606-19:32:36,625 workflow INFO:\n",
        "\t Executing node _Strip_skull0 in dir: /scratch/afni/tmpsBWwqe/preproc/_run_id_4_subject_id_sub-01_task_id_train_/Strip_skull/mapflow/_Strip_skull0\n"
       ]
      },
      {
       "output_type": "stream",
       "stream": "stdout",
       "text": [
        "170606-19:32:36,641 workflow INFO:\n",
        "\t Running: bet /scratch/afni/tmpo8UUMS/preproc/_run_id_4_subject_id_sub-01_task_id_train_/Register_functionals/mapflow/_Register_functionals0/sub-01_train_4_st_mcf_flirt.nii /scratch/afni/tmpsBWwqe/preproc/_run_id_4_subject_id_sub-01_task_id_train_/Strip_skull/mapflow/_Strip_skull0/sub-01_train_4_st_mcf_flirt_brain.nii -F\n"
       ]
      },
      {
       "output_type": "stream",
       "stream": "stdout",
       "text": [
        "170606-19:32:42,894 workflow INFO:\n",
        "\t Executing node store_outputs.a0.b27 in dir: /scratch/afni/tmpKTa65W/preproc/_run_id_4_subject_id_sub-01_task_id_train_/_plot_type_rotations/store_outputs\n"
       ]
      },
      {
       "output_type": "stream",
       "stream": "stdout",
       "text": [
        "170606-19:32:43,5 workflow INFO:\n",
        "\t Executing node store_outputs.a1.b27 in dir: /scratch/afni/tmp2DdN8X/preproc/_run_id_4_subject_id_sub-01_task_id_train_/_plot_type_translations/store_outputs\n"
       ]
      },
      {
       "output_type": "stream",
       "stream": "stdout",
       "text": [
        "170606-19:32:43,66 workflow INFO:\n",
        "\t Executing node Get_files.b38 in dir: /scratch/afni/tmpkMEUdJ/preproc/_run_id_3_subject_id_sub-01_task_id_test_/Get_files\n"
       ]
      },
      {
       "output_type": "stream",
       "stream": "stdout",
       "text": [
        "170606-19:32:43,110 workflow INFO:\n",
        "\t Executing node Slice_time_correction.b38 in dir: /scratch/afni/tmpejHp8x/preproc/_run_id_3_subject_id_sub-01_task_id_test_/Slice_time_correction\n"
       ]
      },
      {
       "output_type": "stream",
       "stream": "stdout",
       "text": [
        "170606-19:32:43,131 workflow INFO:\n",
        "\t Executing node _Slice_time_correction0 in dir: /scratch/afni/tmpejHp8x/preproc/_run_id_3_subject_id_sub-01_task_id_test_/Slice_time_correction/mapflow/_Slice_time_correction0\n"
       ]
      },
      {
       "output_type": "stream",
       "stream": "stdout",
       "text": [
        "170606-19:32:43,147 workflow INFO:\n",
        "\t Running: slicetimer --in=/scratch/sanjay/GRT/fmri_data/nifti/sub-01/func/sub-01_test_3.nii --odd --out=/scratch/afni/tmpejHp8x/preproc/_run_id_3_subject_id_sub-01_task_id_test_/Slice_time_correction/mapflow/_Slice_time_correction0/sub-01_test_3_st.nii\n"
       ]
      },
      {
       "output_type": "stream",
       "stream": "stdout",
       "text": [
        "170606-19:33:49,424 workflow INFO:\n",
        "\t Executing node Realign_with_MCFLIRT.b38 in dir: /scratch/afni/tmpo5fmoC/preproc/_run_id_3_subject_id_sub-01_task_id_test_/Realign_with_MCFLIRT\n"
       ]
      },
      {
       "output_type": "stream",
       "stream": "stdout",
       "text": [
        "170606-19:33:49,449 workflow INFO:\n",
        "\t Executing node _Realign_with_MCFLIRT0 in dir: /scratch/afni/tmpo5fmoC/preproc/_run_id_3_subject_id_sub-01_task_id_test_/Realign_with_MCFLIRT/mapflow/_Realign_with_MCFLIRT0\n"
       ]
      },
      {
       "output_type": "stream",
       "stream": "stdout",
       "text": [
        "170606-19:33:49,468 workflow INFO:\n",
        "\t Running: mcflirt -in /scratch/afni/tmpejHp8x/preproc/_run_id_3_subject_id_sub-01_task_id_test_/Slice_time_correction/mapflow/_Slice_time_correction0/sub-01_test_3_st.nii -dof 6 -sinc_final -out /scratch/afni/tmpo5fmoC/preproc/_run_id_3_subject_id_sub-01_task_id_test_/Realign_with_MCFLIRT/mapflow/_Realign_with_MCFLIRT0/sub-01_test_3_st_mcf.nii -mats -plots\n"
       ]
      },
      {
       "output_type": "stream",
       "stream": "stdout",
       "text": [
        "170606-19:48:28,912 workflow INFO:\n",
        "\t Executing node Check_motion_plots.aI.a1.b38 in dir: /scratch/afni/tmpNjF7S0/preproc/_run_id_3_subject_id_sub-01_task_id_test_/_plot_type_translations/Check_motion_plots\n"
       ]
      },
      {
       "output_type": "stream",
       "stream": "stdout",
       "text": [
        "170606-19:48:28,936 workflow INFO:\n",
        "\t Executing node _Check_motion_plots0 in dir: /scratch/afni/tmpNjF7S0/preproc/_run_id_3_subject_id_sub-01_task_id_test_/_plot_type_translations/Check_motion_plots/mapflow/_Check_motion_plots0\n"
       ]
      },
      {
       "output_type": "stream",
       "stream": "stdout",
       "text": [
        "170606-19:48:28,952 workflow INFO:\n",
        "\t Running: fsl_tsplot -i /scratch/afni/tmpo5fmoC/preproc/_run_id_3_subject_id_sub-01_task_id_test_/Realign_with_MCFLIRT/mapflow/_Realign_with_MCFLIRT0/sub-01_test_3_st_mcf.nii.par -o /scratch/afni/tmpo5fmoC/preproc/_run_id_3_subject_id_sub-01_task_id_test_/Realign_with_MCFLIRT/mapflow/_Realign_with_MCFLIRT0/sub-01_test_3_st_mcf.nii_trans.png -t 'MCFLIRT estimated translations (mm)' --start=4 --finish=6 -a x,y,z\n"
       ]
      },
      {
       "output_type": "stream",
       "stream": "stdout",
       "text": [
        "170606-19:48:30,53 workflow INFO:\n",
        "\t Executing node Check_motion_plots.aI.a0.b45 in dir: /scratch/afni/tmp1d_bkR/preproc/_run_id_10_subject_id_sub-01_task_id_test_/_plot_type_rotations/Check_motion_plots\n"
       ]
      },
      {
       "output_type": "stream",
       "stream": "stdout",
       "text": [
        "170606-19:48:30,75 workflow INFO:\n",
        "\t Executing node _Check_motion_plots0 in dir: /scratch/afni/tmp1d_bkR/preproc/_run_id_10_subject_id_sub-01_task_id_test_/_plot_type_rotations/Check_motion_plots/mapflow/_Check_motion_plots0\n"
       ]
      },
      {
       "output_type": "stream",
       "stream": "stdout",
       "text": [
        "170606-19:48:30,91 workflow INFO:\n",
        "\t Running: fsl_tsplot -i /scratch/afni/tmpg7KKlb/preproc/_run_id_10_subject_id_sub-01_task_id_test_/Realign_with_MCFLIRT/mapflow/_Realign_with_MCFLIRT0/sub-01_test_10_st_mcf.nii.par -o /scratch/afni/tmpg7KKlb/preproc/_run_id_10_subject_id_sub-01_task_id_test_/Realign_with_MCFLIRT/mapflow/_Realign_with_MCFLIRT0/sub-01_test_10_st_mcf.nii_rot.png -t 'MCFLIRT estimated rotations (radians)' --start=1 --finish=3 -a x,y,z\n"
       ]
      },
      {
       "output_type": "stream",
       "stream": "stdout",
       "text": [
        "170606-19:48:31,210 workflow INFO:\n",
        "\t Executing node Realign_with_MCFLIRT.b05 in dir: /scratch/afni/tmp1ywM8l/preproc/_run_id_6_subject_id_sub-02_task_id_train_/Realign_with_MCFLIRT\n"
       ]
      },
      {
       "output_type": "stream",
       "stream": "stdout",
       "text": [
        "170606-19:48:31,235 workflow INFO:\n",
        "\t Executing node _Realign_with_MCFLIRT0 in dir: /scratch/afni/tmp1ywM8l/preproc/_run_id_6_subject_id_sub-02_task_id_train_/Realign_with_MCFLIRT/mapflow/_Realign_with_MCFLIRT0\n"
       ]
      },
      {
       "output_type": "stream",
       "stream": "stdout",
       "text": [
        "170606-19:48:31,252 workflow INFO:\n",
        "\t Running: mcflirt -in /scratch/afni/tmpTA7JwS/preproc/_run_id_6_subject_id_sub-02_task_id_train_/Slice_time_correction/mapflow/_Slice_time_correction0/sub-02_train_6_st.nii -dof 6 -sinc_final -out /scratch/afni/tmp1ywM8l/preproc/_run_id_6_subject_id_sub-02_task_id_train_/Realign_with_MCFLIRT/mapflow/_Realign_with_MCFLIRT0/sub-02_train_6_st_mcf.nii -mats -plots\n"
       ]
      },
      {
       "output_type": "stream",
       "stream": "stdout",
       "text": [
        "170606-19:56:46,116 workflow INFO:\n",
        "\t Executing node Check_motion_plots.aI.a1.b05 in dir: /scratch/afni/tmprUydd6/preproc/_run_id_6_subject_id_sub-02_task_id_train_/_plot_type_translations/Check_motion_plots\n"
       ]
      },
      {
       "output_type": "stream",
       "stream": "stdout",
       "text": [
        "170606-19:56:46,138 workflow INFO:\n",
        "\t Executing node _Check_motion_plots0 in dir: /scratch/afni/tmprUydd6/preproc/_run_id_6_subject_id_sub-02_task_id_train_/_plot_type_translations/Check_motion_plots/mapflow/_Check_motion_plots0\n"
       ]
      },
      {
       "output_type": "stream",
       "stream": "stdout",
       "text": [
        "170606-19:56:46,154 workflow INFO:\n",
        "\t Running: fsl_tsplot -i /scratch/afni/tmp1ywM8l/preproc/_run_id_6_subject_id_sub-02_task_id_train_/Realign_with_MCFLIRT/mapflow/_Realign_with_MCFLIRT0/sub-02_train_6_st_mcf.nii.par -o /scratch/afni/tmp1ywM8l/preproc/_run_id_6_subject_id_sub-02_task_id_train_/Realign_with_MCFLIRT/mapflow/_Realign_with_MCFLIRT0/sub-02_train_6_st_mcf.nii_trans.png -t 'MCFLIRT estimated translations (mm)' --start=4 --finish=6 -a x,y,z\n"
       ]
      },
      {
       "output_type": "stream",
       "stream": "stdout",
       "text": [
        "170606-19:56:47,256 workflow INFO:\n",
        "\t Executing node Resample_T1.b45 in dir: /scratch/afni/tmpblZeII/preproc/_run_id_10_subject_id_sub-01_task_id_test_/Resample_T1\n"
       ]
      },
      {
       "output_type": "stream",
       "stream": "stdout",
       "text": [
        "170606-19:56:47,277 workflow INFO:\n",
        "\t Running: 3dresample -prefix sub-01_T1_resample.nii -dxyz 2.400000 2.400000 2.400000 -inset /scratch/afni/tmpblZeII/preproc/_run_id_10_subject_id_sub-01_task_id_test_/Resample_T1/sub-01_T1.nii\n"
       ]
      },
      {
       "output_type": "stream",
       "stream": "stdout",
       "text": [
        "170606-19:56:48,394 workflow INFO:\n",
        "\t Executing node Register_functionals.b45 in dir: /scratch/afni/tmprzFq8G/preproc/_run_id_10_subject_id_sub-01_task_id_test_/Register_functionals\n"
       ]
      },
      {
       "output_type": "stream",
       "stream": "stdout",
       "text": [
        "170606-19:56:48,420 workflow INFO:\n",
        "\t Executing node _Register_functionals0 in dir: /scratch/afni/tmprzFq8G/preproc/_run_id_10_subject_id_sub-01_task_id_test_/Register_functionals/mapflow/_Register_functionals0\n"
       ]
      },
      {
       "output_type": "stream",
       "stream": "stdout",
       "text": [
        "170606-19:56:48,438 workflow INFO:\n",
        "\t Running: flirt -in /scratch/afni/tmpg7KKlb/preproc/_run_id_10_subject_id_sub-01_task_id_test_/Realign_with_MCFLIRT/mapflow/_Realign_with_MCFLIRT0/sub-01_test_10_st_mcf.nii -ref /scratch/afni/tmpblZeII/preproc/_run_id_10_subject_id_sub-01_task_id_test_/Resample_T1/sub-01_T1_resample.nii -out sub-01_test_10_st_mcf_flirt.nii -omat sub-01_test_10_st_mcf_flirt.mat\n"
       ]
      },
      {
       "output_type": "stream",
       "stream": "stdout",
       "text": [
        "170606-19:57:01,868 workflow INFO:\n",
        "\t Executing node Strip_skull.b45 in dir: /scratch/afni/tmpYxq_A3/preproc/_run_id_10_subject_id_sub-01_task_id_test_/Strip_skull\n"
       ]
      },
      {
       "output_type": "stream",
       "stream": "stdout",
       "text": [
        "170606-19:57:01,891 workflow INFO:\n",
        "\t Executing node _Strip_skull0 in dir: /scratch/afni/tmpYxq_A3/preproc/_run_id_10_subject_id_sub-01_task_id_test_/Strip_skull/mapflow/_Strip_skull0\n"
       ]
      },
      {
       "output_type": "stream",
       "stream": "stdout",
       "text": [
        "170606-19:57:01,908 workflow INFO:\n",
        "\t Running: bet /scratch/afni/tmprzFq8G/preproc/_run_id_10_subject_id_sub-01_task_id_test_/Register_functionals/mapflow/_Register_functionals0/sub-01_test_10_st_mcf_flirt.nii /scratch/afni/tmpYxq_A3/preproc/_run_id_10_subject_id_sub-01_task_id_test_/Strip_skull/mapflow/_Strip_skull0/sub-01_test_10_st_mcf_flirt_brain.nii -F\n"
       ]
      },
      {
       "output_type": "stream",
       "stream": "stdout",
       "text": [
        "170606-19:57:09,189 workflow INFO:\n",
        "\t Executing node store_outputs.a1.b45 in dir: /scratch/afni/tmp49HI27/preproc/_run_id_10_subject_id_sub-01_task_id_test_/_plot_type_translations/store_outputs\n"
       ]
      },
      {
       "output_type": "stream",
       "stream": "stdout",
       "text": [
        "170606-19:57:09,287 workflow INFO:\n",
        "\t Executing node store_outputs.a0.b45 in dir: /scratch/afni/tmpqeCrIN/preproc/_run_id_10_subject_id_sub-01_task_id_test_/_plot_type_rotations/store_outputs\n"
       ]
      },
      {
       "output_type": "stream",
       "stream": "stdout",
       "text": [
        "170606-19:57:09,336 workflow INFO:\n",
        "\t Executing node Get_files.b26 in dir: /scratch/afni/tmpcL86SY/preproc/_run_id_3_subject_id_sub-01_task_id_train_/Get_files\n"
       ]
      },
      {
       "output_type": "stream",
       "stream": "stdout",
       "text": [
        "170606-19:57:09,389 workflow INFO:\n",
        "\t Executing node Slice_time_correction.b26 in dir: /scratch/afni/tmpHq5jf7/preproc/_run_id_3_subject_id_sub-01_task_id_train_/Slice_time_correction\n"
       ]
      },
      {
       "output_type": "stream",
       "stream": "stdout",
       "text": [
        "170606-19:57:09,410 workflow INFO:\n",
        "\t Executing node _Slice_time_correction0 in dir: /scratch/afni/tmpHq5jf7/preproc/_run_id_3_subject_id_sub-01_task_id_train_/Slice_time_correction/mapflow/_Slice_time_correction0\n"
       ]
      },
      {
       "output_type": "stream",
       "stream": "stdout",
       "text": [
        "170606-19:57:09,426 workflow INFO:\n",
        "\t Running: slicetimer --in=/scratch/sanjay/GRT/fmri_data/nifti/sub-01/func/sub-01_train_3.nii --odd --out=/scratch/afni/tmpHq5jf7/preproc/_run_id_3_subject_id_sub-01_task_id_train_/Slice_time_correction/mapflow/_Slice_time_correction0/sub-01_train_3_st.nii\n"
       ]
      },
      {
       "output_type": "stream",
       "stream": "stdout",
       "text": [
        "170606-19:57:43,361 workflow INFO:\n",
        "\t Executing node Realign_with_MCFLIRT.b26 in dir: /scratch/afni/tmpSFrES7/preproc/_run_id_3_subject_id_sub-01_task_id_train_/Realign_with_MCFLIRT\n"
       ]
      },
      {
       "output_type": "stream",
       "stream": "stdout",
       "text": [
        "170606-19:57:43,386 workflow INFO:\n",
        "\t Executing node _Realign_with_MCFLIRT0 in dir: /scratch/afni/tmpSFrES7/preproc/_run_id_3_subject_id_sub-01_task_id_train_/Realign_with_MCFLIRT/mapflow/_Realign_with_MCFLIRT0\n"
       ]
      },
      {
       "output_type": "stream",
       "stream": "stdout",
       "text": [
        "170606-19:57:43,405 workflow INFO:\n",
        "\t Running: mcflirt -in /scratch/afni/tmpHq5jf7/preproc/_run_id_3_subject_id_sub-01_task_id_train_/Slice_time_correction/mapflow/_Slice_time_correction0/sub-01_train_3_st.nii -dof 6 -sinc_final -out /scratch/afni/tmpSFrES7/preproc/_run_id_3_subject_id_sub-01_task_id_train_/Realign_with_MCFLIRT/mapflow/_Realign_with_MCFLIRT0/sub-01_train_3_st_mcf.nii -mats -plots\n"
       ]
      },
      {
       "output_type": "stream",
       "stream": "stdout",
       "text": [
        "170606-20:06:18,882 workflow INFO:\n",
        "\t Executing node Check_motion_plots.aI.a1.b26 in dir: /scratch/afni/tmpJLR2WO/preproc/_run_id_3_subject_id_sub-01_task_id_train_/_plot_type_translations/Check_motion_plots\n"
       ]
      },
      {
       "output_type": "stream",
       "stream": "stdout",
       "text": [
        "170606-20:06:18,902 workflow INFO:\n",
        "\t Executing node _Check_motion_plots0 in dir: /scratch/afni/tmpJLR2WO/preproc/_run_id_3_subject_id_sub-01_task_id_train_/_plot_type_translations/Check_motion_plots/mapflow/_Check_motion_plots0\n"
       ]
      },
      {
       "output_type": "stream",
       "stream": "stdout",
       "text": [
        "170606-20:06:18,917 workflow INFO:\n",
        "\t Running: fsl_tsplot -i /scratch/afni/tmpSFrES7/preproc/_run_id_3_subject_id_sub-01_task_id_train_/Realign_with_MCFLIRT/mapflow/_Realign_with_MCFLIRT0/sub-01_train_3_st_mcf.nii.par -o /scratch/afni/tmpSFrES7/preproc/_run_id_3_subject_id_sub-01_task_id_train_/Realign_with_MCFLIRT/mapflow/_Realign_with_MCFLIRT0/sub-01_train_3_st_mcf.nii_trans.png -t 'MCFLIRT estimated translations (mm)' --start=4 --finish=6 -a x,y,z\n"
       ]
      },
      {
       "output_type": "stream",
       "stream": "stdout",
       "text": [
        "170606-20:06:20,23 workflow INFO:\n",
        "\t Executing node Realign_with_MCFLIRT.b36 in dir: /scratch/afni/tmp01d7o4/preproc/_run_id_1_subject_id_sub-01_task_id_test_/Realign_with_MCFLIRT\n"
       ]
      },
      {
       "output_type": "stream",
       "stream": "stdout",
       "text": [
        "170606-20:06:20,49 workflow INFO:\n",
        "\t Executing node _Realign_with_MCFLIRT0 in dir: /scratch/afni/tmp01d7o4/preproc/_run_id_1_subject_id_sub-01_task_id_test_/Realign_with_MCFLIRT/mapflow/_Realign_with_MCFLIRT0\n"
       ]
      },
      {
       "output_type": "stream",
       "stream": "stdout",
       "text": [
        "170606-20:06:20,66 workflow INFO:\n",
        "\t Running: mcflirt -in /scratch/afni/tmp2PGlub/preproc/_run_id_1_subject_id_sub-01_task_id_test_/Slice_time_correction/mapflow/_Slice_time_correction0/sub-01_test_1_st.nii -dof 6 -sinc_final -out /scratch/afni/tmp01d7o4/preproc/_run_id_1_subject_id_sub-01_task_id_test_/Realign_with_MCFLIRT/mapflow/_Realign_with_MCFLIRT0/sub-01_test_1_st_mcf.nii -mats -plots\n"
       ]
      },
      {
       "output_type": "stream",
       "stream": "stdout",
       "text": [
        "170606-20:21:28,385 workflow INFO:\n",
        "\t Executing node Check_motion_plots.aI.a1.b36 in dir: /scratch/afni/tmpdb4TPA/preproc/_run_id_1_subject_id_sub-01_task_id_test_/_plot_type_translations/Check_motion_plots\n"
       ]
      },
      {
       "output_type": "stream",
       "stream": "stdout",
       "text": [
        "170606-20:21:28,408 workflow INFO:\n",
        "\t Executing node _Check_motion_plots0 in dir: /scratch/afni/tmpdb4TPA/preproc/_run_id_1_subject_id_sub-01_task_id_test_/_plot_type_translations/Check_motion_plots/mapflow/_Check_motion_plots0\n"
       ]
      },
      {
       "output_type": "stream",
       "stream": "stdout",
       "text": [
        "170606-20:21:28,424 workflow INFO:\n",
        "\t Running: fsl_tsplot -i /scratch/afni/tmp01d7o4/preproc/_run_id_1_subject_id_sub-01_task_id_test_/Realign_with_MCFLIRT/mapflow/_Realign_with_MCFLIRT0/sub-01_test_1_st_mcf.nii.par -o /scratch/afni/tmp01d7o4/preproc/_run_id_1_subject_id_sub-01_task_id_test_/Realign_with_MCFLIRT/mapflow/_Realign_with_MCFLIRT0/sub-01_test_1_st_mcf.nii_trans.png -t 'MCFLIRT estimated translations (mm)' --start=4 --finish=6 -a x,y,z\n"
       ]
      },
      {
       "output_type": "stream",
       "stream": "stdout",
       "text": [
        "170606-20:21:29,529 workflow INFO:\n",
        "\t Executing node Check_motion_plots.aI.a0.b36 in dir: /scratch/afni/tmpUBJq6m/preproc/_run_id_1_subject_id_sub-01_task_id_test_/_plot_type_rotations/Check_motion_plots\n"
       ]
      },
      {
       "output_type": "stream",
       "stream": "stdout",
       "text": [
        "170606-20:21:29,552 workflow INFO:\n",
        "\t Executing node _Check_motion_plots0 in dir: /scratch/afni/tmpUBJq6m/preproc/_run_id_1_subject_id_sub-01_task_id_test_/_plot_type_rotations/Check_motion_plots/mapflow/_Check_motion_plots0\n"
       ]
      },
      {
       "output_type": "stream",
       "stream": "stdout",
       "text": [
        "170606-20:21:29,568 workflow INFO:\n",
        "\t Running: fsl_tsplot -i /scratch/afni/tmp01d7o4/preproc/_run_id_1_subject_id_sub-01_task_id_test_/Realign_with_MCFLIRT/mapflow/_Realign_with_MCFLIRT0/sub-01_test_1_st_mcf.nii.par -o /scratch/afni/tmp01d7o4/preproc/_run_id_1_subject_id_sub-01_task_id_test_/Realign_with_MCFLIRT/mapflow/_Realign_with_MCFLIRT0/sub-01_test_1_st_mcf.nii_rot.png -t 'MCFLIRT estimated rotations (radians)' --start=1 --finish=3 -a x,y,z\n"
       ]
      },
      {
       "output_type": "stream",
       "stream": "stdout",
       "text": [
        "170606-20:21:30,688 workflow INFO:\n",
        "\t Executing node Resample_T1.b21 in dir: /scratch/afni/tmpHSu953/preproc/_run_id_10_subject_id_sub-02_task_id_test_/Resample_T1\n"
       ]
      },
      {
       "output_type": "stream",
       "stream": "stdout",
       "text": [
        "170606-20:21:30,709 workflow INFO:\n",
        "\t Running: 3dresample -prefix sub-02_T1_resample.nii -dxyz 2.400000 2.400000 2.400000 -inset /scratch/afni/tmpHSu953/preproc/_run_id_10_subject_id_sub-02_task_id_test_/Resample_T1/sub-02_T1.nii\n"
       ]
      },
      {
       "output_type": "stream",
       "stream": "stdout",
       "text": [
        "170606-20:21:31,835 workflow INFO:\n",
        "\t Executing node Register_functionals.b21 in dir: /scratch/afni/tmpKf9xbg/preproc/_run_id_10_subject_id_sub-02_task_id_test_/Register_functionals\n"
       ]
      },
      {
       "output_type": "stream",
       "stream": "stdout",
       "text": [
        "170606-20:21:31,864 workflow INFO:\n",
        "\t Executing node _Register_functionals0 in dir: /scratch/afni/tmpKf9xbg/preproc/_run_id_10_subject_id_sub-02_task_id_test_/Register_functionals/mapflow/_Register_functionals0\n"
       ]
      },
      {
       "output_type": "stream",
       "stream": "stdout",
       "text": [
        "170606-20:21:31,883 workflow INFO:\n",
        "\t Running: flirt -in /scratch/afni/tmpYMDwvd/preproc/_run_id_10_subject_id_sub-02_task_id_test_/Realign_with_MCFLIRT/mapflow/_Realign_with_MCFLIRT0/sub-02_test_10_st_mcf.nii -ref /scratch/afni/tmpHSu953/preproc/_run_id_10_subject_id_sub-02_task_id_test_/Resample_T1/sub-02_T1_resample.nii -out sub-02_test_10_st_mcf_flirt.nii -omat sub-02_test_10_st_mcf_flirt.mat\n"
       ]
      },
      {
       "output_type": "stream",
       "stream": "stdout",
       "text": [
        "170606-20:21:47,350 workflow INFO:\n",
        "\t Executing node Strip_skull.b21 in dir: /scratch/afni/tmpGAKLh3/preproc/_run_id_10_subject_id_sub-02_task_id_test_/Strip_skull\n"
       ]
      },
      {
       "output_type": "stream",
       "stream": "stdout",
       "text": [
        "170606-20:21:47,375 workflow INFO:\n",
        "\t Executing node _Strip_skull0 in dir: /scratch/afni/tmpGAKLh3/preproc/_run_id_10_subject_id_sub-02_task_id_test_/Strip_skull/mapflow/_Strip_skull0\n"
       ]
      },
      {
       "output_type": "stream",
       "stream": "stdout",
       "text": [
        "170606-20:21:47,394 workflow INFO:\n",
        "\t Running: bet /scratch/afni/tmpKf9xbg/preproc/_run_id_10_subject_id_sub-02_task_id_test_/Register_functionals/mapflow/_Register_functionals0/sub-02_test_10_st_mcf_flirt.nii /scratch/afni/tmpGAKLh3/preproc/_run_id_10_subject_id_sub-02_task_id_test_/Strip_skull/mapflow/_Strip_skull0/sub-02_test_10_st_mcf_flirt_brain.nii -F\n"
       ]
      },
      {
       "output_type": "stream",
       "stream": "stdout",
       "text": [
        "170606-20:21:55,202 workflow INFO:\n",
        "\t Executing node store_outputs.a1.b21 in dir: /scratch/afni/tmp57ntua/preproc/_run_id_10_subject_id_sub-02_task_id_test_/_plot_type_translations/store_outputs\n"
       ]
      },
      {
       "output_type": "stream",
       "stream": "stdout",
       "text": [
        "170606-20:21:55,307 workflow INFO:\n",
        "\t Executing node store_outputs.a0.b21 in dir: /scratch/afni/tmpHaswda/preproc/_run_id_10_subject_id_sub-02_task_id_test_/_plot_type_rotations/store_outputs\n"
       ]
      },
      {
       "output_type": "stream",
       "stream": "stdout",
       "text": [
        "170606-20:21:55,355 workflow INFO:\n",
        "\t Executing node Get_files.b44 in dir: /scratch/afni/tmpeTfKad/preproc/_run_id_9_subject_id_sub-01_task_id_test_/Get_files\n"
       ]
      },
      {
       "output_type": "stream",
       "stream": "stdout",
       "text": [
        "170606-20:21:55,402 workflow INFO:\n",
        "\t Executing node Slice_time_correction.b44 in dir: /scratch/afni/tmpYMkW48/preproc/_run_id_9_subject_id_sub-01_task_id_test_/Slice_time_correction\n"
       ]
      },
      {
       "output_type": "stream",
       "stream": "stdout",
       "text": [
        "170606-20:21:55,423 workflow INFO:\n",
        "\t Executing node _Slice_time_correction0 in dir: /scratch/afni/tmpYMkW48/preproc/_run_id_9_subject_id_sub-01_task_id_test_/Slice_time_correction/mapflow/_Slice_time_correction0\n"
       ]
      },
      {
       "output_type": "stream",
       "stream": "stdout",
       "text": [
        "170606-20:21:55,440 workflow INFO:\n",
        "\t Running: slicetimer --in=/scratch/sanjay/GRT/fmri_data/nifti/sub-01/func/sub-01_test_9.nii --odd --out=/scratch/afni/tmpYMkW48/preproc/_run_id_9_subject_id_sub-01_task_id_test_/Slice_time_correction/mapflow/_Slice_time_correction0/sub-01_test_9_st.nii\n"
       ]
      },
      {
       "output_type": "stream",
       "stream": "stdout",
       "text": [
        "170606-20:23:02,702 workflow INFO:\n",
        "\t Executing node Check_motion_plots.aI.a0.b26 in dir: /scratch/afni/tmplAVJkI/preproc/_run_id_3_subject_id_sub-01_task_id_train_/_plot_type_rotations/Check_motion_plots\n"
       ]
      },
      {
       "output_type": "stream",
       "stream": "stdout",
       "text": [
        "170606-20:23:02,726 workflow INFO:\n",
        "\t Executing node _Check_motion_plots0 in dir: /scratch/afni/tmplAVJkI/preproc/_run_id_3_subject_id_sub-01_task_id_train_/_plot_type_rotations/Check_motion_plots/mapflow/_Check_motion_plots0\n"
       ]
      },
      {
       "output_type": "stream",
       "stream": "stdout",
       "text": [
        "170606-20:23:02,746 workflow INFO:\n",
        "\t Running: fsl_tsplot -i /scratch/afni/tmpSFrES7/preproc/_run_id_3_subject_id_sub-01_task_id_train_/Realign_with_MCFLIRT/mapflow/_Realign_with_MCFLIRT0/sub-01_train_3_st_mcf.nii.par -o /scratch/afni/tmpSFrES7/preproc/_run_id_3_subject_id_sub-01_task_id_train_/Realign_with_MCFLIRT/mapflow/_Realign_with_MCFLIRT0/sub-01_train_3_st_mcf.nii_rot.png -t 'MCFLIRT estimated rotations (radians)' --start=1 --finish=3 -a x,y,z\n"
       ]
      },
      {
       "output_type": "stream",
       "stream": "stdout",
       "text": [
        "170606-20:23:03,841 workflow INFO:\n",
        "\t Executing node Get_files.b03 in dir: /scratch/afni/tmpXIPviz/preproc/_run_id_4_subject_id_sub-02_task_id_train_/Get_files\n"
       ]
      },
      {
       "output_type": "stream",
       "stream": "stdout",
       "text": [
        "170606-20:23:03,887 workflow INFO:\n",
        "\t Executing node Resample_T1.b03 in dir: /scratch/afni/tmpM9G8wp/preproc/_run_id_4_subject_id_sub-02_task_id_train_/Resample_T1\n"
       ]
      },
      {
       "output_type": "stream",
       "stream": "stdout",
       "text": [
        "170606-20:23:03,907 workflow INFO:\n",
        "\t Running: 3dresample -prefix sub-02_T1_resample.nii -dxyz 2.400000 2.400000 2.400000 -inset /scratch/afni/tmpM9G8wp/preproc/_run_id_4_subject_id_sub-02_task_id_train_/Resample_T1/sub-02_T1.nii\n"
       ]
      },
      {
       "output_type": "stream",
       "stream": "stdout",
       "text": [
        "170606-20:23:04,997 workflow INFO:\n",
        "\t Executing node Slice_time_correction.b03 in dir: /scratch/afni/tmpm_S0AW/preproc/_run_id_4_subject_id_sub-02_task_id_train_/Slice_time_correction\n"
       ]
      },
      {
       "output_type": "stream",
       "stream": "stdout",
       "text": [
        "170606-20:23:05,22 workflow INFO:\n",
        "\t Executing node _Slice_time_correction0 in dir: /scratch/afni/tmpm_S0AW/preproc/_run_id_4_subject_id_sub-02_task_id_train_/Slice_time_correction/mapflow/_Slice_time_correction0\n"
       ]
      },
      {
       "output_type": "stream",
       "stream": "stdout",
       "text": [
        "170606-20:23:05,40 workflow INFO:\n",
        "\t Running: slicetimer --in=/scratch/sanjay/GRT/fmri_data/nifti/sub-02/func/sub-02_train_4.nii --odd --out=/scratch/afni/tmpm_S0AW/preproc/_run_id_4_subject_id_sub-02_task_id_train_/Slice_time_correction/mapflow/_Slice_time_correction0/sub-02_train_4_st.nii\n"
       ]
      },
      {
       "output_type": "stream",
       "stream": "stdout",
       "text": [
        "170606-20:23:41,16 workflow INFO:\n",
        "\t Executing node Realign_with_MCFLIRT.b44 in dir: /scratch/afni/tmpaUGdA1/preproc/_run_id_9_subject_id_sub-01_task_id_test_/Realign_with_MCFLIRT\n"
       ]
      },
      {
       "output_type": "stream",
       "stream": "stdout",
       "text": [
        "170606-20:23:41,38 workflow INFO:\n",
        "\t Executing node _Realign_with_MCFLIRT0 in dir: /scratch/afni/tmpaUGdA1/preproc/_run_id_9_subject_id_sub-01_task_id_test_/Realign_with_MCFLIRT/mapflow/_Realign_with_MCFLIRT0\n"
       ]
      },
      {
       "output_type": "stream",
       "stream": "stdout",
       "text": [
        "170606-20:23:41,60 workflow INFO:\n",
        "\t Running: mcflirt -in /scratch/afni/tmpYMkW48/preproc/_run_id_9_subject_id_sub-01_task_id_test_/Slice_time_correction/mapflow/_Slice_time_correction0/sub-01_test_9_st.nii -dof 6 -sinc_final -out /scratch/afni/tmpaUGdA1/preproc/_run_id_9_subject_id_sub-01_task_id_test_/Realign_with_MCFLIRT/mapflow/_Realign_with_MCFLIRT0/sub-01_test_9_st_mcf.nii -mats -plots\n"
       ]
      },
      {
       "output_type": "stream",
       "stream": "stdout",
       "text": [
        "170606-20:38:27,793 workflow INFO:\n",
        "\t Executing node Check_motion_plots.aI.a1.b44 in dir: /scratch/afni/tmpg1XHiI/preproc/_run_id_9_subject_id_sub-01_task_id_test_/_plot_type_translations/Check_motion_plots\n"
       ]
      },
      {
       "output_type": "stream",
       "stream": "stdout",
       "text": [
        "170606-20:38:27,818 workflow INFO:\n",
        "\t Executing node _Check_motion_plots0 in dir: /scratch/afni/tmpg1XHiI/preproc/_run_id_9_subject_id_sub-01_task_id_test_/_plot_type_translations/Check_motion_plots/mapflow/_Check_motion_plots0\n"
       ]
      },
      {
       "output_type": "stream",
       "stream": "stdout",
       "text": [
        "170606-20:38:27,835 workflow INFO:\n",
        "\t Running: fsl_tsplot -i /scratch/afni/tmpaUGdA1/preproc/_run_id_9_subject_id_sub-01_task_id_test_/Realign_with_MCFLIRT/mapflow/_Realign_with_MCFLIRT0/sub-01_test_9_st_mcf.nii.par -o /scratch/afni/tmpaUGdA1/preproc/_run_id_9_subject_id_sub-01_task_id_test_/Realign_with_MCFLIRT/mapflow/_Realign_with_MCFLIRT0/sub-01_test_9_st_mcf.nii_trans.png -t 'MCFLIRT estimated translations (mm)' --start=4 --finish=6 -a x,y,z\n"
       ]
      },
      {
       "output_type": "stream",
       "stream": "stdout",
       "text": [
        "170606-20:38:28,956 workflow INFO:\n",
        "\t Executing node Resample_T1.b26 in dir: /scratch/afni/tmpFP0zU0/preproc/_run_id_3_subject_id_sub-01_task_id_train_/Resample_T1\n"
       ]
      },
      {
       "output_type": "stream",
       "stream": "stdout",
       "text": [
        "170606-20:38:28,975 workflow INFO:\n",
        "\t Running: 3dresample -prefix sub-01_T1_resample.nii -dxyz 2.400000 2.400000 2.400000 -inset /scratch/afni/tmpFP0zU0/preproc/_run_id_3_subject_id_sub-01_task_id_train_/Resample_T1/sub-01_T1.nii\n"
       ]
      },
      {
       "output_type": "stream",
       "stream": "stdout",
       "text": [
        "170606-20:38:30,85 workflow INFO:\n",
        "\t Executing node Register_functionals.b26 in dir: /scratch/afni/tmpEXz5N9/preproc/_run_id_3_subject_id_sub-01_task_id_train_/Register_functionals\n"
       ]
      },
      {
       "output_type": "stream",
       "stream": "stdout",
       "text": [
        "170606-20:38:30,116 workflow INFO:\n",
        "\t Executing node _Register_functionals0 in dir: /scratch/afni/tmpEXz5N9/preproc/_run_id_3_subject_id_sub-01_task_id_train_/Register_functionals/mapflow/_Register_functionals0\n"
       ]
      },
      {
       "output_type": "stream",
       "stream": "stdout",
       "text": [
        "170606-20:38:30,140 workflow INFO:\n",
        "\t Running: flirt -in /scratch/afni/tmpSFrES7/preproc/_run_id_3_subject_id_sub-01_task_id_train_/Realign_with_MCFLIRT/mapflow/_Realign_with_MCFLIRT0/sub-01_train_3_st_mcf.nii -ref /scratch/afni/tmpFP0zU0/preproc/_run_id_3_subject_id_sub-01_task_id_train_/Resample_T1/sub-01_T1_resample.nii -out sub-01_train_3_st_mcf_flirt.nii -omat sub-01_train_3_st_mcf_flirt.mat\n"
       ]
      },
      {
       "output_type": "stream",
       "stream": "stdout",
       "text": [
        "170606-20:38:49,720 workflow INFO:\n",
        "\t Executing node Strip_skull.b26 in dir: /scratch/afni/tmpQeDKXm/preproc/_run_id_3_subject_id_sub-01_task_id_train_/Strip_skull\n"
       ]
      },
      {
       "output_type": "stream",
       "stream": "stdout",
       "text": [
        "170606-20:38:49,750 workflow INFO:\n",
        "\t Executing node _Strip_skull0 in dir: /scratch/afni/tmpQeDKXm/preproc/_run_id_3_subject_id_sub-01_task_id_train_/Strip_skull/mapflow/_Strip_skull0\n"
       ]
      },
      {
       "output_type": "stream",
       "stream": "stdout",
       "text": [
        "170606-20:38:49,765 workflow INFO:\n",
        "\t Running: bet /scratch/afni/tmpEXz5N9/preproc/_run_id_3_subject_id_sub-01_task_id_train_/Register_functionals/mapflow/_Register_functionals0/sub-01_train_3_st_mcf_flirt.nii /scratch/afni/tmpQeDKXm/preproc/_run_id_3_subject_id_sub-01_task_id_train_/Strip_skull/mapflow/_Strip_skull0/sub-01_train_3_st_mcf_flirt_brain.nii -F\n"
       ]
      },
      {
       "output_type": "stream",
       "stream": "stdout",
       "text": [
        "170606-20:38:56,29 workflow INFO:\n",
        "\t Executing node store_outputs.a0.b26 in dir: /scratch/afni/tmpqdI7iE/preproc/_run_id_3_subject_id_sub-01_task_id_train_/_plot_type_rotations/store_outputs\n"
       ]
      },
      {
       "output_type": "stream",
       "stream": "stdout",
       "text": [
        "170606-20:38:56,137 workflow INFO:\n",
        "\t Executing node store_outputs.a1.b26 in dir: /scratch/afni/tmpaFPglE/preproc/_run_id_3_subject_id_sub-01_task_id_train_/_plot_type_translations/store_outputs\n"
       ]
      },
      {
       "output_type": "stream",
       "stream": "stdout",
       "text": [
        "170606-20:38:56,188 workflow INFO:\n",
        "\t Executing node Check_motion_plots.aI.a0.b44 in dir: /scratch/afni/tmpooEzN0/preproc/_run_id_9_subject_id_sub-01_task_id_test_/_plot_type_rotations/Check_motion_plots\n"
       ]
      },
      {
       "output_type": "stream",
       "stream": "stdout",
       "text": [
        "170606-20:38:56,209 workflow INFO:\n",
        "\t Executing node _Check_motion_plots0 in dir: /scratch/afni/tmpooEzN0/preproc/_run_id_9_subject_id_sub-01_task_id_test_/_plot_type_rotations/Check_motion_plots/mapflow/_Check_motion_plots0\n"
       ]
      },
      {
       "output_type": "stream",
       "stream": "stdout",
       "text": [
        "170606-20:38:56,225 workflow INFO:\n",
        "\t Running: fsl_tsplot -i /scratch/afni/tmpaUGdA1/preproc/_run_id_9_subject_id_sub-01_task_id_test_/Realign_with_MCFLIRT/mapflow/_Realign_with_MCFLIRT0/sub-01_test_9_st_mcf.nii.par -o /scratch/afni/tmpaUGdA1/preproc/_run_id_9_subject_id_sub-01_task_id_test_/Realign_with_MCFLIRT/mapflow/_Realign_with_MCFLIRT0/sub-01_test_9_st_mcf.nii_rot.png -t 'MCFLIRT estimated rotations (radians)' --start=1 --finish=3 -a x,y,z\n"
       ]
      },
      {
       "output_type": "stream",
       "stream": "stdout",
       "text": [
        "170606-20:38:57,343 workflow INFO:\n",
        "\t Executing node Realign_with_MCFLIRT.b31 in dir: /scratch/afni/tmpeIQNRk/preproc/_run_id_8_subject_id_sub-01_task_id_train_/Realign_with_MCFLIRT\n"
       ]
      },
      {
       "output_type": "stream",
       "stream": "stdout",
       "text": [
        "170606-20:38:57,372 workflow INFO:\n",
        "\t Executing node _Realign_with_MCFLIRT0 in dir: /scratch/afni/tmpeIQNRk/preproc/_run_id_8_subject_id_sub-01_task_id_train_/Realign_with_MCFLIRT/mapflow/_Realign_with_MCFLIRT0\n"
       ]
      },
      {
       "output_type": "stream",
       "stream": "stdout",
       "text": [
        "170606-20:38:57,389 workflow INFO:\n",
        "\t Running: mcflirt -in /scratch/afni/tmpwO1v1j/preproc/_run_id_8_subject_id_sub-01_task_id_train_/Slice_time_correction/mapflow/_Slice_time_correction0/sub-01_train_8_st.nii -dof 6 -sinc_final -out /scratch/afni/tmpeIQNRk/preproc/_run_id_8_subject_id_sub-01_task_id_train_/Realign_with_MCFLIRT/mapflow/_Realign_with_MCFLIRT0/sub-01_train_8_st_mcf.nii -mats -plots\n"
       ]
      },
      {
       "output_type": "stream",
       "stream": "stdout",
       "text": [
        "170606-20:47:15,453 workflow INFO:\n",
        "\t Executing node Check_motion_plots.aI.a1.b31 in dir: /scratch/afni/tmpmCXlDA/preproc/_run_id_8_subject_id_sub-01_task_id_train_/_plot_type_translations/Check_motion_plots\n"
       ]
      },
      {
       "output_type": "stream",
       "stream": "stdout",
       "text": [
        "170606-20:47:15,501 workflow INFO:\n",
        "\t Executing node _Check_motion_plots0 in dir: /scratch/afni/tmpmCXlDA/preproc/_run_id_8_subject_id_sub-01_task_id_train_/_plot_type_translations/Check_motion_plots/mapflow/_Check_motion_plots0\n"
       ]
      },
      {
       "output_type": "stream",
       "stream": "stdout",
       "text": [
        "170606-20:47:15,517 workflow INFO:\n",
        "\t Running: fsl_tsplot -i /scratch/afni/tmpeIQNRk/preproc/_run_id_8_subject_id_sub-01_task_id_train_/Realign_with_MCFLIRT/mapflow/_Realign_with_MCFLIRT0/sub-01_train_8_st_mcf.nii.par -o /scratch/afni/tmpeIQNRk/preproc/_run_id_8_subject_id_sub-01_task_id_train_/Realign_with_MCFLIRT/mapflow/_Realign_with_MCFLIRT0/sub-01_train_8_st_mcf.nii_trans.png -t 'MCFLIRT estimated translations (mm)' --start=4 --finish=6 -a x,y,z\n"
       ]
      },
      {
       "output_type": "stream",
       "stream": "stdout",
       "text": [
        "170606-20:47:16,660 workflow INFO:\n",
        "\t Executing node Register_functionals.b31 in dir: /scratch/afni/tmpTPkgdT/preproc/_run_id_8_subject_id_sub-01_task_id_train_/Register_functionals\n"
       ]
      },
      {
       "output_type": "stream",
       "stream": "stdout",
       "text": [
        "170606-20:47:16,690 workflow INFO:\n",
        "\t Executing node _Register_functionals0 in dir: /scratch/afni/tmpTPkgdT/preproc/_run_id_8_subject_id_sub-01_task_id_train_/Register_functionals/mapflow/_Register_functionals0\n"
       ]
      },
      {
       "output_type": "stream",
       "stream": "stdout",
       "text": [
        "170606-20:47:16,710 workflow INFO:\n",
        "\t Running: flirt -in /scratch/afni/tmpeIQNRk/preproc/_run_id_8_subject_id_sub-01_task_id_train_/Realign_with_MCFLIRT/mapflow/_Realign_with_MCFLIRT0/sub-01_train_8_st_mcf.nii -ref /scratch/afni/tmp1iKHGw/preproc/_run_id_8_subject_id_sub-01_task_id_train_/Resample_T1/sub-01_T1_resample.nii -out sub-01_train_8_st_mcf_flirt.nii -omat sub-01_train_8_st_mcf_flirt.mat\n"
       ]
      },
      {
       "output_type": "stream",
       "stream": "stdout",
       "text": [
        "170606-20:47:31,659 workflow INFO:\n",
        "\t Executing node Check_motion_plots.aI.a0.b31 in dir: /scratch/afni/tmpR0BRte/preproc/_run_id_8_subject_id_sub-01_task_id_train_/_plot_type_rotations/Check_motion_plots\n"
       ]
      },
      {
       "output_type": "stream",
       "stream": "stdout",
       "text": [
        "170606-20:47:31,681 workflow INFO:\n",
        "\t Executing node _Check_motion_plots0 in dir: /scratch/afni/tmpR0BRte/preproc/_run_id_8_subject_id_sub-01_task_id_train_/_plot_type_rotations/Check_motion_plots/mapflow/_Check_motion_plots0\n"
       ]
      },
      {
       "output_type": "stream",
       "stream": "stdout",
       "text": [
        "170606-20:47:31,697 workflow INFO:\n",
        "\t Running: fsl_tsplot -i /scratch/afni/tmpeIQNRk/preproc/_run_id_8_subject_id_sub-01_task_id_train_/Realign_with_MCFLIRT/mapflow/_Realign_with_MCFLIRT0/sub-01_train_8_st_mcf.nii.par -o /scratch/afni/tmpeIQNRk/preproc/_run_id_8_subject_id_sub-01_task_id_train_/Realign_with_MCFLIRT/mapflow/_Realign_with_MCFLIRT0/sub-01_train_8_st_mcf.nii_rot.png -t 'MCFLIRT estimated rotations (radians)' --start=1 --finish=3 -a x,y,z\n"
       ]
      },
      {
       "output_type": "stream",
       "stream": "stdout",
       "text": [
        "170606-20:47:32,796 workflow INFO:\n",
        "\t Executing node Resample_T1.b44 in dir: /scratch/afni/tmpDBp4VO/preproc/_run_id_9_subject_id_sub-01_task_id_test_/Resample_T1\n"
       ]
      },
      {
       "output_type": "stream",
       "stream": "stdout",
       "text": [
        "170606-20:47:32,816 workflow INFO:\n",
        "\t Running: 3dresample -prefix sub-01_T1_resample.nii -dxyz 2.400000 2.400000 2.400000 -inset /scratch/afni/tmpDBp4VO/preproc/_run_id_9_subject_id_sub-01_task_id_test_/Resample_T1/sub-01_T1.nii\n"
       ]
      },
      {
       "output_type": "stream",
       "stream": "stdout",
       "text": [
        "170606-20:47:33,912 workflow INFO:\n",
        "\t Executing node Register_functionals.b44 in dir: /scratch/afni/tmpey9avj/preproc/_run_id_9_subject_id_sub-01_task_id_test_/Register_functionals\n"
       ]
      },
      {
       "output_type": "stream",
       "stream": "stdout",
       "text": [
        "170606-20:47:33,937 workflow INFO:\n",
        "\t Executing node _Register_functionals0 in dir: /scratch/afni/tmpey9avj/preproc/_run_id_9_subject_id_sub-01_task_id_test_/Register_functionals/mapflow/_Register_functionals0\n"
       ]
      },
      {
       "output_type": "stream",
       "stream": "stdout",
       "text": [
        "170606-20:47:33,957 workflow INFO:\n",
        "\t Running: flirt -in /scratch/afni/tmpaUGdA1/preproc/_run_id_9_subject_id_sub-01_task_id_test_/Realign_with_MCFLIRT/mapflow/_Realign_with_MCFLIRT0/sub-01_test_9_st_mcf.nii -ref /scratch/afni/tmpDBp4VO/preproc/_run_id_9_subject_id_sub-01_task_id_test_/Resample_T1/sub-01_T1_resample.nii -out sub-01_test_9_st_mcf_flirt.nii -omat sub-01_test_9_st_mcf_flirt.mat\n"
       ]
      },
      {
       "output_type": "stream",
       "stream": "stdout",
       "text": [
        "170606-20:47:47,366 workflow INFO:\n",
        "\t Executing node Strip_skull.b44 in dir: /scratch/afni/tmpcN632y/preproc/_run_id_9_subject_id_sub-01_task_id_test_/Strip_skull\n"
       ]
      },
      {
       "output_type": "stream",
       "stream": "stdout",
       "text": [
        "170606-20:47:47,387 workflow INFO:\n",
        "\t Executing node _Strip_skull0 in dir: /scratch/afni/tmpcN632y/preproc/_run_id_9_subject_id_sub-01_task_id_test_/Strip_skull/mapflow/_Strip_skull0\n"
       ]
      },
      {
       "output_type": "stream",
       "stream": "stdout",
       "text": [
        "170606-20:47:47,405 workflow INFO:\n",
        "\t Running: bet /scratch/afni/tmpey9avj/preproc/_run_id_9_subject_id_sub-01_task_id_test_/Register_functionals/mapflow/_Register_functionals0/sub-01_test_9_st_mcf_flirt.nii /scratch/afni/tmpcN632y/preproc/_run_id_9_subject_id_sub-01_task_id_test_/Strip_skull/mapflow/_Strip_skull0/sub-01_test_9_st_mcf_flirt_brain.nii -F\n"
       ]
      },
      {
       "output_type": "stream",
       "stream": "stdout",
       "text": [
        "170606-20:47:54,691 workflow INFO:\n",
        "\t Executing node store_outputs.a0.b44 in dir: /scratch/afni/tmpEJRe6w/preproc/_run_id_9_subject_id_sub-01_task_id_test_/_plot_type_rotations/store_outputs\n"
       ]
      },
      {
       "output_type": "stream",
       "stream": "stdout",
       "text": [
        "170606-20:47:54,780 workflow INFO:\n",
        "\t Executing node store_outputs.a1.b44 in dir: /scratch/afni/tmpN75W4_/preproc/_run_id_9_subject_id_sub-01_task_id_test_/_plot_type_translations/store_outputs\n"
       ]
      },
      {
       "output_type": "stream",
       "stream": "stdout",
       "text": [
        "170606-20:47:54,823 workflow INFO:\n",
        "\t Executing node Get_files.b25 in dir: /scratch/afni/tmpsoSPvb/preproc/_run_id_2_subject_id_sub-01_task_id_train_/Get_files\n"
       ]
      },
      {
       "output_type": "stream",
       "stream": "stdout",
       "text": [
        "170606-20:47:54,872 workflow INFO:\n",
        "\t Executing node Slice_time_correction.b25 in dir: /scratch/afni/tmpcHqFhk/preproc/_run_id_2_subject_id_sub-01_task_id_train_/Slice_time_correction\n"
       ]
      },
      {
       "output_type": "stream",
       "stream": "stdout",
       "text": [
        "170606-20:47:54,893 workflow INFO:\n",
        "\t Executing node _Slice_time_correction0 in dir: /scratch/afni/tmpcHqFhk/preproc/_run_id_2_subject_id_sub-01_task_id_train_/Slice_time_correction/mapflow/_Slice_time_correction0\n"
       ]
      },
      {
       "output_type": "stream",
       "stream": "stdout",
       "text": [
        "170606-20:47:54,909 workflow INFO:\n",
        "\t Running: slicetimer --in=/scratch/sanjay/GRT/fmri_data/nifti/sub-01/func/sub-01_train_2.nii --odd --out=/scratch/afni/tmpcHqFhk/preproc/_run_id_2_subject_id_sub-01_task_id_train_/Slice_time_correction/mapflow/_Slice_time_correction0/sub-01_train_2_st.nii\n"
       ]
      },
      {
       "output_type": "stream",
       "stream": "stdout",
       "text": [
        "170606-20:48:30,378 workflow INFO:\n",
        "\t Executing node Realign_with_MCFLIRT.b25 in dir: /scratch/afni/tmpO7PWKa/preproc/_run_id_2_subject_id_sub-01_task_id_train_/Realign_with_MCFLIRT\n"
       ]
      },
      {
       "output_type": "stream",
       "stream": "stdout",
       "text": [
        "170606-20:48:30,399 workflow INFO:\n",
        "\t Executing node _Realign_with_MCFLIRT0 in dir: /scratch/afni/tmpO7PWKa/preproc/_run_id_2_subject_id_sub-01_task_id_train_/Realign_with_MCFLIRT/mapflow/_Realign_with_MCFLIRT0\n"
       ]
      },
      {
       "output_type": "stream",
       "stream": "stdout",
       "text": [
        "170606-20:48:30,416 workflow INFO:\n",
        "\t Running: mcflirt -in /scratch/afni/tmpcHqFhk/preproc/_run_id_2_subject_id_sub-01_task_id_train_/Slice_time_correction/mapflow/_Slice_time_correction0/sub-01_train_2_st.nii -dof 6 -sinc_final -out /scratch/afni/tmpO7PWKa/preproc/_run_id_2_subject_id_sub-01_task_id_train_/Realign_with_MCFLIRT/mapflow/_Realign_with_MCFLIRT0/sub-01_train_2_st_mcf.nii -mats -plots\n"
       ]
      },
      {
       "output_type": "stream",
       "stream": "stdout",
       "text": [
        "170606-20:57:12,556 workflow INFO:\n",
        "\t Executing node Check_motion_plots.aI.a1.b25 in dir: /scratch/afni/tmpuHYPfY/preproc/_run_id_2_subject_id_sub-01_task_id_train_/_plot_type_translations/Check_motion_plots\n"
       ]
      },
      {
       "output_type": "stream",
       "stream": "stdout",
       "text": [
        "170606-20:57:12,577 workflow INFO:\n",
        "\t Executing node _Check_motion_plots0 in dir: /scratch/afni/tmpuHYPfY/preproc/_run_id_2_subject_id_sub-01_task_id_train_/_plot_type_translations/Check_motion_plots/mapflow/_Check_motion_plots0\n"
       ]
      },
      {
       "output_type": "stream",
       "stream": "stdout",
       "text": [
        "170606-20:57:12,592 workflow INFO:\n",
        "\t Running: fsl_tsplot -i /scratch/afni/tmpO7PWKa/preproc/_run_id_2_subject_id_sub-01_task_id_train_/Realign_with_MCFLIRT/mapflow/_Realign_with_MCFLIRT0/sub-01_train_2_st_mcf.nii.par -o /scratch/afni/tmpO7PWKa/preproc/_run_id_2_subject_id_sub-01_task_id_train_/Realign_with_MCFLIRT/mapflow/_Realign_with_MCFLIRT0/sub-01_train_2_st_mcf.nii_trans.png -t 'MCFLIRT estimated translations (mm)' --start=4 --finish=6 -a x,y,z\n"
       ]
      },
      {
       "output_type": "stream",
       "stream": "stdout",
       "text": [
        "170606-20:57:13,706 workflow INFO:\n",
        "\t Executing node Check_motion_plots.aI.a0.b05 in dir: /scratch/afni/tmpnL1W0G/preproc/_run_id_6_subject_id_sub-02_task_id_train_/_plot_type_rotations/Check_motion_plots\n"
       ]
      },
      {
       "output_type": "stream",
       "stream": "stdout",
       "text": [
        "170606-20:57:13,727 workflow INFO:\n",
        "\t Executing node _Check_motion_plots0 in dir: /scratch/afni/tmpnL1W0G/preproc/_run_id_6_subject_id_sub-02_task_id_train_/_plot_type_rotations/Check_motion_plots/mapflow/_Check_motion_plots0\n"
       ]
      },
      {
       "output_type": "stream",
       "stream": "stdout",
       "text": [
        "170606-20:57:13,742 workflow INFO:\n",
        "\t Running: fsl_tsplot -i /scratch/afni/tmp1ywM8l/preproc/_run_id_6_subject_id_sub-02_task_id_train_/Realign_with_MCFLIRT/mapflow/_Realign_with_MCFLIRT0/sub-02_train_6_st_mcf.nii.par -o /scratch/afni/tmp1ywM8l/preproc/_run_id_6_subject_id_sub-02_task_id_train_/Realign_with_MCFLIRT/mapflow/_Realign_with_MCFLIRT0/sub-02_train_6_st_mcf.nii_rot.png -t 'MCFLIRT estimated rotations (radians)' --start=1 --finish=3 -a x,y,z\n"
       ]
      },
      {
       "output_type": "stream",
       "stream": "stdout",
       "text": [
        "170606-20:57:14,881 workflow INFO:\n",
        "\t Executing node Get_files.b43 in dir: /scratch/afni/tmpH7G0fa/preproc/_run_id_8_subject_id_sub-01_task_id_test_/Get_files\n"
       ]
      },
      {
       "output_type": "stream",
       "stream": "stdout",
       "text": [
        "170606-20:57:14,924 workflow INFO:\n",
        "\t Executing node Resample_T1.b43 in dir: /scratch/afni/tmpPaL4Ia/preproc/_run_id_8_subject_id_sub-01_task_id_test_/Resample_T1\n"
       ]
      },
      {
       "output_type": "stream",
       "stream": "stdout",
       "text": [
        "170606-20:57:14,944 workflow INFO:\n",
        "\t Running: 3dresample -prefix sub-01_T1_resample.nii -dxyz 2.400000 2.400000 2.400000 -inset /scratch/afni/tmpPaL4Ia/preproc/_run_id_8_subject_id_sub-01_task_id_test_/Resample_T1/sub-01_T1.nii\n"
       ]
      },
      {
       "output_type": "stream",
       "stream": "stdout",
       "text": [
        "170606-20:57:16,30 workflow INFO:\n",
        "\t Executing node Slice_time_correction.b43 in dir: /scratch/afni/tmpqq8FEr/preproc/_run_id_8_subject_id_sub-01_task_id_test_/Slice_time_correction\n"
       ]
      },
      {
       "output_type": "stream",
       "stream": "stdout",
       "text": [
        "170606-20:57:16,55 workflow INFO:\n",
        "\t Executing node _Slice_time_correction0 in dir: /scratch/afni/tmpqq8FEr/preproc/_run_id_8_subject_id_sub-01_task_id_test_/Slice_time_correction/mapflow/_Slice_time_correction0\n"
       ]
      },
      {
       "output_type": "stream",
       "stream": "stdout",
       "text": [
        "170606-20:57:16,71 workflow INFO:\n",
        "\t Running: slicetimer --in=/scratch/sanjay/GRT/fmri_data/nifti/sub-01/func/sub-01_test_8.nii --odd --out=/scratch/afni/tmpqq8FEr/preproc/_run_id_8_subject_id_sub-01_task_id_test_/Slice_time_correction/mapflow/_Slice_time_correction0/sub-01_test_8_st.nii\n"
       ]
      },
      {
       "output_type": "stream",
       "stream": "stdout",
       "text": [
        "170606-20:58:18,163 workflow INFO:\n",
        "\t Executing node Check_motion_plots.aI.a0.b25 in dir: /scratch/afni/tmpTnLquz/preproc/_run_id_2_subject_id_sub-01_task_id_train_/_plot_type_rotations/Check_motion_plots\n"
       ]
      },
      {
       "output_type": "stream",
       "stream": "stdout",
       "text": [
        "170606-20:58:18,185 workflow INFO:\n",
        "\t Executing node _Check_motion_plots0 in dir: /scratch/afni/tmpTnLquz/preproc/_run_id_2_subject_id_sub-01_task_id_train_/_plot_type_rotations/Check_motion_plots/mapflow/_Check_motion_plots0\n"
       ]
      },
      {
       "output_type": "stream",
       "stream": "stdout",
       "text": [
        "170606-20:58:18,200 workflow INFO:\n",
        "\t Running: fsl_tsplot -i /scratch/afni/tmpO7PWKa/preproc/_run_id_2_subject_id_sub-01_task_id_train_/Realign_with_MCFLIRT/mapflow/_Realign_with_MCFLIRT0/sub-01_train_2_st_mcf.nii.par -o /scratch/afni/tmpO7PWKa/preproc/_run_id_2_subject_id_sub-01_task_id_train_/Realign_with_MCFLIRT/mapflow/_Realign_with_MCFLIRT0/sub-01_train_2_st_mcf.nii_rot.png -t 'MCFLIRT estimated rotations (radians)' --start=1 --finish=3 -a x,y,z\n"
       ]
      },
      {
       "output_type": "stream",
       "stream": "stdout",
       "text": [
        "170606-20:58:19,312 workflow INFO:\n",
        "\t Executing node Realign_with_MCFLIRT.b03 in dir: /scratch/afni/tmpyG2TOl/preproc/_run_id_4_subject_id_sub-02_task_id_train_/Realign_with_MCFLIRT\n"
       ]
      },
      {
       "output_type": "stream",
       "stream": "stdout",
       "text": [
        "170606-20:58:19,336 workflow INFO:\n",
        "\t Executing node _Realign_with_MCFLIRT0 in dir: /scratch/afni/tmpyG2TOl/preproc/_run_id_4_subject_id_sub-02_task_id_train_/Realign_with_MCFLIRT/mapflow/_Realign_with_MCFLIRT0\n"
       ]
      },
      {
       "output_type": "stream",
       "stream": "stdout",
       "text": [
        "170606-20:58:19,353 workflow INFO:\n",
        "\t Running: mcflirt -in /scratch/afni/tmpm_S0AW/preproc/_run_id_4_subject_id_sub-02_task_id_train_/Slice_time_correction/mapflow/_Slice_time_correction0/sub-02_train_4_st.nii -dof 6 -sinc_final -out /scratch/afni/tmpyG2TOl/preproc/_run_id_4_subject_id_sub-02_task_id_train_/Realign_with_MCFLIRT/mapflow/_Realign_with_MCFLIRT0/sub-02_train_4_st_mcf.nii -mats -plots\n"
       ]
      },
      {
       "output_type": "stream",
       "stream": "stdout",
       "text": [
        "170606-21:06:39,874 workflow INFO:\n",
        "\t Executing node Register_functionals.b03 in dir: /scratch/afni/tmp7Ws_Tc/preproc/_run_id_4_subject_id_sub-02_task_id_train_/Register_functionals\n"
       ]
      },
      {
       "output_type": "stream",
       "stream": "stdout",
       "text": [
        "170606-21:06:39,897 workflow INFO:\n",
        "\t Executing node _Register_functionals0 in dir: /scratch/afni/tmp7Ws_Tc/preproc/_run_id_4_subject_id_sub-02_task_id_train_/Register_functionals/mapflow/_Register_functionals0\n"
       ]
      },
      {
       "output_type": "stream",
       "stream": "stdout",
       "text": [
        "170606-21:06:39,915 workflow INFO:\n",
        "\t Running: flirt -in /scratch/afni/tmpyG2TOl/preproc/_run_id_4_subject_id_sub-02_task_id_train_/Realign_with_MCFLIRT/mapflow/_Realign_with_MCFLIRT0/sub-02_train_4_st_mcf.nii -ref /scratch/afni/tmpM9G8wp/preproc/_run_id_4_subject_id_sub-02_task_id_train_/Resample_T1/sub-02_T1_resample.nii -out sub-02_train_4_st_mcf_flirt.nii -omat sub-02_train_4_st_mcf_flirt.mat\n"
       ]
      },
      {
       "output_type": "stream",
       "stream": "stdout",
       "text": [
        "170606-21:06:53,339 workflow INFO:\n",
        "\t Executing node Check_motion_plots.aI.a0.b03 in dir: /scratch/afni/tmpEXpC2L/preproc/_run_id_4_subject_id_sub-02_task_id_train_/_plot_type_rotations/Check_motion_plots\n"
       ]
      },
      {
       "output_type": "stream",
       "stream": "stdout",
       "text": [
        "170606-21:06:53,363 workflow INFO:\n",
        "\t Executing node _Check_motion_plots0 in dir: /scratch/afni/tmpEXpC2L/preproc/_run_id_4_subject_id_sub-02_task_id_train_/_plot_type_rotations/Check_motion_plots/mapflow/_Check_motion_plots0\n"
       ]
      },
      {
       "output_type": "stream",
       "stream": "stdout",
       "text": [
        "170606-21:06:53,378 workflow INFO:\n",
        "\t Running: fsl_tsplot -i /scratch/afni/tmpyG2TOl/preproc/_run_id_4_subject_id_sub-02_task_id_train_/Realign_with_MCFLIRT/mapflow/_Realign_with_MCFLIRT0/sub-02_train_4_st_mcf.nii.par -o /scratch/afni/tmpyG2TOl/preproc/_run_id_4_subject_id_sub-02_task_id_train_/Realign_with_MCFLIRT/mapflow/_Realign_with_MCFLIRT0/sub-02_train_4_st_mcf.nii_rot.png -t 'MCFLIRT estimated rotations (radians)' --start=1 --finish=3 -a x,y,z\n"
       ]
      },
      {
       "output_type": "stream",
       "stream": "stdout",
       "text": [
        "170606-21:06:54,476 workflow INFO:\n",
        "\t Executing node Realign_with_MCFLIRT.b43 in dir: /scratch/afni/tmpUsPOUn/preproc/_run_id_8_subject_id_sub-01_task_id_test_/Realign_with_MCFLIRT\n"
       ]
      },
      {
       "output_type": "stream",
       "stream": "stdout",
       "text": [
        "170606-21:06:54,498 workflow INFO:\n",
        "\t Executing node _Realign_with_MCFLIRT0 in dir: /scratch/afni/tmpUsPOUn/preproc/_run_id_8_subject_id_sub-01_task_id_test_/Realign_with_MCFLIRT/mapflow/_Realign_with_MCFLIRT0\n"
       ]
      },
      {
       "output_type": "stream",
       "stream": "stdout",
       "text": [
        "170606-21:06:54,515 workflow INFO:\n",
        "\t Running: mcflirt -in /scratch/afni/tmpqq8FEr/preproc/_run_id_8_subject_id_sub-01_task_id_test_/Slice_time_correction/mapflow/_Slice_time_correction0/sub-01_test_8_st.nii -dof 6 -sinc_final -out /scratch/afni/tmpUsPOUn/preproc/_run_id_8_subject_id_sub-01_task_id_test_/Realign_with_MCFLIRT/mapflow/_Realign_with_MCFLIRT0/sub-01_test_8_st_mcf.nii -mats -plots\n"
       ]
      },
      {
       "output_type": "stream",
       "stream": "stdout",
       "text": [
        "170606-21:22:16,405 workflow INFO:\n",
        "\t Executing node Check_motion_plots.aI.a1.b43 in dir: /scratch/afni/tmpXXlzgD/preproc/_run_id_8_subject_id_sub-01_task_id_test_/_plot_type_translations/Check_motion_plots\n"
       ]
      },
      {
       "output_type": "stream",
       "stream": "stdout",
       "text": [
        "170606-21:22:16,429 workflow INFO:\n",
        "\t Executing node _Check_motion_plots0 in dir: /scratch/afni/tmpXXlzgD/preproc/_run_id_8_subject_id_sub-01_task_id_test_/_plot_type_translations/Check_motion_plots/mapflow/_Check_motion_plots0\n"
       ]
      },
      {
       "output_type": "stream",
       "stream": "stdout",
       "text": [
        "170606-21:22:16,443 workflow INFO:\n",
        "\t Running: fsl_tsplot -i /scratch/afni/tmpUsPOUn/preproc/_run_id_8_subject_id_sub-01_task_id_test_/Realign_with_MCFLIRT/mapflow/_Realign_with_MCFLIRT0/sub-01_test_8_st_mcf.nii.par -o /scratch/afni/tmpUsPOUn/preproc/_run_id_8_subject_id_sub-01_task_id_test_/Realign_with_MCFLIRT/mapflow/_Realign_with_MCFLIRT0/sub-01_test_8_st_mcf.nii_trans.png -t 'MCFLIRT estimated translations (mm)' --start=4 --finish=6 -a x,y,z\n"
       ]
      },
      {
       "output_type": "stream",
       "stream": "stdout",
       "text": [
        "170606-21:22:17,543 workflow INFO:\n",
        "\t Executing node Resample_T1.b25 in dir: /scratch/afni/tmpXZEOmJ/preproc/_run_id_2_subject_id_sub-01_task_id_train_/Resample_T1\n"
       ]
      },
      {
       "output_type": "stream",
       "stream": "stdout",
       "text": [
        "170606-21:22:17,562 workflow INFO:\n",
        "\t Running: 3dresample -prefix sub-01_T1_resample.nii -dxyz 2.400000 2.400000 2.400000 -inset /scratch/afni/tmpXZEOmJ/preproc/_run_id_2_subject_id_sub-01_task_id_train_/Resample_T1/sub-01_T1.nii\n"
       ]
      },
      {
       "output_type": "stream",
       "stream": "stdout",
       "text": [
        "170606-21:22:18,657 workflow INFO:\n",
        "\t Executing node Register_functionals.b25 in dir: /scratch/afni/tmpwgpTRU/preproc/_run_id_2_subject_id_sub-01_task_id_train_/Register_functionals\n"
       ]
      },
      {
       "output_type": "stream",
       "stream": "stdout",
       "text": [
        "170606-21:22:18,682 workflow INFO:\n",
        "\t Executing node _Register_functionals0 in dir: /scratch/afni/tmpwgpTRU/preproc/_run_id_2_subject_id_sub-01_task_id_train_/Register_functionals/mapflow/_Register_functionals0\n"
       ]
      },
      {
       "output_type": "stream",
       "stream": "stdout",
       "text": [
        "170606-21:22:18,701 workflow INFO:\n",
        "\t Running: flirt -in /scratch/afni/tmpO7PWKa/preproc/_run_id_2_subject_id_sub-01_task_id_train_/Realign_with_MCFLIRT/mapflow/_Realign_with_MCFLIRT0/sub-01_train_2_st_mcf.nii -ref /scratch/afni/tmpXZEOmJ/preproc/_run_id_2_subject_id_sub-01_task_id_train_/Resample_T1/sub-01_T1_resample.nii -out sub-01_train_2_st_mcf_flirt.nii -omat sub-01_train_2_st_mcf_flirt.mat\n"
       ]
      },
      {
       "output_type": "stream",
       "stream": "stdout",
       "text": [
        "170606-21:22:32,622 workflow INFO:\n",
        "\t Executing node Strip_skull.b25 in dir: /scratch/afni/tmpYUfMJO/preproc/_run_id_2_subject_id_sub-01_task_id_train_/Strip_skull\n"
       ]
      },
      {
       "output_type": "stream",
       "stream": "stdout",
       "text": [
        "170606-21:22:32,647 workflow INFO:\n",
        "\t Executing node _Strip_skull0 in dir: /scratch/afni/tmpYUfMJO/preproc/_run_id_2_subject_id_sub-01_task_id_train_/Strip_skull/mapflow/_Strip_skull0\n"
       ]
      },
      {
       "output_type": "stream",
       "stream": "stdout",
       "text": [
        "170606-21:22:32,666 workflow INFO:\n",
        "\t Running: bet /scratch/afni/tmpwgpTRU/preproc/_run_id_2_subject_id_sub-01_task_id_train_/Register_functionals/mapflow/_Register_functionals0/sub-01_train_2_st_mcf_flirt.nii /scratch/afni/tmpYUfMJO/preproc/_run_id_2_subject_id_sub-01_task_id_train_/Strip_skull/mapflow/_Strip_skull0/sub-01_train_2_st_mcf_flirt_brain.nii -F\n"
       ]
      },
      {
       "output_type": "stream",
       "stream": "stdout",
       "text": [
        "170606-21:22:39,431 workflow INFO:\n",
        "\t Executing node store_outputs.a1.b25 in dir: /scratch/afni/tmpub5DE8/preproc/_run_id_2_subject_id_sub-01_task_id_train_/_plot_type_translations/store_outputs\n"
       ]
      },
      {
       "output_type": "stream",
       "stream": "stdout",
       "text": [
        "170606-21:22:39,526 workflow INFO:\n",
        "\t Executing node store_outputs.a0.b25 in dir: /scratch/afni/tmpZUHSoy/preproc/_run_id_2_subject_id_sub-01_task_id_train_/_plot_type_rotations/store_outputs\n"
       ]
      },
      {
       "output_type": "stream",
       "stream": "stdout",
       "text": [
        "170606-21:22:39,594 workflow INFO:\n",
        "\t Executing node Register_functionals.b05 in dir: /scratch/afni/tmpnE8SVq/preproc/_run_id_6_subject_id_sub-02_task_id_train_/Register_functionals\n"
       ]
      },
      {
       "output_type": "stream",
       "stream": "stdout",
       "text": [
        "170606-21:22:39,619 workflow INFO:\n",
        "\t Executing node _Register_functionals0 in dir: /scratch/afni/tmpnE8SVq/preproc/_run_id_6_subject_id_sub-02_task_id_train_/Register_functionals/mapflow/_Register_functionals0\n"
       ]
      },
      {
       "output_type": "stream",
       "stream": "stdout",
       "text": [
        "170606-21:22:39,638 workflow INFO:\n",
        "\t Running: flirt -in /scratch/afni/tmp1ywM8l/preproc/_run_id_6_subject_id_sub-02_task_id_train_/Realign_with_MCFLIRT/mapflow/_Realign_with_MCFLIRT0/sub-02_train_6_st_mcf.nii -ref /scratch/afni/tmp8Sl5x1/preproc/_run_id_6_subject_id_sub-02_task_id_train_/Resample_T1/sub-02_T1_resample.nii -out sub-02_train_6_st_mcf_flirt.nii -omat sub-02_train_6_st_mcf_flirt.mat\n"
       ]
      },
      {
       "output_type": "stream",
       "stream": "stdout",
       "text": [
        "170606-21:22:52,19 workflow INFO:\n",
        "\t Executing node Strip_skull.b05 in dir: /scratch/afni/tmp1PI3d6/preproc/_run_id_6_subject_id_sub-02_task_id_train_/Strip_skull\n"
       ]
      },
      {
       "output_type": "stream",
       "stream": "stdout",
       "text": [
        "170606-21:22:52,45 workflow INFO:\n",
        "\t Executing node _Strip_skull0 in dir: /scratch/afni/tmp1PI3d6/preproc/_run_id_6_subject_id_sub-02_task_id_train_/Strip_skull/mapflow/_Strip_skull0\n"
       ]
      },
      {
       "output_type": "stream",
       "stream": "stdout",
       "text": [
        "170606-21:22:52,62 workflow INFO:\n",
        "\t Running: bet /scratch/afni/tmpnE8SVq/preproc/_run_id_6_subject_id_sub-02_task_id_train_/Register_functionals/mapflow/_Register_functionals0/sub-02_train_6_st_mcf_flirt.nii /scratch/afni/tmp1PI3d6/preproc/_run_id_6_subject_id_sub-02_task_id_train_/Strip_skull/mapflow/_Strip_skull0/sub-02_train_6_st_mcf_flirt_brain.nii -F\n"
       ]
      },
      {
       "output_type": "stream",
       "stream": "stdout",
       "text": [
        "170606-21:22:58,328 workflow INFO:\n",
        "\t Executing node store_outputs.a1.b05 in dir: /scratch/afni/tmpotgcs_/preproc/_run_id_6_subject_id_sub-02_task_id_train_/_plot_type_translations/store_outputs\n"
       ]
      },
      {
       "output_type": "stream",
       "stream": "stdout",
       "text": [
        "170606-21:22:58,392 workflow INFO:\n",
        "\t Executing node Register_functionals.b43 in dir: /scratch/afni/tmp7CQvJZ/preproc/_run_id_8_subject_id_sub-01_task_id_test_/Register_functionals\n"
       ]
      },
      {
       "output_type": "stream",
       "stream": "stdout",
       "text": [
        "170606-21:22:58,415 workflow INFO:\n",
        "\t Executing node _Register_functionals0 in dir: /scratch/afni/tmp7CQvJZ/preproc/_run_id_8_subject_id_sub-01_task_id_test_/Register_functionals/mapflow/_Register_functionals0\n"
       ]
      },
      {
       "output_type": "stream",
       "stream": "stdout",
       "text": [
        "170606-21:22:58,434 workflow INFO:\n",
        "\t Running: flirt -in /scratch/afni/tmpUsPOUn/preproc/_run_id_8_subject_id_sub-01_task_id_test_/Realign_with_MCFLIRT/mapflow/_Realign_with_MCFLIRT0/sub-01_test_8_st_mcf.nii -ref /scratch/afni/tmpPaL4Ia/preproc/_run_id_8_subject_id_sub-01_task_id_test_/Resample_T1/sub-01_T1_resample.nii -out sub-01_test_8_st_mcf_flirt.nii -omat sub-01_test_8_st_mcf_flirt.mat\n"
       ]
      },
      {
       "output_type": "stream",
       "stream": "stdout",
       "text": [
        "170606-21:23:12,356 workflow INFO:\n",
        "\t Executing node Strip_skull.b43 in dir: /scratch/afni/tmpEBMG5k/preproc/_run_id_8_subject_id_sub-01_task_id_test_/Strip_skull\n"
       ]
      },
      {
       "output_type": "stream",
       "stream": "stdout",
       "text": [
        "170606-21:23:12,383 workflow INFO:\n",
        "\t Executing node _Strip_skull0 in dir: /scratch/afni/tmpEBMG5k/preproc/_run_id_8_subject_id_sub-01_task_id_test_/Strip_skull/mapflow/_Strip_skull0\n"
       ]
      },
      {
       "output_type": "stream",
       "stream": "stdout",
       "text": [
        "170606-21:23:12,400 workflow INFO:\n",
        "\t Running: bet /scratch/afni/tmp7CQvJZ/preproc/_run_id_8_subject_id_sub-01_task_id_test_/Register_functionals/mapflow/_Register_functionals0/sub-01_test_8_st_mcf_flirt.nii /scratch/afni/tmpEBMG5k/preproc/_run_id_8_subject_id_sub-01_task_id_test_/Strip_skull/mapflow/_Strip_skull0/sub-01_test_8_st_mcf_flirt_brain.nii -F\n"
       ]
      },
      {
       "output_type": "stream",
       "stream": "stdout",
       "text": [
        "170606-21:23:19,693 workflow INFO:\n",
        "\t Executing node store_outputs.a1.b43 in dir: /scratch/afni/tmpzoqR0g/preproc/_run_id_8_subject_id_sub-01_task_id_test_/_plot_type_translations/store_outputs\n"
       ]
      },
      {
       "output_type": "stream",
       "stream": "stdout",
       "text": [
        "170606-21:23:19,766 workflow INFO:\n",
        "\t Executing node Check_motion_plots.aI.a1.b24 in dir: /scratch/afni/tmph2jyxV/preproc/_run_id_1_subject_id_sub-01_task_id_train_/_plot_type_translations/Check_motion_plots\n"
       ]
      },
      {
       "output_type": "stream",
       "stream": "stdout",
       "text": [
        "170606-21:23:19,789 workflow INFO:\n",
        "\t Executing node _Check_motion_plots0 in dir: /scratch/afni/tmph2jyxV/preproc/_run_id_1_subject_id_sub-01_task_id_train_/_plot_type_translations/Check_motion_plots/mapflow/_Check_motion_plots0\n"
       ]
      },
      {
       "output_type": "stream",
       "stream": "stdout",
       "text": [
        "170606-21:23:19,804 workflow INFO:\n",
        "\t Running: fsl_tsplot -i /scratch/afni/tmpmGsLQt/preproc/_run_id_1_subject_id_sub-01_task_id_train_/Realign_with_MCFLIRT/mapflow/_Realign_with_MCFLIRT0/sub-01_train_1_st_mcf.nii.par -o /scratch/afni/tmpmGsLQt/preproc/_run_id_1_subject_id_sub-01_task_id_train_/Realign_with_MCFLIRT/mapflow/_Realign_with_MCFLIRT0/sub-01_train_1_st_mcf.nii_trans.png -t 'MCFLIRT estimated translations (mm)' --start=4 --finish=6 -a x,y,z\n"
       ]
      },
      {
       "output_type": "stream",
       "stream": "stdout",
       "text": [
        "170606-21:23:20,904 workflow INFO:\n",
        "\t Executing node Check_motion_plots.aI.a0.b43 in dir: /scratch/afni/tmpwGzwLI/preproc/_run_id_8_subject_id_sub-01_task_id_test_/_plot_type_rotations/Check_motion_plots\n"
       ]
      },
      {
       "output_type": "stream",
       "stream": "stdout",
       "text": [
        "170606-21:23:20,926 workflow INFO:\n",
        "\t Executing node _Check_motion_plots0 in dir: /scratch/afni/tmpwGzwLI/preproc/_run_id_8_subject_id_sub-01_task_id_test_/_plot_type_rotations/Check_motion_plots/mapflow/_Check_motion_plots0\n"
       ]
      },
      {
       "output_type": "stream",
       "stream": "stdout",
       "text": [
        "170606-21:23:20,942 workflow INFO:\n",
        "\t Running: fsl_tsplot -i /scratch/afni/tmpUsPOUn/preproc/_run_id_8_subject_id_sub-01_task_id_test_/Realign_with_MCFLIRT/mapflow/_Realign_with_MCFLIRT0/sub-01_test_8_st_mcf.nii.par -o /scratch/afni/tmpUsPOUn/preproc/_run_id_8_subject_id_sub-01_task_id_test_/Realign_with_MCFLIRT/mapflow/_Realign_with_MCFLIRT0/sub-01_test_8_st_mcf.nii_rot.png -t 'MCFLIRT estimated rotations (radians)' --start=1 --finish=3 -a x,y,z\n"
       ]
      },
      {
       "output_type": "stream",
       "stream": "stdout",
       "text": [
        "170606-21:23:22,116 workflow INFO:\n",
        "\t Executing node store_outputs.a1.b24 in dir: /scratch/afni/tmppFc7Df/preproc/_run_id_1_subject_id_sub-01_task_id_train_/_plot_type_translations/store_outputs\n"
       ]
      },
      {
       "output_type": "stream",
       "stream": "stdout",
       "text": [
        "170606-21:23:22,216 workflow INFO:\n",
        "\t Executing node store_outputs.a0.b05 in dir: /scratch/afni/tmp5fgPD6/preproc/_run_id_6_subject_id_sub-02_task_id_train_/_plot_type_rotations/store_outputs\n"
       ]
      },
      {
       "output_type": "stream",
       "stream": "stdout",
       "text": [
        "170606-21:23:22,294 workflow INFO:\n",
        "\t Executing node store_outputs.a0.b43 in dir: /scratch/afni/tmp8Uxlf2/preproc/_run_id_8_subject_id_sub-01_task_id_test_/_plot_type_rotations/store_outputs\n"
       ]
      },
      {
       "output_type": "stream",
       "stream": "stdout",
       "text": [
        "170606-21:23:22,361 workflow INFO:\n",
        "\t Executing node Resample_T1.b32 in dir: /scratch/afni/tmpgZjsD2/preproc/_run_id_9_subject_id_sub-01_task_id_train_/Resample_T1\n"
       ]
      },
      {
       "output_type": "stream",
       "stream": "stdout",
       "text": [
        "170606-21:23:22,380 workflow INFO:\n",
        "\t Running: 3dresample -prefix sub-01_T1_resample.nii -dxyz 2.400000 2.400000 2.400000 -inset /scratch/afni/tmpgZjsD2/preproc/_run_id_9_subject_id_sub-01_task_id_train_/Resample_T1/sub-01_T1.nii\n"
       ]
      },
      {
       "output_type": "stream",
       "stream": "stdout",
       "text": [
        "170606-21:23:23,483 workflow INFO:\n",
        "\t Executing node Register_functionals.b32 in dir: /scratch/afni/tmp6EWG9g/preproc/_run_id_9_subject_id_sub-01_task_id_train_/Register_functionals\n"
       ]
      },
      {
       "output_type": "stream",
       "stream": "stdout",
       "text": [
        "170606-21:23:23,511 workflow INFO:\n",
        "\t Executing node _Register_functionals0 in dir: /scratch/afni/tmp6EWG9g/preproc/_run_id_9_subject_id_sub-01_task_id_train_/Register_functionals/mapflow/_Register_functionals0\n"
       ]
      },
      {
       "output_type": "stream",
       "stream": "stdout",
       "text": [
        "170606-21:23:23,532 workflow INFO:\n",
        "\t Running: flirt -in /scratch/afni/tmpNNjhjS/preproc/_run_id_9_subject_id_sub-01_task_id_train_/Realign_with_MCFLIRT/mapflow/_Realign_with_MCFLIRT0/sub-01_train_9_st_mcf.nii -ref /scratch/afni/tmpgZjsD2/preproc/_run_id_9_subject_id_sub-01_task_id_train_/Resample_T1/sub-01_T1_resample.nii -out sub-01_train_9_st_mcf_flirt.nii -omat sub-01_train_9_st_mcf_flirt.mat\n"
       ]
      },
      {
       "output_type": "stream",
       "stream": "stdout",
       "text": [
        "170606-21:23:36,418 workflow INFO:\n",
        "\t Executing node Strip_skull.b32 in dir: /scratch/afni/tmpBghJUn/preproc/_run_id_9_subject_id_sub-01_task_id_train_/Strip_skull\n"
       ]
      },
      {
       "output_type": "stream",
       "stream": "stdout",
       "text": [
        "170606-21:23:36,441 workflow INFO:\n",
        "\t Executing node _Strip_skull0 in dir: /scratch/afni/tmpBghJUn/preproc/_run_id_9_subject_id_sub-01_task_id_train_/Strip_skull/mapflow/_Strip_skull0\n"
       ]
      },
      {
       "output_type": "stream",
       "stream": "stdout",
       "text": [
        "170606-21:23:36,457 workflow INFO:\n",
        "\t Running: bet /scratch/afni/tmp6EWG9g/preproc/_run_id_9_subject_id_sub-01_task_id_train_/Register_functionals/mapflow/_Register_functionals0/sub-01_train_9_st_mcf_flirt.nii /scratch/afni/tmpBghJUn/preproc/_run_id_9_subject_id_sub-01_task_id_train_/Strip_skull/mapflow/_Strip_skull0/sub-01_train_9_st_mcf_flirt_brain.nii -F\n"
       ]
      },
      {
       "output_type": "stream",
       "stream": "stdout",
       "text": [
        "170606-21:23:42,196 workflow INFO:\n",
        "\t Executing node store_outputs.a1.b32 in dir: /scratch/afni/tmp8yPPd6/preproc/_run_id_9_subject_id_sub-01_task_id_train_/_plot_type_translations/store_outputs\n"
       ]
      },
      {
       "output_type": "stream",
       "stream": "stdout",
       "text": [
        "170606-21:23:42,290 workflow INFO:\n",
        "\t Executing node store_outputs.a0.b32 in dir: /scratch/afni/tmpiWrhkI/preproc/_run_id_9_subject_id_sub-01_task_id_train_/_plot_type_rotations/store_outputs\n"
       ]
      },
      {
       "output_type": "stream",
       "stream": "stdout",
       "text": [
        "170606-21:23:42,366 workflow INFO:\n",
        "\t Executing node Realign_with_MCFLIRT.b11 in dir: /scratch/afni/tmpZTahK4/preproc/_run_id_12_subject_id_sub-02_task_id_train_/Realign_with_MCFLIRT\n"
       ]
      },
      {
       "output_type": "stream",
       "stream": "stdout",
       "text": [
        "170606-21:23:42,389 workflow INFO:\n",
        "\t Executing node _Realign_with_MCFLIRT0 in dir: /scratch/afni/tmpZTahK4/preproc/_run_id_12_subject_id_sub-02_task_id_train_/Realign_with_MCFLIRT/mapflow/_Realign_with_MCFLIRT0\n"
       ]
      },
      {
       "output_type": "stream",
       "stream": "stdout",
       "text": [
        "170606-21:23:42,405 workflow INFO:\n",
        "\t Running: mcflirt -in /scratch/afni/tmpoT7Bb3/preproc/_run_id_12_subject_id_sub-02_task_id_train_/Slice_time_correction/mapflow/_Slice_time_correction0/sub-02_train_12_st.nii -dof 6 -sinc_final -out /scratch/afni/tmpZTahK4/preproc/_run_id_12_subject_id_sub-02_task_id_train_/Realign_with_MCFLIRT/mapflow/_Realign_with_MCFLIRT0/sub-02_train_12_st_mcf.nii -mats -plots\n"
       ]
      },
      {
       "output_type": "stream",
       "stream": "stdout",
       "text": [
        "170606-21:32:03,503 workflow INFO:\n",
        "\t Executing node Check_motion_plots.aI.a1.b11 in dir: /scratch/afni/tmp4DMqhW/preproc/_run_id_12_subject_id_sub-02_task_id_train_/_plot_type_translations/Check_motion_plots\n"
       ]
      },
      {
       "output_type": "stream",
       "stream": "stdout",
       "text": [
        "170606-21:32:03,528 workflow INFO:\n",
        "\t Executing node _Check_motion_plots0 in dir: /scratch/afni/tmp4DMqhW/preproc/_run_id_12_subject_id_sub-02_task_id_train_/_plot_type_translations/Check_motion_plots/mapflow/_Check_motion_plots0\n"
       ]
      },
      {
       "output_type": "stream",
       "stream": "stdout",
       "text": [
        "170606-21:32:03,542 workflow INFO:\n",
        "\t Running: fsl_tsplot -i /scratch/afni/tmpZTahK4/preproc/_run_id_12_subject_id_sub-02_task_id_train_/Realign_with_MCFLIRT/mapflow/_Realign_with_MCFLIRT0/sub-02_train_12_st_mcf.nii.par -o /scratch/afni/tmpZTahK4/preproc/_run_id_12_subject_id_sub-02_task_id_train_/Realign_with_MCFLIRT/mapflow/_Realign_with_MCFLIRT0/sub-02_train_12_st_mcf.nii_trans.png -t 'MCFLIRT estimated translations (mm)' --start=4 --finish=6 -a x,y,z\n"
       ]
      },
      {
       "output_type": "stream",
       "stream": "stdout",
       "text": [
        "170606-21:32:04,654 workflow INFO:\n",
        "\t Executing node Check_motion_plots.aI.a0.b38 in dir: /scratch/afni/tmpjnfmAz/preproc/_run_id_3_subject_id_sub-01_task_id_test_/_plot_type_rotations/Check_motion_plots\n"
       ]
      },
      {
       "output_type": "stream",
       "stream": "stdout",
       "text": [
        "170606-21:32:04,678 workflow INFO:\n",
        "\t Executing node _Check_motion_plots0 in dir: /scratch/afni/tmpjnfmAz/preproc/_run_id_3_subject_id_sub-01_task_id_test_/_plot_type_rotations/Check_motion_plots/mapflow/_Check_motion_plots0\n"
       ]
      },
      {
       "output_type": "stream",
       "stream": "stdout",
       "text": [
        "170606-21:32:04,695 workflow INFO:\n",
        "\t Running: fsl_tsplot -i /scratch/afni/tmpo5fmoC/preproc/_run_id_3_subject_id_sub-01_task_id_test_/Realign_with_MCFLIRT/mapflow/_Realign_with_MCFLIRT0/sub-01_test_3_st_mcf.nii.par -o /scratch/afni/tmpo5fmoC/preproc/_run_id_3_subject_id_sub-01_task_id_test_/Realign_with_MCFLIRT/mapflow/_Realign_with_MCFLIRT0/sub-01_test_3_st_mcf.nii_rot.png -t 'MCFLIRT estimated rotations (radians)' --start=1 --finish=3 -a x,y,z\n"
       ]
      },
      {
       "output_type": "stream",
       "stream": "stdout",
       "text": [
        "170606-21:32:05,801 workflow INFO:\n",
        "\t Executing node Check_motion_plots.aI.a0.b11 in dir: /scratch/afni/tmpcFN2dC/preproc/_run_id_12_subject_id_sub-02_task_id_train_/_plot_type_rotations/Check_motion_plots\n"
       ]
      },
      {
       "output_type": "stream",
       "stream": "stdout",
       "text": [
        "170606-21:32:05,825 workflow INFO:\n",
        "\t Executing node _Check_motion_plots0 in dir: /scratch/afni/tmpcFN2dC/preproc/_run_id_12_subject_id_sub-02_task_id_train_/_plot_type_rotations/Check_motion_plots/mapflow/_Check_motion_plots0\n"
       ]
      },
      {
       "output_type": "stream",
       "stream": "stdout",
       "text": [
        "170606-21:32:05,842 workflow INFO:\n",
        "\t Running: fsl_tsplot -i /scratch/afni/tmpZTahK4/preproc/_run_id_12_subject_id_sub-02_task_id_train_/Realign_with_MCFLIRT/mapflow/_Realign_with_MCFLIRT0/sub-02_train_12_st_mcf.nii.par -o /scratch/afni/tmpZTahK4/preproc/_run_id_12_subject_id_sub-02_task_id_train_/Realign_with_MCFLIRT/mapflow/_Realign_with_MCFLIRT0/sub-02_train_12_st_mcf.nii_rot.png -t 'MCFLIRT estimated rotations (radians)' --start=1 --finish=3 -a x,y,z\n"
       ]
      },
      {
       "output_type": "stream",
       "stream": "stdout",
       "text": [
        "170606-21:32:06,981 workflow INFO:\n",
        "\t Executing node Slice_time_correction.b20 in dir: /scratch/afni/tmpNEisyD/preproc/_run_id_9_subject_id_sub-02_task_id_test_/Slice_time_correction\n"
       ]
      },
      {
       "output_type": "stream",
       "stream": "stdout",
       "text": [
        "170606-21:32:07,6 workflow INFO:\n",
        "\t Executing node _Slice_time_correction0 in dir: /scratch/afni/tmpNEisyD/preproc/_run_id_9_subject_id_sub-02_task_id_test_/Slice_time_correction/mapflow/_Slice_time_correction0\n"
       ]
      },
      {
       "output_type": "stream",
       "stream": "stdout",
       "text": [
        "170606-21:32:07,22 workflow INFO:\n",
        "\t Running: slicetimer --in=/scratch/sanjay/GRT/fmri_data/nifti/sub-02/func/sub-02_test_9.nii --odd --out=/scratch/afni/tmpNEisyD/preproc/_run_id_9_subject_id_sub-02_task_id_test_/Slice_time_correction/mapflow/_Slice_time_correction0/sub-02_test_9_st.nii\n"
       ]
      },
      {
       "output_type": "stream",
       "stream": "stdout",
       "text": [
        "170606-21:33:14,290 workflow INFO:\n",
        "\t Executing node Strip_skull.b03 in dir: /scratch/afni/tmpJzY4Y8/preproc/_run_id_4_subject_id_sub-02_task_id_train_/Strip_skull\n"
       ]
      },
      {
       "output_type": "stream",
       "stream": "stdout",
       "text": [
        "170606-21:33:14,317 workflow INFO:\n",
        "\t Executing node _Strip_skull0 in dir: /scratch/afni/tmpJzY4Y8/preproc/_run_id_4_subject_id_sub-02_task_id_train_/Strip_skull/mapflow/_Strip_skull0\n"
       ]
      },
      {
       "output_type": "stream",
       "stream": "stdout",
       "text": [
        "170606-21:33:14,336 workflow INFO:\n",
        "\t Running: bet /scratch/afni/tmp7Ws_Tc/preproc/_run_id_4_subject_id_sub-02_task_id_train_/Register_functionals/mapflow/_Register_functionals0/sub-02_train_4_st_mcf_flirt.nii /scratch/afni/tmpJzY4Y8/preproc/_run_id_4_subject_id_sub-02_task_id_train_/Strip_skull/mapflow/_Strip_skull0/sub-02_train_4_st_mcf_flirt_brain.nii -F\n"
       ]
      },
      {
       "output_type": "stream",
       "stream": "stdout",
       "text": [
        "170606-21:33:22,641 workflow INFO:\n",
        "\t Executing node Resample_T1.b11 in dir: /scratch/afni/tmp63Htyr/preproc/_run_id_12_subject_id_sub-02_task_id_train_/Resample_T1\n"
       ]
      },
      {
       "output_type": "stream",
       "stream": "stdout",
       "text": [
        "170606-21:33:22,662 workflow INFO:\n",
        "\t Running: 3dresample -prefix sub-02_T1_resample.nii -dxyz 2.400000 2.400000 2.400000 -inset /scratch/afni/tmp63Htyr/preproc/_run_id_12_subject_id_sub-02_task_id_train_/Resample_T1/sub-02_T1.nii\n"
       ]
      },
      {
       "output_type": "stream",
       "stream": "stdout",
       "text": [
        "170606-21:33:23,763 workflow INFO:\n",
        "\t Executing node Register_functionals.b11 in dir: /scratch/afni/tmpz9Lc48/preproc/_run_id_12_subject_id_sub-02_task_id_train_/Register_functionals\n"
       ]
      },
      {
       "output_type": "stream",
       "stream": "stdout",
       "text": [
        "170606-21:33:23,793 workflow INFO:\n",
        "\t Executing node _Register_functionals0 in dir: /scratch/afni/tmpz9Lc48/preproc/_run_id_12_subject_id_sub-02_task_id_train_/Register_functionals/mapflow/_Register_functionals0\n"
       ]
      },
      {
       "output_type": "stream",
       "stream": "stdout",
       "text": [
        "170606-21:33:23,814 workflow INFO:\n",
        "\t Running: flirt -in /scratch/afni/tmpZTahK4/preproc/_run_id_12_subject_id_sub-02_task_id_train_/Realign_with_MCFLIRT/mapflow/_Realign_with_MCFLIRT0/sub-02_train_12_st_mcf.nii -ref /scratch/afni/tmp63Htyr/preproc/_run_id_12_subject_id_sub-02_task_id_train_/Resample_T1/sub-02_T1_resample.nii -out sub-02_train_12_st_mcf_flirt.nii -omat sub-02_train_12_st_mcf_flirt.mat\n"
       ]
      },
      {
       "output_type": "stream",
       "stream": "stdout",
       "text": [
        "170606-21:33:42,878 workflow INFO:\n",
        "\t Executing node Strip_skull.b11 in dir: /scratch/afni/tmpXSo_NT/preproc/_run_id_12_subject_id_sub-02_task_id_train_/Strip_skull\n"
       ]
      },
      {
       "output_type": "stream",
       "stream": "stdout",
       "text": [
        "170606-21:33:42,904 workflow INFO:\n",
        "\t Executing node _Strip_skull0 in dir: /scratch/afni/tmpXSo_NT/preproc/_run_id_12_subject_id_sub-02_task_id_train_/Strip_skull/mapflow/_Strip_skull0\n"
       ]
      },
      {
       "output_type": "stream",
       "stream": "stdout",
       "text": [
        "170606-21:33:42,922 workflow INFO:\n",
        "\t Running: bet /scratch/afni/tmpz9Lc48/preproc/_run_id_12_subject_id_sub-02_task_id_train_/Register_functionals/mapflow/_Register_functionals0/sub-02_train_12_st_mcf_flirt.nii /scratch/afni/tmpXSo_NT/preproc/_run_id_12_subject_id_sub-02_task_id_train_/Strip_skull/mapflow/_Strip_skull0/sub-02_train_12_st_mcf_flirt_brain.nii -F\n"
       ]
      },
      {
       "output_type": "stream",
       "stream": "stdout",
       "text": [
        "170606-21:33:49,697 workflow INFO:\n",
        "\t Executing node store_outputs.a1.b11 in dir: /scratch/afni/tmpxUzGcM/preproc/_run_id_12_subject_id_sub-02_task_id_train_/_plot_type_translations/store_outputs\n"
       ]
      },
      {
       "output_type": "stream",
       "stream": "stdout",
       "text": [
        "170606-21:33:49,787 workflow INFO:\n",
        "\t Executing node store_outputs.a0.b11 in dir: /scratch/afni/tmpH70Ivs/preproc/_run_id_12_subject_id_sub-02_task_id_train_/_plot_type_rotations/store_outputs\n"
       ]
      },
      {
       "output_type": "stream",
       "stream": "stdout",
       "text": [
        "170606-21:33:49,874 workflow INFO:\n",
        "\t Executing node Register_functionals.b36 in dir: /scratch/afni/tmpSjSYuT/preproc/_run_id_1_subject_id_sub-01_task_id_test_/Register_functionals\n"
       ]
      },
      {
       "output_type": "stream",
       "stream": "stdout",
       "text": [
        "170606-21:33:49,904 workflow INFO:\n",
        "\t Executing node _Register_functionals0 in dir: /scratch/afni/tmpSjSYuT/preproc/_run_id_1_subject_id_sub-01_task_id_test_/Register_functionals/mapflow/_Register_functionals0\n"
       ]
      },
      {
       "output_type": "stream",
       "stream": "stdout",
       "text": [
        "170606-21:33:49,924 workflow INFO:\n",
        "\t Running: flirt -in /scratch/afni/tmp01d7o4/preproc/_run_id_1_subject_id_sub-01_task_id_test_/Realign_with_MCFLIRT/mapflow/_Realign_with_MCFLIRT0/sub-01_test_1_st_mcf.nii -ref /scratch/afni/tmpc5IjVj/preproc/_run_id_1_subject_id_sub-01_task_id_test_/Resample_T1/sub-01_T1_resample.nii -out sub-01_test_1_st_mcf_flirt.nii -omat sub-01_test_1_st_mcf_flirt.mat\n"
       ]
      },
      {
       "output_type": "stream",
       "stream": "stdout",
       "text": [
        "170606-21:34:09,488 workflow INFO:\n",
        "\t Executing node Strip_skull.b36 in dir: /scratch/afni/tmp2YABXi/preproc/_run_id_1_subject_id_sub-01_task_id_test_/Strip_skull\n"
       ]
      },
      {
       "output_type": "stream",
       "stream": "stdout",
       "text": [
        "170606-21:34:09,514 workflow INFO:\n",
        "\t Executing node _Strip_skull0 in dir: /scratch/afni/tmp2YABXi/preproc/_run_id_1_subject_id_sub-01_task_id_test_/Strip_skull/mapflow/_Strip_skull0\n"
       ]
      },
      {
       "output_type": "stream",
       "stream": "stdout",
       "text": [
        "170606-21:34:09,532 workflow INFO:\n",
        "\t Running: bet /scratch/afni/tmpSjSYuT/preproc/_run_id_1_subject_id_sub-01_task_id_test_/Register_functionals/mapflow/_Register_functionals0/sub-01_test_1_st_mcf_flirt.nii /scratch/afni/tmp2YABXi/preproc/_run_id_1_subject_id_sub-01_task_id_test_/Strip_skull/mapflow/_Strip_skull0/sub-01_test_1_st_mcf_flirt_brain.nii -F\n"
       ]
      },
      {
       "output_type": "stream",
       "stream": "stdout",
       "text": [
        "170606-21:34:17,865 workflow INFO:\n",
        "\t Executing node store_outputs.a1.b36 in dir: /scratch/afni/tmpPFJcL9/preproc/_run_id_1_subject_id_sub-01_task_id_test_/_plot_type_translations/store_outputs\n"
       ]
      },
      {
       "output_type": "stream",
       "stream": "stdout",
       "text": [
        "170606-21:34:17,969 workflow INFO:\n",
        "\t Executing node store_outputs.a0.b36 in dir: /scratch/afni/tmpNjnBAX/preproc/_run_id_1_subject_id_sub-01_task_id_test_/_plot_type_rotations/store_outputs\n"
       ]
      },
      {
       "output_type": "stream",
       "stream": "stdout",
       "text": [
        "170606-21:34:18,17 workflow INFO:\n",
        "\t Executing node Get_files.b04 in dir: /scratch/afni/tmpp7SXFg/preproc/_run_id_5_subject_id_sub-02_task_id_train_/Get_files\n"
       ]
      },
      {
       "output_type": "stream",
       "stream": "stdout",
       "text": [
        "170606-21:34:18,69 workflow INFO:\n",
        "\t Executing node Resample_T1.b04 in dir: /scratch/afni/tmpvJbw2N/preproc/_run_id_5_subject_id_sub-02_task_id_train_/Resample_T1\n"
       ]
      },
      {
       "output_type": "stream",
       "stream": "stdout",
       "text": [
        "170606-21:34:18,92 workflow INFO:\n",
        "\t Running: 3dresample -prefix sub-02_T1_resample.nii -dxyz 2.400000 2.400000 2.400000 -inset /scratch/afni/tmpvJbw2N/preproc/_run_id_5_subject_id_sub-02_task_id_train_/Resample_T1/sub-02_T1.nii\n"
       ]
      },
      {
       "output_type": "stream",
       "stream": "stdout",
       "text": [
        "170606-21:34:19,181 workflow INFO:\n",
        "\t Executing node Slice_time_correction.b04 in dir: /scratch/afni/tmpH3ZUhG/preproc/_run_id_5_subject_id_sub-02_task_id_train_/Slice_time_correction\n"
       ]
      },
      {
       "output_type": "stream",
       "stream": "stdout",
       "text": [
        "170606-21:34:19,202 workflow INFO:\n",
        "\t Executing node _Slice_time_correction0 in dir: /scratch/afni/tmpH3ZUhG/preproc/_run_id_5_subject_id_sub-02_task_id_train_/Slice_time_correction/mapflow/_Slice_time_correction0\n"
       ]
      },
      {
       "output_type": "stream",
       "stream": "stdout",
       "text": [
        "170606-21:34:19,220 workflow INFO:\n",
        "\t Running: slicetimer --in=/scratch/sanjay/GRT/fmri_data/nifti/sub-02/func/sub-02_train_5.nii --odd --out=/scratch/afni/tmpH3ZUhG/preproc/_run_id_5_subject_id_sub-02_task_id_train_/Slice_time_correction/mapflow/_Slice_time_correction0/sub-02_train_5_st.nii\n"
       ]
      },
      {
       "output_type": "stream",
       "stream": "stdout",
       "text": [
        "170606-21:34:57,249 workflow INFO:\n",
        "\t Executing node Realign_with_MCFLIRT.b04 in dir: /scratch/afni/tmpbDJHsf/preproc/_run_id_5_subject_id_sub-02_task_id_train_/Realign_with_MCFLIRT\n"
       ]
      },
      {
       "output_type": "stream",
       "stream": "stdout",
       "text": [
        "170606-21:34:57,280 workflow INFO:\n",
        "\t Executing node _Realign_with_MCFLIRT0 in dir: /scratch/afni/tmpbDJHsf/preproc/_run_id_5_subject_id_sub-02_task_id_train_/Realign_with_MCFLIRT/mapflow/_Realign_with_MCFLIRT0\n"
       ]
      },
      {
       "output_type": "stream",
       "stream": "stdout",
       "text": [
        "170606-21:34:57,299 workflow INFO:\n",
        "\t Running: mcflirt -in /scratch/afni/tmpH3ZUhG/preproc/_run_id_5_subject_id_sub-02_task_id_train_/Slice_time_correction/mapflow/_Slice_time_correction0/sub-02_train_5_st.nii -dof 6 -sinc_final -out /scratch/afni/tmpbDJHsf/preproc/_run_id_5_subject_id_sub-02_task_id_train_/Realign_with_MCFLIRT/mapflow/_Realign_with_MCFLIRT0/sub-02_train_5_st_mcf.nii -mats -plots\n"
       ]
      },
      {
       "output_type": "stream",
       "stream": "stdout",
       "text": [
        "170606-21:43:26,642 workflow INFO:\n",
        "\t Executing node Register_functionals.b04 in dir: /scratch/afni/tmpyBZcpo/preproc/_run_id_5_subject_id_sub-02_task_id_train_/Register_functionals\n"
       ]
      },
      {
       "output_type": "stream",
       "stream": "stdout",
       "text": [
        "170606-21:43:26,668 workflow INFO:\n",
        "\t Executing node _Register_functionals0 in dir: /scratch/afni/tmpyBZcpo/preproc/_run_id_5_subject_id_sub-02_task_id_train_/Register_functionals/mapflow/_Register_functionals0\n"
       ]
      },
      {
       "output_type": "stream",
       "stream": "stdout",
       "text": [
        "170606-21:43:26,688 workflow INFO:\n",
        "\t Running: flirt -in /scratch/afni/tmpbDJHsf/preproc/_run_id_5_subject_id_sub-02_task_id_train_/Realign_with_MCFLIRT/mapflow/_Realign_with_MCFLIRT0/sub-02_train_5_st_mcf.nii -ref /scratch/afni/tmpvJbw2N/preproc/_run_id_5_subject_id_sub-02_task_id_train_/Resample_T1/sub-02_T1_resample.nii -out sub-02_train_5_st_mcf_flirt.nii -omat sub-02_train_5_st_mcf_flirt.mat\n"
       ]
      },
      {
       "output_type": "stream",
       "stream": "stdout",
       "text": [
        "170606-21:43:41,135 workflow INFO:\n",
        "\t Executing node Strip_skull.b04 in dir: /scratch/afni/tmp48W0GX/preproc/_run_id_5_subject_id_sub-02_task_id_train_/Strip_skull\n"
       ]
      },
      {
       "output_type": "stream",
       "stream": "stdout",
       "text": [
        "170606-21:43:41,158 workflow INFO:\n",
        "\t Executing node _Strip_skull0 in dir: /scratch/afni/tmp48W0GX/preproc/_run_id_5_subject_id_sub-02_task_id_train_/Strip_skull/mapflow/_Strip_skull0\n"
       ]
      },
      {
       "output_type": "stream",
       "stream": "stdout",
       "text": [
        "170606-21:43:41,175 workflow INFO:\n",
        "\t Running: bet /scratch/afni/tmpyBZcpo/preproc/_run_id_5_subject_id_sub-02_task_id_train_/Register_functionals/mapflow/_Register_functionals0/sub-02_train_5_st_mcf_flirt.nii /scratch/afni/tmp48W0GX/preproc/_run_id_5_subject_id_sub-02_task_id_train_/Strip_skull/mapflow/_Strip_skull0/sub-02_train_5_st_mcf_flirt_brain.nii -F\n"
       ]
      },
      {
       "output_type": "stream",
       "stream": "stdout",
       "text": [
        "170606-21:43:48,946 workflow INFO:\n",
        "\t Executing node Check_motion_plots.aI.a0.b04 in dir: /scratch/afni/tmpF_ZdYv/preproc/_run_id_5_subject_id_sub-02_task_id_train_/_plot_type_rotations/Check_motion_plots\n"
       ]
      },
      {
       "output_type": "stream",
       "stream": "stdout",
       "text": [
        "170606-21:43:48,966 workflow INFO:\n",
        "\t Executing node _Check_motion_plots0 in dir: /scratch/afni/tmpF_ZdYv/preproc/_run_id_5_subject_id_sub-02_task_id_train_/_plot_type_rotations/Check_motion_plots/mapflow/_Check_motion_plots0\n"
       ]
      },
      {
       "output_type": "stream",
       "stream": "stdout",
       "text": [
        "170606-21:43:48,984 workflow INFO:\n",
        "\t Running: fsl_tsplot -i /scratch/afni/tmpbDJHsf/preproc/_run_id_5_subject_id_sub-02_task_id_train_/Realign_with_MCFLIRT/mapflow/_Realign_with_MCFLIRT0/sub-02_train_5_st_mcf.nii.par -o /scratch/afni/tmpbDJHsf/preproc/_run_id_5_subject_id_sub-02_task_id_train_/Realign_with_MCFLIRT/mapflow/_Realign_with_MCFLIRT0/sub-02_train_5_st_mcf.nii_rot.png -t 'MCFLIRT estimated rotations (radians)' --start=1 --finish=3 -a x,y,z\n"
       ]
      },
      {
       "output_type": "stream",
       "stream": "stdout",
       "text": [
        "170606-21:43:50,116 workflow INFO:\n",
        "\t Executing node store_outputs.a0.b04 in dir: /scratch/afni/tmpzfOL4t/preproc/_run_id_5_subject_id_sub-02_task_id_train_/_plot_type_rotations/store_outputs\n"
       ]
      },
      {
       "output_type": "stream",
       "stream": "stdout",
       "text": [
        "170606-21:43:50,182 workflow INFO:\n",
        "\t Executing node Strip_skull.b30 in dir: /scratch/afni/tmpOr03Qg/preproc/_run_id_7_subject_id_sub-01_task_id_train_/Strip_skull\n"
       ]
      },
      {
       "output_type": "stream",
       "stream": "stdout",
       "text": [
        "170606-21:43:50,212 workflow INFO:\n",
        "\t Executing node _Strip_skull0 in dir: /scratch/afni/tmpOr03Qg/preproc/_run_id_7_subject_id_sub-01_task_id_train_/Strip_skull/mapflow/_Strip_skull0\n"
       ]
      },
      {
       "output_type": "stream",
       "stream": "stdout",
       "text": [
        "170606-21:43:50,229 workflow INFO:\n",
        "\t Running: bet /scratch/afni/tmpsHfJum/preproc/_run_id_7_subject_id_sub-01_task_id_train_/Register_functionals/mapflow/_Register_functionals0/sub-01_train_7_st_mcf_flirt.nii /scratch/afni/tmpOr03Qg/preproc/_run_id_7_subject_id_sub-01_task_id_train_/Strip_skull/mapflow/_Strip_skull0/sub-01_train_7_st_mcf_flirt_brain.nii -F\n"
       ]
      },
      {
       "output_type": "stream",
       "stream": "stdout",
       "text": [
        "170606-21:43:58,54 workflow INFO:\n",
        "\t Executing node store_outputs.a1.b30 in dir: /scratch/afni/tmpE3Kehd/preproc/_run_id_7_subject_id_sub-01_task_id_train_/_plot_type_translations/store_outputs\n"
       ]
      },
      {
       "output_type": "stream",
       "stream": "stdout",
       "text": [
        "170606-21:43:58,188 workflow INFO:\n",
        "\t Executing node store_outputs.a0.b30 in dir: /scratch/afni/tmpNgjKaC/preproc/_run_id_7_subject_id_sub-01_task_id_train_/_plot_type_rotations/store_outputs\n"
       ]
      },
      {
       "output_type": "stream",
       "stream": "stdout",
       "text": [
        "170606-21:43:58,238 workflow INFO:\n",
        "\t Executing node Get_files.b10 in dir: /scratch/afni/tmpTD_o9T/preproc/_run_id_11_subject_id_sub-02_task_id_train_/Get_files\n"
       ]
      },
      {
       "output_type": "stream",
       "stream": "stdout",
       "text": [
        "170606-21:43:58,283 workflow INFO:\n",
        "\t Executing node Slice_time_correction.b10 in dir: /scratch/afni/tmpejGAUJ/preproc/_run_id_11_subject_id_sub-02_task_id_train_/Slice_time_correction\n"
       ]
      },
      {
       "output_type": "stream",
       "stream": "stdout",
       "text": [
        "170606-21:43:58,304 workflow INFO:\n",
        "\t Executing node _Slice_time_correction0 in dir: /scratch/afni/tmpejGAUJ/preproc/_run_id_11_subject_id_sub-02_task_id_train_/Slice_time_correction/mapflow/_Slice_time_correction0\n"
       ]
      },
      {
       "output_type": "stream",
       "stream": "stdout",
       "text": [
        "170606-21:43:58,323 workflow INFO:\n",
        "\t Running: slicetimer --in=/scratch/sanjay/GRT/fmri_data/nifti/sub-02/func/sub-02_train_11.nii --odd --out=/scratch/afni/tmpejGAUJ/preproc/_run_id_11_subject_id_sub-02_task_id_train_/Slice_time_correction/mapflow/_Slice_time_correction0/sub-02_train_11_st.nii\n"
       ]
      },
      {
       "output_type": "stream",
       "stream": "stdout",
       "text": [
        "170606-21:44:34,793 workflow INFO:\n",
        "\t Executing node Get_files.b13 in dir: /scratch/afni/tmpIOw7_E/preproc/_run_id_2_subject_id_sub-02_task_id_test_/Get_files\n"
       ]
      },
      {
       "output_type": "stream",
       "stream": "stdout",
       "text": [
        "170606-21:44:34,839 workflow INFO:\n",
        "\t Executing node Resample_T1.b13 in dir: /scratch/afni/tmpWiHRsv/preproc/_run_id_2_subject_id_sub-02_task_id_test_/Resample_T1\n"
       ]
      },
      {
       "output_type": "stream",
       "stream": "stdout",
       "text": [
        "170606-21:44:34,862 workflow INFO:\n",
        "\t Running: 3dresample -prefix sub-02_T1_resample.nii -dxyz 2.400000 2.400000 2.400000 -inset /scratch/afni/tmpWiHRsv/preproc/_run_id_2_subject_id_sub-02_task_id_test_/Resample_T1/sub-02_T1.nii\n"
       ]
      },
      {
       "output_type": "stream",
       "stream": "stdout",
       "text": [
        "170606-21:44:35,957 workflow INFO:\n",
        "\t Executing node Slice_time_correction.b13 in dir: /scratch/afni/tmp3VKllJ/preproc/_run_id_2_subject_id_sub-02_task_id_test_/Slice_time_correction\n"
       ]
      },
      {
       "output_type": "stream",
       "stream": "stdout",
       "text": [
        "170606-21:44:35,983 workflow INFO:\n",
        "\t Executing node _Slice_time_correction0 in dir: /scratch/afni/tmp3VKllJ/preproc/_run_id_2_subject_id_sub-02_task_id_test_/Slice_time_correction/mapflow/_Slice_time_correction0\n"
       ]
      },
      {
       "output_type": "stream",
       "stream": "stdout",
       "text": [
        "170606-21:44:36,0 workflow INFO:\n",
        "\t Running: slicetimer --in=/scratch/sanjay/GRT/fmri_data/nifti/sub-02/func/sub-02_test_2.nii --odd --out=/scratch/afni/tmp3VKllJ/preproc/_run_id_2_subject_id_sub-02_task_id_test_/Slice_time_correction/mapflow/_Slice_time_correction0/sub-02_test_2_st.nii\n"
       ]
      },
      {
       "output_type": "stream",
       "stream": "stdout",
       "text": [
        "170606-21:45:43,762 workflow INFO:\n",
        "\t Executing node Realign_with_MCFLIRT.b10 in dir: /scratch/afni/tmpdx9bEY/preproc/_run_id_11_subject_id_sub-02_task_id_train_/Realign_with_MCFLIRT\n"
       ]
      },
      {
       "output_type": "stream",
       "stream": "stdout",
       "text": [
        "170606-21:45:43,786 workflow INFO:\n",
        "\t Executing node _Realign_with_MCFLIRT0 in dir: /scratch/afni/tmpdx9bEY/preproc/_run_id_11_subject_id_sub-02_task_id_train_/Realign_with_MCFLIRT/mapflow/_Realign_with_MCFLIRT0\n"
       ]
      },
      {
       "output_type": "stream",
       "stream": "stdout",
       "text": [
        "170606-21:45:43,809 workflow INFO:\n",
        "\t Running: mcflirt -in /scratch/afni/tmpejGAUJ/preproc/_run_id_11_subject_id_sub-02_task_id_train_/Slice_time_correction/mapflow/_Slice_time_correction0/sub-02_train_11_st.nii -dof 6 -sinc_final -out /scratch/afni/tmpdx9bEY/preproc/_run_id_11_subject_id_sub-02_task_id_train_/Realign_with_MCFLIRT/mapflow/_Realign_with_MCFLIRT0/sub-02_train_11_st_mcf.nii -mats -plots\n"
       ]
      },
      {
       "output_type": "stream",
       "stream": "stdout",
       "text": [
        "170606-21:53:48,155 workflow INFO:\n",
        "\t Executing node Check_motion_plots.aI.a1.b10 in dir: /scratch/afni/tmpRkB_8T/preproc/_run_id_11_subject_id_sub-02_task_id_train_/_plot_type_translations/Check_motion_plots\n"
       ]
      },
      {
       "output_type": "stream",
       "stream": "stdout",
       "text": [
        "170606-21:53:48,176 workflow INFO:\n",
        "\t Executing node _Check_motion_plots0 in dir: /scratch/afni/tmpRkB_8T/preproc/_run_id_11_subject_id_sub-02_task_id_train_/_plot_type_translations/Check_motion_plots/mapflow/_Check_motion_plots0\n"
       ]
      },
      {
       "output_type": "stream",
       "stream": "stdout",
       "text": [
        "170606-21:53:48,192 workflow INFO:\n",
        "\t Running: fsl_tsplot -i /scratch/afni/tmpdx9bEY/preproc/_run_id_11_subject_id_sub-02_task_id_train_/Realign_with_MCFLIRT/mapflow/_Realign_with_MCFLIRT0/sub-02_train_11_st_mcf.nii.par -o /scratch/afni/tmpdx9bEY/preproc/_run_id_11_subject_id_sub-02_task_id_train_/Realign_with_MCFLIRT/mapflow/_Realign_with_MCFLIRT0/sub-02_train_11_st_mcf.nii_trans.png -t 'MCFLIRT estimated translations (mm)' --start=4 --finish=6 -a x,y,z\n"
       ]
      },
      {
       "output_type": "stream",
       "stream": "stdout",
       "text": [
        "170606-21:53:49,313 workflow INFO:\n",
        "\t Executing node Strip_skull.b31 in dir: /scratch/afni/tmp4InDvC/preproc/_run_id_8_subject_id_sub-01_task_id_train_/Strip_skull\n"
       ]
      },
      {
       "output_type": "stream",
       "stream": "stdout",
       "text": [
        "170606-21:53:49,337 workflow INFO:\n",
        "\t Executing node _Strip_skull0 in dir: /scratch/afni/tmp4InDvC/preproc/_run_id_8_subject_id_sub-01_task_id_train_/Strip_skull/mapflow/_Strip_skull0\n"
       ]
      },
      {
       "output_type": "stream",
       "stream": "stdout",
       "text": [
        "170606-21:53:49,353 workflow INFO:\n",
        "\t Running: bet /scratch/afni/tmpTPkgdT/preproc/_run_id_8_subject_id_sub-01_task_id_train_/Register_functionals/mapflow/_Register_functionals0/sub-01_train_8_st_mcf_flirt.nii /scratch/afni/tmp4InDvC/preproc/_run_id_8_subject_id_sub-01_task_id_train_/Strip_skull/mapflow/_Strip_skull0/sub-01_train_8_st_mcf_flirt_brain.nii -F\n"
       ]
      },
      {
       "output_type": "stream",
       "stream": "stdout",
       "text": [
        "170606-21:53:57,174 workflow INFO:\n",
        "\t Executing node store_outputs.a1.b31 in dir: /scratch/afni/tmpgWPCUA/preproc/_run_id_8_subject_id_sub-01_task_id_train_/_plot_type_translations/store_outputs\n"
       ]
      },
      {
       "output_type": "stream",
       "stream": "stdout",
       "text": [
        "170606-21:53:57,272 workflow INFO:\n",
        "\t Executing node store_outputs.a0.b31 in dir: /scratch/afni/tmpf7SE2U/preproc/_run_id_8_subject_id_sub-01_task_id_train_/_plot_type_rotations/store_outputs\n"
       ]
      },
      {
       "output_type": "stream",
       "stream": "stdout",
       "text": [
        "170606-21:53:57,337 workflow INFO:\n",
        "\t Executing node Resample_T1.b38 in dir: /scratch/afni/tmpIqnIOU/preproc/_run_id_3_subject_id_sub-01_task_id_test_/Resample_T1\n"
       ]
      },
      {
       "output_type": "stream",
       "stream": "stdout",
       "text": [
        "170606-21:53:57,358 workflow INFO:\n",
        "\t Running: 3dresample -prefix sub-01_T1_resample.nii -dxyz 2.400000 2.400000 2.400000 -inset /scratch/afni/tmpIqnIOU/preproc/_run_id_3_subject_id_sub-01_task_id_test_/Resample_T1/sub-01_T1.nii\n"
       ]
      },
      {
       "output_type": "stream",
       "stream": "stdout",
       "text": [
        "170606-21:53:58,459 workflow INFO:\n",
        "\t Executing node Register_functionals.b38 in dir: /scratch/afni/tmptYx5sT/preproc/_run_id_3_subject_id_sub-01_task_id_test_/Register_functionals\n"
       ]
      },
      {
       "output_type": "stream",
       "stream": "stdout",
       "text": [
        "170606-21:53:58,490 workflow INFO:\n",
        "\t Executing node _Register_functionals0 in dir: /scratch/afni/tmptYx5sT/preproc/_run_id_3_subject_id_sub-01_task_id_test_/Register_functionals/mapflow/_Register_functionals0\n"
       ]
      },
      {
       "output_type": "stream",
       "stream": "stdout",
       "text": [
        "170606-21:53:58,513 workflow INFO:\n",
        "\t Running: flirt -in /scratch/afni/tmpo5fmoC/preproc/_run_id_3_subject_id_sub-01_task_id_test_/Realign_with_MCFLIRT/mapflow/_Realign_with_MCFLIRT0/sub-01_test_3_st_mcf.nii -ref /scratch/afni/tmpIqnIOU/preproc/_run_id_3_subject_id_sub-01_task_id_test_/Resample_T1/sub-01_T1_resample.nii -out sub-01_test_3_st_mcf_flirt.nii -omat sub-01_test_3_st_mcf_flirt.mat\n"
       ]
      },
      {
       "output_type": "stream",
       "stream": "stdout",
       "text": [
        "170606-21:54:14,501 workflow INFO:\n",
        "\t Executing node Strip_skull.b38 in dir: /scratch/afni/tmpmfoUje/preproc/_run_id_3_subject_id_sub-01_task_id_test_/Strip_skull\n"
       ]
      },
      {
       "output_type": "stream",
       "stream": "stdout",
       "text": [
        "170606-21:54:14,525 workflow INFO:\n",
        "\t Executing node _Strip_skull0 in dir: /scratch/afni/tmpmfoUje/preproc/_run_id_3_subject_id_sub-01_task_id_test_/Strip_skull/mapflow/_Strip_skull0\n"
       ]
      },
      {
       "output_type": "stream",
       "stream": "stdout",
       "text": [
        "170606-21:54:14,543 workflow INFO:\n",
        "\t Running: bet /scratch/afni/tmptYx5sT/preproc/_run_id_3_subject_id_sub-01_task_id_test_/Register_functionals/mapflow/_Register_functionals0/sub-01_test_3_st_mcf_flirt.nii /scratch/afni/tmpmfoUje/preproc/_run_id_3_subject_id_sub-01_task_id_test_/Strip_skull/mapflow/_Strip_skull0/sub-01_test_3_st_mcf_flirt_brain.nii -F\n"
       ]
      },
      {
       "output_type": "stream",
       "stream": "stdout",
       "text": [
        "170606-21:54:22,346 workflow INFO:\n",
        "\t Executing node store_outputs.a0.b38 in dir: /scratch/afni/tmp9bp5nq/preproc/_run_id_3_subject_id_sub-01_task_id_test_/_plot_type_rotations/store_outputs\n"
       ]
      },
      {
       "output_type": "stream",
       "stream": "stdout",
       "text": [
        "170606-21:54:22,457 workflow INFO:\n",
        "\t Executing node store_outputs.a1.b38 in dir: /scratch/afni/tmpC8a454/preproc/_run_id_3_subject_id_sub-01_task_id_test_/_plot_type_translations/store_outputs\n"
       ]
      },
      {
       "output_type": "stream",
       "stream": "stdout",
       "text": [
        "170606-21:54:22,512 workflow INFO:\n",
        "\t Executing node Check_motion_plots.aI.a0.b10 in dir: /scratch/afni/tmpmIPewG/preproc/_run_id_11_subject_id_sub-02_task_id_train_/_plot_type_rotations/Check_motion_plots\n"
       ]
      },
      {
       "output_type": "stream",
       "stream": "stdout",
       "text": [
        "170606-21:54:22,535 workflow INFO:\n",
        "\t Executing node _Check_motion_plots0 in dir: /scratch/afni/tmpmIPewG/preproc/_run_id_11_subject_id_sub-02_task_id_train_/_plot_type_rotations/Check_motion_plots/mapflow/_Check_motion_plots0\n"
       ]
      },
      {
       "output_type": "stream",
       "stream": "stdout",
       "text": [
        "170606-21:54:22,551 workflow INFO:\n",
        "\t Running: fsl_tsplot -i /scratch/afni/tmpdx9bEY/preproc/_run_id_11_subject_id_sub-02_task_id_train_/Realign_with_MCFLIRT/mapflow/_Realign_with_MCFLIRT0/sub-02_train_11_st_mcf.nii.par -o /scratch/afni/tmpdx9bEY/preproc/_run_id_11_subject_id_sub-02_task_id_train_/Realign_with_MCFLIRT/mapflow/_Realign_with_MCFLIRT0/sub-02_train_11_st_mcf.nii_rot.png -t 'MCFLIRT estimated rotations (radians)' --start=1 --finish=3 -a x,y,z\n"
       ]
      },
      {
       "output_type": "stream",
       "stream": "stdout",
       "text": [
        "170606-21:54:23,656 workflow INFO:\n",
        "\t Executing node Check_motion_plots.aI.a1.b04 in dir: /scratch/afni/tmp_JDJHi/preproc/_run_id_5_subject_id_sub-02_task_id_train_/_plot_type_translations/Check_motion_plots\n"
       ]
      },
      {
       "output_type": "stream",
       "stream": "stdout",
       "text": [
        "170606-21:54:23,676 workflow INFO:\n",
        "\t Executing node _Check_motion_plots0 in dir: /scratch/afni/tmp_JDJHi/preproc/_run_id_5_subject_id_sub-02_task_id_train_/_plot_type_translations/Check_motion_plots/mapflow/_Check_motion_plots0\n"
       ]
      },
      {
       "output_type": "stream",
       "stream": "stdout",
       "text": [
        "170606-21:54:23,692 workflow INFO:\n",
        "\t Running: fsl_tsplot -i /scratch/afni/tmpbDJHsf/preproc/_run_id_5_subject_id_sub-02_task_id_train_/Realign_with_MCFLIRT/mapflow/_Realign_with_MCFLIRT0/sub-02_train_5_st_mcf.nii.par -o /scratch/afni/tmpbDJHsf/preproc/_run_id_5_subject_id_sub-02_task_id_train_/Realign_with_MCFLIRT/mapflow/_Realign_with_MCFLIRT0/sub-02_train_5_st_mcf.nii_trans.png -t 'MCFLIRT estimated translations (mm)' --start=4 --finish=6 -a x,y,z\n"
       ]
      },
      {
       "output_type": "stream",
       "stream": "stdout",
       "text": [
        "170606-21:54:24,828 workflow INFO:\n",
        "\t Executing node store_outputs.a1.b04 in dir: /scratch/afni/tmpARsYnw/preproc/_run_id_5_subject_id_sub-02_task_id_train_/_plot_type_translations/store_outputs\n"
       ]
      },
      {
       "output_type": "stream",
       "stream": "stdout",
       "text": [
        "170606-21:54:24,960 workflow INFO:\n",
        "\t Executing node store_outputs.a0.b03 in dir: /scratch/afni/tmp13QAMQ/preproc/_run_id_4_subject_id_sub-02_task_id_train_/_plot_type_rotations/store_outputs\n"
       ]
      },
      {
       "output_type": "stream",
       "stream": "stdout",
       "text": [
        "170606-21:54:25,22 workflow INFO:\n",
        "\t Executing node Resample_T1.b10 in dir: /scratch/afni/tmpKSY6zR/preproc/_run_id_11_subject_id_sub-02_task_id_train_/Resample_T1\n"
       ]
      },
      {
       "output_type": "stream",
       "stream": "stdout",
       "text": [
        "170606-21:54:25,44 workflow INFO:\n",
        "\t Running: 3dresample -prefix sub-02_T1_resample.nii -dxyz 2.400000 2.400000 2.400000 -inset /scratch/afni/tmpKSY6zR/preproc/_run_id_11_subject_id_sub-02_task_id_train_/Resample_T1/sub-02_T1.nii\n"
       ]
      },
      {
       "output_type": "stream",
       "stream": "stdout",
       "text": [
        "170606-21:54:26,148 workflow INFO:\n",
        "\t Executing node Register_functionals.b10 in dir: /scratch/afni/tmprVIQte/preproc/_run_id_11_subject_id_sub-02_task_id_train_/Register_functionals\n"
       ]
      },
      {
       "output_type": "stream",
       "stream": "stdout",
       "text": [
        "170606-21:54:26,175 workflow INFO:\n",
        "\t Executing node _Register_functionals0 in dir: /scratch/afni/tmprVIQte/preproc/_run_id_11_subject_id_sub-02_task_id_train_/Register_functionals/mapflow/_Register_functionals0\n"
       ]
      },
      {
       "output_type": "stream",
       "stream": "stdout",
       "text": [
        "170606-21:54:26,197 workflow INFO:\n",
        "\t Running: flirt -in /scratch/afni/tmpdx9bEY/preproc/_run_id_11_subject_id_sub-02_task_id_train_/Realign_with_MCFLIRT/mapflow/_Realign_with_MCFLIRT0/sub-02_train_11_st_mcf.nii -ref /scratch/afni/tmpKSY6zR/preproc/_run_id_11_subject_id_sub-02_task_id_train_/Resample_T1/sub-02_T1_resample.nii -out sub-02_train_11_st_mcf_flirt.nii -omat sub-02_train_11_st_mcf_flirt.mat\n"
       ]
      },
      {
       "output_type": "stream",
       "stream": "stdout",
       "text": [
        "170606-21:54:40,638 workflow INFO:\n",
        "\t Executing node Strip_skull.b10 in dir: /scratch/afni/tmpOm6A1L/preproc/_run_id_11_subject_id_sub-02_task_id_train_/Strip_skull\n"
       ]
      },
      {
       "output_type": "stream",
       "stream": "stdout",
       "text": [
        "170606-21:54:40,660 workflow INFO:\n",
        "\t Executing node _Strip_skull0 in dir: /scratch/afni/tmpOm6A1L/preproc/_run_id_11_subject_id_sub-02_task_id_train_/Strip_skull/mapflow/_Strip_skull0\n"
       ]
      },
      {
       "output_type": "stream",
       "stream": "stdout",
       "text": [
        "170606-21:54:40,677 workflow INFO:\n",
        "\t Running: bet /scratch/afni/tmprVIQte/preproc/_run_id_11_subject_id_sub-02_task_id_train_/Register_functionals/mapflow/_Register_functionals0/sub-02_train_11_st_mcf_flirt.nii /scratch/afni/tmpOm6A1L/preproc/_run_id_11_subject_id_sub-02_task_id_train_/Strip_skull/mapflow/_Strip_skull0/sub-02_train_11_st_mcf_flirt_brain.nii -F\n"
       ]
      },
      {
       "output_type": "stream",
       "stream": "stdout",
       "text": [
        "170606-21:54:47,455 workflow INFO:\n",
        "\t Executing node store_outputs.a1.b10 in dir: /scratch/afni/tmpktYGxv/preproc/_run_id_11_subject_id_sub-02_task_id_train_/_plot_type_translations/store_outputs\n"
       ]
      },
      {
       "output_type": "stream",
       "stream": "stdout",
       "text": [
        "170606-21:54:47,547 workflow INFO:\n",
        "\t Executing node store_outputs.a0.b10 in dir: /scratch/afni/tmpEW53Hg/preproc/_run_id_11_subject_id_sub-02_task_id_train_/_plot_type_rotations/store_outputs\n"
       ]
      },
      {
       "output_type": "stream",
       "stream": "stdout",
       "text": [
        "170606-21:54:47,609 workflow INFO:\n",
        "\t Executing node Check_motion_plots.aI.a1.b34 in dir: /scratch/afni/tmpvU4Fuc/preproc/_run_id_11_subject_id_sub-01_task_id_train_/_plot_type_translations/Check_motion_plots\n"
       ]
      },
      {
       "output_type": "stream",
       "stream": "stdout",
       "text": [
        "170606-21:54:47,630 workflow INFO:\n",
        "\t Executing node _Check_motion_plots0 in dir: /scratch/afni/tmpvU4Fuc/preproc/_run_id_11_subject_id_sub-01_task_id_train_/_plot_type_translations/Check_motion_plots/mapflow/_Check_motion_plots0\n"
       ]
      },
      {
       "output_type": "stream",
       "stream": "stdout",
       "text": [
        "170606-21:54:47,647 workflow INFO:\n",
        "\t Running: fsl_tsplot -i /scratch/afni/tmp8C68Yw/preproc/_run_id_11_subject_id_sub-01_task_id_train_/Realign_with_MCFLIRT/mapflow/_Realign_with_MCFLIRT0/sub-01_train_11_st_mcf.nii.par -o /scratch/afni/tmp8C68Yw/preproc/_run_id_11_subject_id_sub-01_task_id_train_/Realign_with_MCFLIRT/mapflow/_Realign_with_MCFLIRT0/sub-01_train_11_st_mcf.nii_trans.png -t 'MCFLIRT estimated translations (mm)' --start=4 --finish=6 -a x,y,z\n"
       ]
      },
      {
       "output_type": "stream",
       "stream": "stdout",
       "text": [
        "170606-21:54:48,809 workflow INFO:\n",
        "\t Executing node store_outputs.a1.b34 in dir: /scratch/afni/tmpiy3VbH/preproc/_run_id_11_subject_id_sub-01_task_id_train_/_plot_type_translations/store_outputs\n"
       ]
      },
      {
       "output_type": "stream",
       "stream": "stdout",
       "text": [
        "170606-21:54:48,889 workflow INFO:\n",
        "\t Executing node Realign_with_MCFLIRT.b20 in dir: /scratch/afni/tmph4j3uM/preproc/_run_id_9_subject_id_sub-02_task_id_test_/Realign_with_MCFLIRT\n"
       ]
      },
      {
       "output_type": "stream",
       "stream": "stdout",
       "text": [
        "170606-21:54:48,912 workflow INFO:\n",
        "\t Executing node _Realign_with_MCFLIRT0 in dir: /scratch/afni/tmph4j3uM/preproc/_run_id_9_subject_id_sub-02_task_id_test_/Realign_with_MCFLIRT/mapflow/_Realign_with_MCFLIRT0\n"
       ]
      },
      {
       "output_type": "stream",
       "stream": "stdout",
       "text": [
        "170606-21:54:48,932 workflow INFO:\n",
        "\t Running: mcflirt -in /scratch/afni/tmpNEisyD/preproc/_run_id_9_subject_id_sub-02_task_id_test_/Slice_time_correction/mapflow/_Slice_time_correction0/sub-02_test_9_st.nii -dof 6 -sinc_final -out /scratch/afni/tmph4j3uM/preproc/_run_id_9_subject_id_sub-02_task_id_test_/Realign_with_MCFLIRT/mapflow/_Realign_with_MCFLIRT0/sub-02_test_9_st_mcf.nii -mats -plots\n"
       ]
      },
      {
       "output_type": "stream",
       "stream": "stdout",
       "text": [
        "170606-22:10:05,457 workflow INFO:\n",
        "\t Executing node Check_motion_plots.aI.a1.b20 in dir: /scratch/afni/tmpmfhOgr/preproc/_run_id_9_subject_id_sub-02_task_id_test_/_plot_type_translations/Check_motion_plots\n"
       ]
      },
      {
       "output_type": "stream",
       "stream": "stdout",
       "text": [
        "170606-22:10:05,481 workflow INFO:\n",
        "\t Executing node _Check_motion_plots0 in dir: /scratch/afni/tmpmfhOgr/preproc/_run_id_9_subject_id_sub-02_task_id_test_/_plot_type_translations/Check_motion_plots/mapflow/_Check_motion_plots0\n"
       ]
      },
      {
       "output_type": "stream",
       "stream": "stdout",
       "text": [
        "170606-22:10:05,501 workflow INFO:\n",
        "\t Running: fsl_tsplot -i /scratch/afni/tmph4j3uM/preproc/_run_id_9_subject_id_sub-02_task_id_test_/Realign_with_MCFLIRT/mapflow/_Realign_with_MCFLIRT0/sub-02_test_9_st_mcf.nii.par -o /scratch/afni/tmph4j3uM/preproc/_run_id_9_subject_id_sub-02_task_id_test_/Realign_with_MCFLIRT/mapflow/_Realign_with_MCFLIRT0/sub-02_test_9_st_mcf.nii_trans.png -t 'MCFLIRT estimated translations (mm)' --start=4 --finish=6 -a x,y,z\n"
       ]
      },
      {
       "output_type": "stream",
       "stream": "stdout",
       "text": [
        "170606-22:10:06,608 workflow INFO:\n",
        "\t Executing node Check_motion_plots.aI.a0.b20 in dir: /scratch/afni/tmpez0aTi/preproc/_run_id_9_subject_id_sub-02_task_id_test_/_plot_type_rotations/Check_motion_plots\n"
       ]
      },
      {
       "output_type": "stream",
       "stream": "stdout",
       "text": [
        "170606-22:10:06,631 workflow INFO:\n",
        "\t Executing node _Check_motion_plots0 in dir: /scratch/afni/tmpez0aTi/preproc/_run_id_9_subject_id_sub-02_task_id_test_/_plot_type_rotations/Check_motion_plots/mapflow/_Check_motion_plots0\n"
       ]
      },
      {
       "output_type": "stream",
       "stream": "stdout",
       "text": [
        "170606-22:10:06,647 workflow INFO:\n",
        "\t Running: fsl_tsplot -i /scratch/afni/tmph4j3uM/preproc/_run_id_9_subject_id_sub-02_task_id_test_/Realign_with_MCFLIRT/mapflow/_Realign_with_MCFLIRT0/sub-02_test_9_st_mcf.nii.par -o /scratch/afni/tmph4j3uM/preproc/_run_id_9_subject_id_sub-02_task_id_test_/Realign_with_MCFLIRT/mapflow/_Realign_with_MCFLIRT0/sub-02_test_9_st_mcf.nii_rot.png -t 'MCFLIRT estimated rotations (radians)' --start=1 --finish=3 -a x,y,z\n"
       ]
      },
      {
       "output_type": "stream",
       "stream": "stdout",
       "text": [
        "170606-22:10:07,746 workflow INFO:\n",
        "\t Executing node Get_files.b09 in dir: /scratch/afni/tmpS4HOuD/preproc/_run_id_10_subject_id_sub-02_task_id_train_/Get_files\n"
       ]
      },
      {
       "output_type": "stream",
       "stream": "stdout",
       "text": [
        "170606-22:10:07,796 workflow INFO:\n",
        "\t Executing node Slice_time_correction.b09 in dir: /scratch/afni/tmp3R42sv/preproc/_run_id_10_subject_id_sub-02_task_id_train_/Slice_time_correction\n"
       ]
      },
      {
       "output_type": "stream",
       "stream": "stdout",
       "text": [
        "170606-22:10:07,824 workflow INFO:\n",
        "\t Executing node _Slice_time_correction0 in dir: /scratch/afni/tmp3R42sv/preproc/_run_id_10_subject_id_sub-02_task_id_train_/Slice_time_correction/mapflow/_Slice_time_correction0\n"
       ]
      },
      {
       "output_type": "stream",
       "stream": "stdout",
       "text": [
        "170606-22:10:07,844 workflow INFO:\n",
        "\t Running: slicetimer --in=/scratch/sanjay/GRT/fmri_data/nifti/sub-02/func/sub-02_train_10.nii --odd --out=/scratch/afni/tmp3R42sv/preproc/_run_id_10_subject_id_sub-02_task_id_train_/Slice_time_correction/mapflow/_Slice_time_correction0/sub-02_train_10_st.nii\n"
       ]
      },
      {
       "output_type": "stream",
       "stream": "stdout",
       "text": [
        "170606-22:10:44,340 workflow INFO:\n",
        "\t Executing node Realign_with_MCFLIRT.b13 in dir: /scratch/afni/tmpxIfyS6/preproc/_run_id_2_subject_id_sub-02_task_id_test_/Realign_with_MCFLIRT\n"
       ]
      },
      {
       "output_type": "stream",
       "stream": "stdout",
       "text": [
        "170606-22:10:44,370 workflow INFO:\n",
        "\t Executing node _Realign_with_MCFLIRT0 in dir: /scratch/afni/tmpxIfyS6/preproc/_run_id_2_subject_id_sub-02_task_id_test_/Realign_with_MCFLIRT/mapflow/_Realign_with_MCFLIRT0\n"
       ]
      },
      {
       "output_type": "stream",
       "stream": "stdout",
       "text": [
        "170606-22:10:44,391 workflow INFO:\n",
        "\t Running: mcflirt -in /scratch/afni/tmp3VKllJ/preproc/_run_id_2_subject_id_sub-02_task_id_test_/Slice_time_correction/mapflow/_Slice_time_correction0/sub-02_test_2_st.nii -dof 6 -sinc_final -out /scratch/afni/tmpxIfyS6/preproc/_run_id_2_subject_id_sub-02_task_id_test_/Realign_with_MCFLIRT/mapflow/_Realign_with_MCFLIRT0/sub-02_test_2_st_mcf.nii -mats -plots\n"
       ]
      },
      {
       "output_type": "stream",
       "stream": "stdout",
       "text": [
        "170606-22:25:54,162 workflow INFO:\n",
        "\t Executing node Check_motion_plots.aI.a1.b13 in dir: /scratch/afni/tmpCtwE9B/preproc/_run_id_2_subject_id_sub-02_task_id_test_/_plot_type_translations/Check_motion_plots\n"
       ]
      },
      {
       "output_type": "stream",
       "stream": "stdout",
       "text": [
        "170606-22:25:54,191 workflow INFO:\n",
        "\t Executing node _Check_motion_plots0 in dir: /scratch/afni/tmpCtwE9B/preproc/_run_id_2_subject_id_sub-02_task_id_test_/_plot_type_translations/Check_motion_plots/mapflow/_Check_motion_plots0\n"
       ]
      },
      {
       "output_type": "stream",
       "stream": "stdout",
       "text": [
        "170606-22:25:54,208 workflow INFO:\n",
        "\t Running: fsl_tsplot -i /scratch/afni/tmpxIfyS6/preproc/_run_id_2_subject_id_sub-02_task_id_test_/Realign_with_MCFLIRT/mapflow/_Realign_with_MCFLIRT0/sub-02_test_2_st_mcf.nii.par -o /scratch/afni/tmpxIfyS6/preproc/_run_id_2_subject_id_sub-02_task_id_test_/Realign_with_MCFLIRT/mapflow/_Realign_with_MCFLIRT0/sub-02_test_2_st_mcf.nii_trans.png -t 'MCFLIRT estimated translations (mm)' --start=4 --finish=6 -a x,y,z\n"
       ]
      },
      {
       "output_type": "stream",
       "stream": "stdout",
       "text": [
        "170606-22:25:55,317 workflow INFO:\n",
        "\t Executing node Check_motion_plots.aI.a0.b13 in dir: /scratch/afni/tmplTIWOB/preproc/_run_id_2_subject_id_sub-02_task_id_test_/_plot_type_rotations/Check_motion_plots\n"
       ]
      },
      {
       "output_type": "stream",
       "stream": "stdout",
       "text": [
        "170606-22:25:55,343 workflow INFO:\n",
        "\t Executing node _Check_motion_plots0 in dir: /scratch/afni/tmplTIWOB/preproc/_run_id_2_subject_id_sub-02_task_id_test_/_plot_type_rotations/Check_motion_plots/mapflow/_Check_motion_plots0\n"
       ]
      },
      {
       "output_type": "stream",
       "stream": "stdout",
       "text": [
        "170606-22:25:55,358 workflow INFO:\n",
        "\t Running: fsl_tsplot -i /scratch/afni/tmpxIfyS6/preproc/_run_id_2_subject_id_sub-02_task_id_test_/Realign_with_MCFLIRT/mapflow/_Realign_with_MCFLIRT0/sub-02_test_2_st_mcf.nii.par -o /scratch/afni/tmpxIfyS6/preproc/_run_id_2_subject_id_sub-02_task_id_test_/Realign_with_MCFLIRT/mapflow/_Realign_with_MCFLIRT0/sub-02_test_2_st_mcf.nii_rot.png -t 'MCFLIRT estimated rotations (radians)' --start=1 --finish=3 -a x,y,z\n"
       ]
      },
      {
       "output_type": "stream",
       "stream": "stdout",
       "text": [
        "170606-22:25:56,472 workflow INFO:\n",
        "\t Executing node Register_functionals.b13 in dir: /scratch/afni/tmpu_5Uaq/preproc/_run_id_2_subject_id_sub-02_task_id_test_/Register_functionals\n"
       ]
      },
      {
       "output_type": "stream",
       "stream": "stdout",
       "text": [
        "170606-22:25:56,498 workflow INFO:\n",
        "\t Executing node _Register_functionals0 in dir: /scratch/afni/tmpu_5Uaq/preproc/_run_id_2_subject_id_sub-02_task_id_test_/Register_functionals/mapflow/_Register_functionals0\n"
       ]
      },
      {
       "output_type": "stream",
       "stream": "stdout",
       "text": [
        "170606-22:25:56,517 workflow INFO:\n",
        "\t Running: flirt -in /scratch/afni/tmpxIfyS6/preproc/_run_id_2_subject_id_sub-02_task_id_test_/Realign_with_MCFLIRT/mapflow/_Realign_with_MCFLIRT0/sub-02_test_2_st_mcf.nii -ref /scratch/afni/tmpWiHRsv/preproc/_run_id_2_subject_id_sub-02_task_id_test_/Resample_T1/sub-02_T1_resample.nii -out sub-02_test_2_st_mcf_flirt.nii -omat sub-02_test_2_st_mcf_flirt.mat\n"
       ]
      },
      {
       "output_type": "stream",
       "stream": "stdout",
       "text": [
        "170606-22:26:10,443 workflow INFO:\n",
        "\t Executing node Strip_skull.b13 in dir: /scratch/afni/tmpKUjybz/preproc/_run_id_2_subject_id_sub-02_task_id_test_/Strip_skull\n"
       ]
      },
      {
       "output_type": "stream",
       "stream": "stdout",
       "text": [
        "170606-22:26:10,474 workflow INFO:\n",
        "\t Executing node _Strip_skull0 in dir: /scratch/afni/tmpKUjybz/preproc/_run_id_2_subject_id_sub-02_task_id_test_/Strip_skull/mapflow/_Strip_skull0\n"
       ]
      },
      {
       "output_type": "stream",
       "stream": "stdout",
       "text": [
        "170606-22:26:10,495 workflow INFO:\n",
        "\t Running: bet /scratch/afni/tmpu_5Uaq/preproc/_run_id_2_subject_id_sub-02_task_id_test_/Register_functionals/mapflow/_Register_functionals0/sub-02_test_2_st_mcf_flirt.nii /scratch/afni/tmpKUjybz/preproc/_run_id_2_subject_id_sub-02_task_id_test_/Strip_skull/mapflow/_Strip_skull0/sub-02_test_2_st_mcf_flirt_brain.nii -F\n"
       ]
      },
      {
       "output_type": "stream",
       "stream": "stdout",
       "text": [
        "170606-22:26:18,821 workflow INFO:\n",
        "\t Executing node store_outputs.a0.b13 in dir: /scratch/afni/tmp7UIL0W/preproc/_run_id_2_subject_id_sub-02_task_id_test_/_plot_type_rotations/store_outputs\n"
       ]
      },
      {
       "output_type": "stream",
       "stream": "stdout",
       "text": [
        "170606-22:26:18,918 workflow INFO:\n",
        "\t Executing node store_outputs.a1.b13 in dir: /scratch/afni/tmpI763Fj/preproc/_run_id_2_subject_id_sub-02_task_id_test_/_plot_type_translations/store_outputs\n"
       ]
      },
      {
       "output_type": "stream",
       "stream": "stdout",
       "text": [
        "170606-22:26:18,966 workflow INFO:\n",
        "\t Executing node Get_files.b35 in dir: /scratch/afni/tmpWD9UGS/preproc/_run_id_12_subject_id_sub-01_task_id_train_/Get_files\n"
       ]
      },
      {
       "output_type": "stream",
       "stream": "stdout",
       "text": [
        "170606-22:26:19,19 workflow INFO:\n",
        "\t Executing node Slice_time_correction.b35 in dir: /scratch/afni/tmp12kRt3/preproc/_run_id_12_subject_id_sub-01_task_id_train_/Slice_time_correction\n"
       ]
      },
      {
       "output_type": "stream",
       "stream": "stdout",
       "text": [
        "170606-22:26:19,40 workflow INFO:\n",
        "\t Executing node _Slice_time_correction0 in dir: /scratch/afni/tmp12kRt3/preproc/_run_id_12_subject_id_sub-01_task_id_train_/Slice_time_correction/mapflow/_Slice_time_correction0\n"
       ]
      },
      {
       "output_type": "stream",
       "stream": "stdout",
       "text": [
        "170606-22:26:19,63 workflow INFO:\n",
        "\t Running: slicetimer --in=/scratch/sanjay/GRT/fmri_data/nifti/sub-01/func/sub-01_train_12.nii --odd --out=/scratch/afni/tmp12kRt3/preproc/_run_id_12_subject_id_sub-01_task_id_train_/Slice_time_correction/mapflow/_Slice_time_correction0/sub-01_train_12_st.nii\n"
       ]
      },
      {
       "output_type": "stream",
       "stream": "stdout",
       "text": [
        "170606-22:26:56,60 workflow INFO:\n",
        "\t Executing node Realign_with_MCFLIRT.b35 in dir: /scratch/afni/tmpgTU66i/preproc/_run_id_12_subject_id_sub-01_task_id_train_/Realign_with_MCFLIRT\n"
       ]
      },
      {
       "output_type": "stream",
       "stream": "stdout",
       "text": [
        "170606-22:26:56,85 workflow INFO:\n",
        "\t Executing node _Realign_with_MCFLIRT0 in dir: /scratch/afni/tmpgTU66i/preproc/_run_id_12_subject_id_sub-01_task_id_train_/Realign_with_MCFLIRT/mapflow/_Realign_with_MCFLIRT0\n"
       ]
      },
      {
       "output_type": "stream",
       "stream": "stdout",
       "text": [
        "170606-22:26:56,108 workflow INFO:\n",
        "\t Running: mcflirt -in /scratch/afni/tmp12kRt3/preproc/_run_id_12_subject_id_sub-01_task_id_train_/Slice_time_correction/mapflow/_Slice_time_correction0/sub-01_train_12_st.nii -dof 6 -sinc_final -out /scratch/afni/tmpgTU66i/preproc/_run_id_12_subject_id_sub-01_task_id_train_/Realign_with_MCFLIRT/mapflow/_Realign_with_MCFLIRT0/sub-01_train_12_st_mcf.nii -mats -plots\n"
       ]
      },
      {
       "output_type": "stream",
       "stream": "stdout",
       "text": [
        "170606-22:35:20,746 workflow INFO:\n",
        "\t Executing node Check_motion_plots.aI.a0.b35 in dir: /scratch/afni/tmp0GJ9zZ/preproc/_run_id_12_subject_id_sub-01_task_id_train_/_plot_type_rotations/Check_motion_plots\n"
       ]
      },
      {
       "output_type": "stream",
       "stream": "stdout",
       "text": [
        "170606-22:35:20,772 workflow INFO:\n",
        "\t Executing node _Check_motion_plots0 in dir: /scratch/afni/tmp0GJ9zZ/preproc/_run_id_12_subject_id_sub-01_task_id_train_/_plot_type_rotations/Check_motion_plots/mapflow/_Check_motion_plots0\n"
       ]
      },
      {
       "output_type": "stream",
       "stream": "stdout",
       "text": [
        "170606-22:35:20,790 workflow INFO:\n",
        "\t Running: fsl_tsplot -i /scratch/afni/tmpgTU66i/preproc/_run_id_12_subject_id_sub-01_task_id_train_/Realign_with_MCFLIRT/mapflow/_Realign_with_MCFLIRT0/sub-01_train_12_st_mcf.nii.par -o /scratch/afni/tmpgTU66i/preproc/_run_id_12_subject_id_sub-01_task_id_train_/Realign_with_MCFLIRT/mapflow/_Realign_with_MCFLIRT0/sub-01_train_12_st_mcf.nii_rot.png -t 'MCFLIRT estimated rotations (radians)' --start=1 --finish=3 -a x,y,z\n"
       ]
      },
      {
       "output_type": "stream",
       "stream": "stdout",
       "text": [
        "170606-22:35:21,899 workflow INFO:\n",
        "\t Executing node Check_motion_plots.aI.a1.b35 in dir: /scratch/afni/tmpfbwhQD/preproc/_run_id_12_subject_id_sub-01_task_id_train_/_plot_type_translations/Check_motion_plots\n"
       ]
      },
      {
       "output_type": "stream",
       "stream": "stdout",
       "text": [
        "170606-22:35:21,922 workflow INFO:\n",
        "\t Executing node _Check_motion_plots0 in dir: /scratch/afni/tmpfbwhQD/preproc/_run_id_12_subject_id_sub-01_task_id_train_/_plot_type_translations/Check_motion_plots/mapflow/_Check_motion_plots0\n"
       ]
      },
      {
       "output_type": "stream",
       "stream": "stdout",
       "text": [
        "170606-22:35:21,938 workflow INFO:\n",
        "\t Running: fsl_tsplot -i /scratch/afni/tmpgTU66i/preproc/_run_id_12_subject_id_sub-01_task_id_train_/Realign_with_MCFLIRT/mapflow/_Realign_with_MCFLIRT0/sub-01_train_12_st_mcf.nii.par -o /scratch/afni/tmpgTU66i/preproc/_run_id_12_subject_id_sub-01_task_id_train_/Realign_with_MCFLIRT/mapflow/_Realign_with_MCFLIRT0/sub-01_train_12_st_mcf.nii_trans.png -t 'MCFLIRT estimated translations (mm)' --start=4 --finish=6 -a x,y,z\n"
       ]
      },
      {
       "output_type": "stream",
       "stream": "stdout",
       "text": [
        "170606-22:35:23,42 workflow INFO:\n",
        "\t Executing node Resample_T1.b35 in dir: /scratch/afni/tmp5H_2xP/preproc/_run_id_12_subject_id_sub-01_task_id_train_/Resample_T1\n"
       ]
      },
      {
       "output_type": "stream",
       "stream": "stdout",
       "text": [
        "170606-22:35:23,84 workflow INFO:\n",
        "\t Running: 3dresample -prefix sub-01_T1_resample.nii -dxyz 2.400000 2.400000 2.400000 -inset /scratch/afni/tmp5H_2xP/preproc/_run_id_12_subject_id_sub-01_task_id_train_/Resample_T1/sub-01_T1.nii\n"
       ]
      },
      {
       "output_type": "stream",
       "stream": "stdout",
       "text": [
        "170606-22:35:24,986 workflow INFO:\n",
        "\t Executing node Register_functionals.b35 in dir: /scratch/afni/tmpWcNB16/preproc/_run_id_12_subject_id_sub-01_task_id_train_/Register_functionals\n"
       ]
      },
      {
       "output_type": "stream",
       "stream": "stdout",
       "text": [
        "170606-22:35:25,19 workflow INFO:\n",
        "\t Executing node _Register_functionals0 in dir: /scratch/afni/tmpWcNB16/preproc/_run_id_12_subject_id_sub-01_task_id_train_/Register_functionals/mapflow/_Register_functionals0\n"
       ]
      },
      {
       "output_type": "stream",
       "stream": "stdout",
       "text": [
        "170606-22:35:25,43 workflow INFO:\n",
        "\t Running: flirt -in /scratch/afni/tmpgTU66i/preproc/_run_id_12_subject_id_sub-01_task_id_train_/Realign_with_MCFLIRT/mapflow/_Realign_with_MCFLIRT0/sub-01_train_12_st_mcf.nii -ref /scratch/afni/tmp5H_2xP/preproc/_run_id_12_subject_id_sub-01_task_id_train_/Resample_T1/sub-01_T1_resample.nii -out sub-01_train_12_st_mcf_flirt.nii -omat sub-01_train_12_st_mcf_flirt.mat\n"
       ]
      },
      {
       "output_type": "stream",
       "stream": "stdout",
       "text": [
        "170606-22:35:41,29 workflow INFO:\n",
        "\t Executing node Strip_skull.b35 in dir: /scratch/afni/tmpUerrvU/preproc/_run_id_12_subject_id_sub-01_task_id_train_/Strip_skull\n"
       ]
      },
      {
       "output_type": "stream",
       "stream": "stdout",
       "text": [
        "170606-22:35:41,59 workflow INFO:\n",
        "\t Executing node _Strip_skull0 in dir: /scratch/afni/tmpUerrvU/preproc/_run_id_12_subject_id_sub-01_task_id_train_/Strip_skull/mapflow/_Strip_skull0\n"
       ]
      },
      {
       "output_type": "stream",
       "stream": "stdout",
       "text": [
        "170606-22:35:41,78 workflow INFO:\n",
        "\t Running: bet /scratch/afni/tmpWcNB16/preproc/_run_id_12_subject_id_sub-01_task_id_train_/Register_functionals/mapflow/_Register_functionals0/sub-01_train_12_st_mcf_flirt.nii /scratch/afni/tmpUerrvU/preproc/_run_id_12_subject_id_sub-01_task_id_train_/Strip_skull/mapflow/_Strip_skull0/sub-01_train_12_st_mcf_flirt_brain.nii -F\n"
       ]
      },
      {
       "output_type": "stream",
       "stream": "stdout",
       "text": [
        "170606-22:35:48,376 workflow INFO:\n",
        "\t Executing node store_outputs.a1.b35 in dir: /scratch/afni/tmp8co6o5/preproc/_run_id_12_subject_id_sub-01_task_id_train_/_plot_type_translations/store_outputs\n"
       ]
      },
      {
       "output_type": "stream",
       "stream": "stdout",
       "text": [
        "170606-22:35:48,465 workflow INFO:\n",
        "\t Executing node store_outputs.a0.b35 in dir: /scratch/afni/tmptAamFD/preproc/_run_id_12_subject_id_sub-01_task_id_train_/_plot_type_rotations/store_outputs\n"
       ]
      },
      {
       "output_type": "stream",
       "stream": "stdout",
       "text": [
        "170606-22:35:48,526 workflow INFO:\n",
        "\t Executing node Check_motion_plots.aI.a1.b03 in dir: /scratch/afni/tmpP0YJiT/preproc/_run_id_4_subject_id_sub-02_task_id_train_/_plot_type_translations/Check_motion_plots\n"
       ]
      },
      {
       "output_type": "stream",
       "stream": "stdout",
       "text": [
        "170606-22:35:48,547 workflow INFO:\n",
        "\t Executing node _Check_motion_plots0 in dir: /scratch/afni/tmpP0YJiT/preproc/_run_id_4_subject_id_sub-02_task_id_train_/_plot_type_translations/Check_motion_plots/mapflow/_Check_motion_plots0\n"
       ]
      },
      {
       "output_type": "stream",
       "stream": "stdout",
       "text": [
        "170606-22:35:48,571 workflow INFO:\n",
        "\t Running: fsl_tsplot -i /scratch/afni/tmpyG2TOl/preproc/_run_id_4_subject_id_sub-02_task_id_train_/Realign_with_MCFLIRT/mapflow/_Realign_with_MCFLIRT0/sub-02_train_4_st_mcf.nii.par -o /scratch/afni/tmpyG2TOl/preproc/_run_id_4_subject_id_sub-02_task_id_train_/Realign_with_MCFLIRT/mapflow/_Realign_with_MCFLIRT0/sub-02_train_4_st_mcf.nii_trans.png -t 'MCFLIRT estimated translations (mm)' --start=4 --finish=6 -a x,y,z\n"
       ]
      },
      {
       "output_type": "stream",
       "stream": "stdout",
       "text": [
        "170606-22:35:49,734 workflow INFO:\n",
        "\t Executing node store_outputs.a1.b03 in dir: /scratch/afni/tmpNLhywp/preproc/_run_id_4_subject_id_sub-02_task_id_train_/_plot_type_translations/store_outputs\n"
       ]
      },
      {
       "output_type": "stream",
       "stream": "stdout",
       "text": [
        "170606-22:35:49,792 workflow INFO:\n",
        "\t Executing node Realign_with_MCFLIRT.b09 in dir: /scratch/afni/tmpToPVmR/preproc/_run_id_10_subject_id_sub-02_task_id_train_/Realign_with_MCFLIRT\n"
       ]
      },
      {
       "output_type": "stream",
       "stream": "stdout",
       "text": [
        "170606-22:35:49,818 workflow INFO:\n",
        "\t Executing node _Realign_with_MCFLIRT0 in dir: /scratch/afni/tmpToPVmR/preproc/_run_id_10_subject_id_sub-02_task_id_train_/Realign_with_MCFLIRT/mapflow/_Realign_with_MCFLIRT0\n"
       ]
      },
      {
       "output_type": "stream",
       "stream": "stdout",
       "text": [
        "170606-22:35:49,839 workflow INFO:\n",
        "\t Running: mcflirt -in /scratch/afni/tmp3R42sv/preproc/_run_id_10_subject_id_sub-02_task_id_train_/Slice_time_correction/mapflow/_Slice_time_correction0/sub-02_train_10_st.nii -dof 6 -sinc_final -out /scratch/afni/tmpToPVmR/preproc/_run_id_10_subject_id_sub-02_task_id_train_/Realign_with_MCFLIRT/mapflow/_Realign_with_MCFLIRT0/sub-02_train_10_st_mcf.nii -mats -plots\n"
       ]
      },
      {
       "output_type": "stream",
       "stream": "stdout",
       "text": [
        "170606-22:44:12,4 workflow INFO:\n",
        "\t Executing node Check_motion_plots.aI.a1.b09 in dir: /scratch/afni/tmpho2CgT/preproc/_run_id_10_subject_id_sub-02_task_id_train_/_plot_type_translations/Check_motion_plots\n"
       ]
      },
      {
       "output_type": "stream",
       "stream": "stdout",
       "text": [
        "170606-22:44:12,27 workflow INFO:\n",
        "\t Executing node _Check_motion_plots0 in dir: /scratch/afni/tmpho2CgT/preproc/_run_id_10_subject_id_sub-02_task_id_train_/_plot_type_translations/Check_motion_plots/mapflow/_Check_motion_plots0\n"
       ]
      },
      {
       "output_type": "stream",
       "stream": "stdout",
       "text": [
        "170606-22:44:12,45 workflow INFO:\n",
        "\t Running: fsl_tsplot -i /scratch/afni/tmpToPVmR/preproc/_run_id_10_subject_id_sub-02_task_id_train_/Realign_with_MCFLIRT/mapflow/_Realign_with_MCFLIRT0/sub-02_train_10_st_mcf.nii.par -o /scratch/afni/tmpToPVmR/preproc/_run_id_10_subject_id_sub-02_task_id_train_/Realign_with_MCFLIRT/mapflow/_Realign_with_MCFLIRT0/sub-02_train_10_st_mcf.nii_trans.png -t 'MCFLIRT estimated translations (mm)' --start=4 --finish=6 -a x,y,z\n"
       ]
      },
      {
       "output_type": "stream",
       "stream": "stdout",
       "text": [
        "170606-22:44:13,160 workflow INFO:\n",
        "\t Executing node Check_motion_plots.aI.a1.b37 in dir: /scratch/afni/tmpTswgGj/preproc/_run_id_2_subject_id_sub-01_task_id_test_/_plot_type_translations/Check_motion_plots\n"
       ]
      },
      {
       "output_type": "stream",
       "stream": "stdout",
       "text": [
        "170606-22:44:13,185 workflow INFO:\n",
        "\t Executing node _Check_motion_plots0 in dir: /scratch/afni/tmpTswgGj/preproc/_run_id_2_subject_id_sub-01_task_id_test_/_plot_type_translations/Check_motion_plots/mapflow/_Check_motion_plots0\n"
       ]
      },
      {
       "output_type": "stream",
       "stream": "stdout",
       "text": [
        "170606-22:44:13,201 workflow INFO:\n",
        "\t Running: fsl_tsplot -i /scratch/afni/tmpqv_uqd/preproc/_run_id_2_subject_id_sub-01_task_id_test_/Realign_with_MCFLIRT/mapflow/_Realign_with_MCFLIRT0/sub-01_test_2_st_mcf.nii.par -o /scratch/afni/tmpqv_uqd/preproc/_run_id_2_subject_id_sub-01_task_id_test_/Realign_with_MCFLIRT/mapflow/_Realign_with_MCFLIRT0/sub-01_test_2_st_mcf.nii_trans.png -t 'MCFLIRT estimated translations (mm)' --start=4 --finish=6 -a x,y,z\n"
       ]
      },
      {
       "output_type": "stream",
       "stream": "stdout",
       "text": [
        "170606-22:44:14,365 workflow INFO:\n",
        "\t Executing node store_outputs.a1.b37 in dir: /scratch/afni/tmpFXvkvY/preproc/_run_id_2_subject_id_sub-01_task_id_test_/_plot_type_translations/store_outputs\n"
       ]
      },
      {
       "output_type": "stream",
       "stream": "stdout",
       "text": [
        "170606-22:44:14,451 workflow INFO:\n",
        "\t Executing node Check_motion_plots.aI.a0.b09 in dir: /scratch/afni/tmpxKH4Cj/preproc/_run_id_10_subject_id_sub-02_task_id_train_/_plot_type_rotations/Check_motion_plots\n"
       ]
      },
      {
       "output_type": "stream",
       "stream": "stdout",
       "text": [
        "170606-22:44:14,474 workflow INFO:\n",
        "\t Executing node _Check_motion_plots0 in dir: /scratch/afni/tmpxKH4Cj/preproc/_run_id_10_subject_id_sub-02_task_id_train_/_plot_type_rotations/Check_motion_plots/mapflow/_Check_motion_plots0\n"
       ]
      },
      {
       "output_type": "stream",
       "stream": "stdout",
       "text": [
        "170606-22:44:14,492 workflow INFO:\n",
        "\t Running: fsl_tsplot -i /scratch/afni/tmpToPVmR/preproc/_run_id_10_subject_id_sub-02_task_id_train_/Realign_with_MCFLIRT/mapflow/_Realign_with_MCFLIRT0/sub-02_train_10_st_mcf.nii.par -o /scratch/afni/tmpToPVmR/preproc/_run_id_10_subject_id_sub-02_task_id_train_/Realign_with_MCFLIRT/mapflow/_Realign_with_MCFLIRT0/sub-02_train_10_st_mcf.nii_rot.png -t 'MCFLIRT estimated rotations (radians)' --start=1 --finish=3 -a x,y,z\n"
       ]
      },
      {
       "output_type": "stream",
       "stream": "stdout",
       "text": [
        "170606-22:44:15,675 workflow INFO:\n",
        "\t Executing node Register_functionals.b20 in dir: /scratch/afni/tmpML7Pig/preproc/_run_id_9_subject_id_sub-02_task_id_test_/Register_functionals\n"
       ]
      },
      {
       "output_type": "stream",
       "stream": "stdout",
       "text": [
        "170606-22:44:15,705 workflow INFO:\n",
        "\t Executing node _Register_functionals0 in dir: /scratch/afni/tmpML7Pig/preproc/_run_id_9_subject_id_sub-02_task_id_test_/Register_functionals/mapflow/_Register_functionals0\n"
       ]
      },
      {
       "output_type": "stream",
       "stream": "stdout",
       "text": [
        "170606-22:44:15,723 workflow INFO:\n",
        "\t Running: flirt -in /scratch/afni/tmph4j3uM/preproc/_run_id_9_subject_id_sub-02_task_id_test_/Realign_with_MCFLIRT/mapflow/_Realign_with_MCFLIRT0/sub-02_test_9_st_mcf.nii -ref /scratch/afni/tmpFuDuH2/preproc/_run_id_9_subject_id_sub-02_task_id_test_/Resample_T1/sub-02_T1_resample.nii -out sub-02_test_9_st_mcf_flirt.nii -omat sub-02_test_9_st_mcf_flirt.mat\n"
       ]
      },
      {
       "output_type": "stream",
       "stream": "stdout",
       "text": [
        "170606-22:44:32,735 workflow INFO:\n",
        "\t Executing node Strip_skull.b20 in dir: /scratch/afni/tmpFMzy6G/preproc/_run_id_9_subject_id_sub-02_task_id_test_/Strip_skull\n"
       ]
      },
      {
       "output_type": "stream",
       "stream": "stdout",
       "text": [
        "170606-22:44:32,758 workflow INFO:\n",
        "\t Executing node _Strip_skull0 in dir: /scratch/afni/tmpFMzy6G/preproc/_run_id_9_subject_id_sub-02_task_id_test_/Strip_skull/mapflow/_Strip_skull0\n"
       ]
      },
      {
       "output_type": "stream",
       "stream": "stdout",
       "text": [
        "170606-22:44:32,778 workflow INFO:\n",
        "\t Running: bet /scratch/afni/tmpML7Pig/preproc/_run_id_9_subject_id_sub-02_task_id_test_/Register_functionals/mapflow/_Register_functionals0/sub-02_test_9_st_mcf_flirt.nii /scratch/afni/tmpFMzy6G/preproc/_run_id_9_subject_id_sub-02_task_id_test_/Strip_skull/mapflow/_Strip_skull0/sub-02_test_9_st_mcf_flirt_brain.nii -F\n"
       ]
      },
      {
       "output_type": "stream",
       "stream": "stdout",
       "text": [
        "170606-22:44:41,96 workflow INFO:\n",
        "\t Executing node store_outputs.a1.b20 in dir: /scratch/afni/tmpHN2opD/preproc/_run_id_9_subject_id_sub-02_task_id_test_/_plot_type_translations/store_outputs\n"
       ]
      },
      {
       "output_type": "stream",
       "stream": "stdout",
       "text": [
        "170606-22:44:41,194 workflow INFO:\n",
        "\t Executing node store_outputs.a0.b20 in dir: /scratch/afni/tmpjpqvof/preproc/_run_id_9_subject_id_sub-02_task_id_test_/_plot_type_rotations/store_outputs\n"
       ]
      },
      {
       "output_type": "stream",
       "stream": "stdout",
       "text": [
        "170606-22:44:41,246 workflow INFO:\n",
        "\t Executing node Resample_T1.b09 in dir: /scratch/afni/tmp1cdZ_J/preproc/_run_id_10_subject_id_sub-02_task_id_train_/Resample_T1\n"
       ]
      },
      {
       "output_type": "stream",
       "stream": "stdout",
       "text": [
        "170606-22:44:41,269 workflow INFO:\n",
        "\t Running: 3dresample -prefix sub-02_T1_resample.nii -dxyz 2.400000 2.400000 2.400000 -inset /scratch/afni/tmp1cdZ_J/preproc/_run_id_10_subject_id_sub-02_task_id_train_/Resample_T1/sub-02_T1.nii\n"
       ]
      },
      {
       "output_type": "stream",
       "stream": "stdout",
       "text": [
        "170606-22:44:42,372 workflow INFO:\n",
        "\t Executing node Register_functionals.b09 in dir: /scratch/afni/tmp9Vo4eY/preproc/_run_id_10_subject_id_sub-02_task_id_train_/Register_functionals\n"
       ]
      },
      {
       "output_type": "stream",
       "stream": "stdout",
       "text": [
        "170606-22:44:42,404 workflow INFO:\n",
        "\t Executing node _Register_functionals0 in dir: /scratch/afni/tmp9Vo4eY/preproc/_run_id_10_subject_id_sub-02_task_id_train_/Register_functionals/mapflow/_Register_functionals0\n"
       ]
      },
      {
       "output_type": "stream",
       "stream": "stdout",
       "text": [
        "170606-22:44:42,423 workflow INFO:\n",
        "\t Running: flirt -in /scratch/afni/tmpToPVmR/preproc/_run_id_10_subject_id_sub-02_task_id_train_/Realign_with_MCFLIRT/mapflow/_Realign_with_MCFLIRT0/sub-02_train_10_st_mcf.nii -ref /scratch/afni/tmp1cdZ_J/preproc/_run_id_10_subject_id_sub-02_task_id_train_/Resample_T1/sub-02_T1_resample.nii -out sub-02_train_10_st_mcf_flirt.nii -omat sub-02_train_10_st_mcf_flirt.mat\n"
       ]
      },
      {
       "output_type": "stream",
       "stream": "stdout",
       "text": [
        "170606-22:44:58,916 workflow INFO:\n",
        "\t Executing node Strip_skull.b09 in dir: /scratch/afni/tmp_ogk43/preproc/_run_id_10_subject_id_sub-02_task_id_train_/Strip_skull\n"
       ]
      },
      {
       "output_type": "stream",
       "stream": "stdout",
       "text": [
        "170606-22:44:58,940 workflow INFO:\n",
        "\t Executing node _Strip_skull0 in dir: /scratch/afni/tmp_ogk43/preproc/_run_id_10_subject_id_sub-02_task_id_train_/Strip_skull/mapflow/_Strip_skull0\n"
       ]
      },
      {
       "output_type": "stream",
       "stream": "stdout",
       "text": [
        "170606-22:44:58,960 workflow INFO:\n",
        "\t Running: bet /scratch/afni/tmp9Vo4eY/preproc/_run_id_10_subject_id_sub-02_task_id_train_/Register_functionals/mapflow/_Register_functionals0/sub-02_train_10_st_mcf_flirt.nii /scratch/afni/tmp_ogk43/preproc/_run_id_10_subject_id_sub-02_task_id_train_/Strip_skull/mapflow/_Strip_skull0/sub-02_train_10_st_mcf_flirt_brain.nii -F\n"
       ]
      },
      {
       "output_type": "stream",
       "stream": "stdout",
       "text": [
        "170606-22:45:06,758 workflow INFO:\n",
        "\t Executing node store_outputs.a1.b09 in dir: /scratch/afni/tmpNq1KWO/preproc/_run_id_10_subject_id_sub-02_task_id_train_/_plot_type_translations/store_outputs\n"
       ]
      },
      {
       "output_type": "stream",
       "stream": "stdout",
       "text": [
        "170606-22:45:06,851 workflow INFO:\n",
        "\t Executing node store_outputs.a0.b09 in dir: /scratch/afni/tmpGUvOkc/preproc/_run_id_10_subject_id_sub-02_task_id_train_/_plot_type_rotations/store_outputs\n"
       ]
      },
      {
       "output_type": "pyout",
       "prompt_number": 20,
       "text": [
        "<networkx.classes.digraph.DiGraph at 0x2b9f82808b10>"
       ]
      }
     ],
     "prompt_number": 20
    },
    {
     "cell_type": "markdown",
     "metadata": {},
     "source": [
      "par = np.loadtxt('/scratch/sanjay/GRT/fmri_data/testing/output/datasink/motion/par/sub-02/sub-02_train_1_mcf.nii.gz.par1_bold_mcf.par')\n",
      "fig, axes = plt.subplots(2, 1, figsize=(15, 5))\n",
      "axes[0].set_ylabel('rotation (radians)')\n",
      "axes[0].plot(par[0:, :3])\n",
      "axes[1].plot(par[0:, 3:])\n",
      "axes[1].set_xlabel('time (TR)')\n",
      "axes[1].set_ylabel('translation (mm)')"
     ]
    }
   ],
   "metadata": {}
  }
 ]
}
