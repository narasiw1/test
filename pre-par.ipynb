{
 "metadata": {
  "anaconda-cloud": {},
  "kernelspec": {
   "display_name": "Python [Root]",
   "language": "python",
   "name": "Python [Root]"
  },
  "language_info": {
   "codemirror_mode": {
    "name": "ipython",
    "version": 2
   },
   "file_extension": ".py",
   "mimetype": "text/x-python",
   "name": "python",
   "nbconvert_exporter": "python",
   "pygments_lexer": "ipython2",
   "version": "2.7.12"
  },
  "name": ""
 },
 "nbformat": 3,
 "nbformat_minor": 0,
 "worksheets": [
  {
   "cells": [
    {
     "cell_type": "code",
     "collapsed": true,
     "input": [
      "import ipyparallel\n",
      "from tempfile import TemporaryFile\n",
      "data = TemporaryFile()    "
     ],
     "language": "python",
     "metadata": {},
     "outputs": [],
     "prompt_number": 1
    },
    {
     "cell_type": "code",
     "collapsed": true,
     "input": [
      "clients = ipyparallel.Client('/home/snara025/.ipython/profile_myprofile/security/ipcontroller-client.json')#, url_file='/home/snara025/.ipython/profile_myprofile/security/ipcontroller-client.json', sshserver='192.168.233.126',\n",
      "clients.ids\n",
      "\n",
      "lview = clients.load_balanced_view() \n",
      "dview = clients[:]"
     ],
     "language": "python",
     "metadata": {},
     "outputs": [],
     "prompt_number": 2
    },
    {
     "cell_type": "code",
     "collapsed": false,
     "input": [
      "%%px --local\n",
      "\n",
      "from __future__ import print_function\n",
      "from __future__ import division\n",
      "#from builtins import str\n",
      "#from builtins import range\n",
      "from os.path import join as opj\n",
      "\n",
      "#from nipype.interfaces.dcm2nii import Dcm2niix # to convert Dicom to Niftii\n",
      "\n",
      "\n",
      "import os                                    # system functions\n",
      "import sys\n",
      "import nipype.interfaces.io as nio           # Data i/o\n",
      "import nipype.interfaces.fsl as fsl          # fsl\n",
      "import nipype.interfaces.afni as afni\n",
      "import nipype.interfaces.utility as util     # utility\n",
      "import nipype.pipeline.engine as pe          # pypeline engine\n",
      "import nipype.algorithms.modelgen as model   # model generation\n",
      "import nipype.algorithms.rapidart as ra      # artifact detection"
     ],
     "language": "python",
     "metadata": {},
     "outputs": [],
     "prompt_number": 3
    },
    {
     "cell_type": "code",
     "collapsed": false,
     "input": [
      "%%px --local\n",
      "# define important package paths here\n",
      "os.system('module load fsl/5.0.10')\n",
      "os.system('module load afni')\n",
      "sys.path.append(\"/home/applications/dcm2niix/build/bin\")\n",
      "sys.path.append(\"/home/applications/fsl/5.0.10/bin\")\n",
      "sys.path.append(\"/home/applications/fsl/5.0.10/etc\")\n",
      "sys.path.append('/home/applications/afni/abin')"
     ],
     "language": "python",
     "metadata": {},
     "outputs": [],
     "prompt_number": 4
    },
    {
     "cell_type": "code",
     "collapsed": false,
     "input": [
      "os.environ.keys()\n"
     ],
     "language": "python",
     "metadata": {
      "scrolled": true
     },
     "outputs": [
      {
       "output_type": "pyout",
       "prompt_number": 5,
       "text": [
        "['LSF_EAUTH_AUX_PASS',\n",
        " 'LSB_TRAPSIGS',\n",
        " 'BSUB_BLOCK_EXEC_HOST',\n",
        " 'SHELL',\n",
        " 'LSB_DJOB_HB_INTERVAL',\n",
        " 'LSB_UNIXGROUP_INT',\n",
        " 'HISTSIZE',\n",
        " 'LS_EXEC_T',\n",
        " 'MANPATH',\n",
        " 'LSB_ERRORFILE',\n",
        " 'LSB_EEXEC_REAL_GID',\n",
        " 'JPY_PARENT_PID',\n",
        " 'FSLOUTPUTTYPE',\n",
        " 'CUDA_PATH',\n",
        " 'PYTHONPATH',\n",
        " 'LSF_INVOKE_CMD',\n",
        " 'LSB_JOBINDEX',\n",
        " 'LS_JOBPID',\n",
        " 'LSB_JOBID',\n",
        " 'FSLGECUDAQ',\n",
        " 'HOSTNAME',\n",
        " 'LSB_OUTPUTFILE',\n",
        " 'LSB_JOBRES_PID',\n",
        " 'MNI_DIR',\n",
        " 'MAIL',\n",
        " 'LS_COLORS',\n",
        " 'LSFUSER',\n",
        " 'LSF_EAUTH_SERVER',\n",
        " 'module',\n",
        " 'LESSOPEN',\n",
        " 'LSF_BINDIR',\n",
        " 'CPATH',\n",
        " 'USER',\n",
        " 'LSB_EEXEC_REAL_UID',\n",
        " 'HOME',\n",
        " 'LSB_DJOB_NUMPROC',\n",
        " 'LSF_VERSION',\n",
        " 'FSLTCLSH',\n",
        " 'SHLVL',\n",
        " 'LSB_MCPU_HOSTS',\n",
        " 'FREESURFER_HOME',\n",
        " 'LSB_JOBFILENAME',\n",
        " 'MODULESHOME',\n",
        " 'GIT_PAGER',\n",
        " 'QTLIB',\n",
        " '_',\n",
        " 'MODULEPATH',\n",
        " 'SSH_CONNECTION',\n",
        " 'EGO_LIBDIR',\n",
        " 'LSB_JOBEXIT_STAT',\n",
        " 'SUBJECTS_DIR',\n",
        " '_LMFILES_',\n",
        " 'PAGER',\n",
        " 'MODULE_VERSION',\n",
        " 'QTDIR',\n",
        " 'LD_LIBRARY_PATH',\n",
        " 'LANG',\n",
        " 'LSF_SERVERDIR',\n",
        " 'LSB_EXEC_CLUSTER',\n",
        " 'QTINC',\n",
        " 'G_BROKEN_FILENAMES',\n",
        " 'CONDA_ENV_PATH',\n",
        " 'CONDA_DEFAULT_ENV',\n",
        " 'LSB_JOBRES_CALLBACK',\n",
        " 'LSB_CHKFILENAME',\n",
        " 'LSB_SUB_HOST',\n",
        " 'LS_SUBCWD',\n",
        " 'LSB_ECHKPNT_RSH_CMD',\n",
        " 'CUDA_HOME',\n",
        " 'LSF_LOGDIR',\n",
        " 'LSF_EAUTH_CLIENT',\n",
        " 'LSB_JOB_EXECUSER',\n",
        " 'XLSF_UIDDIR',\n",
        " 'EGO_SERVERDIR',\n",
        " 'LSF_EGO_ENVDIR',\n",
        " 'LSB_HOSTS',\n",
        " 'SSH_TTY',\n",
        " 'LSB_EXIT_PRE_ABORT',\n",
        " 'CVS_RSH',\n",
        " 'FUNCTIONALS_DIR',\n",
        " 'FSLDIR',\n",
        " 'LSF_ENVDIR',\n",
        " 'EGO_CONFDIR',\n",
        " 'HOSTTYPE',\n",
        " 'SSH_CLIENT',\n",
        " 'LOGNAME',\n",
        " 'LSF_LIM_API_NTRIES',\n",
        " 'PATH',\n",
        " 'LSB_QUEUE',\n",
        " 'CUDA_LIBDIR',\n",
        " 'TERM',\n",
        " 'LSB_DJOB_HOSTFILE',\n",
        " 'LSF_LIBDIR',\n",
        " 'LSB_ACCT_FILE',\n",
        " 'FSLWISH',\n",
        " 'SBD_KRB5CCNAME_VAL',\n",
        " 'MATHEMATICA_HOME',\n",
        " 'MODULE_VERSION_STACK',\n",
        " 'FSFAST_HOME',\n",
        " 'LSB_BATCH_JID',\n",
        " 'LSB_DJOB_RU_INTERVAL',\n",
        " 'LSB_JOBNAME',\n",
        " 'CDLMD_LICENSE_FILE',\n",
        " 'LOADEDMODULES',\n",
        " 'CLICOLOR',\n",
        " 'HISTCONTROL',\n",
        " 'PWD',\n",
        " 'MPLBACKEND',\n",
        " 'CUDA_BINDIR']"
       ]
      }
     ],
     "prompt_number": 5
    },
    {
     "cell_type": "markdown",
     "metadata": {},
     "source": [
      "## Make directories\n",
      "* use the following code to create directories based on whatever format you want (e.g. BIDS)"
     ]
    },
    {
     "cell_type": "markdown",
     "metadata": {
      "collapsed": false
     },
     "source": [
      "\n",
      "subject_list = ['sub-01','sub-02', 'sub-03', 'sub-04']\n",
      "\n",
      "for subs in subject_list:\n",
      "    os.mkdir('/scratch/sanjay/GRT/fmri_data/nifti')\n",
      "    os.mkdir('/scratch/sanjay/GRT/fmri_data/nifti/{}'.format(subs))\n",
      "    os.mkdir('/scratch/sanjay/GRT/fmri_data/nifti/{}/anat'.format(subs))\n",
      "    os.mkdir('/scratch/sanjay/GRT/fmri_data/nifti/{}/func'.format(subs))\n",
      "\n",
      "\n"
     ]
    },
    {
     "cell_type": "markdown",
     "metadata": {},
     "source": [
      "# Dicom Convert\n",
      "\n",
      "* Needs to be done only once"
     ]
    },
    {
     "cell_type": "markdown",
     "metadata": {
      "collapsed": true
     },
     "source": [
      "sys.path.append(\"/home/applications/dcm2niix/build/bin\")\n",
      "\n",
      "\n",
      "\n",
      "for a in range(1,5,1): # in reality this should be from 1 to 4 but I'm skipping 1 cuz it's already done\n",
      "    convertnode = pe.Node(Dcm2niix(), name ='convert_dicoms', iter_field=['source_dir'])\n",
      "    convertnode.inputs.source_dir = '/scratch/sanjay/GRT/fmri_data/sessions/session-0{}/' .format(a)\n",
      "\n",
      "    convertnode.inputs.output_dir = '/scratch/sanjay/GRT/fmri_data/nifti/session-0{}/' .format(a)\n",
      "    #convertnode.inputs.merge_images = True\n",
      "\n",
      "    convertnode.run()"
     ]
    },
    {
     "cell_type": "markdown",
     "metadata": {},
     "source": [
      "# Data Inputs\n",
      "\n",
      "### This is a super important section. It is where we specify the input structure for nipype. \n",
      "\n",
      "* going off http://nipype.readthedocs.io/en/latest/users/grabbing_and_sinking.html http://nipype.readthedocs.io/en/latest/users/examples/fmri_fsl.html\n",
      "\n",
      "* not sure which T1 to use, we have like 2 for each session\n",
      "* The purpose of MapNode is to map the node when the node takes only one input. Some regular nodes take more than 1 input. "
     ]
    },
    {
     "cell_type": "code",
     "collapsed": true,
     "input": [
      "data_dir = '/scratch/sanjay/GRT/fmri_data/nifti/' #  ' '/Users/Narasiwodeyar'\n",
      "output_dir = '/scratch/sanjay/GRT/fmri_data/testing/output/'\n",
      "working_dir ='/scratch/sanjay/GRT/fmri_data/testing/output/working' #   '/Users/Narasiwodeyar/Google Drive/Experiments/GRT-fMRI/scripts/'\n",
      "\n",
      "# list of subject identifiers\n",
      "subject_list = ['sub-02', 'sub-01']\n",
      "\n",
      "task_list = ['train_', 'test_']\n",
      "run_list = ['1','2','3','4','5','6','7','8','9','10','11','12']"
     ],
     "language": "python",
     "metadata": {},
     "outputs": [],
     "prompt_number": 6
    },
    {
     "cell_type": "code",
     "collapsed": true,
     "input": [
      "#info = dict(func=[['subject_id', ['run01' ]]], struct=[['subject_id', 't1']])\n",
      "\n",
      "infosource = pe.Node(interface=util.IdentityInterface(fields=['subject_id','task_id','run_id']),name=\"infosource\")\n",
      "infosource.iterables = [('subject_id', subject_list),('task_id',task_list ),('run_id',run_list)]"
     ],
     "language": "python",
     "metadata": {},
     "outputs": [],
     "prompt_number": 7
    },
    {
     "cell_type": "markdown",
     "metadata": {
      "collapsed": true
     },
     "source": [
      "## Rename Files\n",
      "\n",
      "* This works perfectly. What we need is to merge the two sessions from each subject into 1, and reorganize into bids format.\n",
      "\n",
      "* Note that the following code needs to be changed based on how you want your data. \n",
      "* I am gonna call the runs in second session as test_7,train_7, test_8, train_8 etc."
     ]
    },
    {
     "cell_type": "markdown",
     "metadata": {
      "collapsed": false
     },
     "source": [
      "for i in range(1,7,1):\n",
      "\n",
      "    os.system('mv /scratch/sanjay/GRT/fmri_data/nifti/session-03/*VISUAL_Train_{}.nii  /scratch/sanjay/GRT/fmri_data/nifti/sub-01/func/sub-01_train_{}.nii' .format(i,i)) \n",
      "    os.system('mv /scratch/sanjay/GRT/fmri_data/nifti/session-03/*VISUAL_{}.nii /scratch/sanjay/GRT/fmri_data/nifti/sub-01/func/sub-01_test_{}.nii' .format(i,i) )\n",
      "    \n",
      "    os.system('mv /scratch/sanjay/GRT/fmri_data/nifti/session-02/*VISUAL_Train_{}.nii  /scratch/sanjay/GRT/fmri_data/nifti/sub-02/func/sub-02_train_{}.nii'.format(i,(i+6))) \n",
      "    os.system('mv /scratch/sanjay/GRT/fmri_data/nifti/session-02/*VISUAL_{}.nii /scratch/sanjay/GRT/fmri_data/nifti/sub-02/func/sub-02_test_{}.nii' .format(i,(i+6)))\n",
      "    \n",
      "    os.system('mv /scratch/sanjay/GRT/fmri_data/nifti/session-04/*VISUAL_Train_{}.nii  /scratch/sanjay/GRT/fmri_data/nifti/sub-01/func/sub-01_train_{}.nii' .format(i,(i+6))) \n",
      "    os.system('mv /scratch/sanjay/GRT/fmri_data/nifti/session-04/*VISUAL_{}.nii  /scratch/sanjay/GRT/fmri_data/nifti/sub-01/func/sub-01_test_{}.nii' .format(i,(i+6)) )\n",
      "    "
     ]
    },
    {
     "cell_type": "markdown",
     "metadata": {},
     "source": [
      "### Getting Data\n",
      "* read this about Data grabbing http://nipype.readthedocs.io/en/latest/users/grabbing_and_sinking.html\n",
      "* and this http://nipype.readthedocs.io/en/latest/interfaces/generated/nipype.interfaces.io.html"
     ]
    },
    {
     "cell_type": "code",
     "collapsed": false,
     "input": [
      "# Something super important is that the nifti files MUST be uncompressed for this step: nii NOT nii.gz\n",
      "\n",
      "func_file = opj('{subject_id}', 'func',\n",
      "                '{subject_id}_{task_id}{run_id}.nii')\n",
      "\n",
      "anat_file = opj('{subject_id}','anat', '{subject_id}_T1.nii')# we might have to make 3rd iterable for the runs\n",
      "#resampled_t1 = opj('{subject_id}','anat', '{subject_id}_T1_resampled.nii')\n",
      "brain = opj('{subject_id}','anat', '{subject_id}_brain.nii')\n",
      "\n",
      "\n",
      "templates = {'func': func_file, 'anat': anat_file,  't1_brain':brain }\n",
      "datasource = pe.Node(nio.SelectFiles(templates),name='Get_files')\n",
      "datasource.inputs.base_directory = data_dir\n",
      "\n",
      "\n"
     ],
     "language": "python",
     "metadata": {},
     "outputs": [],
     "prompt_number": 8
    },
    {
     "cell_type": "code",
     "collapsed": true,
     "input": [
      "fsl.FSLCommand.set_default_output_type('NIFTI')"
     ],
     "language": "python",
     "metadata": {},
     "outputs": [],
     "prompt_number": 9
    },
    {
     "cell_type": "heading",
     "level": 2,
     "metadata": {},
     "source": [
      "Create a workflow"
     ]
    },
    {
     "cell_type": "code",
     "collapsed": true,
     "input": [
      "preproc = pe.Workflow(name='preproc', base_dir=working_dir) # this creates a pre-processing workflow of sorts. pe is pipleline engine"
     ],
     "language": "python",
     "metadata": {},
     "outputs": [],
     "prompt_number": 10
    },
    {
     "cell_type": "heading",
     "level": 2,
     "metadata": {
      "collapsed": true
     },
     "source": [
      "do slicetiming "
     ]
    },
    {
     "cell_type": "code",
     "collapsed": true,
     "input": [
      "slice_timer = pe.MapNode(interface=fsl.SliceTimer(interleaved = True), name= 'Slice_time_correction', iterfield=['in_file'])"
     ],
     "language": "python",
     "metadata": {},
     "outputs": [],
     "prompt_number": 11
    },
    {
     "cell_type": "markdown",
     "metadata": {
      "collapsed": true
     },
     "source": [
      "## Use FSL McFLIRT to do motion correction\n",
      "\n",
      "* see http://nipype.readthedocs.io/en/latest/interfaces/generated/interfaces.fsl/preprocess.html#mcflirt"
     ]
    },
    {
     "cell_type": "code",
     "collapsed": false,
     "input": [
      "motion_correct = pe.MapNode(interface=fsl.MCFLIRT(save_mats=True,\n",
      "                                                  save_plots=True, interpolation = 'sinc', output_type='NIFTI', dof =6),\n",
      "                            name='Realign_with_MCFLIRT',\n",
      "                            iterfield=['in_file'])\n",
      "\n"
     ],
     "language": "python",
     "metadata": {},
     "outputs": [],
     "prompt_number": 12
    },
    {
     "cell_type": "code",
     "collapsed": false,
     "input": [
      "# plot and save motion corrected plots\n",
      "\n",
      "plot_motion = pe.MapNode(interface=fsl.PlotMotionParams(in_source='fsl'),\n",
      "                         name='Check_motion_plots',\n",
      "                         iterfield=['in_file'])\n",
      "plot_motion.iterables = ('plot_type', ['rotations', 'translations'])\n"
     ],
     "language": "python",
     "metadata": {},
     "outputs": [],
     "prompt_number": 13
    },
    {
     "cell_type": "markdown",
     "metadata": {
      "collapsed": false
     },
     "source": [
      "### Strip skull\n",
      "\n",
      "* You need a skull stripped T1 to do registration.\n",
      "* I used the skull stripped T1 from recon-all ouput"
     ]
    },
    {
     "cell_type": "code",
     "collapsed": true,
     "input": [
      "#strip = pe.MapNode(interface = fsl.BET(output_type='NIFTI', functional=False), name='Strip_skull_T1', iterfield=['in_file'])"
     ],
     "language": "python",
     "metadata": {},
     "outputs": [],
     "prompt_number": 14
    },
    {
     "cell_type": "markdown",
     "metadata": {},
     "source": [
      "### co-registration to structural needs T1 to be in same space\n",
      "\n",
      "* This has been achieved using AFNI's 3d-resample. \n",
      "* I did this in the command line because I had trouble getting afni to work properly in the parallel engines\n",
      "* Besides this only needs to be done once"
     ]
    },
    {
     "cell_type": "code",
     "collapsed": false,
     "input": [
      "\n",
      "\n",
      "#resample = pe.Node(interface = afni.Resample(outputtype= 'NIFTI', voxel_size=(2.4,2.4,2.4)), name= 'Resample_T1')"
     ],
     "language": "python",
     "metadata": {},
     "outputs": [],
     "prompt_number": 15
    },
    {
     "cell_type": "heading",
     "level": 2,
     "metadata": {},
     "source": [
      "Select the average volume as input for FLIRT"
     ]
    },
    {
     "cell_type": "code",
     "collapsed": false,
     "input": [
      "avg_vol = pe.MapNode(interface=fsl.MeanImage(output_type='NIFTI',dimension= 'T'),name='Select_avg_vol' ,iterfield = ['in_file'])"
     ],
     "language": "python",
     "metadata": {},
     "outputs": [],
     "prompt_number": 16
    },
    {
     "cell_type": "code",
     "collapsed": true,
     "input": [],
     "language": "python",
     "metadata": {},
     "outputs": [],
     "prompt_number": 17
    },
    {
     "cell_type": "heading",
     "level": 3,
     "metadata": {},
     "source": [
      "register 4d functional run using epi_reg "
     ]
    },
    {
     "cell_type": "code",
     "collapsed": false,
     "input": [
      "#reg = pe.MapNode(interface =fsl.EpiReg(output_type = 'NIFTI'), name= 'Register_4d_funcs', iterfield = ['epi', 't1_brain', 't1_head'])"
     ],
     "language": "python",
     "metadata": {},
     "outputs": [],
     "prompt_number": 17
    },
    {
     "cell_type": "code",
     "collapsed": false,
     "input": [
      "reg = pe.MapNode(interface =fsl.FLIRT(output_type = 'NIFTI', cost_func='bbr', dof = 6), name= 'FLIRT_reg', iterfield = ['in_file', 'reference'])"
     ],
     "language": "python",
     "metadata": {},
     "outputs": [],
     "prompt_number": 18
    },
    {
     "cell_type": "heading",
     "level": 3,
     "metadata": {},
     "source": [
      "Get the inverse transform matrix"
     ]
    },
    {
     "cell_type": "code",
     "collapsed": true,
     "input": [
      "inverse = pe.MapNode(interface = fsl.ConvertXFM(invert_xfm=True),name= 'Get_inverse_transform', iterfield=['in_file'])"
     ],
     "language": "python",
     "metadata": {},
     "outputs": [],
     "prompt_number": 19
    },
    {
     "cell_type": "code",
     "collapsed": true,
     "input": [
      "## Apply transform to functionals"
     ],
     "language": "python",
     "metadata": {},
     "outputs": [],
     "prompt_number": 20
    },
    {
     "cell_type": "code",
     "collapsed": true,
     "input": [
      "transform = pe.MapNode(interface = fsl.ApplyXFM(interp='trilinear', output_type = 'NIFTI'), name = 'Transform_func_runs', iterfield = ['in_file'])"
     ],
     "language": "python",
     "metadata": {},
     "outputs": [],
     "prompt_number": 21
    },
    {
     "cell_type": "heading",
     "level": 2,
     "metadata": {},
     "source": [
      "Merge all runs from one subject into 1 file"
     ]
    },
    {
     "cell_type": "code",
     "collapsed": true,
     "input": [
      "#merge = pe.Node(interface = fsl.Merge(dimension = 't'), name= 'Merge_all_runs_per_subject')"
     ],
     "language": "python",
     "metadata": {},
     "outputs": [],
     "prompt_number": 22
    },
    {
     "cell_type": "code",
     "collapsed": true,
     "input": [],
     "language": "python",
     "metadata": {},
     "outputs": [],
     "prompt_number": 23
    },
    {
     "cell_type": "heading",
     "level": 2,
     "metadata": {},
     "source": [
      "Data storing node"
     ]
    },
    {
     "cell_type": "code",
     "collapsed": true,
     "input": [
      "datasink = pe.Node(nio.DataSink(), name='store_outputs')\n",
      "datasink.inputs.base_directory = output_dir\n"
     ],
     "language": "python",
     "metadata": {},
     "outputs": [],
     "prompt_number": 23
    },
    {
     "cell_type": "markdown",
     "metadata": {},
     "source": [
      "## workflow connections \n",
      "\n",
      "* Define all workflow connections here"
     ]
    },
    {
     "cell_type": "code",
     "collapsed": true,
     "input": [
      "\n",
      "preproc.connect(datasource, 'func', slice_timer, 'in_file')\n",
      "preproc.connect(slice_timer, 'slice_time_corrected_file', motion_correct, 'in_file')\n",
      "#preproc.connect(resample, 'out_file', reg, 'reference') # input resampled T1 as reference for co-registration\n",
      "preproc.connect(infosource,'subject_id',datasource, 'subject_id')\n",
      "preproc.connect(infosource,'task_id',datasource, 'task_id')\n",
      "preproc.connect(infosource,'run_id',datasource, 'run_id')\n",
      "#preproc.connect(datasource,'anat', resample, 'in_file')\n",
      "#preproc.connect(resample, 'out_file', datasink, 'resampled_T1')\n",
      "\n",
      "#preproc.connect(datasource,'func', extract_ref,'in_file')\n",
      "#preproc.connect(extract_ref, 'roi_file', motion_correct, 'ref_vol') # connect the extracted middle volume to the MCFLIRT node\n",
      "#preproc.connect(infosource, datasink, [('subject_id', 'container')]) # this connection might cause problems\n",
      "preproc.connect(motion_correct, 'out_file', datasink, 'motion.corrected_files')\n",
      "preproc.connect(motion_correct, 'par_file', plot_motion, 'in_file')\n",
      "preproc.connect(motion_correct, 'par_file', datasink,'motion.par')\n",
      "preproc.connect(plot_motion, 'out_file', datasink, 'plots')\n",
      "\n",
      "preproc.connect(motion_correct, 'out_file', avg_vol, 'in_file')\n",
      "preproc.connect(avg_vol, 'out_file', reg, 'in_file') # input functional files to registrations step\n",
      "preproc.connect(datasource, 't1_brain', reg, 'reference') # store registered files\n",
      "\n",
      "preproc.connect(reg, 'out_matrix_file', inverse, 'in_file')\n",
      "preproc.connect(inverse, 'out_file', transform, 'in_matrix_file' )\n",
      "preproc.connect(motion_correct, 'out_file', transform, 'in_file')\n",
      "preproc.connect(datasource, 'anat', transform, 'reference')\n",
      "preproc.connect(transform, 'out_file', datasink, 'final')\n",
      "\n",
      "\n",
      "#preproc.connect(reg, 'out_file', strip,'in_file')\n",
      "#preproc.connect(strip,'out_file', datasink, 'final')"
     ],
     "language": "python",
     "metadata": {},
     "outputs": [],
     "prompt_number": 24
    },
    {
     "cell_type": "markdown",
     "metadata": {
      "collapsed": true
     },
     "source": [
      "### Visualing workflow\n",
      "* Use the following cell to generate a visual workflow"
     ]
    },
    {
     "cell_type": "code",
     "collapsed": false,
     "input": [
      "\n",
      "#preproc.write_graph(\"workflow_graph_mcf.dot\", graph2use = 'colored')\n",
      "#from IPython.display import Image\n",
      "#Image(filename=\"workflow_graph_mcf.dot.png\")"
     ],
     "language": "python",
     "metadata": {},
     "outputs": [],
     "prompt_number": 25
    },
    {
     "cell_type": "code",
     "collapsed": false,
     "input": [
      "preproc.run(plugin='IPython', plugin_args={ 'url_file': '/home/snara025/.ipython/profile_myprofile/security/ipcontroller-client.json'})"
     ],
     "language": "python",
     "metadata": {},
     "outputs": [
      {
       "output_type": "stream",
       "stream": "stdout",
       "text": [
        "170613-16:03:36,762 workflow INFO:\n",
        "\t Workflow preproc settings: ['check', 'execution', 'logging']\n"
       ]
      },
      {
       "output_type": "stream",
       "stream": "stdout",
       "text": [
        "170613-16:03:37,593 workflow INFO:\n",
        "\t Running in parallel.\n"
       ]
      },
      {
       "output_type": "stream",
       "stream": "stdout",
       "text": [
        "170613-16:03:37,635 workflow INFO:\n",
        "\t Pending[0] Submitting[48] jobs Slots[inf]\n"
       ]
      },
      {
       "output_type": "stream",
       "stream": "stdout",
       "text": [
        "170613-16:03:37,637 workflow INFO:\n",
        "\t Submitting: Get_files.b20 ID: 0\n"
       ]
      },
      {
       "output_type": "stream",
       "stream": "stdout",
       "text": [
        "170613-16:03:37,661 workflow INFO:\n",
        "\t Finished submitting: Get_files.b20 ID: 0\n"
       ]
      },
      {
       "output_type": "stream",
       "stream": "stdout",
       "text": [
        "170613-16:03:37,662 workflow INFO:\n",
        "\t Submitting: Get_files.b29 ID: 2\n"
       ]
      },
      {
       "output_type": "stream",
       "stream": "stdout",
       "text": [
        "170613-16:03:37,678 workflow INFO:\n",
        "\t Finished submitting: Get_files.b29 ID: 2\n"
       ]
      },
      {
       "output_type": "stream",
       "stream": "stdout",
       "text": [
        "170613-16:03:37,679 workflow INFO:\n",
        "\t Submitting: Get_files.b19 ID: 3\n"
       ]
      },
      {
       "output_type": "stream",
       "stream": "stdout",
       "text": [
        "170613-16:03:37,695 workflow INFO:\n",
        "\t Finished submitting: Get_files.b19 ID: 3\n"
       ]
      },
      {
       "output_type": "stream",
       "stream": "stdout",
       "text": [
        "170613-16:03:37,697 workflow INFO:\n",
        "\t Submitting: Get_files.b16 ID: 4\n"
       ]
      },
      {
       "output_type": "stream",
       "stream": "stdout",
       "text": [
        "170613-16:03:37,713 workflow INFO:\n",
        "\t Finished submitting: Get_files.b16 ID: 4\n"
       ]
      },
      {
       "output_type": "stream",
       "stream": "stdout",
       "text": [
        "170613-16:03:37,715 workflow INFO:\n",
        "\t Submitting: Get_files.b24 ID: 5\n"
       ]
      },
      {
       "output_type": "stream",
       "stream": "stdout",
       "text": [
        "170613-16:03:37,731 workflow INFO:\n",
        "\t Finished submitting: Get_files.b24 ID: 5\n"
       ]
      },
      {
       "output_type": "stream",
       "stream": "stdout",
       "text": [
        "170613-16:03:37,733 workflow INFO:\n",
        "\t Submitting: Get_files.b44 ID: 7\n"
       ]
      },
      {
       "output_type": "stream",
       "stream": "stdout",
       "text": [
        "170613-16:03:37,749 workflow INFO:\n",
        "\t Finished submitting: Get_files.b44 ID: 7\n"
       ]
      },
      {
       "output_type": "stream",
       "stream": "stdout",
       "text": [
        "170613-16:03:37,751 workflow INFO:\n",
        "\t Submitting: Get_files.b47 ID: 9\n"
       ]
      },
      {
       "output_type": "stream",
       "stream": "stdout",
       "text": [
        "170613-16:03:37,764 workflow INFO:\n",
        "\t Finished submitting: Get_files.b47 ID: 9\n"
       ]
      },
      {
       "output_type": "stream",
       "stream": "stdout",
       "text": [
        "170613-16:03:37,765 workflow INFO:\n",
        "\t Submitting: Get_files.b40 ID: 10\n"
       ]
      },
      {
       "output_type": "stream",
       "stream": "stdout",
       "text": [
        "170613-16:03:37,784 workflow INFO:\n",
        "\t Finished submitting: Get_files.b40 ID: 10\n"
       ]
      },
      {
       "output_type": "stream",
       "stream": "stdout",
       "text": [
        "170613-16:03:37,785 workflow INFO:\n",
        "\t Submitting: Get_files.b12 ID: 11\n"
       ]
      },
      {
       "output_type": "stream",
       "stream": "stdout",
       "text": [
        "170613-16:03:37,810 workflow INFO:\n",
        "\t Finished submitting: Get_files.b12 ID: 11\n"
       ]
      },
      {
       "output_type": "stream",
       "stream": "stdout",
       "text": [
        "170613-16:03:37,811 workflow INFO:\n",
        "\t Submitting: Get_files.b43 ID: 12\n"
       ]
      },
      {
       "output_type": "stream",
       "stream": "stdout",
       "text": [
        "170613-16:03:37,830 workflow INFO:\n",
        "\t Finished submitting: Get_files.b43 ID: 12\n"
       ]
      },
      {
       "output_type": "stream",
       "stream": "stdout",
       "text": [
        "170613-16:03:37,831 workflow INFO:\n",
        "\t Submitting: Get_files.b25 ID: 15\n"
       ]
      },
      {
       "output_type": "stream",
       "stream": "stdout",
       "text": [
        "170613-16:03:37,846 workflow INFO:\n",
        "\t Finished submitting: Get_files.b25 ID: 15\n"
       ]
      },
      {
       "output_type": "stream",
       "stream": "stdout",
       "text": [
        "170613-16:03:37,847 workflow INFO:\n",
        "\t Submitting: Get_files.b37 ID: 16\n"
       ]
      },
      {
       "output_type": "stream",
       "stream": "stdout",
       "text": [
        "170613-16:03:37,866 workflow INFO:\n",
        "\t Finished submitting: Get_files.b37 ID: 16\n"
       ]
      },
      {
       "output_type": "stream",
       "stream": "stdout",
       "text": [
        "170613-16:03:37,867 workflow INFO:\n",
        "\t Submitting: Get_files.b35 ID: 24\n"
       ]
      },
      {
       "output_type": "stream",
       "stream": "stdout",
       "text": [
        "170613-16:03:37,886 workflow INFO:\n",
        "\t Finished submitting: Get_files.b35 ID: 24\n"
       ]
      },
      {
       "output_type": "stream",
       "stream": "stdout",
       "text": [
        "170613-16:03:37,888 workflow INFO:\n",
        "\t Submitting: Get_files.b42 ID: 25\n"
       ]
      },
      {
       "output_type": "stream",
       "stream": "stdout",
       "text": [
        "170613-16:03:37,905 workflow INFO:\n",
        "\t Finished submitting: Get_files.b42 ID: 25\n"
       ]
      },
      {
       "output_type": "stream",
       "stream": "stdout",
       "text": [
        "170613-16:03:37,906 workflow INFO:\n",
        "\t Submitting: Get_files.b38 ID: 26\n"
       ]
      },
      {
       "output_type": "stream",
       "stream": "stdout",
       "text": [
        "170613-16:03:37,931 workflow INFO:\n",
        "\t Finished submitting: Get_files.b38 ID: 26\n"
       ]
      },
      {
       "output_type": "stream",
       "stream": "stdout",
       "text": [
        "170613-16:03:37,937 workflow INFO:\n",
        "\t Submitting: Get_files.b17 ID: 27\n"
       ]
      },
      {
       "output_type": "stream",
       "stream": "stdout",
       "text": [
        "170613-16:03:37,962 workflow INFO:\n",
        "\t Finished submitting: Get_files.b17 ID: 27\n"
       ]
      },
      {
       "output_type": "stream",
       "stream": "stdout",
       "text": [
        "170613-16:03:37,964 workflow INFO:\n",
        "\t Submitting: Get_files.b23 ID: 36\n"
       ]
      },
      {
       "output_type": "stream",
       "stream": "stdout",
       "text": [
        "170613-16:03:37,987 workflow INFO:\n",
        "\t Finished submitting: Get_files.b23 ID: 36\n"
       ]
      },
      {
       "output_type": "stream",
       "stream": "stdout",
       "text": [
        "170613-16:03:37,989 workflow INFO:\n",
        "\t Submitting: Get_files.b22 ID: 40\n"
       ]
      },
      {
       "output_type": "stream",
       "stream": "stdout",
       "text": [
        "170613-16:03:38,6 workflow INFO:\n",
        "\t Finished submitting: Get_files.b22 ID: 40\n"
       ]
      },
      {
       "output_type": "stream",
       "stream": "stdout",
       "text": [
        "170613-16:03:38,8 workflow INFO:\n",
        "\t Submitting: Get_files.b05 ID: 55\n"
       ]
      },
      {
       "output_type": "stream",
       "stream": "stdout",
       "text": [
        "170613-16:03:38,26 workflow INFO:\n",
        "\t Finished submitting: Get_files.b05 ID: 55\n"
       ]
      },
      {
       "output_type": "stream",
       "stream": "stdout",
       "text": [
        "170613-16:03:38,29 workflow INFO:\n",
        "\t Submitting: Get_files.b21 ID: 56\n"
       ]
      },
      {
       "output_type": "stream",
       "stream": "stdout",
       "text": [
        "170613-16:03:38,47 workflow INFO:\n",
        "\t Finished submitting: Get_files.b21 ID: 56\n"
       ]
      },
      {
       "output_type": "stream",
       "stream": "stdout",
       "text": [
        "170613-16:03:38,48 workflow INFO:\n",
        "\t Submitting: Get_files.b11 ID: 57\n"
       ]
      },
      {
       "output_type": "stream",
       "stream": "stdout",
       "text": [
        "170613-16:03:38,64 workflow INFO:\n",
        "\t Finished submitting: Get_files.b11 ID: 57\n"
       ]
      },
      {
       "output_type": "stream",
       "stream": "stdout",
       "text": [
        "170613-16:03:38,68 workflow INFO:\n",
        "\t Submitting: Get_files.b34 ID: 73\n"
       ]
      },
      {
       "output_type": "stream",
       "stream": "stdout",
       "text": [
        "170613-16:03:38,174 workflow INFO:\n",
        "\t Finished submitting: Get_files.b34 ID: 73\n"
       ]
      },
      {
       "output_type": "stream",
       "stream": "stdout",
       "text": [
        "170613-16:03:38,176 workflow INFO:\n",
        "\t Submitting: Get_files.b28 ID: 75\n"
       ]
      },
      {
       "output_type": "stream",
       "stream": "stdout",
       "text": [
        "170613-16:03:38,193 workflow INFO:\n",
        "\t Finished submitting: Get_files.b28 ID: 75\n"
       ]
      },
      {
       "output_type": "stream",
       "stream": "stdout",
       "text": [
        "170613-16:03:38,195 workflow INFO:\n",
        "\t Submitting: Get_files.b33 ID: 86\n"
       ]
      },
      {
       "output_type": "stream",
       "stream": "stdout",
       "text": [
        "170613-16:03:38,213 workflow INFO:\n",
        "\t Finished submitting: Get_files.b33 ID: 86\n"
       ]
      },
      {
       "output_type": "stream",
       "stream": "stdout",
       "text": [
        "170613-16:03:38,215 workflow INFO:\n",
        "\t Submitting: Get_files.b39 ID: 88\n"
       ]
      },
      {
       "output_type": "stream",
       "stream": "stdout",
       "text": [
        "170613-16:03:38,231 workflow INFO:\n",
        "\t Finished submitting: Get_files.b39 ID: 88\n"
       ]
      },
      {
       "output_type": "stream",
       "stream": "stdout",
       "text": [
        "170613-16:03:38,232 workflow INFO:\n",
        "\t Submitting: Get_files.b46 ID: 90\n"
       ]
      },
      {
       "output_type": "stream",
       "stream": "stdout",
       "text": [
        "170613-16:03:38,251 workflow INFO:\n",
        "\t Finished submitting: Get_files.b46 ID: 90\n"
       ]
      },
      {
       "output_type": "stream",
       "stream": "stdout",
       "text": [
        "170613-16:03:38,252 workflow INFO:\n",
        "\t Submitting: Get_files.b26 ID: 102\n"
       ]
      },
      {
       "output_type": "stream",
       "stream": "stdout",
       "text": [
        "170613-16:03:38,272 workflow INFO:\n",
        "\t Finished submitting: Get_files.b26 ID: 102\n"
       ]
      },
      {
       "output_type": "stream",
       "stream": "stdout",
       "text": [
        "170613-16:03:38,274 workflow INFO:\n",
        "\t Submitting: Get_files.b07 ID: 117\n"
       ]
      },
      {
       "output_type": "stream",
       "stream": "stdout",
       "text": [
        "170613-16:03:38,294 workflow INFO:\n",
        "\t Finished submitting: Get_files.b07 ID: 117\n"
       ]
      },
      {
       "output_type": "stream",
       "stream": "stdout",
       "text": [
        "170613-16:03:38,295 workflow INFO:\n",
        "\t Submitting: Get_files.b02 ID: 123\n"
       ]
      },
      {
       "output_type": "stream",
       "stream": "stdout",
       "text": [
        "170613-16:03:38,312 workflow INFO:\n",
        "\t Finished submitting: Get_files.b02 ID: 123\n"
       ]
      },
      {
       "output_type": "stream",
       "stream": "stdout",
       "text": [
        "170613-16:03:38,317 workflow INFO:\n",
        "\t Submitting: Get_files.b00 ID: 143\n"
       ]
      },
      {
       "output_type": "stream",
       "stream": "stdout",
       "text": [
        "170613-16:03:38,335 workflow INFO:\n",
        "\t Finished submitting: Get_files.b00 ID: 143\n"
       ]
      },
      {
       "output_type": "stream",
       "stream": "stdout",
       "text": [
        "170613-16:03:38,338 workflow INFO:\n",
        "\t Submitting: Get_files.b10 ID: 161\n"
       ]
      },
      {
       "output_type": "stream",
       "stream": "stdout",
       "text": [
        "170613-16:03:38,358 workflow INFO:\n",
        "\t Finished submitting: Get_files.b10 ID: 161\n"
       ]
      },
      {
       "output_type": "stream",
       "stream": "stdout",
       "text": [
        "170613-16:03:38,359 workflow INFO:\n",
        "\t Submitting: Get_files.b27 ID: 162\n"
       ]
      },
      {
       "output_type": "stream",
       "stream": "stdout",
       "text": [
        "170613-16:03:38,380 workflow INFO:\n",
        "\t Finished submitting: Get_files.b27 ID: 162\n"
       ]
      },
      {
       "output_type": "stream",
       "stream": "stdout",
       "text": [
        "170613-16:03:38,386 workflow INFO:\n",
        "\t Submitting: Get_files.b30 ID: 191\n"
       ]
      },
      {
       "output_type": "stream",
       "stream": "stdout",
       "text": [
        "170613-16:03:38,403 workflow INFO:\n",
        "\t Finished submitting: Get_files.b30 ID: 191\n"
       ]
      },
      {
       "output_type": "stream",
       "stream": "stdout",
       "text": [
        "170613-16:03:38,405 workflow INFO:\n",
        "\t Submitting: Get_files.b09 ID: 221\n"
       ]
      },
      {
       "output_type": "stream",
       "stream": "stdout",
       "text": [
        "170613-16:03:38,424 workflow INFO:\n",
        "\t Finished submitting: Get_files.b09 ID: 221\n"
       ]
      },
      {
       "output_type": "stream",
       "stream": "stdout",
       "text": [
        "170613-16:03:38,426 workflow INFO:\n",
        "\t Submitting: Get_files.b18 ID: 223\n"
       ]
      },
      {
       "output_type": "stream",
       "stream": "stdout",
       "text": [
        "170613-16:03:38,443 workflow INFO:\n",
        "\t Finished submitting: Get_files.b18 ID: 223\n"
       ]
      },
      {
       "output_type": "stream",
       "stream": "stdout",
       "text": [
        "170613-16:03:38,445 workflow INFO:\n",
        "\t Submitting: Get_files.b32 ID: 238\n"
       ]
      },
      {
       "output_type": "stream",
       "stream": "stdout",
       "text": [
        "170613-16:03:38,466 workflow INFO:\n",
        "\t Finished submitting: Get_files.b32 ID: 238\n"
       ]
      },
      {
       "output_type": "stream",
       "stream": "stdout",
       "text": [
        "170613-16:03:38,468 workflow INFO:\n",
        "\t Submitting: Get_files.b08 ID: 250\n"
       ]
      },
      {
       "output_type": "stream",
       "stream": "stdout",
       "text": [
        "170613-16:03:38,488 workflow INFO:\n",
        "\t Finished submitting: Get_files.b08 ID: 250\n"
       ]
      },
      {
       "output_type": "stream",
       "stream": "stdout",
       "text": [
        "170613-16:03:38,490 workflow INFO:\n",
        "\t Submitting: Get_files.b04 ID: 251\n"
       ]
      },
      {
       "output_type": "stream",
       "stream": "stdout",
       "text": [
        "170613-16:03:38,506 workflow INFO:\n",
        "\t Finished submitting: Get_files.b04 ID: 251\n"
       ]
      },
      {
       "output_type": "stream",
       "stream": "stdout",
       "text": [
        "170613-16:03:38,508 workflow INFO:\n",
        "\t Submitting: Get_files.b15 ID: 282\n"
       ]
      },
      {
       "output_type": "stream",
       "stream": "stdout",
       "text": [
        "170613-16:03:38,526 workflow INFO:\n",
        "\t Finished submitting: Get_files.b15 ID: 282\n"
       ]
      },
      {
       "output_type": "stream",
       "stream": "stdout",
       "text": [
        "170613-16:03:38,527 workflow INFO:\n",
        "\t Submitting: Get_files.b14 ID: 307\n"
       ]
      },
      {
       "output_type": "stream",
       "stream": "stdout",
       "text": [
        "170613-16:03:38,546 workflow INFO:\n",
        "\t Finished submitting: Get_files.b14 ID: 307\n"
       ]
      },
      {
       "output_type": "stream",
       "stream": "stdout",
       "text": [
        "170613-16:03:38,547 workflow INFO:\n",
        "\t Submitting: Get_files.b36 ID: 308\n"
       ]
      },
      {
       "output_type": "stream",
       "stream": "stdout",
       "text": [
        "170613-16:03:38,565 workflow INFO:\n",
        "\t Finished submitting: Get_files.b36 ID: 308\n"
       ]
      },
      {
       "output_type": "stream",
       "stream": "stdout",
       "text": [
        "170613-16:03:38,566 workflow INFO:\n",
        "\t Submitting: Get_files.b03 ID: 336\n"
       ]
      },
      {
       "output_type": "stream",
       "stream": "stdout",
       "text": [
        "170613-16:03:38,585 workflow INFO:\n",
        "\t Finished submitting: Get_files.b03 ID: 336\n"
       ]
      },
      {
       "output_type": "stream",
       "stream": "stdout",
       "text": [
        "170613-16:03:38,586 workflow INFO:\n",
        "\t Submitting: Get_files.b45 ID: 357\n"
       ]
      },
      {
       "output_type": "stream",
       "stream": "stdout",
       "text": [
        "170613-16:03:38,599 workflow INFO:\n",
        "\t Finished submitting: Get_files.b45 ID: 357\n"
       ]
      },
      {
       "output_type": "stream",
       "stream": "stdout",
       "text": [
        "170613-16:03:38,600 workflow INFO:\n",
        "\t Submitting: Get_files.b13 ID: 359\n"
       ]
      },
      {
       "output_type": "stream",
       "stream": "stdout",
       "text": [
        "170613-16:03:38,620 workflow INFO:\n",
        "\t Finished submitting: Get_files.b13 ID: 359\n"
       ]
      },
      {
       "output_type": "stream",
       "stream": "stdout",
       "text": [
        "170613-16:03:38,625 workflow INFO:\n",
        "\t Submitting: Get_files.b41 ID: 392\n"
       ]
      },
      {
       "output_type": "stream",
       "stream": "stdout",
       "text": [
        "170613-16:03:38,646 workflow INFO:\n",
        "\t Finished submitting: Get_files.b41 ID: 392\n"
       ]
      },
      {
       "output_type": "stream",
       "stream": "stdout",
       "text": [
        "170613-16:03:38,647 workflow INFO:\n",
        "\t Submitting: Get_files.b06 ID: 442\n"
       ]
      },
      {
       "output_type": "stream",
       "stream": "stdout",
       "text": [
        "170613-16:03:38,663 workflow INFO:\n",
        "\t Finished submitting: Get_files.b06 ID: 442\n"
       ]
      },
      {
       "output_type": "stream",
       "stream": "stdout",
       "text": [
        "170613-16:03:38,665 workflow INFO:\n",
        "\t Submitting: Get_files.b31 ID: 477\n"
       ]
      },
      {
       "output_type": "stream",
       "stream": "stdout",
       "text": [
        "170613-16:03:38,681 workflow INFO:\n",
        "\t Finished submitting: Get_files.b31 ID: 477\n"
       ]
      },
      {
       "output_type": "stream",
       "stream": "stdout",
       "text": [
        "170613-16:03:38,685 workflow INFO:\n",
        "\t Submitting: Get_files.b01 ID: 498\n"
       ]
      },
      {
       "output_type": "stream",
       "stream": "stdout",
       "text": [
        "170613-16:03:38,704 workflow INFO:\n",
        "\t Finished submitting: Get_files.b01 ID: 498\n"
       ]
      },
      {
       "output_type": "stream",
       "stream": "stdout",
       "text": [
        "170613-16:03:40,719 workflow INFO:\n",
        "\t [Job finished] jobname: Get_files.b20 jobid: 0\n"
       ]
      },
      {
       "output_type": "stream",
       "stream": "stdout",
       "text": [
        "170613-16:03:40,731 workflow INFO:\n",
        "\t [Job finished] jobname: Get_files.b29 jobid: 2\n"
       ]
      },
      {
       "output_type": "stream",
       "stream": "stdout",
       "text": [
        "170613-16:03:40,740 workflow INFO:\n",
        "\t [Job finished] jobname: Get_files.b19 jobid: 3\n"
       ]
      },
      {
       "output_type": "stream",
       "stream": "stdout",
       "text": [
        "170613-16:03:40,750 workflow INFO:\n",
        "\t [Job finished] jobname: Get_files.b16 jobid: 4\n"
       ]
      },
      {
       "output_type": "stream",
       "stream": "stdout",
       "text": [
        "170613-16:03:40,758 workflow INFO:\n",
        "\t [Job finished] jobname: Get_files.b24 jobid: 5\n"
       ]
      },
      {
       "output_type": "stream",
       "stream": "stdout",
       "text": [
        "170613-16:03:40,767 workflow INFO:\n",
        "\t [Job finished] jobname: Get_files.b44 jobid: 7\n"
       ]
      },
      {
       "output_type": "stream",
       "stream": "stdout",
       "text": [
        "170613-16:03:40,777 workflow INFO:\n",
        "\t [Job finished] jobname: Get_files.b47 jobid: 9\n"
       ]
      },
      {
       "output_type": "stream",
       "stream": "stdout",
       "text": [
        "170613-16:03:40,786 workflow INFO:\n",
        "\t [Job finished] jobname: Get_files.b40 jobid: 10\n"
       ]
      },
      {
       "output_type": "stream",
       "stream": "stdout",
       "text": [
        "170613-16:03:40,796 workflow INFO:\n",
        "\t [Job finished] jobname: Get_files.b12 jobid: 11\n"
       ]
      },
      {
       "output_type": "stream",
       "stream": "stdout",
       "text": [
        "170613-16:03:40,901 workflow INFO:\n",
        "\t [Job finished] jobname: Get_files.b43 jobid: 12\n"
       ]
      },
      {
       "output_type": "stream",
       "stream": "stdout",
       "text": [
        "170613-16:03:40,911 workflow INFO:\n",
        "\t [Job finished] jobname: Get_files.b25 jobid: 15\n"
       ]
      },
      {
       "output_type": "stream",
       "stream": "stdout",
       "text": [
        "170613-16:03:40,921 workflow INFO:\n",
        "\t [Job finished] jobname: Get_files.b37 jobid: 16\n"
       ]
      },
      {
       "output_type": "stream",
       "stream": "stdout",
       "text": [
        "170613-16:03:40,931 workflow INFO:\n",
        "\t [Job finished] jobname: Get_files.b35 jobid: 24\n"
       ]
      },
      {
       "output_type": "stream",
       "stream": "stdout",
       "text": [
        "170613-16:03:40,940 workflow INFO:\n",
        "\t [Job finished] jobname: Get_files.b42 jobid: 25\n"
       ]
      },
      {
       "output_type": "stream",
       "stream": "stdout",
       "text": [
        "170613-16:03:40,950 workflow INFO:\n",
        "\t [Job finished] jobname: Get_files.b38 jobid: 26\n"
       ]
      },
      {
       "output_type": "stream",
       "stream": "stdout",
       "text": [
        "170613-16:03:40,959 workflow INFO:\n",
        "\t [Job finished] jobname: Get_files.b17 jobid: 27\n"
       ]
      },
      {
       "output_type": "stream",
       "stream": "stdout",
       "text": [
        "170613-16:03:40,969 workflow INFO:\n",
        "\t [Job finished] jobname: Get_files.b23 jobid: 36\n"
       ]
      },
      {
       "output_type": "stream",
       "stream": "stdout",
       "text": [
        "170613-16:03:40,978 workflow INFO:\n",
        "\t [Job finished] jobname: Get_files.b22 jobid: 40\n"
       ]
      },
      {
       "output_type": "stream",
       "stream": "stdout",
       "text": [
        "170613-16:03:40,988 workflow INFO:\n",
        "\t [Job finished] jobname: Get_files.b05 jobid: 55\n"
       ]
      },
      {
       "output_type": "stream",
       "stream": "stdout",
       "text": [
        "170613-16:03:40,997 workflow INFO:\n",
        "\t [Job finished] jobname: Get_files.b21 jobid: 56\n"
       ]
      },
      {
       "output_type": "stream",
       "stream": "stdout",
       "text": [
        "170613-16:03:41,5 workflow INFO:\n",
        "\t [Job finished] jobname: Get_files.b11 jobid: 57\n"
       ]
      },
      {
       "output_type": "stream",
       "stream": "stdout",
       "text": [
        "170613-16:03:41,15 workflow INFO:\n",
        "\t [Job finished] jobname: Get_files.b34 jobid: 73\n"
       ]
      },
      {
       "output_type": "stream",
       "stream": "stdout",
       "text": [
        "170613-16:03:41,25 workflow INFO:\n",
        "\t [Job finished] jobname: Get_files.b28 jobid: 75\n"
       ]
      },
      {
       "output_type": "stream",
       "stream": "stdout",
       "text": [
        "170613-16:03:41,33 workflow INFO:\n",
        "\t [Job finished] jobname: Get_files.b33 jobid: 86\n"
       ]
      },
      {
       "output_type": "stream",
       "stream": "stdout",
       "text": [
        "170613-16:03:41,42 workflow INFO:\n",
        "\t [Job finished] jobname: Get_files.b39 jobid: 88\n"
       ]
      },
      {
       "output_type": "stream",
       "stream": "stdout",
       "text": [
        "170613-16:03:41,51 workflow INFO:\n",
        "\t [Job finished] jobname: Get_files.b46 jobid: 90\n"
       ]
      },
      {
       "output_type": "stream",
       "stream": "stdout",
       "text": [
        "170613-16:03:41,60 workflow INFO:\n",
        "\t [Job finished] jobname: Get_files.b26 jobid: 102\n"
       ]
      },
      {
       "output_type": "stream",
       "stream": "stdout",
       "text": [
        "170613-16:03:41,70 workflow INFO:\n",
        "\t [Job finished] jobname: Get_files.b07 jobid: 117\n"
       ]
      },
      {
       "output_type": "stream",
       "stream": "stdout",
       "text": [
        "170613-16:03:41,79 workflow INFO:\n",
        "\t [Job finished] jobname: Get_files.b02 jobid: 123\n"
       ]
      },
      {
       "output_type": "stream",
       "stream": "stdout",
       "text": [
        "170613-16:03:41,88 workflow INFO:\n",
        "\t [Job finished] jobname: Get_files.b00 jobid: 143\n"
       ]
      },
      {
       "output_type": "stream",
       "stream": "stdout",
       "text": [
        "170613-16:03:41,97 workflow INFO:\n",
        "\t [Job finished] jobname: Get_files.b10 jobid: 161\n"
       ]
      },
      {
       "output_type": "stream",
       "stream": "stdout",
       "text": [
        "170613-16:03:41,107 workflow INFO:\n",
        "\t [Job finished] jobname: Get_files.b27 jobid: 162\n"
       ]
      },
      {
       "output_type": "stream",
       "stream": "stdout",
       "text": [
        "170613-16:03:41,116 workflow INFO:\n",
        "\t [Job finished] jobname: Get_files.b30 jobid: 191\n"
       ]
      },
      {
       "output_type": "stream",
       "stream": "stdout",
       "text": [
        "170613-16:03:41,125 workflow INFO:\n",
        "\t [Job finished] jobname: Get_files.b09 jobid: 221\n"
       ]
      },
      {
       "output_type": "stream",
       "stream": "stdout",
       "text": [
        "170613-16:03:41,135 workflow INFO:\n",
        "\t [Job finished] jobname: Get_files.b18 jobid: 223\n"
       ]
      },
      {
       "output_type": "stream",
       "stream": "stdout",
       "text": [
        "170613-16:03:41,144 workflow INFO:\n",
        "\t [Job finished] jobname: Get_files.b32 jobid: 238\n"
       ]
      },
      {
       "output_type": "stream",
       "stream": "stdout",
       "text": [
        "170613-16:03:41,153 workflow INFO:\n",
        "\t [Job finished] jobname: Get_files.b08 jobid: 250\n"
       ]
      },
      {
       "output_type": "stream",
       "stream": "stdout",
       "text": [
        "170613-16:03:41,162 workflow INFO:\n",
        "\t [Job finished] jobname: Get_files.b04 jobid: 251\n"
       ]
      },
      {
       "output_type": "stream",
       "stream": "stdout",
       "text": [
        "170613-16:03:41,172 workflow INFO:\n",
        "\t [Job finished] jobname: Get_files.b15 jobid: 282\n"
       ]
      },
      {
       "output_type": "stream",
       "stream": "stdout",
       "text": [
        "170613-16:03:41,180 workflow INFO:\n",
        "\t [Job finished] jobname: Get_files.b14 jobid: 307\n"
       ]
      },
      {
       "output_type": "stream",
       "stream": "stdout",
       "text": [
        "170613-16:03:41,189 workflow INFO:\n",
        "\t [Job finished] jobname: Get_files.b36 jobid: 308\n"
       ]
      },
      {
       "output_type": "stream",
       "stream": "stdout",
       "text": [
        "170613-16:03:41,198 workflow INFO:\n",
        "\t [Job finished] jobname: Get_files.b03 jobid: 336\n"
       ]
      },
      {
       "output_type": "stream",
       "stream": "stdout",
       "text": [
        "170613-16:03:41,207 workflow INFO:\n",
        "\t [Job finished] jobname: Get_files.b45 jobid: 357\n"
       ]
      },
      {
       "output_type": "stream",
       "stream": "stdout",
       "text": [
        "170613-16:03:41,217 workflow INFO:\n",
        "\t [Job finished] jobname: Get_files.b13 jobid: 359\n"
       ]
      },
      {
       "output_type": "stream",
       "stream": "stdout",
       "text": [
        "170613-16:03:41,225 workflow INFO:\n",
        "\t [Job finished] jobname: Get_files.b41 jobid: 392\n"
       ]
      },
      {
       "output_type": "stream",
       "stream": "stdout",
       "text": [
        "170613-16:03:41,235 workflow INFO:\n",
        "\t [Job finished] jobname: Get_files.b06 jobid: 442\n"
       ]
      },
      {
       "output_type": "stream",
       "stream": "stdout",
       "text": [
        "170613-16:03:41,244 workflow INFO:\n",
        "\t [Job finished] jobname: Get_files.b31 jobid: 477\n"
       ]
      },
      {
       "output_type": "stream",
       "stream": "stdout",
       "text": [
        "170613-16:03:41,253 workflow INFO:\n",
        "\t [Job finished] jobname: Get_files.b01 jobid: 498\n"
       ]
      },
      {
       "output_type": "stream",
       "stream": "stdout",
       "text": [
        "170613-16:03:41,266 workflow INFO:\n",
        "\t Pending[0] Submitting[48] jobs Slots[inf]\n"
       ]
      },
      {
       "output_type": "stream",
       "stream": "stdout",
       "text": [
        "170613-16:03:41,309 workflow INFO:\n",
        "\t Submitting: Slice_time_correction.b20 ID: 1\n"
       ]
      },
      {
       "output_type": "stream",
       "stream": "stdout",
       "text": [
        "170613-16:03:41,323 workflow INFO:\n",
        "\t Finished submitting: Slice_time_correction.b20 ID: 1\n"
       ]
      },
      {
       "output_type": "stream",
       "stream": "stdout",
       "text": [
        "170613-16:03:41,344 workflow INFO:\n",
        "\t Submitting: Slice_time_correction.b19 ID: 6\n"
       ]
      },
      {
       "output_type": "stream",
       "stream": "stdout",
       "text": [
        "170613-16:03:41,358 workflow INFO:\n",
        "\t Finished submitting: Slice_time_correction.b19 ID: 6\n"
       ]
      },
      {
       "output_type": "stream",
       "stream": "stdout",
       "text": [
        "170613-16:03:41,378 workflow INFO:\n",
        "\t Submitting: Slice_time_correction.b44 ID: 8\n"
       ]
      },
      {
       "output_type": "stream",
       "stream": "stdout",
       "text": [
        "170613-16:03:41,393 workflow INFO:\n",
        "\t Finished submitting: Slice_time_correction.b44 ID: 8\n"
       ]
      },
      {
       "output_type": "stream",
       "stream": "stdout",
       "text": [
        "170613-16:03:41,431 workflow INFO:\n",
        "\t Submitting: Slice_time_correction.b43 ID: 13\n"
       ]
      },
      {
       "output_type": "stream",
       "stream": "stdout",
       "text": [
        "170613-16:03:41,444 workflow INFO:\n",
        "\t Finished submitting: Slice_time_correction.b43 ID: 13\n"
       ]
      },
      {
       "output_type": "stream",
       "stream": "stdout",
       "text": [
        "170613-16:03:41,461 workflow INFO:\n",
        "\t Submitting: Slice_time_correction.b12 ID: 14\n"
       ]
      },
      {
       "output_type": "stream",
       "stream": "stdout",
       "text": [
        "170613-16:03:41,477 workflow INFO:\n",
        "\t Finished submitting: Slice_time_correction.b12 ID: 14\n"
       ]
      },
      {
       "output_type": "stream",
       "stream": "stdout",
       "text": [
        "170613-16:03:41,502 workflow INFO:\n",
        "\t Submitting: Slice_time_correction.b37 ID: 17\n"
       ]
      },
      {
       "output_type": "stream",
       "stream": "stdout",
       "text": [
        "170613-16:03:41,517 workflow INFO:\n",
        "\t Finished submitting: Slice_time_correction.b37 ID: 17\n"
       ]
      },
      {
       "output_type": "stream",
       "stream": "stdout",
       "text": [
        "170613-16:03:41,539 workflow INFO:\n",
        "\t Submitting: Slice_time_correction.b42 ID: 28\n"
       ]
      },
      {
       "output_type": "stream",
       "stream": "stdout",
       "text": [
        "170613-16:03:41,551 workflow INFO:\n",
        "\t Finished submitting: Slice_time_correction.b42 ID: 28\n"
       ]
      },
      {
       "output_type": "stream",
       "stream": "stdout",
       "text": [
        "170613-16:03:41,573 workflow INFO:\n",
        "\t Submitting: Slice_time_correction.b17 ID: 37\n"
       ]
      },
      {
       "output_type": "stream",
       "stream": "stdout",
       "text": [
        "170613-16:03:41,583 workflow INFO:\n",
        "\t Finished submitting: Slice_time_correction.b17 ID: 37\n"
       ]
      },
      {
       "output_type": "stream",
       "stream": "stdout",
       "text": [
        "170613-16:03:41,605 workflow INFO:\n",
        "\t Submitting: Slice_time_correction.b23 ID: 38\n"
       ]
      },
      {
       "output_type": "stream",
       "stream": "stdout",
       "text": [
        "170613-16:03:41,621 workflow INFO:\n",
        "\t Finished submitting: Slice_time_correction.b23 ID: 38\n"
       ]
      },
      {
       "output_type": "stream",
       "stream": "stdout",
       "text": [
        "170613-16:03:41,641 workflow INFO:\n",
        "\t Submitting: Slice_time_correction.b40 ID: 39\n"
       ]
      },
      {
       "output_type": "stream",
       "stream": "stdout",
       "text": [
        "170613-16:03:41,654 workflow INFO:\n",
        "\t Finished submitting: Slice_time_correction.b40 ID: 39\n"
       ]
      },
      {
       "output_type": "stream",
       "stream": "stdout",
       "text": [
        "170613-16:03:41,674 workflow INFO:\n",
        "\t Submitting: Slice_time_correction.b25 ID: 41\n"
       ]
      },
      {
       "output_type": "stream",
       "stream": "stdout",
       "text": [
        "170613-16:03:41,686 workflow INFO:\n",
        "\t Finished submitting: Slice_time_correction.b25 ID: 41\n"
       ]
      },
      {
       "output_type": "stream",
       "stream": "stdout",
       "text": [
        "170613-16:03:41,708 workflow INFO:\n",
        "\t Submitting: Slice_time_correction.b22 ID: 44\n"
       ]
      },
      {
       "output_type": "stream",
       "stream": "stdout",
       "text": [
        "170613-16:03:41,722 workflow INFO:\n",
        "\t Finished submitting: Slice_time_correction.b22 ID: 44\n"
       ]
      },
      {
       "output_type": "stream",
       "stream": "stdout",
       "text": [
        "170613-16:03:41,742 workflow INFO:\n",
        "\t Submitting: Slice_time_correction.b21 ID: 58\n"
       ]
      },
      {
       "output_type": "stream",
       "stream": "stdout",
       "text": [
        "170613-16:03:41,757 workflow INFO:\n",
        "\t Finished submitting: Slice_time_correction.b21 ID: 58\n"
       ]
      },
      {
       "output_type": "stream",
       "stream": "stdout",
       "text": [
        "170613-16:03:41,777 workflow INFO:\n",
        "\t Submitting: Slice_time_correction.b38 ID: 68\n"
       ]
      },
      {
       "output_type": "stream",
       "stream": "stdout",
       "text": [
        "170613-16:03:41,790 workflow INFO:\n",
        "\t Finished submitting: Slice_time_correction.b38 ID: 68\n"
       ]
      },
      {
       "output_type": "stream",
       "stream": "stdout",
       "text": [
        "170613-16:03:41,811 workflow INFO:\n",
        "\t Submitting: Slice_time_correction.b34 ID: 74\n"
       ]
      },
      {
       "output_type": "stream",
       "stream": "stdout",
       "text": [
        "170613-16:03:41,824 workflow INFO:\n",
        "\t Finished submitting: Slice_time_correction.b34 ID: 74\n"
       ]
      },
      {
       "output_type": "stream",
       "stream": "stdout",
       "text": [
        "170613-16:03:41,858 workflow INFO:\n",
        "\t Submitting: Slice_time_correction.b33 ID: 87\n"
       ]
      },
      {
       "output_type": "stream",
       "stream": "stdout",
       "text": [
        "170613-16:03:41,876 workflow INFO:\n",
        "\t Finished submitting: Slice_time_correction.b33 ID: 87\n"
       ]
      },
      {
       "output_type": "stream",
       "stream": "stdout",
       "text": [
        "170613-16:03:41,902 workflow INFO:\n",
        "\t Submitting: Slice_time_correction.b39 ID: 89\n"
       ]
      },
      {
       "output_type": "stream",
       "stream": "stdout",
       "text": [
        "170613-16:03:41,913 workflow INFO:\n",
        "\t Finished submitting: Slice_time_correction.b39 ID: 89\n"
       ]
      },
      {
       "output_type": "stream",
       "stream": "stdout",
       "text": [
        "170613-16:03:42,42 workflow INFO:\n",
        "\t Submitting: Slice_time_correction.b46 ID: 91\n"
       ]
      },
      {
       "output_type": "stream",
       "stream": "stdout",
       "text": [
        "170613-16:03:42,73 workflow INFO:\n",
        "\t Finished submitting: Slice_time_correction.b46 ID: 91\n"
       ]
      },
      {
       "output_type": "stream",
       "stream": "stdout",
       "text": [
        "170613-16:03:42,93 workflow INFO:\n",
        "\t Submitting: Slice_time_correction.b28 ID: 92\n"
       ]
      },
      {
       "output_type": "stream",
       "stream": "stdout",
       "text": [
        "170613-16:03:42,107 workflow INFO:\n",
        "\t Finished submitting: Slice_time_correction.b28 ID: 92\n"
       ]
      },
      {
       "output_type": "stream",
       "stream": "stdout",
       "text": [
        "170613-16:03:42,128 workflow INFO:\n",
        "\t Submitting: Slice_time_correction.b26 ID: 103\n"
       ]
      },
      {
       "output_type": "stream",
       "stream": "stdout",
       "text": [
        "170613-16:03:42,143 workflow INFO:\n",
        "\t Finished submitting: Slice_time_correction.b26 ID: 103\n"
       ]
      },
      {
       "output_type": "stream",
       "stream": "stdout",
       "text": [
        "170613-16:03:42,160 workflow INFO:\n",
        "\t Submitting: Slice_time_correction.b07 ID: 118\n"
       ]
      },
      {
       "output_type": "stream",
       "stream": "stdout",
       "text": [
        "170613-16:03:42,172 workflow INFO:\n",
        "\t Finished submitting: Slice_time_correction.b07 ID: 118\n"
       ]
      },
      {
       "output_type": "stream",
       "stream": "stdout",
       "text": [
        "170613-16:03:42,192 workflow INFO:\n",
        "\t Submitting: Slice_time_correction.b05 ID: 119\n"
       ]
      },
      {
       "output_type": "stream",
       "stream": "stdout",
       "text": [
        "170613-16:03:42,205 workflow INFO:\n",
        "\t Finished submitting: Slice_time_correction.b05 ID: 119\n"
       ]
      },
      {
       "output_type": "stream",
       "stream": "stdout",
       "text": [
        "170613-16:03:42,231 workflow INFO:\n",
        "\t Submitting: Slice_time_correction.b02 ID: 124\n"
       ]
      },
      {
       "output_type": "stream",
       "stream": "stdout",
       "text": [
        "170613-16:03:42,246 workflow INFO:\n",
        "\t Finished submitting: Slice_time_correction.b02 ID: 124\n"
       ]
      },
      {
       "output_type": "stream",
       "stream": "stdout",
       "text": [
        "170613-16:03:42,269 workflow INFO:\n",
        "\t Submitting: Slice_time_correction.b24 ID: 133\n"
       ]
      },
      {
       "output_type": "stream",
       "stream": "stdout",
       "text": [
        "170613-16:03:42,282 workflow INFO:\n",
        "\t Finished submitting: Slice_time_correction.b24 ID: 133\n"
       ]
      },
      {
       "output_type": "stream",
       "stream": "stdout",
       "text": [
        "170613-16:03:42,307 workflow INFO:\n",
        "\t Submitting: Slice_time_correction.b11 ID: 142\n"
       ]
      },
      {
       "output_type": "stream",
       "stream": "stdout",
       "text": [
        "170613-16:03:42,321 workflow INFO:\n",
        "\t Finished submitting: Slice_time_correction.b11 ID: 142\n"
       ]
      },
      {
       "output_type": "stream",
       "stream": "stdout",
       "text": [
        "170613-16:03:42,340 workflow INFO:\n",
        "\t Submitting: Slice_time_correction.b47 ID: 153\n"
       ]
      },
      {
       "output_type": "stream",
       "stream": "stdout",
       "text": [
        "170613-16:03:42,355 workflow INFO:\n",
        "\t Finished submitting: Slice_time_correction.b47 ID: 153\n"
       ]
      },
      {
       "output_type": "stream",
       "stream": "stdout",
       "text": [
        "170613-16:03:42,375 workflow INFO:\n",
        "\t Submitting: Slice_time_correction.b27 ID: 163\n"
       ]
      },
      {
       "output_type": "stream",
       "stream": "stdout",
       "text": [
        "170613-16:03:42,393 workflow INFO:\n",
        "\t Finished submitting: Slice_time_correction.b27 ID: 163\n"
       ]
      },
      {
       "output_type": "stream",
       "stream": "stdout",
       "text": [
        "170613-16:03:42,414 workflow INFO:\n",
        "\t Submitting: Slice_time_correction.b00 ID: 173\n"
       ]
      },
      {
       "output_type": "stream",
       "stream": "stdout",
       "text": [
        "170613-16:03:42,427 workflow INFO:\n",
        "\t Finished submitting: Slice_time_correction.b00 ID: 173\n"
       ]
      },
      {
       "output_type": "stream",
       "stream": "stdout",
       "text": [
        "170613-16:03:42,484 workflow INFO:\n",
        "\t Submitting: Slice_time_correction.b16 ID: 183\n"
       ]
      },
      {
       "output_type": "stream",
       "stream": "stdout",
       "text": [
        "170613-16:03:42,497 workflow INFO:\n",
        "\t Finished submitting: Slice_time_correction.b16 ID: 183\n"
       ]
      },
      {
       "output_type": "stream",
       "stream": "stdout",
       "text": [
        "170613-16:03:42,515 workflow INFO:\n",
        "\t Submitting: Slice_time_correction.b29 ID: 184\n"
       ]
      },
      {
       "output_type": "stream",
       "stream": "stdout",
       "text": [
        "170613-16:03:42,528 workflow INFO:\n",
        "\t Finished submitting: Slice_time_correction.b29 ID: 184\n"
       ]
      },
      {
       "output_type": "stream",
       "stream": "stdout",
       "text": [
        "170613-16:03:42,551 workflow INFO:\n",
        "\t Submitting: Slice_time_correction.b30 ID: 192\n"
       ]
      },
      {
       "output_type": "stream",
       "stream": "stdout",
       "text": [
        "170613-16:03:42,570 workflow INFO:\n",
        "\t Finished submitting: Slice_time_correction.b30 ID: 192\n"
       ]
      },
      {
       "output_type": "stream",
       "stream": "stdout",
       "text": [
        "170613-16:03:42,588 workflow INFO:\n",
        "\t Submitting: Slice_time_correction.b10 ID: 197\n"
       ]
      },
      {
       "output_type": "stream",
       "stream": "stdout",
       "text": [
        "170613-16:03:42,600 workflow INFO:\n",
        "\t Finished submitting: Slice_time_correction.b10 ID: 197\n"
       ]
      },
      {
       "output_type": "stream",
       "stream": "stdout",
       "text": [
        "170613-16:03:42,620 workflow INFO:\n",
        "\t Submitting: Slice_time_correction.b18 ID: 224\n"
       ]
      },
      {
       "output_type": "stream",
       "stream": "stdout",
       "text": [
        "170613-16:03:42,634 workflow INFO:\n",
        "\t Finished submitting: Slice_time_correction.b18 ID: 224\n"
       ]
      },
      {
       "output_type": "stream",
       "stream": "stdout",
       "text": [
        "170613-16:03:42,652 workflow INFO:\n",
        "\t Submitting: Slice_time_correction.b09 ID: 234\n"
       ]
      },
      {
       "output_type": "stream",
       "stream": "stdout",
       "text": [
        "170613-16:03:42,666 workflow INFO:\n",
        "\t Finished submitting: Slice_time_correction.b09 ID: 234\n"
       ]
      },
      {
       "output_type": "stream",
       "stream": "stdout",
       "text": [
        "170613-16:03:42,687 workflow INFO:\n",
        "\t Submitting: Slice_time_correction.b08 ID: 265\n"
       ]
      },
      {
       "output_type": "stream",
       "stream": "stdout",
       "text": [
        "170613-16:03:42,701 workflow INFO:\n",
        "\t Finished submitting: Slice_time_correction.b08 ID: 265\n"
       ]
      },
      {
       "output_type": "stream",
       "stream": "stdout",
       "text": [
        "170613-16:03:42,724 workflow INFO:\n",
        "\t Submitting: Slice_time_correction.b15 ID: 288\n"
       ]
      },
      {
       "output_type": "stream",
       "stream": "stdout",
       "text": [
        "170613-16:03:42,735 workflow INFO:\n",
        "\t Finished submitting: Slice_time_correction.b15 ID: 288\n"
       ]
      },
      {
       "output_type": "stream",
       "stream": "stdout",
       "text": [
        "170613-16:03:42,753 workflow INFO:\n",
        "\t Submitting: Slice_time_correction.b35 ID: 299\n"
       ]
      },
      {
       "output_type": "stream",
       "stream": "stdout",
       "text": [
        "170613-16:03:42,768 workflow INFO:\n",
        "\t Finished submitting: Slice_time_correction.b35 ID: 299\n"
       ]
      },
      {
       "output_type": "stream",
       "stream": "stdout",
       "text": [
        "170613-16:03:42,791 workflow INFO:\n",
        "\t Submitting: Slice_time_correction.b36 ID: 309\n"
       ]
      },
      {
       "output_type": "stream",
       "stream": "stdout",
       "text": [
        "170613-16:03:42,802 workflow INFO:\n",
        "\t Finished submitting: Slice_time_correction.b36 ID: 309\n"
       ]
      },
      {
       "output_type": "stream",
       "stream": "stdout",
       "text": [
        "170613-16:03:42,821 workflow INFO:\n",
        "\t Submitting: Slice_time_correction.b32 ID: 315\n"
       ]
      },
      {
       "output_type": "stream",
       "stream": "stdout",
       "text": [
        "170613-16:03:42,834 workflow INFO:\n",
        "\t Finished submitting: Slice_time_correction.b32 ID: 315\n"
       ]
      },
      {
       "output_type": "stream",
       "stream": "stdout",
       "text": [
        "170613-16:03:42,866 workflow INFO:\n",
        "\t Submitting: Slice_time_correction.b14 ID: 324\n"
       ]
      },
      {
       "output_type": "stream",
       "stream": "stdout",
       "text": [
        "170613-16:03:42,879 workflow INFO:\n",
        "\t Finished submitting: Slice_time_correction.b14 ID: 324\n"
       ]
      },
      {
       "output_type": "stream",
       "stream": "stdout",
       "text": [
        "170613-16:03:42,902 workflow INFO:\n",
        "\t Submitting: Slice_time_correction.b03 ID: 337\n"
       ]
      },
      {
       "output_type": "stream",
       "stream": "stdout",
       "text": [
        "170613-16:03:42,918 workflow INFO:\n",
        "\t Finished submitting: Slice_time_correction.b03 ID: 337\n"
       ]
      },
      {
       "output_type": "stream",
       "stream": "stdout",
       "text": [
        "170613-16:03:42,940 workflow INFO:\n",
        "\t Submitting: Slice_time_correction.b04 ID: 342\n"
       ]
      },
      {
       "output_type": "stream",
       "stream": "stdout",
       "text": [
        "170613-16:03:42,954 workflow INFO:\n",
        "\t Finished submitting: Slice_time_correction.b04 ID: 342\n"
       ]
      },
      {
       "output_type": "stream",
       "stream": "stdout",
       "text": [
        "170613-16:03:42,975 workflow INFO:\n",
        "\t Submitting: Slice_time_correction.b45 ID: 358\n"
       ]
      },
      {
       "output_type": "stream",
       "stream": "stdout",
       "text": [
        "170613-16:03:42,989 workflow INFO:\n",
        "\t Finished submitting: Slice_time_correction.b45 ID: 358\n"
       ]
      },
      {
       "output_type": "stream",
       "stream": "stdout",
       "text": [
        "170613-16:03:43,35 workflow INFO:\n",
        "\t Submitting: Slice_time_correction.b13 ID: 360\n"
       ]
      },
      {
       "output_type": "stream",
       "stream": "stdout",
       "text": [
        "170613-16:03:43,51 workflow INFO:\n",
        "\t Finished submitting: Slice_time_correction.b13 ID: 360\n"
       ]
      },
      {
       "output_type": "stream",
       "stream": "stdout",
       "text": [
        "170613-16:03:43,73 workflow INFO:\n",
        "\t Submitting: Slice_time_correction.b06 ID: 443\n"
       ]
      },
      {
       "output_type": "stream",
       "stream": "stdout",
       "text": [
        "170613-16:03:43,89 workflow INFO:\n",
        "\t Finished submitting: Slice_time_correction.b06 ID: 443\n"
       ]
      },
      {
       "output_type": "stream",
       "stream": "stdout",
       "text": [
        "170613-16:03:43,111 workflow INFO:\n",
        "\t Submitting: Slice_time_correction.b31 ID: 478\n"
       ]
      },
      {
       "output_type": "stream",
       "stream": "stdout",
       "text": [
        "170613-16:03:43,126 workflow INFO:\n",
        "\t Finished submitting: Slice_time_correction.b31 ID: 478\n"
       ]
      },
      {
       "output_type": "stream",
       "stream": "stdout",
       "text": [
        "170613-16:03:43,146 workflow INFO:\n",
        "\t Submitting: Slice_time_correction.b01 ID: 499\n"
       ]
      },
      {
       "output_type": "stream",
       "stream": "stdout",
       "text": [
        "170613-16:03:43,157 workflow INFO:\n",
        "\t Finished submitting: Slice_time_correction.b01 ID: 499\n"
       ]
      },
      {
       "output_type": "stream",
       "stream": "stdout",
       "text": [
        "170613-16:03:43,178 workflow INFO:\n",
        "\t Submitting: Slice_time_correction.b41 ID: 512\n"
       ]
      },
      {
       "output_type": "stream",
       "stream": "stdout",
       "text": [
        "170613-16:03:43,190 workflow INFO:\n",
        "\t Finished submitting: Slice_time_correction.b41 ID: 512\n"
       ]
      },
      {
       "output_type": "stream",
       "stream": "stdout",
       "text": [
        "170613-16:03:45,206 workflow ERROR:\n",
        "\t [u'Node Slice_time_correction.b20 failed to run on host n005.']\n"
       ]
      },
      {
       "output_type": "stream",
       "stream": "stdout",
       "text": [
        "170613-16:03:45,207 workflow INFO:\n",
        "\t Saving crash info to /scratch/sanjay/GRT/fmri_data/testing/crash-20170613-160345-snara025-Slice_time_correction.b20-100a391e-b6a1-4037-8047-e335ac7d732c.pklz\n"
       ]
      },
      {
       "output_type": "stream",
       "stream": "stdout",
       "text": [
        "170613-16:03:45,208 workflow INFO:\n",
        "\t Traceback (most recent call last):\n",
        "  File \"/home/snara025/miniconda2/envs/fmri/lib/python2.7/site-packages/nipype/pipeline/plugins/ipython.py\", line 39, in execute_task\n",
        "    result = task.run(updatehash=updatehash)\n",
        "  File \"/home/snara025/miniconda2/envs/fmri/lib/python2.7/site-packages/nipype/pipeline/engine/nodes.py\", line 372, in run\n",
        "    self._run_interface()\n",
        "  File \"/home/snara025/miniconda2/envs/fmri/lib/python2.7/site-packages/nipype/pipeline/engine/nodes.py\", line 1291, in _run_interface\n",
        "    updatehash=updatehash))\n",
        "  File \"/home/snara025/miniconda2/envs/fmri/lib/python2.7/site-packages/nipype/pipeline/engine/nodes.py\", line 1197, in _collate_results\n",
        "    (self.name, '\\n'.join(msg)))\n",
        "Exception: Subnodes of node: Slice_time_correction failed:\n",
        "Subnode 0 failed\n",
        "Error:\n",
        "command 'slicetimer' could not be found on host n005\n",
        "Interface SliceTimer failed to run. \n",
        "\n"
       ]
      },
      {
       "output_type": "stream",
       "stream": "stdout",
       "text": [
        "170613-16:03:45,236 workflow ERROR:\n",
        "\t [u'Node Slice_time_correction.b19 failed to run on host n005.']\n"
       ]
      },
      {
       "output_type": "stream",
       "stream": "stdout",
       "text": [
        "170613-16:03:45,238 workflow INFO:\n",
        "\t Saving crash info to /scratch/sanjay/GRT/fmri_data/testing/crash-20170613-160345-snara025-Slice_time_correction.b19-a74adfde-2b71-4ef8-934b-b36488d15a40.pklz\n"
       ]
      },
      {
       "output_type": "stream",
       "stream": "stdout",
       "text": [
        "170613-16:03:45,239 workflow INFO:\n",
        "\t Traceback (most recent call last):\n",
        "  File \"/home/snara025/miniconda2/envs/fmri/lib/python2.7/site-packages/nipype/pipeline/plugins/ipython.py\", line 39, in execute_task\n",
        "    result = task.run(updatehash=updatehash)\n",
        "  File \"/home/snara025/miniconda2/envs/fmri/lib/python2.7/site-packages/nipype/pipeline/engine/nodes.py\", line 372, in run\n",
        "    self._run_interface()\n",
        "  File \"/home/snara025/miniconda2/envs/fmri/lib/python2.7/site-packages/nipype/pipeline/engine/nodes.py\", line 1291, in _run_interface\n",
        "    updatehash=updatehash))\n",
        "  File \"/home/snara025/miniconda2/envs/fmri/lib/python2.7/site-packages/nipype/pipeline/engine/nodes.py\", line 1197, in _collate_results\n",
        "    (self.name, '\\n'.join(msg)))\n",
        "Exception: Subnodes of node: Slice_time_correction failed:\n",
        "Subnode 0 failed\n",
        "Error:\n",
        "command 'slicetimer' could not be found on host n005\n",
        "Interface SliceTimer failed to run. \n",
        "\n"
       ]
      },
      {
       "output_type": "stream",
       "stream": "stdout",
       "text": [
        "170613-16:03:45,260 workflow ERROR:\n",
        "\t [u'Node Slice_time_correction.b44 failed to run on host n005.']\n"
       ]
      },
      {
       "output_type": "stream",
       "stream": "stdout",
       "text": [
        "170613-16:03:45,261 workflow INFO:\n",
        "\t Saving crash info to /scratch/sanjay/GRT/fmri_data/testing/crash-20170613-160345-snara025-Slice_time_correction.b44-714175a0-b735-4a22-95a5-734923d23497.pklz\n"
       ]
      },
      {
       "output_type": "stream",
       "stream": "stdout",
       "text": [
        "170613-16:03:45,263 workflow INFO:\n",
        "\t Traceback (most recent call last):\n",
        "  File \"/home/snara025/miniconda2/envs/fmri/lib/python2.7/site-packages/nipype/pipeline/plugins/ipython.py\", line 39, in execute_task\n",
        "    result = task.run(updatehash=updatehash)\n",
        "  File \"/home/snara025/miniconda2/envs/fmri/lib/python2.7/site-packages/nipype/pipeline/engine/nodes.py\", line 372, in run\n",
        "    self._run_interface()\n",
        "  File \"/home/snara025/miniconda2/envs/fmri/lib/python2.7/site-packages/nipype/pipeline/engine/nodes.py\", line 1291, in _run_interface\n",
        "    updatehash=updatehash))\n",
        "  File \"/home/snara025/miniconda2/envs/fmri/lib/python2.7/site-packages/nipype/pipeline/engine/nodes.py\", line 1197, in _collate_results\n",
        "    (self.name, '\\n'.join(msg)))\n",
        "Exception: Subnodes of node: Slice_time_correction failed:\n",
        "Subnode 0 failed\n",
        "Error:\n",
        "command 'slicetimer' could not be found on host n005\n",
        "Interface SliceTimer failed to run. \n",
        "\n"
       ]
      },
      {
       "output_type": "stream",
       "stream": "stdout",
       "text": [
        "170613-16:03:45,285 workflow ERROR:\n",
        "\t [u'Node Slice_time_correction.b43 failed to run on host n005.']\n"
       ]
      },
      {
       "output_type": "stream",
       "stream": "stdout",
       "text": [
        "170613-16:03:45,287 workflow INFO:\n",
        "\t Saving crash info to /scratch/sanjay/GRT/fmri_data/testing/crash-20170613-160345-snara025-Slice_time_correction.b43-0b46ee7b-d27e-42fb-9e6f-437628d32211.pklz\n"
       ]
      },
      {
       "output_type": "stream",
       "stream": "stdout",
       "text": [
        "170613-16:03:45,288 workflow INFO:\n",
        "\t Traceback (most recent call last):\n",
        "  File \"/home/snara025/miniconda2/envs/fmri/lib/python2.7/site-packages/nipype/pipeline/plugins/ipython.py\", line 39, in execute_task\n",
        "    result = task.run(updatehash=updatehash)\n",
        "  File \"/home/snara025/miniconda2/envs/fmri/lib/python2.7/site-packages/nipype/pipeline/engine/nodes.py\", line 372, in run\n",
        "    self._run_interface()\n",
        "  File \"/home/snara025/miniconda2/envs/fmri/lib/python2.7/site-packages/nipype/pipeline/engine/nodes.py\", line 1291, in _run_interface\n",
        "    updatehash=updatehash))\n",
        "  File \"/home/snara025/miniconda2/envs/fmri/lib/python2.7/site-packages/nipype/pipeline/engine/nodes.py\", line 1197, in _collate_results\n",
        "    (self.name, '\\n'.join(msg)))\n",
        "Exception: Subnodes of node: Slice_time_correction failed:\n",
        "Subnode 0 failed\n",
        "Error:\n",
        "command 'slicetimer' could not be found on host n005\n",
        "Interface SliceTimer failed to run. \n",
        "\n"
       ]
      },
      {
       "output_type": "stream",
       "stream": "stdout",
       "text": [
        "170613-16:03:45,310 workflow ERROR:\n",
        "\t [u'Node Slice_time_correction.b12 failed to run on host n005.']\n"
       ]
      },
      {
       "output_type": "stream",
       "stream": "stdout",
       "text": [
        "170613-16:03:45,312 workflow INFO:\n",
        "\t Saving crash info to /scratch/sanjay/GRT/fmri_data/testing/crash-20170613-160345-snara025-Slice_time_correction.b12-74010dbd-fbc6-4623-9640-ea4b0de978fd.pklz\n"
       ]
      },
      {
       "output_type": "stream",
       "stream": "stdout",
       "text": [
        "170613-16:03:45,313 workflow INFO:\n",
        "\t Traceback (most recent call last):\n",
        "  File \"/home/snara025/miniconda2/envs/fmri/lib/python2.7/site-packages/nipype/pipeline/plugins/ipython.py\", line 39, in execute_task\n",
        "    result = task.run(updatehash=updatehash)\n",
        "  File \"/home/snara025/miniconda2/envs/fmri/lib/python2.7/site-packages/nipype/pipeline/engine/nodes.py\", line 372, in run\n",
        "    self._run_interface()\n",
        "  File \"/home/snara025/miniconda2/envs/fmri/lib/python2.7/site-packages/nipype/pipeline/engine/nodes.py\", line 1291, in _run_interface\n",
        "    updatehash=updatehash))\n",
        "  File \"/home/snara025/miniconda2/envs/fmri/lib/python2.7/site-packages/nipype/pipeline/engine/nodes.py\", line 1197, in _collate_results\n",
        "    (self.name, '\\n'.join(msg)))\n",
        "Exception: Subnodes of node: Slice_time_correction failed:\n",
        "Subnode 0 failed\n",
        "Error:\n",
        "command 'slicetimer' could not be found on host n005\n",
        "Interface SliceTimer failed to run. \n",
        "\n"
       ]
      },
      {
       "output_type": "stream",
       "stream": "stdout",
       "text": [
        "170613-16:03:45,336 workflow ERROR:\n",
        "\t [u'Node Slice_time_correction.b37 failed to run on host n005.']\n"
       ]
      },
      {
       "output_type": "stream",
       "stream": "stdout",
       "text": [
        "170613-16:03:45,337 workflow INFO:\n",
        "\t Saving crash info to /scratch/sanjay/GRT/fmri_data/testing/crash-20170613-160345-snara025-Slice_time_correction.b37-cbcec558-6846-4f8a-8eab-0da23f985c57.pklz\n"
       ]
      },
      {
       "output_type": "stream",
       "stream": "stdout",
       "text": [
        "170613-16:03:45,339 workflow INFO:\n",
        "\t Traceback (most recent call last):\n",
        "  File \"/home/snara025/miniconda2/envs/fmri/lib/python2.7/site-packages/nipype/pipeline/plugins/ipython.py\", line 39, in execute_task\n",
        "    result = task.run(updatehash=updatehash)\n",
        "  File \"/home/snara025/miniconda2/envs/fmri/lib/python2.7/site-packages/nipype/pipeline/engine/nodes.py\", line 372, in run\n",
        "    self._run_interface()\n",
        "  File \"/home/snara025/miniconda2/envs/fmri/lib/python2.7/site-packages/nipype/pipeline/engine/nodes.py\", line 1291, in _run_interface\n",
        "    updatehash=updatehash))\n",
        "  File \"/home/snara025/miniconda2/envs/fmri/lib/python2.7/site-packages/nipype/pipeline/engine/nodes.py\", line 1197, in _collate_results\n",
        "    (self.name, '\\n'.join(msg)))\n",
        "Exception: Subnodes of node: Slice_time_correction failed:\n",
        "Subnode 0 failed\n",
        "Error:\n",
        "command 'slicetimer' could not be found on host n005\n",
        "Interface SliceTimer failed to run. \n",
        "\n"
       ]
      },
      {
       "output_type": "stream",
       "stream": "stdout",
       "text": [
        "170613-16:03:45,361 workflow ERROR:\n",
        "\t [u'Node Slice_time_correction.b42 failed to run on host n005.']\n"
       ]
      },
      {
       "output_type": "stream",
       "stream": "stdout",
       "text": [
        "170613-16:03:45,363 workflow INFO:\n",
        "\t Saving crash info to /scratch/sanjay/GRT/fmri_data/testing/crash-20170613-160345-snara025-Slice_time_correction.b42-6fc115c1-cd3a-4360-8403-bd2a45fa9b13.pklz\n"
       ]
      },
      {
       "output_type": "stream",
       "stream": "stdout",
       "text": [
        "170613-16:03:45,364 workflow INFO:\n",
        "\t Traceback (most recent call last):\n",
        "  File \"/home/snara025/miniconda2/envs/fmri/lib/python2.7/site-packages/nipype/pipeline/plugins/ipython.py\", line 39, in execute_task\n",
        "    result = task.run(updatehash=updatehash)\n",
        "  File \"/home/snara025/miniconda2/envs/fmri/lib/python2.7/site-packages/nipype/pipeline/engine/nodes.py\", line 372, in run\n",
        "    self._run_interface()\n",
        "  File \"/home/snara025/miniconda2/envs/fmri/lib/python2.7/site-packages/nipype/pipeline/engine/nodes.py\", line 1291, in _run_interface\n",
        "    updatehash=updatehash))\n",
        "  File \"/home/snara025/miniconda2/envs/fmri/lib/python2.7/site-packages/nipype/pipeline/engine/nodes.py\", line 1197, in _collate_results\n",
        "    (self.name, '\\n'.join(msg)))\n",
        "Exception: Subnodes of node: Slice_time_correction failed:\n",
        "Subnode 0 failed\n",
        "Error:\n",
        "command 'slicetimer' could not be found on host n005\n",
        "Interface SliceTimer failed to run. \n",
        "\n"
       ]
      },
      {
       "output_type": "stream",
       "stream": "stdout",
       "text": [
        "170613-16:03:45,387 workflow ERROR:\n",
        "\t [u'Node Slice_time_correction.b17 failed to run on host n005.']\n"
       ]
      },
      {
       "output_type": "stream",
       "stream": "stdout",
       "text": [
        "170613-16:03:45,389 workflow INFO:\n",
        "\t Saving crash info to /scratch/sanjay/GRT/fmri_data/testing/crash-20170613-160345-snara025-Slice_time_correction.b17-dd18611d-9adf-44fc-874a-da5afef7072d.pklz\n"
       ]
      },
      {
       "output_type": "stream",
       "stream": "stdout",
       "text": [
        "170613-16:03:45,390 workflow INFO:\n",
        "\t Traceback (most recent call last):\n",
        "  File \"/home/snara025/miniconda2/envs/fmri/lib/python2.7/site-packages/nipype/pipeline/plugins/ipython.py\", line 39, in execute_task\n",
        "    result = task.run(updatehash=updatehash)\n",
        "  File \"/home/snara025/miniconda2/envs/fmri/lib/python2.7/site-packages/nipype/pipeline/engine/nodes.py\", line 372, in run\n",
        "    self._run_interface()\n",
        "  File \"/home/snara025/miniconda2/envs/fmri/lib/python2.7/site-packages/nipype/pipeline/engine/nodes.py\", line 1291, in _run_interface\n",
        "    updatehash=updatehash))\n",
        "  File \"/home/snara025/miniconda2/envs/fmri/lib/python2.7/site-packages/nipype/pipeline/engine/nodes.py\", line 1197, in _collate_results\n",
        "    (self.name, '\\n'.join(msg)))\n",
        "Exception: Subnodes of node: Slice_time_correction failed:\n",
        "Subnode 0 failed\n",
        "Error:\n",
        "command 'slicetimer' could not be found on host n005\n",
        "Interface SliceTimer failed to run. \n",
        "\n"
       ]
      },
      {
       "output_type": "stream",
       "stream": "stdout",
       "text": [
        "170613-16:03:45,413 workflow ERROR:\n",
        "\t [u'Node Slice_time_correction.b23 failed to run on host n005.']\n"
       ]
      },
      {
       "output_type": "stream",
       "stream": "stdout",
       "text": [
        "170613-16:03:45,414 workflow INFO:\n",
        "\t Saving crash info to /scratch/sanjay/GRT/fmri_data/testing/crash-20170613-160345-snara025-Slice_time_correction.b23-65d573c4-15a0-46f1-b7a9-5a1ec694d2b6.pklz\n"
       ]
      },
      {
       "output_type": "stream",
       "stream": "stdout",
       "text": [
        "170613-16:03:45,415 workflow INFO:\n",
        "\t Traceback (most recent call last):\n",
        "  File \"/home/snara025/miniconda2/envs/fmri/lib/python2.7/site-packages/nipype/pipeline/plugins/ipython.py\", line 39, in execute_task\n",
        "    result = task.run(updatehash=updatehash)\n",
        "  File \"/home/snara025/miniconda2/envs/fmri/lib/python2.7/site-packages/nipype/pipeline/engine/nodes.py\", line 372, in run\n",
        "    self._run_interface()\n",
        "  File \"/home/snara025/miniconda2/envs/fmri/lib/python2.7/site-packages/nipype/pipeline/engine/nodes.py\", line 1291, in _run_interface\n",
        "    updatehash=updatehash))\n",
        "  File \"/home/snara025/miniconda2/envs/fmri/lib/python2.7/site-packages/nipype/pipeline/engine/nodes.py\", line 1197, in _collate_results\n",
        "    (self.name, '\\n'.join(msg)))\n",
        "Exception: Subnodes of node: Slice_time_correction failed:\n",
        "Subnode 0 failed\n",
        "Error:\n",
        "command 'slicetimer' could not be found on host n005\n",
        "Interface SliceTimer failed to run. \n",
        "\n"
       ]
      },
      {
       "output_type": "stream",
       "stream": "stdout",
       "text": [
        "170613-16:03:45,437 workflow ERROR:\n",
        "\t [u'Node Slice_time_correction.b40 failed to run on host n005.']\n"
       ]
      },
      {
       "output_type": "stream",
       "stream": "stdout",
       "text": [
        "170613-16:03:45,438 workflow INFO:\n",
        "\t Saving crash info to /scratch/sanjay/GRT/fmri_data/testing/crash-20170613-160345-snara025-Slice_time_correction.b40-87808250-a728-49fb-a486-0e77160048f0.pklz\n"
       ]
      },
      {
       "output_type": "stream",
       "stream": "stdout",
       "text": [
        "170613-16:03:45,439 workflow INFO:\n",
        "\t Traceback (most recent call last):\n",
        "  File \"/home/snara025/miniconda2/envs/fmri/lib/python2.7/site-packages/nipype/pipeline/plugins/ipython.py\", line 39, in execute_task\n",
        "    result = task.run(updatehash=updatehash)\n",
        "  File \"/home/snara025/miniconda2/envs/fmri/lib/python2.7/site-packages/nipype/pipeline/engine/nodes.py\", line 372, in run\n",
        "    self._run_interface()\n",
        "  File \"/home/snara025/miniconda2/envs/fmri/lib/python2.7/site-packages/nipype/pipeline/engine/nodes.py\", line 1291, in _run_interface\n",
        "    updatehash=updatehash))\n",
        "  File \"/home/snara025/miniconda2/envs/fmri/lib/python2.7/site-packages/nipype/pipeline/engine/nodes.py\", line 1197, in _collate_results\n",
        "    (self.name, '\\n'.join(msg)))\n",
        "Exception: Subnodes of node: Slice_time_correction failed:\n",
        "Subnode 0 failed\n",
        "Error:\n",
        "command 'slicetimer' could not be found on host n005\n",
        "Interface SliceTimer failed to run. \n",
        "\n"
       ]
      },
      {
       "output_type": "stream",
       "stream": "stdout",
       "text": [
        "170613-16:03:45,461 workflow ERROR:\n",
        "\t [u'Node Slice_time_correction.b25 failed to run on host n005.']\n"
       ]
      },
      {
       "output_type": "stream",
       "stream": "stdout",
       "text": [
        "170613-16:03:45,462 workflow INFO:\n",
        "\t Saving crash info to /scratch/sanjay/GRT/fmri_data/testing/crash-20170613-160345-snara025-Slice_time_correction.b25-437f5d14-66c4-4080-8022-c189bc01b754.pklz\n"
       ]
      },
      {
       "output_type": "stream",
       "stream": "stdout",
       "text": [
        "170613-16:03:45,463 workflow INFO:\n",
        "\t Traceback (most recent call last):\n",
        "  File \"/home/snara025/miniconda2/envs/fmri/lib/python2.7/site-packages/nipype/pipeline/plugins/ipython.py\", line 39, in execute_task\n",
        "    result = task.run(updatehash=updatehash)\n",
        "  File \"/home/snara025/miniconda2/envs/fmri/lib/python2.7/site-packages/nipype/pipeline/engine/nodes.py\", line 372, in run\n",
        "    self._run_interface()\n",
        "  File \"/home/snara025/miniconda2/envs/fmri/lib/python2.7/site-packages/nipype/pipeline/engine/nodes.py\", line 1291, in _run_interface\n",
        "    updatehash=updatehash))\n",
        "  File \"/home/snara025/miniconda2/envs/fmri/lib/python2.7/site-packages/nipype/pipeline/engine/nodes.py\", line 1197, in _collate_results\n",
        "    (self.name, '\\n'.join(msg)))\n",
        "Exception: Subnodes of node: Slice_time_correction failed:\n",
        "Subnode 0 failed\n",
        "Error:\n",
        "command 'slicetimer' could not be found on host n005\n",
        "Interface SliceTimer failed to run. \n",
        "\n"
       ]
      },
      {
       "output_type": "stream",
       "stream": "stdout",
       "text": [
        "170613-16:03:45,485 workflow ERROR:\n",
        "\t [u'Node Slice_time_correction.b22 failed to run on host n005.']\n"
       ]
      },
      {
       "output_type": "stream",
       "stream": "stdout",
       "text": [
        "170613-16:03:45,486 workflow INFO:\n",
        "\t Saving crash info to /scratch/sanjay/GRT/fmri_data/testing/crash-20170613-160345-snara025-Slice_time_correction.b22-c0a08252-a863-447d-95e4-8260a64b07df.pklz\n"
       ]
      },
      {
       "output_type": "stream",
       "stream": "stdout",
       "text": [
        "170613-16:03:45,487 workflow INFO:\n",
        "\t Traceback (most recent call last):\n",
        "  File \"/home/snara025/miniconda2/envs/fmri/lib/python2.7/site-packages/nipype/pipeline/plugins/ipython.py\", line 39, in execute_task\n",
        "    result = task.run(updatehash=updatehash)\n",
        "  File \"/home/snara025/miniconda2/envs/fmri/lib/python2.7/site-packages/nipype/pipeline/engine/nodes.py\", line 372, in run\n",
        "    self._run_interface()\n",
        "  File \"/home/snara025/miniconda2/envs/fmri/lib/python2.7/site-packages/nipype/pipeline/engine/nodes.py\", line 1291, in _run_interface\n",
        "    updatehash=updatehash))\n",
        "  File \"/home/snara025/miniconda2/envs/fmri/lib/python2.7/site-packages/nipype/pipeline/engine/nodes.py\", line 1197, in _collate_results\n",
        "    (self.name, '\\n'.join(msg)))\n",
        "Exception: Subnodes of node: Slice_time_correction failed:\n",
        "Subnode 0 failed\n",
        "Error:\n",
        "command 'slicetimer' could not be found on host n005\n",
        "Interface SliceTimer failed to run. \n",
        "\n"
       ]
      },
      {
       "output_type": "stream",
       "stream": "stdout",
       "text": [
        "170613-16:03:45,509 workflow ERROR:\n",
        "\t [u'Node Slice_time_correction.b21 failed to run on host n005.']\n"
       ]
      },
      {
       "output_type": "stream",
       "stream": "stdout",
       "text": [
        "170613-16:03:45,510 workflow INFO:\n",
        "\t Saving crash info to /scratch/sanjay/GRT/fmri_data/testing/crash-20170613-160345-snara025-Slice_time_correction.b21-aba27f16-91ad-4ab3-adef-101c52e4df36.pklz\n"
       ]
      },
      {
       "output_type": "stream",
       "stream": "stdout",
       "text": [
        "170613-16:03:45,512 workflow INFO:\n",
        "\t Traceback (most recent call last):\n",
        "  File \"/home/snara025/miniconda2/envs/fmri/lib/python2.7/site-packages/nipype/pipeline/plugins/ipython.py\", line 39, in execute_task\n",
        "    result = task.run(updatehash=updatehash)\n",
        "  File \"/home/snara025/miniconda2/envs/fmri/lib/python2.7/site-packages/nipype/pipeline/engine/nodes.py\", line 372, in run\n",
        "    self._run_interface()\n",
        "  File \"/home/snara025/miniconda2/envs/fmri/lib/python2.7/site-packages/nipype/pipeline/engine/nodes.py\", line 1291, in _run_interface\n",
        "    updatehash=updatehash))\n",
        "  File \"/home/snara025/miniconda2/envs/fmri/lib/python2.7/site-packages/nipype/pipeline/engine/nodes.py\", line 1197, in _collate_results\n",
        "    (self.name, '\\n'.join(msg)))\n",
        "Exception: Subnodes of node: Slice_time_correction failed:\n",
        "Subnode 0 failed\n",
        "Error:\n",
        "command 'slicetimer' could not be found on host n005\n",
        "Interface SliceTimer failed to run. \n",
        "\n"
       ]
      },
      {
       "output_type": "stream",
       "stream": "stdout",
       "text": [
        "170613-16:03:45,534 workflow ERROR:\n",
        "\t [u'Node Slice_time_correction.b38 failed to run on host n005.']\n"
       ]
      },
      {
       "output_type": "stream",
       "stream": "stdout",
       "text": [
        "170613-16:03:45,535 workflow INFO:\n",
        "\t Saving crash info to /scratch/sanjay/GRT/fmri_data/testing/crash-20170613-160345-snara025-Slice_time_correction.b38-ed37ef6b-b27e-4489-b84c-1a9513b13f51.pklz\n"
       ]
      },
      {
       "output_type": "stream",
       "stream": "stdout",
       "text": [
        "170613-16:03:45,536 workflow INFO:\n",
        "\t Traceback (most recent call last):\n",
        "  File \"/home/snara025/miniconda2/envs/fmri/lib/python2.7/site-packages/nipype/pipeline/plugins/ipython.py\", line 39, in execute_task\n",
        "    result = task.run(updatehash=updatehash)\n",
        "  File \"/home/snara025/miniconda2/envs/fmri/lib/python2.7/site-packages/nipype/pipeline/engine/nodes.py\", line 372, in run\n",
        "    self._run_interface()\n",
        "  File \"/home/snara025/miniconda2/envs/fmri/lib/python2.7/site-packages/nipype/pipeline/engine/nodes.py\", line 1291, in _run_interface\n",
        "    updatehash=updatehash))\n",
        "  File \"/home/snara025/miniconda2/envs/fmri/lib/python2.7/site-packages/nipype/pipeline/engine/nodes.py\", line 1197, in _collate_results\n",
        "    (self.name, '\\n'.join(msg)))\n",
        "Exception: Subnodes of node: Slice_time_correction failed:\n",
        "Subnode 0 failed\n",
        "Error:\n",
        "command 'slicetimer' could not be found on host n005\n",
        "Interface SliceTimer failed to run. \n",
        "\n"
       ]
      },
      {
       "output_type": "stream",
       "stream": "stdout",
       "text": [
        "170613-16:03:45,558 workflow ERROR:\n",
        "\t [u'Node Slice_time_correction.b34 failed to run on host n005.']\n"
       ]
      },
      {
       "output_type": "stream",
       "stream": "stdout",
       "text": [
        "170613-16:03:45,559 workflow INFO:\n",
        "\t Saving crash info to /scratch/sanjay/GRT/fmri_data/testing/crash-20170613-160345-snara025-Slice_time_correction.b34-1cedbef9-80cb-4ed2-a9ad-9b1185ef7517.pklz\n"
       ]
      },
      {
       "output_type": "stream",
       "stream": "stdout",
       "text": [
        "170613-16:03:45,560 workflow INFO:\n",
        "\t Traceback (most recent call last):\n",
        "  File \"/home/snara025/miniconda2/envs/fmri/lib/python2.7/site-packages/nipype/pipeline/plugins/ipython.py\", line 39, in execute_task\n",
        "    result = task.run(updatehash=updatehash)\n",
        "  File \"/home/snara025/miniconda2/envs/fmri/lib/python2.7/site-packages/nipype/pipeline/engine/nodes.py\", line 372, in run\n",
        "    self._run_interface()\n",
        "  File \"/home/snara025/miniconda2/envs/fmri/lib/python2.7/site-packages/nipype/pipeline/engine/nodes.py\", line 1291, in _run_interface\n",
        "    updatehash=updatehash))\n",
        "  File \"/home/snara025/miniconda2/envs/fmri/lib/python2.7/site-packages/nipype/pipeline/engine/nodes.py\", line 1197, in _collate_results\n",
        "    (self.name, '\\n'.join(msg)))\n",
        "Exception: Subnodes of node: Slice_time_correction failed:\n",
        "Subnode 0 failed\n",
        "Error:\n",
        "command 'slicetimer' could not be found on host n005\n",
        "Interface SliceTimer failed to run. \n",
        "\n"
       ]
      },
      {
       "output_type": "stream",
       "stream": "stdout",
       "text": [
        "170613-16:03:45,581 workflow ERROR:\n",
        "\t [u'Node Slice_time_correction.b33 failed to run on host n005.']\n"
       ]
      },
      {
       "output_type": "stream",
       "stream": "stdout",
       "text": [
        "170613-16:03:45,583 workflow INFO:\n",
        "\t Saving crash info to /scratch/sanjay/GRT/fmri_data/testing/crash-20170613-160345-snara025-Slice_time_correction.b33-f593402d-efa7-471c-bd25-81850c07b5a1.pklz\n"
       ]
      },
      {
       "output_type": "stream",
       "stream": "stdout",
       "text": [
        "170613-16:03:45,584 workflow INFO:\n",
        "\t Traceback (most recent call last):\n",
        "  File \"/home/snara025/miniconda2/envs/fmri/lib/python2.7/site-packages/nipype/pipeline/plugins/ipython.py\", line 39, in execute_task\n",
        "    result = task.run(updatehash=updatehash)\n",
        "  File \"/home/snara025/miniconda2/envs/fmri/lib/python2.7/site-packages/nipype/pipeline/engine/nodes.py\", line 372, in run\n",
        "    self._run_interface()\n",
        "  File \"/home/snara025/miniconda2/envs/fmri/lib/python2.7/site-packages/nipype/pipeline/engine/nodes.py\", line 1291, in _run_interface\n",
        "    updatehash=updatehash))\n",
        "  File \"/home/snara025/miniconda2/envs/fmri/lib/python2.7/site-packages/nipype/pipeline/engine/nodes.py\", line 1197, in _collate_results\n",
        "    (self.name, '\\n'.join(msg)))\n",
        "Exception: Subnodes of node: Slice_time_correction failed:\n",
        "Subnode 0 failed\n",
        "Error:\n",
        "command 'slicetimer' could not be found on host n005\n",
        "Interface SliceTimer failed to run. \n",
        "\n"
       ]
      },
      {
       "output_type": "stream",
       "stream": "stdout",
       "text": [
        "170613-16:03:45,607 workflow ERROR:\n",
        "\t [u'Node Slice_time_correction.b39 failed to run on host n005.']\n"
       ]
      },
      {
       "output_type": "stream",
       "stream": "stdout",
       "text": [
        "170613-16:03:45,609 workflow INFO:\n",
        "\t Saving crash info to /scratch/sanjay/GRT/fmri_data/testing/crash-20170613-160345-snara025-Slice_time_correction.b39-566a03cc-8532-4fe4-be8e-7be6f9cd80f1.pklz\n"
       ]
      },
      {
       "output_type": "stream",
       "stream": "stdout",
       "text": [
        "170613-16:03:45,609 workflow INFO:\n",
        "\t Traceback (most recent call last):\n",
        "  File \"/home/snara025/miniconda2/envs/fmri/lib/python2.7/site-packages/nipype/pipeline/plugins/ipython.py\", line 39, in execute_task\n",
        "    result = task.run(updatehash=updatehash)\n",
        "  File \"/home/snara025/miniconda2/envs/fmri/lib/python2.7/site-packages/nipype/pipeline/engine/nodes.py\", line 372, in run\n",
        "    self._run_interface()\n",
        "  File \"/home/snara025/miniconda2/envs/fmri/lib/python2.7/site-packages/nipype/pipeline/engine/nodes.py\", line 1291, in _run_interface\n",
        "    updatehash=updatehash))\n",
        "  File \"/home/snara025/miniconda2/envs/fmri/lib/python2.7/site-packages/nipype/pipeline/engine/nodes.py\", line 1197, in _collate_results\n",
        "    (self.name, '\\n'.join(msg)))\n",
        "Exception: Subnodes of node: Slice_time_correction failed:\n",
        "Subnode 0 failed\n",
        "Error:\n",
        "command 'slicetimer' could not be found on host n005\n",
        "Interface SliceTimer failed to run. \n",
        "\n"
       ]
      },
      {
       "output_type": "stream",
       "stream": "stdout",
       "text": [
        "170613-16:03:45,633 workflow ERROR:\n",
        "\t [u'Node Slice_time_correction.b46 failed to run on host n005.']\n"
       ]
      },
      {
       "output_type": "stream",
       "stream": "stdout",
       "text": [
        "170613-16:03:45,634 workflow INFO:\n",
        "\t Saving crash info to /scratch/sanjay/GRT/fmri_data/testing/crash-20170613-160345-snara025-Slice_time_correction.b46-9b8b1360-f982-4f81-97f1-1549fae8f8d3.pklz\n"
       ]
      },
      {
       "output_type": "stream",
       "stream": "stdout",
       "text": [
        "170613-16:03:45,635 workflow INFO:\n",
        "\t Traceback (most recent call last):\n",
        "  File \"/home/snara025/miniconda2/envs/fmri/lib/python2.7/site-packages/nipype/pipeline/plugins/ipython.py\", line 39, in execute_task\n",
        "    result = task.run(updatehash=updatehash)\n",
        "  File \"/home/snara025/miniconda2/envs/fmri/lib/python2.7/site-packages/nipype/pipeline/engine/nodes.py\", line 372, in run\n",
        "    self._run_interface()\n",
        "  File \"/home/snara025/miniconda2/envs/fmri/lib/python2.7/site-packages/nipype/pipeline/engine/nodes.py\", line 1291, in _run_interface\n",
        "    updatehash=updatehash))\n",
        "  File \"/home/snara025/miniconda2/envs/fmri/lib/python2.7/site-packages/nipype/pipeline/engine/nodes.py\", line 1197, in _collate_results\n",
        "    (self.name, '\\n'.join(msg)))\n",
        "Exception: Subnodes of node: Slice_time_correction failed:\n",
        "Subnode 0 failed\n",
        "Error:\n",
        "command 'slicetimer' could not be found on host n005\n",
        "Interface SliceTimer failed to run. \n",
        "\n"
       ]
      },
      {
       "output_type": "stream",
       "stream": "stdout",
       "text": [
        "170613-16:03:45,658 workflow ERROR:\n",
        "\t [u'Node Slice_time_correction.b28 failed to run on host n005.']\n"
       ]
      },
      {
       "output_type": "stream",
       "stream": "stdout",
       "text": [
        "170613-16:03:45,659 workflow INFO:\n",
        "\t Saving crash info to /scratch/sanjay/GRT/fmri_data/testing/crash-20170613-160345-snara025-Slice_time_correction.b28-e349f738-3730-4294-b2fe-5634e8cb00e9.pklz\n"
       ]
      },
      {
       "output_type": "stream",
       "stream": "stdout",
       "text": [
        "170613-16:03:45,660 workflow INFO:\n",
        "\t Traceback (most recent call last):\n",
        "  File \"/home/snara025/miniconda2/envs/fmri/lib/python2.7/site-packages/nipype/pipeline/plugins/ipython.py\", line 39, in execute_task\n",
        "    result = task.run(updatehash=updatehash)\n",
        "  File \"/home/snara025/miniconda2/envs/fmri/lib/python2.7/site-packages/nipype/pipeline/engine/nodes.py\", line 372, in run\n",
        "    self._run_interface()\n",
        "  File \"/home/snara025/miniconda2/envs/fmri/lib/python2.7/site-packages/nipype/pipeline/engine/nodes.py\", line 1291, in _run_interface\n",
        "    updatehash=updatehash))\n",
        "  File \"/home/snara025/miniconda2/envs/fmri/lib/python2.7/site-packages/nipype/pipeline/engine/nodes.py\", line 1197, in _collate_results\n",
        "    (self.name, '\\n'.join(msg)))\n",
        "Exception: Subnodes of node: Slice_time_correction failed:\n",
        "Subnode 0 failed\n",
        "Error:\n",
        "command 'slicetimer' could not be found on host n005\n",
        "Interface SliceTimer failed to run. \n",
        "\n"
       ]
      },
      {
       "output_type": "stream",
       "stream": "stdout",
       "text": [
        "170613-16:03:45,683 workflow ERROR:\n",
        "\t [u'Node Slice_time_correction.b26 failed to run on host n005.']\n"
       ]
      },
      {
       "output_type": "stream",
       "stream": "stdout",
       "text": [
        "170613-16:03:45,684 workflow INFO:\n",
        "\t Saving crash info to /scratch/sanjay/GRT/fmri_data/testing/crash-20170613-160345-snara025-Slice_time_correction.b26-cf06d5fe-1ae8-4e4e-a900-8b42b0236b14.pklz\n"
       ]
      },
      {
       "output_type": "stream",
       "stream": "stdout",
       "text": [
        "170613-16:03:45,685 workflow INFO:\n",
        "\t Traceback (most recent call last):\n",
        "  File \"/home/snara025/miniconda2/envs/fmri/lib/python2.7/site-packages/nipype/pipeline/plugins/ipython.py\", line 39, in execute_task\n",
        "    result = task.run(updatehash=updatehash)\n",
        "  File \"/home/snara025/miniconda2/envs/fmri/lib/python2.7/site-packages/nipype/pipeline/engine/nodes.py\", line 372, in run\n",
        "    self._run_interface()\n",
        "  File \"/home/snara025/miniconda2/envs/fmri/lib/python2.7/site-packages/nipype/pipeline/engine/nodes.py\", line 1291, in _run_interface\n",
        "    updatehash=updatehash))\n",
        "  File \"/home/snara025/miniconda2/envs/fmri/lib/python2.7/site-packages/nipype/pipeline/engine/nodes.py\", line 1197, in _collate_results\n",
        "    (self.name, '\\n'.join(msg)))\n",
        "Exception: Subnodes of node: Slice_time_correction failed:\n",
        "Subnode 0 failed\n",
        "Error:\n",
        "command 'slicetimer' could not be found on host n005\n",
        "Interface SliceTimer failed to run. \n",
        "\n"
       ]
      },
      {
       "output_type": "stream",
       "stream": "stdout",
       "text": [
        "170613-16:03:45,709 workflow ERROR:\n",
        "\t [u'Node Slice_time_correction.b07 failed to run on host n005.']\n"
       ]
      },
      {
       "output_type": "stream",
       "stream": "stdout",
       "text": [
        "170613-16:03:45,710 workflow INFO:\n",
        "\t Saving crash info to /scratch/sanjay/GRT/fmri_data/testing/crash-20170613-160345-snara025-Slice_time_correction.b07-20007ab9-b1c5-41d7-9213-ef89914bbadf.pklz\n"
       ]
      },
      {
       "output_type": "stream",
       "stream": "stdout",
       "text": [
        "170613-16:03:45,712 workflow INFO:\n",
        "\t Traceback (most recent call last):\n",
        "  File \"/home/snara025/miniconda2/envs/fmri/lib/python2.7/site-packages/nipype/pipeline/plugins/ipython.py\", line 39, in execute_task\n",
        "    result = task.run(updatehash=updatehash)\n",
        "  File \"/home/snara025/miniconda2/envs/fmri/lib/python2.7/site-packages/nipype/pipeline/engine/nodes.py\", line 372, in run\n",
        "    self._run_interface()\n",
        "  File \"/home/snara025/miniconda2/envs/fmri/lib/python2.7/site-packages/nipype/pipeline/engine/nodes.py\", line 1291, in _run_interface\n",
        "    updatehash=updatehash))\n",
        "  File \"/home/snara025/miniconda2/envs/fmri/lib/python2.7/site-packages/nipype/pipeline/engine/nodes.py\", line 1197, in _collate_results\n",
        "    (self.name, '\\n'.join(msg)))\n",
        "Exception: Subnodes of node: Slice_time_correction failed:\n",
        "Subnode 0 failed\n",
        "Error:\n",
        "command 'slicetimer' could not be found on host n005\n",
        "Interface SliceTimer failed to run. \n",
        "\n"
       ]
      },
      {
       "output_type": "stream",
       "stream": "stdout",
       "text": [
        "170613-16:03:45,735 workflow ERROR:\n",
        "\t [u'Node Slice_time_correction.b05 failed to run on host n005.']\n"
       ]
      },
      {
       "output_type": "stream",
       "stream": "stdout",
       "text": [
        "170613-16:03:45,737 workflow INFO:\n",
        "\t Saving crash info to /scratch/sanjay/GRT/fmri_data/testing/crash-20170613-160345-snara025-Slice_time_correction.b05-c3fe00ac-da5e-474b-b5dd-75440778b47a.pklz\n"
       ]
      },
      {
       "output_type": "stream",
       "stream": "stdout",
       "text": [
        "170613-16:03:45,738 workflow INFO:\n",
        "\t Traceback (most recent call last):\n",
        "  File \"/home/snara025/miniconda2/envs/fmri/lib/python2.7/site-packages/nipype/pipeline/plugins/ipython.py\", line 39, in execute_task\n",
        "    result = task.run(updatehash=updatehash)\n",
        "  File \"/home/snara025/miniconda2/envs/fmri/lib/python2.7/site-packages/nipype/pipeline/engine/nodes.py\", line 372, in run\n",
        "    self._run_interface()\n",
        "  File \"/home/snara025/miniconda2/envs/fmri/lib/python2.7/site-packages/nipype/pipeline/engine/nodes.py\", line 1291, in _run_interface\n",
        "    updatehash=updatehash))\n",
        "  File \"/home/snara025/miniconda2/envs/fmri/lib/python2.7/site-packages/nipype/pipeline/engine/nodes.py\", line 1197, in _collate_results\n",
        "    (self.name, '\\n'.join(msg)))\n",
        "Exception: Subnodes of node: Slice_time_correction failed:\n",
        "Subnode 0 failed\n",
        "Error:\n",
        "command 'slicetimer' could not be found on host n005\n",
        "Interface SliceTimer failed to run. \n",
        "\n"
       ]
      },
      {
       "output_type": "stream",
       "stream": "stdout",
       "text": [
        "170613-16:03:45,762 workflow ERROR:\n",
        "\t [u'Node Slice_time_correction.b02 failed to run on host n005.']\n"
       ]
      },
      {
       "output_type": "stream",
       "stream": "stdout",
       "text": [
        "170613-16:03:45,763 workflow INFO:\n",
        "\t Saving crash info to /scratch/sanjay/GRT/fmri_data/testing/crash-20170613-160345-snara025-Slice_time_correction.b02-c29fd39f-1136-4e62-9a1d-9b98aa6b07b3.pklz\n"
       ]
      },
      {
       "output_type": "stream",
       "stream": "stdout",
       "text": [
        "170613-16:03:45,764 workflow INFO:\n",
        "\t Traceback (most recent call last):\n",
        "  File \"/home/snara025/miniconda2/envs/fmri/lib/python2.7/site-packages/nipype/pipeline/plugins/ipython.py\", line 39, in execute_task\n",
        "    result = task.run(updatehash=updatehash)\n",
        "  File \"/home/snara025/miniconda2/envs/fmri/lib/python2.7/site-packages/nipype/pipeline/engine/nodes.py\", line 372, in run\n",
        "    self._run_interface()\n",
        "  File \"/home/snara025/miniconda2/envs/fmri/lib/python2.7/site-packages/nipype/pipeline/engine/nodes.py\", line 1291, in _run_interface\n",
        "    updatehash=updatehash))\n",
        "  File \"/home/snara025/miniconda2/envs/fmri/lib/python2.7/site-packages/nipype/pipeline/engine/nodes.py\", line 1197, in _collate_results\n",
        "    (self.name, '\\n'.join(msg)))\n",
        "Exception: Subnodes of node: Slice_time_correction failed:\n",
        "Subnode 0 failed\n",
        "Error:\n",
        "command 'slicetimer' could not be found on host n005\n",
        "Interface SliceTimer failed to run. \n",
        "\n"
       ]
      },
      {
       "output_type": "stream",
       "stream": "stdout",
       "text": [
        "170613-16:03:45,789 workflow ERROR:\n",
        "\t [u'Node Slice_time_correction.b24 failed to run on host n005.']\n"
       ]
      },
      {
       "output_type": "stream",
       "stream": "stdout",
       "text": [
        "170613-16:03:45,791 workflow INFO:\n",
        "\t Saving crash info to /scratch/sanjay/GRT/fmri_data/testing/crash-20170613-160345-snara025-Slice_time_correction.b24-c2ca5ae6-199a-48b4-820d-f73200b4436e.pklz\n"
       ]
      },
      {
       "output_type": "stream",
       "stream": "stdout",
       "text": [
        "170613-16:03:45,792 workflow INFO:\n",
        "\t Traceback (most recent call last):\n",
        "  File \"/home/snara025/miniconda2/envs/fmri/lib/python2.7/site-packages/nipype/pipeline/plugins/ipython.py\", line 39, in execute_task\n",
        "    result = task.run(updatehash=updatehash)\n",
        "  File \"/home/snara025/miniconda2/envs/fmri/lib/python2.7/site-packages/nipype/pipeline/engine/nodes.py\", line 372, in run\n",
        "    self._run_interface()\n",
        "  File \"/home/snara025/miniconda2/envs/fmri/lib/python2.7/site-packages/nipype/pipeline/engine/nodes.py\", line 1291, in _run_interface\n",
        "    updatehash=updatehash))\n",
        "  File \"/home/snara025/miniconda2/envs/fmri/lib/python2.7/site-packages/nipype/pipeline/engine/nodes.py\", line 1197, in _collate_results\n",
        "    (self.name, '\\n'.join(msg)))\n",
        "Exception: Subnodes of node: Slice_time_correction failed:\n",
        "Subnode 0 failed\n",
        "Error:\n",
        "command 'slicetimer' could not be found on host n005\n",
        "Interface SliceTimer failed to run. \n",
        "\n"
       ]
      },
      {
       "output_type": "stream",
       "stream": "stdout",
       "text": [
        "170613-16:03:45,814 workflow ERROR:\n",
        "\t [u'Node Slice_time_correction.b11 failed to run on host n005.']\n"
       ]
      },
      {
       "output_type": "stream",
       "stream": "stdout",
       "text": [
        "170613-16:03:45,816 workflow INFO:\n",
        "\t Saving crash info to /scratch/sanjay/GRT/fmri_data/testing/crash-20170613-160345-snara025-Slice_time_correction.b11-0a585c30-ac65-4a69-bb46-207311dbb713.pklz\n"
       ]
      },
      {
       "output_type": "stream",
       "stream": "stdout",
       "text": [
        "170613-16:03:45,817 workflow INFO:\n",
        "\t Traceback (most recent call last):\n",
        "  File \"/home/snara025/miniconda2/envs/fmri/lib/python2.7/site-packages/nipype/pipeline/plugins/ipython.py\", line 39, in execute_task\n",
        "    result = task.run(updatehash=updatehash)\n",
        "  File \"/home/snara025/miniconda2/envs/fmri/lib/python2.7/site-packages/nipype/pipeline/engine/nodes.py\", line 372, in run\n",
        "    self._run_interface()\n",
        "  File \"/home/snara025/miniconda2/envs/fmri/lib/python2.7/site-packages/nipype/pipeline/engine/nodes.py\", line 1291, in _run_interface\n",
        "    updatehash=updatehash))\n",
        "  File \"/home/snara025/miniconda2/envs/fmri/lib/python2.7/site-packages/nipype/pipeline/engine/nodes.py\", line 1197, in _collate_results\n",
        "    (self.name, '\\n'.join(msg)))\n",
        "Exception: Subnodes of node: Slice_time_correction failed:\n",
        "Subnode 0 failed\n",
        "Error:\n",
        "command 'slicetimer' could not be found on host n005\n",
        "Interface SliceTimer failed to run. \n",
        "\n"
       ]
      },
      {
       "output_type": "stream",
       "stream": "stdout",
       "text": [
        "170613-16:03:45,839 workflow ERROR:\n",
        "\t [u'Node Slice_time_correction.b47 failed to run on host n005.']\n"
       ]
      },
      {
       "output_type": "stream",
       "stream": "stdout",
       "text": [
        "170613-16:03:45,840 workflow INFO:\n",
        "\t Saving crash info to /scratch/sanjay/GRT/fmri_data/testing/crash-20170613-160345-snara025-Slice_time_correction.b47-2efdf8c4-8680-4444-b163-08e5f2c12a2a.pklz\n"
       ]
      },
      {
       "output_type": "stream",
       "stream": "stdout",
       "text": [
        "170613-16:03:45,841 workflow INFO:\n",
        "\t Traceback (most recent call last):\n",
        "  File \"/home/snara025/miniconda2/envs/fmri/lib/python2.7/site-packages/nipype/pipeline/plugins/ipython.py\", line 39, in execute_task\n",
        "    result = task.run(updatehash=updatehash)\n",
        "  File \"/home/snara025/miniconda2/envs/fmri/lib/python2.7/site-packages/nipype/pipeline/engine/nodes.py\", line 372, in run\n",
        "    self._run_interface()\n",
        "  File \"/home/snara025/miniconda2/envs/fmri/lib/python2.7/site-packages/nipype/pipeline/engine/nodes.py\", line 1291, in _run_interface\n",
        "    updatehash=updatehash))\n",
        "  File \"/home/snara025/miniconda2/envs/fmri/lib/python2.7/site-packages/nipype/pipeline/engine/nodes.py\", line 1197, in _collate_results\n",
        "    (self.name, '\\n'.join(msg)))\n",
        "Exception: Subnodes of node: Slice_time_correction failed:\n",
        "Subnode 0 failed\n",
        "Error:\n",
        "command 'slicetimer' could not be found on host n005\n",
        "Interface SliceTimer failed to run. \n",
        "\n"
       ]
      },
      {
       "output_type": "stream",
       "stream": "stdout",
       "text": [
        "170613-16:03:45,864 workflow ERROR:\n",
        "\t [u'Node Slice_time_correction.b27 failed to run on host n005.']\n"
       ]
      },
      {
       "output_type": "stream",
       "stream": "stdout",
       "text": [
        "170613-16:03:45,865 workflow INFO:\n",
        "\t Saving crash info to /scratch/sanjay/GRT/fmri_data/testing/crash-20170613-160345-snara025-Slice_time_correction.b27-6f072f08-3a3e-48e9-8e82-2e70d7acb342.pklz\n"
       ]
      },
      {
       "output_type": "stream",
       "stream": "stdout",
       "text": [
        "170613-16:03:45,866 workflow INFO:\n",
        "\t Traceback (most recent call last):\n",
        "  File \"/home/snara025/miniconda2/envs/fmri/lib/python2.7/site-packages/nipype/pipeline/plugins/ipython.py\", line 39, in execute_task\n",
        "    result = task.run(updatehash=updatehash)\n",
        "  File \"/home/snara025/miniconda2/envs/fmri/lib/python2.7/site-packages/nipype/pipeline/engine/nodes.py\", line 372, in run\n",
        "    self._run_interface()\n",
        "  File \"/home/snara025/miniconda2/envs/fmri/lib/python2.7/site-packages/nipype/pipeline/engine/nodes.py\", line 1291, in _run_interface\n",
        "    updatehash=updatehash))\n",
        "  File \"/home/snara025/miniconda2/envs/fmri/lib/python2.7/site-packages/nipype/pipeline/engine/nodes.py\", line 1197, in _collate_results\n",
        "    (self.name, '\\n'.join(msg)))\n",
        "Exception: Subnodes of node: Slice_time_correction failed:\n",
        "Subnode 0 failed\n",
        "Error:\n",
        "command 'slicetimer' could not be found on host n005\n",
        "Interface SliceTimer failed to run. \n",
        "\n"
       ]
      },
      {
       "output_type": "stream",
       "stream": "stdout",
       "text": [
        "170613-16:03:45,888 workflow ERROR:\n",
        "\t [u'Node Slice_time_correction.b00 failed to run on host n005.']\n"
       ]
      },
      {
       "output_type": "stream",
       "stream": "stdout",
       "text": [
        "170613-16:03:45,890 workflow INFO:\n",
        "\t Saving crash info to /scratch/sanjay/GRT/fmri_data/testing/crash-20170613-160345-snara025-Slice_time_correction.b00-c41e0cf9-058c-4327-8628-3297d18f0807.pklz\n"
       ]
      },
      {
       "output_type": "stream",
       "stream": "stdout",
       "text": [
        "170613-16:03:45,891 workflow INFO:\n",
        "\t Traceback (most recent call last):\n",
        "  File \"/home/snara025/miniconda2/envs/fmri/lib/python2.7/site-packages/nipype/pipeline/plugins/ipython.py\", line 39, in execute_task\n",
        "    result = task.run(updatehash=updatehash)\n",
        "  File \"/home/snara025/miniconda2/envs/fmri/lib/python2.7/site-packages/nipype/pipeline/engine/nodes.py\", line 372, in run\n",
        "    self._run_interface()\n",
        "  File \"/home/snara025/miniconda2/envs/fmri/lib/python2.7/site-packages/nipype/pipeline/engine/nodes.py\", line 1291, in _run_interface\n",
        "    updatehash=updatehash))\n",
        "  File \"/home/snara025/miniconda2/envs/fmri/lib/python2.7/site-packages/nipype/pipeline/engine/nodes.py\", line 1197, in _collate_results\n",
        "    (self.name, '\\n'.join(msg)))\n",
        "Exception: Subnodes of node: Slice_time_correction failed:\n",
        "Subnode 0 failed\n",
        "Error:\n",
        "command 'slicetimer' could not be found on host n005\n",
        "Interface SliceTimer failed to run. \n",
        "\n"
       ]
      },
      {
       "output_type": "stream",
       "stream": "stdout",
       "text": [
        "170613-16:03:45,914 workflow ERROR:\n",
        "\t [u'Node Slice_time_correction.b16 failed to run on host n005.']\n"
       ]
      },
      {
       "output_type": "stream",
       "stream": "stdout",
       "text": [
        "170613-16:03:45,915 workflow INFO:\n",
        "\t Saving crash info to /scratch/sanjay/GRT/fmri_data/testing/crash-20170613-160345-snara025-Slice_time_correction.b16-3df1b42c-fd97-4026-8fd9-cca2db9d9d07.pklz\n"
       ]
      },
      {
       "output_type": "stream",
       "stream": "stdout",
       "text": [
        "170613-16:03:45,916 workflow INFO:\n",
        "\t Traceback (most recent call last):\n",
        "  File \"/home/snara025/miniconda2/envs/fmri/lib/python2.7/site-packages/nipype/pipeline/plugins/ipython.py\", line 39, in execute_task\n",
        "    result = task.run(updatehash=updatehash)\n",
        "  File \"/home/snara025/miniconda2/envs/fmri/lib/python2.7/site-packages/nipype/pipeline/engine/nodes.py\", line 372, in run\n",
        "    self._run_interface()\n",
        "  File \"/home/snara025/miniconda2/envs/fmri/lib/python2.7/site-packages/nipype/pipeline/engine/nodes.py\", line 1291, in _run_interface\n",
        "    updatehash=updatehash))\n",
        "  File \"/home/snara025/miniconda2/envs/fmri/lib/python2.7/site-packages/nipype/pipeline/engine/nodes.py\", line 1197, in _collate_results\n",
        "    (self.name, '\\n'.join(msg)))\n",
        "Exception: Subnodes of node: Slice_time_correction failed:\n",
        "Subnode 0 failed\n",
        "Error:\n",
        "command 'slicetimer' could not be found on host n005\n",
        "Interface SliceTimer failed to run. \n",
        "\n"
       ]
      },
      {
       "output_type": "stream",
       "stream": "stdout",
       "text": [
        "170613-16:03:45,939 workflow ERROR:\n",
        "\t [u'Node Slice_time_correction.b29 failed to run on host n005.']\n"
       ]
      },
      {
       "output_type": "stream",
       "stream": "stdout",
       "text": [
        "170613-16:03:45,940 workflow INFO:\n",
        "\t Saving crash info to /scratch/sanjay/GRT/fmri_data/testing/crash-20170613-160345-snara025-Slice_time_correction.b29-655428c0-5629-420a-8ded-d167a2140792.pklz\n"
       ]
      },
      {
       "output_type": "stream",
       "stream": "stdout",
       "text": [
        "170613-16:03:45,941 workflow INFO:\n",
        "\t Traceback (most recent call last):\n",
        "  File \"/home/snara025/miniconda2/envs/fmri/lib/python2.7/site-packages/nipype/pipeline/plugins/ipython.py\", line 39, in execute_task\n",
        "    result = task.run(updatehash=updatehash)\n",
        "  File \"/home/snara025/miniconda2/envs/fmri/lib/python2.7/site-packages/nipype/pipeline/engine/nodes.py\", line 372, in run\n",
        "    self._run_interface()\n",
        "  File \"/home/snara025/miniconda2/envs/fmri/lib/python2.7/site-packages/nipype/pipeline/engine/nodes.py\", line 1291, in _run_interface\n",
        "    updatehash=updatehash))\n",
        "  File \"/home/snara025/miniconda2/envs/fmri/lib/python2.7/site-packages/nipype/pipeline/engine/nodes.py\", line 1197, in _collate_results\n",
        "    (self.name, '\\n'.join(msg)))\n",
        "Exception: Subnodes of node: Slice_time_correction failed:\n",
        "Subnode 0 failed\n",
        "Error:\n",
        "command 'slicetimer' could not be found on host n005\n",
        "Interface SliceTimer failed to run. \n",
        "\n"
       ]
      },
      {
       "output_type": "stream",
       "stream": "stdout",
       "text": [
        "170613-16:03:45,963 workflow ERROR:\n",
        "\t [u'Node Slice_time_correction.b30 failed to run on host n005.']\n"
       ]
      },
      {
       "output_type": "stream",
       "stream": "stdout",
       "text": [
        "170613-16:03:45,965 workflow INFO:\n",
        "\t Saving crash info to /scratch/sanjay/GRT/fmri_data/testing/crash-20170613-160345-snara025-Slice_time_correction.b30-63565ada-abac-4a62-aaa0-2f01f4223dd5.pklz\n"
       ]
      },
      {
       "output_type": "stream",
       "stream": "stdout",
       "text": [
        "170613-16:03:45,966 workflow INFO:\n",
        "\t Traceback (most recent call last):\n",
        "  File \"/home/snara025/miniconda2/envs/fmri/lib/python2.7/site-packages/nipype/pipeline/plugins/ipython.py\", line 39, in execute_task\n",
        "    result = task.run(updatehash=updatehash)\n",
        "  File \"/home/snara025/miniconda2/envs/fmri/lib/python2.7/site-packages/nipype/pipeline/engine/nodes.py\", line 372, in run\n",
        "    self._run_interface()\n",
        "  File \"/home/snara025/miniconda2/envs/fmri/lib/python2.7/site-packages/nipype/pipeline/engine/nodes.py\", line 1291, in _run_interface\n",
        "    updatehash=updatehash))\n",
        "  File \"/home/snara025/miniconda2/envs/fmri/lib/python2.7/site-packages/nipype/pipeline/engine/nodes.py\", line 1197, in _collate_results\n",
        "    (self.name, '\\n'.join(msg)))\n",
        "Exception: Subnodes of node: Slice_time_correction failed:\n",
        "Subnode 0 failed\n",
        "Error:\n",
        "command 'slicetimer' could not be found on host n005\n",
        "Interface SliceTimer failed to run. \n",
        "\n"
       ]
      },
      {
       "output_type": "stream",
       "stream": "stdout",
       "text": [
        "170613-16:03:45,988 workflow ERROR:\n",
        "\t [u'Node Slice_time_correction.b10 failed to run on host n005.']\n"
       ]
      },
      {
       "output_type": "stream",
       "stream": "stdout",
       "text": [
        "170613-16:03:45,990 workflow INFO:\n",
        "\t Saving crash info to /scratch/sanjay/GRT/fmri_data/testing/crash-20170613-160345-snara025-Slice_time_correction.b10-6d5361bc-f0a3-43d5-8b11-ed021f57191e.pklz\n"
       ]
      },
      {
       "output_type": "stream",
       "stream": "stdout",
       "text": [
        "170613-16:03:45,991 workflow INFO:\n",
        "\t Traceback (most recent call last):\n",
        "  File \"/home/snara025/miniconda2/envs/fmri/lib/python2.7/site-packages/nipype/pipeline/plugins/ipython.py\", line 39, in execute_task\n",
        "    result = task.run(updatehash=updatehash)\n",
        "  File \"/home/snara025/miniconda2/envs/fmri/lib/python2.7/site-packages/nipype/pipeline/engine/nodes.py\", line 372, in run\n",
        "    self._run_interface()\n",
        "  File \"/home/snara025/miniconda2/envs/fmri/lib/python2.7/site-packages/nipype/pipeline/engine/nodes.py\", line 1291, in _run_interface\n",
        "    updatehash=updatehash))\n",
        "  File \"/home/snara025/miniconda2/envs/fmri/lib/python2.7/site-packages/nipype/pipeline/engine/nodes.py\", line 1197, in _collate_results\n",
        "    (self.name, '\\n'.join(msg)))\n",
        "Exception: Subnodes of node: Slice_time_correction failed:\n",
        "Subnode 0 failed\n",
        "Error:\n",
        "command 'slicetimer' could not be found on host n005\n",
        "Interface SliceTimer failed to run. \n",
        "\n"
       ]
      },
      {
       "output_type": "stream",
       "stream": "stdout",
       "text": [
        "170613-16:03:46,14 workflow ERROR:\n",
        "\t [u'Node Slice_time_correction.b18 failed to run on host n005.']\n"
       ]
      },
      {
       "output_type": "stream",
       "stream": "stdout",
       "text": [
        "170613-16:03:46,15 workflow INFO:\n",
        "\t Saving crash info to /scratch/sanjay/GRT/fmri_data/testing/crash-20170613-160346-snara025-Slice_time_correction.b18-db608238-1569-472a-b867-7519e6449c07.pklz\n"
       ]
      },
      {
       "output_type": "stream",
       "stream": "stdout",
       "text": [
        "170613-16:03:46,16 workflow INFO:\n",
        "\t Traceback (most recent call last):\n",
        "  File \"/home/snara025/miniconda2/envs/fmri/lib/python2.7/site-packages/nipype/pipeline/plugins/ipython.py\", line 39, in execute_task\n",
        "    result = task.run(updatehash=updatehash)\n",
        "  File \"/home/snara025/miniconda2/envs/fmri/lib/python2.7/site-packages/nipype/pipeline/engine/nodes.py\", line 372, in run\n",
        "    self._run_interface()\n",
        "  File \"/home/snara025/miniconda2/envs/fmri/lib/python2.7/site-packages/nipype/pipeline/engine/nodes.py\", line 1291, in _run_interface\n",
        "    updatehash=updatehash))\n",
        "  File \"/home/snara025/miniconda2/envs/fmri/lib/python2.7/site-packages/nipype/pipeline/engine/nodes.py\", line 1197, in _collate_results\n",
        "    (self.name, '\\n'.join(msg)))\n",
        "Exception: Subnodes of node: Slice_time_correction failed:\n",
        "Subnode 0 failed\n",
        "Error:\n",
        "command 'slicetimer' could not be found on host n005\n",
        "Interface SliceTimer failed to run. \n",
        "\n"
       ]
      },
      {
       "output_type": "stream",
       "stream": "stdout",
       "text": [
        "170613-16:03:46,40 workflow ERROR:\n",
        "\t [u'Node Slice_time_correction.b09 failed to run on host n005.']\n"
       ]
      },
      {
       "output_type": "stream",
       "stream": "stdout",
       "text": [
        "170613-16:03:46,42 workflow INFO:\n",
        "\t Saving crash info to /scratch/sanjay/GRT/fmri_data/testing/crash-20170613-160346-snara025-Slice_time_correction.b09-a61fd76c-99db-4f5d-a967-e9a59b8cbcca.pklz\n"
       ]
      },
      {
       "output_type": "stream",
       "stream": "stdout",
       "text": [
        "170613-16:03:46,43 workflow INFO:\n",
        "\t Traceback (most recent call last):\n",
        "  File \"/home/snara025/miniconda2/envs/fmri/lib/python2.7/site-packages/nipype/pipeline/plugins/ipython.py\", line 39, in execute_task\n",
        "    result = task.run(updatehash=updatehash)\n",
        "  File \"/home/snara025/miniconda2/envs/fmri/lib/python2.7/site-packages/nipype/pipeline/engine/nodes.py\", line 372, in run\n",
        "    self._run_interface()\n",
        "  File \"/home/snara025/miniconda2/envs/fmri/lib/python2.7/site-packages/nipype/pipeline/engine/nodes.py\", line 1291, in _run_interface\n",
        "    updatehash=updatehash))\n",
        "  File \"/home/snara025/miniconda2/envs/fmri/lib/python2.7/site-packages/nipype/pipeline/engine/nodes.py\", line 1197, in _collate_results\n",
        "    (self.name, '\\n'.join(msg)))\n",
        "Exception: Subnodes of node: Slice_time_correction failed:\n",
        "Subnode 0 failed\n",
        "Error:\n",
        "command 'slicetimer' could not be found on host n005\n",
        "Interface SliceTimer failed to run. \n",
        "\n"
       ]
      },
      {
       "output_type": "stream",
       "stream": "stdout",
       "text": [
        "170613-16:03:46,64 workflow ERROR:\n",
        "\t [u'Node Slice_time_correction.b08 failed to run on host n005.']\n"
       ]
      },
      {
       "output_type": "stream",
       "stream": "stdout",
       "text": [
        "170613-16:03:46,66 workflow INFO:\n",
        "\t Saving crash info to /scratch/sanjay/GRT/fmri_data/testing/crash-20170613-160346-snara025-Slice_time_correction.b08-bac151ab-a9e3-4c98-b8ee-e1833cf2a9d4.pklz\n"
       ]
      },
      {
       "output_type": "stream",
       "stream": "stdout",
       "text": [
        "170613-16:03:46,67 workflow INFO:\n",
        "\t Traceback (most recent call last):\n",
        "  File \"/home/snara025/miniconda2/envs/fmri/lib/python2.7/site-packages/nipype/pipeline/plugins/ipython.py\", line 39, in execute_task\n",
        "    result = task.run(updatehash=updatehash)\n",
        "  File \"/home/snara025/miniconda2/envs/fmri/lib/python2.7/site-packages/nipype/pipeline/engine/nodes.py\", line 372, in run\n",
        "    self._run_interface()\n",
        "  File \"/home/snara025/miniconda2/envs/fmri/lib/python2.7/site-packages/nipype/pipeline/engine/nodes.py\", line 1291, in _run_interface\n",
        "    updatehash=updatehash))\n",
        "  File \"/home/snara025/miniconda2/envs/fmri/lib/python2.7/site-packages/nipype/pipeline/engine/nodes.py\", line 1197, in _collate_results\n",
        "    (self.name, '\\n'.join(msg)))\n",
        "Exception: Subnodes of node: Slice_time_correction failed:\n",
        "Subnode 0 failed\n",
        "Error:\n",
        "command 'slicetimer' could not be found on host n005\n",
        "Interface SliceTimer failed to run. \n",
        "\n"
       ]
      },
      {
       "output_type": "stream",
       "stream": "stdout",
       "text": [
        "170613-16:03:46,89 workflow ERROR:\n",
        "\t [u'Node Slice_time_correction.b15 failed to run on host n005.']\n"
       ]
      },
      {
       "output_type": "stream",
       "stream": "stdout",
       "text": [
        "170613-16:03:46,90 workflow INFO:\n",
        "\t Saving crash info to /scratch/sanjay/GRT/fmri_data/testing/crash-20170613-160346-snara025-Slice_time_correction.b15-10775822-cd44-4706-bd6a-f457074ef8a6.pklz\n"
       ]
      },
      {
       "output_type": "stream",
       "stream": "stdout",
       "text": [
        "170613-16:03:46,91 workflow INFO:\n",
        "\t Traceback (most recent call last):\n",
        "  File \"/home/snara025/miniconda2/envs/fmri/lib/python2.7/site-packages/nipype/pipeline/plugins/ipython.py\", line 39, in execute_task\n",
        "    result = task.run(updatehash=updatehash)\n",
        "  File \"/home/snara025/miniconda2/envs/fmri/lib/python2.7/site-packages/nipype/pipeline/engine/nodes.py\", line 372, in run\n",
        "    self._run_interface()\n",
        "  File \"/home/snara025/miniconda2/envs/fmri/lib/python2.7/site-packages/nipype/pipeline/engine/nodes.py\", line 1291, in _run_interface\n",
        "    updatehash=updatehash))\n",
        "  File \"/home/snara025/miniconda2/envs/fmri/lib/python2.7/site-packages/nipype/pipeline/engine/nodes.py\", line 1197, in _collate_results\n",
        "    (self.name, '\\n'.join(msg)))\n",
        "Exception: Subnodes of node: Slice_time_correction failed:\n",
        "Subnode 0 failed\n",
        "Error:\n",
        "command 'slicetimer' could not be found on host n005\n",
        "Interface SliceTimer failed to run. \n",
        "\n"
       ]
      },
      {
       "output_type": "stream",
       "stream": "stdout",
       "text": [
        "170613-16:03:46,116 workflow ERROR:\n",
        "\t [u'Node Slice_time_correction.b35 failed to run on host n005.']\n"
       ]
      },
      {
       "output_type": "stream",
       "stream": "stdout",
       "text": [
        "170613-16:03:46,117 workflow INFO:\n",
        "\t Saving crash info to /scratch/sanjay/GRT/fmri_data/testing/crash-20170613-160346-snara025-Slice_time_correction.b35-daacd46b-3a94-4031-9933-f73a293fe195.pklz\n"
       ]
      },
      {
       "output_type": "stream",
       "stream": "stdout",
       "text": [
        "170613-16:03:46,119 workflow INFO:\n",
        "\t Traceback (most recent call last):\n",
        "  File \"/home/snara025/miniconda2/envs/fmri/lib/python2.7/site-packages/nipype/pipeline/plugins/ipython.py\", line 39, in execute_task\n",
        "    result = task.run(updatehash=updatehash)\n",
        "  File \"/home/snara025/miniconda2/envs/fmri/lib/python2.7/site-packages/nipype/pipeline/engine/nodes.py\", line 372, in run\n",
        "    self._run_interface()\n",
        "  File \"/home/snara025/miniconda2/envs/fmri/lib/python2.7/site-packages/nipype/pipeline/engine/nodes.py\", line 1291, in _run_interface\n",
        "    updatehash=updatehash))\n",
        "  File \"/home/snara025/miniconda2/envs/fmri/lib/python2.7/site-packages/nipype/pipeline/engine/nodes.py\", line 1197, in _collate_results\n",
        "    (self.name, '\\n'.join(msg)))\n",
        "Exception: Subnodes of node: Slice_time_correction failed:\n",
        "Subnode 0 failed\n",
        "Error:\n",
        "command 'slicetimer' could not be found on host n005\n",
        "Interface SliceTimer failed to run. \n",
        "\n"
       ]
      },
      {
       "output_type": "stream",
       "stream": "stdout",
       "text": [
        "170613-16:03:46,140 workflow ERROR:\n",
        "\t [u'Node Slice_time_correction.b36 failed to run on host n005.']\n"
       ]
      },
      {
       "output_type": "stream",
       "stream": "stdout",
       "text": [
        "170613-16:03:46,142 workflow INFO:\n",
        "\t Saving crash info to /scratch/sanjay/GRT/fmri_data/testing/crash-20170613-160346-snara025-Slice_time_correction.b36-31bdad8c-7d72-42e1-9b1b-7491fc99ff6b.pklz\n"
       ]
      },
      {
       "output_type": "stream",
       "stream": "stdout",
       "text": [
        "170613-16:03:46,143 workflow INFO:\n",
        "\t Traceback (most recent call last):\n",
        "  File \"/home/snara025/miniconda2/envs/fmri/lib/python2.7/site-packages/nipype/pipeline/plugins/ipython.py\", line 39, in execute_task\n",
        "    result = task.run(updatehash=updatehash)\n",
        "  File \"/home/snara025/miniconda2/envs/fmri/lib/python2.7/site-packages/nipype/pipeline/engine/nodes.py\", line 372, in run\n",
        "    self._run_interface()\n",
        "  File \"/home/snara025/miniconda2/envs/fmri/lib/python2.7/site-packages/nipype/pipeline/engine/nodes.py\", line 1291, in _run_interface\n",
        "    updatehash=updatehash))\n",
        "  File \"/home/snara025/miniconda2/envs/fmri/lib/python2.7/site-packages/nipype/pipeline/engine/nodes.py\", line 1197, in _collate_results\n",
        "    (self.name, '\\n'.join(msg)))\n",
        "Exception: Subnodes of node: Slice_time_correction failed:\n",
        "Subnode 0 failed\n",
        "Error:\n",
        "command 'slicetimer' could not be found on host n005\n",
        "Interface SliceTimer failed to run. \n",
        "\n"
       ]
      },
      {
       "output_type": "stream",
       "stream": "stdout",
       "text": [
        "170613-16:03:46,165 workflow ERROR:\n",
        "\t [u'Node Slice_time_correction.b32 failed to run on host n005.']\n"
       ]
      },
      {
       "output_type": "stream",
       "stream": "stdout",
       "text": [
        "170613-16:03:46,166 workflow INFO:\n",
        "\t Saving crash info to /scratch/sanjay/GRT/fmri_data/testing/crash-20170613-160346-snara025-Slice_time_correction.b32-14fc9d28-8de7-442b-8b07-722c5ae09ee2.pklz\n"
       ]
      },
      {
       "output_type": "stream",
       "stream": "stdout",
       "text": [
        "170613-16:03:46,167 workflow INFO:\n",
        "\t Traceback (most recent call last):\n",
        "  File \"/home/snara025/miniconda2/envs/fmri/lib/python2.7/site-packages/nipype/pipeline/plugins/ipython.py\", line 39, in execute_task\n",
        "    result = task.run(updatehash=updatehash)\n",
        "  File \"/home/snara025/miniconda2/envs/fmri/lib/python2.7/site-packages/nipype/pipeline/engine/nodes.py\", line 372, in run\n",
        "    self._run_interface()\n",
        "  File \"/home/snara025/miniconda2/envs/fmri/lib/python2.7/site-packages/nipype/pipeline/engine/nodes.py\", line 1291, in _run_interface\n",
        "    updatehash=updatehash))\n",
        "  File \"/home/snara025/miniconda2/envs/fmri/lib/python2.7/site-packages/nipype/pipeline/engine/nodes.py\", line 1197, in _collate_results\n",
        "    (self.name, '\\n'.join(msg)))\n",
        "Exception: Subnodes of node: Slice_time_correction failed:\n",
        "Subnode 0 failed\n",
        "Error:\n",
        "command 'slicetimer' could not be found on host n005\n",
        "Interface SliceTimer failed to run. \n",
        "\n"
       ]
      },
      {
       "output_type": "stream",
       "stream": "stdout",
       "text": [
        "170613-16:03:46,188 workflow ERROR:\n",
        "\t [u'Node Slice_time_correction.b14 failed to run on host n005.']\n"
       ]
      },
      {
       "output_type": "stream",
       "stream": "stdout",
       "text": [
        "170613-16:03:46,190 workflow INFO:\n",
        "\t Saving crash info to /scratch/sanjay/GRT/fmri_data/testing/crash-20170613-160346-snara025-Slice_time_correction.b14-f224db93-d468-4290-b285-bea795119428.pklz\n"
       ]
      },
      {
       "output_type": "stream",
       "stream": "stdout",
       "text": [
        "170613-16:03:46,191 workflow INFO:\n",
        "\t Traceback (most recent call last):\n",
        "  File \"/home/snara025/miniconda2/envs/fmri/lib/python2.7/site-packages/nipype/pipeline/plugins/ipython.py\", line 39, in execute_task\n",
        "    result = task.run(updatehash=updatehash)\n",
        "  File \"/home/snara025/miniconda2/envs/fmri/lib/python2.7/site-packages/nipype/pipeline/engine/nodes.py\", line 372, in run\n",
        "    self._run_interface()\n",
        "  File \"/home/snara025/miniconda2/envs/fmri/lib/python2.7/site-packages/nipype/pipeline/engine/nodes.py\", line 1291, in _run_interface\n",
        "    updatehash=updatehash))\n",
        "  File \"/home/snara025/miniconda2/envs/fmri/lib/python2.7/site-packages/nipype/pipeline/engine/nodes.py\", line 1197, in _collate_results\n",
        "    (self.name, '\\n'.join(msg)))\n",
        "Exception: Subnodes of node: Slice_time_correction failed:\n",
        "Subnode 0 failed\n",
        "Error:\n",
        "command 'slicetimer' could not be found on host n005\n",
        "Interface SliceTimer failed to run. \n",
        "\n"
       ]
      },
      {
       "output_type": "stream",
       "stream": "stdout",
       "text": [
        "170613-16:03:46,213 workflow ERROR:\n",
        "\t [u'Node Slice_time_correction.b03 failed to run on host n005.']\n"
       ]
      },
      {
       "output_type": "stream",
       "stream": "stdout",
       "text": [
        "170613-16:03:46,214 workflow INFO:\n",
        "\t Saving crash info to /scratch/sanjay/GRT/fmri_data/testing/crash-20170613-160346-snara025-Slice_time_correction.b03-d291fd48-d984-4b65-bc88-aad82ac1784f.pklz\n"
       ]
      },
      {
       "output_type": "stream",
       "stream": "stdout",
       "text": [
        "170613-16:03:46,215 workflow INFO:\n",
        "\t Traceback (most recent call last):\n",
        "  File \"/home/snara025/miniconda2/envs/fmri/lib/python2.7/site-packages/nipype/pipeline/plugins/ipython.py\", line 39, in execute_task\n",
        "    result = task.run(updatehash=updatehash)\n",
        "  File \"/home/snara025/miniconda2/envs/fmri/lib/python2.7/site-packages/nipype/pipeline/engine/nodes.py\", line 372, in run\n",
        "    self._run_interface()\n",
        "  File \"/home/snara025/miniconda2/envs/fmri/lib/python2.7/site-packages/nipype/pipeline/engine/nodes.py\", line 1291, in _run_interface\n",
        "    updatehash=updatehash))\n",
        "  File \"/home/snara025/miniconda2/envs/fmri/lib/python2.7/site-packages/nipype/pipeline/engine/nodes.py\", line 1197, in _collate_results\n",
        "    (self.name, '\\n'.join(msg)))\n",
        "Exception: Subnodes of node: Slice_time_correction failed:\n",
        "Subnode 0 failed\n",
        "Error:\n",
        "command 'slicetimer' could not be found on host n005\n",
        "Interface SliceTimer failed to run. \n",
        "\n"
       ]
      },
      {
       "output_type": "stream",
       "stream": "stdout",
       "text": [
        "170613-16:03:46,239 workflow ERROR:\n",
        "\t [u'Node Slice_time_correction.b04 failed to run on host n005.']\n"
       ]
      },
      {
       "output_type": "stream",
       "stream": "stdout",
       "text": [
        "170613-16:03:46,240 workflow INFO:\n",
        "\t Saving crash info to /scratch/sanjay/GRT/fmri_data/testing/crash-20170613-160346-snara025-Slice_time_correction.b04-20c787d8-0194-4812-8e2a-8d706a033a67.pklz\n"
       ]
      },
      {
       "output_type": "stream",
       "stream": "stdout",
       "text": [
        "170613-16:03:46,242 workflow INFO:\n",
        "\t Traceback (most recent call last):\n",
        "  File \"/home/snara025/miniconda2/envs/fmri/lib/python2.7/site-packages/nipype/pipeline/plugins/ipython.py\", line 39, in execute_task\n",
        "    result = task.run(updatehash=updatehash)\n",
        "  File \"/home/snara025/miniconda2/envs/fmri/lib/python2.7/site-packages/nipype/pipeline/engine/nodes.py\", line 372, in run\n",
        "    self._run_interface()\n",
        "  File \"/home/snara025/miniconda2/envs/fmri/lib/python2.7/site-packages/nipype/pipeline/engine/nodes.py\", line 1291, in _run_interface\n",
        "    updatehash=updatehash))\n",
        "  File \"/home/snara025/miniconda2/envs/fmri/lib/python2.7/site-packages/nipype/pipeline/engine/nodes.py\", line 1197, in _collate_results\n",
        "    (self.name, '\\n'.join(msg)))\n",
        "Exception: Subnodes of node: Slice_time_correction failed:\n",
        "Subnode 0 failed\n",
        "Error:\n",
        "command 'slicetimer' could not be found on host n005\n",
        "Interface SliceTimer failed to run. \n",
        "\n"
       ]
      },
      {
       "output_type": "stream",
       "stream": "stdout",
       "text": [
        "170613-16:03:46,266 workflow ERROR:\n",
        "\t [u'Node Slice_time_correction.b45 failed to run on host n005.']\n"
       ]
      },
      {
       "output_type": "stream",
       "stream": "stdout",
       "text": [
        "170613-16:03:46,268 workflow INFO:\n",
        "\t Saving crash info to /scratch/sanjay/GRT/fmri_data/testing/crash-20170613-160346-snara025-Slice_time_correction.b45-18dd2ffa-beb8-49d0-ae77-462a742ad62f.pklz\n"
       ]
      },
      {
       "output_type": "stream",
       "stream": "stdout",
       "text": [
        "170613-16:03:46,269 workflow INFO:\n",
        "\t Traceback (most recent call last):\n",
        "  File \"/home/snara025/miniconda2/envs/fmri/lib/python2.7/site-packages/nipype/pipeline/plugins/ipython.py\", line 39, in execute_task\n",
        "    result = task.run(updatehash=updatehash)\n",
        "  File \"/home/snara025/miniconda2/envs/fmri/lib/python2.7/site-packages/nipype/pipeline/engine/nodes.py\", line 372, in run\n",
        "    self._run_interface()\n",
        "  File \"/home/snara025/miniconda2/envs/fmri/lib/python2.7/site-packages/nipype/pipeline/engine/nodes.py\", line 1291, in _run_interface\n",
        "    updatehash=updatehash))\n",
        "  File \"/home/snara025/miniconda2/envs/fmri/lib/python2.7/site-packages/nipype/pipeline/engine/nodes.py\", line 1197, in _collate_results\n",
        "    (self.name, '\\n'.join(msg)))\n",
        "Exception: Subnodes of node: Slice_time_correction failed:\n",
        "Subnode 0 failed\n",
        "Error:\n",
        "command 'slicetimer' could not be found on host n005\n",
        "Interface SliceTimer failed to run. \n",
        "\n"
       ]
      },
      {
       "output_type": "stream",
       "stream": "stdout",
       "text": [
        "170613-16:03:46,290 workflow ERROR:\n",
        "\t [u'Node Slice_time_correction.b13 failed to run on host n005.']\n"
       ]
      },
      {
       "output_type": "stream",
       "stream": "stdout",
       "text": [
        "170613-16:03:46,292 workflow INFO:\n",
        "\t Saving crash info to /scratch/sanjay/GRT/fmri_data/testing/crash-20170613-160346-snara025-Slice_time_correction.b13-2fed894b-24be-4273-b67d-e95f30288ad3.pklz\n"
       ]
      },
      {
       "output_type": "stream",
       "stream": "stdout",
       "text": [
        "170613-16:03:46,293 workflow INFO:\n",
        "\t Traceback (most recent call last):\n",
        "  File \"/home/snara025/miniconda2/envs/fmri/lib/python2.7/site-packages/nipype/pipeline/plugins/ipython.py\", line 39, in execute_task\n",
        "    result = task.run(updatehash=updatehash)\n",
        "  File \"/home/snara025/miniconda2/envs/fmri/lib/python2.7/site-packages/nipype/pipeline/engine/nodes.py\", line 372, in run\n",
        "    self._run_interface()\n",
        "  File \"/home/snara025/miniconda2/envs/fmri/lib/python2.7/site-packages/nipype/pipeline/engine/nodes.py\", line 1291, in _run_interface\n",
        "    updatehash=updatehash))\n",
        "  File \"/home/snara025/miniconda2/envs/fmri/lib/python2.7/site-packages/nipype/pipeline/engine/nodes.py\", line 1197, in _collate_results\n",
        "    (self.name, '\\n'.join(msg)))\n",
        "Exception: Subnodes of node: Slice_time_correction failed:\n",
        "Subnode 0 failed\n",
        "Error:\n",
        "command 'slicetimer' could not be found on host n005\n",
        "Interface SliceTimer failed to run. \n",
        "\n"
       ]
      },
      {
       "output_type": "stream",
       "stream": "stdout",
       "text": [
        "170613-16:03:46,316 workflow ERROR:\n",
        "\t [u'Node Slice_time_correction.b06 failed to run on host n005.']\n"
       ]
      },
      {
       "output_type": "stream",
       "stream": "stdout",
       "text": [
        "170613-16:03:46,318 workflow INFO:\n",
        "\t Saving crash info to /scratch/sanjay/GRT/fmri_data/testing/crash-20170613-160346-snara025-Slice_time_correction.b06-5464837a-3ae4-4847-ae61-de9ac2b8d9d4.pklz\n"
       ]
      },
      {
       "output_type": "stream",
       "stream": "stdout",
       "text": [
        "170613-16:03:46,319 workflow INFO:\n",
        "\t Traceback (most recent call last):\n",
        "  File \"/home/snara025/miniconda2/envs/fmri/lib/python2.7/site-packages/nipype/pipeline/plugins/ipython.py\", line 39, in execute_task\n",
        "    result = task.run(updatehash=updatehash)\n",
        "  File \"/home/snara025/miniconda2/envs/fmri/lib/python2.7/site-packages/nipype/pipeline/engine/nodes.py\", line 372, in run\n",
        "    self._run_interface()\n",
        "  File \"/home/snara025/miniconda2/envs/fmri/lib/python2.7/site-packages/nipype/pipeline/engine/nodes.py\", line 1291, in _run_interface\n",
        "    updatehash=updatehash))\n",
        "  File \"/home/snara025/miniconda2/envs/fmri/lib/python2.7/site-packages/nipype/pipeline/engine/nodes.py\", line 1197, in _collate_results\n",
        "    (self.name, '\\n'.join(msg)))\n",
        "Exception: Subnodes of node: Slice_time_correction failed:\n",
        "Subnode 0 failed\n",
        "Error:\n",
        "command 'slicetimer' could not be found on host n005\n",
        "Interface SliceTimer failed to run. \n",
        "\n"
       ]
      },
      {
       "output_type": "stream",
       "stream": "stdout",
       "text": [
        "170613-16:03:46,343 workflow ERROR:\n",
        "\t [u'Node Slice_time_correction.b31 failed to run on host n005.']\n"
       ]
      },
      {
       "output_type": "stream",
       "stream": "stdout",
       "text": [
        "170613-16:03:46,345 workflow INFO:\n",
        "\t Saving crash info to /scratch/sanjay/GRT/fmri_data/testing/crash-20170613-160346-snara025-Slice_time_correction.b31-e25668a8-4bfc-4f6e-ba57-0be865fa3314.pklz\n"
       ]
      },
      {
       "output_type": "stream",
       "stream": "stdout",
       "text": [
        "170613-16:03:46,346 workflow INFO:\n",
        "\t Traceback (most recent call last):\n",
        "  File \"/home/snara025/miniconda2/envs/fmri/lib/python2.7/site-packages/nipype/pipeline/plugins/ipython.py\", line 39, in execute_task\n",
        "    result = task.run(updatehash=updatehash)\n",
        "  File \"/home/snara025/miniconda2/envs/fmri/lib/python2.7/site-packages/nipype/pipeline/engine/nodes.py\", line 372, in run\n",
        "    self._run_interface()\n",
        "  File \"/home/snara025/miniconda2/envs/fmri/lib/python2.7/site-packages/nipype/pipeline/engine/nodes.py\", line 1291, in _run_interface\n",
        "    updatehash=updatehash))\n",
        "  File \"/home/snara025/miniconda2/envs/fmri/lib/python2.7/site-packages/nipype/pipeline/engine/nodes.py\", line 1197, in _collate_results\n",
        "    (self.name, '\\n'.join(msg)))\n",
        "Exception: Subnodes of node: Slice_time_correction failed:\n",
        "Subnode 0 failed\n",
        "Error:\n",
        "command 'slicetimer' could not be found on host n005\n",
        "Interface SliceTimer failed to run. \n",
        "\n"
       ]
      },
      {
       "output_type": "stream",
       "stream": "stdout",
       "text": [
        "170613-16:03:46,369 workflow ERROR:\n",
        "\t [u'Node Slice_time_correction.b01 failed to run on host n005.']\n"
       ]
      },
      {
       "output_type": "stream",
       "stream": "stdout",
       "text": [
        "170613-16:03:46,371 workflow INFO:\n",
        "\t Saving crash info to /scratch/sanjay/GRT/fmri_data/testing/crash-20170613-160346-snara025-Slice_time_correction.b01-66ec46d1-7883-4999-80ea-da8842cb5e62.pklz\n"
       ]
      },
      {
       "output_type": "stream",
       "stream": "stdout",
       "text": [
        "170613-16:03:46,372 workflow INFO:\n",
        "\t Traceback (most recent call last):\n",
        "  File \"/home/snara025/miniconda2/envs/fmri/lib/python2.7/site-packages/nipype/pipeline/plugins/ipython.py\", line 39, in execute_task\n",
        "    result = task.run(updatehash=updatehash)\n",
        "  File \"/home/snara025/miniconda2/envs/fmri/lib/python2.7/site-packages/nipype/pipeline/engine/nodes.py\", line 372, in run\n",
        "    self._run_interface()\n",
        "  File \"/home/snara025/miniconda2/envs/fmri/lib/python2.7/site-packages/nipype/pipeline/engine/nodes.py\", line 1291, in _run_interface\n",
        "    updatehash=updatehash))\n",
        "  File \"/home/snara025/miniconda2/envs/fmri/lib/python2.7/site-packages/nipype/pipeline/engine/nodes.py\", line 1197, in _collate_results\n",
        "    (self.name, '\\n'.join(msg)))\n",
        "Exception: Subnodes of node: Slice_time_correction failed:\n",
        "Subnode 0 failed\n",
        "Error:\n",
        "command 'slicetimer' could not be found on host n005\n",
        "Interface SliceTimer failed to run. \n",
        "\n"
       ]
      },
      {
       "output_type": "stream",
       "stream": "stdout",
       "text": [
        "170613-16:03:46,400 workflow ERROR:\n",
        "\t [u'Node Slice_time_correction.b41 failed to run on host n005.']\n"
       ]
      },
      {
       "output_type": "stream",
       "stream": "stdout",
       "text": [
        "170613-16:03:46,401 workflow INFO:\n",
        "\t Saving crash info to /scratch/sanjay/GRT/fmri_data/testing/crash-20170613-160346-snara025-Slice_time_correction.b41-d4fa2e14-7a0f-40d7-9928-e77bdb91e86b.pklz\n"
       ]
      },
      {
       "output_type": "stream",
       "stream": "stdout",
       "text": [
        "170613-16:03:46,402 workflow INFO:\n",
        "\t Traceback (most recent call last):\n",
        "  File \"/home/snara025/miniconda2/envs/fmri/lib/python2.7/site-packages/nipype/pipeline/plugins/ipython.py\", line 39, in execute_task\n",
        "    result = task.run(updatehash=updatehash)\n",
        "  File \"/home/snara025/miniconda2/envs/fmri/lib/python2.7/site-packages/nipype/pipeline/engine/nodes.py\", line 372, in run\n",
        "    self._run_interface()\n",
        "  File \"/home/snara025/miniconda2/envs/fmri/lib/python2.7/site-packages/nipype/pipeline/engine/nodes.py\", line 1291, in _run_interface\n",
        "    updatehash=updatehash))\n",
        "  File \"/home/snara025/miniconda2/envs/fmri/lib/python2.7/site-packages/nipype/pipeline/engine/nodes.py\", line 1197, in _collate_results\n",
        "    (self.name, '\\n'.join(msg)))\n",
        "Exception: Subnodes of node: Slice_time_correction failed:\n",
        "Subnode 0 failed\n",
        "Error:\n",
        "command 'slicetimer' could not be found on host n005\n",
        "Interface SliceTimer failed to run. \n",
        "\n"
       ]
      },
      {
       "output_type": "stream",
       "stream": "stdout",
       "text": [
        "170613-16:03:48,435 workflow INFO:\n",
        "\t ***********************************\n"
       ]
      },
      {
       "output_type": "stream",
       "stream": "stdout",
       "text": [
        "170613-16:03:48,437 workflow ERROR:\n",
        "\t could not run node: preproc.Slice_time_correction.b20\n"
       ]
      },
      {
       "output_type": "stream",
       "stream": "stdout",
       "text": [
        "170613-16:03:48,438 workflow INFO:\n",
        "\t crashfile: /scratch/sanjay/GRT/fmri_data/testing/crash-20170613-160345-snara025-Slice_time_correction.b20-100a391e-b6a1-4037-8047-e335ac7d732c.pklz\n"
       ]
      },
      {
       "output_type": "stream",
       "stream": "stdout",
       "text": [
        "170613-16:03:48,439 workflow ERROR:\n",
        "\t could not run node: preproc.Slice_time_correction.b19\n"
       ]
      },
      {
       "output_type": "stream",
       "stream": "stdout",
       "text": [
        "170613-16:03:48,440 workflow INFO:\n",
        "\t crashfile: /scratch/sanjay/GRT/fmri_data/testing/crash-20170613-160345-snara025-Slice_time_correction.b19-a74adfde-2b71-4ef8-934b-b36488d15a40.pklz\n"
       ]
      },
      {
       "output_type": "stream",
       "stream": "stdout",
       "text": [
        "170613-16:03:48,441 workflow ERROR:\n",
        "\t could not run node: preproc.Slice_time_correction.b44\n"
       ]
      },
      {
       "output_type": "stream",
       "stream": "stdout",
       "text": [
        "170613-16:03:48,442 workflow INFO:\n",
        "\t crashfile: /scratch/sanjay/GRT/fmri_data/testing/crash-20170613-160345-snara025-Slice_time_correction.b44-714175a0-b735-4a22-95a5-734923d23497.pklz\n"
       ]
      },
      {
       "output_type": "stream",
       "stream": "stdout",
       "text": [
        "170613-16:03:48,442 workflow ERROR:\n",
        "\t could not run node: preproc.Slice_time_correction.b43\n"
       ]
      },
      {
       "output_type": "stream",
       "stream": "stdout",
       "text": [
        "170613-16:03:48,443 workflow INFO:\n",
        "\t crashfile: /scratch/sanjay/GRT/fmri_data/testing/crash-20170613-160345-snara025-Slice_time_correction.b43-0b46ee7b-d27e-42fb-9e6f-437628d32211.pklz\n"
       ]
      },
      {
       "output_type": "stream",
       "stream": "stdout",
       "text": [
        "170613-16:03:48,444 workflow ERROR:\n",
        "\t could not run node: preproc.Slice_time_correction.b12\n"
       ]
      },
      {
       "output_type": "stream",
       "stream": "stdout",
       "text": [
        "170613-16:03:48,445 workflow INFO:\n",
        "\t crashfile: /scratch/sanjay/GRT/fmri_data/testing/crash-20170613-160345-snara025-Slice_time_correction.b12-74010dbd-fbc6-4623-9640-ea4b0de978fd.pklz\n"
       ]
      },
      {
       "output_type": "stream",
       "stream": "stdout",
       "text": [
        "170613-16:03:48,446 workflow ERROR:\n",
        "\t could not run node: preproc.Slice_time_correction.b37\n"
       ]
      },
      {
       "output_type": "stream",
       "stream": "stdout",
       "text": [
        "170613-16:03:48,447 workflow INFO:\n",
        "\t crashfile: /scratch/sanjay/GRT/fmri_data/testing/crash-20170613-160345-snara025-Slice_time_correction.b37-cbcec558-6846-4f8a-8eab-0da23f985c57.pklz\n"
       ]
      },
      {
       "output_type": "stream",
       "stream": "stdout",
       "text": [
        "170613-16:03:48,447 workflow ERROR:\n",
        "\t could not run node: preproc.Slice_time_correction.b42\n"
       ]
      },
      {
       "output_type": "stream",
       "stream": "stdout",
       "text": [
        "170613-16:03:48,448 workflow INFO:\n",
        "\t crashfile: /scratch/sanjay/GRT/fmri_data/testing/crash-20170613-160345-snara025-Slice_time_correction.b42-6fc115c1-cd3a-4360-8403-bd2a45fa9b13.pklz\n"
       ]
      },
      {
       "output_type": "stream",
       "stream": "stdout",
       "text": [
        "170613-16:03:48,449 workflow ERROR:\n",
        "\t could not run node: preproc.Slice_time_correction.b17\n"
       ]
      },
      {
       "output_type": "stream",
       "stream": "stdout",
       "text": [
        "170613-16:03:48,450 workflow INFO:\n",
        "\t crashfile: /scratch/sanjay/GRT/fmri_data/testing/crash-20170613-160345-snara025-Slice_time_correction.b17-dd18611d-9adf-44fc-874a-da5afef7072d.pklz\n"
       ]
      },
      {
       "output_type": "stream",
       "stream": "stdout",
       "text": [
        "170613-16:03:48,451 workflow ERROR:\n",
        "\t could not run node: preproc.Slice_time_correction.b23\n"
       ]
      },
      {
       "output_type": "stream",
       "stream": "stdout",
       "text": [
        "170613-16:03:48,451 workflow INFO:\n",
        "\t crashfile: /scratch/sanjay/GRT/fmri_data/testing/crash-20170613-160345-snara025-Slice_time_correction.b23-65d573c4-15a0-46f1-b7a9-5a1ec694d2b6.pklz\n"
       ]
      },
      {
       "output_type": "stream",
       "stream": "stdout",
       "text": [
        "170613-16:03:48,452 workflow ERROR:\n",
        "\t could not run node: preproc.Slice_time_correction.b40\n"
       ]
      },
      {
       "output_type": "stream",
       "stream": "stdout",
       "text": [
        "170613-16:03:48,453 workflow INFO:\n",
        "\t crashfile: /scratch/sanjay/GRT/fmri_data/testing/crash-20170613-160345-snara025-Slice_time_correction.b40-87808250-a728-49fb-a486-0e77160048f0.pklz\n"
       ]
      },
      {
       "output_type": "stream",
       "stream": "stdout",
       "text": [
        "170613-16:03:48,454 workflow ERROR:\n",
        "\t could not run node: preproc.Slice_time_correction.b25\n"
       ]
      },
      {
       "output_type": "stream",
       "stream": "stdout",
       "text": [
        "170613-16:03:48,455 workflow INFO:\n",
        "\t crashfile: /scratch/sanjay/GRT/fmri_data/testing/crash-20170613-160345-snara025-Slice_time_correction.b25-437f5d14-66c4-4080-8022-c189bc01b754.pklz\n"
       ]
      },
      {
       "output_type": "stream",
       "stream": "stdout",
       "text": [
        "170613-16:03:48,456 workflow ERROR:\n",
        "\t could not run node: preproc.Slice_time_correction.b22\n"
       ]
      },
      {
       "output_type": "stream",
       "stream": "stdout",
       "text": [
        "170613-16:03:48,456 workflow INFO:\n",
        "\t crashfile: /scratch/sanjay/GRT/fmri_data/testing/crash-20170613-160345-snara025-Slice_time_correction.b22-c0a08252-a863-447d-95e4-8260a64b07df.pklz\n"
       ]
      },
      {
       "output_type": "stream",
       "stream": "stdout",
       "text": [
        "170613-16:03:48,457 workflow ERROR:\n",
        "\t could not run node: preproc.Slice_time_correction.b21\n"
       ]
      },
      {
       "output_type": "stream",
       "stream": "stdout",
       "text": [
        "170613-16:03:48,458 workflow INFO:\n",
        "\t crashfile: /scratch/sanjay/GRT/fmri_data/testing/crash-20170613-160345-snara025-Slice_time_correction.b21-aba27f16-91ad-4ab3-adef-101c52e4df36.pklz\n"
       ]
      },
      {
       "output_type": "stream",
       "stream": "stdout",
       "text": [
        "170613-16:03:48,459 workflow ERROR:\n",
        "\t could not run node: preproc.Slice_time_correction.b38\n"
       ]
      },
      {
       "output_type": "stream",
       "stream": "stdout",
       "text": [
        "170613-16:03:48,460 workflow INFO:\n",
        "\t crashfile: /scratch/sanjay/GRT/fmri_data/testing/crash-20170613-160345-snara025-Slice_time_correction.b38-ed37ef6b-b27e-4489-b84c-1a9513b13f51.pklz\n"
       ]
      },
      {
       "output_type": "stream",
       "stream": "stdout",
       "text": [
        "170613-16:03:48,460 workflow ERROR:\n",
        "\t could not run node: preproc.Slice_time_correction.b34\n"
       ]
      },
      {
       "output_type": "stream",
       "stream": "stdout",
       "text": [
        "170613-16:03:48,461 workflow INFO:\n",
        "\t crashfile: /scratch/sanjay/GRT/fmri_data/testing/crash-20170613-160345-snara025-Slice_time_correction.b34-1cedbef9-80cb-4ed2-a9ad-9b1185ef7517.pklz\n"
       ]
      },
      {
       "output_type": "stream",
       "stream": "stdout",
       "text": [
        "170613-16:03:48,462 workflow ERROR:\n",
        "\t could not run node: preproc.Slice_time_correction.b33\n"
       ]
      },
      {
       "output_type": "stream",
       "stream": "stdout",
       "text": [
        "170613-16:03:48,463 workflow INFO:\n",
        "\t crashfile: /scratch/sanjay/GRT/fmri_data/testing/crash-20170613-160345-snara025-Slice_time_correction.b33-f593402d-efa7-471c-bd25-81850c07b5a1.pklz\n"
       ]
      },
      {
       "output_type": "stream",
       "stream": "stdout",
       "text": [
        "170613-16:03:48,464 workflow ERROR:\n",
        "\t could not run node: preproc.Slice_time_correction.b39\n"
       ]
      },
      {
       "output_type": "stream",
       "stream": "stdout",
       "text": [
        "170613-16:03:48,465 workflow INFO:\n",
        "\t crashfile: /scratch/sanjay/GRT/fmri_data/testing/crash-20170613-160345-snara025-Slice_time_correction.b39-566a03cc-8532-4fe4-be8e-7be6f9cd80f1.pklz\n"
       ]
      },
      {
       "output_type": "stream",
       "stream": "stdout",
       "text": [
        "170613-16:03:48,465 workflow ERROR:\n",
        "\t could not run node: preproc.Slice_time_correction.b46\n"
       ]
      },
      {
       "output_type": "stream",
       "stream": "stdout",
       "text": [
        "170613-16:03:48,466 workflow INFO:\n",
        "\t crashfile: /scratch/sanjay/GRT/fmri_data/testing/crash-20170613-160345-snara025-Slice_time_correction.b46-9b8b1360-f982-4f81-97f1-1549fae8f8d3.pklz\n"
       ]
      },
      {
       "output_type": "stream",
       "stream": "stdout",
       "text": [
        "170613-16:03:48,467 workflow ERROR:\n",
        "\t could not run node: preproc.Slice_time_correction.b28\n"
       ]
      },
      {
       "output_type": "stream",
       "stream": "stdout",
       "text": [
        "170613-16:03:48,468 workflow INFO:\n",
        "\t crashfile: /scratch/sanjay/GRT/fmri_data/testing/crash-20170613-160345-snara025-Slice_time_correction.b28-e349f738-3730-4294-b2fe-5634e8cb00e9.pklz\n"
       ]
      },
      {
       "output_type": "stream",
       "stream": "stdout",
       "text": [
        "170613-16:03:48,469 workflow ERROR:\n",
        "\t could not run node: preproc.Slice_time_correction.b26\n"
       ]
      },
      {
       "output_type": "stream",
       "stream": "stdout",
       "text": [
        "170613-16:03:48,469 workflow INFO:\n",
        "\t crashfile: /scratch/sanjay/GRT/fmri_data/testing/crash-20170613-160345-snara025-Slice_time_correction.b26-cf06d5fe-1ae8-4e4e-a900-8b42b0236b14.pklz\n"
       ]
      },
      {
       "output_type": "stream",
       "stream": "stdout",
       "text": [
        "170613-16:03:48,470 workflow ERROR:\n",
        "\t could not run node: preproc.Slice_time_correction.b07\n"
       ]
      },
      {
       "output_type": "stream",
       "stream": "stdout",
       "text": [
        "170613-16:03:48,471 workflow INFO:\n",
        "\t crashfile: /scratch/sanjay/GRT/fmri_data/testing/crash-20170613-160345-snara025-Slice_time_correction.b07-20007ab9-b1c5-41d7-9213-ef89914bbadf.pklz\n"
       ]
      },
      {
       "output_type": "stream",
       "stream": "stdout",
       "text": [
        "170613-16:03:48,472 workflow ERROR:\n",
        "\t could not run node: preproc.Slice_time_correction.b05\n"
       ]
      },
      {
       "output_type": "stream",
       "stream": "stdout",
       "text": [
        "170613-16:03:48,473 workflow INFO:\n",
        "\t crashfile: /scratch/sanjay/GRT/fmri_data/testing/crash-20170613-160345-snara025-Slice_time_correction.b05-c3fe00ac-da5e-474b-b5dd-75440778b47a.pklz\n"
       ]
      },
      {
       "output_type": "stream",
       "stream": "stdout",
       "text": [
        "170613-16:03:48,474 workflow ERROR:\n",
        "\t could not run node: preproc.Slice_time_correction.b02\n"
       ]
      },
      {
       "output_type": "stream",
       "stream": "stdout",
       "text": [
        "170613-16:03:48,475 workflow INFO:\n",
        "\t crashfile: /scratch/sanjay/GRT/fmri_data/testing/crash-20170613-160345-snara025-Slice_time_correction.b02-c29fd39f-1136-4e62-9a1d-9b98aa6b07b3.pklz\n"
       ]
      },
      {
       "output_type": "stream",
       "stream": "stdout",
       "text": [
        "170613-16:03:48,475 workflow ERROR:\n",
        "\t could not run node: preproc.Slice_time_correction.b24\n"
       ]
      },
      {
       "output_type": "stream",
       "stream": "stdout",
       "text": [
        "170613-16:03:48,476 workflow INFO:\n",
        "\t crashfile: /scratch/sanjay/GRT/fmri_data/testing/crash-20170613-160345-snara025-Slice_time_correction.b24-c2ca5ae6-199a-48b4-820d-f73200b4436e.pklz\n"
       ]
      },
      {
       "output_type": "stream",
       "stream": "stdout",
       "text": [
        "170613-16:03:48,477 workflow ERROR:\n",
        "\t could not run node: preproc.Slice_time_correction.b11\n"
       ]
      },
      {
       "output_type": "stream",
       "stream": "stdout",
       "text": [
        "170613-16:03:48,478 workflow INFO:\n",
        "\t crashfile: /scratch/sanjay/GRT/fmri_data/testing/crash-20170613-160345-snara025-Slice_time_correction.b11-0a585c30-ac65-4a69-bb46-207311dbb713.pklz\n"
       ]
      },
      {
       "output_type": "stream",
       "stream": "stdout",
       "text": [
        "170613-16:03:48,479 workflow ERROR:\n",
        "\t could not run node: preproc.Slice_time_correction.b47\n"
       ]
      },
      {
       "output_type": "stream",
       "stream": "stdout",
       "text": [
        "170613-16:03:48,480 workflow INFO:\n",
        "\t crashfile: /scratch/sanjay/GRT/fmri_data/testing/crash-20170613-160345-snara025-Slice_time_correction.b47-2efdf8c4-8680-4444-b163-08e5f2c12a2a.pklz\n"
       ]
      },
      {
       "output_type": "stream",
       "stream": "stdout",
       "text": [
        "170613-16:03:48,480 workflow ERROR:\n",
        "\t could not run node: preproc.Slice_time_correction.b27\n"
       ]
      },
      {
       "output_type": "stream",
       "stream": "stdout",
       "text": [
        "170613-16:03:48,481 workflow INFO:\n",
        "\t crashfile: /scratch/sanjay/GRT/fmri_data/testing/crash-20170613-160345-snara025-Slice_time_correction.b27-6f072f08-3a3e-48e9-8e82-2e70d7acb342.pklz\n"
       ]
      },
      {
       "output_type": "stream",
       "stream": "stdout",
       "text": [
        "170613-16:03:48,482 workflow ERROR:\n",
        "\t could not run node: preproc.Slice_time_correction.b00\n"
       ]
      },
      {
       "output_type": "stream",
       "stream": "stdout",
       "text": [
        "170613-16:03:48,483 workflow INFO:\n",
        "\t crashfile: /scratch/sanjay/GRT/fmri_data/testing/crash-20170613-160345-snara025-Slice_time_correction.b00-c41e0cf9-058c-4327-8628-3297d18f0807.pklz\n"
       ]
      },
      {
       "output_type": "stream",
       "stream": "stdout",
       "text": [
        "170613-16:03:48,484 workflow ERROR:\n",
        "\t could not run node: preproc.Slice_time_correction.b16\n"
       ]
      },
      {
       "output_type": "stream",
       "stream": "stdout",
       "text": [
        "170613-16:03:48,485 workflow INFO:\n",
        "\t crashfile: /scratch/sanjay/GRT/fmri_data/testing/crash-20170613-160345-snara025-Slice_time_correction.b16-3df1b42c-fd97-4026-8fd9-cca2db9d9d07.pklz\n"
       ]
      },
      {
       "output_type": "stream",
       "stream": "stdout",
       "text": [
        "170613-16:03:48,486 workflow ERROR:\n",
        "\t could not run node: preproc.Slice_time_correction.b29\n"
       ]
      },
      {
       "output_type": "stream",
       "stream": "stdout",
       "text": [
        "170613-16:03:48,487 workflow INFO:\n",
        "\t crashfile: /scratch/sanjay/GRT/fmri_data/testing/crash-20170613-160345-snara025-Slice_time_correction.b29-655428c0-5629-420a-8ded-d167a2140792.pklz\n"
       ]
      },
      {
       "output_type": "stream",
       "stream": "stdout",
       "text": [
        "170613-16:03:48,488 workflow ERROR:\n",
        "\t could not run node: preproc.Slice_time_correction.b30\n"
       ]
      },
      {
       "output_type": "stream",
       "stream": "stdout",
       "text": [
        "170613-16:03:48,489 workflow INFO:\n",
        "\t crashfile: /scratch/sanjay/GRT/fmri_data/testing/crash-20170613-160345-snara025-Slice_time_correction.b30-63565ada-abac-4a62-aaa0-2f01f4223dd5.pklz\n"
       ]
      },
      {
       "output_type": "stream",
       "stream": "stdout",
       "text": [
        "170613-16:03:48,490 workflow ERROR:\n",
        "\t could not run node: preproc.Slice_time_correction.b10\n"
       ]
      },
      {
       "output_type": "stream",
       "stream": "stdout",
       "text": [
        "170613-16:03:48,490 workflow INFO:\n",
        "\t crashfile: /scratch/sanjay/GRT/fmri_data/testing/crash-20170613-160345-snara025-Slice_time_correction.b10-6d5361bc-f0a3-43d5-8b11-ed021f57191e.pklz\n"
       ]
      },
      {
       "output_type": "stream",
       "stream": "stdout",
       "text": [
        "170613-16:03:48,491 workflow ERROR:\n",
        "\t could not run node: preproc.Slice_time_correction.b18\n"
       ]
      },
      {
       "output_type": "stream",
       "stream": "stdout",
       "text": [
        "170613-16:03:48,492 workflow INFO:\n",
        "\t crashfile: /scratch/sanjay/GRT/fmri_data/testing/crash-20170613-160346-snara025-Slice_time_correction.b18-db608238-1569-472a-b867-7519e6449c07.pklz\n"
       ]
      },
      {
       "output_type": "stream",
       "stream": "stdout",
       "text": [
        "170613-16:03:48,493 workflow ERROR:\n",
        "\t could not run node: preproc.Slice_time_correction.b09\n"
       ]
      },
      {
       "output_type": "stream",
       "stream": "stdout",
       "text": [
        "170613-16:03:48,494 workflow INFO:\n",
        "\t crashfile: /scratch/sanjay/GRT/fmri_data/testing/crash-20170613-160346-snara025-Slice_time_correction.b09-a61fd76c-99db-4f5d-a967-e9a59b8cbcca.pklz\n"
       ]
      },
      {
       "output_type": "stream",
       "stream": "stdout",
       "text": [
        "170613-16:03:48,495 workflow ERROR:\n",
        "\t could not run node: preproc.Slice_time_correction.b08\n"
       ]
      },
      {
       "output_type": "stream",
       "stream": "stdout",
       "text": [
        "170613-16:03:48,495 workflow INFO:\n",
        "\t crashfile: /scratch/sanjay/GRT/fmri_data/testing/crash-20170613-160346-snara025-Slice_time_correction.b08-bac151ab-a9e3-4c98-b8ee-e1833cf2a9d4.pklz\n"
       ]
      },
      {
       "output_type": "stream",
       "stream": "stdout",
       "text": [
        "170613-16:03:48,496 workflow ERROR:\n",
        "\t could not run node: preproc.Slice_time_correction.b15\n"
       ]
      },
      {
       "output_type": "stream",
       "stream": "stdout",
       "text": [
        "170613-16:03:48,497 workflow INFO:\n",
        "\t crashfile: /scratch/sanjay/GRT/fmri_data/testing/crash-20170613-160346-snara025-Slice_time_correction.b15-10775822-cd44-4706-bd6a-f457074ef8a6.pklz\n"
       ]
      },
      {
       "output_type": "stream",
       "stream": "stdout",
       "text": [
        "170613-16:03:48,498 workflow ERROR:\n",
        "\t could not run node: preproc.Slice_time_correction.b35\n"
       ]
      },
      {
       "output_type": "stream",
       "stream": "stdout",
       "text": [
        "170613-16:03:48,499 workflow INFO:\n",
        "\t crashfile: /scratch/sanjay/GRT/fmri_data/testing/crash-20170613-160346-snara025-Slice_time_correction.b35-daacd46b-3a94-4031-9933-f73a293fe195.pklz\n"
       ]
      },
      {
       "output_type": "stream",
       "stream": "stdout",
       "text": [
        "170613-16:03:48,499 workflow ERROR:\n",
        "\t could not run node: preproc.Slice_time_correction.b36\n"
       ]
      },
      {
       "output_type": "stream",
       "stream": "stdout",
       "text": [
        "170613-16:03:48,500 workflow INFO:\n",
        "\t crashfile: /scratch/sanjay/GRT/fmri_data/testing/crash-20170613-160346-snara025-Slice_time_correction.b36-31bdad8c-7d72-42e1-9b1b-7491fc99ff6b.pklz\n"
       ]
      },
      {
       "output_type": "stream",
       "stream": "stdout",
       "text": [
        "170613-16:03:48,501 workflow ERROR:\n",
        "\t could not run node: preproc.Slice_time_correction.b32\n"
       ]
      },
      {
       "output_type": "stream",
       "stream": "stdout",
       "text": [
        "170613-16:03:48,502 workflow INFO:\n",
        "\t crashfile: /scratch/sanjay/GRT/fmri_data/testing/crash-20170613-160346-snara025-Slice_time_correction.b32-14fc9d28-8de7-442b-8b07-722c5ae09ee2.pklz\n"
       ]
      },
      {
       "output_type": "stream",
       "stream": "stdout",
       "text": [
        "170613-16:03:48,503 workflow ERROR:\n",
        "\t could not run node: preproc.Slice_time_correction.b14\n"
       ]
      },
      {
       "output_type": "stream",
       "stream": "stdout",
       "text": [
        "170613-16:03:48,504 workflow INFO:\n",
        "\t crashfile: /scratch/sanjay/GRT/fmri_data/testing/crash-20170613-160346-snara025-Slice_time_correction.b14-f224db93-d468-4290-b285-bea795119428.pklz\n"
       ]
      },
      {
       "output_type": "stream",
       "stream": "stdout",
       "text": [
        "170613-16:03:48,504 workflow ERROR:\n",
        "\t could not run node: preproc.Slice_time_correction.b03\n"
       ]
      },
      {
       "output_type": "stream",
       "stream": "stdout",
       "text": [
        "170613-16:03:48,505 workflow INFO:\n",
        "\t crashfile: /scratch/sanjay/GRT/fmri_data/testing/crash-20170613-160346-snara025-Slice_time_correction.b03-d291fd48-d984-4b65-bc88-aad82ac1784f.pklz\n"
       ]
      },
      {
       "output_type": "stream",
       "stream": "stdout",
       "text": [
        "170613-16:03:48,506 workflow ERROR:\n",
        "\t could not run node: preproc.Slice_time_correction.b04\n"
       ]
      },
      {
       "output_type": "stream",
       "stream": "stdout",
       "text": [
        "170613-16:03:48,507 workflow INFO:\n",
        "\t crashfile: /scratch/sanjay/GRT/fmri_data/testing/crash-20170613-160346-snara025-Slice_time_correction.b04-20c787d8-0194-4812-8e2a-8d706a033a67.pklz\n"
       ]
      },
      {
       "output_type": "stream",
       "stream": "stdout",
       "text": [
        "170613-16:03:48,508 workflow ERROR:\n",
        "\t could not run node: preproc.Slice_time_correction.b45\n"
       ]
      },
      {
       "output_type": "stream",
       "stream": "stdout",
       "text": [
        "170613-16:03:48,508 workflow INFO:\n",
        "\t crashfile: /scratch/sanjay/GRT/fmri_data/testing/crash-20170613-160346-snara025-Slice_time_correction.b45-18dd2ffa-beb8-49d0-ae77-462a742ad62f.pklz\n"
       ]
      },
      {
       "output_type": "stream",
       "stream": "stdout",
       "text": [
        "170613-16:03:48,509 workflow ERROR:\n",
        "\t could not run node: preproc.Slice_time_correction.b13\n"
       ]
      },
      {
       "output_type": "stream",
       "stream": "stdout",
       "text": [
        "170613-16:03:48,510 workflow INFO:\n",
        "\t crashfile: /scratch/sanjay/GRT/fmri_data/testing/crash-20170613-160346-snara025-Slice_time_correction.b13-2fed894b-24be-4273-b67d-e95f30288ad3.pklz\n"
       ]
      },
      {
       "output_type": "stream",
       "stream": "stdout",
       "text": [
        "170613-16:03:48,511 workflow ERROR:\n",
        "\t could not run node: preproc.Slice_time_correction.b06\n"
       ]
      },
      {
       "output_type": "stream",
       "stream": "stdout",
       "text": [
        "170613-16:03:48,512 workflow INFO:\n",
        "\t crashfile: /scratch/sanjay/GRT/fmri_data/testing/crash-20170613-160346-snara025-Slice_time_correction.b06-5464837a-3ae4-4847-ae61-de9ac2b8d9d4.pklz\n"
       ]
      },
      {
       "output_type": "stream",
       "stream": "stdout",
       "text": [
        "170613-16:03:48,513 workflow ERROR:\n",
        "\t could not run node: preproc.Slice_time_correction.b31\n"
       ]
      },
      {
       "output_type": "stream",
       "stream": "stdout",
       "text": [
        "170613-16:03:48,513 workflow INFO:\n",
        "\t crashfile: /scratch/sanjay/GRT/fmri_data/testing/crash-20170613-160346-snara025-Slice_time_correction.b31-e25668a8-4bfc-4f6e-ba57-0be865fa3314.pklz\n"
       ]
      },
      {
       "output_type": "stream",
       "stream": "stdout",
       "text": [
        "170613-16:03:48,514 workflow ERROR:\n",
        "\t could not run node: preproc.Slice_time_correction.b01\n"
       ]
      },
      {
       "output_type": "stream",
       "stream": "stdout",
       "text": [
        "170613-16:03:48,515 workflow INFO:\n",
        "\t crashfile: /scratch/sanjay/GRT/fmri_data/testing/crash-20170613-160346-snara025-Slice_time_correction.b01-66ec46d1-7883-4999-80ea-da8842cb5e62.pklz\n"
       ]
      },
      {
       "output_type": "stream",
       "stream": "stdout",
       "text": [
        "170613-16:03:48,516 workflow ERROR:\n",
        "\t could not run node: preproc.Slice_time_correction.b41\n"
       ]
      },
      {
       "output_type": "stream",
       "stream": "stdout",
       "text": [
        "170613-16:03:48,517 workflow INFO:\n",
        "\t crashfile: /scratch/sanjay/GRT/fmri_data/testing/crash-20170613-160346-snara025-Slice_time_correction.b41-d4fa2e14-7a0f-40d7-9928-e77bdb91e86b.pklz\n"
       ]
      },
      {
       "output_type": "stream",
       "stream": "stdout",
       "text": [
        "170613-16:03:48,517 workflow INFO:\n",
        "\t ***********************************\n"
       ]
      },
      {
       "ename": "RuntimeError",
       "evalue": "Workflow did not execute cleanly. Check log for details",
       "output_type": "pyerr",
       "traceback": [
        "\u001b[0;31m\u001b[0m",
        "\u001b[0;31mRuntimeError\u001b[0mTraceback (most recent call last)",
        "\u001b[0;32m<ipython-input-26-eb9b2ca174f1>\u001b[0m in \u001b[0;36m<module>\u001b[0;34m()\u001b[0m\n\u001b[0;32m----> 1\u001b[0;31m \u001b[0mpreproc\u001b[0m\u001b[0;34m.\u001b[0m\u001b[0mrun\u001b[0m\u001b[0;34m(\u001b[0m\u001b[0mplugin\u001b[0m\u001b[0;34m=\u001b[0m\u001b[0;34m'IPython'\u001b[0m\u001b[0;34m,\u001b[0m \u001b[0mplugin_args\u001b[0m\u001b[0;34m=\u001b[0m\u001b[0;34m{\u001b[0m \u001b[0;34m'url_file'\u001b[0m\u001b[0;34m:\u001b[0m \u001b[0;34m'/home/snara025/.ipython/profile_myprofile/security/ipcontroller-client.json'\u001b[0m\u001b[0;34m}\u001b[0m\u001b[0;34m)\u001b[0m\u001b[0;34m\u001b[0m\u001b[0m\n\u001b[0m",
        "\u001b[0;32m/home/snara025/miniconda2/envs/fmri/lib/python2.7/site-packages/nipype/pipeline/engine/workflows.pyc\u001b[0m in \u001b[0;36mrun\u001b[0;34m(self, plugin, plugin_args, updatehash)\u001b[0m\n\u001b[1;32m    588\u001b[0m         \u001b[0;32mif\u001b[0m \u001b[0mstr2bool\u001b[0m\u001b[0;34m(\u001b[0m\u001b[0mself\u001b[0m\u001b[0;34m.\u001b[0m\u001b[0mconfig\u001b[0m\u001b[0;34m[\u001b[0m\u001b[0;34m'execution'\u001b[0m\u001b[0;34m]\u001b[0m\u001b[0;34m[\u001b[0m\u001b[0;34m'create_report'\u001b[0m\u001b[0;34m]\u001b[0m\u001b[0;34m)\u001b[0m\u001b[0;34m:\u001b[0m\u001b[0;34m\u001b[0m\u001b[0m\n\u001b[1;32m    589\u001b[0m             \u001b[0mself\u001b[0m\u001b[0;34m.\u001b[0m\u001b[0m_write_report_info\u001b[0m\u001b[0;34m(\u001b[0m\u001b[0mself\u001b[0m\u001b[0;34m.\u001b[0m\u001b[0mbase_dir\u001b[0m\u001b[0;34m,\u001b[0m \u001b[0mself\u001b[0m\u001b[0;34m.\u001b[0m\u001b[0mname\u001b[0m\u001b[0;34m,\u001b[0m \u001b[0mexecgraph\u001b[0m\u001b[0;34m)\u001b[0m\u001b[0;34m\u001b[0m\u001b[0m\n\u001b[0;32m--> 590\u001b[0;31m         \u001b[0mrunner\u001b[0m\u001b[0;34m.\u001b[0m\u001b[0mrun\u001b[0m\u001b[0;34m(\u001b[0m\u001b[0mexecgraph\u001b[0m\u001b[0;34m,\u001b[0m \u001b[0mupdatehash\u001b[0m\u001b[0;34m=\u001b[0m\u001b[0mupdatehash\u001b[0m\u001b[0;34m,\u001b[0m \u001b[0mconfig\u001b[0m\u001b[0;34m=\u001b[0m\u001b[0mself\u001b[0m\u001b[0;34m.\u001b[0m\u001b[0mconfig\u001b[0m\u001b[0;34m)\u001b[0m\u001b[0;34m\u001b[0m\u001b[0m\n\u001b[0m\u001b[1;32m    591\u001b[0m         \u001b[0mdatestr\u001b[0m \u001b[0;34m=\u001b[0m \u001b[0mdatetime\u001b[0m\u001b[0;34m.\u001b[0m\u001b[0mutcnow\u001b[0m\u001b[0;34m(\u001b[0m\u001b[0;34m)\u001b[0m\u001b[0;34m.\u001b[0m\u001b[0mstrftime\u001b[0m\u001b[0;34m(\u001b[0m\u001b[0;34m'%Y%m%dT%H%M%S'\u001b[0m\u001b[0;34m)\u001b[0m\u001b[0;34m\u001b[0m\u001b[0m\n\u001b[1;32m    592\u001b[0m         \u001b[0;32mif\u001b[0m \u001b[0mstr2bool\u001b[0m\u001b[0;34m(\u001b[0m\u001b[0mself\u001b[0m\u001b[0;34m.\u001b[0m\u001b[0mconfig\u001b[0m\u001b[0;34m[\u001b[0m\u001b[0;34m'execution'\u001b[0m\u001b[0;34m]\u001b[0m\u001b[0;34m[\u001b[0m\u001b[0;34m'write_provenance'\u001b[0m\u001b[0;34m]\u001b[0m\u001b[0;34m)\u001b[0m\u001b[0;34m:\u001b[0m\u001b[0;34m\u001b[0m\u001b[0m\n",
        "\u001b[0;32m/home/snara025/miniconda2/envs/fmri/lib/python2.7/site-packages/nipype/pipeline/plugins/ipython.pyc\u001b[0m in \u001b[0;36mrun\u001b[0;34m(self, graph, config, updatehash)\u001b[0m\n\u001b[1;32m     86\u001b[0m             \u001b[0;32melse\u001b[0m\u001b[0;34m:\u001b[0m\u001b[0;34m\u001b[0m\u001b[0m\n\u001b[1;32m     87\u001b[0m                 \u001b[0;32mraise\u001b[0m \u001b[0me\u001b[0m\u001b[0;34m\u001b[0m\u001b[0m\n\u001b[0;32m---> 88\u001b[0;31m         \u001b[0;32mreturn\u001b[0m \u001b[0msuper\u001b[0m\u001b[0;34m(\u001b[0m\u001b[0mIPythonPlugin\u001b[0m\u001b[0;34m,\u001b[0m \u001b[0mself\u001b[0m\u001b[0;34m)\u001b[0m\u001b[0;34m.\u001b[0m\u001b[0mrun\u001b[0m\u001b[0;34m(\u001b[0m\u001b[0mgraph\u001b[0m\u001b[0;34m,\u001b[0m \u001b[0mconfig\u001b[0m\u001b[0;34m,\u001b[0m \u001b[0mupdatehash\u001b[0m\u001b[0;34m=\u001b[0m\u001b[0mupdatehash\u001b[0m\u001b[0;34m)\u001b[0m\u001b[0;34m\u001b[0m\u001b[0m\n\u001b[0m\u001b[1;32m     89\u001b[0m \u001b[0;34m\u001b[0m\u001b[0m\n\u001b[1;32m     90\u001b[0m     \u001b[0;32mdef\u001b[0m \u001b[0m_get_result\u001b[0m\u001b[0;34m(\u001b[0m\u001b[0mself\u001b[0m\u001b[0;34m,\u001b[0m \u001b[0mtaskid\u001b[0m\u001b[0;34m)\u001b[0m\u001b[0;34m:\u001b[0m\u001b[0;34m\u001b[0m\u001b[0m\n",
        "\u001b[0;32m/home/snara025/miniconda2/envs/fmri/lib/python2.7/site-packages/nipype/pipeline/plugins/base.pyc\u001b[0m in \u001b[0;36mrun\u001b[0;34m(self, graph, config, updatehash)\u001b[0m\n\u001b[1;32m    277\u001b[0m \u001b[0;34m\u001b[0m\u001b[0m\n\u001b[1;32m    278\u001b[0m         \u001b[0mself\u001b[0m\u001b[0;34m.\u001b[0m\u001b[0m_remove_node_dirs\u001b[0m\u001b[0;34m(\u001b[0m\u001b[0;34m)\u001b[0m\u001b[0;34m\u001b[0m\u001b[0m\n\u001b[0;32m--> 279\u001b[0;31m         \u001b[0mreport_nodes_not_run\u001b[0m\u001b[0;34m(\u001b[0m\u001b[0mnotrun\u001b[0m\u001b[0;34m)\u001b[0m\u001b[0;34m\u001b[0m\u001b[0m\n\u001b[0m\u001b[1;32m    280\u001b[0m \u001b[0;34m\u001b[0m\u001b[0m\n\u001b[1;32m    281\u001b[0m         \u001b[0;31m# close any open resources\u001b[0m\u001b[0;34m\u001b[0m\u001b[0;34m\u001b[0m\u001b[0m\n",
        "\u001b[0;32m/home/snara025/miniconda2/envs/fmri/lib/python2.7/site-packages/nipype/pipeline/plugins/base.pyc\u001b[0m in \u001b[0;36mreport_nodes_not_run\u001b[0;34m(notrun)\u001b[0m\n\u001b[1;32m     99\u001b[0m                 \u001b[0mlogger\u001b[0m\u001b[0;34m.\u001b[0m\u001b[0mdebug\u001b[0m\u001b[0;34m(\u001b[0m\u001b[0msubnode\u001b[0m\u001b[0;34m.\u001b[0m\u001b[0m_id\u001b[0m\u001b[0;34m)\u001b[0m\u001b[0;34m\u001b[0m\u001b[0m\n\u001b[1;32m    100\u001b[0m         \u001b[0mlogger\u001b[0m\u001b[0;34m.\u001b[0m\u001b[0minfo\u001b[0m\u001b[0;34m(\u001b[0m\u001b[0;34m\"***********************************\"\u001b[0m\u001b[0;34m)\u001b[0m\u001b[0;34m\u001b[0m\u001b[0m\n\u001b[0;32m--> 101\u001b[0;31m         raise RuntimeError(('Workflow did not execute cleanly. '\n\u001b[0m\u001b[1;32m    102\u001b[0m                             'Check log for details'))\n\u001b[1;32m    103\u001b[0m \u001b[0;34m\u001b[0m\u001b[0m\n",
        "\u001b[0;31mRuntimeError\u001b[0m: Workflow did not execute cleanly. Check log for details"
       ]
      }
     ],
     "prompt_number": 26
    },
    {
     "cell_type": "markdown",
     "metadata": {},
     "source": [
      "par = np.loadtxt('/scratch/sanjay/GRT/fmri_data/testing/output/datasink/motion/par/sub-02/sub-02_train_1_mcf.nii.gz.par1_bold_mcf.par')\n",
      "fig, axes = plt.subplots(2, 1, figsize=(15, 5))\n",
      "axes[0].set_ylabel('rotation (radians)')\n",
      "axes[0].plot(par[0:, :3])\n",
      "axes[1].plot(par[0:, 3:])\n",
      "axes[1].set_xlabel('time (TR)')\n",
      "axes[1].set_ylabel('translation (mm)')"
     ]
    }
   ],
   "metadata": {}
  }
 ]
}
