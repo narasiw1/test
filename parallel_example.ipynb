{
 "cells": [
  {
   "cell_type": "markdown",
   "metadata": {},
   "source": [
    "## Import Ipyparallel first"
   ]
  },
  {
   "cell_type": "code",
   "execution_count": null,
   "metadata": {
    "collapsed": true
   },
   "outputs": [],
   "source": [
    "import ipyparallel"
   ]
  },
  {
   "cell_type": "markdown",
   "metadata": {},
   "source": [
    "## Define client views"
   ]
  },
  {
   "cell_type": "code",
   "execution_count": null,
   "metadata": {
    "collapsed": true
   },
   "outputs": [],
   "source": [
    "clients = ipyparallel.Client('/home/snara025/.ipython/profile_myprofile/security/ipcontroller-client.json')#, url_file='/home/snara025/.ipython/profile_myprofile/security/ipcontroller-client.json', sshserver='192.168.233.126',\n",
    "\n",
    "lview = clients.load_balanced_view()\n",
    "dview = clients[:]"
   ]
  },
  {
   "cell_type": "markdown",
   "metadata": {},
   "source": [
    "## Use cell magic to execute a given cell on all engines. \n",
    "\n",
    "* For instance, %%px executes the commands in the cell on all engines. The --local flag runs it on the local kernel as well."
   ]
  },
  {
   "cell_type": "code",
   "execution_count": null,
   "metadata": {
    "collapsed": false
   },
   "outputs": [],
   "source": [
    "%%px --local \n",
    "\n",
    "from mvpa2.suite import *\n",
    "\n",
    "import pandas as pd\n",
    "import numpy as np\n",
    "import math"
   ]
  },
  {
   "cell_type": "code",
   "execution_count": null,
   "metadata": {
    "collapsed": false
   },
   "outputs": [],
   "source": [
    "%%px --local\n",
    "\n",
    "runs = np.arange(7,13,1)\n",
    "run_type = ['test','train']\n",
    "runs,run_type = zip(*itertools.product(runs,run_type)) #create a list to iterate over"
   ]
  },
  {
   "cell_type": "markdown",
   "metadata": {},
   "source": [
    "## Define a function that can be used to send tasks to engines"
   ]
  },
  {
   "cell_type": "code",
   "execution_count": null,
   "metadata": {
    "collapsed": false
   },
   "outputs": [],
   "source": [
    "%%px --local\n",
    "\n",
    "    \n",
    "def get_betas_sub_02(runs, run_type):\n",
    "    \n",
    "    global conditions\n",
    "    \n",
    "    data_path = '/scratch/sanjay/GRT/fmri_data/testing/output/final/sub-02_{}_{}.nii' .format(run_type, runs)\n",
    "    V1_mask = '/scratch/sanjay/GRT/fmri_data/testing/sub-02/sub-02_V1_full.nii' \n",
    "    dataset = fmri_dataset(samples = data_path,  mask = V1_mask) # get each volume file\n",
    "    \n",
    "    if len(dataset) > 226: # define a conditions vector with unique values\n",
    "        conditions = np.arange(1,91,1)# for training runs\n",
    "    else: \n",
    "        conditions = np.arange(1,46, 1)\n",
    "    \n",
    "    a = np.zeros(len(conditions)) # get stimulus onsets\n",
    "    a[0] = 10 # i think this should always be ten\n",
    "    for i in range(1,len(conditions),1):\n",
    "        a[i] = a[i-1] + 6\n",
    "        \n",
    "    onsets = a\n",
    "    \n",
    "    voxels = np.asarray(dataset.samples) # get voxel timeseries into an array\n",
    "    \n",
    "    #run R1GLMS with FIR basis\n",
    "    hrfs, betas = he.glm(conditions, onsets, 1.5, voxels, mode='r1glms', basis='fir', verbose=2, n_jobs=-1)\n",
    "    \n",
    "    nimg = map2nifti(dataset, data = betas) # reconvert  the estimated betas into a nifty file\n",
    "    nimg.to_filename('/scratch/sanjay/GRT/deconvolution/sub-02_{}_{}_betas.nii' .format(run_type , runs))# save nifty file\n",
    "    \n",
    "   \n",
    "    \n",
    "    "
   ]
  },
  {
   "cell_type": "markdown",
   "metadata": {},
   "source": [
    "## Send the tasks to the engines via LoadBalancedView"
   ]
  },
  {
   "cell_type": "code",
   "execution_count": null,
   "metadata": {
    "collapsed": false
   },
   "outputs": [],
   "source": [
    "output = lview.map(get_betas_sub_02, runs, run_type)\n",
    "print output.wait_interactive()\n",
    "output.get()"
   ]
  }
 ],
 "metadata": {
  "anaconda-cloud": {},
  "kernelspec": {
   "display_name": "Python [Root]",
   "language": "python",
   "name": "Python [Root]"
  },
  "language_info": {
   "codemirror_mode": {
    "name": "ipython",
    "version": 2
   },
   "file_extension": ".py",
   "mimetype": "text/x-python",
   "name": "python",
   "nbconvert_exporter": "python",
   "pygments_lexer": "ipython2",
   "version": "2.7.12"
  }
 },
 "nbformat": 4,
 "nbformat_minor": 0
}
